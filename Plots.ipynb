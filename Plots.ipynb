{
 "cells": [
  {
   "cell_type": "markdown",
   "metadata": {
    "toc": true
   },
   "source": [
    "<h1>Table of Contents<span class=\"tocSkip\"></span></h1>\n",
    "<div class=\"toc\"><ul class=\"toc-item\"><li><span><a href=\"#The-analysis\" data-toc-modified-id=\"The-analysis-1\"><span class=\"toc-item-num\">1&nbsp;&nbsp;</span>The analysis</a></span></li><li><span><a href=\"#Load-libraries\" data-toc-modified-id=\"Load-libraries-2\"><span class=\"toc-item-num\">2&nbsp;&nbsp;</span>Load libraries</a></span></li><li><span><a href=\"#Import-datasets\" data-toc-modified-id=\"Import-datasets-3\"><span class=\"toc-item-num\">3&nbsp;&nbsp;</span>Import datasets</a></span><ul class=\"toc-item\"><li><span><a href=\"#Worldometer-data-and-WHO-data-for-filling-regions\" data-toc-modified-id=\"Worldometer-data-and-WHO-data-for-filling-regions-3.1\"><span class=\"toc-item-num\">3.1&nbsp;&nbsp;</span>Worldometer data and WHO data for filling regions</a></span></li><li><span><a href=\"#Happiness-report-datasets\" data-toc-modified-id=\"Happiness-report-datasets-3.2\"><span class=\"toc-item-num\">3.2&nbsp;&nbsp;</span>Happiness report datasets</a></span></li></ul></li><li><span><a href=\"#Analyse-correlation\" data-toc-modified-id=\"Analyse-correlation-4\"><span class=\"toc-item-num\">4&nbsp;&nbsp;</span>Analyse correlation</a></span></li><li><span><a href=\"#Analyse-the-score-influence-on-the-pandemic-progress\" data-toc-modified-id=\"Analyse-the-score-influence-on-the-pandemic-progress-5\"><span class=\"toc-item-num\">5&nbsp;&nbsp;</span>Analyse the score influence on the pandemic progress</a></span></li><li><span><a href=\"#Focus-on-significant-correlations\" data-toc-modified-id=\"Focus-on-significant-correlations-6\"><span class=\"toc-item-num\">6&nbsp;&nbsp;</span>Focus on significant correlations</a></span></li></ul></div>"
   ]
  },
  {
   "cell_type": "markdown",
   "metadata": {},
   "source": [
    "# The analysis "
   ]
  },
  {
   "cell_type": "code",
   "execution_count": null,
   "metadata": {},
   "outputs": [],
   "source": []
  },
  {
   "cell_type": "markdown",
   "metadata": {},
   "source": [
    "# Load libraries"
   ]
  },
  {
   "cell_type": "code",
   "execution_count": null,
   "metadata": {},
   "outputs": [],
   "source": []
  },
  {
   "cell_type": "markdown",
   "metadata": {},
   "source": [
    "# Import datasets"
   ]
  },
  {
   "cell_type": "markdown",
   "metadata": {},
   "source": [
    "## Worldometer data and WHO data for filling regions"
   ]
  },
  {
   "cell_type": "code",
   "execution_count": null,
   "metadata": {},
   "outputs": [],
   "source": [
    "china=[\"China\", \"Asia\",\n",
    "       1439323776, 85470, 20, 4634, 0, 80628, 7, 208, 2, 59, 3, 160000000, 111163, 'Western Pacific']\n",
    "worldometer.loc[len(worldometer)] = china"
   ]
  },
  {
   "cell_type": "markdown",
   "metadata": {},
   "source": [
    "## Happiness report datasets"
   ]
  },
  {
   "cell_type": "code",
   "execution_count": null,
   "metadata": {},
   "outputs": [],
   "source": []
  },
  {
   "cell_type": "markdown",
   "metadata": {},
   "source": [
    "# Analyse correlation"
   ]
  },
  {
   "cell_type": "code",
   "execution_count": null,
   "metadata": {},
   "outputs": [],
   "source": []
  },
  {
   "cell_type": "markdown",
   "metadata": {},
   "source": [
    "# Analyse the score influence on the pandemic progress"
   ]
  },
  {
   "cell_type": "code",
   "execution_count": null,
   "metadata": {},
   "outputs": [],
   "source": []
  },
  {
   "cell_type": "markdown",
   "metadata": {},
   "source": [
    "# Focus on significant correlations"
   ]
  },
  {
   "cell_type": "code",
   "execution_count": null,
   "metadata": {},
   "outputs": [],
   "source": []
  }
 ],
 "metadata": {
  "kernelspec": {
   "display_name": "Python 3",
   "language": "python",
   "name": "python3"
  },
  "language_info": {
   "codemirror_mode": {
    "name": "ipython",
    "version": 3
   },
   "file_extension": ".py",
   "mimetype": "text/x-python",
   "name": "python",
   "nbconvert_exporter": "python",
   "pygments_lexer": "ipython3",
   "version": "3.7.1"
  },
  "toc": {
   "base_numbering": 1,
   "nav_menu": {},
   "number_sections": true,
   "sideBar": true,
   "skip_h1_title": false,
   "title_cell": "Table of Contents",
   "title_sidebar": "Contents",
   "toc_cell": true,
   "toc_position": {},
   "toc_section_display": true,
   "toc_window_display": true
  }
 },
 "nbformat": 4,
 "nbformat_minor": 4
}
