{
 "cells": [
  {
   "cell_type": "markdown",
   "metadata": {
    "toc": true
   },
   "source": [
    "<h1>Table of Contents<span class=\"tocSkip\"></span></h1>\n",
    "<div class=\"toc\"><ul class=\"toc-item\"><li><span><a href=\"#The-analysis\" data-toc-modified-id=\"The-analysis-1\"><span class=\"toc-item-num\">1&nbsp;&nbsp;</span>The analysis</a></span></li><li><span><a href=\"#Load-libraries\" data-toc-modified-id=\"Load-libraries-2\"><span class=\"toc-item-num\">2&nbsp;&nbsp;</span>Load libraries</a></span></li><li><span><a href=\"#Import-datasets\" data-toc-modified-id=\"Import-datasets-3\"><span class=\"toc-item-num\">3&nbsp;&nbsp;</span>Import datasets</a></span><ul class=\"toc-item\"><li><span><a href=\"#Worldometer-data-and-WHO-data-for-filling-regions\" data-toc-modified-id=\"Worldometer-data-and-WHO-data-for-filling-regions-3.1\"><span class=\"toc-item-num\">3.1&nbsp;&nbsp;</span>Worldometer data and WHO data for filling regions</a></span></li><li><span><a href=\"#Happiness-report-datasets\" data-toc-modified-id=\"Happiness-report-datasets-3.2\"><span class=\"toc-item-num\">3.2&nbsp;&nbsp;</span>Happiness report datasets</a></span></li></ul></li><li><span><a href=\"#Palettes-and-categories\" data-toc-modified-id=\"Palettes-and-categories-4\"><span class=\"toc-item-num\">4&nbsp;&nbsp;</span>Palettes and categories</a></span><ul class=\"toc-item\"><li><span><a href=\"#Regions\" data-toc-modified-id=\"Regions-4.1\"><span class=\"toc-item-num\">4.1&nbsp;&nbsp;</span>Regions</a></span></li><li><span><a href=\"#Variable-group\" data-toc-modified-id=\"Variable-group-4.2\"><span class=\"toc-item-num\">4.2&nbsp;&nbsp;</span>Variable group</a></span></li></ul></li><li><span><a href=\"#Analyse-correlation\" data-toc-modified-id=\"Analyse-correlation-5\"><span class=\"toc-item-num\">5&nbsp;&nbsp;</span>Analyse correlation</a></span></li><li><span><a href=\"#Analyse-the-score-influence-on-the-pandemic-progress\" data-toc-modified-id=\"Analyse-the-score-influence-on-the-pandemic-progress-6\"><span class=\"toc-item-num\">6&nbsp;&nbsp;</span>Analyse the score influence on the pandemic progress</a></span></li><li><span><a href=\"#Focus-on-significant-correlations\" data-toc-modified-id=\"Focus-on-significant-correlations-7\"><span class=\"toc-item-num\">7&nbsp;&nbsp;</span>Focus on significant correlations</a></span></li></ul></div>"
   ]
  },
  {
   "cell_type": "markdown",
   "metadata": {},
   "source": [
    "# The analysis "
   ]
  },
  {
   "cell_type": "code",
   "execution_count": null,
   "metadata": {},
   "outputs": [],
   "source": []
  },
  {
   "cell_type": "markdown",
   "metadata": {},
   "source": [
    "# Load libraries"
   ]
  },
  {
   "cell_type": "code",
   "execution_count": 1,
   "metadata": {},
   "outputs": [],
   "source": [
    "import pandas as pd\n",
    "import numpy as np\n",
    "import plotly.express as px\n",
    "import plotly.graph_objects as go\n",
    "#import colours as c\n",
    "import re"
   ]
  },
  {
   "cell_type": "markdown",
   "metadata": {},
   "source": [
    "# Import datasets"
   ]
  },
  {
   "cell_type": "markdown",
   "metadata": {},
   "source": [
    "## Worldometer data and WHO data for filling regions"
   ]
  },
  {
   "cell_type": "code",
   "execution_count": 2,
   "metadata": {},
   "outputs": [
    {
     "data": {
      "text/html": [
       "<div>\n",
       "<style scoped>\n",
       "    .dataframe tbody tr th:only-of-type {\n",
       "        vertical-align: middle;\n",
       "    }\n",
       "\n",
       "    .dataframe tbody tr th {\n",
       "        vertical-align: top;\n",
       "    }\n",
       "\n",
       "    .dataframe thead th {\n",
       "        text-align: right;\n",
       "    }\n",
       "</style>\n",
       "<table border=\"1\" class=\"dataframe\">\n",
       "  <thead>\n",
       "    <tr style=\"text-align: right;\">\n",
       "      <th></th>\n",
       "      <th>Country/Region</th>\n",
       "      <th>Continent</th>\n",
       "      <th>Population</th>\n",
       "      <th>TotalCases</th>\n",
       "      <th>NewCases</th>\n",
       "      <th>TotalDeaths</th>\n",
       "      <th>NewDeaths</th>\n",
       "      <th>TotalRecovered</th>\n",
       "      <th>NewRecovered</th>\n",
       "      <th>ActiveCases</th>\n",
       "      <th>Serious,Critical</th>\n",
       "      <th>Tot Cases/1M pop</th>\n",
       "      <th>Deaths/1M pop</th>\n",
       "      <th>TotalTests</th>\n",
       "      <th>Tests/1M pop</th>\n",
       "      <th>WHO Region</th>\n",
       "    </tr>\n",
       "  </thead>\n",
       "  <tbody>\n",
       "    <tr>\n",
       "      <th>0</th>\n",
       "      <td>USA</td>\n",
       "      <td>North America</td>\n",
       "      <td>3.315104e+08</td>\n",
       "      <td>7667817</td>\n",
       "      <td>30905.0</td>\n",
       "      <td>214884.0</td>\n",
       "      <td>273.0</td>\n",
       "      <td>4874445.0</td>\n",
       "      <td>25407.0</td>\n",
       "      <td>2578488.0</td>\n",
       "      <td>14200.0</td>\n",
       "      <td>23130.0</td>\n",
       "      <td>648.0</td>\n",
       "      <td>112261589.0</td>\n",
       "      <td>338637.0</td>\n",
       "      <td>Americas</td>\n",
       "    </tr>\n",
       "    <tr>\n",
       "      <th>1</th>\n",
       "      <td>India</td>\n",
       "      <td>Asia</td>\n",
       "      <td>1.383530e+09</td>\n",
       "      <td>6682073</td>\n",
       "      <td>59893.0</td>\n",
       "      <td>103600.0</td>\n",
       "      <td>886.0</td>\n",
       "      <td>5659110.0</td>\n",
       "      <td>75657.0</td>\n",
       "      <td>919363.0</td>\n",
       "      <td>8944.0</td>\n",
       "      <td>4830.0</td>\n",
       "      <td>75.0</td>\n",
       "      <td>79982394.0</td>\n",
       "      <td>57810.0</td>\n",
       "      <td>South-EastAsia</td>\n",
       "    </tr>\n",
       "    <tr>\n",
       "      <th>2</th>\n",
       "      <td>Brazil</td>\n",
       "      <td>South America</td>\n",
       "      <td>2.129539e+08</td>\n",
       "      <td>4918022</td>\n",
       "      <td>2733.0</td>\n",
       "      <td>146417.0</td>\n",
       "      <td>42.0</td>\n",
       "      <td>4263208.0</td>\n",
       "      <td>0.0</td>\n",
       "      <td>508397.0</td>\n",
       "      <td>8318.0</td>\n",
       "      <td>23094.0</td>\n",
       "      <td>688.0</td>\n",
       "      <td>17900000.0</td>\n",
       "      <td>84056.0</td>\n",
       "      <td>Americas</td>\n",
       "    </tr>\n",
       "    <tr>\n",
       "      <th>3</th>\n",
       "      <td>Russia</td>\n",
       "      <td>Europe</td>\n",
       "      <td>1.459510e+08</td>\n",
       "      <td>1225889</td>\n",
       "      <td>10888.0</td>\n",
       "      <td>21475.0</td>\n",
       "      <td>117.0</td>\n",
       "      <td>982324.0</td>\n",
       "      <td>3181.0</td>\n",
       "      <td>222090.0</td>\n",
       "      <td>2300.0</td>\n",
       "      <td>8399.0</td>\n",
       "      <td>147.0</td>\n",
       "      <td>48042343.0</td>\n",
       "      <td>329168.0</td>\n",
       "      <td>Europe</td>\n",
       "    </tr>\n",
       "    <tr>\n",
       "      <th>4</th>\n",
       "      <td>Colombia</td>\n",
       "      <td>South America</td>\n",
       "      <td>5.102364e+07</td>\n",
       "      <td>855052</td>\n",
       "      <td>0.0</td>\n",
       "      <td>26712.0</td>\n",
       "      <td>0.0</td>\n",
       "      <td>761674.0</td>\n",
       "      <td>0.0</td>\n",
       "      <td>66666.0</td>\n",
       "      <td>2220.0</td>\n",
       "      <td>16758.0</td>\n",
       "      <td>524.0</td>\n",
       "      <td>3894289.0</td>\n",
       "      <td>76323.0</td>\n",
       "      <td>Americas</td>\n",
       "    </tr>\n",
       "  </tbody>\n",
       "</table>\n",
       "</div>"
      ],
      "text/plain": [
       "  Country/Region      Continent    Population  TotalCases  NewCases  \\\n",
       "0            USA  North America  3.315104e+08     7667817   30905.0   \n",
       "1          India           Asia  1.383530e+09     6682073   59893.0   \n",
       "2         Brazil  South America  2.129539e+08     4918022    2733.0   \n",
       "3         Russia         Europe  1.459510e+08     1225889   10888.0   \n",
       "4       Colombia  South America  5.102364e+07      855052       0.0   \n",
       "\n",
       "   TotalDeaths  NewDeaths  TotalRecovered  NewRecovered  ActiveCases  \\\n",
       "0     214884.0      273.0       4874445.0       25407.0    2578488.0   \n",
       "1     103600.0      886.0       5659110.0       75657.0     919363.0   \n",
       "2     146417.0       42.0       4263208.0           0.0     508397.0   \n",
       "3      21475.0      117.0        982324.0        3181.0     222090.0   \n",
       "4      26712.0        0.0        761674.0           0.0      66666.0   \n",
       "\n",
       "   Serious,Critical  Tot Cases/1M pop  Deaths/1M pop   TotalTests  \\\n",
       "0           14200.0           23130.0          648.0  112261589.0   \n",
       "1            8944.0            4830.0           75.0   79982394.0   \n",
       "2            8318.0           23094.0          688.0   17900000.0   \n",
       "3            2300.0            8399.0          147.0   48042343.0   \n",
       "4            2220.0           16758.0          524.0    3894289.0   \n",
       "\n",
       "   Tests/1M pop      WHO Region  \n",
       "0      338637.0        Americas  \n",
       "1       57810.0  South-EastAsia  \n",
       "2       84056.0        Americas  \n",
       "3      329168.0          Europe  \n",
       "4       76323.0        Americas  "
      ]
     },
     "execution_count": 2,
     "metadata": {},
     "output_type": "execute_result"
    }
   ],
   "source": [
    "file = open('datasets/worldometer_data.csv')\n",
    "worldometer = pd.read_csv('datasets/worldometer_data.csv')\n",
    "file.close()\n",
    "worldometer.fillna(0, inplace=True)\n",
    "worldometer.head()"
   ]
  },
  {
   "cell_type": "code",
   "execution_count": 3,
   "metadata": {
    "code_folding": [
     0
    ]
   },
   "outputs": [],
   "source": [
    "china=[\"China\", \"Asia\",\n",
    "       1439323776, 85470, 20, 4634, 0, 80628, 7, 208, 2, 59, 3, 160000000, 111163, 'Western Pacific']\n",
    "worldometer.loc[len(worldometer)] = china"
   ]
  },
  {
   "cell_type": "code",
   "execution_count": 4,
   "metadata": {
    "code_folding": [
     1
    ]
   },
   "outputs": [],
   "source": [
    "l = []\n",
    "for i in worldometer[\"WHO Region\"]:\n",
    "    if i != 0:\n",
    "        l.append(re.sub(r\"(\\w)([A-Z])\", r\"\\1 \\2\", i))\n",
    "    else:\n",
    "        l.append(i)\n",
    "worldometer[\"WHO Region\"] = l"
   ]
  },
  {
   "cell_type": "code",
   "execution_count": 5,
   "metadata": {},
   "outputs": [],
   "source": [
    "w_regions = worldometer[worldometer[\"WHO Region\"]!=0][[\"WHO Region\", \"Country/Region\"]]"
   ]
  },
  {
   "cell_type": "code",
   "execution_count": 6,
   "metadata": {},
   "outputs": [
    {
     "data": {
      "text/html": [
       "<div>\n",
       "<style scoped>\n",
       "    .dataframe tbody tr th:only-of-type {\n",
       "        vertical-align: middle;\n",
       "    }\n",
       "\n",
       "    .dataframe tbody tr th {\n",
       "        vertical-align: top;\n",
       "    }\n",
       "\n",
       "    .dataframe thead th {\n",
       "        text-align: right;\n",
       "    }\n",
       "</style>\n",
       "<table border=\"1\" class=\"dataframe\">\n",
       "  <thead>\n",
       "    <tr style=\"text-align: right;\">\n",
       "      <th></th>\n",
       "      <th>Date</th>\n",
       "      <th>Country/Region</th>\n",
       "      <th>Confirmed</th>\n",
       "      <th>Deaths</th>\n",
       "      <th>Recovered</th>\n",
       "      <th>Active</th>\n",
       "      <th>New cases</th>\n",
       "      <th>New deaths</th>\n",
       "      <th>New recovered</th>\n",
       "      <th>WHO Region</th>\n",
       "    </tr>\n",
       "  </thead>\n",
       "  <tbody>\n",
       "    <tr>\n",
       "      <th>0</th>\n",
       "      <td>2020-01-22</td>\n",
       "      <td>Afghanistan</td>\n",
       "      <td>0</td>\n",
       "      <td>0.0</td>\n",
       "      <td>0</td>\n",
       "      <td>0.0</td>\n",
       "      <td>0</td>\n",
       "      <td>0</td>\n",
       "      <td>0</td>\n",
       "      <td>Eastern Mediterranean</td>\n",
       "    </tr>\n",
       "    <tr>\n",
       "      <th>1</th>\n",
       "      <td>2020-01-22</td>\n",
       "      <td>Albania</td>\n",
       "      <td>0</td>\n",
       "      <td>0.0</td>\n",
       "      <td>0</td>\n",
       "      <td>0.0</td>\n",
       "      <td>0</td>\n",
       "      <td>0</td>\n",
       "      <td>0</td>\n",
       "      <td>Europe</td>\n",
       "    </tr>\n",
       "    <tr>\n",
       "      <th>2</th>\n",
       "      <td>2020-01-22</td>\n",
       "      <td>Algeria</td>\n",
       "      <td>0</td>\n",
       "      <td>0.0</td>\n",
       "      <td>0</td>\n",
       "      <td>0.0</td>\n",
       "      <td>0</td>\n",
       "      <td>0</td>\n",
       "      <td>0</td>\n",
       "      <td>Africa</td>\n",
       "    </tr>\n",
       "    <tr>\n",
       "      <th>3</th>\n",
       "      <td>2020-01-22</td>\n",
       "      <td>Andorra</td>\n",
       "      <td>0</td>\n",
       "      <td>0.0</td>\n",
       "      <td>0</td>\n",
       "      <td>0.0</td>\n",
       "      <td>0</td>\n",
       "      <td>0</td>\n",
       "      <td>0</td>\n",
       "      <td>Europe</td>\n",
       "    </tr>\n",
       "    <tr>\n",
       "      <th>4</th>\n",
       "      <td>2020-01-22</td>\n",
       "      <td>Angola</td>\n",
       "      <td>0</td>\n",
       "      <td>0.0</td>\n",
       "      <td>0</td>\n",
       "      <td>0.0</td>\n",
       "      <td>0</td>\n",
       "      <td>0</td>\n",
       "      <td>0</td>\n",
       "      <td>Africa</td>\n",
       "    </tr>\n",
       "  </tbody>\n",
       "</table>\n",
       "</div>"
      ],
      "text/plain": [
       "         Date Country/Region  Confirmed  Deaths  Recovered  Active  New cases  \\\n",
       "0  2020-01-22    Afghanistan          0     0.0          0     0.0          0   \n",
       "1  2020-01-22        Albania          0     0.0          0     0.0          0   \n",
       "2  2020-01-22        Algeria          0     0.0          0     0.0          0   \n",
       "3  2020-01-22        Andorra          0     0.0          0     0.0          0   \n",
       "4  2020-01-22         Angola          0     0.0          0     0.0          0   \n",
       "\n",
       "   New deaths  New recovered             WHO Region  \n",
       "0           0              0  Eastern Mediterranean  \n",
       "1           0              0                 Europe  \n",
       "2           0              0                 Africa  \n",
       "3           0              0                 Europe  \n",
       "4           0              0                 Africa  "
      ]
     },
     "execution_count": 6,
     "metadata": {},
     "output_type": "execute_result"
    }
   ],
   "source": [
    "file = open('datasets/full_grouped.csv')\n",
    "full_grouped = pd.read_csv('datasets/full_grouped.csv')\n",
    "file.close()\n",
    "full_grouped.fillna(0, inplace=True)\n",
    "full_grouped.head()"
   ]
  },
  {
   "cell_type": "code",
   "execution_count": 7,
   "metadata": {},
   "outputs": [],
   "source": [
    "full_grouped.replace(to_replace='US', value='USA', regex=True, inplace=True)"
   ]
  },
  {
   "cell_type": "markdown",
   "metadata": {},
   "source": [
    "I make a merged dataframe with consecutive WHO Regions - this way I fill wordometer data."
   ]
  },
  {
   "cell_type": "code",
   "execution_count": 8,
   "metadata": {},
   "outputs": [
    {
     "data": {
      "text/html": [
       "<div>\n",
       "<style scoped>\n",
       "    .dataframe tbody tr th:only-of-type {\n",
       "        vertical-align: middle;\n",
       "    }\n",
       "\n",
       "    .dataframe tbody tr th {\n",
       "        vertical-align: top;\n",
       "    }\n",
       "\n",
       "    .dataframe thead th {\n",
       "        text-align: right;\n",
       "    }\n",
       "</style>\n",
       "<table border=\"1\" class=\"dataframe\">\n",
       "  <thead>\n",
       "    <tr style=\"text-align: right;\">\n",
       "      <th></th>\n",
       "      <th>Country/Region</th>\n",
       "      <th>WHO Region</th>\n",
       "    </tr>\n",
       "  </thead>\n",
       "  <tbody>\n",
       "    <tr>\n",
       "      <th>0</th>\n",
       "      <td>Afghanistan</td>\n",
       "      <td>Eastern Mediterranean</td>\n",
       "    </tr>\n",
       "    <tr>\n",
       "      <th>1</th>\n",
       "      <td>Albania</td>\n",
       "      <td>Europe</td>\n",
       "    </tr>\n",
       "    <tr>\n",
       "      <th>2</th>\n",
       "      <td>Algeria</td>\n",
       "      <td>Africa</td>\n",
       "    </tr>\n",
       "    <tr>\n",
       "      <th>3</th>\n",
       "      <td>Andorra</td>\n",
       "      <td>Europe</td>\n",
       "    </tr>\n",
       "    <tr>\n",
       "      <th>4</th>\n",
       "      <td>Angola</td>\n",
       "      <td>Africa</td>\n",
       "    </tr>\n",
       "  </tbody>\n",
       "</table>\n",
       "</div>"
      ],
      "text/plain": [
       "  Country/Region             WHO Region\n",
       "0    Afghanistan  Eastern Mediterranean\n",
       "1        Albania                 Europe\n",
       "2        Algeria                 Africa\n",
       "3        Andorra                 Europe\n",
       "4         Angola                 Africa"
      ]
     },
     "execution_count": 8,
     "metadata": {},
     "output_type": "execute_result"
    }
   ],
   "source": [
    "new_df = pd.concat([full_grouped[[\"Country/Region\", \"WHO Region\"]], w_regions]).drop_duplicates().reset_index(drop=True)\n",
    "new_df.head()"
   ]
  },
  {
   "cell_type": "code",
   "execution_count": 9,
   "metadata": {},
   "outputs": [
    {
     "data": {
      "text/plain": [
       "array(['Americas', 'South-East Asia', 'Europe', 'Africa',\n",
       "       'Eastern Mediterranean', 'Western Pacific'], dtype=object)"
      ]
     },
     "execution_count": 9,
     "metadata": {},
     "output_type": "execute_result"
    }
   ],
   "source": [
    "worldometer = worldometer.drop(\"WHO Region\", 1)\n",
    "worldometer = pd.merge(worldometer, new_df, on='Country/Region')\n",
    "worldometer[\"WHO Region\"].unique()"
   ]
  },
  {
   "cell_type": "code",
   "execution_count": 10,
   "metadata": {},
   "outputs": [],
   "source": [
    "worldometer[\"Recovered/1M pop\"] = worldometer[[\"TotalRecovered\"]].div(worldometer[\"Population\"], axis=0)*10**6\n",
    "\n",
    "worldometer[\"Recovered/1M cases\"] = worldometer[[\"TotalRecovered\"]].div(worldometer[\"TotalCases\"], axis=0)*10**6\n",
    "worldometer[\"Deaths/1M cases\"] = worldometer[[\"TotalDeaths\"]].div(worldometer[\"TotalCases\"], axis=0)*10**6\n",
    "worldometer[\"Confirmed/1M tests\"] = worldometer[[\"TotalCases\"]].div(worldometer[\"TotalTests\"], axis=0)*10**6"
   ]
  },
  {
   "cell_type": "code",
   "execution_count": 11,
   "metadata": {},
   "outputs": [
    {
     "data": {
      "text/plain": [
       "(183, 20)"
      ]
     },
     "execution_count": 11,
     "metadata": {},
     "output_type": "execute_result"
    }
   ],
   "source": [
    "worldometer.shape"
   ]
  },
  {
   "cell_type": "code",
   "execution_count": 12,
   "metadata": {},
   "outputs": [
    {
     "data": {
      "text/html": [
       "<div>\n",
       "<style scoped>\n",
       "    .dataframe tbody tr th:only-of-type {\n",
       "        vertical-align: middle;\n",
       "    }\n",
       "\n",
       "    .dataframe tbody tr th {\n",
       "        vertical-align: top;\n",
       "    }\n",
       "\n",
       "    .dataframe thead th {\n",
       "        text-align: right;\n",
       "    }\n",
       "</style>\n",
       "<table border=\"1\" class=\"dataframe\">\n",
       "  <thead>\n",
       "    <tr style=\"text-align: right;\">\n",
       "      <th></th>\n",
       "      <th>Population</th>\n",
       "      <th>TotalCases</th>\n",
       "      <th>NewCases</th>\n",
       "      <th>TotalDeaths</th>\n",
       "      <th>NewDeaths</th>\n",
       "      <th>TotalRecovered</th>\n",
       "      <th>NewRecovered</th>\n",
       "      <th>ActiveCases</th>\n",
       "      <th>Serious,Critical</th>\n",
       "      <th>Tot Cases/1M pop</th>\n",
       "      <th>Deaths/1M pop</th>\n",
       "      <th>TotalTests</th>\n",
       "      <th>Tests/1M pop</th>\n",
       "      <th>Recovered/1M pop</th>\n",
       "      <th>Recovered/1M cases</th>\n",
       "      <th>Deaths/1M cases</th>\n",
       "      <th>Confirmed/1M tests</th>\n",
       "    </tr>\n",
       "  </thead>\n",
       "  <tbody>\n",
       "    <tr>\n",
       "      <th>count</th>\n",
       "      <td>1.830000e+02</td>\n",
       "      <td>1.830000e+02</td>\n",
       "      <td>183.000000</td>\n",
       "      <td>183.000000</td>\n",
       "      <td>183.000000</td>\n",
       "      <td>1.830000e+02</td>\n",
       "      <td>183.00000</td>\n",
       "      <td>1.830000e+02</td>\n",
       "      <td>183.000000</td>\n",
       "      <td>183.000000</td>\n",
       "      <td>183.000000</td>\n",
       "      <td>1.830000e+02</td>\n",
       "      <td>1.830000e+02</td>\n",
       "      <td>183.000000</td>\n",
       "      <td>183.000000</td>\n",
       "      <td>183.000000</td>\n",
       "      <td>1.830000e+02</td>\n",
       "    </tr>\n",
       "    <tr>\n",
       "      <th>mean</th>\n",
       "      <td>4.244545e+07</td>\n",
       "      <td>1.944830e+05</td>\n",
       "      <td>1103.841530</td>\n",
       "      <td>5705.786885</td>\n",
       "      <td>16.131148</td>\n",
       "      <td>1.435048e+05</td>\n",
       "      <td>885.04918</td>\n",
       "      <td>3.698716e+04</td>\n",
       "      <td>364.256831</td>\n",
       "      <td>5484.852459</td>\n",
       "      <td>129.575301</td>\n",
       "      <td>3.685808e+06</td>\n",
       "      <td>1.323357e+05</td>\n",
       "      <td>4143.981267</td>\n",
       "      <td>758710.846640</td>\n",
       "      <td>24972.103881</td>\n",
       "      <td>inf</td>\n",
       "    </tr>\n",
       "    <tr>\n",
       "      <th>std</th>\n",
       "      <td>1.521722e+08</td>\n",
       "      <td>8.408190e+05</td>\n",
       "      <td>5149.942004</td>\n",
       "      <td>22098.068329</td>\n",
       "      <td>73.207400</td>\n",
       "      <td>6.405577e+05</td>\n",
       "      <td>5934.60739</td>\n",
       "      <td>2.085873e+05</td>\n",
       "      <td>1468.424926</td>\n",
       "      <td>7658.500215</td>\n",
       "      <td>209.713583</td>\n",
       "      <td>1.604706e+07</td>\n",
       "      <td>2.460206e+05</td>\n",
       "      <td>6598.291669</td>\n",
       "      <td>222380.812223</td>\n",
       "      <td>27416.843953</td>\n",
       "      <td>NaN</td>\n",
       "    </tr>\n",
       "    <tr>\n",
       "      <th>min</th>\n",
       "      <td>3.395000e+04</td>\n",
       "      <td>1.400000e+01</td>\n",
       "      <td>0.000000</td>\n",
       "      <td>0.000000</td>\n",
       "      <td>0.000000</td>\n",
       "      <td>0.000000e+00</td>\n",
       "      <td>0.00000</td>\n",
       "      <td>0.000000e+00</td>\n",
       "      <td>0.000000</td>\n",
       "      <td>3.000000</td>\n",
       "      <td>0.000000</td>\n",
       "      <td>0.000000e+00</td>\n",
       "      <td>0.000000e+00</td>\n",
       "      <td>0.000000</td>\n",
       "      <td>0.000000</td>\n",
       "      <td>0.000000</td>\n",
       "      <td>4.173471e+02</td>\n",
       "    </tr>\n",
       "    <tr>\n",
       "      <th>25%</th>\n",
       "      <td>2.759925e+06</td>\n",
       "      <td>3.132500e+03</td>\n",
       "      <td>0.000000</td>\n",
       "      <td>54.000000</td>\n",
       "      <td>0.000000</td>\n",
       "      <td>1.660500e+03</td>\n",
       "      <td>0.00000</td>\n",
       "      <td>2.700000e+02</td>\n",
       "      <td>0.000000</td>\n",
       "      <td>522.500000</td>\n",
       "      <td>8.000000</td>\n",
       "      <td>5.479100e+04</td>\n",
       "      <td>1.108350e+04</td>\n",
       "      <td>312.346087</td>\n",
       "      <td>656473.910246</td>\n",
       "      <td>10687.165847</td>\n",
       "      <td>1.723688e+04</td>\n",
       "    </tr>\n",
       "    <tr>\n",
       "      <th>50%</th>\n",
       "      <td>9.921338e+06</td>\n",
       "      <td>1.452700e+04</td>\n",
       "      <td>28.000000</td>\n",
       "      <td>261.000000</td>\n",
       "      <td>0.000000</td>\n",
       "      <td>8.308000e+03</td>\n",
       "      <td>2.00000</td>\n",
       "      <td>1.981000e+03</td>\n",
       "      <td>5.000000</td>\n",
       "      <td>2698.000000</td>\n",
       "      <td>40.000000</td>\n",
       "      <td>2.966110e+05</td>\n",
       "      <td>4.869300e+04</td>\n",
       "      <td>1474.474308</td>\n",
       "      <td>826229.730187</td>\n",
       "      <td>19241.126496</td>\n",
       "      <td>6.074874e+04</td>\n",
       "    </tr>\n",
       "    <tr>\n",
       "      <th>75%</th>\n",
       "      <td>3.135696e+07</td>\n",
       "      <td>8.458300e+04</td>\n",
       "      <td>445.500000</td>\n",
       "      <td>1532.500000</td>\n",
       "      <td>7.000000</td>\n",
       "      <td>5.320050e+04</td>\n",
       "      <td>273.00000</td>\n",
       "      <td>1.095400e+04</td>\n",
       "      <td>106.500000</td>\n",
       "      <td>7684.000000</td>\n",
       "      <td>142.500000</td>\n",
       "      <td>1.529686e+06</td>\n",
       "      <td>1.485805e+05</td>\n",
       "      <td>4686.575313</td>\n",
       "      <td>922938.720896</td>\n",
       "      <td>30741.337547</td>\n",
       "      <td>1.696575e+05</td>\n",
       "    </tr>\n",
       "    <tr>\n",
       "      <th>max</th>\n",
       "      <td>1.439324e+09</td>\n",
       "      <td>7.667817e+06</td>\n",
       "      <td>59893.000000</td>\n",
       "      <td>214884.000000</td>\n",
       "      <td>886.000000</td>\n",
       "      <td>5.659110e+06</td>\n",
       "      <td>75657.00000</td>\n",
       "      <td>2.578488e+06</td>\n",
       "      <td>14200.000000</td>\n",
       "      <td>45121.000000</td>\n",
       "      <td>1237.000000</td>\n",
       "      <td>1.600000e+08</td>\n",
       "      <td>1.778274e+06</td>\n",
       "      <td>44042.944578</td>\n",
       "      <td>1000000.000000</td>\n",
       "      <td>289563.939245</td>\n",
       "      <td>inf</td>\n",
       "    </tr>\n",
       "  </tbody>\n",
       "</table>\n",
       "</div>"
      ],
      "text/plain": [
       "         Population    TotalCases      NewCases    TotalDeaths   NewDeaths  \\\n",
       "count  1.830000e+02  1.830000e+02    183.000000     183.000000  183.000000   \n",
       "mean   4.244545e+07  1.944830e+05   1103.841530    5705.786885   16.131148   \n",
       "std    1.521722e+08  8.408190e+05   5149.942004   22098.068329   73.207400   \n",
       "min    3.395000e+04  1.400000e+01      0.000000       0.000000    0.000000   \n",
       "25%    2.759925e+06  3.132500e+03      0.000000      54.000000    0.000000   \n",
       "50%    9.921338e+06  1.452700e+04     28.000000     261.000000    0.000000   \n",
       "75%    3.135696e+07  8.458300e+04    445.500000    1532.500000    7.000000   \n",
       "max    1.439324e+09  7.667817e+06  59893.000000  214884.000000  886.000000   \n",
       "\n",
       "       TotalRecovered  NewRecovered   ActiveCases  Serious,Critical  \\\n",
       "count    1.830000e+02     183.00000  1.830000e+02        183.000000   \n",
       "mean     1.435048e+05     885.04918  3.698716e+04        364.256831   \n",
       "std      6.405577e+05    5934.60739  2.085873e+05       1468.424926   \n",
       "min      0.000000e+00       0.00000  0.000000e+00          0.000000   \n",
       "25%      1.660500e+03       0.00000  2.700000e+02          0.000000   \n",
       "50%      8.308000e+03       2.00000  1.981000e+03          5.000000   \n",
       "75%      5.320050e+04     273.00000  1.095400e+04        106.500000   \n",
       "max      5.659110e+06   75657.00000  2.578488e+06      14200.000000   \n",
       "\n",
       "       Tot Cases/1M pop  Deaths/1M pop    TotalTests  Tests/1M pop  \\\n",
       "count        183.000000     183.000000  1.830000e+02  1.830000e+02   \n",
       "mean        5484.852459     129.575301  3.685808e+06  1.323357e+05   \n",
       "std         7658.500215     209.713583  1.604706e+07  2.460206e+05   \n",
       "min            3.000000       0.000000  0.000000e+00  0.000000e+00   \n",
       "25%          522.500000       8.000000  5.479100e+04  1.108350e+04   \n",
       "50%         2698.000000      40.000000  2.966110e+05  4.869300e+04   \n",
       "75%         7684.000000     142.500000  1.529686e+06  1.485805e+05   \n",
       "max        45121.000000    1237.000000  1.600000e+08  1.778274e+06   \n",
       "\n",
       "       Recovered/1M pop  Recovered/1M cases  Deaths/1M cases  \\\n",
       "count        183.000000          183.000000       183.000000   \n",
       "mean        4143.981267       758710.846640     24972.103881   \n",
       "std         6598.291669       222380.812223     27416.843953   \n",
       "min            0.000000            0.000000         0.000000   \n",
       "25%          312.346087       656473.910246     10687.165847   \n",
       "50%         1474.474308       826229.730187     19241.126496   \n",
       "75%         4686.575313       922938.720896     30741.337547   \n",
       "max        44042.944578      1000000.000000    289563.939245   \n",
       "\n",
       "       Confirmed/1M tests  \n",
       "count        1.830000e+02  \n",
       "mean                  inf  \n",
       "std                   NaN  \n",
       "min          4.173471e+02  \n",
       "25%          1.723688e+04  \n",
       "50%          6.074874e+04  \n",
       "75%          1.696575e+05  \n",
       "max                   inf  "
      ]
     },
     "execution_count": 12,
     "metadata": {},
     "output_type": "execute_result"
    }
   ],
   "source": [
    "worldometer.describe()"
   ]
  },
  {
   "cell_type": "code",
   "execution_count": 13,
   "metadata": {},
   "outputs": [],
   "source": [
    "dif = worldometer[worldometer[\"TotalCases\"] != worldometer[\"TotalRecovered\"]+worldometer[\"TotalDeaths\"]+worldometer[\"ActiveCases\"]]"
   ]
  },
  {
   "cell_type": "code",
   "execution_count": null,
   "metadata": {},
   "outputs": [],
   "source": [
    "dif[\"difference\"] = dif[\"TotalCases\"] - (dif[\"TotalRecovered\"]+dif[\"TotalDeaths\"]+dif[\"ActiveCases\"])"
   ]
  },
  {
   "cell_type": "code",
   "execution_count": 15,
   "metadata": {},
   "outputs": [
    {
     "data": {
      "text/html": [
       "<div>\n",
       "<style scoped>\n",
       "    .dataframe tbody tr th:only-of-type {\n",
       "        vertical-align: middle;\n",
       "    }\n",
       "\n",
       "    .dataframe tbody tr th {\n",
       "        vertical-align: top;\n",
       "    }\n",
       "\n",
       "    .dataframe thead th {\n",
       "        text-align: right;\n",
       "    }\n",
       "</style>\n",
       "<table border=\"1\" class=\"dataframe\">\n",
       "  <thead>\n",
       "    <tr style=\"text-align: right;\">\n",
       "      <th></th>\n",
       "      <th>Country/Region</th>\n",
       "      <th>Continent</th>\n",
       "      <th>Population</th>\n",
       "      <th>TotalCases</th>\n",
       "      <th>NewCases</th>\n",
       "      <th>TotalDeaths</th>\n",
       "      <th>NewDeaths</th>\n",
       "      <th>TotalRecovered</th>\n",
       "      <th>NewRecovered</th>\n",
       "      <th>ActiveCases</th>\n",
       "      <th>...</th>\n",
       "      <th>Tot Cases/1M pop</th>\n",
       "      <th>Deaths/1M pop</th>\n",
       "      <th>TotalTests</th>\n",
       "      <th>Tests/1M pop</th>\n",
       "      <th>WHO Region</th>\n",
       "      <th>Recovered/1M pop</th>\n",
       "      <th>Recovered/1M cases</th>\n",
       "      <th>Deaths/1M cases</th>\n",
       "      <th>Confirmed/1M tests</th>\n",
       "      <th>difference</th>\n",
       "    </tr>\n",
       "  </thead>\n",
       "  <tbody>\n",
       "    <tr>\n",
       "      <th>5</th>\n",
       "      <td>Spain</td>\n",
       "      <td>Europe</td>\n",
       "      <td>46759558.0</td>\n",
       "      <td>852838</td>\n",
       "      <td>2099.0</td>\n",
       "      <td>32225.0</td>\n",
       "      <td>46.0</td>\n",
       "      <td>0.0</td>\n",
       "      <td>0.0</td>\n",
       "      <td>0.0</td>\n",
       "      <td>...</td>\n",
       "      <td>18239.0</td>\n",
       "      <td>689.0</td>\n",
       "      <td>13689776.0</td>\n",
       "      <td>292770.0</td>\n",
       "      <td>Europe</td>\n",
       "      <td>0.0</td>\n",
       "      <td>0.0</td>\n",
       "      <td>37785.605238</td>\n",
       "      <td>62297.440075</td>\n",
       "      <td>820613.0</td>\n",
       "    </tr>\n",
       "    <tr>\n",
       "      <th>11</th>\n",
       "      <td>UK</td>\n",
       "      <td>Europe</td>\n",
       "      <td>67979397.0</td>\n",
       "      <td>515571</td>\n",
       "      <td>12594.0</td>\n",
       "      <td>42369.0</td>\n",
       "      <td>19.0</td>\n",
       "      <td>0.0</td>\n",
       "      <td>0.0</td>\n",
       "      <td>0.0</td>\n",
       "      <td>...</td>\n",
       "      <td>7584.0</td>\n",
       "      <td>623.0</td>\n",
       "      <td>25865851.0</td>\n",
       "      <td>380495.0</td>\n",
       "      <td>Europe</td>\n",
       "      <td>0.0</td>\n",
       "      <td>0.0</td>\n",
       "      <td>82178.788179</td>\n",
       "      <td>19932.497098</td>\n",
       "      <td>473202.0</td>\n",
       "    </tr>\n",
       "    <tr>\n",
       "      <th>27</th>\n",
       "      <td>Netherlands</td>\n",
       "      <td>Europe</td>\n",
       "      <td>17144850.0</td>\n",
       "      <td>140471</td>\n",
       "      <td>4579.0</td>\n",
       "      <td>6461.0</td>\n",
       "      <td>7.0</td>\n",
       "      <td>0.0</td>\n",
       "      <td>0.0</td>\n",
       "      <td>0.0</td>\n",
       "      <td>...</td>\n",
       "      <td>8193.0</td>\n",
       "      <td>377.0</td>\n",
       "      <td>2603166.0</td>\n",
       "      <td>151834.0</td>\n",
       "      <td>Europe</td>\n",
       "      <td>0.0</td>\n",
       "      <td>0.0</td>\n",
       "      <td>45995.258808</td>\n",
       "      <td>53961.599068</td>\n",
       "      <td>134010.0</td>\n",
       "    </tr>\n",
       "    <tr>\n",
       "      <th>41</th>\n",
       "      <td>Sweden</td>\n",
       "      <td>Europe</td>\n",
       "      <td>10115730.0</td>\n",
       "      <td>94283</td>\n",
       "      <td>0.0</td>\n",
       "      <td>5895.0</td>\n",
       "      <td>0.0</td>\n",
       "      <td>0.0</td>\n",
       "      <td>0.0</td>\n",
       "      <td>0.0</td>\n",
       "      <td>...</td>\n",
       "      <td>9320.0</td>\n",
       "      <td>583.0</td>\n",
       "      <td>1661484.0</td>\n",
       "      <td>164248.0</td>\n",
       "      <td>Europe</td>\n",
       "      <td>0.0</td>\n",
       "      <td>0.0</td>\n",
       "      <td>62524.527221</td>\n",
       "      <td>56746.258164</td>\n",
       "      <td>88388.0</td>\n",
       "    </tr>\n",
       "  </tbody>\n",
       "</table>\n",
       "<p>4 rows × 21 columns</p>\n",
       "</div>"
      ],
      "text/plain": [
       "   Country/Region Continent  Population  TotalCases  NewCases  TotalDeaths  \\\n",
       "5           Spain    Europe  46759558.0      852838    2099.0      32225.0   \n",
       "11             UK    Europe  67979397.0      515571   12594.0      42369.0   \n",
       "27    Netherlands    Europe  17144850.0      140471    4579.0       6461.0   \n",
       "41         Sweden    Europe  10115730.0       94283       0.0       5895.0   \n",
       "\n",
       "    NewDeaths  TotalRecovered  NewRecovered  ActiveCases  ...  \\\n",
       "5        46.0             0.0           0.0          0.0  ...   \n",
       "11       19.0             0.0           0.0          0.0  ...   \n",
       "27        7.0             0.0           0.0          0.0  ...   \n",
       "41        0.0             0.0           0.0          0.0  ...   \n",
       "\n",
       "    Tot Cases/1M pop  Deaths/1M pop  TotalTests  Tests/1M pop  WHO Region  \\\n",
       "5            18239.0          689.0  13689776.0      292770.0      Europe   \n",
       "11            7584.0          623.0  25865851.0      380495.0      Europe   \n",
       "27            8193.0          377.0   2603166.0      151834.0      Europe   \n",
       "41            9320.0          583.0   1661484.0      164248.0      Europe   \n",
       "\n",
       "   Recovered/1M pop  Recovered/1M cases  Deaths/1M cases  Confirmed/1M tests  \\\n",
       "5               0.0                 0.0     37785.605238        62297.440075   \n",
       "11              0.0                 0.0     82178.788179        19932.497098   \n",
       "27              0.0                 0.0     45995.258808        53961.599068   \n",
       "41              0.0                 0.0     62524.527221        56746.258164   \n",
       "\n",
       "    difference  \n",
       "5     820613.0  \n",
       "11    473202.0  \n",
       "27    134010.0  \n",
       "41     88388.0  \n",
       "\n",
       "[4 rows x 21 columns]"
      ]
     },
     "execution_count": 15,
     "metadata": {},
     "output_type": "execute_result"
    }
   ],
   "source": [
    "dif"
   ]
  },
  {
   "cell_type": "code",
   "execution_count": 16,
   "metadata": {},
   "outputs": [
    {
     "data": {
      "text/plain": [
       "1516213.0"
      ]
     },
     "execution_count": 16,
     "metadata": {},
     "output_type": "execute_result"
    }
   ],
   "source": [
    "dif[\"difference\"].sum()"
   ]
  },
  {
   "cell_type": "markdown",
   "metadata": {},
   "source": [
    "## Happiness report datasets"
   ]
  },
  {
   "cell_type": "code",
   "execution_count": 17,
   "metadata": {
    "code_folding": [
     1
    ]
   },
   "outputs": [],
   "source": [
    "differences_w = ['Trinidad and Tobago','UK','Congo','USA','Czechia','UAE','S. Korea','Palestine',]\n",
    "differences_d = ['Trinidad & Tobago','United Kingdom','Congo (Brazzaville)','United States','Czech Republic',\n",
    "                 'United Arab Emirates','South Korea','Palestinian Territories',]"
   ]
  },
  {
   "cell_type": "code",
   "execution_count": 18,
   "metadata": {},
   "outputs": [
    {
     "data": {
      "text/html": [
       "<div>\n",
       "<style scoped>\n",
       "    .dataframe tbody tr th:only-of-type {\n",
       "        vertical-align: middle;\n",
       "    }\n",
       "\n",
       "    .dataframe tbody tr th {\n",
       "        vertical-align: top;\n",
       "    }\n",
       "\n",
       "    .dataframe thead th {\n",
       "        text-align: right;\n",
       "    }\n",
       "</style>\n",
       "<table border=\"1\" class=\"dataframe\">\n",
       "  <thead>\n",
       "    <tr style=\"text-align: right;\">\n",
       "      <th></th>\n",
       "      <th>Country/Region</th>\n",
       "      <th>Score</th>\n",
       "      <th>GDP</th>\n",
       "      <th>Family</th>\n",
       "      <th>Life expectancy</th>\n",
       "      <th>Freedom</th>\n",
       "      <th>Generosity</th>\n",
       "      <th>Trust</th>\n",
       "    </tr>\n",
       "  </thead>\n",
       "  <tbody>\n",
       "    <tr>\n",
       "      <th>0</th>\n",
       "      <td>Finland</td>\n",
       "      <td>7.769</td>\n",
       "      <td>1.340</td>\n",
       "      <td>1.587</td>\n",
       "      <td>0.986</td>\n",
       "      <td>0.596</td>\n",
       "      <td>0.153</td>\n",
       "      <td>0.393</td>\n",
       "    </tr>\n",
       "    <tr>\n",
       "      <th>1</th>\n",
       "      <td>Denmark</td>\n",
       "      <td>7.600</td>\n",
       "      <td>1.383</td>\n",
       "      <td>1.573</td>\n",
       "      <td>0.996</td>\n",
       "      <td>0.592</td>\n",
       "      <td>0.252</td>\n",
       "      <td>0.410</td>\n",
       "    </tr>\n",
       "    <tr>\n",
       "      <th>2</th>\n",
       "      <td>Norway</td>\n",
       "      <td>7.554</td>\n",
       "      <td>1.488</td>\n",
       "      <td>1.582</td>\n",
       "      <td>1.028</td>\n",
       "      <td>0.603</td>\n",
       "      <td>0.271</td>\n",
       "      <td>0.341</td>\n",
       "    </tr>\n",
       "    <tr>\n",
       "      <th>3</th>\n",
       "      <td>Iceland</td>\n",
       "      <td>7.494</td>\n",
       "      <td>1.380</td>\n",
       "      <td>1.624</td>\n",
       "      <td>1.026</td>\n",
       "      <td>0.591</td>\n",
       "      <td>0.354</td>\n",
       "      <td>0.118</td>\n",
       "    </tr>\n",
       "    <tr>\n",
       "      <th>4</th>\n",
       "      <td>Netherlands</td>\n",
       "      <td>7.488</td>\n",
       "      <td>1.396</td>\n",
       "      <td>1.522</td>\n",
       "      <td>0.999</td>\n",
       "      <td>0.557</td>\n",
       "      <td>0.322</td>\n",
       "      <td>0.298</td>\n",
       "    </tr>\n",
       "  </tbody>\n",
       "</table>\n",
       "</div>"
      ],
      "text/plain": [
       "  Country/Region  Score    GDP  Family  Life expectancy  Freedom  Generosity  \\\n",
       "0        Finland  7.769  1.340   1.587            0.986    0.596       0.153   \n",
       "1        Denmark  7.600  1.383   1.573            0.996    0.592       0.252   \n",
       "2         Norway  7.554  1.488   1.582            1.028    0.603       0.271   \n",
       "3        Iceland  7.494  1.380   1.624            1.026    0.591       0.354   \n",
       "4    Netherlands  7.488  1.396   1.522            0.999    0.557       0.322   \n",
       "\n",
       "   Trust  \n",
       "0  0.393  \n",
       "1  0.410  \n",
       "2  0.341  \n",
       "3  0.118  \n",
       "4  0.298  "
      ]
     },
     "execution_count": 18,
     "metadata": {},
     "output_type": "execute_result"
    }
   ],
   "source": [
    "file = open('datasets/2019.csv')\n",
    "d19 = pd.read_csv('datasets/2019.csv')\n",
    "file.close()\n",
    "d19.columns = [\"rank\", \"Country/Region\", \"Score\", \"GDP\", \"Family\", \"Life expectancy\", \"Freedom\", \"Generosity\", \"Trust\"]\n",
    "d19.drop(columns=[\"rank\"], inplace=True)\n",
    "d19.replace(to_replace=differences_d, value=differences_w, regex=True, inplace=True)\n",
    "d19.head()"
   ]
  },
  {
   "cell_type": "code",
   "execution_count": 19,
   "metadata": {},
   "outputs": [],
   "source": [
    "df = pd.merge(worldometer, d19, on='Country/Region')"
   ]
  },
  {
   "cell_type": "code",
   "execution_count": 20,
   "metadata": {},
   "outputs": [
    {
     "data": {
      "text/html": [
       "<div>\n",
       "<style scoped>\n",
       "    .dataframe tbody tr th:only-of-type {\n",
       "        vertical-align: middle;\n",
       "    }\n",
       "\n",
       "    .dataframe tbody tr th {\n",
       "        vertical-align: top;\n",
       "    }\n",
       "\n",
       "    .dataframe thead th {\n",
       "        text-align: right;\n",
       "    }\n",
       "</style>\n",
       "<table border=\"1\" class=\"dataframe\">\n",
       "  <thead>\n",
       "    <tr style=\"text-align: right;\">\n",
       "      <th></th>\n",
       "      <th>Country/Region</th>\n",
       "      <th>Continent</th>\n",
       "      <th>Population</th>\n",
       "      <th>TotalCases</th>\n",
       "      <th>NewCases</th>\n",
       "      <th>TotalDeaths</th>\n",
       "      <th>NewDeaths</th>\n",
       "      <th>TotalRecovered</th>\n",
       "      <th>NewRecovered</th>\n",
       "      <th>ActiveCases</th>\n",
       "      <th>...</th>\n",
       "      <th>Recovered/1M cases</th>\n",
       "      <th>Deaths/1M cases</th>\n",
       "      <th>Confirmed/1M tests</th>\n",
       "      <th>Score</th>\n",
       "      <th>GDP</th>\n",
       "      <th>Family</th>\n",
       "      <th>Life expectancy</th>\n",
       "      <th>Freedom</th>\n",
       "      <th>Generosity</th>\n",
       "      <th>Trust</th>\n",
       "    </tr>\n",
       "  </thead>\n",
       "  <tbody>\n",
       "    <tr>\n",
       "      <th>0</th>\n",
       "      <td>USA</td>\n",
       "      <td>North America</td>\n",
       "      <td>3.315104e+08</td>\n",
       "      <td>7667817</td>\n",
       "      <td>30905.0</td>\n",
       "      <td>214884.0</td>\n",
       "      <td>273.0</td>\n",
       "      <td>4874445.0</td>\n",
       "      <td>25407.0</td>\n",
       "      <td>2578488.0</td>\n",
       "      <td>...</td>\n",
       "      <td>635701.791005</td>\n",
       "      <td>28024.142986</td>\n",
       "      <td>68303.121916</td>\n",
       "      <td>6.892</td>\n",
       "      <td>1.433</td>\n",
       "      <td>1.457</td>\n",
       "      <td>0.874</td>\n",
       "      <td>0.454</td>\n",
       "      <td>0.280</td>\n",
       "      <td>0.128</td>\n",
       "    </tr>\n",
       "    <tr>\n",
       "      <th>1</th>\n",
       "      <td>India</td>\n",
       "      <td>Asia</td>\n",
       "      <td>1.383530e+09</td>\n",
       "      <td>6682073</td>\n",
       "      <td>59893.0</td>\n",
       "      <td>103600.0</td>\n",
       "      <td>886.0</td>\n",
       "      <td>5659110.0</td>\n",
       "      <td>75657.0</td>\n",
       "      <td>919363.0</td>\n",
       "      <td>...</td>\n",
       "      <td>846909.334873</td>\n",
       "      <td>15504.170637</td>\n",
       "      <td>83544.298511</td>\n",
       "      <td>4.015</td>\n",
       "      <td>0.755</td>\n",
       "      <td>0.765</td>\n",
       "      <td>0.588</td>\n",
       "      <td>0.498</td>\n",
       "      <td>0.200</td>\n",
       "      <td>0.085</td>\n",
       "    </tr>\n",
       "    <tr>\n",
       "      <th>2</th>\n",
       "      <td>Brazil</td>\n",
       "      <td>South America</td>\n",
       "      <td>2.129539e+08</td>\n",
       "      <td>4918022</td>\n",
       "      <td>2733.0</td>\n",
       "      <td>146417.0</td>\n",
       "      <td>42.0</td>\n",
       "      <td>4263208.0</td>\n",
       "      <td>0.0</td>\n",
       "      <td>508397.0</td>\n",
       "      <td>...</td>\n",
       "      <td>866854.194634</td>\n",
       "      <td>29771.521966</td>\n",
       "      <td>274749.832402</td>\n",
       "      <td>6.300</td>\n",
       "      <td>1.004</td>\n",
       "      <td>1.439</td>\n",
       "      <td>0.802</td>\n",
       "      <td>0.390</td>\n",
       "      <td>0.099</td>\n",
       "      <td>0.086</td>\n",
       "    </tr>\n",
       "    <tr>\n",
       "      <th>3</th>\n",
       "      <td>Russia</td>\n",
       "      <td>Europe</td>\n",
       "      <td>1.459510e+08</td>\n",
       "      <td>1225889</td>\n",
       "      <td>10888.0</td>\n",
       "      <td>21475.0</td>\n",
       "      <td>117.0</td>\n",
       "      <td>982324.0</td>\n",
       "      <td>3181.0</td>\n",
       "      <td>222090.0</td>\n",
       "      <td>...</td>\n",
       "      <td>801315.616667</td>\n",
       "      <td>17517.899255</td>\n",
       "      <td>25516.844589</td>\n",
       "      <td>5.648</td>\n",
       "      <td>1.183</td>\n",
       "      <td>1.452</td>\n",
       "      <td>0.726</td>\n",
       "      <td>0.334</td>\n",
       "      <td>0.082</td>\n",
       "      <td>0.031</td>\n",
       "    </tr>\n",
       "    <tr>\n",
       "      <th>4</th>\n",
       "      <td>Colombia</td>\n",
       "      <td>South America</td>\n",
       "      <td>5.102364e+07</td>\n",
       "      <td>855052</td>\n",
       "      <td>0.0</td>\n",
       "      <td>26712.0</td>\n",
       "      <td>0.0</td>\n",
       "      <td>761674.0</td>\n",
       "      <td>0.0</td>\n",
       "      <td>66666.0</td>\n",
       "      <td>...</td>\n",
       "      <td>890792.606765</td>\n",
       "      <td>31240.205274</td>\n",
       "      <td>219565.625458</td>\n",
       "      <td>6.125</td>\n",
       "      <td>0.985</td>\n",
       "      <td>1.410</td>\n",
       "      <td>0.841</td>\n",
       "      <td>0.470</td>\n",
       "      <td>0.099</td>\n",
       "      <td>0.034</td>\n",
       "    </tr>\n",
       "    <tr>\n",
       "      <th>...</th>\n",
       "      <td>...</td>\n",
       "      <td>...</td>\n",
       "      <td>...</td>\n",
       "      <td>...</td>\n",
       "      <td>...</td>\n",
       "      <td>...</td>\n",
       "      <td>...</td>\n",
       "      <td>...</td>\n",
       "      <td>...</td>\n",
       "      <td>...</td>\n",
       "      <td>...</td>\n",
       "      <td>...</td>\n",
       "      <td>...</td>\n",
       "      <td>...</td>\n",
       "      <td>...</td>\n",
       "      <td>...</td>\n",
       "      <td>...</td>\n",
       "      <td>...</td>\n",
       "      <td>...</td>\n",
       "      <td>...</td>\n",
       "      <td>...</td>\n",
       "    </tr>\n",
       "    <tr>\n",
       "      <th>144</th>\n",
       "      <td>Mongolia</td>\n",
       "      <td>Asia</td>\n",
       "      <td>3.291861e+06</td>\n",
       "      <td>314</td>\n",
       "      <td>1.0</td>\n",
       "      <td>0.0</td>\n",
       "      <td>0.0</td>\n",
       "      <td>307.0</td>\n",
       "      <td>0.0</td>\n",
       "      <td>7.0</td>\n",
       "      <td>...</td>\n",
       "      <td>977707.006369</td>\n",
       "      <td>0.000000</td>\n",
       "      <td>4263.929061</td>\n",
       "      <td>5.285</td>\n",
       "      <td>0.948</td>\n",
       "      <td>1.531</td>\n",
       "      <td>0.667</td>\n",
       "      <td>0.317</td>\n",
       "      <td>0.235</td>\n",
       "      <td>0.038</td>\n",
       "    </tr>\n",
       "    <tr>\n",
       "      <th>145</th>\n",
       "      <td>Bhutan</td>\n",
       "      <td>Asia</td>\n",
       "      <td>7.738120e+05</td>\n",
       "      <td>298</td>\n",
       "      <td>15.0</td>\n",
       "      <td>0.0</td>\n",
       "      <td>0.0</td>\n",
       "      <td>237.0</td>\n",
       "      <td>7.0</td>\n",
       "      <td>61.0</td>\n",
       "      <td>...</td>\n",
       "      <td>795302.013423</td>\n",
       "      <td>0.000000</td>\n",
       "      <td>2091.081328</td>\n",
       "      <td>5.082</td>\n",
       "      <td>0.813</td>\n",
       "      <td>1.321</td>\n",
       "      <td>0.604</td>\n",
       "      <td>0.457</td>\n",
       "      <td>0.370</td>\n",
       "      <td>0.167</td>\n",
       "    </tr>\n",
       "    <tr>\n",
       "      <th>146</th>\n",
       "      <td>Cambodia</td>\n",
       "      <td>Asia</td>\n",
       "      <td>1.677868e+07</td>\n",
       "      <td>280</td>\n",
       "      <td>2.0</td>\n",
       "      <td>0.0</td>\n",
       "      <td>0.0</td>\n",
       "      <td>275.0</td>\n",
       "      <td>0.0</td>\n",
       "      <td>5.0</td>\n",
       "      <td>...</td>\n",
       "      <td>982142.857143</td>\n",
       "      <td>0.000000</td>\n",
       "      <td>1942.838904</td>\n",
       "      <td>4.700</td>\n",
       "      <td>0.574</td>\n",
       "      <td>1.122</td>\n",
       "      <td>0.637</td>\n",
       "      <td>0.609</td>\n",
       "      <td>0.232</td>\n",
       "      <td>0.062</td>\n",
       "    </tr>\n",
       "    <tr>\n",
       "      <th>147</th>\n",
       "      <td>Laos</td>\n",
       "      <td>Asia</td>\n",
       "      <td>7.302776e+06</td>\n",
       "      <td>23</td>\n",
       "      <td>0.0</td>\n",
       "      <td>0.0</td>\n",
       "      <td>0.0</td>\n",
       "      <td>22.0</td>\n",
       "      <td>0.0</td>\n",
       "      <td>1.0</td>\n",
       "      <td>...</td>\n",
       "      <td>956521.739130</td>\n",
       "      <td>0.000000</td>\n",
       "      <td>417.347124</td>\n",
       "      <td>4.796</td>\n",
       "      <td>0.764</td>\n",
       "      <td>1.030</td>\n",
       "      <td>0.551</td>\n",
       "      <td>0.547</td>\n",
       "      <td>0.266</td>\n",
       "      <td>0.164</td>\n",
       "    </tr>\n",
       "    <tr>\n",
       "      <th>148</th>\n",
       "      <td>China</td>\n",
       "      <td>Asia</td>\n",
       "      <td>1.439324e+09</td>\n",
       "      <td>85470</td>\n",
       "      <td>20.0</td>\n",
       "      <td>4634.0</td>\n",
       "      <td>0.0</td>\n",
       "      <td>80628.0</td>\n",
       "      <td>7.0</td>\n",
       "      <td>208.0</td>\n",
       "      <td>...</td>\n",
       "      <td>943348.543349</td>\n",
       "      <td>54217.854218</td>\n",
       "      <td>534.187500</td>\n",
       "      <td>5.191</td>\n",
       "      <td>1.029</td>\n",
       "      <td>1.125</td>\n",
       "      <td>0.893</td>\n",
       "      <td>0.521</td>\n",
       "      <td>0.058</td>\n",
       "      <td>0.100</td>\n",
       "    </tr>\n",
       "  </tbody>\n",
       "</table>\n",
       "<p>149 rows × 27 columns</p>\n",
       "</div>"
      ],
      "text/plain": [
       "    Country/Region      Continent    Population  TotalCases  NewCases  \\\n",
       "0              USA  North America  3.315104e+08     7667817   30905.0   \n",
       "1            India           Asia  1.383530e+09     6682073   59893.0   \n",
       "2           Brazil  South America  2.129539e+08     4918022    2733.0   \n",
       "3           Russia         Europe  1.459510e+08     1225889   10888.0   \n",
       "4         Colombia  South America  5.102364e+07      855052       0.0   \n",
       "..             ...            ...           ...         ...       ...   \n",
       "144       Mongolia           Asia  3.291861e+06         314       1.0   \n",
       "145         Bhutan           Asia  7.738120e+05         298      15.0   \n",
       "146       Cambodia           Asia  1.677868e+07         280       2.0   \n",
       "147           Laos           Asia  7.302776e+06          23       0.0   \n",
       "148          China           Asia  1.439324e+09       85470      20.0   \n",
       "\n",
       "     TotalDeaths  NewDeaths  TotalRecovered  NewRecovered  ActiveCases  ...  \\\n",
       "0       214884.0      273.0       4874445.0       25407.0    2578488.0  ...   \n",
       "1       103600.0      886.0       5659110.0       75657.0     919363.0  ...   \n",
       "2       146417.0       42.0       4263208.0           0.0     508397.0  ...   \n",
       "3        21475.0      117.0        982324.0        3181.0     222090.0  ...   \n",
       "4        26712.0        0.0        761674.0           0.0      66666.0  ...   \n",
       "..           ...        ...             ...           ...          ...  ...   \n",
       "144          0.0        0.0           307.0           0.0          7.0  ...   \n",
       "145          0.0        0.0           237.0           7.0         61.0  ...   \n",
       "146          0.0        0.0           275.0           0.0          5.0  ...   \n",
       "147          0.0        0.0            22.0           0.0          1.0  ...   \n",
       "148       4634.0        0.0         80628.0           7.0        208.0  ...   \n",
       "\n",
       "     Recovered/1M cases  Deaths/1M cases  Confirmed/1M tests  Score    GDP  \\\n",
       "0         635701.791005     28024.142986        68303.121916  6.892  1.433   \n",
       "1         846909.334873     15504.170637        83544.298511  4.015  0.755   \n",
       "2         866854.194634     29771.521966       274749.832402  6.300  1.004   \n",
       "3         801315.616667     17517.899255        25516.844589  5.648  1.183   \n",
       "4         890792.606765     31240.205274       219565.625458  6.125  0.985   \n",
       "..                  ...              ...                 ...    ...    ...   \n",
       "144       977707.006369         0.000000         4263.929061  5.285  0.948   \n",
       "145       795302.013423         0.000000         2091.081328  5.082  0.813   \n",
       "146       982142.857143         0.000000         1942.838904  4.700  0.574   \n",
       "147       956521.739130         0.000000          417.347124  4.796  0.764   \n",
       "148       943348.543349     54217.854218          534.187500  5.191  1.029   \n",
       "\n",
       "    Family  Life expectancy  Freedom  Generosity  Trust  \n",
       "0    1.457            0.874    0.454       0.280  0.128  \n",
       "1    0.765            0.588    0.498       0.200  0.085  \n",
       "2    1.439            0.802    0.390       0.099  0.086  \n",
       "3    1.452            0.726    0.334       0.082  0.031  \n",
       "4    1.410            0.841    0.470       0.099  0.034  \n",
       "..     ...              ...      ...         ...    ...  \n",
       "144  1.531            0.667    0.317       0.235  0.038  \n",
       "145  1.321            0.604    0.457       0.370  0.167  \n",
       "146  1.122            0.637    0.609       0.232  0.062  \n",
       "147  1.030            0.551    0.547       0.266  0.164  \n",
       "148  1.125            0.893    0.521       0.058  0.100  \n",
       "\n",
       "[149 rows x 27 columns]"
      ]
     },
     "execution_count": 20,
     "metadata": {},
     "output_type": "execute_result"
    }
   ],
   "source": [
    "df"
   ]
  },
  {
   "cell_type": "markdown",
   "metadata": {},
   "source": [
    "# Palettes and categories"
   ]
  },
  {
   "cell_type": "markdown",
   "metadata": {},
   "source": [
    "I use divik package to have consistent color theme for all palettes, no matter their length."
   ]
  },
  {
   "cell_type": "code",
   "execution_count": 21,
   "metadata": {},
   "outputs": [],
   "source": [
    "from ast import literal_eval as make_tuple\n",
    "from divik._inspect.color import make_colormap"
   ]
  },
  {
   "cell_type": "code",
   "execution_count": 22,
   "metadata": {
    "code_folding": [
     0
    ]
   },
   "outputs": [],
   "source": [
    "def make_palette(length):\n",
    "    l = [i for i in range(length)]\n",
    "    p = make_colormap(l)\n",
    "    palette = []\n",
    "    for i in p:\n",
    "        palette.append(i[1])\n",
    "    return palette"
   ]
  },
  {
   "cell_type": "markdown",
   "metadata": {},
   "source": [
    "## Regions"
   ]
  },
  {
   "cell_type": "markdown",
   "metadata": {},
   "source": [
    "This palette provides colors for:"
   ]
  },
  {
   "cell_type": "code",
   "execution_count": 23,
   "metadata": {},
   "outputs": [
    {
     "data": {
      "text/plain": [
       "array(['Americas', 'South-East Asia', 'Europe', 'Africa',\n",
       "       'Eastern Mediterranean', 'Western Pacific'], dtype=object)"
      ]
     },
     "execution_count": 23,
     "metadata": {},
     "output_type": "execute_result"
    }
   ],
   "source": [
    "worldometer[\"WHO Region\"].unique()"
   ]
  },
  {
   "cell_type": "code",
   "execution_count": 24,
   "metadata": {},
   "outputs": [],
   "source": [
    "region_palette = make_palette(len(worldometer[\"WHO Region\"].unique()))"
   ]
  },
  {
   "cell_type": "markdown",
   "metadata": {},
   "source": [
    "## Variable group"
   ]
  },
  {
   "cell_type": "code",
   "execution_count": 25,
   "metadata": {},
   "outputs": [],
   "source": [
    "var_palette = [\"1.\", \"2.\", \"3.\"]"
   ]
  },
  {
   "cell_type": "markdown",
   "metadata": {},
   "source": [
    "# Analyse correlation"
   ]
  },
  {
   "cell_type": "code",
   "execution_count": 26,
   "metadata": {},
   "outputs": [],
   "source": [
    "from scipy.stats import pearsonr"
   ]
  },
  {
   "cell_type": "code",
   "execution_count": 27,
   "metadata": {},
   "outputs": [],
   "source": [
    "def pearsonr_pval(x,y):\n",
    "    return pearsonr(x,y)[1]"
   ]
  },
  {
   "cell_type": "code",
   "execution_count": 28,
   "metadata": {
    "code_folding": [
     0
    ]
   },
   "outputs": [],
   "source": [
    "to_use=[['Tot Cases/1M pop', 'Deaths/1M pop', 'Tests/1M pop', 'Recovered/1M pop'],\n",
    "       ['Recovered/1M cases', 'Deaths/1M cases', 'Confirmed/1M tests'],\n",
    "       ['GDP', 'Family', 'Life expectancy', 'Freedom', 'Generosity', 'Trust']]"
   ]
  },
  {
   "cell_type": "code",
   "execution_count": 29,
   "metadata": {
    "code_folding": []
   },
   "outputs": [],
   "source": [
    "def update_corr(cval, pval):\n",
    "    if pval > 0.05:\n",
    "        return 0\n",
    "    return cval"
   ]
  },
  {
   "cell_type": "code",
   "execution_count": 30,
   "metadata": {
    "code_folding": [
     0,
     29
    ]
   },
   "outputs": [],
   "source": [
    "def correlo(df, to_use, point_size, palette, title, height, width, fontsize, var_palette):\n",
    "    multicat = [var_palette[to_use.index(sublist)] for (sublist) in to_use for item in sublist]\n",
    "    dh = df[[item for sublist in to_use for item in sublist]]\n",
    "    corr = dh.corr()\n",
    "    pval = dh.corr(method=pearsonr_pval)\n",
    "    corr_list = [j for sub in (corr.values.tolist()) for j in sub]\n",
    "    pval_list =  [j for sub in (pval.values.tolist()) for j in sub]\n",
    "    corr_list = [update_corr(cval, pval) for cval, pval in zip(corr_list, pval_list)]\n",
    "    \n",
    "    x = [[i for _ in range(corr.shape[0])] for i in corr.index]\n",
    "    mx = [[i for _ in range(corr.shape[0])] for i in multicat]\n",
    "    x = [[j for sub in (mx) for j in sub],[j for sub in (x) for j in sub]]\n",
    "    y = [multicat* corr.shape[1], [i for i in corr.index] * corr.shape[1]]\n",
    "\n",
    "    size = [j*point_size if j > 0 else -j*point_size for j in corr_list] \n",
    "    # here another if making it 0 for small p-values\n",
    "    colors = corr_list\n",
    "\n",
    "    fig = go.Figure(data=go.Scatter(\n",
    "        y=y,\n",
    "        x=x,\n",
    "        mode='markers',\n",
    "        hovertext=[i if i != 0 else \"\" for i in colors],\n",
    "        hoverinfo=\"text\",\n",
    "        marker=dict(size=size,\n",
    "                    color=colors,\n",
    "                    colorbar=dict(title=\"Correlation\"),\n",
    "                    colorscale=palette, cmid=0)))   \n",
    "\n",
    "    fig.update_layout(\n",
    "        height=height, width=width, font=dict(size=fontsize), title=title)\n",
    "    fig.update_xaxes(\n",
    "        range=[-0.5, corr.shape[0]-0.5],\n",
    "        showgrid=True,\n",
    "        ticks=\"outside\",\n",
    "        tickson=\"boundaries\",\n",
    "        ticklen=0)\n",
    "    fig.update_yaxes(\n",
    "        range=[-0.5, corr.shape[0]-0.5],\n",
    "        showgrid=True,\n",
    "        ticks=\"outside\",\n",
    "        tickson=\"boundaries\",\n",
    "        ticklen=0)\n",
    "    return fig"
   ]
  },
  {
   "cell_type": "code",
   "execution_count": 31,
   "metadata": {},
   "outputs": [],
   "source": [
    "for_correlo = df.dropna()"
   ]
  },
  {
   "cell_type": "code",
   "execution_count": 34,
   "metadata": {
    "code_folding": [
     0
    ],
    "scrolled": false
   },
   "outputs": [
    {
     "data": {
      "application/vnd.plotly.v1+json": {
       "config": {
        "plotlyServerURL": "https://plot.ly"
       },
       "data": [
        {
         "hoverinfo": "text",
         "hovertext": [
          "",
          "0.5930119533781258",
          "0.4128044813098252",
          "0.9517898773925396",
          "",
          "",
          "0.23453353140845803",
          "0.4446652914012308",
          "0.3400953007444782",
          "0.37450369339945255",
          "0.18664084072169673",
          "",
          "",
          "0.5930119533781258",
          "",
          "",
          "0.43225901611714224",
          "-0.2576113021555143",
          "0.34086505779382487",
          "0.3242279360825647",
          "0.3381707356695181",
          "0.3348108847458518",
          "0.38663999111409686",
          "",
          "",
          "",
          "0.4128044813098252",
          "",
          "",
          "0.38870050078916896",
          "",
          "",
          "-0.2870937985809908",
          "0.5830815333611359",
          "0.4133302322521211",
          "0.4862165572109952",
          "0.31506588887763465",
          "",
          "0.3902926655064961",
          "0.9517898773925396",
          "0.43225901611714224",
          "0.38870050078916896",
          "",
          "0.2302557955270729",
          "",
          "0.22359184255255948",
          "0.3799349032702046",
          "0.2626946187741597",
          "0.2811913391390236",
          "0.17089613932560602",
          "",
          "",
          "",
          "-0.2576113021555143",
          "",
          "0.2302557955270729",
          "",
          "-0.1868755719213529",
          "",
          "",
          "",
          "",
          "",
          "",
          "",
          "",
          "0.34086505779382487",
          "",
          "",
          "-0.1868755719213529",
          "",
          "0.28334426042631855",
          "",
          "",
          "",
          "",
          "",
          "",
          "0.23453353140845803",
          "0.3242279360825647",
          "-0.2870937985809908",
          "0.22359184255255948",
          "",
          "0.28334426042631855",
          "",
          "-0.2466787106557616",
          "-0.19773032828890685",
          "-0.2039947325050794",
          "-0.17322394296057492",
          "",
          "-0.2644091270752056",
          "0.4446652914012308",
          "0.3381707356695181",
          "0.5830815333611359",
          "0.3799349032702046",
          "",
          "",
          "-0.2466787106557616",
          "",
          "0.7581817968156124",
          "0.8491422262893947",
          "0.364513319427504",
          "",
          "0.2903747264548697",
          "0.3400953007444782",
          "0.3348108847458518",
          "0.4133302322521211",
          "0.2626946187741597",
          "",
          "",
          "-0.19773032828890685",
          "0.7581817968156124",
          "",
          "0.7327204956871475",
          "0.4456185575810868",
          "",
          "0.17788501836972584",
          "0.37450369339945255",
          "0.38663999111409686",
          "0.4862165572109952",
          "0.2811913391390236",
          "",
          "",
          "-0.2039947325050794",
          "0.8491422262893947",
          "0.7327204956871475",
          "",
          "0.3780874893526948",
          "",
          "0.2977333761374477",
          "0.18664084072169673",
          "",
          "0.31506588887763465",
          "0.17089613932560602",
          "",
          "",
          "-0.17322394296057492",
          "0.364513319427504",
          "0.4456185575810868",
          "0.3780874893526948",
          "",
          "0.2723826835920293",
          "0.4433520911922528",
          "",
          "",
          "",
          "",
          "",
          "",
          "",
          "",
          "",
          "",
          "0.2723826835920293",
          "",
          "0.3481571568745501",
          "",
          "",
          "0.3902926655064961",
          "",
          "",
          "",
          "-0.2644091270752056",
          "0.2903747264548697",
          "0.17788501836972584",
          "0.2977333761374477",
          "0.4433520911922528",
          "0.3481571568745501",
          ""
         ],
         "marker": {
          "cmid": 0,
          "color": [
           0,
           0.5930119533781258,
           0.4128044813098252,
           0.9517898773925396,
           0,
           0,
           0.23453353140845803,
           0.4446652914012308,
           0.3400953007444782,
           0.37450369339945255,
           0.18664084072169673,
           0,
           0,
           0.5930119533781258,
           0,
           0,
           0.43225901611714224,
           -0.2576113021555143,
           0.34086505779382487,
           0.3242279360825647,
           0.3381707356695181,
           0.3348108847458518,
           0.38663999111409686,
           0,
           0,
           0,
           0.4128044813098252,
           0,
           0,
           0.38870050078916896,
           0,
           0,
           -0.2870937985809908,
           0.5830815333611359,
           0.4133302322521211,
           0.4862165572109952,
           0.31506588887763465,
           0,
           0.3902926655064961,
           0.9517898773925396,
           0.43225901611714224,
           0.38870050078916896,
           0,
           0.2302557955270729,
           0,
           0.22359184255255948,
           0.3799349032702046,
           0.2626946187741597,
           0.2811913391390236,
           0.17089613932560602,
           0,
           0,
           0,
           -0.2576113021555143,
           0,
           0.2302557955270729,
           0,
           -0.1868755719213529,
           0,
           0,
           0,
           0,
           0,
           0,
           0,
           0,
           0.34086505779382487,
           0,
           0,
           -0.1868755719213529,
           0,
           0.28334426042631855,
           0,
           0,
           0,
           0,
           0,
           0,
           0.23453353140845803,
           0.3242279360825647,
           -0.2870937985809908,
           0.22359184255255948,
           0,
           0.28334426042631855,
           0,
           -0.2466787106557616,
           -0.19773032828890685,
           -0.2039947325050794,
           -0.17322394296057492,
           0,
           -0.2644091270752056,
           0.4446652914012308,
           0.3381707356695181,
           0.5830815333611359,
           0.3799349032702046,
           0,
           0,
           -0.2466787106557616,
           0,
           0.7581817968156124,
           0.8491422262893947,
           0.364513319427504,
           0,
           0.2903747264548697,
           0.3400953007444782,
           0.3348108847458518,
           0.4133302322521211,
           0.2626946187741597,
           0,
           0,
           -0.19773032828890685,
           0.7581817968156124,
           0,
           0.7327204956871475,
           0.4456185575810868,
           0,
           0.17788501836972584,
           0.37450369339945255,
           0.38663999111409686,
           0.4862165572109952,
           0.2811913391390236,
           0,
           0,
           -0.2039947325050794,
           0.8491422262893947,
           0.7327204956871475,
           0,
           0.3780874893526948,
           0,
           0.2977333761374477,
           0.18664084072169673,
           0,
           0.31506588887763465,
           0.17089613932560602,
           0,
           0,
           -0.17322394296057492,
           0.364513319427504,
           0.4456185575810868,
           0.3780874893526948,
           0,
           0.2723826835920293,
           0.4433520911922528,
           0,
           0,
           0,
           0,
           0,
           0,
           0,
           0,
           0,
           0,
           0.2723826835920293,
           0,
           0.3481571568745501,
           0,
           0,
           0.3902926655064961,
           0,
           0,
           0,
           -0.2644091270752056,
           0.2903747264548697,
           0.17788501836972584,
           0.2977333761374477,
           0.4433520911922528,
           0.3481571568745501,
           0
          ],
          "colorbar": {
           "title": {
            "text": "Correlation"
           }
          },
          "colorscale": [
           [
            0,
            "rgb(5,48,97)"
           ],
           [
            0.1,
            "rgb(33,102,172)"
           ],
           [
            0.2,
            "rgb(67,147,195)"
           ],
           [
            0.3,
            "rgb(146,197,222)"
           ],
           [
            0.4,
            "rgb(209,229,240)"
           ],
           [
            0.5,
            "rgb(247,247,247)"
           ],
           [
            0.6,
            "rgb(253,219,199)"
           ],
           [
            0.7,
            "rgb(244,165,130)"
           ],
           [
            0.8,
            "rgb(214,96,77)"
           ],
           [
            0.9,
            "rgb(178,24,43)"
           ],
           [
            1,
            "rgb(103,0,31)"
           ]
          ],
          "size": [
           0,
           27.278549855393788,
           18.98900614025196,
           43.78233436005682,
           0,
           0,
           10.78854244478907,
           20.454603404456616,
           15.644383834245996,
           17.227169896374818,
           8.58547867319805,
           0,
           0,
           27.278549855393788,
           0,
           0,
           19.883914741388544,
           11.850119899153658,
           15.679792658515943,
           14.914485059797977,
           15.555853840797832,
           15.401300698309182,
           17.785439591248455,
           0,
           0,
           0,
           18.98900614025196,
           0,
           0,
           17.88022303630177,
           0,
           0,
           13.206314734725577,
           26.82175053461225,
           19.01319068359757,
           22.36596163170578,
           14.493030888371194,
           0,
           17.95346261329882,
           43.78233436005682,
           19.883914741388544,
           17.88022303630177,
           0,
           10.591766594245353,
           0,
           10.285224757417737,
           17.477005550429414,
           12.083952463611347,
           12.934801600395087,
           7.861222408977877,
           0,
           0,
           0,
           11.850119899153658,
           0,
           10.591766594245353,
           0,
           8.596276308382233,
           0,
           0,
           0,
           0,
           0,
           0,
           0,
           0,
           15.679792658515943,
           0,
           0,
           8.596276308382233,
           0,
           13.033835979610654,
           0,
           0,
           0,
           0,
           0,
           0,
           10.78854244478907,
           14.914485059797977,
           13.206314734725577,
           10.285224757417737,
           0,
           13.033835979610654,
           0,
           11.347220690165035,
           9.095595101289716,
           9.383757695233653,
           7.968301376186446,
           0,
           12.162819845459456,
           20.454603404456616,
           15.555853840797832,
           26.82175053461225,
           17.477005550429414,
           0,
           0,
           11.347220690165035,
           0,
           34.87636265351817,
           39.060542409312156,
           16.767612693665182,
           0,
           13.357237416924008,
           15.644383834245996,
           15.401300698309182,
           19.01319068359757,
           12.083952463611347,
           0,
           0,
           9.095595101289716,
           34.87636265351817,
           0,
           33.70514280160879,
           20.498453648729992,
           0,
           8.182710845007389,
           17.227169896374818,
           17.785439591248455,
           22.36596163170578,
           12.934801600395087,
           0,
           0,
           9.383757695233653,
           39.060542409312156,
           33.70514280160879,
           0,
           17.392024510223962,
           0,
           13.695735302322595,
           8.58547867319805,
           0,
           14.493030888371194,
           7.861222408977877,
           0,
           0,
           7.968301376186446,
           16.767612693665182,
           20.498453648729992,
           17.392024510223962,
           0,
           12.529603445233347,
           20.394196194843627,
           0,
           0,
           0,
           0,
           0,
           0,
           0,
           0,
           0,
           0,
           12.529603445233347,
           0,
           16.015229216229304,
           0,
           0,
           17.95346261329882,
           0,
           0,
           0,
           12.162819845459456,
           13.357237416924008,
           8.182710845007389,
           13.695735302322595,
           20.394196194843627,
           16.015229216229304,
           0
          ]
         },
         "mode": "markers",
         "type": "scatter",
         "x": [
          [
           "1.",
           "1.",
           "1.",
           "1.",
           "1.",
           "1.",
           "1.",
           "1.",
           "1.",
           "1.",
           "1.",
           "1.",
           "1.",
           "1.",
           "1.",
           "1.",
           "1.",
           "1.",
           "1.",
           "1.",
           "1.",
           "1.",
           "1.",
           "1.",
           "1.",
           "1.",
           "1.",
           "1.",
           "1.",
           "1.",
           "1.",
           "1.",
           "1.",
           "1.",
           "1.",
           "1.",
           "1.",
           "1.",
           "1.",
           "1.",
           "1.",
           "1.",
           "1.",
           "1.",
           "1.",
           "1.",
           "1.",
           "1.",
           "1.",
           "1.",
           "1.",
           "1.",
           "2.",
           "2.",
           "2.",
           "2.",
           "2.",
           "2.",
           "2.",
           "2.",
           "2.",
           "2.",
           "2.",
           "2.",
           "2.",
           "2.",
           "2.",
           "2.",
           "2.",
           "2.",
           "2.",
           "2.",
           "2.",
           "2.",
           "2.",
           "2.",
           "2.",
           "2.",
           "2.",
           "2.",
           "2.",
           "2.",
           "2.",
           "2.",
           "2.",
           "2.",
           "2.",
           "2.",
           "2.",
           "2.",
           "2.",
           "3.",
           "3.",
           "3.",
           "3.",
           "3.",
           "3.",
           "3.",
           "3.",
           "3.",
           "3.",
           "3.",
           "3.",
           "3.",
           "3.",
           "3.",
           "3.",
           "3.",
           "3.",
           "3.",
           "3.",
           "3.",
           "3.",
           "3.",
           "3.",
           "3.",
           "3.",
           "3.",
           "3.",
           "3.",
           "3.",
           "3.",
           "3.",
           "3.",
           "3.",
           "3.",
           "3.",
           "3.",
           "3.",
           "3.",
           "3.",
           "3.",
           "3.",
           "3.",
           "3.",
           "3.",
           "3.",
           "3.",
           "3.",
           "3.",
           "3.",
           "3.",
           "3.",
           "3.",
           "3.",
           "3.",
           "3.",
           "3.",
           "3.",
           "3.",
           "3.",
           "3.",
           "3.",
           "3.",
           "3.",
           "3.",
           "3.",
           "3.",
           "3.",
           "3.",
           "3.",
           "3.",
           "3.",
           "3.",
           "3.",
           "3.",
           "3.",
           "3.",
           "3."
          ],
          [
           "Tot Cases/1M pop",
           "Tot Cases/1M pop",
           "Tot Cases/1M pop",
           "Tot Cases/1M pop",
           "Tot Cases/1M pop",
           "Tot Cases/1M pop",
           "Tot Cases/1M pop",
           "Tot Cases/1M pop",
           "Tot Cases/1M pop",
           "Tot Cases/1M pop",
           "Tot Cases/1M pop",
           "Tot Cases/1M pop",
           "Tot Cases/1M pop",
           "Deaths/1M pop",
           "Deaths/1M pop",
           "Deaths/1M pop",
           "Deaths/1M pop",
           "Deaths/1M pop",
           "Deaths/1M pop",
           "Deaths/1M pop",
           "Deaths/1M pop",
           "Deaths/1M pop",
           "Deaths/1M pop",
           "Deaths/1M pop",
           "Deaths/1M pop",
           "Deaths/1M pop",
           "Tests/1M pop",
           "Tests/1M pop",
           "Tests/1M pop",
           "Tests/1M pop",
           "Tests/1M pop",
           "Tests/1M pop",
           "Tests/1M pop",
           "Tests/1M pop",
           "Tests/1M pop",
           "Tests/1M pop",
           "Tests/1M pop",
           "Tests/1M pop",
           "Tests/1M pop",
           "Recovered/1M pop",
           "Recovered/1M pop",
           "Recovered/1M pop",
           "Recovered/1M pop",
           "Recovered/1M pop",
           "Recovered/1M pop",
           "Recovered/1M pop",
           "Recovered/1M pop",
           "Recovered/1M pop",
           "Recovered/1M pop",
           "Recovered/1M pop",
           "Recovered/1M pop",
           "Recovered/1M pop",
           "Recovered/1M cases",
           "Recovered/1M cases",
           "Recovered/1M cases",
           "Recovered/1M cases",
           "Recovered/1M cases",
           "Recovered/1M cases",
           "Recovered/1M cases",
           "Recovered/1M cases",
           "Recovered/1M cases",
           "Recovered/1M cases",
           "Recovered/1M cases",
           "Recovered/1M cases",
           "Recovered/1M cases",
           "Deaths/1M cases",
           "Deaths/1M cases",
           "Deaths/1M cases",
           "Deaths/1M cases",
           "Deaths/1M cases",
           "Deaths/1M cases",
           "Deaths/1M cases",
           "Deaths/1M cases",
           "Deaths/1M cases",
           "Deaths/1M cases",
           "Deaths/1M cases",
           "Deaths/1M cases",
           "Deaths/1M cases",
           "Confirmed/1M tests",
           "Confirmed/1M tests",
           "Confirmed/1M tests",
           "Confirmed/1M tests",
           "Confirmed/1M tests",
           "Confirmed/1M tests",
           "Confirmed/1M tests",
           "Confirmed/1M tests",
           "Confirmed/1M tests",
           "Confirmed/1M tests",
           "Confirmed/1M tests",
           "Confirmed/1M tests",
           "Confirmed/1M tests",
           "GDP",
           "GDP",
           "GDP",
           "GDP",
           "GDP",
           "GDP",
           "GDP",
           "GDP",
           "GDP",
           "GDP",
           "GDP",
           "GDP",
           "GDP",
           "Family",
           "Family",
           "Family",
           "Family",
           "Family",
           "Family",
           "Family",
           "Family",
           "Family",
           "Family",
           "Family",
           "Family",
           "Family",
           "Life expectancy",
           "Life expectancy",
           "Life expectancy",
           "Life expectancy",
           "Life expectancy",
           "Life expectancy",
           "Life expectancy",
           "Life expectancy",
           "Life expectancy",
           "Life expectancy",
           "Life expectancy",
           "Life expectancy",
           "Life expectancy",
           "Freedom",
           "Freedom",
           "Freedom",
           "Freedom",
           "Freedom",
           "Freedom",
           "Freedom",
           "Freedom",
           "Freedom",
           "Freedom",
           "Freedom",
           "Freedom",
           "Freedom",
           "Generosity",
           "Generosity",
           "Generosity",
           "Generosity",
           "Generosity",
           "Generosity",
           "Generosity",
           "Generosity",
           "Generosity",
           "Generosity",
           "Generosity",
           "Generosity",
           "Generosity",
           "Trust",
           "Trust",
           "Trust",
           "Trust",
           "Trust",
           "Trust",
           "Trust",
           "Trust",
           "Trust",
           "Trust",
           "Trust",
           "Trust",
           "Trust"
          ]
         ],
         "y": [
          [
           "1.",
           "1.",
           "1.",
           "1.",
           "2.",
           "2.",
           "2.",
           "3.",
           "3.",
           "3.",
           "3.",
           "3.",
           "3.",
           "1.",
           "1.",
           "1.",
           "1.",
           "2.",
           "2.",
           "2.",
           "3.",
           "3.",
           "3.",
           "3.",
           "3.",
           "3.",
           "1.",
           "1.",
           "1.",
           "1.",
           "2.",
           "2.",
           "2.",
           "3.",
           "3.",
           "3.",
           "3.",
           "3.",
           "3.",
           "1.",
           "1.",
           "1.",
           "1.",
           "2.",
           "2.",
           "2.",
           "3.",
           "3.",
           "3.",
           "3.",
           "3.",
           "3.",
           "1.",
           "1.",
           "1.",
           "1.",
           "2.",
           "2.",
           "2.",
           "3.",
           "3.",
           "3.",
           "3.",
           "3.",
           "3.",
           "1.",
           "1.",
           "1.",
           "1.",
           "2.",
           "2.",
           "2.",
           "3.",
           "3.",
           "3.",
           "3.",
           "3.",
           "3.",
           "1.",
           "1.",
           "1.",
           "1.",
           "2.",
           "2.",
           "2.",
           "3.",
           "3.",
           "3.",
           "3.",
           "3.",
           "3.",
           "1.",
           "1.",
           "1.",
           "1.",
           "2.",
           "2.",
           "2.",
           "3.",
           "3.",
           "3.",
           "3.",
           "3.",
           "3.",
           "1.",
           "1.",
           "1.",
           "1.",
           "2.",
           "2.",
           "2.",
           "3.",
           "3.",
           "3.",
           "3.",
           "3.",
           "3.",
           "1.",
           "1.",
           "1.",
           "1.",
           "2.",
           "2.",
           "2.",
           "3.",
           "3.",
           "3.",
           "3.",
           "3.",
           "3.",
           "1.",
           "1.",
           "1.",
           "1.",
           "2.",
           "2.",
           "2.",
           "3.",
           "3.",
           "3.",
           "3.",
           "3.",
           "3.",
           "1.",
           "1.",
           "1.",
           "1.",
           "2.",
           "2.",
           "2.",
           "3.",
           "3.",
           "3.",
           "3.",
           "3.",
           "3.",
           "1.",
           "1.",
           "1.",
           "1.",
           "2.",
           "2.",
           "2.",
           "3.",
           "3.",
           "3.",
           "3.",
           "3.",
           "3."
          ],
          [
           "Tot Cases/1M pop",
           "Deaths/1M pop",
           "Tests/1M pop",
           "Recovered/1M pop",
           "Recovered/1M cases",
           "Deaths/1M cases",
           "Confirmed/1M tests",
           "GDP",
           "Family",
           "Life expectancy",
           "Freedom",
           "Generosity",
           "Trust",
           "Tot Cases/1M pop",
           "Deaths/1M pop",
           "Tests/1M pop",
           "Recovered/1M pop",
           "Recovered/1M cases",
           "Deaths/1M cases",
           "Confirmed/1M tests",
           "GDP",
           "Family",
           "Life expectancy",
           "Freedom",
           "Generosity",
           "Trust",
           "Tot Cases/1M pop",
           "Deaths/1M pop",
           "Tests/1M pop",
           "Recovered/1M pop",
           "Recovered/1M cases",
           "Deaths/1M cases",
           "Confirmed/1M tests",
           "GDP",
           "Family",
           "Life expectancy",
           "Freedom",
           "Generosity",
           "Trust",
           "Tot Cases/1M pop",
           "Deaths/1M pop",
           "Tests/1M pop",
           "Recovered/1M pop",
           "Recovered/1M cases",
           "Deaths/1M cases",
           "Confirmed/1M tests",
           "GDP",
           "Family",
           "Life expectancy",
           "Freedom",
           "Generosity",
           "Trust",
           "Tot Cases/1M pop",
           "Deaths/1M pop",
           "Tests/1M pop",
           "Recovered/1M pop",
           "Recovered/1M cases",
           "Deaths/1M cases",
           "Confirmed/1M tests",
           "GDP",
           "Family",
           "Life expectancy",
           "Freedom",
           "Generosity",
           "Trust",
           "Tot Cases/1M pop",
           "Deaths/1M pop",
           "Tests/1M pop",
           "Recovered/1M pop",
           "Recovered/1M cases",
           "Deaths/1M cases",
           "Confirmed/1M tests",
           "GDP",
           "Family",
           "Life expectancy",
           "Freedom",
           "Generosity",
           "Trust",
           "Tot Cases/1M pop",
           "Deaths/1M pop",
           "Tests/1M pop",
           "Recovered/1M pop",
           "Recovered/1M cases",
           "Deaths/1M cases",
           "Confirmed/1M tests",
           "GDP",
           "Family",
           "Life expectancy",
           "Freedom",
           "Generosity",
           "Trust",
           "Tot Cases/1M pop",
           "Deaths/1M pop",
           "Tests/1M pop",
           "Recovered/1M pop",
           "Recovered/1M cases",
           "Deaths/1M cases",
           "Confirmed/1M tests",
           "GDP",
           "Family",
           "Life expectancy",
           "Freedom",
           "Generosity",
           "Trust",
           "Tot Cases/1M pop",
           "Deaths/1M pop",
           "Tests/1M pop",
           "Recovered/1M pop",
           "Recovered/1M cases",
           "Deaths/1M cases",
           "Confirmed/1M tests",
           "GDP",
           "Family",
           "Life expectancy",
           "Freedom",
           "Generosity",
           "Trust",
           "Tot Cases/1M pop",
           "Deaths/1M pop",
           "Tests/1M pop",
           "Recovered/1M pop",
           "Recovered/1M cases",
           "Deaths/1M cases",
           "Confirmed/1M tests",
           "GDP",
           "Family",
           "Life expectancy",
           "Freedom",
           "Generosity",
           "Trust",
           "Tot Cases/1M pop",
           "Deaths/1M pop",
           "Tests/1M pop",
           "Recovered/1M pop",
           "Recovered/1M cases",
           "Deaths/1M cases",
           "Confirmed/1M tests",
           "GDP",
           "Family",
           "Life expectancy",
           "Freedom",
           "Generosity",
           "Trust",
           "Tot Cases/1M pop",
           "Deaths/1M pop",
           "Tests/1M pop",
           "Recovered/1M pop",
           "Recovered/1M cases",
           "Deaths/1M cases",
           "Confirmed/1M tests",
           "GDP",
           "Family",
           "Life expectancy",
           "Freedom",
           "Generosity",
           "Trust",
           "Tot Cases/1M pop",
           "Deaths/1M pop",
           "Tests/1M pop",
           "Recovered/1M pop",
           "Recovered/1M cases",
           "Deaths/1M cases",
           "Confirmed/1M tests",
           "GDP",
           "Family",
           "Life expectancy",
           "Freedom",
           "Generosity",
           "Trust"
          ]
         ]
        }
       ],
       "layout": {
        "font": {
         "size": 14
        },
        "height": 885,
        "template": {
         "data": {
          "bar": [
           {
            "error_x": {
             "color": "#2a3f5f"
            },
            "error_y": {
             "color": "#2a3f5f"
            },
            "marker": {
             "line": {
              "color": "#E5ECF6",
              "width": 0.5
             }
            },
            "type": "bar"
           }
          ],
          "barpolar": [
           {
            "marker": {
             "line": {
              "color": "#E5ECF6",
              "width": 0.5
             }
            },
            "type": "barpolar"
           }
          ],
          "carpet": [
           {
            "aaxis": {
             "endlinecolor": "#2a3f5f",
             "gridcolor": "white",
             "linecolor": "white",
             "minorgridcolor": "white",
             "startlinecolor": "#2a3f5f"
            },
            "baxis": {
             "endlinecolor": "#2a3f5f",
             "gridcolor": "white",
             "linecolor": "white",
             "minorgridcolor": "white",
             "startlinecolor": "#2a3f5f"
            },
            "type": "carpet"
           }
          ],
          "choropleth": [
           {
            "colorbar": {
             "outlinewidth": 0,
             "ticks": ""
            },
            "type": "choropleth"
           }
          ],
          "contour": [
           {
            "colorbar": {
             "outlinewidth": 0,
             "ticks": ""
            },
            "colorscale": [
             [
              0,
              "#0d0887"
             ],
             [
              0.1111111111111111,
              "#46039f"
             ],
             [
              0.2222222222222222,
              "#7201a8"
             ],
             [
              0.3333333333333333,
              "#9c179e"
             ],
             [
              0.4444444444444444,
              "#bd3786"
             ],
             [
              0.5555555555555556,
              "#d8576b"
             ],
             [
              0.6666666666666666,
              "#ed7953"
             ],
             [
              0.7777777777777778,
              "#fb9f3a"
             ],
             [
              0.8888888888888888,
              "#fdca26"
             ],
             [
              1,
              "#f0f921"
             ]
            ],
            "type": "contour"
           }
          ],
          "contourcarpet": [
           {
            "colorbar": {
             "outlinewidth": 0,
             "ticks": ""
            },
            "type": "contourcarpet"
           }
          ],
          "heatmap": [
           {
            "colorbar": {
             "outlinewidth": 0,
             "ticks": ""
            },
            "colorscale": [
             [
              0,
              "#0d0887"
             ],
             [
              0.1111111111111111,
              "#46039f"
             ],
             [
              0.2222222222222222,
              "#7201a8"
             ],
             [
              0.3333333333333333,
              "#9c179e"
             ],
             [
              0.4444444444444444,
              "#bd3786"
             ],
             [
              0.5555555555555556,
              "#d8576b"
             ],
             [
              0.6666666666666666,
              "#ed7953"
             ],
             [
              0.7777777777777778,
              "#fb9f3a"
             ],
             [
              0.8888888888888888,
              "#fdca26"
             ],
             [
              1,
              "#f0f921"
             ]
            ],
            "type": "heatmap"
           }
          ],
          "heatmapgl": [
           {
            "colorbar": {
             "outlinewidth": 0,
             "ticks": ""
            },
            "colorscale": [
             [
              0,
              "#0d0887"
             ],
             [
              0.1111111111111111,
              "#46039f"
             ],
             [
              0.2222222222222222,
              "#7201a8"
             ],
             [
              0.3333333333333333,
              "#9c179e"
             ],
             [
              0.4444444444444444,
              "#bd3786"
             ],
             [
              0.5555555555555556,
              "#d8576b"
             ],
             [
              0.6666666666666666,
              "#ed7953"
             ],
             [
              0.7777777777777778,
              "#fb9f3a"
             ],
             [
              0.8888888888888888,
              "#fdca26"
             ],
             [
              1,
              "#f0f921"
             ]
            ],
            "type": "heatmapgl"
           }
          ],
          "histogram": [
           {
            "marker": {
             "colorbar": {
              "outlinewidth": 0,
              "ticks": ""
             }
            },
            "type": "histogram"
           }
          ],
          "histogram2d": [
           {
            "colorbar": {
             "outlinewidth": 0,
             "ticks": ""
            },
            "colorscale": [
             [
              0,
              "#0d0887"
             ],
             [
              0.1111111111111111,
              "#46039f"
             ],
             [
              0.2222222222222222,
              "#7201a8"
             ],
             [
              0.3333333333333333,
              "#9c179e"
             ],
             [
              0.4444444444444444,
              "#bd3786"
             ],
             [
              0.5555555555555556,
              "#d8576b"
             ],
             [
              0.6666666666666666,
              "#ed7953"
             ],
             [
              0.7777777777777778,
              "#fb9f3a"
             ],
             [
              0.8888888888888888,
              "#fdca26"
             ],
             [
              1,
              "#f0f921"
             ]
            ],
            "type": "histogram2d"
           }
          ],
          "histogram2dcontour": [
           {
            "colorbar": {
             "outlinewidth": 0,
             "ticks": ""
            },
            "colorscale": [
             [
              0,
              "#0d0887"
             ],
             [
              0.1111111111111111,
              "#46039f"
             ],
             [
              0.2222222222222222,
              "#7201a8"
             ],
             [
              0.3333333333333333,
              "#9c179e"
             ],
             [
              0.4444444444444444,
              "#bd3786"
             ],
             [
              0.5555555555555556,
              "#d8576b"
             ],
             [
              0.6666666666666666,
              "#ed7953"
             ],
             [
              0.7777777777777778,
              "#fb9f3a"
             ],
             [
              0.8888888888888888,
              "#fdca26"
             ],
             [
              1,
              "#f0f921"
             ]
            ],
            "type": "histogram2dcontour"
           }
          ],
          "mesh3d": [
           {
            "colorbar": {
             "outlinewidth": 0,
             "ticks": ""
            },
            "type": "mesh3d"
           }
          ],
          "parcoords": [
           {
            "line": {
             "colorbar": {
              "outlinewidth": 0,
              "ticks": ""
             }
            },
            "type": "parcoords"
           }
          ],
          "pie": [
           {
            "automargin": true,
            "type": "pie"
           }
          ],
          "scatter": [
           {
            "marker": {
             "colorbar": {
              "outlinewidth": 0,
              "ticks": ""
             }
            },
            "type": "scatter"
           }
          ],
          "scatter3d": [
           {
            "line": {
             "colorbar": {
              "outlinewidth": 0,
              "ticks": ""
             }
            },
            "marker": {
             "colorbar": {
              "outlinewidth": 0,
              "ticks": ""
             }
            },
            "type": "scatter3d"
           }
          ],
          "scattercarpet": [
           {
            "marker": {
             "colorbar": {
              "outlinewidth": 0,
              "ticks": ""
             }
            },
            "type": "scattercarpet"
           }
          ],
          "scattergeo": [
           {
            "marker": {
             "colorbar": {
              "outlinewidth": 0,
              "ticks": ""
             }
            },
            "type": "scattergeo"
           }
          ],
          "scattergl": [
           {
            "marker": {
             "colorbar": {
              "outlinewidth": 0,
              "ticks": ""
             }
            },
            "type": "scattergl"
           }
          ],
          "scattermapbox": [
           {
            "marker": {
             "colorbar": {
              "outlinewidth": 0,
              "ticks": ""
             }
            },
            "type": "scattermapbox"
           }
          ],
          "scatterpolar": [
           {
            "marker": {
             "colorbar": {
              "outlinewidth": 0,
              "ticks": ""
             }
            },
            "type": "scatterpolar"
           }
          ],
          "scatterpolargl": [
           {
            "marker": {
             "colorbar": {
              "outlinewidth": 0,
              "ticks": ""
             }
            },
            "type": "scatterpolargl"
           }
          ],
          "scatterternary": [
           {
            "marker": {
             "colorbar": {
              "outlinewidth": 0,
              "ticks": ""
             }
            },
            "type": "scatterternary"
           }
          ],
          "surface": [
           {
            "colorbar": {
             "outlinewidth": 0,
             "ticks": ""
            },
            "colorscale": [
             [
              0,
              "#0d0887"
             ],
             [
              0.1111111111111111,
              "#46039f"
             ],
             [
              0.2222222222222222,
              "#7201a8"
             ],
             [
              0.3333333333333333,
              "#9c179e"
             ],
             [
              0.4444444444444444,
              "#bd3786"
             ],
             [
              0.5555555555555556,
              "#d8576b"
             ],
             [
              0.6666666666666666,
              "#ed7953"
             ],
             [
              0.7777777777777778,
              "#fb9f3a"
             ],
             [
              0.8888888888888888,
              "#fdca26"
             ],
             [
              1,
              "#f0f921"
             ]
            ],
            "type": "surface"
           }
          ],
          "table": [
           {
            "cells": {
             "fill": {
              "color": "#EBF0F8"
             },
             "line": {
              "color": "white"
             }
            },
            "header": {
             "fill": {
              "color": "#C8D4E3"
             },
             "line": {
              "color": "white"
             }
            },
            "type": "table"
           }
          ]
         },
         "layout": {
          "annotationdefaults": {
           "arrowcolor": "#2a3f5f",
           "arrowhead": 0,
           "arrowwidth": 1
          },
          "coloraxis": {
           "colorbar": {
            "outlinewidth": 0,
            "ticks": ""
           }
          },
          "colorscale": {
           "diverging": [
            [
             0,
             "#8e0152"
            ],
            [
             0.1,
             "#c51b7d"
            ],
            [
             0.2,
             "#de77ae"
            ],
            [
             0.3,
             "#f1b6da"
            ],
            [
             0.4,
             "#fde0ef"
            ],
            [
             0.5,
             "#f7f7f7"
            ],
            [
             0.6,
             "#e6f5d0"
            ],
            [
             0.7,
             "#b8e186"
            ],
            [
             0.8,
             "#7fbc41"
            ],
            [
             0.9,
             "#4d9221"
            ],
            [
             1,
             "#276419"
            ]
           ],
           "sequential": [
            [
             0,
             "#0d0887"
            ],
            [
             0.1111111111111111,
             "#46039f"
            ],
            [
             0.2222222222222222,
             "#7201a8"
            ],
            [
             0.3333333333333333,
             "#9c179e"
            ],
            [
             0.4444444444444444,
             "#bd3786"
            ],
            [
             0.5555555555555556,
             "#d8576b"
            ],
            [
             0.6666666666666666,
             "#ed7953"
            ],
            [
             0.7777777777777778,
             "#fb9f3a"
            ],
            [
             0.8888888888888888,
             "#fdca26"
            ],
            [
             1,
             "#f0f921"
            ]
           ],
           "sequentialminus": [
            [
             0,
             "#0d0887"
            ],
            [
             0.1111111111111111,
             "#46039f"
            ],
            [
             0.2222222222222222,
             "#7201a8"
            ],
            [
             0.3333333333333333,
             "#9c179e"
            ],
            [
             0.4444444444444444,
             "#bd3786"
            ],
            [
             0.5555555555555556,
             "#d8576b"
            ],
            [
             0.6666666666666666,
             "#ed7953"
            ],
            [
             0.7777777777777778,
             "#fb9f3a"
            ],
            [
             0.8888888888888888,
             "#fdca26"
            ],
            [
             1,
             "#f0f921"
            ]
           ]
          },
          "colorway": [
           "#636efa",
           "#EF553B",
           "#00cc96",
           "#ab63fa",
           "#FFA15A",
           "#19d3f3",
           "#FF6692",
           "#B6E880",
           "#FF97FF",
           "#FECB52"
          ],
          "font": {
           "color": "#2a3f5f"
          },
          "geo": {
           "bgcolor": "white",
           "lakecolor": "white",
           "landcolor": "#E5ECF6",
           "showlakes": true,
           "showland": true,
           "subunitcolor": "white"
          },
          "hoverlabel": {
           "align": "left"
          },
          "hovermode": "closest",
          "mapbox": {
           "style": "light"
          },
          "paper_bgcolor": "white",
          "plot_bgcolor": "#E5ECF6",
          "polar": {
           "angularaxis": {
            "gridcolor": "white",
            "linecolor": "white",
            "ticks": ""
           },
           "bgcolor": "#E5ECF6",
           "radialaxis": {
            "gridcolor": "white",
            "linecolor": "white",
            "ticks": ""
           }
          },
          "scene": {
           "xaxis": {
            "backgroundcolor": "#E5ECF6",
            "gridcolor": "white",
            "gridwidth": 2,
            "linecolor": "white",
            "showbackground": true,
            "ticks": "",
            "zerolinecolor": "white"
           },
           "yaxis": {
            "backgroundcolor": "#E5ECF6",
            "gridcolor": "white",
            "gridwidth": 2,
            "linecolor": "white",
            "showbackground": true,
            "ticks": "",
            "zerolinecolor": "white"
           },
           "zaxis": {
            "backgroundcolor": "#E5ECF6",
            "gridcolor": "white",
            "gridwidth": 2,
            "linecolor": "white",
            "showbackground": true,
            "ticks": "",
            "zerolinecolor": "white"
           }
          },
          "shapedefaults": {
           "line": {
            "color": "#2a3f5f"
           }
          },
          "ternary": {
           "aaxis": {
            "gridcolor": "white",
            "linecolor": "white",
            "ticks": ""
           },
           "baxis": {
            "gridcolor": "white",
            "linecolor": "white",
            "ticks": ""
           },
           "bgcolor": "#E5ECF6",
           "caxis": {
            "gridcolor": "white",
            "linecolor": "white",
            "ticks": ""
           }
          },
          "title": {
           "x": 0.05
          },
          "xaxis": {
           "automargin": true,
           "gridcolor": "white",
           "linecolor": "white",
           "ticks": "",
           "title": {
            "standoff": 15
           },
           "zerolinecolor": "white",
           "zerolinewidth": 2
          },
          "yaxis": {
           "automargin": true,
           "gridcolor": "white",
           "linecolor": "white",
           "ticks": "",
           "title": {
            "standoff": 15
           },
           "zerolinecolor": "white",
           "zerolinewidth": 2
          }
         }
        },
        "title": {
         "text": "Correlogram of disease and country specifics: 149 countries"
        },
        "width": 885,
        "xaxis": {
         "range": [
          -0.5,
          12.5
         ],
         "showgrid": true,
         "ticklen": 0,
         "ticks": "outside",
         "tickson": "boundaries"
        },
        "yaxis": {
         "range": [
          -0.5,
          12.5
         ],
         "showgrid": true,
         "ticklen": 0,
         "ticks": "outside",
         "tickson": "boundaries"
        }
       }
      },
      "text/html": [
       "<div>\n",
       "        \n",
       "        \n",
       "            <div id=\"92835693-544b-4872-bf0e-ed5a96fa35a1\" class=\"plotly-graph-div\" style=\"height:885px; width:885px;\"></div>\n",
       "            <script type=\"text/javascript\">\n",
       "                require([\"plotly\"], function(Plotly) {\n",
       "                    window.PLOTLYENV=window.PLOTLYENV || {};\n",
       "                    \n",
       "                if (document.getElementById(\"92835693-544b-4872-bf0e-ed5a96fa35a1\")) {\n",
       "                    Plotly.newPlot(\n",
       "                        '92835693-544b-4872-bf0e-ed5a96fa35a1',\n",
       "                        [{\"hoverinfo\": \"text\", \"hovertext\": [\"\", \"0.5930119533781258\", \"0.4128044813098252\", \"0.9517898773925396\", \"\", \"\", \"0.23453353140845803\", \"0.4446652914012308\", \"0.3400953007444782\", \"0.37450369339945255\", \"0.18664084072169673\", \"\", \"\", \"0.5930119533781258\", \"\", \"\", \"0.43225901611714224\", \"-0.2576113021555143\", \"0.34086505779382487\", \"0.3242279360825647\", \"0.3381707356695181\", \"0.3348108847458518\", \"0.38663999111409686\", \"\", \"\", \"\", \"0.4128044813098252\", \"\", \"\", \"0.38870050078916896\", \"\", \"\", \"-0.2870937985809908\", \"0.5830815333611359\", \"0.4133302322521211\", \"0.4862165572109952\", \"0.31506588887763465\", \"\", \"0.3902926655064961\", \"0.9517898773925396\", \"0.43225901611714224\", \"0.38870050078916896\", \"\", \"0.2302557955270729\", \"\", \"0.22359184255255948\", \"0.3799349032702046\", \"0.2626946187741597\", \"0.2811913391390236\", \"0.17089613932560602\", \"\", \"\", \"\", \"-0.2576113021555143\", \"\", \"0.2302557955270729\", \"\", \"-0.1868755719213529\", \"\", \"\", \"\", \"\", \"\", \"\", \"\", \"\", \"0.34086505779382487\", \"\", \"\", \"-0.1868755719213529\", \"\", \"0.28334426042631855\", \"\", \"\", \"\", \"\", \"\", \"\", \"0.23453353140845803\", \"0.3242279360825647\", \"-0.2870937985809908\", \"0.22359184255255948\", \"\", \"0.28334426042631855\", \"\", \"-0.2466787106557616\", \"-0.19773032828890685\", \"-0.2039947325050794\", \"-0.17322394296057492\", \"\", \"-0.2644091270752056\", \"0.4446652914012308\", \"0.3381707356695181\", \"0.5830815333611359\", \"0.3799349032702046\", \"\", \"\", \"-0.2466787106557616\", \"\", \"0.7581817968156124\", \"0.8491422262893947\", \"0.364513319427504\", \"\", \"0.2903747264548697\", \"0.3400953007444782\", \"0.3348108847458518\", \"0.4133302322521211\", \"0.2626946187741597\", \"\", \"\", \"-0.19773032828890685\", \"0.7581817968156124\", \"\", \"0.7327204956871475\", \"0.4456185575810868\", \"\", \"0.17788501836972584\", \"0.37450369339945255\", \"0.38663999111409686\", \"0.4862165572109952\", \"0.2811913391390236\", \"\", \"\", \"-0.2039947325050794\", \"0.8491422262893947\", \"0.7327204956871475\", \"\", \"0.3780874893526948\", \"\", \"0.2977333761374477\", \"0.18664084072169673\", \"\", \"0.31506588887763465\", \"0.17089613932560602\", \"\", \"\", \"-0.17322394296057492\", \"0.364513319427504\", \"0.4456185575810868\", \"0.3780874893526948\", \"\", \"0.2723826835920293\", \"0.4433520911922528\", \"\", \"\", \"\", \"\", \"\", \"\", \"\", \"\", \"\", \"\", \"0.2723826835920293\", \"\", \"0.3481571568745501\", \"\", \"\", \"0.3902926655064961\", \"\", \"\", \"\", \"-0.2644091270752056\", \"0.2903747264548697\", \"0.17788501836972584\", \"0.2977333761374477\", \"0.4433520911922528\", \"0.3481571568745501\", \"\"], \"marker\": {\"cmid\": 0, \"color\": [0, 0.5930119533781258, 0.4128044813098252, 0.9517898773925396, 0, 0, 0.23453353140845803, 0.4446652914012308, 0.3400953007444782, 0.37450369339945255, 0.18664084072169673, 0, 0, 0.5930119533781258, 0, 0, 0.43225901611714224, -0.2576113021555143, 0.34086505779382487, 0.3242279360825647, 0.3381707356695181, 0.3348108847458518, 0.38663999111409686, 0, 0, 0, 0.4128044813098252, 0, 0, 0.38870050078916896, 0, 0, -0.2870937985809908, 0.5830815333611359, 0.4133302322521211, 0.4862165572109952, 0.31506588887763465, 0, 0.3902926655064961, 0.9517898773925396, 0.43225901611714224, 0.38870050078916896, 0, 0.2302557955270729, 0, 0.22359184255255948, 0.3799349032702046, 0.2626946187741597, 0.2811913391390236, 0.17089613932560602, 0, 0, 0, -0.2576113021555143, 0, 0.2302557955270729, 0, -0.1868755719213529, 0, 0, 0, 0, 0, 0, 0, 0, 0.34086505779382487, 0, 0, -0.1868755719213529, 0, 0.28334426042631855, 0, 0, 0, 0, 0, 0, 0.23453353140845803, 0.3242279360825647, -0.2870937985809908, 0.22359184255255948, 0, 0.28334426042631855, 0, -0.2466787106557616, -0.19773032828890685, -0.2039947325050794, -0.17322394296057492, 0, -0.2644091270752056, 0.4446652914012308, 0.3381707356695181, 0.5830815333611359, 0.3799349032702046, 0, 0, -0.2466787106557616, 0, 0.7581817968156124, 0.8491422262893947, 0.364513319427504, 0, 0.2903747264548697, 0.3400953007444782, 0.3348108847458518, 0.4133302322521211, 0.2626946187741597, 0, 0, -0.19773032828890685, 0.7581817968156124, 0, 0.7327204956871475, 0.4456185575810868, 0, 0.17788501836972584, 0.37450369339945255, 0.38663999111409686, 0.4862165572109952, 0.2811913391390236, 0, 0, -0.2039947325050794, 0.8491422262893947, 0.7327204956871475, 0, 0.3780874893526948, 0, 0.2977333761374477, 0.18664084072169673, 0, 0.31506588887763465, 0.17089613932560602, 0, 0, -0.17322394296057492, 0.364513319427504, 0.4456185575810868, 0.3780874893526948, 0, 0.2723826835920293, 0.4433520911922528, 0, 0, 0, 0, 0, 0, 0, 0, 0, 0, 0.2723826835920293, 0, 0.3481571568745501, 0, 0, 0.3902926655064961, 0, 0, 0, -0.2644091270752056, 0.2903747264548697, 0.17788501836972584, 0.2977333761374477, 0.4433520911922528, 0.3481571568745501, 0], \"colorbar\": {\"title\": {\"text\": \"Correlation\"}}, \"colorscale\": [[0.0, \"rgb(5,48,97)\"], [0.1, \"rgb(33,102,172)\"], [0.2, \"rgb(67,147,195)\"], [0.3, \"rgb(146,197,222)\"], [0.4, \"rgb(209,229,240)\"], [0.5, \"rgb(247,247,247)\"], [0.6, \"rgb(253,219,199)\"], [0.7, \"rgb(244,165,130)\"], [0.8, \"rgb(214,96,77)\"], [0.9, \"rgb(178,24,43)\"], [1.0, \"rgb(103,0,31)\"]], \"size\": [0, 27.278549855393788, 18.98900614025196, 43.78233436005682, 0, 0, 10.78854244478907, 20.454603404456616, 15.644383834245996, 17.227169896374818, 8.58547867319805, 0, 0, 27.278549855393788, 0, 0, 19.883914741388544, 11.850119899153658, 15.679792658515943, 14.914485059797977, 15.555853840797832, 15.401300698309182, 17.785439591248455, 0, 0, 0, 18.98900614025196, 0, 0, 17.88022303630177, 0, 0, 13.206314734725577, 26.82175053461225, 19.01319068359757, 22.36596163170578, 14.493030888371194, 0, 17.95346261329882, 43.78233436005682, 19.883914741388544, 17.88022303630177, 0, 10.591766594245353, 0, 10.285224757417737, 17.477005550429414, 12.083952463611347, 12.934801600395087, 7.861222408977877, 0, 0, 0, 11.850119899153658, 0, 10.591766594245353, 0, 8.596276308382233, 0, 0, 0, 0, 0, 0, 0, 0, 15.679792658515943, 0, 0, 8.596276308382233, 0, 13.033835979610654, 0, 0, 0, 0, 0, 0, 10.78854244478907, 14.914485059797977, 13.206314734725577, 10.285224757417737, 0, 13.033835979610654, 0, 11.347220690165035, 9.095595101289716, 9.383757695233653, 7.968301376186446, 0, 12.162819845459456, 20.454603404456616, 15.555853840797832, 26.82175053461225, 17.477005550429414, 0, 0, 11.347220690165035, 0, 34.87636265351817, 39.060542409312156, 16.767612693665182, 0, 13.357237416924008, 15.644383834245996, 15.401300698309182, 19.01319068359757, 12.083952463611347, 0, 0, 9.095595101289716, 34.87636265351817, 0, 33.70514280160879, 20.498453648729992, 0, 8.182710845007389, 17.227169896374818, 17.785439591248455, 22.36596163170578, 12.934801600395087, 0, 0, 9.383757695233653, 39.060542409312156, 33.70514280160879, 0, 17.392024510223962, 0, 13.695735302322595, 8.58547867319805, 0, 14.493030888371194, 7.861222408977877, 0, 0, 7.968301376186446, 16.767612693665182, 20.498453648729992, 17.392024510223962, 0, 12.529603445233347, 20.394196194843627, 0, 0, 0, 0, 0, 0, 0, 0, 0, 0, 12.529603445233347, 0, 16.015229216229304, 0, 0, 17.95346261329882, 0, 0, 0, 12.162819845459456, 13.357237416924008, 8.182710845007389, 13.695735302322595, 20.394196194843627, 16.015229216229304, 0]}, \"mode\": \"markers\", \"type\": \"scatter\", \"x\": [[\"1.\", \"1.\", \"1.\", \"1.\", \"1.\", \"1.\", \"1.\", \"1.\", \"1.\", \"1.\", \"1.\", \"1.\", \"1.\", \"1.\", \"1.\", \"1.\", \"1.\", \"1.\", \"1.\", \"1.\", \"1.\", \"1.\", \"1.\", \"1.\", \"1.\", \"1.\", \"1.\", \"1.\", \"1.\", \"1.\", \"1.\", \"1.\", \"1.\", \"1.\", \"1.\", \"1.\", \"1.\", \"1.\", \"1.\", \"1.\", \"1.\", \"1.\", \"1.\", \"1.\", \"1.\", \"1.\", \"1.\", \"1.\", \"1.\", \"1.\", \"1.\", \"1.\", \"2.\", \"2.\", \"2.\", \"2.\", \"2.\", \"2.\", \"2.\", \"2.\", \"2.\", \"2.\", \"2.\", \"2.\", \"2.\", \"2.\", \"2.\", \"2.\", \"2.\", \"2.\", \"2.\", \"2.\", \"2.\", \"2.\", \"2.\", \"2.\", \"2.\", \"2.\", \"2.\", \"2.\", \"2.\", \"2.\", \"2.\", \"2.\", \"2.\", \"2.\", \"2.\", \"2.\", \"2.\", \"2.\", \"2.\", \"3.\", \"3.\", \"3.\", \"3.\", \"3.\", \"3.\", \"3.\", \"3.\", \"3.\", \"3.\", \"3.\", \"3.\", \"3.\", \"3.\", \"3.\", \"3.\", \"3.\", \"3.\", \"3.\", \"3.\", \"3.\", \"3.\", \"3.\", \"3.\", \"3.\", \"3.\", \"3.\", \"3.\", \"3.\", \"3.\", \"3.\", \"3.\", \"3.\", \"3.\", \"3.\", \"3.\", \"3.\", \"3.\", \"3.\", \"3.\", \"3.\", \"3.\", \"3.\", \"3.\", \"3.\", \"3.\", \"3.\", \"3.\", \"3.\", \"3.\", \"3.\", \"3.\", \"3.\", \"3.\", \"3.\", \"3.\", \"3.\", \"3.\", \"3.\", \"3.\", \"3.\", \"3.\", \"3.\", \"3.\", \"3.\", \"3.\", \"3.\", \"3.\", \"3.\", \"3.\", \"3.\", \"3.\", \"3.\", \"3.\", \"3.\", \"3.\", \"3.\", \"3.\"], [\"Tot Cases/1M pop\", \"Tot Cases/1M pop\", \"Tot Cases/1M pop\", \"Tot Cases/1M pop\", \"Tot Cases/1M pop\", \"Tot Cases/1M pop\", \"Tot Cases/1M pop\", \"Tot Cases/1M pop\", \"Tot Cases/1M pop\", \"Tot Cases/1M pop\", \"Tot Cases/1M pop\", \"Tot Cases/1M pop\", \"Tot Cases/1M pop\", \"Deaths/1M pop\", \"Deaths/1M pop\", \"Deaths/1M pop\", \"Deaths/1M pop\", \"Deaths/1M pop\", \"Deaths/1M pop\", \"Deaths/1M pop\", \"Deaths/1M pop\", \"Deaths/1M pop\", \"Deaths/1M pop\", \"Deaths/1M pop\", \"Deaths/1M pop\", \"Deaths/1M pop\", \"Tests/1M pop\", \"Tests/1M pop\", \"Tests/1M pop\", \"Tests/1M pop\", \"Tests/1M pop\", \"Tests/1M pop\", \"Tests/1M pop\", \"Tests/1M pop\", \"Tests/1M pop\", \"Tests/1M pop\", \"Tests/1M pop\", \"Tests/1M pop\", \"Tests/1M pop\", \"Recovered/1M pop\", \"Recovered/1M pop\", \"Recovered/1M pop\", \"Recovered/1M pop\", \"Recovered/1M pop\", \"Recovered/1M pop\", \"Recovered/1M pop\", \"Recovered/1M pop\", \"Recovered/1M pop\", \"Recovered/1M pop\", \"Recovered/1M pop\", \"Recovered/1M pop\", \"Recovered/1M pop\", \"Recovered/1M cases\", \"Recovered/1M cases\", \"Recovered/1M cases\", \"Recovered/1M cases\", \"Recovered/1M cases\", \"Recovered/1M cases\", \"Recovered/1M cases\", \"Recovered/1M cases\", \"Recovered/1M cases\", \"Recovered/1M cases\", \"Recovered/1M cases\", \"Recovered/1M cases\", \"Recovered/1M cases\", \"Deaths/1M cases\", \"Deaths/1M cases\", \"Deaths/1M cases\", \"Deaths/1M cases\", \"Deaths/1M cases\", \"Deaths/1M cases\", \"Deaths/1M cases\", \"Deaths/1M cases\", \"Deaths/1M cases\", \"Deaths/1M cases\", \"Deaths/1M cases\", \"Deaths/1M cases\", \"Deaths/1M cases\", \"Confirmed/1M tests\", \"Confirmed/1M tests\", \"Confirmed/1M tests\", \"Confirmed/1M tests\", \"Confirmed/1M tests\", \"Confirmed/1M tests\", \"Confirmed/1M tests\", \"Confirmed/1M tests\", \"Confirmed/1M tests\", \"Confirmed/1M tests\", \"Confirmed/1M tests\", \"Confirmed/1M tests\", \"Confirmed/1M tests\", \"GDP\", \"GDP\", \"GDP\", \"GDP\", \"GDP\", \"GDP\", \"GDP\", \"GDP\", \"GDP\", \"GDP\", \"GDP\", \"GDP\", \"GDP\", \"Family\", \"Family\", \"Family\", \"Family\", \"Family\", \"Family\", \"Family\", \"Family\", \"Family\", \"Family\", \"Family\", \"Family\", \"Family\", \"Life expectancy\", \"Life expectancy\", \"Life expectancy\", \"Life expectancy\", \"Life expectancy\", \"Life expectancy\", \"Life expectancy\", \"Life expectancy\", \"Life expectancy\", \"Life expectancy\", \"Life expectancy\", \"Life expectancy\", \"Life expectancy\", \"Freedom\", \"Freedom\", \"Freedom\", \"Freedom\", \"Freedom\", \"Freedom\", \"Freedom\", \"Freedom\", \"Freedom\", \"Freedom\", \"Freedom\", \"Freedom\", \"Freedom\", \"Generosity\", \"Generosity\", \"Generosity\", \"Generosity\", \"Generosity\", \"Generosity\", \"Generosity\", \"Generosity\", \"Generosity\", \"Generosity\", \"Generosity\", \"Generosity\", \"Generosity\", \"Trust\", \"Trust\", \"Trust\", \"Trust\", \"Trust\", \"Trust\", \"Trust\", \"Trust\", \"Trust\", \"Trust\", \"Trust\", \"Trust\", \"Trust\"]], \"y\": [[\"1.\", \"1.\", \"1.\", \"1.\", \"2.\", \"2.\", \"2.\", \"3.\", \"3.\", \"3.\", \"3.\", \"3.\", \"3.\", \"1.\", \"1.\", \"1.\", \"1.\", \"2.\", \"2.\", \"2.\", \"3.\", \"3.\", \"3.\", \"3.\", \"3.\", \"3.\", \"1.\", \"1.\", \"1.\", \"1.\", \"2.\", \"2.\", \"2.\", \"3.\", \"3.\", \"3.\", \"3.\", \"3.\", \"3.\", \"1.\", \"1.\", \"1.\", \"1.\", \"2.\", \"2.\", \"2.\", \"3.\", \"3.\", \"3.\", \"3.\", \"3.\", \"3.\", \"1.\", \"1.\", \"1.\", \"1.\", \"2.\", \"2.\", \"2.\", \"3.\", \"3.\", \"3.\", \"3.\", \"3.\", \"3.\", \"1.\", \"1.\", \"1.\", \"1.\", \"2.\", \"2.\", \"2.\", \"3.\", \"3.\", \"3.\", \"3.\", \"3.\", \"3.\", \"1.\", \"1.\", \"1.\", \"1.\", \"2.\", \"2.\", \"2.\", \"3.\", \"3.\", \"3.\", \"3.\", \"3.\", \"3.\", \"1.\", \"1.\", \"1.\", \"1.\", \"2.\", \"2.\", \"2.\", \"3.\", \"3.\", \"3.\", \"3.\", \"3.\", \"3.\", \"1.\", \"1.\", \"1.\", \"1.\", \"2.\", \"2.\", \"2.\", \"3.\", \"3.\", \"3.\", \"3.\", \"3.\", \"3.\", \"1.\", \"1.\", \"1.\", \"1.\", \"2.\", \"2.\", \"2.\", \"3.\", \"3.\", \"3.\", \"3.\", \"3.\", \"3.\", \"1.\", \"1.\", \"1.\", \"1.\", \"2.\", \"2.\", \"2.\", \"3.\", \"3.\", \"3.\", \"3.\", \"3.\", \"3.\", \"1.\", \"1.\", \"1.\", \"1.\", \"2.\", \"2.\", \"2.\", \"3.\", \"3.\", \"3.\", \"3.\", \"3.\", \"3.\", \"1.\", \"1.\", \"1.\", \"1.\", \"2.\", \"2.\", \"2.\", \"3.\", \"3.\", \"3.\", \"3.\", \"3.\", \"3.\"], [\"Tot Cases/1M pop\", \"Deaths/1M pop\", \"Tests/1M pop\", \"Recovered/1M pop\", \"Recovered/1M cases\", \"Deaths/1M cases\", \"Confirmed/1M tests\", \"GDP\", \"Family\", \"Life expectancy\", \"Freedom\", \"Generosity\", \"Trust\", \"Tot Cases/1M pop\", \"Deaths/1M pop\", \"Tests/1M pop\", \"Recovered/1M pop\", \"Recovered/1M cases\", \"Deaths/1M cases\", \"Confirmed/1M tests\", \"GDP\", \"Family\", \"Life expectancy\", \"Freedom\", \"Generosity\", \"Trust\", \"Tot Cases/1M pop\", \"Deaths/1M pop\", \"Tests/1M pop\", \"Recovered/1M pop\", \"Recovered/1M cases\", \"Deaths/1M cases\", \"Confirmed/1M tests\", \"GDP\", \"Family\", \"Life expectancy\", \"Freedom\", \"Generosity\", \"Trust\", \"Tot Cases/1M pop\", \"Deaths/1M pop\", \"Tests/1M pop\", \"Recovered/1M pop\", \"Recovered/1M cases\", \"Deaths/1M cases\", \"Confirmed/1M tests\", \"GDP\", \"Family\", \"Life expectancy\", \"Freedom\", \"Generosity\", \"Trust\", \"Tot Cases/1M pop\", \"Deaths/1M pop\", \"Tests/1M pop\", \"Recovered/1M pop\", \"Recovered/1M cases\", \"Deaths/1M cases\", \"Confirmed/1M tests\", \"GDP\", \"Family\", \"Life expectancy\", \"Freedom\", \"Generosity\", \"Trust\", \"Tot Cases/1M pop\", \"Deaths/1M pop\", \"Tests/1M pop\", \"Recovered/1M pop\", \"Recovered/1M cases\", \"Deaths/1M cases\", \"Confirmed/1M tests\", \"GDP\", \"Family\", \"Life expectancy\", \"Freedom\", \"Generosity\", \"Trust\", \"Tot Cases/1M pop\", \"Deaths/1M pop\", \"Tests/1M pop\", \"Recovered/1M pop\", \"Recovered/1M cases\", \"Deaths/1M cases\", \"Confirmed/1M tests\", \"GDP\", \"Family\", \"Life expectancy\", \"Freedom\", \"Generosity\", \"Trust\", \"Tot Cases/1M pop\", \"Deaths/1M pop\", \"Tests/1M pop\", \"Recovered/1M pop\", \"Recovered/1M cases\", \"Deaths/1M cases\", \"Confirmed/1M tests\", \"GDP\", \"Family\", \"Life expectancy\", \"Freedom\", \"Generosity\", \"Trust\", \"Tot Cases/1M pop\", \"Deaths/1M pop\", \"Tests/1M pop\", \"Recovered/1M pop\", \"Recovered/1M cases\", \"Deaths/1M cases\", \"Confirmed/1M tests\", \"GDP\", \"Family\", \"Life expectancy\", \"Freedom\", \"Generosity\", \"Trust\", \"Tot Cases/1M pop\", \"Deaths/1M pop\", \"Tests/1M pop\", \"Recovered/1M pop\", \"Recovered/1M cases\", \"Deaths/1M cases\", \"Confirmed/1M tests\", \"GDP\", \"Family\", \"Life expectancy\", \"Freedom\", \"Generosity\", \"Trust\", \"Tot Cases/1M pop\", \"Deaths/1M pop\", \"Tests/1M pop\", \"Recovered/1M pop\", \"Recovered/1M cases\", \"Deaths/1M cases\", \"Confirmed/1M tests\", \"GDP\", \"Family\", \"Life expectancy\", \"Freedom\", \"Generosity\", \"Trust\", \"Tot Cases/1M pop\", \"Deaths/1M pop\", \"Tests/1M pop\", \"Recovered/1M pop\", \"Recovered/1M cases\", \"Deaths/1M cases\", \"Confirmed/1M tests\", \"GDP\", \"Family\", \"Life expectancy\", \"Freedom\", \"Generosity\", \"Trust\", \"Tot Cases/1M pop\", \"Deaths/1M pop\", \"Tests/1M pop\", \"Recovered/1M pop\", \"Recovered/1M cases\", \"Deaths/1M cases\", \"Confirmed/1M tests\", \"GDP\", \"Family\", \"Life expectancy\", \"Freedom\", \"Generosity\", \"Trust\"]]}],\n",
       "                        {\"font\": {\"size\": 14}, \"height\": 885, \"template\": {\"data\": {\"bar\": [{\"error_x\": {\"color\": \"#2a3f5f\"}, \"error_y\": {\"color\": \"#2a3f5f\"}, \"marker\": {\"line\": {\"color\": \"#E5ECF6\", \"width\": 0.5}}, \"type\": \"bar\"}], \"barpolar\": [{\"marker\": {\"line\": {\"color\": \"#E5ECF6\", \"width\": 0.5}}, \"type\": \"barpolar\"}], \"carpet\": [{\"aaxis\": {\"endlinecolor\": \"#2a3f5f\", \"gridcolor\": \"white\", \"linecolor\": \"white\", \"minorgridcolor\": \"white\", \"startlinecolor\": \"#2a3f5f\"}, \"baxis\": {\"endlinecolor\": \"#2a3f5f\", \"gridcolor\": \"white\", \"linecolor\": \"white\", \"minorgridcolor\": \"white\", \"startlinecolor\": \"#2a3f5f\"}, \"type\": \"carpet\"}], \"choropleth\": [{\"colorbar\": {\"outlinewidth\": 0, \"ticks\": \"\"}, \"type\": \"choropleth\"}], \"contour\": [{\"colorbar\": {\"outlinewidth\": 0, \"ticks\": \"\"}, \"colorscale\": [[0.0, \"#0d0887\"], [0.1111111111111111, \"#46039f\"], [0.2222222222222222, \"#7201a8\"], [0.3333333333333333, \"#9c179e\"], [0.4444444444444444, \"#bd3786\"], [0.5555555555555556, \"#d8576b\"], [0.6666666666666666, \"#ed7953\"], [0.7777777777777778, \"#fb9f3a\"], [0.8888888888888888, \"#fdca26\"], [1.0, \"#f0f921\"]], \"type\": \"contour\"}], \"contourcarpet\": [{\"colorbar\": {\"outlinewidth\": 0, \"ticks\": \"\"}, \"type\": \"contourcarpet\"}], \"heatmap\": [{\"colorbar\": {\"outlinewidth\": 0, \"ticks\": \"\"}, \"colorscale\": [[0.0, \"#0d0887\"], [0.1111111111111111, \"#46039f\"], [0.2222222222222222, \"#7201a8\"], [0.3333333333333333, \"#9c179e\"], [0.4444444444444444, \"#bd3786\"], [0.5555555555555556, \"#d8576b\"], [0.6666666666666666, \"#ed7953\"], [0.7777777777777778, \"#fb9f3a\"], [0.8888888888888888, \"#fdca26\"], [1.0, \"#f0f921\"]], \"type\": \"heatmap\"}], \"heatmapgl\": [{\"colorbar\": {\"outlinewidth\": 0, \"ticks\": \"\"}, \"colorscale\": [[0.0, \"#0d0887\"], [0.1111111111111111, \"#46039f\"], [0.2222222222222222, \"#7201a8\"], [0.3333333333333333, \"#9c179e\"], [0.4444444444444444, \"#bd3786\"], [0.5555555555555556, \"#d8576b\"], [0.6666666666666666, \"#ed7953\"], [0.7777777777777778, \"#fb9f3a\"], [0.8888888888888888, \"#fdca26\"], [1.0, \"#f0f921\"]], \"type\": \"heatmapgl\"}], \"histogram\": [{\"marker\": {\"colorbar\": {\"outlinewidth\": 0, \"ticks\": \"\"}}, \"type\": \"histogram\"}], \"histogram2d\": [{\"colorbar\": {\"outlinewidth\": 0, \"ticks\": \"\"}, \"colorscale\": [[0.0, \"#0d0887\"], [0.1111111111111111, \"#46039f\"], [0.2222222222222222, \"#7201a8\"], [0.3333333333333333, \"#9c179e\"], [0.4444444444444444, \"#bd3786\"], [0.5555555555555556, \"#d8576b\"], [0.6666666666666666, \"#ed7953\"], [0.7777777777777778, \"#fb9f3a\"], [0.8888888888888888, \"#fdca26\"], [1.0, \"#f0f921\"]], \"type\": \"histogram2d\"}], \"histogram2dcontour\": [{\"colorbar\": {\"outlinewidth\": 0, \"ticks\": \"\"}, \"colorscale\": [[0.0, \"#0d0887\"], [0.1111111111111111, \"#46039f\"], [0.2222222222222222, \"#7201a8\"], [0.3333333333333333, \"#9c179e\"], [0.4444444444444444, \"#bd3786\"], [0.5555555555555556, \"#d8576b\"], [0.6666666666666666, \"#ed7953\"], [0.7777777777777778, \"#fb9f3a\"], [0.8888888888888888, \"#fdca26\"], [1.0, \"#f0f921\"]], \"type\": \"histogram2dcontour\"}], \"mesh3d\": [{\"colorbar\": {\"outlinewidth\": 0, \"ticks\": \"\"}, \"type\": \"mesh3d\"}], \"parcoords\": [{\"line\": {\"colorbar\": {\"outlinewidth\": 0, \"ticks\": \"\"}}, \"type\": \"parcoords\"}], \"pie\": [{\"automargin\": true, \"type\": \"pie\"}], \"scatter\": [{\"marker\": {\"colorbar\": {\"outlinewidth\": 0, \"ticks\": \"\"}}, \"type\": \"scatter\"}], \"scatter3d\": [{\"line\": {\"colorbar\": {\"outlinewidth\": 0, \"ticks\": \"\"}}, \"marker\": {\"colorbar\": {\"outlinewidth\": 0, \"ticks\": \"\"}}, \"type\": \"scatter3d\"}], \"scattercarpet\": [{\"marker\": {\"colorbar\": {\"outlinewidth\": 0, \"ticks\": \"\"}}, \"type\": \"scattercarpet\"}], \"scattergeo\": [{\"marker\": {\"colorbar\": {\"outlinewidth\": 0, \"ticks\": \"\"}}, \"type\": \"scattergeo\"}], \"scattergl\": [{\"marker\": {\"colorbar\": {\"outlinewidth\": 0, \"ticks\": \"\"}}, \"type\": \"scattergl\"}], \"scattermapbox\": [{\"marker\": {\"colorbar\": {\"outlinewidth\": 0, \"ticks\": \"\"}}, \"type\": \"scattermapbox\"}], \"scatterpolar\": [{\"marker\": {\"colorbar\": {\"outlinewidth\": 0, \"ticks\": \"\"}}, \"type\": \"scatterpolar\"}], \"scatterpolargl\": [{\"marker\": {\"colorbar\": {\"outlinewidth\": 0, \"ticks\": \"\"}}, \"type\": \"scatterpolargl\"}], \"scatterternary\": [{\"marker\": {\"colorbar\": {\"outlinewidth\": 0, \"ticks\": \"\"}}, \"type\": \"scatterternary\"}], \"surface\": [{\"colorbar\": {\"outlinewidth\": 0, \"ticks\": \"\"}, \"colorscale\": [[0.0, \"#0d0887\"], [0.1111111111111111, \"#46039f\"], [0.2222222222222222, \"#7201a8\"], [0.3333333333333333, \"#9c179e\"], [0.4444444444444444, \"#bd3786\"], [0.5555555555555556, \"#d8576b\"], [0.6666666666666666, \"#ed7953\"], [0.7777777777777778, \"#fb9f3a\"], [0.8888888888888888, \"#fdca26\"], [1.0, \"#f0f921\"]], \"type\": \"surface\"}], \"table\": [{\"cells\": {\"fill\": {\"color\": \"#EBF0F8\"}, \"line\": {\"color\": \"white\"}}, \"header\": {\"fill\": {\"color\": \"#C8D4E3\"}, \"line\": {\"color\": \"white\"}}, \"type\": \"table\"}]}, \"layout\": {\"annotationdefaults\": {\"arrowcolor\": \"#2a3f5f\", \"arrowhead\": 0, \"arrowwidth\": 1}, \"coloraxis\": {\"colorbar\": {\"outlinewidth\": 0, \"ticks\": \"\"}}, \"colorscale\": {\"diverging\": [[0, \"#8e0152\"], [0.1, \"#c51b7d\"], [0.2, \"#de77ae\"], [0.3, \"#f1b6da\"], [0.4, \"#fde0ef\"], [0.5, \"#f7f7f7\"], [0.6, \"#e6f5d0\"], [0.7, \"#b8e186\"], [0.8, \"#7fbc41\"], [0.9, \"#4d9221\"], [1, \"#276419\"]], \"sequential\": [[0.0, \"#0d0887\"], [0.1111111111111111, \"#46039f\"], [0.2222222222222222, \"#7201a8\"], [0.3333333333333333, \"#9c179e\"], [0.4444444444444444, \"#bd3786\"], [0.5555555555555556, \"#d8576b\"], [0.6666666666666666, \"#ed7953\"], [0.7777777777777778, \"#fb9f3a\"], [0.8888888888888888, \"#fdca26\"], [1.0, \"#f0f921\"]], \"sequentialminus\": [[0.0, \"#0d0887\"], [0.1111111111111111, \"#46039f\"], [0.2222222222222222, \"#7201a8\"], [0.3333333333333333, \"#9c179e\"], [0.4444444444444444, \"#bd3786\"], [0.5555555555555556, \"#d8576b\"], [0.6666666666666666, \"#ed7953\"], [0.7777777777777778, \"#fb9f3a\"], [0.8888888888888888, \"#fdca26\"], [1.0, \"#f0f921\"]]}, \"colorway\": [\"#636efa\", \"#EF553B\", \"#00cc96\", \"#ab63fa\", \"#FFA15A\", \"#19d3f3\", \"#FF6692\", \"#B6E880\", \"#FF97FF\", \"#FECB52\"], \"font\": {\"color\": \"#2a3f5f\"}, \"geo\": {\"bgcolor\": \"white\", \"lakecolor\": \"white\", \"landcolor\": \"#E5ECF6\", \"showlakes\": true, \"showland\": true, \"subunitcolor\": \"white\"}, \"hoverlabel\": {\"align\": \"left\"}, \"hovermode\": \"closest\", \"mapbox\": {\"style\": \"light\"}, \"paper_bgcolor\": \"white\", \"plot_bgcolor\": \"#E5ECF6\", \"polar\": {\"angularaxis\": {\"gridcolor\": \"white\", \"linecolor\": \"white\", \"ticks\": \"\"}, \"bgcolor\": \"#E5ECF6\", \"radialaxis\": {\"gridcolor\": \"white\", \"linecolor\": \"white\", \"ticks\": \"\"}}, \"scene\": {\"xaxis\": {\"backgroundcolor\": \"#E5ECF6\", \"gridcolor\": \"white\", \"gridwidth\": 2, \"linecolor\": \"white\", \"showbackground\": true, \"ticks\": \"\", \"zerolinecolor\": \"white\"}, \"yaxis\": {\"backgroundcolor\": \"#E5ECF6\", \"gridcolor\": \"white\", \"gridwidth\": 2, \"linecolor\": \"white\", \"showbackground\": true, \"ticks\": \"\", \"zerolinecolor\": \"white\"}, \"zaxis\": {\"backgroundcolor\": \"#E5ECF6\", \"gridcolor\": \"white\", \"gridwidth\": 2, \"linecolor\": \"white\", \"showbackground\": true, \"ticks\": \"\", \"zerolinecolor\": \"white\"}}, \"shapedefaults\": {\"line\": {\"color\": \"#2a3f5f\"}}, \"ternary\": {\"aaxis\": {\"gridcolor\": \"white\", \"linecolor\": \"white\", \"ticks\": \"\"}, \"baxis\": {\"gridcolor\": \"white\", \"linecolor\": \"white\", \"ticks\": \"\"}, \"bgcolor\": \"#E5ECF6\", \"caxis\": {\"gridcolor\": \"white\", \"linecolor\": \"white\", \"ticks\": \"\"}}, \"title\": {\"x\": 0.05}, \"xaxis\": {\"automargin\": true, \"gridcolor\": \"white\", \"linecolor\": \"white\", \"ticks\": \"\", \"title\": {\"standoff\": 15}, \"zerolinecolor\": \"white\", \"zerolinewidth\": 2}, \"yaxis\": {\"automargin\": true, \"gridcolor\": \"white\", \"linecolor\": \"white\", \"ticks\": \"\", \"title\": {\"standoff\": 15}, \"zerolinecolor\": \"white\", \"zerolinewidth\": 2}}}, \"title\": {\"text\": \"Correlogram of disease and country specifics: 149 countries\"}, \"width\": 885, \"xaxis\": {\"range\": [-0.5, 12.5], \"showgrid\": true, \"ticklen\": 0, \"ticks\": \"outside\", \"tickson\": \"boundaries\"}, \"yaxis\": {\"range\": [-0.5, 12.5], \"showgrid\": true, \"ticklen\": 0, \"ticks\": \"outside\", \"tickson\": \"boundaries\"}},\n",
       "                        {\"responsive\": true}\n",
       "                    ).then(function(){\n",
       "                            \n",
       "var gd = document.getElementById('92835693-544b-4872-bf0e-ed5a96fa35a1');\n",
       "var x = new MutationObserver(function (mutations, observer) {{\n",
       "        var display = window.getComputedStyle(gd).display;\n",
       "        if (!display || display === 'none') {{\n",
       "            console.log([gd, 'removed!']);\n",
       "            Plotly.purge(gd);\n",
       "            observer.disconnect();\n",
       "        }}\n",
       "}});\n",
       "\n",
       "// Listen for the removal of the full notebook cells\n",
       "var notebookContainer = gd.closest('#notebook-container');\n",
       "if (notebookContainer) {{\n",
       "    x.observe(notebookContainer, {childList: true});\n",
       "}}\n",
       "\n",
       "// Listen for the clearing of the current output cell\n",
       "var outputEl = gd.closest('.output');\n",
       "if (outputEl) {{\n",
       "    x.observe(outputEl, {childList: true});\n",
       "}}\n",
       "\n",
       "                        })\n",
       "                };\n",
       "                });\n",
       "            </script>\n",
       "        </div>"
      ]
     },
     "metadata": {},
     "output_type": "display_data"
    }
   ],
   "source": [
    "fig= correlo(for_correlo, to_use=to_use, point_size=46, palette=\"RdBu_r\", \n",
    "             title=\"Correlogram of disease and country specifics: \"+str(df.shape[0])+ \" countries\",\n",
    "             height=885, width=885, fontsize=14, var_palette=var_palette)\n",
    "fig.show()"
   ]
  },
  {
   "cell_type": "code",
   "execution_count": 35,
   "metadata": {
    "code_folding": [
     0
    ],
    "scrolled": false
   },
   "outputs": [
    {
     "data": {
      "application/vnd.plotly.v1+json": {
       "config": {
        "plotlyServerURL": "https://plot.ly"
       },
       "data": [
        {
         "hoverinfo": "text",
         "hovertext": [
          "",
          "0.7988320242782772",
          "0.5549182028013763",
          "0.9761016147814822",
          "",
          "",
          "",
          "0.42619314409783443",
          "",
          "",
          "",
          "",
          "",
          "0.7988320242782772",
          "",
          "",
          "0.8096522318544608",
          "",
          "0.4858464889124083",
          "",
          "",
          "",
          "",
          "",
          "",
          "",
          "0.5549182028013763",
          "",
          "",
          "0.5150052223148938",
          "",
          "",
          "-0.5069211625556098",
          "0.7002714568979663",
          "",
          "0.46783088591033106",
          "",
          "",
          "",
          "0.9761016147814822",
          "0.8096522318544608",
          "0.5150052223148938",
          "",
          "0.4183991684433489",
          "",
          "",
          "",
          "",
          "",
          "",
          "",
          "",
          "",
          "",
          "",
          "0.4183991684433489",
          "",
          "",
          "",
          "",
          "",
          "",
          "",
          "",
          "",
          "",
          "0.4858464889124083",
          "",
          "",
          "",
          "",
          "",
          "",
          "",
          "",
          "",
          "",
          "",
          "",
          "",
          "-0.5069211625556098",
          "",
          "",
          "",
          "",
          "-0.43564800647994456",
          "",
          "",
          "",
          "",
          "",
          "0.42619314409783443",
          "",
          "0.7002714568979663",
          "",
          "",
          "",
          "-0.43564800647994456",
          "",
          "0.7733088764342873",
          "0.7053128749318993",
          "0.4511486122139001",
          "",
          "",
          "",
          "",
          "",
          "",
          "",
          "",
          "",
          "0.7733088764342873",
          "",
          "0.759301274032041",
          "0.6347366999700007",
          "-0.521758880548156",
          "",
          "",
          "",
          "0.46783088591033106",
          "",
          "",
          "",
          "",
          "0.7053128749318993",
          "0.759301274032041",
          "",
          "0.6222643901548536",
          "",
          "",
          "",
          "",
          "",
          "",
          "",
          "",
          "",
          "0.4511486122139001",
          "0.6347366999700007",
          "0.6222643901548536",
          "",
          "",
          "",
          "",
          "",
          "",
          "",
          "",
          "",
          "",
          "",
          "-0.521758880548156",
          "",
          "",
          "",
          "0.49936723758793794",
          "",
          "",
          "",
          "",
          "",
          "",
          "",
          "",
          "",
          "",
          "",
          "0.49936723758793794",
          ""
         ],
         "marker": {
          "cmid": 0,
          "color": [
           0,
           0.7988320242782772,
           0.5549182028013763,
           0.9761016147814822,
           0,
           0,
           0,
           0.42619314409783443,
           0,
           0,
           0,
           0,
           0,
           0.7988320242782772,
           0,
           0,
           0.8096522318544608,
           0,
           0.4858464889124083,
           0,
           0,
           0,
           0,
           0,
           0,
           0,
           0.5549182028013763,
           0,
           0,
           0.5150052223148938,
           0,
           0,
           -0.5069211625556098,
           0.7002714568979663,
           0,
           0.46783088591033106,
           0,
           0,
           0,
           0.9761016147814822,
           0.8096522318544608,
           0.5150052223148938,
           0,
           0.4183991684433489,
           0,
           0,
           0,
           0,
           0,
           0,
           0,
           0,
           0,
           0,
           0,
           0.4183991684433489,
           0,
           0,
           0,
           0,
           0,
           0,
           0,
           0,
           0,
           0,
           0.4858464889124083,
           0,
           0,
           0,
           0,
           0,
           0,
           0,
           0,
           0,
           0,
           0,
           0,
           0,
           -0.5069211625556098,
           0,
           0,
           0,
           0,
           -0.43564800647994456,
           0,
           0,
           0,
           0,
           0,
           0.42619314409783443,
           0,
           0.7002714568979663,
           0,
           0,
           0,
           -0.43564800647994456,
           0,
           0.7733088764342873,
           0.7053128749318993,
           0.4511486122139001,
           0,
           0,
           0,
           0,
           0,
           0,
           0,
           0,
           0,
           0.7733088764342873,
           0,
           0.759301274032041,
           0.6347366999700007,
           -0.521758880548156,
           0,
           0,
           0,
           0.46783088591033106,
           0,
           0,
           0,
           0,
           0.7053128749318993,
           0.759301274032041,
           0,
           0.6222643901548536,
           0,
           0,
           0,
           0,
           0,
           0,
           0,
           0,
           0,
           0.4511486122139001,
           0.6347366999700007,
           0.6222643901548536,
           0,
           0,
           0,
           0,
           0,
           0,
           0,
           0,
           0,
           0,
           0,
           -0.521758880548156,
           0,
           0,
           0,
           0.49936723758793794,
           0,
           0,
           0,
           0,
           0,
           0,
           0,
           0,
           0,
           0,
           0,
           0.49936723758793794,
           0
          ],
          "colorbar": {
           "title": {
            "text": "Correlation"
           }
          },
          "colorscale": [
           [
            0,
            "rgb(5,48,97)"
           ],
           [
            0.1,
            "rgb(33,102,172)"
           ],
           [
            0.2,
            "rgb(67,147,195)"
           ],
           [
            0.3,
            "rgb(146,197,222)"
           ],
           [
            0.4,
            "rgb(209,229,240)"
           ],
           [
            0.5,
            "rgb(247,247,247)"
           ],
           [
            0.6,
            "rgb(253,219,199)"
           ],
           [
            0.7,
            "rgb(244,165,130)"
           ],
           [
            0.8,
            "rgb(214,96,77)"
           ],
           [
            0.9,
            "rgb(178,24,43)"
           ],
           [
            1,
            "rgb(103,0,31)"
           ]
          ],
          "size": [
           0,
           36.74627311680075,
           25.52623732886331,
           44.90067427994818,
           0,
           0,
           0,
           19.604884628500383,
           0,
           0,
           0,
           0,
           0,
           36.74627311680075,
           0,
           0,
           37.244002665305196,
           0,
           22.34893848997078,
           0,
           0,
           0,
           0,
           0,
           0,
           0,
           25.52623732886331,
           0,
           0,
           23.690240226485113,
           0,
           0,
           23.31837347755805,
           32.21248701730645,
           0,
           21.52022075187523,
           0,
           0,
           0,
           44.90067427994818,
           37.244002665305196,
           23.690240226485113,
           0,
           19.24636174839405,
           0,
           0,
           0,
           0,
           0,
           0,
           0,
           0,
           0,
           0,
           0,
           19.24636174839405,
           0,
           0,
           0,
           0,
           0,
           0,
           0,
           0,
           0,
           0,
           22.34893848997078,
           0,
           0,
           0,
           0,
           0,
           0,
           0,
           0,
           0,
           0,
           0,
           0,
           0,
           23.31837347755805,
           0,
           0,
           0,
           0,
           20.03980829807745,
           0,
           0,
           0,
           0,
           0,
           19.604884628500383,
           0,
           32.21248701730645,
           0,
           0,
           0,
           20.03980829807745,
           0,
           35.572208315977214,
           32.444392246867366,
           20.752836161839404,
           0,
           0,
           0,
           0,
           0,
           0,
           0,
           0,
           0,
           35.572208315977214,
           0,
           34.92785860547389,
           29.19788819862003,
           24.000908505215175,
           0,
           0,
           0,
           21.52022075187523,
           0,
           0,
           0,
           0,
           32.444392246867366,
           34.92785860547389,
           0,
           28.624161947123266,
           0,
           0,
           0,
           0,
           0,
           0,
           0,
           0,
           0,
           20.752836161839404,
           29.19788819862003,
           28.624161947123266,
           0,
           0,
           0,
           0,
           0,
           0,
           0,
           0,
           0,
           0,
           0,
           24.000908505215175,
           0,
           0,
           0,
           22.970892929045146,
           0,
           0,
           0,
           0,
           0,
           0,
           0,
           0,
           0,
           0,
           0,
           22.970892929045146,
           0
          ]
         },
         "mode": "markers",
         "type": "scatter",
         "x": [
          [
           "1.",
           "1.",
           "1.",
           "1.",
           "1.",
           "1.",
           "1.",
           "1.",
           "1.",
           "1.",
           "1.",
           "1.",
           "1.",
           "1.",
           "1.",
           "1.",
           "1.",
           "1.",
           "1.",
           "1.",
           "1.",
           "1.",
           "1.",
           "1.",
           "1.",
           "1.",
           "1.",
           "1.",
           "1.",
           "1.",
           "1.",
           "1.",
           "1.",
           "1.",
           "1.",
           "1.",
           "1.",
           "1.",
           "1.",
           "1.",
           "1.",
           "1.",
           "1.",
           "1.",
           "1.",
           "1.",
           "1.",
           "1.",
           "1.",
           "1.",
           "1.",
           "1.",
           "2.",
           "2.",
           "2.",
           "2.",
           "2.",
           "2.",
           "2.",
           "2.",
           "2.",
           "2.",
           "2.",
           "2.",
           "2.",
           "2.",
           "2.",
           "2.",
           "2.",
           "2.",
           "2.",
           "2.",
           "2.",
           "2.",
           "2.",
           "2.",
           "2.",
           "2.",
           "2.",
           "2.",
           "2.",
           "2.",
           "2.",
           "2.",
           "2.",
           "2.",
           "2.",
           "2.",
           "2.",
           "2.",
           "2.",
           "3.",
           "3.",
           "3.",
           "3.",
           "3.",
           "3.",
           "3.",
           "3.",
           "3.",
           "3.",
           "3.",
           "3.",
           "3.",
           "3.",
           "3.",
           "3.",
           "3.",
           "3.",
           "3.",
           "3.",
           "3.",
           "3.",
           "3.",
           "3.",
           "3.",
           "3.",
           "3.",
           "3.",
           "3.",
           "3.",
           "3.",
           "3.",
           "3.",
           "3.",
           "3.",
           "3.",
           "3.",
           "3.",
           "3.",
           "3.",
           "3.",
           "3.",
           "3.",
           "3.",
           "3.",
           "3.",
           "3.",
           "3.",
           "3.",
           "3.",
           "3.",
           "3.",
           "3.",
           "3.",
           "3.",
           "3.",
           "3.",
           "3.",
           "3.",
           "3.",
           "3.",
           "3.",
           "3.",
           "3.",
           "3.",
           "3.",
           "3.",
           "3.",
           "3.",
           "3.",
           "3.",
           "3.",
           "3.",
           "3.",
           "3.",
           "3.",
           "3.",
           "3."
          ],
          [
           "Tot Cases/1M pop",
           "Tot Cases/1M pop",
           "Tot Cases/1M pop",
           "Tot Cases/1M pop",
           "Tot Cases/1M pop",
           "Tot Cases/1M pop",
           "Tot Cases/1M pop",
           "Tot Cases/1M pop",
           "Tot Cases/1M pop",
           "Tot Cases/1M pop",
           "Tot Cases/1M pop",
           "Tot Cases/1M pop",
           "Tot Cases/1M pop",
           "Deaths/1M pop",
           "Deaths/1M pop",
           "Deaths/1M pop",
           "Deaths/1M pop",
           "Deaths/1M pop",
           "Deaths/1M pop",
           "Deaths/1M pop",
           "Deaths/1M pop",
           "Deaths/1M pop",
           "Deaths/1M pop",
           "Deaths/1M pop",
           "Deaths/1M pop",
           "Deaths/1M pop",
           "Tests/1M pop",
           "Tests/1M pop",
           "Tests/1M pop",
           "Tests/1M pop",
           "Tests/1M pop",
           "Tests/1M pop",
           "Tests/1M pop",
           "Tests/1M pop",
           "Tests/1M pop",
           "Tests/1M pop",
           "Tests/1M pop",
           "Tests/1M pop",
           "Tests/1M pop",
           "Recovered/1M pop",
           "Recovered/1M pop",
           "Recovered/1M pop",
           "Recovered/1M pop",
           "Recovered/1M pop",
           "Recovered/1M pop",
           "Recovered/1M pop",
           "Recovered/1M pop",
           "Recovered/1M pop",
           "Recovered/1M pop",
           "Recovered/1M pop",
           "Recovered/1M pop",
           "Recovered/1M pop",
           "Recovered/1M cases",
           "Recovered/1M cases",
           "Recovered/1M cases",
           "Recovered/1M cases",
           "Recovered/1M cases",
           "Recovered/1M cases",
           "Recovered/1M cases",
           "Recovered/1M cases",
           "Recovered/1M cases",
           "Recovered/1M cases",
           "Recovered/1M cases",
           "Recovered/1M cases",
           "Recovered/1M cases",
           "Deaths/1M cases",
           "Deaths/1M cases",
           "Deaths/1M cases",
           "Deaths/1M cases",
           "Deaths/1M cases",
           "Deaths/1M cases",
           "Deaths/1M cases",
           "Deaths/1M cases",
           "Deaths/1M cases",
           "Deaths/1M cases",
           "Deaths/1M cases",
           "Deaths/1M cases",
           "Deaths/1M cases",
           "Confirmed/1M tests",
           "Confirmed/1M tests",
           "Confirmed/1M tests",
           "Confirmed/1M tests",
           "Confirmed/1M tests",
           "Confirmed/1M tests",
           "Confirmed/1M tests",
           "Confirmed/1M tests",
           "Confirmed/1M tests",
           "Confirmed/1M tests",
           "Confirmed/1M tests",
           "Confirmed/1M tests",
           "Confirmed/1M tests",
           "GDP",
           "GDP",
           "GDP",
           "GDP",
           "GDP",
           "GDP",
           "GDP",
           "GDP",
           "GDP",
           "GDP",
           "GDP",
           "GDP",
           "GDP",
           "Family",
           "Family",
           "Family",
           "Family",
           "Family",
           "Family",
           "Family",
           "Family",
           "Family",
           "Family",
           "Family",
           "Family",
           "Family",
           "Life expectancy",
           "Life expectancy",
           "Life expectancy",
           "Life expectancy",
           "Life expectancy",
           "Life expectancy",
           "Life expectancy",
           "Life expectancy",
           "Life expectancy",
           "Life expectancy",
           "Life expectancy",
           "Life expectancy",
           "Life expectancy",
           "Freedom",
           "Freedom",
           "Freedom",
           "Freedom",
           "Freedom",
           "Freedom",
           "Freedom",
           "Freedom",
           "Freedom",
           "Freedom",
           "Freedom",
           "Freedom",
           "Freedom",
           "Generosity",
           "Generosity",
           "Generosity",
           "Generosity",
           "Generosity",
           "Generosity",
           "Generosity",
           "Generosity",
           "Generosity",
           "Generosity",
           "Generosity",
           "Generosity",
           "Generosity",
           "Trust",
           "Trust",
           "Trust",
           "Trust",
           "Trust",
           "Trust",
           "Trust",
           "Trust",
           "Trust",
           "Trust",
           "Trust",
           "Trust",
           "Trust"
          ]
         ],
         "y": [
          [
           "1.",
           "1.",
           "1.",
           "1.",
           "2.",
           "2.",
           "2.",
           "3.",
           "3.",
           "3.",
           "3.",
           "3.",
           "3.",
           "1.",
           "1.",
           "1.",
           "1.",
           "2.",
           "2.",
           "2.",
           "3.",
           "3.",
           "3.",
           "3.",
           "3.",
           "3.",
           "1.",
           "1.",
           "1.",
           "1.",
           "2.",
           "2.",
           "2.",
           "3.",
           "3.",
           "3.",
           "3.",
           "3.",
           "3.",
           "1.",
           "1.",
           "1.",
           "1.",
           "2.",
           "2.",
           "2.",
           "3.",
           "3.",
           "3.",
           "3.",
           "3.",
           "3.",
           "1.",
           "1.",
           "1.",
           "1.",
           "2.",
           "2.",
           "2.",
           "3.",
           "3.",
           "3.",
           "3.",
           "3.",
           "3.",
           "1.",
           "1.",
           "1.",
           "1.",
           "2.",
           "2.",
           "2.",
           "3.",
           "3.",
           "3.",
           "3.",
           "3.",
           "3.",
           "1.",
           "1.",
           "1.",
           "1.",
           "2.",
           "2.",
           "2.",
           "3.",
           "3.",
           "3.",
           "3.",
           "3.",
           "3.",
           "1.",
           "1.",
           "1.",
           "1.",
           "2.",
           "2.",
           "2.",
           "3.",
           "3.",
           "3.",
           "3.",
           "3.",
           "3.",
           "1.",
           "1.",
           "1.",
           "1.",
           "2.",
           "2.",
           "2.",
           "3.",
           "3.",
           "3.",
           "3.",
           "3.",
           "3.",
           "1.",
           "1.",
           "1.",
           "1.",
           "2.",
           "2.",
           "2.",
           "3.",
           "3.",
           "3.",
           "3.",
           "3.",
           "3.",
           "1.",
           "1.",
           "1.",
           "1.",
           "2.",
           "2.",
           "2.",
           "3.",
           "3.",
           "3.",
           "3.",
           "3.",
           "3.",
           "1.",
           "1.",
           "1.",
           "1.",
           "2.",
           "2.",
           "2.",
           "3.",
           "3.",
           "3.",
           "3.",
           "3.",
           "3.",
           "1.",
           "1.",
           "1.",
           "1.",
           "2.",
           "2.",
           "2.",
           "3.",
           "3.",
           "3.",
           "3.",
           "3.",
           "3."
          ],
          [
           "Tot Cases/1M pop",
           "Deaths/1M pop",
           "Tests/1M pop",
           "Recovered/1M pop",
           "Recovered/1M cases",
           "Deaths/1M cases",
           "Confirmed/1M tests",
           "GDP",
           "Family",
           "Life expectancy",
           "Freedom",
           "Generosity",
           "Trust",
           "Tot Cases/1M pop",
           "Deaths/1M pop",
           "Tests/1M pop",
           "Recovered/1M pop",
           "Recovered/1M cases",
           "Deaths/1M cases",
           "Confirmed/1M tests",
           "GDP",
           "Family",
           "Life expectancy",
           "Freedom",
           "Generosity",
           "Trust",
           "Tot Cases/1M pop",
           "Deaths/1M pop",
           "Tests/1M pop",
           "Recovered/1M pop",
           "Recovered/1M cases",
           "Deaths/1M cases",
           "Confirmed/1M tests",
           "GDP",
           "Family",
           "Life expectancy",
           "Freedom",
           "Generosity",
           "Trust",
           "Tot Cases/1M pop",
           "Deaths/1M pop",
           "Tests/1M pop",
           "Recovered/1M pop",
           "Recovered/1M cases",
           "Deaths/1M cases",
           "Confirmed/1M tests",
           "GDP",
           "Family",
           "Life expectancy",
           "Freedom",
           "Generosity",
           "Trust",
           "Tot Cases/1M pop",
           "Deaths/1M pop",
           "Tests/1M pop",
           "Recovered/1M pop",
           "Recovered/1M cases",
           "Deaths/1M cases",
           "Confirmed/1M tests",
           "GDP",
           "Family",
           "Life expectancy",
           "Freedom",
           "Generosity",
           "Trust",
           "Tot Cases/1M pop",
           "Deaths/1M pop",
           "Tests/1M pop",
           "Recovered/1M pop",
           "Recovered/1M cases",
           "Deaths/1M cases",
           "Confirmed/1M tests",
           "GDP",
           "Family",
           "Life expectancy",
           "Freedom",
           "Generosity",
           "Trust",
           "Tot Cases/1M pop",
           "Deaths/1M pop",
           "Tests/1M pop",
           "Recovered/1M pop",
           "Recovered/1M cases",
           "Deaths/1M cases",
           "Confirmed/1M tests",
           "GDP",
           "Family",
           "Life expectancy",
           "Freedom",
           "Generosity",
           "Trust",
           "Tot Cases/1M pop",
           "Deaths/1M pop",
           "Tests/1M pop",
           "Recovered/1M pop",
           "Recovered/1M cases",
           "Deaths/1M cases",
           "Confirmed/1M tests",
           "GDP",
           "Family",
           "Life expectancy",
           "Freedom",
           "Generosity",
           "Trust",
           "Tot Cases/1M pop",
           "Deaths/1M pop",
           "Tests/1M pop",
           "Recovered/1M pop",
           "Recovered/1M cases",
           "Deaths/1M cases",
           "Confirmed/1M tests",
           "GDP",
           "Family",
           "Life expectancy",
           "Freedom",
           "Generosity",
           "Trust",
           "Tot Cases/1M pop",
           "Deaths/1M pop",
           "Tests/1M pop",
           "Recovered/1M pop",
           "Recovered/1M cases",
           "Deaths/1M cases",
           "Confirmed/1M tests",
           "GDP",
           "Family",
           "Life expectancy",
           "Freedom",
           "Generosity",
           "Trust",
           "Tot Cases/1M pop",
           "Deaths/1M pop",
           "Tests/1M pop",
           "Recovered/1M pop",
           "Recovered/1M cases",
           "Deaths/1M cases",
           "Confirmed/1M tests",
           "GDP",
           "Family",
           "Life expectancy",
           "Freedom",
           "Generosity",
           "Trust",
           "Tot Cases/1M pop",
           "Deaths/1M pop",
           "Tests/1M pop",
           "Recovered/1M pop",
           "Recovered/1M cases",
           "Deaths/1M cases",
           "Confirmed/1M tests",
           "GDP",
           "Family",
           "Life expectancy",
           "Freedom",
           "Generosity",
           "Trust",
           "Tot Cases/1M pop",
           "Deaths/1M pop",
           "Tests/1M pop",
           "Recovered/1M pop",
           "Recovered/1M cases",
           "Deaths/1M cases",
           "Confirmed/1M tests",
           "GDP",
           "Family",
           "Life expectancy",
           "Freedom",
           "Generosity",
           "Trust"
          ]
         ]
        }
       ],
       "layout": {
        "font": {
         "size": 14
        },
        "height": 885,
        "template": {
         "data": {
          "bar": [
           {
            "error_x": {
             "color": "#2a3f5f"
            },
            "error_y": {
             "color": "#2a3f5f"
            },
            "marker": {
             "line": {
              "color": "#E5ECF6",
              "width": 0.5
             }
            },
            "type": "bar"
           }
          ],
          "barpolar": [
           {
            "marker": {
             "line": {
              "color": "#E5ECF6",
              "width": 0.5
             }
            },
            "type": "barpolar"
           }
          ],
          "carpet": [
           {
            "aaxis": {
             "endlinecolor": "#2a3f5f",
             "gridcolor": "white",
             "linecolor": "white",
             "minorgridcolor": "white",
             "startlinecolor": "#2a3f5f"
            },
            "baxis": {
             "endlinecolor": "#2a3f5f",
             "gridcolor": "white",
             "linecolor": "white",
             "minorgridcolor": "white",
             "startlinecolor": "#2a3f5f"
            },
            "type": "carpet"
           }
          ],
          "choropleth": [
           {
            "colorbar": {
             "outlinewidth": 0,
             "ticks": ""
            },
            "type": "choropleth"
           }
          ],
          "contour": [
           {
            "colorbar": {
             "outlinewidth": 0,
             "ticks": ""
            },
            "colorscale": [
             [
              0,
              "#0d0887"
             ],
             [
              0.1111111111111111,
              "#46039f"
             ],
             [
              0.2222222222222222,
              "#7201a8"
             ],
             [
              0.3333333333333333,
              "#9c179e"
             ],
             [
              0.4444444444444444,
              "#bd3786"
             ],
             [
              0.5555555555555556,
              "#d8576b"
             ],
             [
              0.6666666666666666,
              "#ed7953"
             ],
             [
              0.7777777777777778,
              "#fb9f3a"
             ],
             [
              0.8888888888888888,
              "#fdca26"
             ],
             [
              1,
              "#f0f921"
             ]
            ],
            "type": "contour"
           }
          ],
          "contourcarpet": [
           {
            "colorbar": {
             "outlinewidth": 0,
             "ticks": ""
            },
            "type": "contourcarpet"
           }
          ],
          "heatmap": [
           {
            "colorbar": {
             "outlinewidth": 0,
             "ticks": ""
            },
            "colorscale": [
             [
              0,
              "#0d0887"
             ],
             [
              0.1111111111111111,
              "#46039f"
             ],
             [
              0.2222222222222222,
              "#7201a8"
             ],
             [
              0.3333333333333333,
              "#9c179e"
             ],
             [
              0.4444444444444444,
              "#bd3786"
             ],
             [
              0.5555555555555556,
              "#d8576b"
             ],
             [
              0.6666666666666666,
              "#ed7953"
             ],
             [
              0.7777777777777778,
              "#fb9f3a"
             ],
             [
              0.8888888888888888,
              "#fdca26"
             ],
             [
              1,
              "#f0f921"
             ]
            ],
            "type": "heatmap"
           }
          ],
          "heatmapgl": [
           {
            "colorbar": {
             "outlinewidth": 0,
             "ticks": ""
            },
            "colorscale": [
             [
              0,
              "#0d0887"
             ],
             [
              0.1111111111111111,
              "#46039f"
             ],
             [
              0.2222222222222222,
              "#7201a8"
             ],
             [
              0.3333333333333333,
              "#9c179e"
             ],
             [
              0.4444444444444444,
              "#bd3786"
             ],
             [
              0.5555555555555556,
              "#d8576b"
             ],
             [
              0.6666666666666666,
              "#ed7953"
             ],
             [
              0.7777777777777778,
              "#fb9f3a"
             ],
             [
              0.8888888888888888,
              "#fdca26"
             ],
             [
              1,
              "#f0f921"
             ]
            ],
            "type": "heatmapgl"
           }
          ],
          "histogram": [
           {
            "marker": {
             "colorbar": {
              "outlinewidth": 0,
              "ticks": ""
             }
            },
            "type": "histogram"
           }
          ],
          "histogram2d": [
           {
            "colorbar": {
             "outlinewidth": 0,
             "ticks": ""
            },
            "colorscale": [
             [
              0,
              "#0d0887"
             ],
             [
              0.1111111111111111,
              "#46039f"
             ],
             [
              0.2222222222222222,
              "#7201a8"
             ],
             [
              0.3333333333333333,
              "#9c179e"
             ],
             [
              0.4444444444444444,
              "#bd3786"
             ],
             [
              0.5555555555555556,
              "#d8576b"
             ],
             [
              0.6666666666666666,
              "#ed7953"
             ],
             [
              0.7777777777777778,
              "#fb9f3a"
             ],
             [
              0.8888888888888888,
              "#fdca26"
             ],
             [
              1,
              "#f0f921"
             ]
            ],
            "type": "histogram2d"
           }
          ],
          "histogram2dcontour": [
           {
            "colorbar": {
             "outlinewidth": 0,
             "ticks": ""
            },
            "colorscale": [
             [
              0,
              "#0d0887"
             ],
             [
              0.1111111111111111,
              "#46039f"
             ],
             [
              0.2222222222222222,
              "#7201a8"
             ],
             [
              0.3333333333333333,
              "#9c179e"
             ],
             [
              0.4444444444444444,
              "#bd3786"
             ],
             [
              0.5555555555555556,
              "#d8576b"
             ],
             [
              0.6666666666666666,
              "#ed7953"
             ],
             [
              0.7777777777777778,
              "#fb9f3a"
             ],
             [
              0.8888888888888888,
              "#fdca26"
             ],
             [
              1,
              "#f0f921"
             ]
            ],
            "type": "histogram2dcontour"
           }
          ],
          "mesh3d": [
           {
            "colorbar": {
             "outlinewidth": 0,
             "ticks": ""
            },
            "type": "mesh3d"
           }
          ],
          "parcoords": [
           {
            "line": {
             "colorbar": {
              "outlinewidth": 0,
              "ticks": ""
             }
            },
            "type": "parcoords"
           }
          ],
          "pie": [
           {
            "automargin": true,
            "type": "pie"
           }
          ],
          "scatter": [
           {
            "marker": {
             "colorbar": {
              "outlinewidth": 0,
              "ticks": ""
             }
            },
            "type": "scatter"
           }
          ],
          "scatter3d": [
           {
            "line": {
             "colorbar": {
              "outlinewidth": 0,
              "ticks": ""
             }
            },
            "marker": {
             "colorbar": {
              "outlinewidth": 0,
              "ticks": ""
             }
            },
            "type": "scatter3d"
           }
          ],
          "scattercarpet": [
           {
            "marker": {
             "colorbar": {
              "outlinewidth": 0,
              "ticks": ""
             }
            },
            "type": "scattercarpet"
           }
          ],
          "scattergeo": [
           {
            "marker": {
             "colorbar": {
              "outlinewidth": 0,
              "ticks": ""
             }
            },
            "type": "scattergeo"
           }
          ],
          "scattergl": [
           {
            "marker": {
             "colorbar": {
              "outlinewidth": 0,
              "ticks": ""
             }
            },
            "type": "scattergl"
           }
          ],
          "scattermapbox": [
           {
            "marker": {
             "colorbar": {
              "outlinewidth": 0,
              "ticks": ""
             }
            },
            "type": "scattermapbox"
           }
          ],
          "scatterpolar": [
           {
            "marker": {
             "colorbar": {
              "outlinewidth": 0,
              "ticks": ""
             }
            },
            "type": "scatterpolar"
           }
          ],
          "scatterpolargl": [
           {
            "marker": {
             "colorbar": {
              "outlinewidth": 0,
              "ticks": ""
             }
            },
            "type": "scatterpolargl"
           }
          ],
          "scatterternary": [
           {
            "marker": {
             "colorbar": {
              "outlinewidth": 0,
              "ticks": ""
             }
            },
            "type": "scatterternary"
           }
          ],
          "surface": [
           {
            "colorbar": {
             "outlinewidth": 0,
             "ticks": ""
            },
            "colorscale": [
             [
              0,
              "#0d0887"
             ],
             [
              0.1111111111111111,
              "#46039f"
             ],
             [
              0.2222222222222222,
              "#7201a8"
             ],
             [
              0.3333333333333333,
              "#9c179e"
             ],
             [
              0.4444444444444444,
              "#bd3786"
             ],
             [
              0.5555555555555556,
              "#d8576b"
             ],
             [
              0.6666666666666666,
              "#ed7953"
             ],
             [
              0.7777777777777778,
              "#fb9f3a"
             ],
             [
              0.8888888888888888,
              "#fdca26"
             ],
             [
              1,
              "#f0f921"
             ]
            ],
            "type": "surface"
           }
          ],
          "table": [
           {
            "cells": {
             "fill": {
              "color": "#EBF0F8"
             },
             "line": {
              "color": "white"
             }
            },
            "header": {
             "fill": {
              "color": "#C8D4E3"
             },
             "line": {
              "color": "white"
             }
            },
            "type": "table"
           }
          ]
         },
         "layout": {
          "annotationdefaults": {
           "arrowcolor": "#2a3f5f",
           "arrowhead": 0,
           "arrowwidth": 1
          },
          "coloraxis": {
           "colorbar": {
            "outlinewidth": 0,
            "ticks": ""
           }
          },
          "colorscale": {
           "diverging": [
            [
             0,
             "#8e0152"
            ],
            [
             0.1,
             "#c51b7d"
            ],
            [
             0.2,
             "#de77ae"
            ],
            [
             0.3,
             "#f1b6da"
            ],
            [
             0.4,
             "#fde0ef"
            ],
            [
             0.5,
             "#f7f7f7"
            ],
            [
             0.6,
             "#e6f5d0"
            ],
            [
             0.7,
             "#b8e186"
            ],
            [
             0.8,
             "#7fbc41"
            ],
            [
             0.9,
             "#4d9221"
            ],
            [
             1,
             "#276419"
            ]
           ],
           "sequential": [
            [
             0,
             "#0d0887"
            ],
            [
             0.1111111111111111,
             "#46039f"
            ],
            [
             0.2222222222222222,
             "#7201a8"
            ],
            [
             0.3333333333333333,
             "#9c179e"
            ],
            [
             0.4444444444444444,
             "#bd3786"
            ],
            [
             0.5555555555555556,
             "#d8576b"
            ],
            [
             0.6666666666666666,
             "#ed7953"
            ],
            [
             0.7777777777777778,
             "#fb9f3a"
            ],
            [
             0.8888888888888888,
             "#fdca26"
            ],
            [
             1,
             "#f0f921"
            ]
           ],
           "sequentialminus": [
            [
             0,
             "#0d0887"
            ],
            [
             0.1111111111111111,
             "#46039f"
            ],
            [
             0.2222222222222222,
             "#7201a8"
            ],
            [
             0.3333333333333333,
             "#9c179e"
            ],
            [
             0.4444444444444444,
             "#bd3786"
            ],
            [
             0.5555555555555556,
             "#d8576b"
            ],
            [
             0.6666666666666666,
             "#ed7953"
            ],
            [
             0.7777777777777778,
             "#fb9f3a"
            ],
            [
             0.8888888888888888,
             "#fdca26"
            ],
            [
             1,
             "#f0f921"
            ]
           ]
          },
          "colorway": [
           "#636efa",
           "#EF553B",
           "#00cc96",
           "#ab63fa",
           "#FFA15A",
           "#19d3f3",
           "#FF6692",
           "#B6E880",
           "#FF97FF",
           "#FECB52"
          ],
          "font": {
           "color": "#2a3f5f"
          },
          "geo": {
           "bgcolor": "white",
           "lakecolor": "white",
           "landcolor": "#E5ECF6",
           "showlakes": true,
           "showland": true,
           "subunitcolor": "white"
          },
          "hoverlabel": {
           "align": "left"
          },
          "hovermode": "closest",
          "mapbox": {
           "style": "light"
          },
          "paper_bgcolor": "white",
          "plot_bgcolor": "#E5ECF6",
          "polar": {
           "angularaxis": {
            "gridcolor": "white",
            "linecolor": "white",
            "ticks": ""
           },
           "bgcolor": "#E5ECF6",
           "radialaxis": {
            "gridcolor": "white",
            "linecolor": "white",
            "ticks": ""
           }
          },
          "scene": {
           "xaxis": {
            "backgroundcolor": "#E5ECF6",
            "gridcolor": "white",
            "gridwidth": 2,
            "linecolor": "white",
            "showbackground": true,
            "ticks": "",
            "zerolinecolor": "white"
           },
           "yaxis": {
            "backgroundcolor": "#E5ECF6",
            "gridcolor": "white",
            "gridwidth": 2,
            "linecolor": "white",
            "showbackground": true,
            "ticks": "",
            "zerolinecolor": "white"
           },
           "zaxis": {
            "backgroundcolor": "#E5ECF6",
            "gridcolor": "white",
            "gridwidth": 2,
            "linecolor": "white",
            "showbackground": true,
            "ticks": "",
            "zerolinecolor": "white"
           }
          },
          "shapedefaults": {
           "line": {
            "color": "#2a3f5f"
           }
          },
          "ternary": {
           "aaxis": {
            "gridcolor": "white",
            "linecolor": "white",
            "ticks": ""
           },
           "baxis": {
            "gridcolor": "white",
            "linecolor": "white",
            "ticks": ""
           },
           "bgcolor": "#E5ECF6",
           "caxis": {
            "gridcolor": "white",
            "linecolor": "white",
            "ticks": ""
           }
          },
          "title": {
           "x": 0.05
          },
          "xaxis": {
           "automargin": true,
           "gridcolor": "white",
           "linecolor": "white",
           "ticks": "",
           "title": {
            "standoff": 15
           },
           "zerolinecolor": "white",
           "zerolinewidth": 2
          },
          "yaxis": {
           "automargin": true,
           "gridcolor": "white",
           "linecolor": "white",
           "ticks": "",
           "title": {
            "standoff": 15
           },
           "zerolinecolor": "white",
           "zerolinewidth": 2
          }
         }
        },
        "title": {
         "text": "Americas: 23 countries"
        },
        "width": 885,
        "xaxis": {
         "range": [
          -0.5,
          12.5
         ],
         "showgrid": true,
         "ticklen": 0,
         "ticks": "outside",
         "tickson": "boundaries"
        },
        "yaxis": {
         "range": [
          -0.5,
          12.5
         ],
         "showgrid": true,
         "ticklen": 0,
         "ticks": "outside",
         "tickson": "boundaries"
        }
       }
      },
      "text/html": [
       "<div>\n",
       "        \n",
       "        \n",
       "            <div id=\"b1ec8af3-a716-4d37-aa2d-3edb634f102b\" class=\"plotly-graph-div\" style=\"height:885px; width:885px;\"></div>\n",
       "            <script type=\"text/javascript\">\n",
       "                require([\"plotly\"], function(Plotly) {\n",
       "                    window.PLOTLYENV=window.PLOTLYENV || {};\n",
       "                    \n",
       "                if (document.getElementById(\"b1ec8af3-a716-4d37-aa2d-3edb634f102b\")) {\n",
       "                    Plotly.newPlot(\n",
       "                        'b1ec8af3-a716-4d37-aa2d-3edb634f102b',\n",
       "                        [{\"hoverinfo\": \"text\", \"hovertext\": [\"\", \"0.7988320242782772\", \"0.5549182028013763\", \"0.9761016147814822\", \"\", \"\", \"\", \"0.42619314409783443\", \"\", \"\", \"\", \"\", \"\", \"0.7988320242782772\", \"\", \"\", \"0.8096522318544608\", \"\", \"0.4858464889124083\", \"\", \"\", \"\", \"\", \"\", \"\", \"\", \"0.5549182028013763\", \"\", \"\", \"0.5150052223148938\", \"\", \"\", \"-0.5069211625556098\", \"0.7002714568979663\", \"\", \"0.46783088591033106\", \"\", \"\", \"\", \"0.9761016147814822\", \"0.8096522318544608\", \"0.5150052223148938\", \"\", \"0.4183991684433489\", \"\", \"\", \"\", \"\", \"\", \"\", \"\", \"\", \"\", \"\", \"\", \"0.4183991684433489\", \"\", \"\", \"\", \"\", \"\", \"\", \"\", \"\", \"\", \"\", \"0.4858464889124083\", \"\", \"\", \"\", \"\", \"\", \"\", \"\", \"\", \"\", \"\", \"\", \"\", \"\", \"-0.5069211625556098\", \"\", \"\", \"\", \"\", \"-0.43564800647994456\", \"\", \"\", \"\", \"\", \"\", \"0.42619314409783443\", \"\", \"0.7002714568979663\", \"\", \"\", \"\", \"-0.43564800647994456\", \"\", \"0.7733088764342873\", \"0.7053128749318993\", \"0.4511486122139001\", \"\", \"\", \"\", \"\", \"\", \"\", \"\", \"\", \"\", \"0.7733088764342873\", \"\", \"0.759301274032041\", \"0.6347366999700007\", \"-0.521758880548156\", \"\", \"\", \"\", \"0.46783088591033106\", \"\", \"\", \"\", \"\", \"0.7053128749318993\", \"0.759301274032041\", \"\", \"0.6222643901548536\", \"\", \"\", \"\", \"\", \"\", \"\", \"\", \"\", \"\", \"0.4511486122139001\", \"0.6347366999700007\", \"0.6222643901548536\", \"\", \"\", \"\", \"\", \"\", \"\", \"\", \"\", \"\", \"\", \"\", \"-0.521758880548156\", \"\", \"\", \"\", \"0.49936723758793794\", \"\", \"\", \"\", \"\", \"\", \"\", \"\", \"\", \"\", \"\", \"\", \"0.49936723758793794\", \"\"], \"marker\": {\"cmid\": 0, \"color\": [0, 0.7988320242782772, 0.5549182028013763, 0.9761016147814822, 0, 0, 0, 0.42619314409783443, 0, 0, 0, 0, 0, 0.7988320242782772, 0, 0, 0.8096522318544608, 0, 0.4858464889124083, 0, 0, 0, 0, 0, 0, 0, 0.5549182028013763, 0, 0, 0.5150052223148938, 0, 0, -0.5069211625556098, 0.7002714568979663, 0, 0.46783088591033106, 0, 0, 0, 0.9761016147814822, 0.8096522318544608, 0.5150052223148938, 0, 0.4183991684433489, 0, 0, 0, 0, 0, 0, 0, 0, 0, 0, 0, 0.4183991684433489, 0, 0, 0, 0, 0, 0, 0, 0, 0, 0, 0.4858464889124083, 0, 0, 0, 0, 0, 0, 0, 0, 0, 0, 0, 0, 0, -0.5069211625556098, 0, 0, 0, 0, -0.43564800647994456, 0, 0, 0, 0, 0, 0.42619314409783443, 0, 0.7002714568979663, 0, 0, 0, -0.43564800647994456, 0, 0.7733088764342873, 0.7053128749318993, 0.4511486122139001, 0, 0, 0, 0, 0, 0, 0, 0, 0, 0.7733088764342873, 0, 0.759301274032041, 0.6347366999700007, -0.521758880548156, 0, 0, 0, 0.46783088591033106, 0, 0, 0, 0, 0.7053128749318993, 0.759301274032041, 0, 0.6222643901548536, 0, 0, 0, 0, 0, 0, 0, 0, 0, 0.4511486122139001, 0.6347366999700007, 0.6222643901548536, 0, 0, 0, 0, 0, 0, 0, 0, 0, 0, 0, -0.521758880548156, 0, 0, 0, 0.49936723758793794, 0, 0, 0, 0, 0, 0, 0, 0, 0, 0, 0, 0.49936723758793794, 0], \"colorbar\": {\"title\": {\"text\": \"Correlation\"}}, \"colorscale\": [[0.0, \"rgb(5,48,97)\"], [0.1, \"rgb(33,102,172)\"], [0.2, \"rgb(67,147,195)\"], [0.3, \"rgb(146,197,222)\"], [0.4, \"rgb(209,229,240)\"], [0.5, \"rgb(247,247,247)\"], [0.6, \"rgb(253,219,199)\"], [0.7, \"rgb(244,165,130)\"], [0.8, \"rgb(214,96,77)\"], [0.9, \"rgb(178,24,43)\"], [1.0, \"rgb(103,0,31)\"]], \"size\": [0, 36.74627311680075, 25.52623732886331, 44.90067427994818, 0, 0, 0, 19.604884628500383, 0, 0, 0, 0, 0, 36.74627311680075, 0, 0, 37.244002665305196, 0, 22.34893848997078, 0, 0, 0, 0, 0, 0, 0, 25.52623732886331, 0, 0, 23.690240226485113, 0, 0, 23.31837347755805, 32.21248701730645, 0, 21.52022075187523, 0, 0, 0, 44.90067427994818, 37.244002665305196, 23.690240226485113, 0, 19.24636174839405, 0, 0, 0, 0, 0, 0, 0, 0, 0, 0, 0, 19.24636174839405, 0, 0, 0, 0, 0, 0, 0, 0, 0, 0, 22.34893848997078, 0, 0, 0, 0, 0, 0, 0, 0, 0, 0, 0, 0, 0, 23.31837347755805, 0, 0, 0, 0, 20.03980829807745, 0, 0, 0, 0, 0, 19.604884628500383, 0, 32.21248701730645, 0, 0, 0, 20.03980829807745, 0, 35.572208315977214, 32.444392246867366, 20.752836161839404, 0, 0, 0, 0, 0, 0, 0, 0, 0, 35.572208315977214, 0, 34.92785860547389, 29.19788819862003, 24.000908505215175, 0, 0, 0, 21.52022075187523, 0, 0, 0, 0, 32.444392246867366, 34.92785860547389, 0, 28.624161947123266, 0, 0, 0, 0, 0, 0, 0, 0, 0, 20.752836161839404, 29.19788819862003, 28.624161947123266, 0, 0, 0, 0, 0, 0, 0, 0, 0, 0, 0, 24.000908505215175, 0, 0, 0, 22.970892929045146, 0, 0, 0, 0, 0, 0, 0, 0, 0, 0, 0, 22.970892929045146, 0]}, \"mode\": \"markers\", \"type\": \"scatter\", \"x\": [[\"1.\", \"1.\", \"1.\", \"1.\", \"1.\", \"1.\", \"1.\", \"1.\", \"1.\", \"1.\", \"1.\", \"1.\", \"1.\", \"1.\", \"1.\", \"1.\", \"1.\", \"1.\", \"1.\", \"1.\", \"1.\", \"1.\", \"1.\", \"1.\", \"1.\", \"1.\", \"1.\", \"1.\", \"1.\", \"1.\", \"1.\", \"1.\", \"1.\", \"1.\", \"1.\", \"1.\", \"1.\", \"1.\", \"1.\", \"1.\", \"1.\", \"1.\", \"1.\", \"1.\", \"1.\", \"1.\", \"1.\", \"1.\", \"1.\", \"1.\", \"1.\", \"1.\", \"2.\", \"2.\", \"2.\", \"2.\", \"2.\", \"2.\", \"2.\", \"2.\", \"2.\", \"2.\", \"2.\", \"2.\", \"2.\", \"2.\", \"2.\", \"2.\", \"2.\", \"2.\", \"2.\", \"2.\", \"2.\", \"2.\", \"2.\", \"2.\", \"2.\", \"2.\", \"2.\", \"2.\", \"2.\", \"2.\", \"2.\", \"2.\", \"2.\", \"2.\", \"2.\", \"2.\", \"2.\", \"2.\", \"2.\", \"3.\", \"3.\", \"3.\", \"3.\", \"3.\", \"3.\", \"3.\", \"3.\", \"3.\", \"3.\", \"3.\", \"3.\", \"3.\", \"3.\", \"3.\", \"3.\", \"3.\", \"3.\", \"3.\", \"3.\", \"3.\", \"3.\", \"3.\", \"3.\", \"3.\", \"3.\", \"3.\", \"3.\", \"3.\", \"3.\", \"3.\", \"3.\", \"3.\", \"3.\", \"3.\", \"3.\", \"3.\", \"3.\", \"3.\", \"3.\", \"3.\", \"3.\", \"3.\", \"3.\", \"3.\", \"3.\", \"3.\", \"3.\", \"3.\", \"3.\", \"3.\", \"3.\", \"3.\", \"3.\", \"3.\", \"3.\", \"3.\", \"3.\", \"3.\", \"3.\", \"3.\", \"3.\", \"3.\", \"3.\", \"3.\", \"3.\", \"3.\", \"3.\", \"3.\", \"3.\", \"3.\", \"3.\", \"3.\", \"3.\", \"3.\", \"3.\", \"3.\", \"3.\"], [\"Tot Cases/1M pop\", \"Tot Cases/1M pop\", \"Tot Cases/1M pop\", \"Tot Cases/1M pop\", \"Tot Cases/1M pop\", \"Tot Cases/1M pop\", \"Tot Cases/1M pop\", \"Tot Cases/1M pop\", \"Tot Cases/1M pop\", \"Tot Cases/1M pop\", \"Tot Cases/1M pop\", \"Tot Cases/1M pop\", \"Tot Cases/1M pop\", \"Deaths/1M pop\", \"Deaths/1M pop\", \"Deaths/1M pop\", \"Deaths/1M pop\", \"Deaths/1M pop\", \"Deaths/1M pop\", \"Deaths/1M pop\", \"Deaths/1M pop\", \"Deaths/1M pop\", \"Deaths/1M pop\", \"Deaths/1M pop\", \"Deaths/1M pop\", \"Deaths/1M pop\", \"Tests/1M pop\", \"Tests/1M pop\", \"Tests/1M pop\", \"Tests/1M pop\", \"Tests/1M pop\", \"Tests/1M pop\", \"Tests/1M pop\", \"Tests/1M pop\", \"Tests/1M pop\", \"Tests/1M pop\", \"Tests/1M pop\", \"Tests/1M pop\", \"Tests/1M pop\", \"Recovered/1M pop\", \"Recovered/1M pop\", \"Recovered/1M pop\", \"Recovered/1M pop\", \"Recovered/1M pop\", \"Recovered/1M pop\", \"Recovered/1M pop\", \"Recovered/1M pop\", \"Recovered/1M pop\", \"Recovered/1M pop\", \"Recovered/1M pop\", \"Recovered/1M pop\", \"Recovered/1M pop\", \"Recovered/1M cases\", \"Recovered/1M cases\", \"Recovered/1M cases\", \"Recovered/1M cases\", \"Recovered/1M cases\", \"Recovered/1M cases\", \"Recovered/1M cases\", \"Recovered/1M cases\", \"Recovered/1M cases\", \"Recovered/1M cases\", \"Recovered/1M cases\", \"Recovered/1M cases\", \"Recovered/1M cases\", \"Deaths/1M cases\", \"Deaths/1M cases\", \"Deaths/1M cases\", \"Deaths/1M cases\", \"Deaths/1M cases\", \"Deaths/1M cases\", \"Deaths/1M cases\", \"Deaths/1M cases\", \"Deaths/1M cases\", \"Deaths/1M cases\", \"Deaths/1M cases\", \"Deaths/1M cases\", \"Deaths/1M cases\", \"Confirmed/1M tests\", \"Confirmed/1M tests\", \"Confirmed/1M tests\", \"Confirmed/1M tests\", \"Confirmed/1M tests\", \"Confirmed/1M tests\", \"Confirmed/1M tests\", \"Confirmed/1M tests\", \"Confirmed/1M tests\", \"Confirmed/1M tests\", \"Confirmed/1M tests\", \"Confirmed/1M tests\", \"Confirmed/1M tests\", \"GDP\", \"GDP\", \"GDP\", \"GDP\", \"GDP\", \"GDP\", \"GDP\", \"GDP\", \"GDP\", \"GDP\", \"GDP\", \"GDP\", \"GDP\", \"Family\", \"Family\", \"Family\", \"Family\", \"Family\", \"Family\", \"Family\", \"Family\", \"Family\", \"Family\", \"Family\", \"Family\", \"Family\", \"Life expectancy\", \"Life expectancy\", \"Life expectancy\", \"Life expectancy\", \"Life expectancy\", \"Life expectancy\", \"Life expectancy\", \"Life expectancy\", \"Life expectancy\", \"Life expectancy\", \"Life expectancy\", \"Life expectancy\", \"Life expectancy\", \"Freedom\", \"Freedom\", \"Freedom\", \"Freedom\", \"Freedom\", \"Freedom\", \"Freedom\", \"Freedom\", \"Freedom\", \"Freedom\", \"Freedom\", \"Freedom\", \"Freedom\", \"Generosity\", \"Generosity\", \"Generosity\", \"Generosity\", \"Generosity\", \"Generosity\", \"Generosity\", \"Generosity\", \"Generosity\", \"Generosity\", \"Generosity\", \"Generosity\", \"Generosity\", \"Trust\", \"Trust\", \"Trust\", \"Trust\", \"Trust\", \"Trust\", \"Trust\", \"Trust\", \"Trust\", \"Trust\", \"Trust\", \"Trust\", \"Trust\"]], \"y\": [[\"1.\", \"1.\", \"1.\", \"1.\", \"2.\", \"2.\", \"2.\", \"3.\", \"3.\", \"3.\", \"3.\", \"3.\", \"3.\", \"1.\", \"1.\", \"1.\", \"1.\", \"2.\", \"2.\", \"2.\", \"3.\", \"3.\", \"3.\", \"3.\", \"3.\", \"3.\", \"1.\", \"1.\", \"1.\", \"1.\", \"2.\", \"2.\", \"2.\", \"3.\", \"3.\", \"3.\", \"3.\", \"3.\", \"3.\", \"1.\", \"1.\", \"1.\", \"1.\", \"2.\", \"2.\", \"2.\", \"3.\", \"3.\", \"3.\", \"3.\", \"3.\", \"3.\", \"1.\", \"1.\", \"1.\", \"1.\", \"2.\", \"2.\", \"2.\", \"3.\", \"3.\", \"3.\", \"3.\", \"3.\", \"3.\", \"1.\", \"1.\", \"1.\", \"1.\", \"2.\", \"2.\", \"2.\", \"3.\", \"3.\", \"3.\", \"3.\", \"3.\", \"3.\", \"1.\", \"1.\", \"1.\", \"1.\", \"2.\", \"2.\", \"2.\", \"3.\", \"3.\", \"3.\", \"3.\", \"3.\", \"3.\", \"1.\", \"1.\", \"1.\", \"1.\", \"2.\", \"2.\", \"2.\", \"3.\", \"3.\", \"3.\", \"3.\", \"3.\", \"3.\", \"1.\", \"1.\", \"1.\", \"1.\", \"2.\", \"2.\", \"2.\", \"3.\", \"3.\", \"3.\", \"3.\", \"3.\", \"3.\", \"1.\", \"1.\", \"1.\", \"1.\", \"2.\", \"2.\", \"2.\", \"3.\", \"3.\", \"3.\", \"3.\", \"3.\", \"3.\", \"1.\", \"1.\", \"1.\", \"1.\", \"2.\", \"2.\", \"2.\", \"3.\", \"3.\", \"3.\", \"3.\", \"3.\", \"3.\", \"1.\", \"1.\", \"1.\", \"1.\", \"2.\", \"2.\", \"2.\", \"3.\", \"3.\", \"3.\", \"3.\", \"3.\", \"3.\", \"1.\", \"1.\", \"1.\", \"1.\", \"2.\", \"2.\", \"2.\", \"3.\", \"3.\", \"3.\", \"3.\", \"3.\", \"3.\"], [\"Tot Cases/1M pop\", \"Deaths/1M pop\", \"Tests/1M pop\", \"Recovered/1M pop\", \"Recovered/1M cases\", \"Deaths/1M cases\", \"Confirmed/1M tests\", \"GDP\", \"Family\", \"Life expectancy\", \"Freedom\", \"Generosity\", \"Trust\", \"Tot Cases/1M pop\", \"Deaths/1M pop\", \"Tests/1M pop\", \"Recovered/1M pop\", \"Recovered/1M cases\", \"Deaths/1M cases\", \"Confirmed/1M tests\", \"GDP\", \"Family\", \"Life expectancy\", \"Freedom\", \"Generosity\", \"Trust\", \"Tot Cases/1M pop\", \"Deaths/1M pop\", \"Tests/1M pop\", \"Recovered/1M pop\", \"Recovered/1M cases\", \"Deaths/1M cases\", \"Confirmed/1M tests\", \"GDP\", \"Family\", \"Life expectancy\", \"Freedom\", \"Generosity\", \"Trust\", \"Tot Cases/1M pop\", \"Deaths/1M pop\", \"Tests/1M pop\", \"Recovered/1M pop\", \"Recovered/1M cases\", \"Deaths/1M cases\", \"Confirmed/1M tests\", \"GDP\", \"Family\", \"Life expectancy\", \"Freedom\", \"Generosity\", \"Trust\", \"Tot Cases/1M pop\", \"Deaths/1M pop\", \"Tests/1M pop\", \"Recovered/1M pop\", \"Recovered/1M cases\", \"Deaths/1M cases\", \"Confirmed/1M tests\", \"GDP\", \"Family\", \"Life expectancy\", \"Freedom\", \"Generosity\", \"Trust\", \"Tot Cases/1M pop\", \"Deaths/1M pop\", \"Tests/1M pop\", \"Recovered/1M pop\", \"Recovered/1M cases\", \"Deaths/1M cases\", \"Confirmed/1M tests\", \"GDP\", \"Family\", \"Life expectancy\", \"Freedom\", \"Generosity\", \"Trust\", \"Tot Cases/1M pop\", \"Deaths/1M pop\", \"Tests/1M pop\", \"Recovered/1M pop\", \"Recovered/1M cases\", \"Deaths/1M cases\", \"Confirmed/1M tests\", \"GDP\", \"Family\", \"Life expectancy\", \"Freedom\", \"Generosity\", \"Trust\", \"Tot Cases/1M pop\", \"Deaths/1M pop\", \"Tests/1M pop\", \"Recovered/1M pop\", \"Recovered/1M cases\", \"Deaths/1M cases\", \"Confirmed/1M tests\", \"GDP\", \"Family\", \"Life expectancy\", \"Freedom\", \"Generosity\", \"Trust\", \"Tot Cases/1M pop\", \"Deaths/1M pop\", \"Tests/1M pop\", \"Recovered/1M pop\", \"Recovered/1M cases\", \"Deaths/1M cases\", \"Confirmed/1M tests\", \"GDP\", \"Family\", \"Life expectancy\", \"Freedom\", \"Generosity\", \"Trust\", \"Tot Cases/1M pop\", \"Deaths/1M pop\", \"Tests/1M pop\", \"Recovered/1M pop\", \"Recovered/1M cases\", \"Deaths/1M cases\", \"Confirmed/1M tests\", \"GDP\", \"Family\", \"Life expectancy\", \"Freedom\", \"Generosity\", \"Trust\", \"Tot Cases/1M pop\", \"Deaths/1M pop\", \"Tests/1M pop\", \"Recovered/1M pop\", \"Recovered/1M cases\", \"Deaths/1M cases\", \"Confirmed/1M tests\", \"GDP\", \"Family\", \"Life expectancy\", \"Freedom\", \"Generosity\", \"Trust\", \"Tot Cases/1M pop\", \"Deaths/1M pop\", \"Tests/1M pop\", \"Recovered/1M pop\", \"Recovered/1M cases\", \"Deaths/1M cases\", \"Confirmed/1M tests\", \"GDP\", \"Family\", \"Life expectancy\", \"Freedom\", \"Generosity\", \"Trust\", \"Tot Cases/1M pop\", \"Deaths/1M pop\", \"Tests/1M pop\", \"Recovered/1M pop\", \"Recovered/1M cases\", \"Deaths/1M cases\", \"Confirmed/1M tests\", \"GDP\", \"Family\", \"Life expectancy\", \"Freedom\", \"Generosity\", \"Trust\"]]}],\n",
       "                        {\"font\": {\"size\": 14}, \"height\": 885, \"template\": {\"data\": {\"bar\": [{\"error_x\": {\"color\": \"#2a3f5f\"}, \"error_y\": {\"color\": \"#2a3f5f\"}, \"marker\": {\"line\": {\"color\": \"#E5ECF6\", \"width\": 0.5}}, \"type\": \"bar\"}], \"barpolar\": [{\"marker\": {\"line\": {\"color\": \"#E5ECF6\", \"width\": 0.5}}, \"type\": \"barpolar\"}], \"carpet\": [{\"aaxis\": {\"endlinecolor\": \"#2a3f5f\", \"gridcolor\": \"white\", \"linecolor\": \"white\", \"minorgridcolor\": \"white\", \"startlinecolor\": \"#2a3f5f\"}, \"baxis\": {\"endlinecolor\": \"#2a3f5f\", \"gridcolor\": \"white\", \"linecolor\": \"white\", \"minorgridcolor\": \"white\", \"startlinecolor\": \"#2a3f5f\"}, \"type\": \"carpet\"}], \"choropleth\": [{\"colorbar\": {\"outlinewidth\": 0, \"ticks\": \"\"}, \"type\": \"choropleth\"}], \"contour\": [{\"colorbar\": {\"outlinewidth\": 0, \"ticks\": \"\"}, \"colorscale\": [[0.0, \"#0d0887\"], [0.1111111111111111, \"#46039f\"], [0.2222222222222222, \"#7201a8\"], [0.3333333333333333, \"#9c179e\"], [0.4444444444444444, \"#bd3786\"], [0.5555555555555556, \"#d8576b\"], [0.6666666666666666, \"#ed7953\"], [0.7777777777777778, \"#fb9f3a\"], [0.8888888888888888, \"#fdca26\"], [1.0, \"#f0f921\"]], \"type\": \"contour\"}], \"contourcarpet\": [{\"colorbar\": {\"outlinewidth\": 0, \"ticks\": \"\"}, \"type\": \"contourcarpet\"}], \"heatmap\": [{\"colorbar\": {\"outlinewidth\": 0, \"ticks\": \"\"}, \"colorscale\": [[0.0, \"#0d0887\"], [0.1111111111111111, \"#46039f\"], [0.2222222222222222, \"#7201a8\"], [0.3333333333333333, \"#9c179e\"], [0.4444444444444444, \"#bd3786\"], [0.5555555555555556, \"#d8576b\"], [0.6666666666666666, \"#ed7953\"], [0.7777777777777778, \"#fb9f3a\"], [0.8888888888888888, \"#fdca26\"], [1.0, \"#f0f921\"]], \"type\": \"heatmap\"}], \"heatmapgl\": [{\"colorbar\": {\"outlinewidth\": 0, \"ticks\": \"\"}, \"colorscale\": [[0.0, \"#0d0887\"], [0.1111111111111111, \"#46039f\"], [0.2222222222222222, \"#7201a8\"], [0.3333333333333333, \"#9c179e\"], [0.4444444444444444, \"#bd3786\"], [0.5555555555555556, \"#d8576b\"], [0.6666666666666666, \"#ed7953\"], [0.7777777777777778, \"#fb9f3a\"], [0.8888888888888888, \"#fdca26\"], [1.0, \"#f0f921\"]], \"type\": \"heatmapgl\"}], \"histogram\": [{\"marker\": {\"colorbar\": {\"outlinewidth\": 0, \"ticks\": \"\"}}, \"type\": \"histogram\"}], \"histogram2d\": [{\"colorbar\": {\"outlinewidth\": 0, \"ticks\": \"\"}, \"colorscale\": [[0.0, \"#0d0887\"], [0.1111111111111111, \"#46039f\"], [0.2222222222222222, \"#7201a8\"], [0.3333333333333333, \"#9c179e\"], [0.4444444444444444, \"#bd3786\"], [0.5555555555555556, \"#d8576b\"], [0.6666666666666666, \"#ed7953\"], [0.7777777777777778, \"#fb9f3a\"], [0.8888888888888888, \"#fdca26\"], [1.0, \"#f0f921\"]], \"type\": \"histogram2d\"}], \"histogram2dcontour\": [{\"colorbar\": {\"outlinewidth\": 0, \"ticks\": \"\"}, \"colorscale\": [[0.0, \"#0d0887\"], [0.1111111111111111, \"#46039f\"], [0.2222222222222222, \"#7201a8\"], [0.3333333333333333, \"#9c179e\"], [0.4444444444444444, \"#bd3786\"], [0.5555555555555556, \"#d8576b\"], [0.6666666666666666, \"#ed7953\"], [0.7777777777777778, \"#fb9f3a\"], [0.8888888888888888, \"#fdca26\"], [1.0, \"#f0f921\"]], \"type\": \"histogram2dcontour\"}], \"mesh3d\": [{\"colorbar\": {\"outlinewidth\": 0, \"ticks\": \"\"}, \"type\": \"mesh3d\"}], \"parcoords\": [{\"line\": {\"colorbar\": {\"outlinewidth\": 0, \"ticks\": \"\"}}, \"type\": \"parcoords\"}], \"pie\": [{\"automargin\": true, \"type\": \"pie\"}], \"scatter\": [{\"marker\": {\"colorbar\": {\"outlinewidth\": 0, \"ticks\": \"\"}}, \"type\": \"scatter\"}], \"scatter3d\": [{\"line\": {\"colorbar\": {\"outlinewidth\": 0, \"ticks\": \"\"}}, \"marker\": {\"colorbar\": {\"outlinewidth\": 0, \"ticks\": \"\"}}, \"type\": \"scatter3d\"}], \"scattercarpet\": [{\"marker\": {\"colorbar\": {\"outlinewidth\": 0, \"ticks\": \"\"}}, \"type\": \"scattercarpet\"}], \"scattergeo\": [{\"marker\": {\"colorbar\": {\"outlinewidth\": 0, \"ticks\": \"\"}}, \"type\": \"scattergeo\"}], \"scattergl\": [{\"marker\": {\"colorbar\": {\"outlinewidth\": 0, \"ticks\": \"\"}}, \"type\": \"scattergl\"}], \"scattermapbox\": [{\"marker\": {\"colorbar\": {\"outlinewidth\": 0, \"ticks\": \"\"}}, \"type\": \"scattermapbox\"}], \"scatterpolar\": [{\"marker\": {\"colorbar\": {\"outlinewidth\": 0, \"ticks\": \"\"}}, \"type\": \"scatterpolar\"}], \"scatterpolargl\": [{\"marker\": {\"colorbar\": {\"outlinewidth\": 0, \"ticks\": \"\"}}, \"type\": \"scatterpolargl\"}], \"scatterternary\": [{\"marker\": {\"colorbar\": {\"outlinewidth\": 0, \"ticks\": \"\"}}, \"type\": \"scatterternary\"}], \"surface\": [{\"colorbar\": {\"outlinewidth\": 0, \"ticks\": \"\"}, \"colorscale\": [[0.0, \"#0d0887\"], [0.1111111111111111, \"#46039f\"], [0.2222222222222222, \"#7201a8\"], [0.3333333333333333, \"#9c179e\"], [0.4444444444444444, \"#bd3786\"], [0.5555555555555556, \"#d8576b\"], [0.6666666666666666, \"#ed7953\"], [0.7777777777777778, \"#fb9f3a\"], [0.8888888888888888, \"#fdca26\"], [1.0, \"#f0f921\"]], \"type\": \"surface\"}], \"table\": [{\"cells\": {\"fill\": {\"color\": \"#EBF0F8\"}, \"line\": {\"color\": \"white\"}}, \"header\": {\"fill\": {\"color\": \"#C8D4E3\"}, \"line\": {\"color\": \"white\"}}, \"type\": \"table\"}]}, \"layout\": {\"annotationdefaults\": {\"arrowcolor\": \"#2a3f5f\", \"arrowhead\": 0, \"arrowwidth\": 1}, \"coloraxis\": {\"colorbar\": {\"outlinewidth\": 0, \"ticks\": \"\"}}, \"colorscale\": {\"diverging\": [[0, \"#8e0152\"], [0.1, \"#c51b7d\"], [0.2, \"#de77ae\"], [0.3, \"#f1b6da\"], [0.4, \"#fde0ef\"], [0.5, \"#f7f7f7\"], [0.6, \"#e6f5d0\"], [0.7, \"#b8e186\"], [0.8, \"#7fbc41\"], [0.9, \"#4d9221\"], [1, \"#276419\"]], \"sequential\": [[0.0, \"#0d0887\"], [0.1111111111111111, \"#46039f\"], [0.2222222222222222, \"#7201a8\"], [0.3333333333333333, \"#9c179e\"], [0.4444444444444444, \"#bd3786\"], [0.5555555555555556, \"#d8576b\"], [0.6666666666666666, \"#ed7953\"], [0.7777777777777778, \"#fb9f3a\"], [0.8888888888888888, \"#fdca26\"], [1.0, \"#f0f921\"]], \"sequentialminus\": [[0.0, \"#0d0887\"], [0.1111111111111111, \"#46039f\"], [0.2222222222222222, \"#7201a8\"], [0.3333333333333333, \"#9c179e\"], [0.4444444444444444, \"#bd3786\"], [0.5555555555555556, \"#d8576b\"], [0.6666666666666666, \"#ed7953\"], [0.7777777777777778, \"#fb9f3a\"], [0.8888888888888888, \"#fdca26\"], [1.0, \"#f0f921\"]]}, \"colorway\": [\"#636efa\", \"#EF553B\", \"#00cc96\", \"#ab63fa\", \"#FFA15A\", \"#19d3f3\", \"#FF6692\", \"#B6E880\", \"#FF97FF\", \"#FECB52\"], \"font\": {\"color\": \"#2a3f5f\"}, \"geo\": {\"bgcolor\": \"white\", \"lakecolor\": \"white\", \"landcolor\": \"#E5ECF6\", \"showlakes\": true, \"showland\": true, \"subunitcolor\": \"white\"}, \"hoverlabel\": {\"align\": \"left\"}, \"hovermode\": \"closest\", \"mapbox\": {\"style\": \"light\"}, \"paper_bgcolor\": \"white\", \"plot_bgcolor\": \"#E5ECF6\", \"polar\": {\"angularaxis\": {\"gridcolor\": \"white\", \"linecolor\": \"white\", \"ticks\": \"\"}, \"bgcolor\": \"#E5ECF6\", \"radialaxis\": {\"gridcolor\": \"white\", \"linecolor\": \"white\", \"ticks\": \"\"}}, \"scene\": {\"xaxis\": {\"backgroundcolor\": \"#E5ECF6\", \"gridcolor\": \"white\", \"gridwidth\": 2, \"linecolor\": \"white\", \"showbackground\": true, \"ticks\": \"\", \"zerolinecolor\": \"white\"}, \"yaxis\": {\"backgroundcolor\": \"#E5ECF6\", \"gridcolor\": \"white\", \"gridwidth\": 2, \"linecolor\": \"white\", \"showbackground\": true, \"ticks\": \"\", \"zerolinecolor\": \"white\"}, \"zaxis\": {\"backgroundcolor\": \"#E5ECF6\", \"gridcolor\": \"white\", \"gridwidth\": 2, \"linecolor\": \"white\", \"showbackground\": true, \"ticks\": \"\", \"zerolinecolor\": \"white\"}}, \"shapedefaults\": {\"line\": {\"color\": \"#2a3f5f\"}}, \"ternary\": {\"aaxis\": {\"gridcolor\": \"white\", \"linecolor\": \"white\", \"ticks\": \"\"}, \"baxis\": {\"gridcolor\": \"white\", \"linecolor\": \"white\", \"ticks\": \"\"}, \"bgcolor\": \"#E5ECF6\", \"caxis\": {\"gridcolor\": \"white\", \"linecolor\": \"white\", \"ticks\": \"\"}}, \"title\": {\"x\": 0.05}, \"xaxis\": {\"automargin\": true, \"gridcolor\": \"white\", \"linecolor\": \"white\", \"ticks\": \"\", \"title\": {\"standoff\": 15}, \"zerolinecolor\": \"white\", \"zerolinewidth\": 2}, \"yaxis\": {\"automargin\": true, \"gridcolor\": \"white\", \"linecolor\": \"white\", \"ticks\": \"\", \"title\": {\"standoff\": 15}, \"zerolinecolor\": \"white\", \"zerolinewidth\": 2}}}, \"title\": {\"text\": \"Americas: 23 countries\"}, \"width\": 885, \"xaxis\": {\"range\": [-0.5, 12.5], \"showgrid\": true, \"ticklen\": 0, \"ticks\": \"outside\", \"tickson\": \"boundaries\"}, \"yaxis\": {\"range\": [-0.5, 12.5], \"showgrid\": true, \"ticklen\": 0, \"ticks\": \"outside\", \"tickson\": \"boundaries\"}},\n",
       "                        {\"responsive\": true}\n",
       "                    ).then(function(){\n",
       "                            \n",
       "var gd = document.getElementById('b1ec8af3-a716-4d37-aa2d-3edb634f102b');\n",
       "var x = new MutationObserver(function (mutations, observer) {{\n",
       "        var display = window.getComputedStyle(gd).display;\n",
       "        if (!display || display === 'none') {{\n",
       "            console.log([gd, 'removed!']);\n",
       "            Plotly.purge(gd);\n",
       "            observer.disconnect();\n",
       "        }}\n",
       "}});\n",
       "\n",
       "// Listen for the removal of the full notebook cells\n",
       "var notebookContainer = gd.closest('#notebook-container');\n",
       "if (notebookContainer) {{\n",
       "    x.observe(notebookContainer, {childList: true});\n",
       "}}\n",
       "\n",
       "// Listen for the clearing of the current output cell\n",
       "var outputEl = gd.closest('.output');\n",
       "if (outputEl) {{\n",
       "    x.observe(outputEl, {childList: true});\n",
       "}}\n",
       "\n",
       "                        })\n",
       "                };\n",
       "                });\n",
       "            </script>\n",
       "        </div>"
      ]
     },
     "metadata": {},
     "output_type": "display_data"
    },
    {
     "data": {
      "application/vnd.plotly.v1+json": {
       "config": {
        "plotlyServerURL": "https://plot.ly"
       },
       "data": [
        {
         "hoverinfo": "text",
         "hovertext": [
          "",
          "0.8587287594733802",
          "",
          "0.9960436237563448",
          "",
          "",
          "",
          "",
          "-0.8256546454558522",
          "",
          "",
          "",
          "",
          "0.8587287594733802",
          "",
          "",
          "0.8759786860502796",
          "",
          "",
          "",
          "",
          "-0.8719355643100211",
          "",
          "",
          "",
          "",
          "",
          "",
          "",
          "",
          "",
          "",
          "",
          "",
          "",
          "",
          "",
          "",
          "",
          "0.9960436237563448",
          "0.8759786860502796",
          "",
          "",
          "",
          "",
          "",
          "",
          "-0.8365107594823975",
          "",
          "",
          "",
          "",
          "",
          "",
          "",
          "",
          "",
          "",
          "",
          "",
          "",
          "",
          "",
          "",
          "",
          "",
          "",
          "",
          "",
          "",
          "",
          "",
          "",
          "",
          "",
          "",
          "",
          "",
          "",
          "",
          "",
          "",
          "",
          "",
          "",
          "",
          "",
          "",
          "",
          "",
          "",
          "",
          "",
          "",
          "",
          "",
          "",
          "",
          "",
          "",
          "",
          "",
          "",
          "",
          "-0.8256546454558522",
          "-0.8719355643100211",
          "",
          "-0.8365107594823975",
          "",
          "",
          "",
          "",
          "",
          "",
          "",
          "",
          "",
          "",
          "",
          "",
          "",
          "",
          "",
          "",
          "",
          "",
          "",
          "",
          "",
          "",
          "",
          "",
          "",
          "",
          "",
          "",
          "",
          "",
          "",
          "",
          "",
          "",
          "",
          "",
          "",
          "",
          "",
          "",
          "",
          "",
          "",
          "",
          "",
          "",
          "",
          "",
          "",
          "",
          "",
          "",
          "",
          "",
          "",
          "",
          "",
          "",
          "",
          "",
          ""
         ],
         "marker": {
          "cmid": 0,
          "color": [
           0,
           0.8587287594733802,
           0,
           0.9960436237563448,
           0,
           0,
           0,
           0,
           -0.8256546454558522,
           0,
           0,
           0,
           0,
           0.8587287594733802,
           0,
           0,
           0.8759786860502796,
           0,
           0,
           0,
           0,
           -0.8719355643100211,
           0,
           0,
           0,
           0,
           0,
           0,
           0,
           0,
           0,
           0,
           0,
           0,
           0,
           0,
           0,
           0,
           0,
           0.9960436237563448,
           0.8759786860502796,
           0,
           0,
           0,
           0,
           0,
           0,
           -0.8365107594823975,
           0,
           0,
           0,
           0,
           0,
           0,
           0,
           0,
           0,
           0,
           0,
           0,
           0,
           0,
           0,
           0,
           0,
           0,
           0,
           0,
           0,
           0,
           0,
           0,
           0,
           0,
           0,
           0,
           0,
           0,
           0,
           0,
           0,
           0,
           0,
           0,
           0,
           0,
           0,
           0,
           0,
           0,
           0,
           0,
           0,
           0,
           0,
           0,
           0,
           0,
           0,
           0,
           0,
           0,
           0,
           0,
           -0.8256546454558522,
           -0.8719355643100211,
           0,
           -0.8365107594823975,
           0,
           0,
           0,
           0,
           0,
           0,
           0,
           0,
           0,
           0,
           0,
           0,
           0,
           0,
           0,
           0,
           0,
           0,
           0,
           0,
           0,
           0,
           0,
           0,
           0,
           0,
           0,
           0,
           0,
           0,
           0,
           0,
           0,
           0,
           0,
           0,
           0,
           0,
           0,
           0,
           0,
           0,
           0,
           0,
           0,
           0,
           0,
           0,
           0,
           0,
           0,
           0,
           0,
           0,
           0,
           0,
           0,
           0,
           0,
           0,
           0
          ],
          "colorbar": {
           "title": {
            "text": "Correlation"
           }
          },
          "colorscale": [
           [
            0,
            "rgb(5,48,97)"
           ],
           [
            0.1,
            "rgb(33,102,172)"
           ],
           [
            0.2,
            "rgb(67,147,195)"
           ],
           [
            0.3,
            "rgb(146,197,222)"
           ],
           [
            0.4,
            "rgb(209,229,240)"
           ],
           [
            0.5,
            "rgb(247,247,247)"
           ],
           [
            0.6,
            "rgb(253,219,199)"
           ],
           [
            0.7,
            "rgb(244,165,130)"
           ],
           [
            0.8,
            "rgb(214,96,77)"
           ],
           [
            0.9,
            "rgb(178,24,43)"
           ],
           [
            1,
            "rgb(103,0,31)"
           ]
          ],
          "size": [
           0,
           39.50152293577549,
           0,
           45.81800669279186,
           0,
           0,
           0,
           0,
           37.980113690969205,
           0,
           0,
           0,
           0,
           39.50152293577549,
           0,
           0,
           40.29501955831286,
           0,
           0,
           0,
           0,
           40.10903595826097,
           0,
           0,
           0,
           0,
           0,
           0,
           0,
           0,
           0,
           0,
           0,
           0,
           0,
           0,
           0,
           0,
           0,
           45.81800669279186,
           40.29501955831286,
           0,
           0,
           0,
           0,
           0,
           0,
           38.479494936190285,
           0,
           0,
           0,
           0,
           0,
           0,
           0,
           0,
           0,
           0,
           0,
           0,
           0,
           0,
           0,
           0,
           0,
           0,
           0,
           0,
           0,
           0,
           0,
           0,
           0,
           0,
           0,
           0,
           0,
           0,
           0,
           0,
           0,
           0,
           0,
           0,
           0,
           0,
           0,
           0,
           0,
           0,
           0,
           0,
           0,
           0,
           0,
           0,
           0,
           0,
           0,
           0,
           0,
           0,
           0,
           0,
           37.980113690969205,
           40.10903595826097,
           0,
           38.479494936190285,
           0,
           0,
           0,
           0,
           0,
           0,
           0,
           0,
           0,
           0,
           0,
           0,
           0,
           0,
           0,
           0,
           0,
           0,
           0,
           0,
           0,
           0,
           0,
           0,
           0,
           0,
           0,
           0,
           0,
           0,
           0,
           0,
           0,
           0,
           0,
           0,
           0,
           0,
           0,
           0,
           0,
           0,
           0,
           0,
           0,
           0,
           0,
           0,
           0,
           0,
           0,
           0,
           0,
           0,
           0,
           0,
           0,
           0,
           0,
           0,
           0
          ]
         },
         "mode": "markers",
         "type": "scatter",
         "x": [
          [
           "1.",
           "1.",
           "1.",
           "1.",
           "1.",
           "1.",
           "1.",
           "1.",
           "1.",
           "1.",
           "1.",
           "1.",
           "1.",
           "1.",
           "1.",
           "1.",
           "1.",
           "1.",
           "1.",
           "1.",
           "1.",
           "1.",
           "1.",
           "1.",
           "1.",
           "1.",
           "1.",
           "1.",
           "1.",
           "1.",
           "1.",
           "1.",
           "1.",
           "1.",
           "1.",
           "1.",
           "1.",
           "1.",
           "1.",
           "1.",
           "1.",
           "1.",
           "1.",
           "1.",
           "1.",
           "1.",
           "1.",
           "1.",
           "1.",
           "1.",
           "1.",
           "1.",
           "2.",
           "2.",
           "2.",
           "2.",
           "2.",
           "2.",
           "2.",
           "2.",
           "2.",
           "2.",
           "2.",
           "2.",
           "2.",
           "2.",
           "2.",
           "2.",
           "2.",
           "2.",
           "2.",
           "2.",
           "2.",
           "2.",
           "2.",
           "2.",
           "2.",
           "2.",
           "2.",
           "2.",
           "2.",
           "2.",
           "2.",
           "2.",
           "2.",
           "2.",
           "2.",
           "2.",
           "2.",
           "2.",
           "2.",
           "3.",
           "3.",
           "3.",
           "3.",
           "3.",
           "3.",
           "3.",
           "3.",
           "3.",
           "3.",
           "3.",
           "3.",
           "3.",
           "3.",
           "3.",
           "3.",
           "3.",
           "3.",
           "3.",
           "3.",
           "3.",
           "3.",
           "3.",
           "3.",
           "3.",
           "3.",
           "3.",
           "3.",
           "3.",
           "3.",
           "3.",
           "3.",
           "3.",
           "3.",
           "3.",
           "3.",
           "3.",
           "3.",
           "3.",
           "3.",
           "3.",
           "3.",
           "3.",
           "3.",
           "3.",
           "3.",
           "3.",
           "3.",
           "3.",
           "3.",
           "3.",
           "3.",
           "3.",
           "3.",
           "3.",
           "3.",
           "3.",
           "3.",
           "3.",
           "3.",
           "3.",
           "3.",
           "3.",
           "3.",
           "3.",
           "3.",
           "3.",
           "3.",
           "3.",
           "3.",
           "3.",
           "3.",
           "3.",
           "3.",
           "3.",
           "3.",
           "3.",
           "3."
          ],
          [
           "Tot Cases/1M pop",
           "Tot Cases/1M pop",
           "Tot Cases/1M pop",
           "Tot Cases/1M pop",
           "Tot Cases/1M pop",
           "Tot Cases/1M pop",
           "Tot Cases/1M pop",
           "Tot Cases/1M pop",
           "Tot Cases/1M pop",
           "Tot Cases/1M pop",
           "Tot Cases/1M pop",
           "Tot Cases/1M pop",
           "Tot Cases/1M pop",
           "Deaths/1M pop",
           "Deaths/1M pop",
           "Deaths/1M pop",
           "Deaths/1M pop",
           "Deaths/1M pop",
           "Deaths/1M pop",
           "Deaths/1M pop",
           "Deaths/1M pop",
           "Deaths/1M pop",
           "Deaths/1M pop",
           "Deaths/1M pop",
           "Deaths/1M pop",
           "Deaths/1M pop",
           "Tests/1M pop",
           "Tests/1M pop",
           "Tests/1M pop",
           "Tests/1M pop",
           "Tests/1M pop",
           "Tests/1M pop",
           "Tests/1M pop",
           "Tests/1M pop",
           "Tests/1M pop",
           "Tests/1M pop",
           "Tests/1M pop",
           "Tests/1M pop",
           "Tests/1M pop",
           "Recovered/1M pop",
           "Recovered/1M pop",
           "Recovered/1M pop",
           "Recovered/1M pop",
           "Recovered/1M pop",
           "Recovered/1M pop",
           "Recovered/1M pop",
           "Recovered/1M pop",
           "Recovered/1M pop",
           "Recovered/1M pop",
           "Recovered/1M pop",
           "Recovered/1M pop",
           "Recovered/1M pop",
           "Recovered/1M cases",
           "Recovered/1M cases",
           "Recovered/1M cases",
           "Recovered/1M cases",
           "Recovered/1M cases",
           "Recovered/1M cases",
           "Recovered/1M cases",
           "Recovered/1M cases",
           "Recovered/1M cases",
           "Recovered/1M cases",
           "Recovered/1M cases",
           "Recovered/1M cases",
           "Recovered/1M cases",
           "Deaths/1M cases",
           "Deaths/1M cases",
           "Deaths/1M cases",
           "Deaths/1M cases",
           "Deaths/1M cases",
           "Deaths/1M cases",
           "Deaths/1M cases",
           "Deaths/1M cases",
           "Deaths/1M cases",
           "Deaths/1M cases",
           "Deaths/1M cases",
           "Deaths/1M cases",
           "Deaths/1M cases",
           "Confirmed/1M tests",
           "Confirmed/1M tests",
           "Confirmed/1M tests",
           "Confirmed/1M tests",
           "Confirmed/1M tests",
           "Confirmed/1M tests",
           "Confirmed/1M tests",
           "Confirmed/1M tests",
           "Confirmed/1M tests",
           "Confirmed/1M tests",
           "Confirmed/1M tests",
           "Confirmed/1M tests",
           "Confirmed/1M tests",
           "GDP",
           "GDP",
           "GDP",
           "GDP",
           "GDP",
           "GDP",
           "GDP",
           "GDP",
           "GDP",
           "GDP",
           "GDP",
           "GDP",
           "GDP",
           "Family",
           "Family",
           "Family",
           "Family",
           "Family",
           "Family",
           "Family",
           "Family",
           "Family",
           "Family",
           "Family",
           "Family",
           "Family",
           "Life expectancy",
           "Life expectancy",
           "Life expectancy",
           "Life expectancy",
           "Life expectancy",
           "Life expectancy",
           "Life expectancy",
           "Life expectancy",
           "Life expectancy",
           "Life expectancy",
           "Life expectancy",
           "Life expectancy",
           "Life expectancy",
           "Freedom",
           "Freedom",
           "Freedom",
           "Freedom",
           "Freedom",
           "Freedom",
           "Freedom",
           "Freedom",
           "Freedom",
           "Freedom",
           "Freedom",
           "Freedom",
           "Freedom",
           "Generosity",
           "Generosity",
           "Generosity",
           "Generosity",
           "Generosity",
           "Generosity",
           "Generosity",
           "Generosity",
           "Generosity",
           "Generosity",
           "Generosity",
           "Generosity",
           "Generosity",
           "Trust",
           "Trust",
           "Trust",
           "Trust",
           "Trust",
           "Trust",
           "Trust",
           "Trust",
           "Trust",
           "Trust",
           "Trust",
           "Trust",
           "Trust"
          ]
         ],
         "y": [
          [
           "1.",
           "1.",
           "1.",
           "1.",
           "2.",
           "2.",
           "2.",
           "3.",
           "3.",
           "3.",
           "3.",
           "3.",
           "3.",
           "1.",
           "1.",
           "1.",
           "1.",
           "2.",
           "2.",
           "2.",
           "3.",
           "3.",
           "3.",
           "3.",
           "3.",
           "3.",
           "1.",
           "1.",
           "1.",
           "1.",
           "2.",
           "2.",
           "2.",
           "3.",
           "3.",
           "3.",
           "3.",
           "3.",
           "3.",
           "1.",
           "1.",
           "1.",
           "1.",
           "2.",
           "2.",
           "2.",
           "3.",
           "3.",
           "3.",
           "3.",
           "3.",
           "3.",
           "1.",
           "1.",
           "1.",
           "1.",
           "2.",
           "2.",
           "2.",
           "3.",
           "3.",
           "3.",
           "3.",
           "3.",
           "3.",
           "1.",
           "1.",
           "1.",
           "1.",
           "2.",
           "2.",
           "2.",
           "3.",
           "3.",
           "3.",
           "3.",
           "3.",
           "3.",
           "1.",
           "1.",
           "1.",
           "1.",
           "2.",
           "2.",
           "2.",
           "3.",
           "3.",
           "3.",
           "3.",
           "3.",
           "3.",
           "1.",
           "1.",
           "1.",
           "1.",
           "2.",
           "2.",
           "2.",
           "3.",
           "3.",
           "3.",
           "3.",
           "3.",
           "3.",
           "1.",
           "1.",
           "1.",
           "1.",
           "2.",
           "2.",
           "2.",
           "3.",
           "3.",
           "3.",
           "3.",
           "3.",
           "3.",
           "1.",
           "1.",
           "1.",
           "1.",
           "2.",
           "2.",
           "2.",
           "3.",
           "3.",
           "3.",
           "3.",
           "3.",
           "3.",
           "1.",
           "1.",
           "1.",
           "1.",
           "2.",
           "2.",
           "2.",
           "3.",
           "3.",
           "3.",
           "3.",
           "3.",
           "3.",
           "1.",
           "1.",
           "1.",
           "1.",
           "2.",
           "2.",
           "2.",
           "3.",
           "3.",
           "3.",
           "3.",
           "3.",
           "3.",
           "1.",
           "1.",
           "1.",
           "1.",
           "2.",
           "2.",
           "2.",
           "3.",
           "3.",
           "3.",
           "3.",
           "3.",
           "3."
          ],
          [
           "Tot Cases/1M pop",
           "Deaths/1M pop",
           "Tests/1M pop",
           "Recovered/1M pop",
           "Recovered/1M cases",
           "Deaths/1M cases",
           "Confirmed/1M tests",
           "GDP",
           "Family",
           "Life expectancy",
           "Freedom",
           "Generosity",
           "Trust",
           "Tot Cases/1M pop",
           "Deaths/1M pop",
           "Tests/1M pop",
           "Recovered/1M pop",
           "Recovered/1M cases",
           "Deaths/1M cases",
           "Confirmed/1M tests",
           "GDP",
           "Family",
           "Life expectancy",
           "Freedom",
           "Generosity",
           "Trust",
           "Tot Cases/1M pop",
           "Deaths/1M pop",
           "Tests/1M pop",
           "Recovered/1M pop",
           "Recovered/1M cases",
           "Deaths/1M cases",
           "Confirmed/1M tests",
           "GDP",
           "Family",
           "Life expectancy",
           "Freedom",
           "Generosity",
           "Trust",
           "Tot Cases/1M pop",
           "Deaths/1M pop",
           "Tests/1M pop",
           "Recovered/1M pop",
           "Recovered/1M cases",
           "Deaths/1M cases",
           "Confirmed/1M tests",
           "GDP",
           "Family",
           "Life expectancy",
           "Freedom",
           "Generosity",
           "Trust",
           "Tot Cases/1M pop",
           "Deaths/1M pop",
           "Tests/1M pop",
           "Recovered/1M pop",
           "Recovered/1M cases",
           "Deaths/1M cases",
           "Confirmed/1M tests",
           "GDP",
           "Family",
           "Life expectancy",
           "Freedom",
           "Generosity",
           "Trust",
           "Tot Cases/1M pop",
           "Deaths/1M pop",
           "Tests/1M pop",
           "Recovered/1M pop",
           "Recovered/1M cases",
           "Deaths/1M cases",
           "Confirmed/1M tests",
           "GDP",
           "Family",
           "Life expectancy",
           "Freedom",
           "Generosity",
           "Trust",
           "Tot Cases/1M pop",
           "Deaths/1M pop",
           "Tests/1M pop",
           "Recovered/1M pop",
           "Recovered/1M cases",
           "Deaths/1M cases",
           "Confirmed/1M tests",
           "GDP",
           "Family",
           "Life expectancy",
           "Freedom",
           "Generosity",
           "Trust",
           "Tot Cases/1M pop",
           "Deaths/1M pop",
           "Tests/1M pop",
           "Recovered/1M pop",
           "Recovered/1M cases",
           "Deaths/1M cases",
           "Confirmed/1M tests",
           "GDP",
           "Family",
           "Life expectancy",
           "Freedom",
           "Generosity",
           "Trust",
           "Tot Cases/1M pop",
           "Deaths/1M pop",
           "Tests/1M pop",
           "Recovered/1M pop",
           "Recovered/1M cases",
           "Deaths/1M cases",
           "Confirmed/1M tests",
           "GDP",
           "Family",
           "Life expectancy",
           "Freedom",
           "Generosity",
           "Trust",
           "Tot Cases/1M pop",
           "Deaths/1M pop",
           "Tests/1M pop",
           "Recovered/1M pop",
           "Recovered/1M cases",
           "Deaths/1M cases",
           "Confirmed/1M tests",
           "GDP",
           "Family",
           "Life expectancy",
           "Freedom",
           "Generosity",
           "Trust",
           "Tot Cases/1M pop",
           "Deaths/1M pop",
           "Tests/1M pop",
           "Recovered/1M pop",
           "Recovered/1M cases",
           "Deaths/1M cases",
           "Confirmed/1M tests",
           "GDP",
           "Family",
           "Life expectancy",
           "Freedom",
           "Generosity",
           "Trust",
           "Tot Cases/1M pop",
           "Deaths/1M pop",
           "Tests/1M pop",
           "Recovered/1M pop",
           "Recovered/1M cases",
           "Deaths/1M cases",
           "Confirmed/1M tests",
           "GDP",
           "Family",
           "Life expectancy",
           "Freedom",
           "Generosity",
           "Trust",
           "Tot Cases/1M pop",
           "Deaths/1M pop",
           "Tests/1M pop",
           "Recovered/1M pop",
           "Recovered/1M cases",
           "Deaths/1M cases",
           "Confirmed/1M tests",
           "GDP",
           "Family",
           "Life expectancy",
           "Freedom",
           "Generosity",
           "Trust"
          ]
         ]
        }
       ],
       "layout": {
        "font": {
         "size": 14
        },
        "height": 885,
        "template": {
         "data": {
          "bar": [
           {
            "error_x": {
             "color": "#2a3f5f"
            },
            "error_y": {
             "color": "#2a3f5f"
            },
            "marker": {
             "line": {
              "color": "#E5ECF6",
              "width": 0.5
             }
            },
            "type": "bar"
           }
          ],
          "barpolar": [
           {
            "marker": {
             "line": {
              "color": "#E5ECF6",
              "width": 0.5
             }
            },
            "type": "barpolar"
           }
          ],
          "carpet": [
           {
            "aaxis": {
             "endlinecolor": "#2a3f5f",
             "gridcolor": "white",
             "linecolor": "white",
             "minorgridcolor": "white",
             "startlinecolor": "#2a3f5f"
            },
            "baxis": {
             "endlinecolor": "#2a3f5f",
             "gridcolor": "white",
             "linecolor": "white",
             "minorgridcolor": "white",
             "startlinecolor": "#2a3f5f"
            },
            "type": "carpet"
           }
          ],
          "choropleth": [
           {
            "colorbar": {
             "outlinewidth": 0,
             "ticks": ""
            },
            "type": "choropleth"
           }
          ],
          "contour": [
           {
            "colorbar": {
             "outlinewidth": 0,
             "ticks": ""
            },
            "colorscale": [
             [
              0,
              "#0d0887"
             ],
             [
              0.1111111111111111,
              "#46039f"
             ],
             [
              0.2222222222222222,
              "#7201a8"
             ],
             [
              0.3333333333333333,
              "#9c179e"
             ],
             [
              0.4444444444444444,
              "#bd3786"
             ],
             [
              0.5555555555555556,
              "#d8576b"
             ],
             [
              0.6666666666666666,
              "#ed7953"
             ],
             [
              0.7777777777777778,
              "#fb9f3a"
             ],
             [
              0.8888888888888888,
              "#fdca26"
             ],
             [
              1,
              "#f0f921"
             ]
            ],
            "type": "contour"
           }
          ],
          "contourcarpet": [
           {
            "colorbar": {
             "outlinewidth": 0,
             "ticks": ""
            },
            "type": "contourcarpet"
           }
          ],
          "heatmap": [
           {
            "colorbar": {
             "outlinewidth": 0,
             "ticks": ""
            },
            "colorscale": [
             [
              0,
              "#0d0887"
             ],
             [
              0.1111111111111111,
              "#46039f"
             ],
             [
              0.2222222222222222,
              "#7201a8"
             ],
             [
              0.3333333333333333,
              "#9c179e"
             ],
             [
              0.4444444444444444,
              "#bd3786"
             ],
             [
              0.5555555555555556,
              "#d8576b"
             ],
             [
              0.6666666666666666,
              "#ed7953"
             ],
             [
              0.7777777777777778,
              "#fb9f3a"
             ],
             [
              0.8888888888888888,
              "#fdca26"
             ],
             [
              1,
              "#f0f921"
             ]
            ],
            "type": "heatmap"
           }
          ],
          "heatmapgl": [
           {
            "colorbar": {
             "outlinewidth": 0,
             "ticks": ""
            },
            "colorscale": [
             [
              0,
              "#0d0887"
             ],
             [
              0.1111111111111111,
              "#46039f"
             ],
             [
              0.2222222222222222,
              "#7201a8"
             ],
             [
              0.3333333333333333,
              "#9c179e"
             ],
             [
              0.4444444444444444,
              "#bd3786"
             ],
             [
              0.5555555555555556,
              "#d8576b"
             ],
             [
              0.6666666666666666,
              "#ed7953"
             ],
             [
              0.7777777777777778,
              "#fb9f3a"
             ],
             [
              0.8888888888888888,
              "#fdca26"
             ],
             [
              1,
              "#f0f921"
             ]
            ],
            "type": "heatmapgl"
           }
          ],
          "histogram": [
           {
            "marker": {
             "colorbar": {
              "outlinewidth": 0,
              "ticks": ""
             }
            },
            "type": "histogram"
           }
          ],
          "histogram2d": [
           {
            "colorbar": {
             "outlinewidth": 0,
             "ticks": ""
            },
            "colorscale": [
             [
              0,
              "#0d0887"
             ],
             [
              0.1111111111111111,
              "#46039f"
             ],
             [
              0.2222222222222222,
              "#7201a8"
             ],
             [
              0.3333333333333333,
              "#9c179e"
             ],
             [
              0.4444444444444444,
              "#bd3786"
             ],
             [
              0.5555555555555556,
              "#d8576b"
             ],
             [
              0.6666666666666666,
              "#ed7953"
             ],
             [
              0.7777777777777778,
              "#fb9f3a"
             ],
             [
              0.8888888888888888,
              "#fdca26"
             ],
             [
              1,
              "#f0f921"
             ]
            ],
            "type": "histogram2d"
           }
          ],
          "histogram2dcontour": [
           {
            "colorbar": {
             "outlinewidth": 0,
             "ticks": ""
            },
            "colorscale": [
             [
              0,
              "#0d0887"
             ],
             [
              0.1111111111111111,
              "#46039f"
             ],
             [
              0.2222222222222222,
              "#7201a8"
             ],
             [
              0.3333333333333333,
              "#9c179e"
             ],
             [
              0.4444444444444444,
              "#bd3786"
             ],
             [
              0.5555555555555556,
              "#d8576b"
             ],
             [
              0.6666666666666666,
              "#ed7953"
             ],
             [
              0.7777777777777778,
              "#fb9f3a"
             ],
             [
              0.8888888888888888,
              "#fdca26"
             ],
             [
              1,
              "#f0f921"
             ]
            ],
            "type": "histogram2dcontour"
           }
          ],
          "mesh3d": [
           {
            "colorbar": {
             "outlinewidth": 0,
             "ticks": ""
            },
            "type": "mesh3d"
           }
          ],
          "parcoords": [
           {
            "line": {
             "colorbar": {
              "outlinewidth": 0,
              "ticks": ""
             }
            },
            "type": "parcoords"
           }
          ],
          "pie": [
           {
            "automargin": true,
            "type": "pie"
           }
          ],
          "scatter": [
           {
            "marker": {
             "colorbar": {
              "outlinewidth": 0,
              "ticks": ""
             }
            },
            "type": "scatter"
           }
          ],
          "scatter3d": [
           {
            "line": {
             "colorbar": {
              "outlinewidth": 0,
              "ticks": ""
             }
            },
            "marker": {
             "colorbar": {
              "outlinewidth": 0,
              "ticks": ""
             }
            },
            "type": "scatter3d"
           }
          ],
          "scattercarpet": [
           {
            "marker": {
             "colorbar": {
              "outlinewidth": 0,
              "ticks": ""
             }
            },
            "type": "scattercarpet"
           }
          ],
          "scattergeo": [
           {
            "marker": {
             "colorbar": {
              "outlinewidth": 0,
              "ticks": ""
             }
            },
            "type": "scattergeo"
           }
          ],
          "scattergl": [
           {
            "marker": {
             "colorbar": {
              "outlinewidth": 0,
              "ticks": ""
             }
            },
            "type": "scattergl"
           }
          ],
          "scattermapbox": [
           {
            "marker": {
             "colorbar": {
              "outlinewidth": 0,
              "ticks": ""
             }
            },
            "type": "scattermapbox"
           }
          ],
          "scatterpolar": [
           {
            "marker": {
             "colorbar": {
              "outlinewidth": 0,
              "ticks": ""
             }
            },
            "type": "scatterpolar"
           }
          ],
          "scatterpolargl": [
           {
            "marker": {
             "colorbar": {
              "outlinewidth": 0,
              "ticks": ""
             }
            },
            "type": "scatterpolargl"
           }
          ],
          "scatterternary": [
           {
            "marker": {
             "colorbar": {
              "outlinewidth": 0,
              "ticks": ""
             }
            },
            "type": "scatterternary"
           }
          ],
          "surface": [
           {
            "colorbar": {
             "outlinewidth": 0,
             "ticks": ""
            },
            "colorscale": [
             [
              0,
              "#0d0887"
             ],
             [
              0.1111111111111111,
              "#46039f"
             ],
             [
              0.2222222222222222,
              "#7201a8"
             ],
             [
              0.3333333333333333,
              "#9c179e"
             ],
             [
              0.4444444444444444,
              "#bd3786"
             ],
             [
              0.5555555555555556,
              "#d8576b"
             ],
             [
              0.6666666666666666,
              "#ed7953"
             ],
             [
              0.7777777777777778,
              "#fb9f3a"
             ],
             [
              0.8888888888888888,
              "#fdca26"
             ],
             [
              1,
              "#f0f921"
             ]
            ],
            "type": "surface"
           }
          ],
          "table": [
           {
            "cells": {
             "fill": {
              "color": "#EBF0F8"
             },
             "line": {
              "color": "white"
             }
            },
            "header": {
             "fill": {
              "color": "#C8D4E3"
             },
             "line": {
              "color": "white"
             }
            },
            "type": "table"
           }
          ]
         },
         "layout": {
          "annotationdefaults": {
           "arrowcolor": "#2a3f5f",
           "arrowhead": 0,
           "arrowwidth": 1
          },
          "coloraxis": {
           "colorbar": {
            "outlinewidth": 0,
            "ticks": ""
           }
          },
          "colorscale": {
           "diverging": [
            [
             0,
             "#8e0152"
            ],
            [
             0.1,
             "#c51b7d"
            ],
            [
             0.2,
             "#de77ae"
            ],
            [
             0.3,
             "#f1b6da"
            ],
            [
             0.4,
             "#fde0ef"
            ],
            [
             0.5,
             "#f7f7f7"
            ],
            [
             0.6,
             "#e6f5d0"
            ],
            [
             0.7,
             "#b8e186"
            ],
            [
             0.8,
             "#7fbc41"
            ],
            [
             0.9,
             "#4d9221"
            ],
            [
             1,
             "#276419"
            ]
           ],
           "sequential": [
            [
             0,
             "#0d0887"
            ],
            [
             0.1111111111111111,
             "#46039f"
            ],
            [
             0.2222222222222222,
             "#7201a8"
            ],
            [
             0.3333333333333333,
             "#9c179e"
            ],
            [
             0.4444444444444444,
             "#bd3786"
            ],
            [
             0.5555555555555556,
             "#d8576b"
            ],
            [
             0.6666666666666666,
             "#ed7953"
            ],
            [
             0.7777777777777778,
             "#fb9f3a"
            ],
            [
             0.8888888888888888,
             "#fdca26"
            ],
            [
             1,
             "#f0f921"
            ]
           ],
           "sequentialminus": [
            [
             0,
             "#0d0887"
            ],
            [
             0.1111111111111111,
             "#46039f"
            ],
            [
             0.2222222222222222,
             "#7201a8"
            ],
            [
             0.3333333333333333,
             "#9c179e"
            ],
            [
             0.4444444444444444,
             "#bd3786"
            ],
            [
             0.5555555555555556,
             "#d8576b"
            ],
            [
             0.6666666666666666,
             "#ed7953"
            ],
            [
             0.7777777777777778,
             "#fb9f3a"
            ],
            [
             0.8888888888888888,
             "#fdca26"
            ],
            [
             1,
             "#f0f921"
            ]
           ]
          },
          "colorway": [
           "#636efa",
           "#EF553B",
           "#00cc96",
           "#ab63fa",
           "#FFA15A",
           "#19d3f3",
           "#FF6692",
           "#B6E880",
           "#FF97FF",
           "#FECB52"
          ],
          "font": {
           "color": "#2a3f5f"
          },
          "geo": {
           "bgcolor": "white",
           "lakecolor": "white",
           "landcolor": "#E5ECF6",
           "showlakes": true,
           "showland": true,
           "subunitcolor": "white"
          },
          "hoverlabel": {
           "align": "left"
          },
          "hovermode": "closest",
          "mapbox": {
           "style": "light"
          },
          "paper_bgcolor": "white",
          "plot_bgcolor": "#E5ECF6",
          "polar": {
           "angularaxis": {
            "gridcolor": "white",
            "linecolor": "white",
            "ticks": ""
           },
           "bgcolor": "#E5ECF6",
           "radialaxis": {
            "gridcolor": "white",
            "linecolor": "white",
            "ticks": ""
           }
          },
          "scene": {
           "xaxis": {
            "backgroundcolor": "#E5ECF6",
            "gridcolor": "white",
            "gridwidth": 2,
            "linecolor": "white",
            "showbackground": true,
            "ticks": "",
            "zerolinecolor": "white"
           },
           "yaxis": {
            "backgroundcolor": "#E5ECF6",
            "gridcolor": "white",
            "gridwidth": 2,
            "linecolor": "white",
            "showbackground": true,
            "ticks": "",
            "zerolinecolor": "white"
           },
           "zaxis": {
            "backgroundcolor": "#E5ECF6",
            "gridcolor": "white",
            "gridwidth": 2,
            "linecolor": "white",
            "showbackground": true,
            "ticks": "",
            "zerolinecolor": "white"
           }
          },
          "shapedefaults": {
           "line": {
            "color": "#2a3f5f"
           }
          },
          "ternary": {
           "aaxis": {
            "gridcolor": "white",
            "linecolor": "white",
            "ticks": ""
           },
           "baxis": {
            "gridcolor": "white",
            "linecolor": "white",
            "ticks": ""
           },
           "bgcolor": "#E5ECF6",
           "caxis": {
            "gridcolor": "white",
            "linecolor": "white",
            "ticks": ""
           }
          },
          "title": {
           "x": 0.05
          },
          "xaxis": {
           "automargin": true,
           "gridcolor": "white",
           "linecolor": "white",
           "ticks": "",
           "title": {
            "standoff": 15
           },
           "zerolinecolor": "white",
           "zerolinewidth": 2
          },
          "yaxis": {
           "automargin": true,
           "gridcolor": "white",
           "linecolor": "white",
           "ticks": "",
           "title": {
            "standoff": 15
           },
           "zerolinecolor": "white",
           "zerolinewidth": 2
          }
         }
        },
        "title": {
         "text": "South-East Asia: 8 countries"
        },
        "width": 885,
        "xaxis": {
         "range": [
          -0.5,
          12.5
         ],
         "showgrid": true,
         "ticklen": 0,
         "ticks": "outside",
         "tickson": "boundaries"
        },
        "yaxis": {
         "range": [
          -0.5,
          12.5
         ],
         "showgrid": true,
         "ticklen": 0,
         "ticks": "outside",
         "tickson": "boundaries"
        }
       }
      },
      "text/html": [
       "<div>\n",
       "        \n",
       "        \n",
       "            <div id=\"078ac181-799d-441d-8744-ed9e55030683\" class=\"plotly-graph-div\" style=\"height:885px; width:885px;\"></div>\n",
       "            <script type=\"text/javascript\">\n",
       "                require([\"plotly\"], function(Plotly) {\n",
       "                    window.PLOTLYENV=window.PLOTLYENV || {};\n",
       "                    \n",
       "                if (document.getElementById(\"078ac181-799d-441d-8744-ed9e55030683\")) {\n",
       "                    Plotly.newPlot(\n",
       "                        '078ac181-799d-441d-8744-ed9e55030683',\n",
       "                        [{\"hoverinfo\": \"text\", \"hovertext\": [\"\", \"0.8587287594733802\", \"\", \"0.9960436237563448\", \"\", \"\", \"\", \"\", \"-0.8256546454558522\", \"\", \"\", \"\", \"\", \"0.8587287594733802\", \"\", \"\", \"0.8759786860502796\", \"\", \"\", \"\", \"\", \"-0.8719355643100211\", \"\", \"\", \"\", \"\", \"\", \"\", \"\", \"\", \"\", \"\", \"\", \"\", \"\", \"\", \"\", \"\", \"\", \"0.9960436237563448\", \"0.8759786860502796\", \"\", \"\", \"\", \"\", \"\", \"\", \"-0.8365107594823975\", \"\", \"\", \"\", \"\", \"\", \"\", \"\", \"\", \"\", \"\", \"\", \"\", \"\", \"\", \"\", \"\", \"\", \"\", \"\", \"\", \"\", \"\", \"\", \"\", \"\", \"\", \"\", \"\", \"\", \"\", \"\", \"\", \"\", \"\", \"\", \"\", \"\", \"\", \"\", \"\", \"\", \"\", \"\", \"\", \"\", \"\", \"\", \"\", \"\", \"\", \"\", \"\", \"\", \"\", \"\", \"\", \"-0.8256546454558522\", \"-0.8719355643100211\", \"\", \"-0.8365107594823975\", \"\", \"\", \"\", \"\", \"\", \"\", \"\", \"\", \"\", \"\", \"\", \"\", \"\", \"\", \"\", \"\", \"\", \"\", \"\", \"\", \"\", \"\", \"\", \"\", \"\", \"\", \"\", \"\", \"\", \"\", \"\", \"\", \"\", \"\", \"\", \"\", \"\", \"\", \"\", \"\", \"\", \"\", \"\", \"\", \"\", \"\", \"\", \"\", \"\", \"\", \"\", \"\", \"\", \"\", \"\", \"\", \"\", \"\", \"\", \"\", \"\"], \"marker\": {\"cmid\": 0, \"color\": [0, 0.8587287594733802, 0, 0.9960436237563448, 0, 0, 0, 0, -0.8256546454558522, 0, 0, 0, 0, 0.8587287594733802, 0, 0, 0.8759786860502796, 0, 0, 0, 0, -0.8719355643100211, 0, 0, 0, 0, 0, 0, 0, 0, 0, 0, 0, 0, 0, 0, 0, 0, 0, 0.9960436237563448, 0.8759786860502796, 0, 0, 0, 0, 0, 0, -0.8365107594823975, 0, 0, 0, 0, 0, 0, 0, 0, 0, 0, 0, 0, 0, 0, 0, 0, 0, 0, 0, 0, 0, 0, 0, 0, 0, 0, 0, 0, 0, 0, 0, 0, 0, 0, 0, 0, 0, 0, 0, 0, 0, 0, 0, 0, 0, 0, 0, 0, 0, 0, 0, 0, 0, 0, 0, 0, -0.8256546454558522, -0.8719355643100211, 0, -0.8365107594823975, 0, 0, 0, 0, 0, 0, 0, 0, 0, 0, 0, 0, 0, 0, 0, 0, 0, 0, 0, 0, 0, 0, 0, 0, 0, 0, 0, 0, 0, 0, 0, 0, 0, 0, 0, 0, 0, 0, 0, 0, 0, 0, 0, 0, 0, 0, 0, 0, 0, 0, 0, 0, 0, 0, 0, 0, 0, 0, 0, 0, 0], \"colorbar\": {\"title\": {\"text\": \"Correlation\"}}, \"colorscale\": [[0.0, \"rgb(5,48,97)\"], [0.1, \"rgb(33,102,172)\"], [0.2, \"rgb(67,147,195)\"], [0.3, \"rgb(146,197,222)\"], [0.4, \"rgb(209,229,240)\"], [0.5, \"rgb(247,247,247)\"], [0.6, \"rgb(253,219,199)\"], [0.7, \"rgb(244,165,130)\"], [0.8, \"rgb(214,96,77)\"], [0.9, \"rgb(178,24,43)\"], [1.0, \"rgb(103,0,31)\"]], \"size\": [0, 39.50152293577549, 0, 45.81800669279186, 0, 0, 0, 0, 37.980113690969205, 0, 0, 0, 0, 39.50152293577549, 0, 0, 40.29501955831286, 0, 0, 0, 0, 40.10903595826097, 0, 0, 0, 0, 0, 0, 0, 0, 0, 0, 0, 0, 0, 0, 0, 0, 0, 45.81800669279186, 40.29501955831286, 0, 0, 0, 0, 0, 0, 38.479494936190285, 0, 0, 0, 0, 0, 0, 0, 0, 0, 0, 0, 0, 0, 0, 0, 0, 0, 0, 0, 0, 0, 0, 0, 0, 0, 0, 0, 0, 0, 0, 0, 0, 0, 0, 0, 0, 0, 0, 0, 0, 0, 0, 0, 0, 0, 0, 0, 0, 0, 0, 0, 0, 0, 0, 0, 0, 37.980113690969205, 40.10903595826097, 0, 38.479494936190285, 0, 0, 0, 0, 0, 0, 0, 0, 0, 0, 0, 0, 0, 0, 0, 0, 0, 0, 0, 0, 0, 0, 0, 0, 0, 0, 0, 0, 0, 0, 0, 0, 0, 0, 0, 0, 0, 0, 0, 0, 0, 0, 0, 0, 0, 0, 0, 0, 0, 0, 0, 0, 0, 0, 0, 0, 0, 0, 0, 0, 0]}, \"mode\": \"markers\", \"type\": \"scatter\", \"x\": [[\"1.\", \"1.\", \"1.\", \"1.\", \"1.\", \"1.\", \"1.\", \"1.\", \"1.\", \"1.\", \"1.\", \"1.\", \"1.\", \"1.\", \"1.\", \"1.\", \"1.\", \"1.\", \"1.\", \"1.\", \"1.\", \"1.\", \"1.\", \"1.\", \"1.\", \"1.\", \"1.\", \"1.\", \"1.\", \"1.\", \"1.\", \"1.\", \"1.\", \"1.\", \"1.\", \"1.\", \"1.\", \"1.\", \"1.\", \"1.\", \"1.\", \"1.\", \"1.\", \"1.\", \"1.\", \"1.\", \"1.\", \"1.\", \"1.\", \"1.\", \"1.\", \"1.\", \"2.\", \"2.\", \"2.\", \"2.\", \"2.\", \"2.\", \"2.\", \"2.\", \"2.\", \"2.\", \"2.\", \"2.\", \"2.\", \"2.\", \"2.\", \"2.\", \"2.\", \"2.\", \"2.\", \"2.\", \"2.\", \"2.\", \"2.\", \"2.\", \"2.\", \"2.\", \"2.\", \"2.\", \"2.\", \"2.\", \"2.\", \"2.\", \"2.\", \"2.\", \"2.\", \"2.\", \"2.\", \"2.\", \"2.\", \"3.\", \"3.\", \"3.\", \"3.\", \"3.\", \"3.\", \"3.\", \"3.\", \"3.\", \"3.\", \"3.\", \"3.\", \"3.\", \"3.\", \"3.\", \"3.\", \"3.\", \"3.\", \"3.\", \"3.\", \"3.\", \"3.\", \"3.\", \"3.\", \"3.\", \"3.\", \"3.\", \"3.\", \"3.\", \"3.\", \"3.\", \"3.\", \"3.\", \"3.\", \"3.\", \"3.\", \"3.\", \"3.\", \"3.\", \"3.\", \"3.\", \"3.\", \"3.\", \"3.\", \"3.\", \"3.\", \"3.\", \"3.\", \"3.\", \"3.\", \"3.\", \"3.\", \"3.\", \"3.\", \"3.\", \"3.\", \"3.\", \"3.\", \"3.\", \"3.\", \"3.\", \"3.\", \"3.\", \"3.\", \"3.\", \"3.\", \"3.\", \"3.\", \"3.\", \"3.\", \"3.\", \"3.\", \"3.\", \"3.\", \"3.\", \"3.\", \"3.\", \"3.\"], [\"Tot Cases/1M pop\", \"Tot Cases/1M pop\", \"Tot Cases/1M pop\", \"Tot Cases/1M pop\", \"Tot Cases/1M pop\", \"Tot Cases/1M pop\", \"Tot Cases/1M pop\", \"Tot Cases/1M pop\", \"Tot Cases/1M pop\", \"Tot Cases/1M pop\", \"Tot Cases/1M pop\", \"Tot Cases/1M pop\", \"Tot Cases/1M pop\", \"Deaths/1M pop\", \"Deaths/1M pop\", \"Deaths/1M pop\", \"Deaths/1M pop\", \"Deaths/1M pop\", \"Deaths/1M pop\", \"Deaths/1M pop\", \"Deaths/1M pop\", \"Deaths/1M pop\", \"Deaths/1M pop\", \"Deaths/1M pop\", \"Deaths/1M pop\", \"Deaths/1M pop\", \"Tests/1M pop\", \"Tests/1M pop\", \"Tests/1M pop\", \"Tests/1M pop\", \"Tests/1M pop\", \"Tests/1M pop\", \"Tests/1M pop\", \"Tests/1M pop\", \"Tests/1M pop\", \"Tests/1M pop\", \"Tests/1M pop\", \"Tests/1M pop\", \"Tests/1M pop\", \"Recovered/1M pop\", \"Recovered/1M pop\", \"Recovered/1M pop\", \"Recovered/1M pop\", \"Recovered/1M pop\", \"Recovered/1M pop\", \"Recovered/1M pop\", \"Recovered/1M pop\", \"Recovered/1M pop\", \"Recovered/1M pop\", \"Recovered/1M pop\", \"Recovered/1M pop\", \"Recovered/1M pop\", \"Recovered/1M cases\", \"Recovered/1M cases\", \"Recovered/1M cases\", \"Recovered/1M cases\", \"Recovered/1M cases\", \"Recovered/1M cases\", \"Recovered/1M cases\", \"Recovered/1M cases\", \"Recovered/1M cases\", \"Recovered/1M cases\", \"Recovered/1M cases\", \"Recovered/1M cases\", \"Recovered/1M cases\", \"Deaths/1M cases\", \"Deaths/1M cases\", \"Deaths/1M cases\", \"Deaths/1M cases\", \"Deaths/1M cases\", \"Deaths/1M cases\", \"Deaths/1M cases\", \"Deaths/1M cases\", \"Deaths/1M cases\", \"Deaths/1M cases\", \"Deaths/1M cases\", \"Deaths/1M cases\", \"Deaths/1M cases\", \"Confirmed/1M tests\", \"Confirmed/1M tests\", \"Confirmed/1M tests\", \"Confirmed/1M tests\", \"Confirmed/1M tests\", \"Confirmed/1M tests\", \"Confirmed/1M tests\", \"Confirmed/1M tests\", \"Confirmed/1M tests\", \"Confirmed/1M tests\", \"Confirmed/1M tests\", \"Confirmed/1M tests\", \"Confirmed/1M tests\", \"GDP\", \"GDP\", \"GDP\", \"GDP\", \"GDP\", \"GDP\", \"GDP\", \"GDP\", \"GDP\", \"GDP\", \"GDP\", \"GDP\", \"GDP\", \"Family\", \"Family\", \"Family\", \"Family\", \"Family\", \"Family\", \"Family\", \"Family\", \"Family\", \"Family\", \"Family\", \"Family\", \"Family\", \"Life expectancy\", \"Life expectancy\", \"Life expectancy\", \"Life expectancy\", \"Life expectancy\", \"Life expectancy\", \"Life expectancy\", \"Life expectancy\", \"Life expectancy\", \"Life expectancy\", \"Life expectancy\", \"Life expectancy\", \"Life expectancy\", \"Freedom\", \"Freedom\", \"Freedom\", \"Freedom\", \"Freedom\", \"Freedom\", \"Freedom\", \"Freedom\", \"Freedom\", \"Freedom\", \"Freedom\", \"Freedom\", \"Freedom\", \"Generosity\", \"Generosity\", \"Generosity\", \"Generosity\", \"Generosity\", \"Generosity\", \"Generosity\", \"Generosity\", \"Generosity\", \"Generosity\", \"Generosity\", \"Generosity\", \"Generosity\", \"Trust\", \"Trust\", \"Trust\", \"Trust\", \"Trust\", \"Trust\", \"Trust\", \"Trust\", \"Trust\", \"Trust\", \"Trust\", \"Trust\", \"Trust\"]], \"y\": [[\"1.\", \"1.\", \"1.\", \"1.\", \"2.\", \"2.\", \"2.\", \"3.\", \"3.\", \"3.\", \"3.\", \"3.\", \"3.\", \"1.\", \"1.\", \"1.\", \"1.\", \"2.\", \"2.\", \"2.\", \"3.\", \"3.\", \"3.\", \"3.\", \"3.\", \"3.\", \"1.\", \"1.\", \"1.\", \"1.\", \"2.\", \"2.\", \"2.\", \"3.\", \"3.\", \"3.\", \"3.\", \"3.\", \"3.\", \"1.\", \"1.\", \"1.\", \"1.\", \"2.\", \"2.\", \"2.\", \"3.\", \"3.\", \"3.\", \"3.\", \"3.\", \"3.\", \"1.\", \"1.\", \"1.\", \"1.\", \"2.\", \"2.\", \"2.\", \"3.\", \"3.\", \"3.\", \"3.\", \"3.\", \"3.\", \"1.\", \"1.\", \"1.\", \"1.\", \"2.\", \"2.\", \"2.\", \"3.\", \"3.\", \"3.\", \"3.\", \"3.\", \"3.\", \"1.\", \"1.\", \"1.\", \"1.\", \"2.\", \"2.\", \"2.\", \"3.\", \"3.\", \"3.\", \"3.\", \"3.\", \"3.\", \"1.\", \"1.\", \"1.\", \"1.\", \"2.\", \"2.\", \"2.\", \"3.\", \"3.\", \"3.\", \"3.\", \"3.\", \"3.\", \"1.\", \"1.\", \"1.\", \"1.\", \"2.\", \"2.\", \"2.\", \"3.\", \"3.\", \"3.\", \"3.\", \"3.\", \"3.\", \"1.\", \"1.\", \"1.\", \"1.\", \"2.\", \"2.\", \"2.\", \"3.\", \"3.\", \"3.\", \"3.\", \"3.\", \"3.\", \"1.\", \"1.\", \"1.\", \"1.\", \"2.\", \"2.\", \"2.\", \"3.\", \"3.\", \"3.\", \"3.\", \"3.\", \"3.\", \"1.\", \"1.\", \"1.\", \"1.\", \"2.\", \"2.\", \"2.\", \"3.\", \"3.\", \"3.\", \"3.\", \"3.\", \"3.\", \"1.\", \"1.\", \"1.\", \"1.\", \"2.\", \"2.\", \"2.\", \"3.\", \"3.\", \"3.\", \"3.\", \"3.\", \"3.\"], [\"Tot Cases/1M pop\", \"Deaths/1M pop\", \"Tests/1M pop\", \"Recovered/1M pop\", \"Recovered/1M cases\", \"Deaths/1M cases\", \"Confirmed/1M tests\", \"GDP\", \"Family\", \"Life expectancy\", \"Freedom\", \"Generosity\", \"Trust\", \"Tot Cases/1M pop\", \"Deaths/1M pop\", \"Tests/1M pop\", \"Recovered/1M pop\", \"Recovered/1M cases\", \"Deaths/1M cases\", \"Confirmed/1M tests\", \"GDP\", \"Family\", \"Life expectancy\", \"Freedom\", \"Generosity\", \"Trust\", \"Tot Cases/1M pop\", \"Deaths/1M pop\", \"Tests/1M pop\", \"Recovered/1M pop\", \"Recovered/1M cases\", \"Deaths/1M cases\", \"Confirmed/1M tests\", \"GDP\", \"Family\", \"Life expectancy\", \"Freedom\", \"Generosity\", \"Trust\", \"Tot Cases/1M pop\", \"Deaths/1M pop\", \"Tests/1M pop\", \"Recovered/1M pop\", \"Recovered/1M cases\", \"Deaths/1M cases\", \"Confirmed/1M tests\", \"GDP\", \"Family\", \"Life expectancy\", \"Freedom\", \"Generosity\", \"Trust\", \"Tot Cases/1M pop\", \"Deaths/1M pop\", \"Tests/1M pop\", \"Recovered/1M pop\", \"Recovered/1M cases\", \"Deaths/1M cases\", \"Confirmed/1M tests\", \"GDP\", \"Family\", \"Life expectancy\", \"Freedom\", \"Generosity\", \"Trust\", \"Tot Cases/1M pop\", \"Deaths/1M pop\", \"Tests/1M pop\", \"Recovered/1M pop\", \"Recovered/1M cases\", \"Deaths/1M cases\", \"Confirmed/1M tests\", \"GDP\", \"Family\", \"Life expectancy\", \"Freedom\", \"Generosity\", \"Trust\", \"Tot Cases/1M pop\", \"Deaths/1M pop\", \"Tests/1M pop\", \"Recovered/1M pop\", \"Recovered/1M cases\", \"Deaths/1M cases\", \"Confirmed/1M tests\", \"GDP\", \"Family\", \"Life expectancy\", \"Freedom\", \"Generosity\", \"Trust\", \"Tot Cases/1M pop\", \"Deaths/1M pop\", \"Tests/1M pop\", \"Recovered/1M pop\", \"Recovered/1M cases\", \"Deaths/1M cases\", \"Confirmed/1M tests\", \"GDP\", \"Family\", \"Life expectancy\", \"Freedom\", \"Generosity\", \"Trust\", \"Tot Cases/1M pop\", \"Deaths/1M pop\", \"Tests/1M pop\", \"Recovered/1M pop\", \"Recovered/1M cases\", \"Deaths/1M cases\", \"Confirmed/1M tests\", \"GDP\", \"Family\", \"Life expectancy\", \"Freedom\", \"Generosity\", \"Trust\", \"Tot Cases/1M pop\", \"Deaths/1M pop\", \"Tests/1M pop\", \"Recovered/1M pop\", \"Recovered/1M cases\", \"Deaths/1M cases\", \"Confirmed/1M tests\", \"GDP\", \"Family\", \"Life expectancy\", \"Freedom\", \"Generosity\", \"Trust\", \"Tot Cases/1M pop\", \"Deaths/1M pop\", \"Tests/1M pop\", \"Recovered/1M pop\", \"Recovered/1M cases\", \"Deaths/1M cases\", \"Confirmed/1M tests\", \"GDP\", \"Family\", \"Life expectancy\", \"Freedom\", \"Generosity\", \"Trust\", \"Tot Cases/1M pop\", \"Deaths/1M pop\", \"Tests/1M pop\", \"Recovered/1M pop\", \"Recovered/1M cases\", \"Deaths/1M cases\", \"Confirmed/1M tests\", \"GDP\", \"Family\", \"Life expectancy\", \"Freedom\", \"Generosity\", \"Trust\", \"Tot Cases/1M pop\", \"Deaths/1M pop\", \"Tests/1M pop\", \"Recovered/1M pop\", \"Recovered/1M cases\", \"Deaths/1M cases\", \"Confirmed/1M tests\", \"GDP\", \"Family\", \"Life expectancy\", \"Freedom\", \"Generosity\", \"Trust\"]]}],\n",
       "                        {\"font\": {\"size\": 14}, \"height\": 885, \"template\": {\"data\": {\"bar\": [{\"error_x\": {\"color\": \"#2a3f5f\"}, \"error_y\": {\"color\": \"#2a3f5f\"}, \"marker\": {\"line\": {\"color\": \"#E5ECF6\", \"width\": 0.5}}, \"type\": \"bar\"}], \"barpolar\": [{\"marker\": {\"line\": {\"color\": \"#E5ECF6\", \"width\": 0.5}}, \"type\": \"barpolar\"}], \"carpet\": [{\"aaxis\": {\"endlinecolor\": \"#2a3f5f\", \"gridcolor\": \"white\", \"linecolor\": \"white\", \"minorgridcolor\": \"white\", \"startlinecolor\": \"#2a3f5f\"}, \"baxis\": {\"endlinecolor\": \"#2a3f5f\", \"gridcolor\": \"white\", \"linecolor\": \"white\", \"minorgridcolor\": \"white\", \"startlinecolor\": \"#2a3f5f\"}, \"type\": \"carpet\"}], \"choropleth\": [{\"colorbar\": {\"outlinewidth\": 0, \"ticks\": \"\"}, \"type\": \"choropleth\"}], \"contour\": [{\"colorbar\": {\"outlinewidth\": 0, \"ticks\": \"\"}, \"colorscale\": [[0.0, \"#0d0887\"], [0.1111111111111111, \"#46039f\"], [0.2222222222222222, \"#7201a8\"], [0.3333333333333333, \"#9c179e\"], [0.4444444444444444, \"#bd3786\"], [0.5555555555555556, \"#d8576b\"], [0.6666666666666666, \"#ed7953\"], [0.7777777777777778, \"#fb9f3a\"], [0.8888888888888888, \"#fdca26\"], [1.0, \"#f0f921\"]], \"type\": \"contour\"}], \"contourcarpet\": [{\"colorbar\": {\"outlinewidth\": 0, \"ticks\": \"\"}, \"type\": \"contourcarpet\"}], \"heatmap\": [{\"colorbar\": {\"outlinewidth\": 0, \"ticks\": \"\"}, \"colorscale\": [[0.0, \"#0d0887\"], [0.1111111111111111, \"#46039f\"], [0.2222222222222222, \"#7201a8\"], [0.3333333333333333, \"#9c179e\"], [0.4444444444444444, \"#bd3786\"], [0.5555555555555556, \"#d8576b\"], [0.6666666666666666, \"#ed7953\"], [0.7777777777777778, \"#fb9f3a\"], [0.8888888888888888, \"#fdca26\"], [1.0, \"#f0f921\"]], \"type\": \"heatmap\"}], \"heatmapgl\": [{\"colorbar\": {\"outlinewidth\": 0, \"ticks\": \"\"}, \"colorscale\": [[0.0, \"#0d0887\"], [0.1111111111111111, \"#46039f\"], [0.2222222222222222, \"#7201a8\"], [0.3333333333333333, \"#9c179e\"], [0.4444444444444444, \"#bd3786\"], [0.5555555555555556, \"#d8576b\"], [0.6666666666666666, \"#ed7953\"], [0.7777777777777778, \"#fb9f3a\"], [0.8888888888888888, \"#fdca26\"], [1.0, \"#f0f921\"]], \"type\": \"heatmapgl\"}], \"histogram\": [{\"marker\": {\"colorbar\": {\"outlinewidth\": 0, \"ticks\": \"\"}}, \"type\": \"histogram\"}], \"histogram2d\": [{\"colorbar\": {\"outlinewidth\": 0, \"ticks\": \"\"}, \"colorscale\": [[0.0, \"#0d0887\"], [0.1111111111111111, \"#46039f\"], [0.2222222222222222, \"#7201a8\"], [0.3333333333333333, \"#9c179e\"], [0.4444444444444444, \"#bd3786\"], [0.5555555555555556, \"#d8576b\"], [0.6666666666666666, \"#ed7953\"], [0.7777777777777778, \"#fb9f3a\"], [0.8888888888888888, \"#fdca26\"], [1.0, \"#f0f921\"]], \"type\": \"histogram2d\"}], \"histogram2dcontour\": [{\"colorbar\": {\"outlinewidth\": 0, \"ticks\": \"\"}, \"colorscale\": [[0.0, \"#0d0887\"], [0.1111111111111111, \"#46039f\"], [0.2222222222222222, \"#7201a8\"], [0.3333333333333333, \"#9c179e\"], [0.4444444444444444, \"#bd3786\"], [0.5555555555555556, \"#d8576b\"], [0.6666666666666666, \"#ed7953\"], [0.7777777777777778, \"#fb9f3a\"], [0.8888888888888888, \"#fdca26\"], [1.0, \"#f0f921\"]], \"type\": \"histogram2dcontour\"}], \"mesh3d\": [{\"colorbar\": {\"outlinewidth\": 0, \"ticks\": \"\"}, \"type\": \"mesh3d\"}], \"parcoords\": [{\"line\": {\"colorbar\": {\"outlinewidth\": 0, \"ticks\": \"\"}}, \"type\": \"parcoords\"}], \"pie\": [{\"automargin\": true, \"type\": \"pie\"}], \"scatter\": [{\"marker\": {\"colorbar\": {\"outlinewidth\": 0, \"ticks\": \"\"}}, \"type\": \"scatter\"}], \"scatter3d\": [{\"line\": {\"colorbar\": {\"outlinewidth\": 0, \"ticks\": \"\"}}, \"marker\": {\"colorbar\": {\"outlinewidth\": 0, \"ticks\": \"\"}}, \"type\": \"scatter3d\"}], \"scattercarpet\": [{\"marker\": {\"colorbar\": {\"outlinewidth\": 0, \"ticks\": \"\"}}, \"type\": \"scattercarpet\"}], \"scattergeo\": [{\"marker\": {\"colorbar\": {\"outlinewidth\": 0, \"ticks\": \"\"}}, \"type\": \"scattergeo\"}], \"scattergl\": [{\"marker\": {\"colorbar\": {\"outlinewidth\": 0, \"ticks\": \"\"}}, \"type\": \"scattergl\"}], \"scattermapbox\": [{\"marker\": {\"colorbar\": {\"outlinewidth\": 0, \"ticks\": \"\"}}, \"type\": \"scattermapbox\"}], \"scatterpolar\": [{\"marker\": {\"colorbar\": {\"outlinewidth\": 0, \"ticks\": \"\"}}, \"type\": \"scatterpolar\"}], \"scatterpolargl\": [{\"marker\": {\"colorbar\": {\"outlinewidth\": 0, \"ticks\": \"\"}}, \"type\": \"scatterpolargl\"}], \"scatterternary\": [{\"marker\": {\"colorbar\": {\"outlinewidth\": 0, \"ticks\": \"\"}}, \"type\": \"scatterternary\"}], \"surface\": [{\"colorbar\": {\"outlinewidth\": 0, \"ticks\": \"\"}, \"colorscale\": [[0.0, \"#0d0887\"], [0.1111111111111111, \"#46039f\"], [0.2222222222222222, \"#7201a8\"], [0.3333333333333333, \"#9c179e\"], [0.4444444444444444, \"#bd3786\"], [0.5555555555555556, \"#d8576b\"], [0.6666666666666666, \"#ed7953\"], [0.7777777777777778, \"#fb9f3a\"], [0.8888888888888888, \"#fdca26\"], [1.0, \"#f0f921\"]], \"type\": \"surface\"}], \"table\": [{\"cells\": {\"fill\": {\"color\": \"#EBF0F8\"}, \"line\": {\"color\": \"white\"}}, \"header\": {\"fill\": {\"color\": \"#C8D4E3\"}, \"line\": {\"color\": \"white\"}}, \"type\": \"table\"}]}, \"layout\": {\"annotationdefaults\": {\"arrowcolor\": \"#2a3f5f\", \"arrowhead\": 0, \"arrowwidth\": 1}, \"coloraxis\": {\"colorbar\": {\"outlinewidth\": 0, \"ticks\": \"\"}}, \"colorscale\": {\"diverging\": [[0, \"#8e0152\"], [0.1, \"#c51b7d\"], [0.2, \"#de77ae\"], [0.3, \"#f1b6da\"], [0.4, \"#fde0ef\"], [0.5, \"#f7f7f7\"], [0.6, \"#e6f5d0\"], [0.7, \"#b8e186\"], [0.8, \"#7fbc41\"], [0.9, \"#4d9221\"], [1, \"#276419\"]], \"sequential\": [[0.0, \"#0d0887\"], [0.1111111111111111, \"#46039f\"], [0.2222222222222222, \"#7201a8\"], [0.3333333333333333, \"#9c179e\"], [0.4444444444444444, \"#bd3786\"], [0.5555555555555556, \"#d8576b\"], [0.6666666666666666, \"#ed7953\"], [0.7777777777777778, \"#fb9f3a\"], [0.8888888888888888, \"#fdca26\"], [1.0, \"#f0f921\"]], \"sequentialminus\": [[0.0, \"#0d0887\"], [0.1111111111111111, \"#46039f\"], [0.2222222222222222, \"#7201a8\"], [0.3333333333333333, \"#9c179e\"], [0.4444444444444444, \"#bd3786\"], [0.5555555555555556, \"#d8576b\"], [0.6666666666666666, \"#ed7953\"], [0.7777777777777778, \"#fb9f3a\"], [0.8888888888888888, \"#fdca26\"], [1.0, \"#f0f921\"]]}, \"colorway\": [\"#636efa\", \"#EF553B\", \"#00cc96\", \"#ab63fa\", \"#FFA15A\", \"#19d3f3\", \"#FF6692\", \"#B6E880\", \"#FF97FF\", \"#FECB52\"], \"font\": {\"color\": \"#2a3f5f\"}, \"geo\": {\"bgcolor\": \"white\", \"lakecolor\": \"white\", \"landcolor\": \"#E5ECF6\", \"showlakes\": true, \"showland\": true, \"subunitcolor\": \"white\"}, \"hoverlabel\": {\"align\": \"left\"}, \"hovermode\": \"closest\", \"mapbox\": {\"style\": \"light\"}, \"paper_bgcolor\": \"white\", \"plot_bgcolor\": \"#E5ECF6\", \"polar\": {\"angularaxis\": {\"gridcolor\": \"white\", \"linecolor\": \"white\", \"ticks\": \"\"}, \"bgcolor\": \"#E5ECF6\", \"radialaxis\": {\"gridcolor\": \"white\", \"linecolor\": \"white\", \"ticks\": \"\"}}, \"scene\": {\"xaxis\": {\"backgroundcolor\": \"#E5ECF6\", \"gridcolor\": \"white\", \"gridwidth\": 2, \"linecolor\": \"white\", \"showbackground\": true, \"ticks\": \"\", \"zerolinecolor\": \"white\"}, \"yaxis\": {\"backgroundcolor\": \"#E5ECF6\", \"gridcolor\": \"white\", \"gridwidth\": 2, \"linecolor\": \"white\", \"showbackground\": true, \"ticks\": \"\", \"zerolinecolor\": \"white\"}, \"zaxis\": {\"backgroundcolor\": \"#E5ECF6\", \"gridcolor\": \"white\", \"gridwidth\": 2, \"linecolor\": \"white\", \"showbackground\": true, \"ticks\": \"\", \"zerolinecolor\": \"white\"}}, \"shapedefaults\": {\"line\": {\"color\": \"#2a3f5f\"}}, \"ternary\": {\"aaxis\": {\"gridcolor\": \"white\", \"linecolor\": \"white\", \"ticks\": \"\"}, \"baxis\": {\"gridcolor\": \"white\", \"linecolor\": \"white\", \"ticks\": \"\"}, \"bgcolor\": \"#E5ECF6\", \"caxis\": {\"gridcolor\": \"white\", \"linecolor\": \"white\", \"ticks\": \"\"}}, \"title\": {\"x\": 0.05}, \"xaxis\": {\"automargin\": true, \"gridcolor\": \"white\", \"linecolor\": \"white\", \"ticks\": \"\", \"title\": {\"standoff\": 15}, \"zerolinecolor\": \"white\", \"zerolinewidth\": 2}, \"yaxis\": {\"automargin\": true, \"gridcolor\": \"white\", \"linecolor\": \"white\", \"ticks\": \"\", \"title\": {\"standoff\": 15}, \"zerolinecolor\": \"white\", \"zerolinewidth\": 2}}}, \"title\": {\"text\": \"South-East Asia: 8 countries\"}, \"width\": 885, \"xaxis\": {\"range\": [-0.5, 12.5], \"showgrid\": true, \"ticklen\": 0, \"ticks\": \"outside\", \"tickson\": \"boundaries\"}, \"yaxis\": {\"range\": [-0.5, 12.5], \"showgrid\": true, \"ticklen\": 0, \"ticks\": \"outside\", \"tickson\": \"boundaries\"}},\n",
       "                        {\"responsive\": true}\n",
       "                    ).then(function(){\n",
       "                            \n",
       "var gd = document.getElementById('078ac181-799d-441d-8744-ed9e55030683');\n",
       "var x = new MutationObserver(function (mutations, observer) {{\n",
       "        var display = window.getComputedStyle(gd).display;\n",
       "        if (!display || display === 'none') {{\n",
       "            console.log([gd, 'removed!']);\n",
       "            Plotly.purge(gd);\n",
       "            observer.disconnect();\n",
       "        }}\n",
       "}});\n",
       "\n",
       "// Listen for the removal of the full notebook cells\n",
       "var notebookContainer = gd.closest('#notebook-container');\n",
       "if (notebookContainer) {{\n",
       "    x.observe(notebookContainer, {childList: true});\n",
       "}}\n",
       "\n",
       "// Listen for the clearing of the current output cell\n",
       "var outputEl = gd.closest('.output');\n",
       "if (outputEl) {{\n",
       "    x.observe(outputEl, {childList: true});\n",
       "}}\n",
       "\n",
       "                        })\n",
       "                };\n",
       "                });\n",
       "            </script>\n",
       "        </div>"
      ]
     },
     "metadata": {},
     "output_type": "display_data"
    },
    {
     "data": {
      "application/vnd.plotly.v1+json": {
       "config": {
        "plotlyServerURL": "https://plot.ly"
       },
       "data": [
        {
         "hoverinfo": "text",
         "hovertext": [
          "",
          "0.4990275266654835",
          "",
          "0.7844143017680186",
          "",
          "",
          "0.4991235716108927",
          "",
          "",
          "",
          "",
          "",
          "",
          "0.4990275266654835",
          "",
          "",
          "",
          "-0.5944950264213253",
          "0.8134031961007475",
          "",
          "",
          "",
          "0.3662502947022102",
          "",
          "",
          "",
          "",
          "",
          "",
          "0.28857155645941057",
          "",
          "",
          "-0.3765973009030793",
          "0.5354052385799069",
          "0.310715045468403",
          "0.44106091924104124",
          "0.3438912809738176",
          "0.28846424253934466",
          "0.364457428655055",
          "0.7844143017680186",
          "",
          "0.28857155645941057",
          "",
          "0.43744493801110546",
          "",
          "0.4718588826309763",
          "",
          "",
          "",
          "",
          "",
          "",
          "",
          "-0.5944950264213253",
          "",
          "0.43744493801110546",
          "",
          "-0.48754811171934626",
          "",
          "-0.2962047304440423",
          "",
          "-0.355113420203742",
          "",
          "",
          "",
          "",
          "0.8134031961007475",
          "",
          "",
          "-0.48754811171934626",
          "",
          "",
          "",
          "",
          "0.36853727791184504",
          "",
          "",
          "",
          "0.4991235716108927",
          "",
          "-0.3765973009030793",
          "0.4718588826309763",
          "",
          "",
          "",
          "-0.6704832713586245",
          "-0.36642440695589246",
          "-0.3716229075210514",
          "-0.2990208206916955",
          "",
          "-0.3641690495240468",
          "",
          "",
          "0.5354052385799069",
          "",
          "-0.2962047304440423",
          "",
          "-0.6704832713586245",
          "",
          "0.5464800189204769",
          "0.7914658432709469",
          "0.4007754973153286",
          "",
          "0.5011752891385763",
          "",
          "",
          "0.310715045468403",
          "",
          "",
          "",
          "-0.36642440695589246",
          "0.5464800189204769",
          "",
          "0.39172584587147785",
          "0.4308548231348147",
          "0.35371170148508563",
          "0.3412172076499028",
          "",
          "0.3662502947022102",
          "0.44106091924104124",
          "",
          "-0.355113420203742",
          "0.36853727791184504",
          "-0.3716229075210514",
          "0.7914658432709469",
          "0.39172584587147785",
          "",
          "0.42969524365590356",
          "0.3403255586264565",
          "0.45516864102219257",
          "",
          "",
          "0.3438912809738176",
          "",
          "",
          "",
          "-0.2990208206916955",
          "0.4007754973153286",
          "0.4308548231348147",
          "0.42969524365590356",
          "",
          "0.5676960136224142",
          "0.6611278800758488",
          "",
          "",
          "0.28846424253934466",
          "",
          "",
          "",
          "",
          "",
          "0.35371170148508563",
          "0.3403255586264565",
          "0.5676960136224142",
          "",
          "0.488720706936207",
          "",
          "",
          "0.364457428655055",
          "",
          "",
          "",
          "-0.3641690495240468",
          "0.5011752891385763",
          "0.3412172076499028",
          "0.45516864102219257",
          "0.6611278800758488",
          "0.488720706936207",
          ""
         ],
         "marker": {
          "cmid": 0,
          "color": [
           0,
           0.4990275266654835,
           0,
           0.7844143017680186,
           0,
           0,
           0.4991235716108927,
           0,
           0,
           0,
           0,
           0,
           0,
           0.4990275266654835,
           0,
           0,
           0,
           -0.5944950264213253,
           0.8134031961007475,
           0,
           0,
           0,
           0.3662502947022102,
           0,
           0,
           0,
           0,
           0,
           0,
           0.28857155645941057,
           0,
           0,
           -0.3765973009030793,
           0.5354052385799069,
           0.310715045468403,
           0.44106091924104124,
           0.3438912809738176,
           0.28846424253934466,
           0.364457428655055,
           0.7844143017680186,
           0,
           0.28857155645941057,
           0,
           0.43744493801110546,
           0,
           0.4718588826309763,
           0,
           0,
           0,
           0,
           0,
           0,
           0,
           -0.5944950264213253,
           0,
           0.43744493801110546,
           0,
           -0.48754811171934626,
           0,
           -0.2962047304440423,
           0,
           -0.355113420203742,
           0,
           0,
           0,
           0,
           0.8134031961007475,
           0,
           0,
           -0.48754811171934626,
           0,
           0,
           0,
           0,
           0.36853727791184504,
           0,
           0,
           0,
           0.4991235716108927,
           0,
           -0.3765973009030793,
           0.4718588826309763,
           0,
           0,
           0,
           -0.6704832713586245,
           -0.36642440695589246,
           -0.3716229075210514,
           -0.2990208206916955,
           0,
           -0.3641690495240468,
           0,
           0,
           0.5354052385799069,
           0,
           -0.2962047304440423,
           0,
           -0.6704832713586245,
           0,
           0.5464800189204769,
           0.7914658432709469,
           0.4007754973153286,
           0,
           0.5011752891385763,
           0,
           0,
           0.310715045468403,
           0,
           0,
           0,
           -0.36642440695589246,
           0.5464800189204769,
           0,
           0.39172584587147785,
           0.4308548231348147,
           0.35371170148508563,
           0.3412172076499028,
           0,
           0.3662502947022102,
           0.44106091924104124,
           0,
           -0.355113420203742,
           0.36853727791184504,
           -0.3716229075210514,
           0.7914658432709469,
           0.39172584587147785,
           0,
           0.42969524365590356,
           0.3403255586264565,
           0.45516864102219257,
           0,
           0,
           0.3438912809738176,
           0,
           0,
           0,
           -0.2990208206916955,
           0.4007754973153286,
           0.4308548231348147,
           0.42969524365590356,
           0,
           0.5676960136224142,
           0.6611278800758488,
           0,
           0,
           0.28846424253934466,
           0,
           0,
           0,
           0,
           0,
           0.35371170148508563,
           0.3403255586264565,
           0.5676960136224142,
           0,
           0.488720706936207,
           0,
           0,
           0.364457428655055,
           0,
           0,
           0,
           -0.3641690495240468,
           0.5011752891385763,
           0.3412172076499028,
           0.45516864102219257,
           0.6611278800758488,
           0.488720706936207,
           0
          ],
          "colorbar": {
           "title": {
            "text": "Correlation"
           }
          },
          "colorscale": [
           [
            0,
            "rgb(5,48,97)"
           ],
           [
            0.1,
            "rgb(33,102,172)"
           ],
           [
            0.2,
            "rgb(67,147,195)"
           ],
           [
            0.3,
            "rgb(146,197,222)"
           ],
           [
            0.4,
            "rgb(209,229,240)"
           ],
           [
            0.5,
            "rgb(247,247,247)"
           ],
           [
            0.6,
            "rgb(253,219,199)"
           ],
           [
            0.7,
            "rgb(244,165,130)"
           ],
           [
            0.8,
            "rgb(214,96,77)"
           ],
           [
            0.9,
            "rgb(178,24,43)"
           ],
           [
            1,
            "rgb(103,0,31)"
           ]
          ],
          "size": [
           0,
           22.955266226612242,
           0,
           36.083057881328855,
           0,
           0,
           22.959684294101066,
           0,
           0,
           0,
           0,
           0,
           0,
           22.955266226612242,
           0,
           0,
           0,
           27.346771215380965,
           37.41654702063438,
           0,
           0,
           0,
           16.84751355630167,
           0,
           0,
           0,
           0,
           0,
           0,
           13.274291597132887,
           0,
           0,
           17.323475841541647,
           24.628640974675715,
           14.292892091546538,
           20.288802285087897,
           15.81899892479561,
           13.269355156809855,
           16.76504171813253,
           36.083057881328855,
           0,
           13.274291597132887,
           0,
           20.12246714851085,
           0,
           21.70550860102491,
           0,
           0,
           0,
           0,
           0,
           0,
           0,
           27.346771215380965,
           0,
           20.12246714851085,
           0,
           22.42721313908993,
           0,
           13.625417600425944,
           0,
           16.33521732937213,
           0,
           0,
           0,
           0,
           37.41654702063438,
           0,
           0,
           22.42721313908993,
           0,
           0,
           0,
           0,
           16.95271478394487,
           0,
           0,
           0,
           22.959684294101066,
           0,
           17.323475841541647,
           21.70550860102491,
           0,
           0,
           0,
           30.842230482496728,
           16.855522719971052,
           17.094653745968365,
           13.754957751817994,
           0,
           16.751776278106153,
           0,
           0,
           24.628640974675715,
           0,
           13.625417600425944,
           0,
           30.842230482496728,
           0,
           25.138080870341938,
           36.407428790463555,
           18.435672876505116,
           0,
           23.054063300374512,
           0,
           0,
           14.292892091546538,
           0,
           0,
           0,
           16.855522719971052,
           25.138080870341938,
           0,
           18.019388910087983,
           19.819321864201477,
           16.270738268313938,
           15.69599155189553,
           0,
           16.84751355630167,
           20.288802285087897,
           0,
           16.33521732937213,
           16.95271478394487,
           17.094653745968365,
           36.407428790463555,
           18.019388910087983,
           0,
           19.765981208171564,
           15.654975696817,
           20.937757487020857,
           0,
           0,
           15.81899892479561,
           0,
           0,
           0,
           13.754957751817994,
           18.435672876505116,
           19.819321864201477,
           19.765981208171564,
           0,
           26.114016626631052,
           30.411882483489045,
           0,
           0,
           13.269355156809855,
           0,
           0,
           0,
           0,
           0,
           16.270738268313938,
           15.654975696817,
           26.114016626631052,
           0,
           22.48115251906552,
           0,
           0,
           16.76504171813253,
           0,
           0,
           0,
           16.751776278106153,
           23.054063300374512,
           15.69599155189553,
           20.937757487020857,
           30.411882483489045,
           22.48115251906552,
           0
          ]
         },
         "mode": "markers",
         "type": "scatter",
         "x": [
          [
           "1.",
           "1.",
           "1.",
           "1.",
           "1.",
           "1.",
           "1.",
           "1.",
           "1.",
           "1.",
           "1.",
           "1.",
           "1.",
           "1.",
           "1.",
           "1.",
           "1.",
           "1.",
           "1.",
           "1.",
           "1.",
           "1.",
           "1.",
           "1.",
           "1.",
           "1.",
           "1.",
           "1.",
           "1.",
           "1.",
           "1.",
           "1.",
           "1.",
           "1.",
           "1.",
           "1.",
           "1.",
           "1.",
           "1.",
           "1.",
           "1.",
           "1.",
           "1.",
           "1.",
           "1.",
           "1.",
           "1.",
           "1.",
           "1.",
           "1.",
           "1.",
           "1.",
           "2.",
           "2.",
           "2.",
           "2.",
           "2.",
           "2.",
           "2.",
           "2.",
           "2.",
           "2.",
           "2.",
           "2.",
           "2.",
           "2.",
           "2.",
           "2.",
           "2.",
           "2.",
           "2.",
           "2.",
           "2.",
           "2.",
           "2.",
           "2.",
           "2.",
           "2.",
           "2.",
           "2.",
           "2.",
           "2.",
           "2.",
           "2.",
           "2.",
           "2.",
           "2.",
           "2.",
           "2.",
           "2.",
           "2.",
           "3.",
           "3.",
           "3.",
           "3.",
           "3.",
           "3.",
           "3.",
           "3.",
           "3.",
           "3.",
           "3.",
           "3.",
           "3.",
           "3.",
           "3.",
           "3.",
           "3.",
           "3.",
           "3.",
           "3.",
           "3.",
           "3.",
           "3.",
           "3.",
           "3.",
           "3.",
           "3.",
           "3.",
           "3.",
           "3.",
           "3.",
           "3.",
           "3.",
           "3.",
           "3.",
           "3.",
           "3.",
           "3.",
           "3.",
           "3.",
           "3.",
           "3.",
           "3.",
           "3.",
           "3.",
           "3.",
           "3.",
           "3.",
           "3.",
           "3.",
           "3.",
           "3.",
           "3.",
           "3.",
           "3.",
           "3.",
           "3.",
           "3.",
           "3.",
           "3.",
           "3.",
           "3.",
           "3.",
           "3.",
           "3.",
           "3.",
           "3.",
           "3.",
           "3.",
           "3.",
           "3.",
           "3.",
           "3.",
           "3.",
           "3.",
           "3.",
           "3.",
           "3."
          ],
          [
           "Tot Cases/1M pop",
           "Tot Cases/1M pop",
           "Tot Cases/1M pop",
           "Tot Cases/1M pop",
           "Tot Cases/1M pop",
           "Tot Cases/1M pop",
           "Tot Cases/1M pop",
           "Tot Cases/1M pop",
           "Tot Cases/1M pop",
           "Tot Cases/1M pop",
           "Tot Cases/1M pop",
           "Tot Cases/1M pop",
           "Tot Cases/1M pop",
           "Deaths/1M pop",
           "Deaths/1M pop",
           "Deaths/1M pop",
           "Deaths/1M pop",
           "Deaths/1M pop",
           "Deaths/1M pop",
           "Deaths/1M pop",
           "Deaths/1M pop",
           "Deaths/1M pop",
           "Deaths/1M pop",
           "Deaths/1M pop",
           "Deaths/1M pop",
           "Deaths/1M pop",
           "Tests/1M pop",
           "Tests/1M pop",
           "Tests/1M pop",
           "Tests/1M pop",
           "Tests/1M pop",
           "Tests/1M pop",
           "Tests/1M pop",
           "Tests/1M pop",
           "Tests/1M pop",
           "Tests/1M pop",
           "Tests/1M pop",
           "Tests/1M pop",
           "Tests/1M pop",
           "Recovered/1M pop",
           "Recovered/1M pop",
           "Recovered/1M pop",
           "Recovered/1M pop",
           "Recovered/1M pop",
           "Recovered/1M pop",
           "Recovered/1M pop",
           "Recovered/1M pop",
           "Recovered/1M pop",
           "Recovered/1M pop",
           "Recovered/1M pop",
           "Recovered/1M pop",
           "Recovered/1M pop",
           "Recovered/1M cases",
           "Recovered/1M cases",
           "Recovered/1M cases",
           "Recovered/1M cases",
           "Recovered/1M cases",
           "Recovered/1M cases",
           "Recovered/1M cases",
           "Recovered/1M cases",
           "Recovered/1M cases",
           "Recovered/1M cases",
           "Recovered/1M cases",
           "Recovered/1M cases",
           "Recovered/1M cases",
           "Deaths/1M cases",
           "Deaths/1M cases",
           "Deaths/1M cases",
           "Deaths/1M cases",
           "Deaths/1M cases",
           "Deaths/1M cases",
           "Deaths/1M cases",
           "Deaths/1M cases",
           "Deaths/1M cases",
           "Deaths/1M cases",
           "Deaths/1M cases",
           "Deaths/1M cases",
           "Deaths/1M cases",
           "Confirmed/1M tests",
           "Confirmed/1M tests",
           "Confirmed/1M tests",
           "Confirmed/1M tests",
           "Confirmed/1M tests",
           "Confirmed/1M tests",
           "Confirmed/1M tests",
           "Confirmed/1M tests",
           "Confirmed/1M tests",
           "Confirmed/1M tests",
           "Confirmed/1M tests",
           "Confirmed/1M tests",
           "Confirmed/1M tests",
           "GDP",
           "GDP",
           "GDP",
           "GDP",
           "GDP",
           "GDP",
           "GDP",
           "GDP",
           "GDP",
           "GDP",
           "GDP",
           "GDP",
           "GDP",
           "Family",
           "Family",
           "Family",
           "Family",
           "Family",
           "Family",
           "Family",
           "Family",
           "Family",
           "Family",
           "Family",
           "Family",
           "Family",
           "Life expectancy",
           "Life expectancy",
           "Life expectancy",
           "Life expectancy",
           "Life expectancy",
           "Life expectancy",
           "Life expectancy",
           "Life expectancy",
           "Life expectancy",
           "Life expectancy",
           "Life expectancy",
           "Life expectancy",
           "Life expectancy",
           "Freedom",
           "Freedom",
           "Freedom",
           "Freedom",
           "Freedom",
           "Freedom",
           "Freedom",
           "Freedom",
           "Freedom",
           "Freedom",
           "Freedom",
           "Freedom",
           "Freedom",
           "Generosity",
           "Generosity",
           "Generosity",
           "Generosity",
           "Generosity",
           "Generosity",
           "Generosity",
           "Generosity",
           "Generosity",
           "Generosity",
           "Generosity",
           "Generosity",
           "Generosity",
           "Trust",
           "Trust",
           "Trust",
           "Trust",
           "Trust",
           "Trust",
           "Trust",
           "Trust",
           "Trust",
           "Trust",
           "Trust",
           "Trust",
           "Trust"
          ]
         ],
         "y": [
          [
           "1.",
           "1.",
           "1.",
           "1.",
           "2.",
           "2.",
           "2.",
           "3.",
           "3.",
           "3.",
           "3.",
           "3.",
           "3.",
           "1.",
           "1.",
           "1.",
           "1.",
           "2.",
           "2.",
           "2.",
           "3.",
           "3.",
           "3.",
           "3.",
           "3.",
           "3.",
           "1.",
           "1.",
           "1.",
           "1.",
           "2.",
           "2.",
           "2.",
           "3.",
           "3.",
           "3.",
           "3.",
           "3.",
           "3.",
           "1.",
           "1.",
           "1.",
           "1.",
           "2.",
           "2.",
           "2.",
           "3.",
           "3.",
           "3.",
           "3.",
           "3.",
           "3.",
           "1.",
           "1.",
           "1.",
           "1.",
           "2.",
           "2.",
           "2.",
           "3.",
           "3.",
           "3.",
           "3.",
           "3.",
           "3.",
           "1.",
           "1.",
           "1.",
           "1.",
           "2.",
           "2.",
           "2.",
           "3.",
           "3.",
           "3.",
           "3.",
           "3.",
           "3.",
           "1.",
           "1.",
           "1.",
           "1.",
           "2.",
           "2.",
           "2.",
           "3.",
           "3.",
           "3.",
           "3.",
           "3.",
           "3.",
           "1.",
           "1.",
           "1.",
           "1.",
           "2.",
           "2.",
           "2.",
           "3.",
           "3.",
           "3.",
           "3.",
           "3.",
           "3.",
           "1.",
           "1.",
           "1.",
           "1.",
           "2.",
           "2.",
           "2.",
           "3.",
           "3.",
           "3.",
           "3.",
           "3.",
           "3.",
           "1.",
           "1.",
           "1.",
           "1.",
           "2.",
           "2.",
           "2.",
           "3.",
           "3.",
           "3.",
           "3.",
           "3.",
           "3.",
           "1.",
           "1.",
           "1.",
           "1.",
           "2.",
           "2.",
           "2.",
           "3.",
           "3.",
           "3.",
           "3.",
           "3.",
           "3.",
           "1.",
           "1.",
           "1.",
           "1.",
           "2.",
           "2.",
           "2.",
           "3.",
           "3.",
           "3.",
           "3.",
           "3.",
           "3.",
           "1.",
           "1.",
           "1.",
           "1.",
           "2.",
           "2.",
           "2.",
           "3.",
           "3.",
           "3.",
           "3.",
           "3.",
           "3."
          ],
          [
           "Tot Cases/1M pop",
           "Deaths/1M pop",
           "Tests/1M pop",
           "Recovered/1M pop",
           "Recovered/1M cases",
           "Deaths/1M cases",
           "Confirmed/1M tests",
           "GDP",
           "Family",
           "Life expectancy",
           "Freedom",
           "Generosity",
           "Trust",
           "Tot Cases/1M pop",
           "Deaths/1M pop",
           "Tests/1M pop",
           "Recovered/1M pop",
           "Recovered/1M cases",
           "Deaths/1M cases",
           "Confirmed/1M tests",
           "GDP",
           "Family",
           "Life expectancy",
           "Freedom",
           "Generosity",
           "Trust",
           "Tot Cases/1M pop",
           "Deaths/1M pop",
           "Tests/1M pop",
           "Recovered/1M pop",
           "Recovered/1M cases",
           "Deaths/1M cases",
           "Confirmed/1M tests",
           "GDP",
           "Family",
           "Life expectancy",
           "Freedom",
           "Generosity",
           "Trust",
           "Tot Cases/1M pop",
           "Deaths/1M pop",
           "Tests/1M pop",
           "Recovered/1M pop",
           "Recovered/1M cases",
           "Deaths/1M cases",
           "Confirmed/1M tests",
           "GDP",
           "Family",
           "Life expectancy",
           "Freedom",
           "Generosity",
           "Trust",
           "Tot Cases/1M pop",
           "Deaths/1M pop",
           "Tests/1M pop",
           "Recovered/1M pop",
           "Recovered/1M cases",
           "Deaths/1M cases",
           "Confirmed/1M tests",
           "GDP",
           "Family",
           "Life expectancy",
           "Freedom",
           "Generosity",
           "Trust",
           "Tot Cases/1M pop",
           "Deaths/1M pop",
           "Tests/1M pop",
           "Recovered/1M pop",
           "Recovered/1M cases",
           "Deaths/1M cases",
           "Confirmed/1M tests",
           "GDP",
           "Family",
           "Life expectancy",
           "Freedom",
           "Generosity",
           "Trust",
           "Tot Cases/1M pop",
           "Deaths/1M pop",
           "Tests/1M pop",
           "Recovered/1M pop",
           "Recovered/1M cases",
           "Deaths/1M cases",
           "Confirmed/1M tests",
           "GDP",
           "Family",
           "Life expectancy",
           "Freedom",
           "Generosity",
           "Trust",
           "Tot Cases/1M pop",
           "Deaths/1M pop",
           "Tests/1M pop",
           "Recovered/1M pop",
           "Recovered/1M cases",
           "Deaths/1M cases",
           "Confirmed/1M tests",
           "GDP",
           "Family",
           "Life expectancy",
           "Freedom",
           "Generosity",
           "Trust",
           "Tot Cases/1M pop",
           "Deaths/1M pop",
           "Tests/1M pop",
           "Recovered/1M pop",
           "Recovered/1M cases",
           "Deaths/1M cases",
           "Confirmed/1M tests",
           "GDP",
           "Family",
           "Life expectancy",
           "Freedom",
           "Generosity",
           "Trust",
           "Tot Cases/1M pop",
           "Deaths/1M pop",
           "Tests/1M pop",
           "Recovered/1M pop",
           "Recovered/1M cases",
           "Deaths/1M cases",
           "Confirmed/1M tests",
           "GDP",
           "Family",
           "Life expectancy",
           "Freedom",
           "Generosity",
           "Trust",
           "Tot Cases/1M pop",
           "Deaths/1M pop",
           "Tests/1M pop",
           "Recovered/1M pop",
           "Recovered/1M cases",
           "Deaths/1M cases",
           "Confirmed/1M tests",
           "GDP",
           "Family",
           "Life expectancy",
           "Freedom",
           "Generosity",
           "Trust",
           "Tot Cases/1M pop",
           "Deaths/1M pop",
           "Tests/1M pop",
           "Recovered/1M pop",
           "Recovered/1M cases",
           "Deaths/1M cases",
           "Confirmed/1M tests",
           "GDP",
           "Family",
           "Life expectancy",
           "Freedom",
           "Generosity",
           "Trust",
           "Tot Cases/1M pop",
           "Deaths/1M pop",
           "Tests/1M pop",
           "Recovered/1M pop",
           "Recovered/1M cases",
           "Deaths/1M cases",
           "Confirmed/1M tests",
           "GDP",
           "Family",
           "Life expectancy",
           "Freedom",
           "Generosity",
           "Trust"
          ]
         ]
        }
       ],
       "layout": {
        "font": {
         "size": 14
        },
        "height": 885,
        "template": {
         "data": {
          "bar": [
           {
            "error_x": {
             "color": "#2a3f5f"
            },
            "error_y": {
             "color": "#2a3f5f"
            },
            "marker": {
             "line": {
              "color": "#E5ECF6",
              "width": 0.5
             }
            },
            "type": "bar"
           }
          ],
          "barpolar": [
           {
            "marker": {
             "line": {
              "color": "#E5ECF6",
              "width": 0.5
             }
            },
            "type": "barpolar"
           }
          ],
          "carpet": [
           {
            "aaxis": {
             "endlinecolor": "#2a3f5f",
             "gridcolor": "white",
             "linecolor": "white",
             "minorgridcolor": "white",
             "startlinecolor": "#2a3f5f"
            },
            "baxis": {
             "endlinecolor": "#2a3f5f",
             "gridcolor": "white",
             "linecolor": "white",
             "minorgridcolor": "white",
             "startlinecolor": "#2a3f5f"
            },
            "type": "carpet"
           }
          ],
          "choropleth": [
           {
            "colorbar": {
             "outlinewidth": 0,
             "ticks": ""
            },
            "type": "choropleth"
           }
          ],
          "contour": [
           {
            "colorbar": {
             "outlinewidth": 0,
             "ticks": ""
            },
            "colorscale": [
             [
              0,
              "#0d0887"
             ],
             [
              0.1111111111111111,
              "#46039f"
             ],
             [
              0.2222222222222222,
              "#7201a8"
             ],
             [
              0.3333333333333333,
              "#9c179e"
             ],
             [
              0.4444444444444444,
              "#bd3786"
             ],
             [
              0.5555555555555556,
              "#d8576b"
             ],
             [
              0.6666666666666666,
              "#ed7953"
             ],
             [
              0.7777777777777778,
              "#fb9f3a"
             ],
             [
              0.8888888888888888,
              "#fdca26"
             ],
             [
              1,
              "#f0f921"
             ]
            ],
            "type": "contour"
           }
          ],
          "contourcarpet": [
           {
            "colorbar": {
             "outlinewidth": 0,
             "ticks": ""
            },
            "type": "contourcarpet"
           }
          ],
          "heatmap": [
           {
            "colorbar": {
             "outlinewidth": 0,
             "ticks": ""
            },
            "colorscale": [
             [
              0,
              "#0d0887"
             ],
             [
              0.1111111111111111,
              "#46039f"
             ],
             [
              0.2222222222222222,
              "#7201a8"
             ],
             [
              0.3333333333333333,
              "#9c179e"
             ],
             [
              0.4444444444444444,
              "#bd3786"
             ],
             [
              0.5555555555555556,
              "#d8576b"
             ],
             [
              0.6666666666666666,
              "#ed7953"
             ],
             [
              0.7777777777777778,
              "#fb9f3a"
             ],
             [
              0.8888888888888888,
              "#fdca26"
             ],
             [
              1,
              "#f0f921"
             ]
            ],
            "type": "heatmap"
           }
          ],
          "heatmapgl": [
           {
            "colorbar": {
             "outlinewidth": 0,
             "ticks": ""
            },
            "colorscale": [
             [
              0,
              "#0d0887"
             ],
             [
              0.1111111111111111,
              "#46039f"
             ],
             [
              0.2222222222222222,
              "#7201a8"
             ],
             [
              0.3333333333333333,
              "#9c179e"
             ],
             [
              0.4444444444444444,
              "#bd3786"
             ],
             [
              0.5555555555555556,
              "#d8576b"
             ],
             [
              0.6666666666666666,
              "#ed7953"
             ],
             [
              0.7777777777777778,
              "#fb9f3a"
             ],
             [
              0.8888888888888888,
              "#fdca26"
             ],
             [
              1,
              "#f0f921"
             ]
            ],
            "type": "heatmapgl"
           }
          ],
          "histogram": [
           {
            "marker": {
             "colorbar": {
              "outlinewidth": 0,
              "ticks": ""
             }
            },
            "type": "histogram"
           }
          ],
          "histogram2d": [
           {
            "colorbar": {
             "outlinewidth": 0,
             "ticks": ""
            },
            "colorscale": [
             [
              0,
              "#0d0887"
             ],
             [
              0.1111111111111111,
              "#46039f"
             ],
             [
              0.2222222222222222,
              "#7201a8"
             ],
             [
              0.3333333333333333,
              "#9c179e"
             ],
             [
              0.4444444444444444,
              "#bd3786"
             ],
             [
              0.5555555555555556,
              "#d8576b"
             ],
             [
              0.6666666666666666,
              "#ed7953"
             ],
             [
              0.7777777777777778,
              "#fb9f3a"
             ],
             [
              0.8888888888888888,
              "#fdca26"
             ],
             [
              1,
              "#f0f921"
             ]
            ],
            "type": "histogram2d"
           }
          ],
          "histogram2dcontour": [
           {
            "colorbar": {
             "outlinewidth": 0,
             "ticks": ""
            },
            "colorscale": [
             [
              0,
              "#0d0887"
             ],
             [
              0.1111111111111111,
              "#46039f"
             ],
             [
              0.2222222222222222,
              "#7201a8"
             ],
             [
              0.3333333333333333,
              "#9c179e"
             ],
             [
              0.4444444444444444,
              "#bd3786"
             ],
             [
              0.5555555555555556,
              "#d8576b"
             ],
             [
              0.6666666666666666,
              "#ed7953"
             ],
             [
              0.7777777777777778,
              "#fb9f3a"
             ],
             [
              0.8888888888888888,
              "#fdca26"
             ],
             [
              1,
              "#f0f921"
             ]
            ],
            "type": "histogram2dcontour"
           }
          ],
          "mesh3d": [
           {
            "colorbar": {
             "outlinewidth": 0,
             "ticks": ""
            },
            "type": "mesh3d"
           }
          ],
          "parcoords": [
           {
            "line": {
             "colorbar": {
              "outlinewidth": 0,
              "ticks": ""
             }
            },
            "type": "parcoords"
           }
          ],
          "pie": [
           {
            "automargin": true,
            "type": "pie"
           }
          ],
          "scatter": [
           {
            "marker": {
             "colorbar": {
              "outlinewidth": 0,
              "ticks": ""
             }
            },
            "type": "scatter"
           }
          ],
          "scatter3d": [
           {
            "line": {
             "colorbar": {
              "outlinewidth": 0,
              "ticks": ""
             }
            },
            "marker": {
             "colorbar": {
              "outlinewidth": 0,
              "ticks": ""
             }
            },
            "type": "scatter3d"
           }
          ],
          "scattercarpet": [
           {
            "marker": {
             "colorbar": {
              "outlinewidth": 0,
              "ticks": ""
             }
            },
            "type": "scattercarpet"
           }
          ],
          "scattergeo": [
           {
            "marker": {
             "colorbar": {
              "outlinewidth": 0,
              "ticks": ""
             }
            },
            "type": "scattergeo"
           }
          ],
          "scattergl": [
           {
            "marker": {
             "colorbar": {
              "outlinewidth": 0,
              "ticks": ""
             }
            },
            "type": "scattergl"
           }
          ],
          "scattermapbox": [
           {
            "marker": {
             "colorbar": {
              "outlinewidth": 0,
              "ticks": ""
             }
            },
            "type": "scattermapbox"
           }
          ],
          "scatterpolar": [
           {
            "marker": {
             "colorbar": {
              "outlinewidth": 0,
              "ticks": ""
             }
            },
            "type": "scatterpolar"
           }
          ],
          "scatterpolargl": [
           {
            "marker": {
             "colorbar": {
              "outlinewidth": 0,
              "ticks": ""
             }
            },
            "type": "scatterpolargl"
           }
          ],
          "scatterternary": [
           {
            "marker": {
             "colorbar": {
              "outlinewidth": 0,
              "ticks": ""
             }
            },
            "type": "scatterternary"
           }
          ],
          "surface": [
           {
            "colorbar": {
             "outlinewidth": 0,
             "ticks": ""
            },
            "colorscale": [
             [
              0,
              "#0d0887"
             ],
             [
              0.1111111111111111,
              "#46039f"
             ],
             [
              0.2222222222222222,
              "#7201a8"
             ],
             [
              0.3333333333333333,
              "#9c179e"
             ],
             [
              0.4444444444444444,
              "#bd3786"
             ],
             [
              0.5555555555555556,
              "#d8576b"
             ],
             [
              0.6666666666666666,
              "#ed7953"
             ],
             [
              0.7777777777777778,
              "#fb9f3a"
             ],
             [
              0.8888888888888888,
              "#fdca26"
             ],
             [
              1,
              "#f0f921"
             ]
            ],
            "type": "surface"
           }
          ],
          "table": [
           {
            "cells": {
             "fill": {
              "color": "#EBF0F8"
             },
             "line": {
              "color": "white"
             }
            },
            "header": {
             "fill": {
              "color": "#C8D4E3"
             },
             "line": {
              "color": "white"
             }
            },
            "type": "table"
           }
          ]
         },
         "layout": {
          "annotationdefaults": {
           "arrowcolor": "#2a3f5f",
           "arrowhead": 0,
           "arrowwidth": 1
          },
          "coloraxis": {
           "colorbar": {
            "outlinewidth": 0,
            "ticks": ""
           }
          },
          "colorscale": {
           "diverging": [
            [
             0,
             "#8e0152"
            ],
            [
             0.1,
             "#c51b7d"
            ],
            [
             0.2,
             "#de77ae"
            ],
            [
             0.3,
             "#f1b6da"
            ],
            [
             0.4,
             "#fde0ef"
            ],
            [
             0.5,
             "#f7f7f7"
            ],
            [
             0.6,
             "#e6f5d0"
            ],
            [
             0.7,
             "#b8e186"
            ],
            [
             0.8,
             "#7fbc41"
            ],
            [
             0.9,
             "#4d9221"
            ],
            [
             1,
             "#276419"
            ]
           ],
           "sequential": [
            [
             0,
             "#0d0887"
            ],
            [
             0.1111111111111111,
             "#46039f"
            ],
            [
             0.2222222222222222,
             "#7201a8"
            ],
            [
             0.3333333333333333,
             "#9c179e"
            ],
            [
             0.4444444444444444,
             "#bd3786"
            ],
            [
             0.5555555555555556,
             "#d8576b"
            ],
            [
             0.6666666666666666,
             "#ed7953"
            ],
            [
             0.7777777777777778,
             "#fb9f3a"
            ],
            [
             0.8888888888888888,
             "#fdca26"
            ],
            [
             1,
             "#f0f921"
            ]
           ],
           "sequentialminus": [
            [
             0,
             "#0d0887"
            ],
            [
             0.1111111111111111,
             "#46039f"
            ],
            [
             0.2222222222222222,
             "#7201a8"
            ],
            [
             0.3333333333333333,
             "#9c179e"
            ],
            [
             0.4444444444444444,
             "#bd3786"
            ],
            [
             0.5555555555555556,
             "#d8576b"
            ],
            [
             0.6666666666666666,
             "#ed7953"
            ],
            [
             0.7777777777777778,
             "#fb9f3a"
            ],
            [
             0.8888888888888888,
             "#fdca26"
            ],
            [
             1,
             "#f0f921"
            ]
           ]
          },
          "colorway": [
           "#636efa",
           "#EF553B",
           "#00cc96",
           "#ab63fa",
           "#FFA15A",
           "#19d3f3",
           "#FF6692",
           "#B6E880",
           "#FF97FF",
           "#FECB52"
          ],
          "font": {
           "color": "#2a3f5f"
          },
          "geo": {
           "bgcolor": "white",
           "lakecolor": "white",
           "landcolor": "#E5ECF6",
           "showlakes": true,
           "showland": true,
           "subunitcolor": "white"
          },
          "hoverlabel": {
           "align": "left"
          },
          "hovermode": "closest",
          "mapbox": {
           "style": "light"
          },
          "paper_bgcolor": "white",
          "plot_bgcolor": "#E5ECF6",
          "polar": {
           "angularaxis": {
            "gridcolor": "white",
            "linecolor": "white",
            "ticks": ""
           },
           "bgcolor": "#E5ECF6",
           "radialaxis": {
            "gridcolor": "white",
            "linecolor": "white",
            "ticks": ""
           }
          },
          "scene": {
           "xaxis": {
            "backgroundcolor": "#E5ECF6",
            "gridcolor": "white",
            "gridwidth": 2,
            "linecolor": "white",
            "showbackground": true,
            "ticks": "",
            "zerolinecolor": "white"
           },
           "yaxis": {
            "backgroundcolor": "#E5ECF6",
            "gridcolor": "white",
            "gridwidth": 2,
            "linecolor": "white",
            "showbackground": true,
            "ticks": "",
            "zerolinecolor": "white"
           },
           "zaxis": {
            "backgroundcolor": "#E5ECF6",
            "gridcolor": "white",
            "gridwidth": 2,
            "linecolor": "white",
            "showbackground": true,
            "ticks": "",
            "zerolinecolor": "white"
           }
          },
          "shapedefaults": {
           "line": {
            "color": "#2a3f5f"
           }
          },
          "ternary": {
           "aaxis": {
            "gridcolor": "white",
            "linecolor": "white",
            "ticks": ""
           },
           "baxis": {
            "gridcolor": "white",
            "linecolor": "white",
            "ticks": ""
           },
           "bgcolor": "#E5ECF6",
           "caxis": {
            "gridcolor": "white",
            "linecolor": "white",
            "ticks": ""
           }
          },
          "title": {
           "x": 0.05
          },
          "xaxis": {
           "automargin": true,
           "gridcolor": "white",
           "linecolor": "white",
           "ticks": "",
           "title": {
            "standoff": 15
           },
           "zerolinecolor": "white",
           "zerolinewidth": 2
          },
          "yaxis": {
           "automargin": true,
           "gridcolor": "white",
           "linecolor": "white",
           "ticks": "",
           "title": {
            "standoff": 15
           },
           "zerolinecolor": "white",
           "zerolinewidth": 2
          }
         }
        },
        "title": {
         "text": "Europe: 49 countries"
        },
        "width": 885,
        "xaxis": {
         "range": [
          -0.5,
          12.5
         ],
         "showgrid": true,
         "ticklen": 0,
         "ticks": "outside",
         "tickson": "boundaries"
        },
        "yaxis": {
         "range": [
          -0.5,
          12.5
         ],
         "showgrid": true,
         "ticklen": 0,
         "ticks": "outside",
         "tickson": "boundaries"
        }
       }
      },
      "text/html": [
       "<div>\n",
       "        \n",
       "        \n",
       "            <div id=\"bc58fd79-3a89-4631-aa49-79a935f6cd83\" class=\"plotly-graph-div\" style=\"height:885px; width:885px;\"></div>\n",
       "            <script type=\"text/javascript\">\n",
       "                require([\"plotly\"], function(Plotly) {\n",
       "                    window.PLOTLYENV=window.PLOTLYENV || {};\n",
       "                    \n",
       "                if (document.getElementById(\"bc58fd79-3a89-4631-aa49-79a935f6cd83\")) {\n",
       "                    Plotly.newPlot(\n",
       "                        'bc58fd79-3a89-4631-aa49-79a935f6cd83',\n",
       "                        [{\"hoverinfo\": \"text\", \"hovertext\": [\"\", \"0.4990275266654835\", \"\", \"0.7844143017680186\", \"\", \"\", \"0.4991235716108927\", \"\", \"\", \"\", \"\", \"\", \"\", \"0.4990275266654835\", \"\", \"\", \"\", \"-0.5944950264213253\", \"0.8134031961007475\", \"\", \"\", \"\", \"0.3662502947022102\", \"\", \"\", \"\", \"\", \"\", \"\", \"0.28857155645941057\", \"\", \"\", \"-0.3765973009030793\", \"0.5354052385799069\", \"0.310715045468403\", \"0.44106091924104124\", \"0.3438912809738176\", \"0.28846424253934466\", \"0.364457428655055\", \"0.7844143017680186\", \"\", \"0.28857155645941057\", \"\", \"0.43744493801110546\", \"\", \"0.4718588826309763\", \"\", \"\", \"\", \"\", \"\", \"\", \"\", \"-0.5944950264213253\", \"\", \"0.43744493801110546\", \"\", \"-0.48754811171934626\", \"\", \"-0.2962047304440423\", \"\", \"-0.355113420203742\", \"\", \"\", \"\", \"\", \"0.8134031961007475\", \"\", \"\", \"-0.48754811171934626\", \"\", \"\", \"\", \"\", \"0.36853727791184504\", \"\", \"\", \"\", \"0.4991235716108927\", \"\", \"-0.3765973009030793\", \"0.4718588826309763\", \"\", \"\", \"\", \"-0.6704832713586245\", \"-0.36642440695589246\", \"-0.3716229075210514\", \"-0.2990208206916955\", \"\", \"-0.3641690495240468\", \"\", \"\", \"0.5354052385799069\", \"\", \"-0.2962047304440423\", \"\", \"-0.6704832713586245\", \"\", \"0.5464800189204769\", \"0.7914658432709469\", \"0.4007754973153286\", \"\", \"0.5011752891385763\", \"\", \"\", \"0.310715045468403\", \"\", \"\", \"\", \"-0.36642440695589246\", \"0.5464800189204769\", \"\", \"0.39172584587147785\", \"0.4308548231348147\", \"0.35371170148508563\", \"0.3412172076499028\", \"\", \"0.3662502947022102\", \"0.44106091924104124\", \"\", \"-0.355113420203742\", \"0.36853727791184504\", \"-0.3716229075210514\", \"0.7914658432709469\", \"0.39172584587147785\", \"\", \"0.42969524365590356\", \"0.3403255586264565\", \"0.45516864102219257\", \"\", \"\", \"0.3438912809738176\", \"\", \"\", \"\", \"-0.2990208206916955\", \"0.4007754973153286\", \"0.4308548231348147\", \"0.42969524365590356\", \"\", \"0.5676960136224142\", \"0.6611278800758488\", \"\", \"\", \"0.28846424253934466\", \"\", \"\", \"\", \"\", \"\", \"0.35371170148508563\", \"0.3403255586264565\", \"0.5676960136224142\", \"\", \"0.488720706936207\", \"\", \"\", \"0.364457428655055\", \"\", \"\", \"\", \"-0.3641690495240468\", \"0.5011752891385763\", \"0.3412172076499028\", \"0.45516864102219257\", \"0.6611278800758488\", \"0.488720706936207\", \"\"], \"marker\": {\"cmid\": 0, \"color\": [0, 0.4990275266654835, 0, 0.7844143017680186, 0, 0, 0.4991235716108927, 0, 0, 0, 0, 0, 0, 0.4990275266654835, 0, 0, 0, -0.5944950264213253, 0.8134031961007475, 0, 0, 0, 0.3662502947022102, 0, 0, 0, 0, 0, 0, 0.28857155645941057, 0, 0, -0.3765973009030793, 0.5354052385799069, 0.310715045468403, 0.44106091924104124, 0.3438912809738176, 0.28846424253934466, 0.364457428655055, 0.7844143017680186, 0, 0.28857155645941057, 0, 0.43744493801110546, 0, 0.4718588826309763, 0, 0, 0, 0, 0, 0, 0, -0.5944950264213253, 0, 0.43744493801110546, 0, -0.48754811171934626, 0, -0.2962047304440423, 0, -0.355113420203742, 0, 0, 0, 0, 0.8134031961007475, 0, 0, -0.48754811171934626, 0, 0, 0, 0, 0.36853727791184504, 0, 0, 0, 0.4991235716108927, 0, -0.3765973009030793, 0.4718588826309763, 0, 0, 0, -0.6704832713586245, -0.36642440695589246, -0.3716229075210514, -0.2990208206916955, 0, -0.3641690495240468, 0, 0, 0.5354052385799069, 0, -0.2962047304440423, 0, -0.6704832713586245, 0, 0.5464800189204769, 0.7914658432709469, 0.4007754973153286, 0, 0.5011752891385763, 0, 0, 0.310715045468403, 0, 0, 0, -0.36642440695589246, 0.5464800189204769, 0, 0.39172584587147785, 0.4308548231348147, 0.35371170148508563, 0.3412172076499028, 0, 0.3662502947022102, 0.44106091924104124, 0, -0.355113420203742, 0.36853727791184504, -0.3716229075210514, 0.7914658432709469, 0.39172584587147785, 0, 0.42969524365590356, 0.3403255586264565, 0.45516864102219257, 0, 0, 0.3438912809738176, 0, 0, 0, -0.2990208206916955, 0.4007754973153286, 0.4308548231348147, 0.42969524365590356, 0, 0.5676960136224142, 0.6611278800758488, 0, 0, 0.28846424253934466, 0, 0, 0, 0, 0, 0.35371170148508563, 0.3403255586264565, 0.5676960136224142, 0, 0.488720706936207, 0, 0, 0.364457428655055, 0, 0, 0, -0.3641690495240468, 0.5011752891385763, 0.3412172076499028, 0.45516864102219257, 0.6611278800758488, 0.488720706936207, 0], \"colorbar\": {\"title\": {\"text\": \"Correlation\"}}, \"colorscale\": [[0.0, \"rgb(5,48,97)\"], [0.1, \"rgb(33,102,172)\"], [0.2, \"rgb(67,147,195)\"], [0.3, \"rgb(146,197,222)\"], [0.4, \"rgb(209,229,240)\"], [0.5, \"rgb(247,247,247)\"], [0.6, \"rgb(253,219,199)\"], [0.7, \"rgb(244,165,130)\"], [0.8, \"rgb(214,96,77)\"], [0.9, \"rgb(178,24,43)\"], [1.0, \"rgb(103,0,31)\"]], \"size\": [0, 22.955266226612242, 0, 36.083057881328855, 0, 0, 22.959684294101066, 0, 0, 0, 0, 0, 0, 22.955266226612242, 0, 0, 0, 27.346771215380965, 37.41654702063438, 0, 0, 0, 16.84751355630167, 0, 0, 0, 0, 0, 0, 13.274291597132887, 0, 0, 17.323475841541647, 24.628640974675715, 14.292892091546538, 20.288802285087897, 15.81899892479561, 13.269355156809855, 16.76504171813253, 36.083057881328855, 0, 13.274291597132887, 0, 20.12246714851085, 0, 21.70550860102491, 0, 0, 0, 0, 0, 0, 0, 27.346771215380965, 0, 20.12246714851085, 0, 22.42721313908993, 0, 13.625417600425944, 0, 16.33521732937213, 0, 0, 0, 0, 37.41654702063438, 0, 0, 22.42721313908993, 0, 0, 0, 0, 16.95271478394487, 0, 0, 0, 22.959684294101066, 0, 17.323475841541647, 21.70550860102491, 0, 0, 0, 30.842230482496728, 16.855522719971052, 17.094653745968365, 13.754957751817994, 0, 16.751776278106153, 0, 0, 24.628640974675715, 0, 13.625417600425944, 0, 30.842230482496728, 0, 25.138080870341938, 36.407428790463555, 18.435672876505116, 0, 23.054063300374512, 0, 0, 14.292892091546538, 0, 0, 0, 16.855522719971052, 25.138080870341938, 0, 18.019388910087983, 19.819321864201477, 16.270738268313938, 15.69599155189553, 0, 16.84751355630167, 20.288802285087897, 0, 16.33521732937213, 16.95271478394487, 17.094653745968365, 36.407428790463555, 18.019388910087983, 0, 19.765981208171564, 15.654975696817, 20.937757487020857, 0, 0, 15.81899892479561, 0, 0, 0, 13.754957751817994, 18.435672876505116, 19.819321864201477, 19.765981208171564, 0, 26.114016626631052, 30.411882483489045, 0, 0, 13.269355156809855, 0, 0, 0, 0, 0, 16.270738268313938, 15.654975696817, 26.114016626631052, 0, 22.48115251906552, 0, 0, 16.76504171813253, 0, 0, 0, 16.751776278106153, 23.054063300374512, 15.69599155189553, 20.937757487020857, 30.411882483489045, 22.48115251906552, 0]}, \"mode\": \"markers\", \"type\": \"scatter\", \"x\": [[\"1.\", \"1.\", \"1.\", \"1.\", \"1.\", \"1.\", \"1.\", \"1.\", \"1.\", \"1.\", \"1.\", \"1.\", \"1.\", \"1.\", \"1.\", \"1.\", \"1.\", \"1.\", \"1.\", \"1.\", \"1.\", \"1.\", \"1.\", \"1.\", \"1.\", \"1.\", \"1.\", \"1.\", \"1.\", \"1.\", \"1.\", \"1.\", \"1.\", \"1.\", \"1.\", \"1.\", \"1.\", \"1.\", \"1.\", \"1.\", \"1.\", \"1.\", \"1.\", \"1.\", \"1.\", \"1.\", \"1.\", \"1.\", \"1.\", \"1.\", \"1.\", \"1.\", \"2.\", \"2.\", \"2.\", \"2.\", \"2.\", \"2.\", \"2.\", \"2.\", \"2.\", \"2.\", \"2.\", \"2.\", \"2.\", \"2.\", \"2.\", \"2.\", \"2.\", \"2.\", \"2.\", \"2.\", \"2.\", \"2.\", \"2.\", \"2.\", \"2.\", \"2.\", \"2.\", \"2.\", \"2.\", \"2.\", \"2.\", \"2.\", \"2.\", \"2.\", \"2.\", \"2.\", \"2.\", \"2.\", \"2.\", \"3.\", \"3.\", \"3.\", \"3.\", \"3.\", \"3.\", \"3.\", \"3.\", \"3.\", \"3.\", \"3.\", \"3.\", \"3.\", \"3.\", \"3.\", \"3.\", \"3.\", \"3.\", \"3.\", \"3.\", \"3.\", \"3.\", \"3.\", \"3.\", \"3.\", \"3.\", \"3.\", \"3.\", \"3.\", \"3.\", \"3.\", \"3.\", \"3.\", \"3.\", \"3.\", \"3.\", \"3.\", \"3.\", \"3.\", \"3.\", \"3.\", \"3.\", \"3.\", \"3.\", \"3.\", \"3.\", \"3.\", \"3.\", \"3.\", \"3.\", \"3.\", \"3.\", \"3.\", \"3.\", \"3.\", \"3.\", \"3.\", \"3.\", \"3.\", \"3.\", \"3.\", \"3.\", \"3.\", \"3.\", \"3.\", \"3.\", \"3.\", \"3.\", \"3.\", \"3.\", \"3.\", \"3.\", \"3.\", \"3.\", \"3.\", \"3.\", \"3.\", \"3.\"], [\"Tot Cases/1M pop\", \"Tot Cases/1M pop\", \"Tot Cases/1M pop\", \"Tot Cases/1M pop\", \"Tot Cases/1M pop\", \"Tot Cases/1M pop\", \"Tot Cases/1M pop\", \"Tot Cases/1M pop\", \"Tot Cases/1M pop\", \"Tot Cases/1M pop\", \"Tot Cases/1M pop\", \"Tot Cases/1M pop\", \"Tot Cases/1M pop\", \"Deaths/1M pop\", \"Deaths/1M pop\", \"Deaths/1M pop\", \"Deaths/1M pop\", \"Deaths/1M pop\", \"Deaths/1M pop\", \"Deaths/1M pop\", \"Deaths/1M pop\", \"Deaths/1M pop\", \"Deaths/1M pop\", \"Deaths/1M pop\", \"Deaths/1M pop\", \"Deaths/1M pop\", \"Tests/1M pop\", \"Tests/1M pop\", \"Tests/1M pop\", \"Tests/1M pop\", \"Tests/1M pop\", \"Tests/1M pop\", \"Tests/1M pop\", \"Tests/1M pop\", \"Tests/1M pop\", \"Tests/1M pop\", \"Tests/1M pop\", \"Tests/1M pop\", \"Tests/1M pop\", \"Recovered/1M pop\", \"Recovered/1M pop\", \"Recovered/1M pop\", \"Recovered/1M pop\", \"Recovered/1M pop\", \"Recovered/1M pop\", \"Recovered/1M pop\", \"Recovered/1M pop\", \"Recovered/1M pop\", \"Recovered/1M pop\", \"Recovered/1M pop\", \"Recovered/1M pop\", \"Recovered/1M pop\", \"Recovered/1M cases\", \"Recovered/1M cases\", \"Recovered/1M cases\", \"Recovered/1M cases\", \"Recovered/1M cases\", \"Recovered/1M cases\", \"Recovered/1M cases\", \"Recovered/1M cases\", \"Recovered/1M cases\", \"Recovered/1M cases\", \"Recovered/1M cases\", \"Recovered/1M cases\", \"Recovered/1M cases\", \"Deaths/1M cases\", \"Deaths/1M cases\", \"Deaths/1M cases\", \"Deaths/1M cases\", \"Deaths/1M cases\", \"Deaths/1M cases\", \"Deaths/1M cases\", \"Deaths/1M cases\", \"Deaths/1M cases\", \"Deaths/1M cases\", \"Deaths/1M cases\", \"Deaths/1M cases\", \"Deaths/1M cases\", \"Confirmed/1M tests\", \"Confirmed/1M tests\", \"Confirmed/1M tests\", \"Confirmed/1M tests\", \"Confirmed/1M tests\", \"Confirmed/1M tests\", \"Confirmed/1M tests\", \"Confirmed/1M tests\", \"Confirmed/1M tests\", \"Confirmed/1M tests\", \"Confirmed/1M tests\", \"Confirmed/1M tests\", \"Confirmed/1M tests\", \"GDP\", \"GDP\", \"GDP\", \"GDP\", \"GDP\", \"GDP\", \"GDP\", \"GDP\", \"GDP\", \"GDP\", \"GDP\", \"GDP\", \"GDP\", \"Family\", \"Family\", \"Family\", \"Family\", \"Family\", \"Family\", \"Family\", \"Family\", \"Family\", \"Family\", \"Family\", \"Family\", \"Family\", \"Life expectancy\", \"Life expectancy\", \"Life expectancy\", \"Life expectancy\", \"Life expectancy\", \"Life expectancy\", \"Life expectancy\", \"Life expectancy\", \"Life expectancy\", \"Life expectancy\", \"Life expectancy\", \"Life expectancy\", \"Life expectancy\", \"Freedom\", \"Freedom\", \"Freedom\", \"Freedom\", \"Freedom\", \"Freedom\", \"Freedom\", \"Freedom\", \"Freedom\", \"Freedom\", \"Freedom\", \"Freedom\", \"Freedom\", \"Generosity\", \"Generosity\", \"Generosity\", \"Generosity\", \"Generosity\", \"Generosity\", \"Generosity\", \"Generosity\", \"Generosity\", \"Generosity\", \"Generosity\", \"Generosity\", \"Generosity\", \"Trust\", \"Trust\", \"Trust\", \"Trust\", \"Trust\", \"Trust\", \"Trust\", \"Trust\", \"Trust\", \"Trust\", \"Trust\", \"Trust\", \"Trust\"]], \"y\": [[\"1.\", \"1.\", \"1.\", \"1.\", \"2.\", \"2.\", \"2.\", \"3.\", \"3.\", \"3.\", \"3.\", \"3.\", \"3.\", \"1.\", \"1.\", \"1.\", \"1.\", \"2.\", \"2.\", \"2.\", \"3.\", \"3.\", \"3.\", \"3.\", \"3.\", \"3.\", \"1.\", \"1.\", \"1.\", \"1.\", \"2.\", \"2.\", \"2.\", \"3.\", \"3.\", \"3.\", \"3.\", \"3.\", \"3.\", \"1.\", \"1.\", \"1.\", \"1.\", \"2.\", \"2.\", \"2.\", \"3.\", \"3.\", \"3.\", \"3.\", \"3.\", \"3.\", \"1.\", \"1.\", \"1.\", \"1.\", \"2.\", \"2.\", \"2.\", \"3.\", \"3.\", \"3.\", \"3.\", \"3.\", \"3.\", \"1.\", \"1.\", \"1.\", \"1.\", \"2.\", \"2.\", \"2.\", \"3.\", \"3.\", \"3.\", \"3.\", \"3.\", \"3.\", \"1.\", \"1.\", \"1.\", \"1.\", \"2.\", \"2.\", \"2.\", \"3.\", \"3.\", \"3.\", \"3.\", \"3.\", \"3.\", \"1.\", \"1.\", \"1.\", \"1.\", \"2.\", \"2.\", \"2.\", \"3.\", \"3.\", \"3.\", \"3.\", \"3.\", \"3.\", \"1.\", \"1.\", \"1.\", \"1.\", \"2.\", \"2.\", \"2.\", \"3.\", \"3.\", \"3.\", \"3.\", \"3.\", \"3.\", \"1.\", \"1.\", \"1.\", \"1.\", \"2.\", \"2.\", \"2.\", \"3.\", \"3.\", \"3.\", \"3.\", \"3.\", \"3.\", \"1.\", \"1.\", \"1.\", \"1.\", \"2.\", \"2.\", \"2.\", \"3.\", \"3.\", \"3.\", \"3.\", \"3.\", \"3.\", \"1.\", \"1.\", \"1.\", \"1.\", \"2.\", \"2.\", \"2.\", \"3.\", \"3.\", \"3.\", \"3.\", \"3.\", \"3.\", \"1.\", \"1.\", \"1.\", \"1.\", \"2.\", \"2.\", \"2.\", \"3.\", \"3.\", \"3.\", \"3.\", \"3.\", \"3.\"], [\"Tot Cases/1M pop\", \"Deaths/1M pop\", \"Tests/1M pop\", \"Recovered/1M pop\", \"Recovered/1M cases\", \"Deaths/1M cases\", \"Confirmed/1M tests\", \"GDP\", \"Family\", \"Life expectancy\", \"Freedom\", \"Generosity\", \"Trust\", \"Tot Cases/1M pop\", \"Deaths/1M pop\", \"Tests/1M pop\", \"Recovered/1M pop\", \"Recovered/1M cases\", \"Deaths/1M cases\", \"Confirmed/1M tests\", \"GDP\", \"Family\", \"Life expectancy\", \"Freedom\", \"Generosity\", \"Trust\", \"Tot Cases/1M pop\", \"Deaths/1M pop\", \"Tests/1M pop\", \"Recovered/1M pop\", \"Recovered/1M cases\", \"Deaths/1M cases\", \"Confirmed/1M tests\", \"GDP\", \"Family\", \"Life expectancy\", \"Freedom\", \"Generosity\", \"Trust\", \"Tot Cases/1M pop\", \"Deaths/1M pop\", \"Tests/1M pop\", \"Recovered/1M pop\", \"Recovered/1M cases\", \"Deaths/1M cases\", \"Confirmed/1M tests\", \"GDP\", \"Family\", \"Life expectancy\", \"Freedom\", \"Generosity\", \"Trust\", \"Tot Cases/1M pop\", \"Deaths/1M pop\", \"Tests/1M pop\", \"Recovered/1M pop\", \"Recovered/1M cases\", \"Deaths/1M cases\", \"Confirmed/1M tests\", \"GDP\", \"Family\", \"Life expectancy\", \"Freedom\", \"Generosity\", \"Trust\", \"Tot Cases/1M pop\", \"Deaths/1M pop\", \"Tests/1M pop\", \"Recovered/1M pop\", \"Recovered/1M cases\", \"Deaths/1M cases\", \"Confirmed/1M tests\", \"GDP\", \"Family\", \"Life expectancy\", \"Freedom\", \"Generosity\", \"Trust\", \"Tot Cases/1M pop\", \"Deaths/1M pop\", \"Tests/1M pop\", \"Recovered/1M pop\", \"Recovered/1M cases\", \"Deaths/1M cases\", \"Confirmed/1M tests\", \"GDP\", \"Family\", \"Life expectancy\", \"Freedom\", \"Generosity\", \"Trust\", \"Tot Cases/1M pop\", \"Deaths/1M pop\", \"Tests/1M pop\", \"Recovered/1M pop\", \"Recovered/1M cases\", \"Deaths/1M cases\", \"Confirmed/1M tests\", \"GDP\", \"Family\", \"Life expectancy\", \"Freedom\", \"Generosity\", \"Trust\", \"Tot Cases/1M pop\", \"Deaths/1M pop\", \"Tests/1M pop\", \"Recovered/1M pop\", \"Recovered/1M cases\", \"Deaths/1M cases\", \"Confirmed/1M tests\", \"GDP\", \"Family\", \"Life expectancy\", \"Freedom\", \"Generosity\", \"Trust\", \"Tot Cases/1M pop\", \"Deaths/1M pop\", \"Tests/1M pop\", \"Recovered/1M pop\", \"Recovered/1M cases\", \"Deaths/1M cases\", \"Confirmed/1M tests\", \"GDP\", \"Family\", \"Life expectancy\", \"Freedom\", \"Generosity\", \"Trust\", \"Tot Cases/1M pop\", \"Deaths/1M pop\", \"Tests/1M pop\", \"Recovered/1M pop\", \"Recovered/1M cases\", \"Deaths/1M cases\", \"Confirmed/1M tests\", \"GDP\", \"Family\", \"Life expectancy\", \"Freedom\", \"Generosity\", \"Trust\", \"Tot Cases/1M pop\", \"Deaths/1M pop\", \"Tests/1M pop\", \"Recovered/1M pop\", \"Recovered/1M cases\", \"Deaths/1M cases\", \"Confirmed/1M tests\", \"GDP\", \"Family\", \"Life expectancy\", \"Freedom\", \"Generosity\", \"Trust\", \"Tot Cases/1M pop\", \"Deaths/1M pop\", \"Tests/1M pop\", \"Recovered/1M pop\", \"Recovered/1M cases\", \"Deaths/1M cases\", \"Confirmed/1M tests\", \"GDP\", \"Family\", \"Life expectancy\", \"Freedom\", \"Generosity\", \"Trust\"]]}],\n",
       "                        {\"font\": {\"size\": 14}, \"height\": 885, \"template\": {\"data\": {\"bar\": [{\"error_x\": {\"color\": \"#2a3f5f\"}, \"error_y\": {\"color\": \"#2a3f5f\"}, \"marker\": {\"line\": {\"color\": \"#E5ECF6\", \"width\": 0.5}}, \"type\": \"bar\"}], \"barpolar\": [{\"marker\": {\"line\": {\"color\": \"#E5ECF6\", \"width\": 0.5}}, \"type\": \"barpolar\"}], \"carpet\": [{\"aaxis\": {\"endlinecolor\": \"#2a3f5f\", \"gridcolor\": \"white\", \"linecolor\": \"white\", \"minorgridcolor\": \"white\", \"startlinecolor\": \"#2a3f5f\"}, \"baxis\": {\"endlinecolor\": \"#2a3f5f\", \"gridcolor\": \"white\", \"linecolor\": \"white\", \"minorgridcolor\": \"white\", \"startlinecolor\": \"#2a3f5f\"}, \"type\": \"carpet\"}], \"choropleth\": [{\"colorbar\": {\"outlinewidth\": 0, \"ticks\": \"\"}, \"type\": \"choropleth\"}], \"contour\": [{\"colorbar\": {\"outlinewidth\": 0, \"ticks\": \"\"}, \"colorscale\": [[0.0, \"#0d0887\"], [0.1111111111111111, \"#46039f\"], [0.2222222222222222, \"#7201a8\"], [0.3333333333333333, \"#9c179e\"], [0.4444444444444444, \"#bd3786\"], [0.5555555555555556, \"#d8576b\"], [0.6666666666666666, \"#ed7953\"], [0.7777777777777778, \"#fb9f3a\"], [0.8888888888888888, \"#fdca26\"], [1.0, \"#f0f921\"]], \"type\": \"contour\"}], \"contourcarpet\": [{\"colorbar\": {\"outlinewidth\": 0, \"ticks\": \"\"}, \"type\": \"contourcarpet\"}], \"heatmap\": [{\"colorbar\": {\"outlinewidth\": 0, \"ticks\": \"\"}, \"colorscale\": [[0.0, \"#0d0887\"], [0.1111111111111111, \"#46039f\"], [0.2222222222222222, \"#7201a8\"], [0.3333333333333333, \"#9c179e\"], [0.4444444444444444, \"#bd3786\"], [0.5555555555555556, \"#d8576b\"], [0.6666666666666666, \"#ed7953\"], [0.7777777777777778, \"#fb9f3a\"], [0.8888888888888888, \"#fdca26\"], [1.0, \"#f0f921\"]], \"type\": \"heatmap\"}], \"heatmapgl\": [{\"colorbar\": {\"outlinewidth\": 0, \"ticks\": \"\"}, \"colorscale\": [[0.0, \"#0d0887\"], [0.1111111111111111, \"#46039f\"], [0.2222222222222222, \"#7201a8\"], [0.3333333333333333, \"#9c179e\"], [0.4444444444444444, \"#bd3786\"], [0.5555555555555556, \"#d8576b\"], [0.6666666666666666, \"#ed7953\"], [0.7777777777777778, \"#fb9f3a\"], [0.8888888888888888, \"#fdca26\"], [1.0, \"#f0f921\"]], \"type\": \"heatmapgl\"}], \"histogram\": [{\"marker\": {\"colorbar\": {\"outlinewidth\": 0, \"ticks\": \"\"}}, \"type\": \"histogram\"}], \"histogram2d\": [{\"colorbar\": {\"outlinewidth\": 0, \"ticks\": \"\"}, \"colorscale\": [[0.0, \"#0d0887\"], [0.1111111111111111, \"#46039f\"], [0.2222222222222222, \"#7201a8\"], [0.3333333333333333, \"#9c179e\"], [0.4444444444444444, \"#bd3786\"], [0.5555555555555556, \"#d8576b\"], [0.6666666666666666, \"#ed7953\"], [0.7777777777777778, \"#fb9f3a\"], [0.8888888888888888, \"#fdca26\"], [1.0, \"#f0f921\"]], \"type\": \"histogram2d\"}], \"histogram2dcontour\": [{\"colorbar\": {\"outlinewidth\": 0, \"ticks\": \"\"}, \"colorscale\": [[0.0, \"#0d0887\"], [0.1111111111111111, \"#46039f\"], [0.2222222222222222, \"#7201a8\"], [0.3333333333333333, \"#9c179e\"], [0.4444444444444444, \"#bd3786\"], [0.5555555555555556, \"#d8576b\"], [0.6666666666666666, \"#ed7953\"], [0.7777777777777778, \"#fb9f3a\"], [0.8888888888888888, \"#fdca26\"], [1.0, \"#f0f921\"]], \"type\": \"histogram2dcontour\"}], \"mesh3d\": [{\"colorbar\": {\"outlinewidth\": 0, \"ticks\": \"\"}, \"type\": \"mesh3d\"}], \"parcoords\": [{\"line\": {\"colorbar\": {\"outlinewidth\": 0, \"ticks\": \"\"}}, \"type\": \"parcoords\"}], \"pie\": [{\"automargin\": true, \"type\": \"pie\"}], \"scatter\": [{\"marker\": {\"colorbar\": {\"outlinewidth\": 0, \"ticks\": \"\"}}, \"type\": \"scatter\"}], \"scatter3d\": [{\"line\": {\"colorbar\": {\"outlinewidth\": 0, \"ticks\": \"\"}}, \"marker\": {\"colorbar\": {\"outlinewidth\": 0, \"ticks\": \"\"}}, \"type\": \"scatter3d\"}], \"scattercarpet\": [{\"marker\": {\"colorbar\": {\"outlinewidth\": 0, \"ticks\": \"\"}}, \"type\": \"scattercarpet\"}], \"scattergeo\": [{\"marker\": {\"colorbar\": {\"outlinewidth\": 0, \"ticks\": \"\"}}, \"type\": \"scattergeo\"}], \"scattergl\": [{\"marker\": {\"colorbar\": {\"outlinewidth\": 0, \"ticks\": \"\"}}, \"type\": \"scattergl\"}], \"scattermapbox\": [{\"marker\": {\"colorbar\": {\"outlinewidth\": 0, \"ticks\": \"\"}}, \"type\": \"scattermapbox\"}], \"scatterpolar\": [{\"marker\": {\"colorbar\": {\"outlinewidth\": 0, \"ticks\": \"\"}}, \"type\": \"scatterpolar\"}], \"scatterpolargl\": [{\"marker\": {\"colorbar\": {\"outlinewidth\": 0, \"ticks\": \"\"}}, \"type\": \"scatterpolargl\"}], \"scatterternary\": [{\"marker\": {\"colorbar\": {\"outlinewidth\": 0, \"ticks\": \"\"}}, \"type\": \"scatterternary\"}], \"surface\": [{\"colorbar\": {\"outlinewidth\": 0, \"ticks\": \"\"}, \"colorscale\": [[0.0, \"#0d0887\"], [0.1111111111111111, \"#46039f\"], [0.2222222222222222, \"#7201a8\"], [0.3333333333333333, \"#9c179e\"], [0.4444444444444444, \"#bd3786\"], [0.5555555555555556, \"#d8576b\"], [0.6666666666666666, \"#ed7953\"], [0.7777777777777778, \"#fb9f3a\"], [0.8888888888888888, \"#fdca26\"], [1.0, \"#f0f921\"]], \"type\": \"surface\"}], \"table\": [{\"cells\": {\"fill\": {\"color\": \"#EBF0F8\"}, \"line\": {\"color\": \"white\"}}, \"header\": {\"fill\": {\"color\": \"#C8D4E3\"}, \"line\": {\"color\": \"white\"}}, \"type\": \"table\"}]}, \"layout\": {\"annotationdefaults\": {\"arrowcolor\": \"#2a3f5f\", \"arrowhead\": 0, \"arrowwidth\": 1}, \"coloraxis\": {\"colorbar\": {\"outlinewidth\": 0, \"ticks\": \"\"}}, \"colorscale\": {\"diverging\": [[0, \"#8e0152\"], [0.1, \"#c51b7d\"], [0.2, \"#de77ae\"], [0.3, \"#f1b6da\"], [0.4, \"#fde0ef\"], [0.5, \"#f7f7f7\"], [0.6, \"#e6f5d0\"], [0.7, \"#b8e186\"], [0.8, \"#7fbc41\"], [0.9, \"#4d9221\"], [1, \"#276419\"]], \"sequential\": [[0.0, \"#0d0887\"], [0.1111111111111111, \"#46039f\"], [0.2222222222222222, \"#7201a8\"], [0.3333333333333333, \"#9c179e\"], [0.4444444444444444, \"#bd3786\"], [0.5555555555555556, \"#d8576b\"], [0.6666666666666666, \"#ed7953\"], [0.7777777777777778, \"#fb9f3a\"], [0.8888888888888888, \"#fdca26\"], [1.0, \"#f0f921\"]], \"sequentialminus\": [[0.0, \"#0d0887\"], [0.1111111111111111, \"#46039f\"], [0.2222222222222222, \"#7201a8\"], [0.3333333333333333, \"#9c179e\"], [0.4444444444444444, \"#bd3786\"], [0.5555555555555556, \"#d8576b\"], [0.6666666666666666, \"#ed7953\"], [0.7777777777777778, \"#fb9f3a\"], [0.8888888888888888, \"#fdca26\"], [1.0, \"#f0f921\"]]}, \"colorway\": [\"#636efa\", \"#EF553B\", \"#00cc96\", \"#ab63fa\", \"#FFA15A\", \"#19d3f3\", \"#FF6692\", \"#B6E880\", \"#FF97FF\", \"#FECB52\"], \"font\": {\"color\": \"#2a3f5f\"}, \"geo\": {\"bgcolor\": \"white\", \"lakecolor\": \"white\", \"landcolor\": \"#E5ECF6\", \"showlakes\": true, \"showland\": true, \"subunitcolor\": \"white\"}, \"hoverlabel\": {\"align\": \"left\"}, \"hovermode\": \"closest\", \"mapbox\": {\"style\": \"light\"}, \"paper_bgcolor\": \"white\", \"plot_bgcolor\": \"#E5ECF6\", \"polar\": {\"angularaxis\": {\"gridcolor\": \"white\", \"linecolor\": \"white\", \"ticks\": \"\"}, \"bgcolor\": \"#E5ECF6\", \"radialaxis\": {\"gridcolor\": \"white\", \"linecolor\": \"white\", \"ticks\": \"\"}}, \"scene\": {\"xaxis\": {\"backgroundcolor\": \"#E5ECF6\", \"gridcolor\": \"white\", \"gridwidth\": 2, \"linecolor\": \"white\", \"showbackground\": true, \"ticks\": \"\", \"zerolinecolor\": \"white\"}, \"yaxis\": {\"backgroundcolor\": \"#E5ECF6\", \"gridcolor\": \"white\", \"gridwidth\": 2, \"linecolor\": \"white\", \"showbackground\": true, \"ticks\": \"\", \"zerolinecolor\": \"white\"}, \"zaxis\": {\"backgroundcolor\": \"#E5ECF6\", \"gridcolor\": \"white\", \"gridwidth\": 2, \"linecolor\": \"white\", \"showbackground\": true, \"ticks\": \"\", \"zerolinecolor\": \"white\"}}, \"shapedefaults\": {\"line\": {\"color\": \"#2a3f5f\"}}, \"ternary\": {\"aaxis\": {\"gridcolor\": \"white\", \"linecolor\": \"white\", \"ticks\": \"\"}, \"baxis\": {\"gridcolor\": \"white\", \"linecolor\": \"white\", \"ticks\": \"\"}, \"bgcolor\": \"#E5ECF6\", \"caxis\": {\"gridcolor\": \"white\", \"linecolor\": \"white\", \"ticks\": \"\"}}, \"title\": {\"x\": 0.05}, \"xaxis\": {\"automargin\": true, \"gridcolor\": \"white\", \"linecolor\": \"white\", \"ticks\": \"\", \"title\": {\"standoff\": 15}, \"zerolinecolor\": \"white\", \"zerolinewidth\": 2}, \"yaxis\": {\"automargin\": true, \"gridcolor\": \"white\", \"linecolor\": \"white\", \"ticks\": \"\", \"title\": {\"standoff\": 15}, \"zerolinecolor\": \"white\", \"zerolinewidth\": 2}}}, \"title\": {\"text\": \"Europe: 49 countries\"}, \"width\": 885, \"xaxis\": {\"range\": [-0.5, 12.5], \"showgrid\": true, \"ticklen\": 0, \"ticks\": \"outside\", \"tickson\": \"boundaries\"}, \"yaxis\": {\"range\": [-0.5, 12.5], \"showgrid\": true, \"ticklen\": 0, \"ticks\": \"outside\", \"tickson\": \"boundaries\"}},\n",
       "                        {\"responsive\": true}\n",
       "                    ).then(function(){\n",
       "                            \n",
       "var gd = document.getElementById('bc58fd79-3a89-4631-aa49-79a935f6cd83');\n",
       "var x = new MutationObserver(function (mutations, observer) {{\n",
       "        var display = window.getComputedStyle(gd).display;\n",
       "        if (!display || display === 'none') {{\n",
       "            console.log([gd, 'removed!']);\n",
       "            Plotly.purge(gd);\n",
       "            observer.disconnect();\n",
       "        }}\n",
       "}});\n",
       "\n",
       "// Listen for the removal of the full notebook cells\n",
       "var notebookContainer = gd.closest('#notebook-container');\n",
       "if (notebookContainer) {{\n",
       "    x.observe(notebookContainer, {childList: true});\n",
       "}}\n",
       "\n",
       "// Listen for the clearing of the current output cell\n",
       "var outputEl = gd.closest('.output');\n",
       "if (outputEl) {{\n",
       "    x.observe(outputEl, {childList: true});\n",
       "}}\n",
       "\n",
       "                        })\n",
       "                };\n",
       "                });\n",
       "            </script>\n",
       "        </div>"
      ]
     },
     "metadata": {},
     "output_type": "display_data"
    },
    {
     "data": {
      "application/vnd.plotly.v1+json": {
       "config": {
        "plotlyServerURL": "https://plot.ly"
       },
       "data": [
        {
         "hoverinfo": "text",
         "hovertext": [
          "",
          "0.9383993956617636",
          "0.3348790452696366",
          "0.9944959537215186",
          "",
          "",
          "",
          "0.5262624667808866",
          "0.46290850446614157",
          "",
          "",
          "-0.3623829589602012",
          "",
          "0.9383993956617636",
          "",
          "",
          "0.938911665675345",
          "",
          "",
          "",
          "0.382731459777494",
          "0.3983760298602063",
          "",
          "",
          "",
          "",
          "0.3348790452696366",
          "",
          "",
          "",
          "",
          "",
          "",
          "0.6610982553770107",
          "0.49375926629892025",
          "0.5107000930323244",
          "0.38855707154692376",
          "",
          "",
          "0.9944959537215186",
          "0.938911665675345",
          "",
          "",
          "",
          "",
          "",
          "0.4971696690874507",
          "0.4377550088343949",
          "",
          "",
          "",
          "",
          "",
          "",
          "",
          "",
          "",
          "",
          "",
          "",
          "",
          "",
          "",
          "",
          "",
          "",
          "",
          "",
          "",
          "",
          "",
          "",
          "",
          "",
          "",
          "",
          "",
          "",
          "",
          "",
          "",
          "",
          "",
          "",
          "",
          "",
          "",
          "",
          "-0.3830181530885365",
          "",
          "",
          "0.5262624667808866",
          "0.382731459777494",
          "0.6610982553770107",
          "0.4971696690874507",
          "",
          "",
          "",
          "",
          "0.6875318625397476",
          "0.4415075817041689",
          "",
          "-0.5046715163997327",
          "",
          "0.46290850446614157",
          "0.3983760298602063",
          "0.49375926629892025",
          "0.4377550088343949",
          "",
          "",
          "",
          "0.6875318625397476",
          "",
          "",
          "",
          "-0.3573352342583553",
          "",
          "",
          "",
          "0.5107000930323244",
          "",
          "",
          "",
          "",
          "0.4415075817041689",
          "",
          "",
          "",
          "",
          "",
          "",
          "",
          "0.38855707154692376",
          "",
          "",
          "",
          "-0.3830181530885365",
          "",
          "",
          "",
          "",
          "",
          "",
          "-0.3623829589602012",
          "",
          "",
          "",
          "",
          "",
          "",
          "-0.5046715163997327",
          "-0.3573352342583553",
          "",
          "",
          "",
          "",
          "",
          "",
          "",
          "",
          "",
          "",
          "",
          "",
          "",
          "",
          "",
          "",
          ""
         ],
         "marker": {
          "cmid": 0,
          "color": [
           0,
           0.9383993956617636,
           0.3348790452696366,
           0.9944959537215186,
           0,
           0,
           0,
           0.5262624667808866,
           0.46290850446614157,
           0,
           0,
           -0.3623829589602012,
           0,
           0.9383993956617636,
           0,
           0,
           0.938911665675345,
           0,
           0,
           0,
           0.382731459777494,
           0.3983760298602063,
           0,
           0,
           0,
           0,
           0.3348790452696366,
           0,
           0,
           0,
           0,
           0,
           0,
           0.6610982553770107,
           0.49375926629892025,
           0.5107000930323244,
           0.38855707154692376,
           0,
           0,
           0.9944959537215186,
           0.938911665675345,
           0,
           0,
           0,
           0,
           0,
           0.4971696690874507,
           0.4377550088343949,
           0,
           0,
           0,
           0,
           0,
           0,
           0,
           0,
           0,
           0,
           0,
           0,
           0,
           0,
           0,
           0,
           0,
           0,
           0,
           0,
           0,
           0,
           0,
           0,
           0,
           0,
           0,
           0,
           0,
           0,
           0,
           0,
           0,
           0,
           0,
           0,
           0,
           0,
           0,
           0,
           -0.3830181530885365,
           0,
           0,
           0.5262624667808866,
           0.382731459777494,
           0.6610982553770107,
           0.4971696690874507,
           0,
           0,
           0,
           0,
           0.6875318625397476,
           0.4415075817041689,
           0,
           -0.5046715163997327,
           0,
           0.46290850446614157,
           0.3983760298602063,
           0.49375926629892025,
           0.4377550088343949,
           0,
           0,
           0,
           0.6875318625397476,
           0,
           0,
           0,
           -0.3573352342583553,
           0,
           0,
           0,
           0.5107000930323244,
           0,
           0,
           0,
           0,
           0.4415075817041689,
           0,
           0,
           0,
           0,
           0,
           0,
           0,
           0.38855707154692376,
           0,
           0,
           0,
           -0.3830181530885365,
           0,
           0,
           0,
           0,
           0,
           0,
           -0.3623829589602012,
           0,
           0,
           0,
           0,
           0,
           0,
           -0.5046715163997327,
           -0.3573352342583553,
           0,
           0,
           0,
           0,
           0,
           0,
           0,
           0,
           0,
           0,
           0,
           0,
           0,
           0,
           0,
           0,
           0
          ],
          "colorbar": {
           "title": {
            "text": "Correlation"
           }
          },
          "colorscale": [
           [
            0,
            "rgb(5,48,97)"
           ],
           [
            0.1,
            "rgb(33,102,172)"
           ],
           [
            0.2,
            "rgb(67,147,195)"
           ],
           [
            0.3,
            "rgb(146,197,222)"
           ],
           [
            0.4,
            "rgb(209,229,240)"
           ],
           [
            0.5,
            "rgb(247,247,247)"
           ],
           [
            0.6,
            "rgb(253,219,199)"
           ],
           [
            0.7,
            "rgb(244,165,130)"
           ],
           [
            0.8,
            "rgb(214,96,77)"
           ],
           [
            0.9,
            "rgb(178,24,43)"
           ],
           [
            1,
            "rgb(103,0,31)"
           ]
          ],
          "size": [
           0,
           43.166372200441124,
           15.404436082403283,
           45.74681387118985,
           0,
           0,
           0,
           24.208073471920784,
           21.293791205442513,
           0,
           0,
           16.669616112169255,
           0,
           43.166372200441124,
           0,
           0,
           43.18993662106587,
           0,
           0,
           0,
           17.605647149764724,
           18.32529737356949,
           0,
           0,
           0,
           0,
           15.404436082403283,
           0,
           0,
           0,
           0,
           0,
           0,
           30.410519747342494,
           22.712926249750332,
           23.492204279486923,
           17.873625291158493,
           0,
           0,
           45.74681387118985,
           43.18993662106587,
           0,
           0,
           0,
           0,
           0,
           22.869804778022733,
           20.136730406382163,
           0,
           0,
           0,
           0,
           0,
           0,
           0,
           0,
           0,
           0,
           0,
           0,
           0,
           0,
           0,
           0,
           0,
           0,
           0,
           0,
           0,
           0,
           0,
           0,
           0,
           0,
           0,
           0,
           0,
           0,
           0,
           0,
           0,
           0,
           0,
           0,
           0,
           0,
           0,
           0,
           17.61883504207268,
           0,
           0,
           24.208073471920784,
           17.605647149764724,
           30.410519747342494,
           22.869804778022733,
           0,
           0,
           0,
           0,
           31.626465676828392,
           20.30934875839177,
           0,
           23.214889754387706,
           0,
           21.293791205442513,
           18.32529737356949,
           22.712926249750332,
           20.136730406382163,
           0,
           0,
           0,
           31.626465676828392,
           0,
           0,
           0,
           16.437420775884345,
           0,
           0,
           0,
           23.492204279486923,
           0,
           0,
           0,
           0,
           20.30934875839177,
           0,
           0,
           0,
           0,
           0,
           0,
           0,
           17.873625291158493,
           0,
           0,
           0,
           17.61883504207268,
           0,
           0,
           0,
           0,
           0,
           0,
           16.669616112169255,
           0,
           0,
           0,
           0,
           0,
           0,
           23.214889754387706,
           16.437420775884345,
           0,
           0,
           0,
           0,
           0,
           0,
           0,
           0,
           0,
           0,
           0,
           0,
           0,
           0,
           0,
           0,
           0
          ]
         },
         "mode": "markers",
         "type": "scatter",
         "x": [
          [
           "1.",
           "1.",
           "1.",
           "1.",
           "1.",
           "1.",
           "1.",
           "1.",
           "1.",
           "1.",
           "1.",
           "1.",
           "1.",
           "1.",
           "1.",
           "1.",
           "1.",
           "1.",
           "1.",
           "1.",
           "1.",
           "1.",
           "1.",
           "1.",
           "1.",
           "1.",
           "1.",
           "1.",
           "1.",
           "1.",
           "1.",
           "1.",
           "1.",
           "1.",
           "1.",
           "1.",
           "1.",
           "1.",
           "1.",
           "1.",
           "1.",
           "1.",
           "1.",
           "1.",
           "1.",
           "1.",
           "1.",
           "1.",
           "1.",
           "1.",
           "1.",
           "1.",
           "2.",
           "2.",
           "2.",
           "2.",
           "2.",
           "2.",
           "2.",
           "2.",
           "2.",
           "2.",
           "2.",
           "2.",
           "2.",
           "2.",
           "2.",
           "2.",
           "2.",
           "2.",
           "2.",
           "2.",
           "2.",
           "2.",
           "2.",
           "2.",
           "2.",
           "2.",
           "2.",
           "2.",
           "2.",
           "2.",
           "2.",
           "2.",
           "2.",
           "2.",
           "2.",
           "2.",
           "2.",
           "2.",
           "2.",
           "3.",
           "3.",
           "3.",
           "3.",
           "3.",
           "3.",
           "3.",
           "3.",
           "3.",
           "3.",
           "3.",
           "3.",
           "3.",
           "3.",
           "3.",
           "3.",
           "3.",
           "3.",
           "3.",
           "3.",
           "3.",
           "3.",
           "3.",
           "3.",
           "3.",
           "3.",
           "3.",
           "3.",
           "3.",
           "3.",
           "3.",
           "3.",
           "3.",
           "3.",
           "3.",
           "3.",
           "3.",
           "3.",
           "3.",
           "3.",
           "3.",
           "3.",
           "3.",
           "3.",
           "3.",
           "3.",
           "3.",
           "3.",
           "3.",
           "3.",
           "3.",
           "3.",
           "3.",
           "3.",
           "3.",
           "3.",
           "3.",
           "3.",
           "3.",
           "3.",
           "3.",
           "3.",
           "3.",
           "3.",
           "3.",
           "3.",
           "3.",
           "3.",
           "3.",
           "3.",
           "3.",
           "3.",
           "3.",
           "3.",
           "3.",
           "3.",
           "3.",
           "3."
          ],
          [
           "Tot Cases/1M pop",
           "Tot Cases/1M pop",
           "Tot Cases/1M pop",
           "Tot Cases/1M pop",
           "Tot Cases/1M pop",
           "Tot Cases/1M pop",
           "Tot Cases/1M pop",
           "Tot Cases/1M pop",
           "Tot Cases/1M pop",
           "Tot Cases/1M pop",
           "Tot Cases/1M pop",
           "Tot Cases/1M pop",
           "Tot Cases/1M pop",
           "Deaths/1M pop",
           "Deaths/1M pop",
           "Deaths/1M pop",
           "Deaths/1M pop",
           "Deaths/1M pop",
           "Deaths/1M pop",
           "Deaths/1M pop",
           "Deaths/1M pop",
           "Deaths/1M pop",
           "Deaths/1M pop",
           "Deaths/1M pop",
           "Deaths/1M pop",
           "Deaths/1M pop",
           "Tests/1M pop",
           "Tests/1M pop",
           "Tests/1M pop",
           "Tests/1M pop",
           "Tests/1M pop",
           "Tests/1M pop",
           "Tests/1M pop",
           "Tests/1M pop",
           "Tests/1M pop",
           "Tests/1M pop",
           "Tests/1M pop",
           "Tests/1M pop",
           "Tests/1M pop",
           "Recovered/1M pop",
           "Recovered/1M pop",
           "Recovered/1M pop",
           "Recovered/1M pop",
           "Recovered/1M pop",
           "Recovered/1M pop",
           "Recovered/1M pop",
           "Recovered/1M pop",
           "Recovered/1M pop",
           "Recovered/1M pop",
           "Recovered/1M pop",
           "Recovered/1M pop",
           "Recovered/1M pop",
           "Recovered/1M cases",
           "Recovered/1M cases",
           "Recovered/1M cases",
           "Recovered/1M cases",
           "Recovered/1M cases",
           "Recovered/1M cases",
           "Recovered/1M cases",
           "Recovered/1M cases",
           "Recovered/1M cases",
           "Recovered/1M cases",
           "Recovered/1M cases",
           "Recovered/1M cases",
           "Recovered/1M cases",
           "Deaths/1M cases",
           "Deaths/1M cases",
           "Deaths/1M cases",
           "Deaths/1M cases",
           "Deaths/1M cases",
           "Deaths/1M cases",
           "Deaths/1M cases",
           "Deaths/1M cases",
           "Deaths/1M cases",
           "Deaths/1M cases",
           "Deaths/1M cases",
           "Deaths/1M cases",
           "Deaths/1M cases",
           "Confirmed/1M tests",
           "Confirmed/1M tests",
           "Confirmed/1M tests",
           "Confirmed/1M tests",
           "Confirmed/1M tests",
           "Confirmed/1M tests",
           "Confirmed/1M tests",
           "Confirmed/1M tests",
           "Confirmed/1M tests",
           "Confirmed/1M tests",
           "Confirmed/1M tests",
           "Confirmed/1M tests",
           "Confirmed/1M tests",
           "GDP",
           "GDP",
           "GDP",
           "GDP",
           "GDP",
           "GDP",
           "GDP",
           "GDP",
           "GDP",
           "GDP",
           "GDP",
           "GDP",
           "GDP",
           "Family",
           "Family",
           "Family",
           "Family",
           "Family",
           "Family",
           "Family",
           "Family",
           "Family",
           "Family",
           "Family",
           "Family",
           "Family",
           "Life expectancy",
           "Life expectancy",
           "Life expectancy",
           "Life expectancy",
           "Life expectancy",
           "Life expectancy",
           "Life expectancy",
           "Life expectancy",
           "Life expectancy",
           "Life expectancy",
           "Life expectancy",
           "Life expectancy",
           "Life expectancy",
           "Freedom",
           "Freedom",
           "Freedom",
           "Freedom",
           "Freedom",
           "Freedom",
           "Freedom",
           "Freedom",
           "Freedom",
           "Freedom",
           "Freedom",
           "Freedom",
           "Freedom",
           "Generosity",
           "Generosity",
           "Generosity",
           "Generosity",
           "Generosity",
           "Generosity",
           "Generosity",
           "Generosity",
           "Generosity",
           "Generosity",
           "Generosity",
           "Generosity",
           "Generosity",
           "Trust",
           "Trust",
           "Trust",
           "Trust",
           "Trust",
           "Trust",
           "Trust",
           "Trust",
           "Trust",
           "Trust",
           "Trust",
           "Trust",
           "Trust"
          ]
         ],
         "y": [
          [
           "1.",
           "1.",
           "1.",
           "1.",
           "2.",
           "2.",
           "2.",
           "3.",
           "3.",
           "3.",
           "3.",
           "3.",
           "3.",
           "1.",
           "1.",
           "1.",
           "1.",
           "2.",
           "2.",
           "2.",
           "3.",
           "3.",
           "3.",
           "3.",
           "3.",
           "3.",
           "1.",
           "1.",
           "1.",
           "1.",
           "2.",
           "2.",
           "2.",
           "3.",
           "3.",
           "3.",
           "3.",
           "3.",
           "3.",
           "1.",
           "1.",
           "1.",
           "1.",
           "2.",
           "2.",
           "2.",
           "3.",
           "3.",
           "3.",
           "3.",
           "3.",
           "3.",
           "1.",
           "1.",
           "1.",
           "1.",
           "2.",
           "2.",
           "2.",
           "3.",
           "3.",
           "3.",
           "3.",
           "3.",
           "3.",
           "1.",
           "1.",
           "1.",
           "1.",
           "2.",
           "2.",
           "2.",
           "3.",
           "3.",
           "3.",
           "3.",
           "3.",
           "3.",
           "1.",
           "1.",
           "1.",
           "1.",
           "2.",
           "2.",
           "2.",
           "3.",
           "3.",
           "3.",
           "3.",
           "3.",
           "3.",
           "1.",
           "1.",
           "1.",
           "1.",
           "2.",
           "2.",
           "2.",
           "3.",
           "3.",
           "3.",
           "3.",
           "3.",
           "3.",
           "1.",
           "1.",
           "1.",
           "1.",
           "2.",
           "2.",
           "2.",
           "3.",
           "3.",
           "3.",
           "3.",
           "3.",
           "3.",
           "1.",
           "1.",
           "1.",
           "1.",
           "2.",
           "2.",
           "2.",
           "3.",
           "3.",
           "3.",
           "3.",
           "3.",
           "3.",
           "1.",
           "1.",
           "1.",
           "1.",
           "2.",
           "2.",
           "2.",
           "3.",
           "3.",
           "3.",
           "3.",
           "3.",
           "3.",
           "1.",
           "1.",
           "1.",
           "1.",
           "2.",
           "2.",
           "2.",
           "3.",
           "3.",
           "3.",
           "3.",
           "3.",
           "3.",
           "1.",
           "1.",
           "1.",
           "1.",
           "2.",
           "2.",
           "2.",
           "3.",
           "3.",
           "3.",
           "3.",
           "3.",
           "3."
          ],
          [
           "Tot Cases/1M pop",
           "Deaths/1M pop",
           "Tests/1M pop",
           "Recovered/1M pop",
           "Recovered/1M cases",
           "Deaths/1M cases",
           "Confirmed/1M tests",
           "GDP",
           "Family",
           "Life expectancy",
           "Freedom",
           "Generosity",
           "Trust",
           "Tot Cases/1M pop",
           "Deaths/1M pop",
           "Tests/1M pop",
           "Recovered/1M pop",
           "Recovered/1M cases",
           "Deaths/1M cases",
           "Confirmed/1M tests",
           "GDP",
           "Family",
           "Life expectancy",
           "Freedom",
           "Generosity",
           "Trust",
           "Tot Cases/1M pop",
           "Deaths/1M pop",
           "Tests/1M pop",
           "Recovered/1M pop",
           "Recovered/1M cases",
           "Deaths/1M cases",
           "Confirmed/1M tests",
           "GDP",
           "Family",
           "Life expectancy",
           "Freedom",
           "Generosity",
           "Trust",
           "Tot Cases/1M pop",
           "Deaths/1M pop",
           "Tests/1M pop",
           "Recovered/1M pop",
           "Recovered/1M cases",
           "Deaths/1M cases",
           "Confirmed/1M tests",
           "GDP",
           "Family",
           "Life expectancy",
           "Freedom",
           "Generosity",
           "Trust",
           "Tot Cases/1M pop",
           "Deaths/1M pop",
           "Tests/1M pop",
           "Recovered/1M pop",
           "Recovered/1M cases",
           "Deaths/1M cases",
           "Confirmed/1M tests",
           "GDP",
           "Family",
           "Life expectancy",
           "Freedom",
           "Generosity",
           "Trust",
           "Tot Cases/1M pop",
           "Deaths/1M pop",
           "Tests/1M pop",
           "Recovered/1M pop",
           "Recovered/1M cases",
           "Deaths/1M cases",
           "Confirmed/1M tests",
           "GDP",
           "Family",
           "Life expectancy",
           "Freedom",
           "Generosity",
           "Trust",
           "Tot Cases/1M pop",
           "Deaths/1M pop",
           "Tests/1M pop",
           "Recovered/1M pop",
           "Recovered/1M cases",
           "Deaths/1M cases",
           "Confirmed/1M tests",
           "GDP",
           "Family",
           "Life expectancy",
           "Freedom",
           "Generosity",
           "Trust",
           "Tot Cases/1M pop",
           "Deaths/1M pop",
           "Tests/1M pop",
           "Recovered/1M pop",
           "Recovered/1M cases",
           "Deaths/1M cases",
           "Confirmed/1M tests",
           "GDP",
           "Family",
           "Life expectancy",
           "Freedom",
           "Generosity",
           "Trust",
           "Tot Cases/1M pop",
           "Deaths/1M pop",
           "Tests/1M pop",
           "Recovered/1M pop",
           "Recovered/1M cases",
           "Deaths/1M cases",
           "Confirmed/1M tests",
           "GDP",
           "Family",
           "Life expectancy",
           "Freedom",
           "Generosity",
           "Trust",
           "Tot Cases/1M pop",
           "Deaths/1M pop",
           "Tests/1M pop",
           "Recovered/1M pop",
           "Recovered/1M cases",
           "Deaths/1M cases",
           "Confirmed/1M tests",
           "GDP",
           "Family",
           "Life expectancy",
           "Freedom",
           "Generosity",
           "Trust",
           "Tot Cases/1M pop",
           "Deaths/1M pop",
           "Tests/1M pop",
           "Recovered/1M pop",
           "Recovered/1M cases",
           "Deaths/1M cases",
           "Confirmed/1M tests",
           "GDP",
           "Family",
           "Life expectancy",
           "Freedom",
           "Generosity",
           "Trust",
           "Tot Cases/1M pop",
           "Deaths/1M pop",
           "Tests/1M pop",
           "Recovered/1M pop",
           "Recovered/1M cases",
           "Deaths/1M cases",
           "Confirmed/1M tests",
           "GDP",
           "Family",
           "Life expectancy",
           "Freedom",
           "Generosity",
           "Trust",
           "Tot Cases/1M pop",
           "Deaths/1M pop",
           "Tests/1M pop",
           "Recovered/1M pop",
           "Recovered/1M cases",
           "Deaths/1M cases",
           "Confirmed/1M tests",
           "GDP",
           "Family",
           "Life expectancy",
           "Freedom",
           "Generosity",
           "Trust"
          ]
         ]
        }
       ],
       "layout": {
        "font": {
         "size": 14
        },
        "height": 885,
        "template": {
         "data": {
          "bar": [
           {
            "error_x": {
             "color": "#2a3f5f"
            },
            "error_y": {
             "color": "#2a3f5f"
            },
            "marker": {
             "line": {
              "color": "#E5ECF6",
              "width": 0.5
             }
            },
            "type": "bar"
           }
          ],
          "barpolar": [
           {
            "marker": {
             "line": {
              "color": "#E5ECF6",
              "width": 0.5
             }
            },
            "type": "barpolar"
           }
          ],
          "carpet": [
           {
            "aaxis": {
             "endlinecolor": "#2a3f5f",
             "gridcolor": "white",
             "linecolor": "white",
             "minorgridcolor": "white",
             "startlinecolor": "#2a3f5f"
            },
            "baxis": {
             "endlinecolor": "#2a3f5f",
             "gridcolor": "white",
             "linecolor": "white",
             "minorgridcolor": "white",
             "startlinecolor": "#2a3f5f"
            },
            "type": "carpet"
           }
          ],
          "choropleth": [
           {
            "colorbar": {
             "outlinewidth": 0,
             "ticks": ""
            },
            "type": "choropleth"
           }
          ],
          "contour": [
           {
            "colorbar": {
             "outlinewidth": 0,
             "ticks": ""
            },
            "colorscale": [
             [
              0,
              "#0d0887"
             ],
             [
              0.1111111111111111,
              "#46039f"
             ],
             [
              0.2222222222222222,
              "#7201a8"
             ],
             [
              0.3333333333333333,
              "#9c179e"
             ],
             [
              0.4444444444444444,
              "#bd3786"
             ],
             [
              0.5555555555555556,
              "#d8576b"
             ],
             [
              0.6666666666666666,
              "#ed7953"
             ],
             [
              0.7777777777777778,
              "#fb9f3a"
             ],
             [
              0.8888888888888888,
              "#fdca26"
             ],
             [
              1,
              "#f0f921"
             ]
            ],
            "type": "contour"
           }
          ],
          "contourcarpet": [
           {
            "colorbar": {
             "outlinewidth": 0,
             "ticks": ""
            },
            "type": "contourcarpet"
           }
          ],
          "heatmap": [
           {
            "colorbar": {
             "outlinewidth": 0,
             "ticks": ""
            },
            "colorscale": [
             [
              0,
              "#0d0887"
             ],
             [
              0.1111111111111111,
              "#46039f"
             ],
             [
              0.2222222222222222,
              "#7201a8"
             ],
             [
              0.3333333333333333,
              "#9c179e"
             ],
             [
              0.4444444444444444,
              "#bd3786"
             ],
             [
              0.5555555555555556,
              "#d8576b"
             ],
             [
              0.6666666666666666,
              "#ed7953"
             ],
             [
              0.7777777777777778,
              "#fb9f3a"
             ],
             [
              0.8888888888888888,
              "#fdca26"
             ],
             [
              1,
              "#f0f921"
             ]
            ],
            "type": "heatmap"
           }
          ],
          "heatmapgl": [
           {
            "colorbar": {
             "outlinewidth": 0,
             "ticks": ""
            },
            "colorscale": [
             [
              0,
              "#0d0887"
             ],
             [
              0.1111111111111111,
              "#46039f"
             ],
             [
              0.2222222222222222,
              "#7201a8"
             ],
             [
              0.3333333333333333,
              "#9c179e"
             ],
             [
              0.4444444444444444,
              "#bd3786"
             ],
             [
              0.5555555555555556,
              "#d8576b"
             ],
             [
              0.6666666666666666,
              "#ed7953"
             ],
             [
              0.7777777777777778,
              "#fb9f3a"
             ],
             [
              0.8888888888888888,
              "#fdca26"
             ],
             [
              1,
              "#f0f921"
             ]
            ],
            "type": "heatmapgl"
           }
          ],
          "histogram": [
           {
            "marker": {
             "colorbar": {
              "outlinewidth": 0,
              "ticks": ""
             }
            },
            "type": "histogram"
           }
          ],
          "histogram2d": [
           {
            "colorbar": {
             "outlinewidth": 0,
             "ticks": ""
            },
            "colorscale": [
             [
              0,
              "#0d0887"
             ],
             [
              0.1111111111111111,
              "#46039f"
             ],
             [
              0.2222222222222222,
              "#7201a8"
             ],
             [
              0.3333333333333333,
              "#9c179e"
             ],
             [
              0.4444444444444444,
              "#bd3786"
             ],
             [
              0.5555555555555556,
              "#d8576b"
             ],
             [
              0.6666666666666666,
              "#ed7953"
             ],
             [
              0.7777777777777778,
              "#fb9f3a"
             ],
             [
              0.8888888888888888,
              "#fdca26"
             ],
             [
              1,
              "#f0f921"
             ]
            ],
            "type": "histogram2d"
           }
          ],
          "histogram2dcontour": [
           {
            "colorbar": {
             "outlinewidth": 0,
             "ticks": ""
            },
            "colorscale": [
             [
              0,
              "#0d0887"
             ],
             [
              0.1111111111111111,
              "#46039f"
             ],
             [
              0.2222222222222222,
              "#7201a8"
             ],
             [
              0.3333333333333333,
              "#9c179e"
             ],
             [
              0.4444444444444444,
              "#bd3786"
             ],
             [
              0.5555555555555556,
              "#d8576b"
             ],
             [
              0.6666666666666666,
              "#ed7953"
             ],
             [
              0.7777777777777778,
              "#fb9f3a"
             ],
             [
              0.8888888888888888,
              "#fdca26"
             ],
             [
              1,
              "#f0f921"
             ]
            ],
            "type": "histogram2dcontour"
           }
          ],
          "mesh3d": [
           {
            "colorbar": {
             "outlinewidth": 0,
             "ticks": ""
            },
            "type": "mesh3d"
           }
          ],
          "parcoords": [
           {
            "line": {
             "colorbar": {
              "outlinewidth": 0,
              "ticks": ""
             }
            },
            "type": "parcoords"
           }
          ],
          "pie": [
           {
            "automargin": true,
            "type": "pie"
           }
          ],
          "scatter": [
           {
            "marker": {
             "colorbar": {
              "outlinewidth": 0,
              "ticks": ""
             }
            },
            "type": "scatter"
           }
          ],
          "scatter3d": [
           {
            "line": {
             "colorbar": {
              "outlinewidth": 0,
              "ticks": ""
             }
            },
            "marker": {
             "colorbar": {
              "outlinewidth": 0,
              "ticks": ""
             }
            },
            "type": "scatter3d"
           }
          ],
          "scattercarpet": [
           {
            "marker": {
             "colorbar": {
              "outlinewidth": 0,
              "ticks": ""
             }
            },
            "type": "scattercarpet"
           }
          ],
          "scattergeo": [
           {
            "marker": {
             "colorbar": {
              "outlinewidth": 0,
              "ticks": ""
             }
            },
            "type": "scattergeo"
           }
          ],
          "scattergl": [
           {
            "marker": {
             "colorbar": {
              "outlinewidth": 0,
              "ticks": ""
             }
            },
            "type": "scattergl"
           }
          ],
          "scattermapbox": [
           {
            "marker": {
             "colorbar": {
              "outlinewidth": 0,
              "ticks": ""
             }
            },
            "type": "scattermapbox"
           }
          ],
          "scatterpolar": [
           {
            "marker": {
             "colorbar": {
              "outlinewidth": 0,
              "ticks": ""
             }
            },
            "type": "scatterpolar"
           }
          ],
          "scatterpolargl": [
           {
            "marker": {
             "colorbar": {
              "outlinewidth": 0,
              "ticks": ""
             }
            },
            "type": "scatterpolargl"
           }
          ],
          "scatterternary": [
           {
            "marker": {
             "colorbar": {
              "outlinewidth": 0,
              "ticks": ""
             }
            },
            "type": "scatterternary"
           }
          ],
          "surface": [
           {
            "colorbar": {
             "outlinewidth": 0,
             "ticks": ""
            },
            "colorscale": [
             [
              0,
              "#0d0887"
             ],
             [
              0.1111111111111111,
              "#46039f"
             ],
             [
              0.2222222222222222,
              "#7201a8"
             ],
             [
              0.3333333333333333,
              "#9c179e"
             ],
             [
              0.4444444444444444,
              "#bd3786"
             ],
             [
              0.5555555555555556,
              "#d8576b"
             ],
             [
              0.6666666666666666,
              "#ed7953"
             ],
             [
              0.7777777777777778,
              "#fb9f3a"
             ],
             [
              0.8888888888888888,
              "#fdca26"
             ],
             [
              1,
              "#f0f921"
             ]
            ],
            "type": "surface"
           }
          ],
          "table": [
           {
            "cells": {
             "fill": {
              "color": "#EBF0F8"
             },
             "line": {
              "color": "white"
             }
            },
            "header": {
             "fill": {
              "color": "#C8D4E3"
             },
             "line": {
              "color": "white"
             }
            },
            "type": "table"
           }
          ]
         },
         "layout": {
          "annotationdefaults": {
           "arrowcolor": "#2a3f5f",
           "arrowhead": 0,
           "arrowwidth": 1
          },
          "coloraxis": {
           "colorbar": {
            "outlinewidth": 0,
            "ticks": ""
           }
          },
          "colorscale": {
           "diverging": [
            [
             0,
             "#8e0152"
            ],
            [
             0.1,
             "#c51b7d"
            ],
            [
             0.2,
             "#de77ae"
            ],
            [
             0.3,
             "#f1b6da"
            ],
            [
             0.4,
             "#fde0ef"
            ],
            [
             0.5,
             "#f7f7f7"
            ],
            [
             0.6,
             "#e6f5d0"
            ],
            [
             0.7,
             "#b8e186"
            ],
            [
             0.8,
             "#7fbc41"
            ],
            [
             0.9,
             "#4d9221"
            ],
            [
             1,
             "#276419"
            ]
           ],
           "sequential": [
            [
             0,
             "#0d0887"
            ],
            [
             0.1111111111111111,
             "#46039f"
            ],
            [
             0.2222222222222222,
             "#7201a8"
            ],
            [
             0.3333333333333333,
             "#9c179e"
            ],
            [
             0.4444444444444444,
             "#bd3786"
            ],
            [
             0.5555555555555556,
             "#d8576b"
            ],
            [
             0.6666666666666666,
             "#ed7953"
            ],
            [
             0.7777777777777778,
             "#fb9f3a"
            ],
            [
             0.8888888888888888,
             "#fdca26"
            ],
            [
             1,
             "#f0f921"
            ]
           ],
           "sequentialminus": [
            [
             0,
             "#0d0887"
            ],
            [
             0.1111111111111111,
             "#46039f"
            ],
            [
             0.2222222222222222,
             "#7201a8"
            ],
            [
             0.3333333333333333,
             "#9c179e"
            ],
            [
             0.4444444444444444,
             "#bd3786"
            ],
            [
             0.5555555555555556,
             "#d8576b"
            ],
            [
             0.6666666666666666,
             "#ed7953"
            ],
            [
             0.7777777777777778,
             "#fb9f3a"
            ],
            [
             0.8888888888888888,
             "#fdca26"
            ],
            [
             1,
             "#f0f921"
            ]
           ]
          },
          "colorway": [
           "#636efa",
           "#EF553B",
           "#00cc96",
           "#ab63fa",
           "#FFA15A",
           "#19d3f3",
           "#FF6692",
           "#B6E880",
           "#FF97FF",
           "#FECB52"
          ],
          "font": {
           "color": "#2a3f5f"
          },
          "geo": {
           "bgcolor": "white",
           "lakecolor": "white",
           "landcolor": "#E5ECF6",
           "showlakes": true,
           "showland": true,
           "subunitcolor": "white"
          },
          "hoverlabel": {
           "align": "left"
          },
          "hovermode": "closest",
          "mapbox": {
           "style": "light"
          },
          "paper_bgcolor": "white",
          "plot_bgcolor": "#E5ECF6",
          "polar": {
           "angularaxis": {
            "gridcolor": "white",
            "linecolor": "white",
            "ticks": ""
           },
           "bgcolor": "#E5ECF6",
           "radialaxis": {
            "gridcolor": "white",
            "linecolor": "white",
            "ticks": ""
           }
          },
          "scene": {
           "xaxis": {
            "backgroundcolor": "#E5ECF6",
            "gridcolor": "white",
            "gridwidth": 2,
            "linecolor": "white",
            "showbackground": true,
            "ticks": "",
            "zerolinecolor": "white"
           },
           "yaxis": {
            "backgroundcolor": "#E5ECF6",
            "gridcolor": "white",
            "gridwidth": 2,
            "linecolor": "white",
            "showbackground": true,
            "ticks": "",
            "zerolinecolor": "white"
           },
           "zaxis": {
            "backgroundcolor": "#E5ECF6",
            "gridcolor": "white",
            "gridwidth": 2,
            "linecolor": "white",
            "showbackground": true,
            "ticks": "",
            "zerolinecolor": "white"
           }
          },
          "shapedefaults": {
           "line": {
            "color": "#2a3f5f"
           }
          },
          "ternary": {
           "aaxis": {
            "gridcolor": "white",
            "linecolor": "white",
            "ticks": ""
           },
           "baxis": {
            "gridcolor": "white",
            "linecolor": "white",
            "ticks": ""
           },
           "bgcolor": "#E5ECF6",
           "caxis": {
            "gridcolor": "white",
            "linecolor": "white",
            "ticks": ""
           }
          },
          "title": {
           "x": 0.05
          },
          "xaxis": {
           "automargin": true,
           "gridcolor": "white",
           "linecolor": "white",
           "ticks": "",
           "title": {
            "standoff": 15
           },
           "zerolinecolor": "white",
           "zerolinewidth": 2
          },
          "yaxis": {
           "automargin": true,
           "gridcolor": "white",
           "linecolor": "white",
           "ticks": "",
           "title": {
            "standoff": 15
           },
           "zerolinecolor": "white",
           "zerolinewidth": 2
          }
         }
        },
        "title": {
         "text": "Africa: 36 countries"
        },
        "width": 885,
        "xaxis": {
         "range": [
          -0.5,
          12.5
         ],
         "showgrid": true,
         "ticklen": 0,
         "ticks": "outside",
         "tickson": "boundaries"
        },
        "yaxis": {
         "range": [
          -0.5,
          12.5
         ],
         "showgrid": true,
         "ticklen": 0,
         "ticks": "outside",
         "tickson": "boundaries"
        }
       }
      },
      "text/html": [
       "<div>\n",
       "        \n",
       "        \n",
       "            <div id=\"301a2f3c-ddad-4d91-88f7-5b204771926a\" class=\"plotly-graph-div\" style=\"height:885px; width:885px;\"></div>\n",
       "            <script type=\"text/javascript\">\n",
       "                require([\"plotly\"], function(Plotly) {\n",
       "                    window.PLOTLYENV=window.PLOTLYENV || {};\n",
       "                    \n",
       "                if (document.getElementById(\"301a2f3c-ddad-4d91-88f7-5b204771926a\")) {\n",
       "                    Plotly.newPlot(\n",
       "                        '301a2f3c-ddad-4d91-88f7-5b204771926a',\n",
       "                        [{\"hoverinfo\": \"text\", \"hovertext\": [\"\", \"0.9383993956617636\", \"0.3348790452696366\", \"0.9944959537215186\", \"\", \"\", \"\", \"0.5262624667808866\", \"0.46290850446614157\", \"\", \"\", \"-0.3623829589602012\", \"\", \"0.9383993956617636\", \"\", \"\", \"0.938911665675345\", \"\", \"\", \"\", \"0.382731459777494\", \"0.3983760298602063\", \"\", \"\", \"\", \"\", \"0.3348790452696366\", \"\", \"\", \"\", \"\", \"\", \"\", \"0.6610982553770107\", \"0.49375926629892025\", \"0.5107000930323244\", \"0.38855707154692376\", \"\", \"\", \"0.9944959537215186\", \"0.938911665675345\", \"\", \"\", \"\", \"\", \"\", \"0.4971696690874507\", \"0.4377550088343949\", \"\", \"\", \"\", \"\", \"\", \"\", \"\", \"\", \"\", \"\", \"\", \"\", \"\", \"\", \"\", \"\", \"\", \"\", \"\", \"\", \"\", \"\", \"\", \"\", \"\", \"\", \"\", \"\", \"\", \"\", \"\", \"\", \"\", \"\", \"\", \"\", \"\", \"\", \"\", \"\", \"-0.3830181530885365\", \"\", \"\", \"0.5262624667808866\", \"0.382731459777494\", \"0.6610982553770107\", \"0.4971696690874507\", \"\", \"\", \"\", \"\", \"0.6875318625397476\", \"0.4415075817041689\", \"\", \"-0.5046715163997327\", \"\", \"0.46290850446614157\", \"0.3983760298602063\", \"0.49375926629892025\", \"0.4377550088343949\", \"\", \"\", \"\", \"0.6875318625397476\", \"\", \"\", \"\", \"-0.3573352342583553\", \"\", \"\", \"\", \"0.5107000930323244\", \"\", \"\", \"\", \"\", \"0.4415075817041689\", \"\", \"\", \"\", \"\", \"\", \"\", \"\", \"0.38855707154692376\", \"\", \"\", \"\", \"-0.3830181530885365\", \"\", \"\", \"\", \"\", \"\", \"\", \"-0.3623829589602012\", \"\", \"\", \"\", \"\", \"\", \"\", \"-0.5046715163997327\", \"-0.3573352342583553\", \"\", \"\", \"\", \"\", \"\", \"\", \"\", \"\", \"\", \"\", \"\", \"\", \"\", \"\", \"\", \"\", \"\"], \"marker\": {\"cmid\": 0, \"color\": [0, 0.9383993956617636, 0.3348790452696366, 0.9944959537215186, 0, 0, 0, 0.5262624667808866, 0.46290850446614157, 0, 0, -0.3623829589602012, 0, 0.9383993956617636, 0, 0, 0.938911665675345, 0, 0, 0, 0.382731459777494, 0.3983760298602063, 0, 0, 0, 0, 0.3348790452696366, 0, 0, 0, 0, 0, 0, 0.6610982553770107, 0.49375926629892025, 0.5107000930323244, 0.38855707154692376, 0, 0, 0.9944959537215186, 0.938911665675345, 0, 0, 0, 0, 0, 0.4971696690874507, 0.4377550088343949, 0, 0, 0, 0, 0, 0, 0, 0, 0, 0, 0, 0, 0, 0, 0, 0, 0, 0, 0, 0, 0, 0, 0, 0, 0, 0, 0, 0, 0, 0, 0, 0, 0, 0, 0, 0, 0, 0, 0, 0, -0.3830181530885365, 0, 0, 0.5262624667808866, 0.382731459777494, 0.6610982553770107, 0.4971696690874507, 0, 0, 0, 0, 0.6875318625397476, 0.4415075817041689, 0, -0.5046715163997327, 0, 0.46290850446614157, 0.3983760298602063, 0.49375926629892025, 0.4377550088343949, 0, 0, 0, 0.6875318625397476, 0, 0, 0, -0.3573352342583553, 0, 0, 0, 0.5107000930323244, 0, 0, 0, 0, 0.4415075817041689, 0, 0, 0, 0, 0, 0, 0, 0.38855707154692376, 0, 0, 0, -0.3830181530885365, 0, 0, 0, 0, 0, 0, -0.3623829589602012, 0, 0, 0, 0, 0, 0, -0.5046715163997327, -0.3573352342583553, 0, 0, 0, 0, 0, 0, 0, 0, 0, 0, 0, 0, 0, 0, 0, 0, 0], \"colorbar\": {\"title\": {\"text\": \"Correlation\"}}, \"colorscale\": [[0.0, \"rgb(5,48,97)\"], [0.1, \"rgb(33,102,172)\"], [0.2, \"rgb(67,147,195)\"], [0.3, \"rgb(146,197,222)\"], [0.4, \"rgb(209,229,240)\"], [0.5, \"rgb(247,247,247)\"], [0.6, \"rgb(253,219,199)\"], [0.7, \"rgb(244,165,130)\"], [0.8, \"rgb(214,96,77)\"], [0.9, \"rgb(178,24,43)\"], [1.0, \"rgb(103,0,31)\"]], \"size\": [0, 43.166372200441124, 15.404436082403283, 45.74681387118985, 0, 0, 0, 24.208073471920784, 21.293791205442513, 0, 0, 16.669616112169255, 0, 43.166372200441124, 0, 0, 43.18993662106587, 0, 0, 0, 17.605647149764724, 18.32529737356949, 0, 0, 0, 0, 15.404436082403283, 0, 0, 0, 0, 0, 0, 30.410519747342494, 22.712926249750332, 23.492204279486923, 17.873625291158493, 0, 0, 45.74681387118985, 43.18993662106587, 0, 0, 0, 0, 0, 22.869804778022733, 20.136730406382163, 0, 0, 0, 0, 0, 0, 0, 0, 0, 0, 0, 0, 0, 0, 0, 0, 0, 0, 0, 0, 0, 0, 0, 0, 0, 0, 0, 0, 0, 0, 0, 0, 0, 0, 0, 0, 0, 0, 0, 0, 17.61883504207268, 0, 0, 24.208073471920784, 17.605647149764724, 30.410519747342494, 22.869804778022733, 0, 0, 0, 0, 31.626465676828392, 20.30934875839177, 0, 23.214889754387706, 0, 21.293791205442513, 18.32529737356949, 22.712926249750332, 20.136730406382163, 0, 0, 0, 31.626465676828392, 0, 0, 0, 16.437420775884345, 0, 0, 0, 23.492204279486923, 0, 0, 0, 0, 20.30934875839177, 0, 0, 0, 0, 0, 0, 0, 17.873625291158493, 0, 0, 0, 17.61883504207268, 0, 0, 0, 0, 0, 0, 16.669616112169255, 0, 0, 0, 0, 0, 0, 23.214889754387706, 16.437420775884345, 0, 0, 0, 0, 0, 0, 0, 0, 0, 0, 0, 0, 0, 0, 0, 0, 0]}, \"mode\": \"markers\", \"type\": \"scatter\", \"x\": [[\"1.\", \"1.\", \"1.\", \"1.\", \"1.\", \"1.\", \"1.\", \"1.\", \"1.\", \"1.\", \"1.\", \"1.\", \"1.\", \"1.\", \"1.\", \"1.\", \"1.\", \"1.\", \"1.\", \"1.\", \"1.\", \"1.\", \"1.\", \"1.\", \"1.\", \"1.\", \"1.\", \"1.\", \"1.\", \"1.\", \"1.\", \"1.\", \"1.\", \"1.\", \"1.\", \"1.\", \"1.\", \"1.\", \"1.\", \"1.\", \"1.\", \"1.\", \"1.\", \"1.\", \"1.\", \"1.\", \"1.\", \"1.\", \"1.\", \"1.\", \"1.\", \"1.\", \"2.\", \"2.\", \"2.\", \"2.\", \"2.\", \"2.\", \"2.\", \"2.\", \"2.\", \"2.\", \"2.\", \"2.\", \"2.\", \"2.\", \"2.\", \"2.\", \"2.\", \"2.\", \"2.\", \"2.\", \"2.\", \"2.\", \"2.\", \"2.\", \"2.\", \"2.\", \"2.\", \"2.\", \"2.\", \"2.\", \"2.\", \"2.\", \"2.\", \"2.\", \"2.\", \"2.\", \"2.\", \"2.\", \"2.\", \"3.\", \"3.\", \"3.\", \"3.\", \"3.\", \"3.\", \"3.\", \"3.\", \"3.\", \"3.\", \"3.\", \"3.\", \"3.\", \"3.\", \"3.\", \"3.\", \"3.\", \"3.\", \"3.\", \"3.\", \"3.\", \"3.\", \"3.\", \"3.\", \"3.\", \"3.\", \"3.\", \"3.\", \"3.\", \"3.\", \"3.\", \"3.\", \"3.\", \"3.\", \"3.\", \"3.\", \"3.\", \"3.\", \"3.\", \"3.\", \"3.\", \"3.\", \"3.\", \"3.\", \"3.\", \"3.\", \"3.\", \"3.\", \"3.\", \"3.\", \"3.\", \"3.\", \"3.\", \"3.\", \"3.\", \"3.\", \"3.\", \"3.\", \"3.\", \"3.\", \"3.\", \"3.\", \"3.\", \"3.\", \"3.\", \"3.\", \"3.\", \"3.\", \"3.\", \"3.\", \"3.\", \"3.\", \"3.\", \"3.\", \"3.\", \"3.\", \"3.\", \"3.\"], [\"Tot Cases/1M pop\", \"Tot Cases/1M pop\", \"Tot Cases/1M pop\", \"Tot Cases/1M pop\", \"Tot Cases/1M pop\", \"Tot Cases/1M pop\", \"Tot Cases/1M pop\", \"Tot Cases/1M pop\", \"Tot Cases/1M pop\", \"Tot Cases/1M pop\", \"Tot Cases/1M pop\", \"Tot Cases/1M pop\", \"Tot Cases/1M pop\", \"Deaths/1M pop\", \"Deaths/1M pop\", \"Deaths/1M pop\", \"Deaths/1M pop\", \"Deaths/1M pop\", \"Deaths/1M pop\", \"Deaths/1M pop\", \"Deaths/1M pop\", \"Deaths/1M pop\", \"Deaths/1M pop\", \"Deaths/1M pop\", \"Deaths/1M pop\", \"Deaths/1M pop\", \"Tests/1M pop\", \"Tests/1M pop\", \"Tests/1M pop\", \"Tests/1M pop\", \"Tests/1M pop\", \"Tests/1M pop\", \"Tests/1M pop\", \"Tests/1M pop\", \"Tests/1M pop\", \"Tests/1M pop\", \"Tests/1M pop\", \"Tests/1M pop\", \"Tests/1M pop\", \"Recovered/1M pop\", \"Recovered/1M pop\", \"Recovered/1M pop\", \"Recovered/1M pop\", \"Recovered/1M pop\", \"Recovered/1M pop\", \"Recovered/1M pop\", \"Recovered/1M pop\", \"Recovered/1M pop\", \"Recovered/1M pop\", \"Recovered/1M pop\", \"Recovered/1M pop\", \"Recovered/1M pop\", \"Recovered/1M cases\", \"Recovered/1M cases\", \"Recovered/1M cases\", \"Recovered/1M cases\", \"Recovered/1M cases\", \"Recovered/1M cases\", \"Recovered/1M cases\", \"Recovered/1M cases\", \"Recovered/1M cases\", \"Recovered/1M cases\", \"Recovered/1M cases\", \"Recovered/1M cases\", \"Recovered/1M cases\", \"Deaths/1M cases\", \"Deaths/1M cases\", \"Deaths/1M cases\", \"Deaths/1M cases\", \"Deaths/1M cases\", \"Deaths/1M cases\", \"Deaths/1M cases\", \"Deaths/1M cases\", \"Deaths/1M cases\", \"Deaths/1M cases\", \"Deaths/1M cases\", \"Deaths/1M cases\", \"Deaths/1M cases\", \"Confirmed/1M tests\", \"Confirmed/1M tests\", \"Confirmed/1M tests\", \"Confirmed/1M tests\", \"Confirmed/1M tests\", \"Confirmed/1M tests\", \"Confirmed/1M tests\", \"Confirmed/1M tests\", \"Confirmed/1M tests\", \"Confirmed/1M tests\", \"Confirmed/1M tests\", \"Confirmed/1M tests\", \"Confirmed/1M tests\", \"GDP\", \"GDP\", \"GDP\", \"GDP\", \"GDP\", \"GDP\", \"GDP\", \"GDP\", \"GDP\", \"GDP\", \"GDP\", \"GDP\", \"GDP\", \"Family\", \"Family\", \"Family\", \"Family\", \"Family\", \"Family\", \"Family\", \"Family\", \"Family\", \"Family\", \"Family\", \"Family\", \"Family\", \"Life expectancy\", \"Life expectancy\", \"Life expectancy\", \"Life expectancy\", \"Life expectancy\", \"Life expectancy\", \"Life expectancy\", \"Life expectancy\", \"Life expectancy\", \"Life expectancy\", \"Life expectancy\", \"Life expectancy\", \"Life expectancy\", \"Freedom\", \"Freedom\", \"Freedom\", \"Freedom\", \"Freedom\", \"Freedom\", \"Freedom\", \"Freedom\", \"Freedom\", \"Freedom\", \"Freedom\", \"Freedom\", \"Freedom\", \"Generosity\", \"Generosity\", \"Generosity\", \"Generosity\", \"Generosity\", \"Generosity\", \"Generosity\", \"Generosity\", \"Generosity\", \"Generosity\", \"Generosity\", \"Generosity\", \"Generosity\", \"Trust\", \"Trust\", \"Trust\", \"Trust\", \"Trust\", \"Trust\", \"Trust\", \"Trust\", \"Trust\", \"Trust\", \"Trust\", \"Trust\", \"Trust\"]], \"y\": [[\"1.\", \"1.\", \"1.\", \"1.\", \"2.\", \"2.\", \"2.\", \"3.\", \"3.\", \"3.\", \"3.\", \"3.\", \"3.\", \"1.\", \"1.\", \"1.\", \"1.\", \"2.\", \"2.\", \"2.\", \"3.\", \"3.\", \"3.\", \"3.\", \"3.\", \"3.\", \"1.\", \"1.\", \"1.\", \"1.\", \"2.\", \"2.\", \"2.\", \"3.\", \"3.\", \"3.\", \"3.\", \"3.\", \"3.\", \"1.\", \"1.\", \"1.\", \"1.\", \"2.\", \"2.\", \"2.\", \"3.\", \"3.\", \"3.\", \"3.\", \"3.\", \"3.\", \"1.\", \"1.\", \"1.\", \"1.\", \"2.\", \"2.\", \"2.\", \"3.\", \"3.\", \"3.\", \"3.\", \"3.\", \"3.\", \"1.\", \"1.\", \"1.\", \"1.\", \"2.\", \"2.\", \"2.\", \"3.\", \"3.\", \"3.\", \"3.\", \"3.\", \"3.\", \"1.\", \"1.\", \"1.\", \"1.\", \"2.\", \"2.\", \"2.\", \"3.\", \"3.\", \"3.\", \"3.\", \"3.\", \"3.\", \"1.\", \"1.\", \"1.\", \"1.\", \"2.\", \"2.\", \"2.\", \"3.\", \"3.\", \"3.\", \"3.\", \"3.\", \"3.\", \"1.\", \"1.\", \"1.\", \"1.\", \"2.\", \"2.\", \"2.\", \"3.\", \"3.\", \"3.\", \"3.\", \"3.\", \"3.\", \"1.\", \"1.\", \"1.\", \"1.\", \"2.\", \"2.\", \"2.\", \"3.\", \"3.\", \"3.\", \"3.\", \"3.\", \"3.\", \"1.\", \"1.\", \"1.\", \"1.\", \"2.\", \"2.\", \"2.\", \"3.\", \"3.\", \"3.\", \"3.\", \"3.\", \"3.\", \"1.\", \"1.\", \"1.\", \"1.\", \"2.\", \"2.\", \"2.\", \"3.\", \"3.\", \"3.\", \"3.\", \"3.\", \"3.\", \"1.\", \"1.\", \"1.\", \"1.\", \"2.\", \"2.\", \"2.\", \"3.\", \"3.\", \"3.\", \"3.\", \"3.\", \"3.\"], [\"Tot Cases/1M pop\", \"Deaths/1M pop\", \"Tests/1M pop\", \"Recovered/1M pop\", \"Recovered/1M cases\", \"Deaths/1M cases\", \"Confirmed/1M tests\", \"GDP\", \"Family\", \"Life expectancy\", \"Freedom\", \"Generosity\", \"Trust\", \"Tot Cases/1M pop\", \"Deaths/1M pop\", \"Tests/1M pop\", \"Recovered/1M pop\", \"Recovered/1M cases\", \"Deaths/1M cases\", \"Confirmed/1M tests\", \"GDP\", \"Family\", \"Life expectancy\", \"Freedom\", \"Generosity\", \"Trust\", \"Tot Cases/1M pop\", \"Deaths/1M pop\", \"Tests/1M pop\", \"Recovered/1M pop\", \"Recovered/1M cases\", \"Deaths/1M cases\", \"Confirmed/1M tests\", \"GDP\", \"Family\", \"Life expectancy\", \"Freedom\", \"Generosity\", \"Trust\", \"Tot Cases/1M pop\", \"Deaths/1M pop\", \"Tests/1M pop\", \"Recovered/1M pop\", \"Recovered/1M cases\", \"Deaths/1M cases\", \"Confirmed/1M tests\", \"GDP\", \"Family\", \"Life expectancy\", \"Freedom\", \"Generosity\", \"Trust\", \"Tot Cases/1M pop\", \"Deaths/1M pop\", \"Tests/1M pop\", \"Recovered/1M pop\", \"Recovered/1M cases\", \"Deaths/1M cases\", \"Confirmed/1M tests\", \"GDP\", \"Family\", \"Life expectancy\", \"Freedom\", \"Generosity\", \"Trust\", \"Tot Cases/1M pop\", \"Deaths/1M pop\", \"Tests/1M pop\", \"Recovered/1M pop\", \"Recovered/1M cases\", \"Deaths/1M cases\", \"Confirmed/1M tests\", \"GDP\", \"Family\", \"Life expectancy\", \"Freedom\", \"Generosity\", \"Trust\", \"Tot Cases/1M pop\", \"Deaths/1M pop\", \"Tests/1M pop\", \"Recovered/1M pop\", \"Recovered/1M cases\", \"Deaths/1M cases\", \"Confirmed/1M tests\", \"GDP\", \"Family\", \"Life expectancy\", \"Freedom\", \"Generosity\", \"Trust\", \"Tot Cases/1M pop\", \"Deaths/1M pop\", \"Tests/1M pop\", \"Recovered/1M pop\", \"Recovered/1M cases\", \"Deaths/1M cases\", \"Confirmed/1M tests\", \"GDP\", \"Family\", \"Life expectancy\", \"Freedom\", \"Generosity\", \"Trust\", \"Tot Cases/1M pop\", \"Deaths/1M pop\", \"Tests/1M pop\", \"Recovered/1M pop\", \"Recovered/1M cases\", \"Deaths/1M cases\", \"Confirmed/1M tests\", \"GDP\", \"Family\", \"Life expectancy\", \"Freedom\", \"Generosity\", \"Trust\", \"Tot Cases/1M pop\", \"Deaths/1M pop\", \"Tests/1M pop\", \"Recovered/1M pop\", \"Recovered/1M cases\", \"Deaths/1M cases\", \"Confirmed/1M tests\", \"GDP\", \"Family\", \"Life expectancy\", \"Freedom\", \"Generosity\", \"Trust\", \"Tot Cases/1M pop\", \"Deaths/1M pop\", \"Tests/1M pop\", \"Recovered/1M pop\", \"Recovered/1M cases\", \"Deaths/1M cases\", \"Confirmed/1M tests\", \"GDP\", \"Family\", \"Life expectancy\", \"Freedom\", \"Generosity\", \"Trust\", \"Tot Cases/1M pop\", \"Deaths/1M pop\", \"Tests/1M pop\", \"Recovered/1M pop\", \"Recovered/1M cases\", \"Deaths/1M cases\", \"Confirmed/1M tests\", \"GDP\", \"Family\", \"Life expectancy\", \"Freedom\", \"Generosity\", \"Trust\", \"Tot Cases/1M pop\", \"Deaths/1M pop\", \"Tests/1M pop\", \"Recovered/1M pop\", \"Recovered/1M cases\", \"Deaths/1M cases\", \"Confirmed/1M tests\", \"GDP\", \"Family\", \"Life expectancy\", \"Freedom\", \"Generosity\", \"Trust\"]]}],\n",
       "                        {\"font\": {\"size\": 14}, \"height\": 885, \"template\": {\"data\": {\"bar\": [{\"error_x\": {\"color\": \"#2a3f5f\"}, \"error_y\": {\"color\": \"#2a3f5f\"}, \"marker\": {\"line\": {\"color\": \"#E5ECF6\", \"width\": 0.5}}, \"type\": \"bar\"}], \"barpolar\": [{\"marker\": {\"line\": {\"color\": \"#E5ECF6\", \"width\": 0.5}}, \"type\": \"barpolar\"}], \"carpet\": [{\"aaxis\": {\"endlinecolor\": \"#2a3f5f\", \"gridcolor\": \"white\", \"linecolor\": \"white\", \"minorgridcolor\": \"white\", \"startlinecolor\": \"#2a3f5f\"}, \"baxis\": {\"endlinecolor\": \"#2a3f5f\", \"gridcolor\": \"white\", \"linecolor\": \"white\", \"minorgridcolor\": \"white\", \"startlinecolor\": \"#2a3f5f\"}, \"type\": \"carpet\"}], \"choropleth\": [{\"colorbar\": {\"outlinewidth\": 0, \"ticks\": \"\"}, \"type\": \"choropleth\"}], \"contour\": [{\"colorbar\": {\"outlinewidth\": 0, \"ticks\": \"\"}, \"colorscale\": [[0.0, \"#0d0887\"], [0.1111111111111111, \"#46039f\"], [0.2222222222222222, \"#7201a8\"], [0.3333333333333333, \"#9c179e\"], [0.4444444444444444, \"#bd3786\"], [0.5555555555555556, \"#d8576b\"], [0.6666666666666666, \"#ed7953\"], [0.7777777777777778, \"#fb9f3a\"], [0.8888888888888888, \"#fdca26\"], [1.0, \"#f0f921\"]], \"type\": \"contour\"}], \"contourcarpet\": [{\"colorbar\": {\"outlinewidth\": 0, \"ticks\": \"\"}, \"type\": \"contourcarpet\"}], \"heatmap\": [{\"colorbar\": {\"outlinewidth\": 0, \"ticks\": \"\"}, \"colorscale\": [[0.0, \"#0d0887\"], [0.1111111111111111, \"#46039f\"], [0.2222222222222222, \"#7201a8\"], [0.3333333333333333, \"#9c179e\"], [0.4444444444444444, \"#bd3786\"], [0.5555555555555556, \"#d8576b\"], [0.6666666666666666, \"#ed7953\"], [0.7777777777777778, \"#fb9f3a\"], [0.8888888888888888, \"#fdca26\"], [1.0, \"#f0f921\"]], \"type\": \"heatmap\"}], \"heatmapgl\": [{\"colorbar\": {\"outlinewidth\": 0, \"ticks\": \"\"}, \"colorscale\": [[0.0, \"#0d0887\"], [0.1111111111111111, \"#46039f\"], [0.2222222222222222, \"#7201a8\"], [0.3333333333333333, \"#9c179e\"], [0.4444444444444444, \"#bd3786\"], [0.5555555555555556, \"#d8576b\"], [0.6666666666666666, \"#ed7953\"], [0.7777777777777778, \"#fb9f3a\"], [0.8888888888888888, \"#fdca26\"], [1.0, \"#f0f921\"]], \"type\": \"heatmapgl\"}], \"histogram\": [{\"marker\": {\"colorbar\": {\"outlinewidth\": 0, \"ticks\": \"\"}}, \"type\": \"histogram\"}], \"histogram2d\": [{\"colorbar\": {\"outlinewidth\": 0, \"ticks\": \"\"}, \"colorscale\": [[0.0, \"#0d0887\"], [0.1111111111111111, \"#46039f\"], [0.2222222222222222, \"#7201a8\"], [0.3333333333333333, \"#9c179e\"], [0.4444444444444444, \"#bd3786\"], [0.5555555555555556, \"#d8576b\"], [0.6666666666666666, \"#ed7953\"], [0.7777777777777778, \"#fb9f3a\"], [0.8888888888888888, \"#fdca26\"], [1.0, \"#f0f921\"]], \"type\": \"histogram2d\"}], \"histogram2dcontour\": [{\"colorbar\": {\"outlinewidth\": 0, \"ticks\": \"\"}, \"colorscale\": [[0.0, \"#0d0887\"], [0.1111111111111111, \"#46039f\"], [0.2222222222222222, \"#7201a8\"], [0.3333333333333333, \"#9c179e\"], [0.4444444444444444, \"#bd3786\"], [0.5555555555555556, \"#d8576b\"], [0.6666666666666666, \"#ed7953\"], [0.7777777777777778, \"#fb9f3a\"], [0.8888888888888888, \"#fdca26\"], [1.0, \"#f0f921\"]], \"type\": \"histogram2dcontour\"}], \"mesh3d\": [{\"colorbar\": {\"outlinewidth\": 0, \"ticks\": \"\"}, \"type\": \"mesh3d\"}], \"parcoords\": [{\"line\": {\"colorbar\": {\"outlinewidth\": 0, \"ticks\": \"\"}}, \"type\": \"parcoords\"}], \"pie\": [{\"automargin\": true, \"type\": \"pie\"}], \"scatter\": [{\"marker\": {\"colorbar\": {\"outlinewidth\": 0, \"ticks\": \"\"}}, \"type\": \"scatter\"}], \"scatter3d\": [{\"line\": {\"colorbar\": {\"outlinewidth\": 0, \"ticks\": \"\"}}, \"marker\": {\"colorbar\": {\"outlinewidth\": 0, \"ticks\": \"\"}}, \"type\": \"scatter3d\"}], \"scattercarpet\": [{\"marker\": {\"colorbar\": {\"outlinewidth\": 0, \"ticks\": \"\"}}, \"type\": \"scattercarpet\"}], \"scattergeo\": [{\"marker\": {\"colorbar\": {\"outlinewidth\": 0, \"ticks\": \"\"}}, \"type\": \"scattergeo\"}], \"scattergl\": [{\"marker\": {\"colorbar\": {\"outlinewidth\": 0, \"ticks\": \"\"}}, \"type\": \"scattergl\"}], \"scattermapbox\": [{\"marker\": {\"colorbar\": {\"outlinewidth\": 0, \"ticks\": \"\"}}, \"type\": \"scattermapbox\"}], \"scatterpolar\": [{\"marker\": {\"colorbar\": {\"outlinewidth\": 0, \"ticks\": \"\"}}, \"type\": \"scatterpolar\"}], \"scatterpolargl\": [{\"marker\": {\"colorbar\": {\"outlinewidth\": 0, \"ticks\": \"\"}}, \"type\": \"scatterpolargl\"}], \"scatterternary\": [{\"marker\": {\"colorbar\": {\"outlinewidth\": 0, \"ticks\": \"\"}}, \"type\": \"scatterternary\"}], \"surface\": [{\"colorbar\": {\"outlinewidth\": 0, \"ticks\": \"\"}, \"colorscale\": [[0.0, \"#0d0887\"], [0.1111111111111111, \"#46039f\"], [0.2222222222222222, \"#7201a8\"], [0.3333333333333333, \"#9c179e\"], [0.4444444444444444, \"#bd3786\"], [0.5555555555555556, \"#d8576b\"], [0.6666666666666666, \"#ed7953\"], [0.7777777777777778, \"#fb9f3a\"], [0.8888888888888888, \"#fdca26\"], [1.0, \"#f0f921\"]], \"type\": \"surface\"}], \"table\": [{\"cells\": {\"fill\": {\"color\": \"#EBF0F8\"}, \"line\": {\"color\": \"white\"}}, \"header\": {\"fill\": {\"color\": \"#C8D4E3\"}, \"line\": {\"color\": \"white\"}}, \"type\": \"table\"}]}, \"layout\": {\"annotationdefaults\": {\"arrowcolor\": \"#2a3f5f\", \"arrowhead\": 0, \"arrowwidth\": 1}, \"coloraxis\": {\"colorbar\": {\"outlinewidth\": 0, \"ticks\": \"\"}}, \"colorscale\": {\"diverging\": [[0, \"#8e0152\"], [0.1, \"#c51b7d\"], [0.2, \"#de77ae\"], [0.3, \"#f1b6da\"], [0.4, \"#fde0ef\"], [0.5, \"#f7f7f7\"], [0.6, \"#e6f5d0\"], [0.7, \"#b8e186\"], [0.8, \"#7fbc41\"], [0.9, \"#4d9221\"], [1, \"#276419\"]], \"sequential\": [[0.0, \"#0d0887\"], [0.1111111111111111, \"#46039f\"], [0.2222222222222222, \"#7201a8\"], [0.3333333333333333, \"#9c179e\"], [0.4444444444444444, \"#bd3786\"], [0.5555555555555556, \"#d8576b\"], [0.6666666666666666, \"#ed7953\"], [0.7777777777777778, \"#fb9f3a\"], [0.8888888888888888, \"#fdca26\"], [1.0, \"#f0f921\"]], \"sequentialminus\": [[0.0, \"#0d0887\"], [0.1111111111111111, \"#46039f\"], [0.2222222222222222, \"#7201a8\"], [0.3333333333333333, \"#9c179e\"], [0.4444444444444444, \"#bd3786\"], [0.5555555555555556, \"#d8576b\"], [0.6666666666666666, \"#ed7953\"], [0.7777777777777778, \"#fb9f3a\"], [0.8888888888888888, \"#fdca26\"], [1.0, \"#f0f921\"]]}, \"colorway\": [\"#636efa\", \"#EF553B\", \"#00cc96\", \"#ab63fa\", \"#FFA15A\", \"#19d3f3\", \"#FF6692\", \"#B6E880\", \"#FF97FF\", \"#FECB52\"], \"font\": {\"color\": \"#2a3f5f\"}, \"geo\": {\"bgcolor\": \"white\", \"lakecolor\": \"white\", \"landcolor\": \"#E5ECF6\", \"showlakes\": true, \"showland\": true, \"subunitcolor\": \"white\"}, \"hoverlabel\": {\"align\": \"left\"}, \"hovermode\": \"closest\", \"mapbox\": {\"style\": \"light\"}, \"paper_bgcolor\": \"white\", \"plot_bgcolor\": \"#E5ECF6\", \"polar\": {\"angularaxis\": {\"gridcolor\": \"white\", \"linecolor\": \"white\", \"ticks\": \"\"}, \"bgcolor\": \"#E5ECF6\", \"radialaxis\": {\"gridcolor\": \"white\", \"linecolor\": \"white\", \"ticks\": \"\"}}, \"scene\": {\"xaxis\": {\"backgroundcolor\": \"#E5ECF6\", \"gridcolor\": \"white\", \"gridwidth\": 2, \"linecolor\": \"white\", \"showbackground\": true, \"ticks\": \"\", \"zerolinecolor\": \"white\"}, \"yaxis\": {\"backgroundcolor\": \"#E5ECF6\", \"gridcolor\": \"white\", \"gridwidth\": 2, \"linecolor\": \"white\", \"showbackground\": true, \"ticks\": \"\", \"zerolinecolor\": \"white\"}, \"zaxis\": {\"backgroundcolor\": \"#E5ECF6\", \"gridcolor\": \"white\", \"gridwidth\": 2, \"linecolor\": \"white\", \"showbackground\": true, \"ticks\": \"\", \"zerolinecolor\": \"white\"}}, \"shapedefaults\": {\"line\": {\"color\": \"#2a3f5f\"}}, \"ternary\": {\"aaxis\": {\"gridcolor\": \"white\", \"linecolor\": \"white\", \"ticks\": \"\"}, \"baxis\": {\"gridcolor\": \"white\", \"linecolor\": \"white\", \"ticks\": \"\"}, \"bgcolor\": \"#E5ECF6\", \"caxis\": {\"gridcolor\": \"white\", \"linecolor\": \"white\", \"ticks\": \"\"}}, \"title\": {\"x\": 0.05}, \"xaxis\": {\"automargin\": true, \"gridcolor\": \"white\", \"linecolor\": \"white\", \"ticks\": \"\", \"title\": {\"standoff\": 15}, \"zerolinecolor\": \"white\", \"zerolinewidth\": 2}, \"yaxis\": {\"automargin\": true, \"gridcolor\": \"white\", \"linecolor\": \"white\", \"ticks\": \"\", \"title\": {\"standoff\": 15}, \"zerolinecolor\": \"white\", \"zerolinewidth\": 2}}}, \"title\": {\"text\": \"Africa: 36 countries\"}, \"width\": 885, \"xaxis\": {\"range\": [-0.5, 12.5], \"showgrid\": true, \"ticklen\": 0, \"ticks\": \"outside\", \"tickson\": \"boundaries\"}, \"yaxis\": {\"range\": [-0.5, 12.5], \"showgrid\": true, \"ticklen\": 0, \"ticks\": \"outside\", \"tickson\": \"boundaries\"}},\n",
       "                        {\"responsive\": true}\n",
       "                    ).then(function(){\n",
       "                            \n",
       "var gd = document.getElementById('301a2f3c-ddad-4d91-88f7-5b204771926a');\n",
       "var x = new MutationObserver(function (mutations, observer) {{\n",
       "        var display = window.getComputedStyle(gd).display;\n",
       "        if (!display || display === 'none') {{\n",
       "            console.log([gd, 'removed!']);\n",
       "            Plotly.purge(gd);\n",
       "            observer.disconnect();\n",
       "        }}\n",
       "}});\n",
       "\n",
       "// Listen for the removal of the full notebook cells\n",
       "var notebookContainer = gd.closest('#notebook-container');\n",
       "if (notebookContainer) {{\n",
       "    x.observe(notebookContainer, {childList: true});\n",
       "}}\n",
       "\n",
       "// Listen for the clearing of the current output cell\n",
       "var outputEl = gd.closest('.output');\n",
       "if (outputEl) {{\n",
       "    x.observe(outputEl, {childList: true});\n",
       "}}\n",
       "\n",
       "                        })\n",
       "                };\n",
       "                });\n",
       "            </script>\n",
       "        </div>"
      ]
     },
     "metadata": {},
     "output_type": "display_data"
    },
    {
     "data": {
      "application/vnd.plotly.v1+json": {
       "config": {
        "plotlyServerURL": "https://plot.ly"
       },
       "data": [
        {
         "hoverinfo": "text",
         "hovertext": [
          "",
          "",
          "0.5681238075536466",
          "0.9973956197006008",
          "",
          "",
          "",
          "0.7019311840691972",
          "0.5304948652080991",
          "0.539306126277303",
          "0.5561250077308418",
          "",
          "",
          "",
          "",
          "",
          "",
          "",
          "",
          "",
          "0.4682415911714779",
          "",
          "",
          "",
          "",
          "",
          "0.5681238075536466",
          "",
          "",
          "0.5587600906614205",
          "",
          "",
          "",
          "0.5830475792994821",
          "0.4907026135855689",
          "0.49540705243709654",
          "0.5896811099982657",
          "",
          "",
          "0.9973956197006008",
          "",
          "0.5587600906614205",
          "",
          "",
          "",
          "",
          "0.687438633799987",
          "0.5049741980931118",
          "0.5107867609774377",
          "0.558133135619783",
          "",
          "",
          "",
          "",
          "",
          "",
          "",
          "",
          "",
          "",
          "",
          "",
          "0.47936115501694443",
          "",
          "",
          "",
          "",
          "",
          "",
          "",
          "",
          "0.6912258991385087",
          "",
          "",
          "",
          "",
          "",
          "",
          "",
          "",
          "",
          "",
          "",
          "0.6912258991385087",
          "",
          "",
          "",
          "",
          "",
          "",
          "",
          "0.7019311840691972",
          "0.4682415911714779",
          "0.5830475792994821",
          "0.687438633799987",
          "",
          "",
          "",
          "",
          "0.6543876128493445",
          "0.844730365486913",
          "0.5278288576121387",
          "",
          "",
          "0.5304948652080991",
          "",
          "0.4907026135855689",
          "0.5049741980931118",
          "",
          "",
          "",
          "0.6543876128493445",
          "",
          "0.700868786733568",
          "0.5691489645010496",
          "",
          "",
          "0.539306126277303",
          "",
          "0.49540705243709654",
          "0.5107867609774377",
          "",
          "",
          "",
          "0.844730365486913",
          "0.700868786733568",
          "",
          "0.4581726171654735",
          "",
          "",
          "0.5561250077308418",
          "",
          "0.5896811099982657",
          "0.558133135619783",
          "0.47936115501694443",
          "",
          "",
          "0.5278288576121387",
          "0.5691489645010496",
          "0.4581726171654735",
          "",
          "",
          "0.6503126750822003",
          "",
          "",
          "",
          "",
          "",
          "",
          "",
          "",
          "",
          "",
          "",
          "",
          "0.5060762351360643",
          "",
          "",
          "",
          "",
          "",
          "",
          "",
          "",
          "",
          "",
          "0.6503126750822003",
          "0.5060762351360643",
          ""
         ],
         "marker": {
          "cmid": 0,
          "color": [
           0,
           0,
           0.5681238075536466,
           0.9973956197006008,
           0,
           0,
           0,
           0.7019311840691972,
           0.5304948652080991,
           0.539306126277303,
           0.5561250077308418,
           0,
           0,
           0,
           0,
           0,
           0,
           0,
           0,
           0,
           0.4682415911714779,
           0,
           0,
           0,
           0,
           0,
           0.5681238075536466,
           0,
           0,
           0.5587600906614205,
           0,
           0,
           0,
           0.5830475792994821,
           0.4907026135855689,
           0.49540705243709654,
           0.5896811099982657,
           0,
           0,
           0.9973956197006008,
           0,
           0.5587600906614205,
           0,
           0,
           0,
           0,
           0.687438633799987,
           0.5049741980931118,
           0.5107867609774377,
           0.558133135619783,
           0,
           0,
           0,
           0,
           0,
           0,
           0,
           0,
           0,
           0,
           0,
           0,
           0.47936115501694443,
           0,
           0,
           0,
           0,
           0,
           0,
           0,
           0,
           0.6912258991385087,
           0,
           0,
           0,
           0,
           0,
           0,
           0,
           0,
           0,
           0,
           0,
           0.6912258991385087,
           0,
           0,
           0,
           0,
           0,
           0,
           0,
           0.7019311840691972,
           0.4682415911714779,
           0.5830475792994821,
           0.687438633799987,
           0,
           0,
           0,
           0,
           0.6543876128493445,
           0.844730365486913,
           0.5278288576121387,
           0,
           0,
           0.5304948652080991,
           0,
           0.4907026135855689,
           0.5049741980931118,
           0,
           0,
           0,
           0.6543876128493445,
           0,
           0.700868786733568,
           0.5691489645010496,
           0,
           0,
           0.539306126277303,
           0,
           0.49540705243709654,
           0.5107867609774377,
           0,
           0,
           0,
           0.844730365486913,
           0.700868786733568,
           0,
           0.4581726171654735,
           0,
           0,
           0.5561250077308418,
           0,
           0.5896811099982657,
           0.558133135619783,
           0.47936115501694443,
           0,
           0,
           0.5278288576121387,
           0.5691489645010496,
           0.4581726171654735,
           0,
           0,
           0.6503126750822003,
           0,
           0,
           0,
           0,
           0,
           0,
           0,
           0,
           0,
           0,
           0,
           0,
           0.5060762351360643,
           0,
           0,
           0,
           0,
           0,
           0,
           0,
           0,
           0,
           0,
           0.6503126750822003,
           0.5060762351360643,
           0
          ],
          "colorbar": {
           "title": {
            "text": "Correlation"
           }
          },
          "colorscale": [
           [
            0,
            "rgb(5,48,97)"
           ],
           [
            0.1,
            "rgb(33,102,172)"
           ],
           [
            0.2,
            "rgb(67,147,195)"
           ],
           [
            0.3,
            "rgb(146,197,222)"
           ],
           [
            0.4,
            "rgb(209,229,240)"
           ],
           [
            0.5,
            "rgb(247,247,247)"
           ],
           [
            0.6,
            "rgb(253,219,199)"
           ],
           [
            0.7,
            "rgb(244,165,130)"
           ],
           [
            0.8,
            "rgb(214,96,77)"
           ],
           [
            0.9,
            "rgb(178,24,43)"
           ],
           [
            1,
            "rgb(103,0,31)"
           ]
          ],
          "size": [
           0,
           0,
           26.13369514746774,
           45.880198506227636,
           0,
           0,
           0,
           32.28883446718307,
           24.402763799572558,
           24.80808180875594,
           25.581750355618723,
           0,
           0,
           0,
           0,
           0,
           0,
           0,
           0,
           0,
           21.539113193887985,
           0,
           0,
           0,
           0,
           0,
           26.13369514746774,
           0,
           0,
           25.702964170425343,
           0,
           0,
           0,
           26.820188647776178,
           22.572320224936167,
           22.78872441210644,
           27.125331059920224,
           0,
           0,
           45.880198506227636,
           0,
           25.702964170425343,
           0,
           0,
           0,
           0,
           31.622177154799402,
           23.228813112283145,
           23.496191004962135,
           25.674124238510014,
           0,
           0,
           0,
           0,
           0,
           0,
           0,
           0,
           0,
           0,
           0,
           0,
           22.050613130779443,
           0,
           0,
           0,
           0,
           0,
           0,
           0,
           0,
           31.796391360371402,
           0,
           0,
           0,
           0,
           0,
           0,
           0,
           0,
           0,
           0,
           0,
           31.796391360371402,
           0,
           0,
           0,
           0,
           0,
           0,
           0,
           32.28883446718307,
           21.539113193887985,
           26.820188647776178,
           31.622177154799402,
           0,
           0,
           0,
           0,
           30.101830191069848,
           38.857596812398,
           24.280127450158382,
           0,
           0,
           24.402763799572558,
           0,
           22.572320224936167,
           23.228813112283145,
           0,
           0,
           0,
           30.101830191069848,
           0,
           32.23996418974413,
           26.18085236704828,
           0,
           0,
           24.80808180875594,
           0,
           22.78872441210644,
           23.496191004962135,
           0,
           0,
           0,
           38.857596812398,
           32.23996418974413,
           0,
           21.07594038961178,
           0,
           0,
           25.581750355618723,
           0,
           27.125331059920224,
           25.674124238510014,
           22.050613130779443,
           0,
           0,
           24.280127450158382,
           26.18085236704828,
           21.07594038961178,
           0,
           0,
           29.91438305378121,
           0,
           0,
           0,
           0,
           0,
           0,
           0,
           0,
           0,
           0,
           0,
           0,
           23.279506816258955,
           0,
           0,
           0,
           0,
           0,
           0,
           0,
           0,
           0,
           0,
           29.91438305378121,
           23.279506816258955,
           0
          ]
         },
         "mode": "markers",
         "type": "scatter",
         "x": [
          [
           "1.",
           "1.",
           "1.",
           "1.",
           "1.",
           "1.",
           "1.",
           "1.",
           "1.",
           "1.",
           "1.",
           "1.",
           "1.",
           "1.",
           "1.",
           "1.",
           "1.",
           "1.",
           "1.",
           "1.",
           "1.",
           "1.",
           "1.",
           "1.",
           "1.",
           "1.",
           "1.",
           "1.",
           "1.",
           "1.",
           "1.",
           "1.",
           "1.",
           "1.",
           "1.",
           "1.",
           "1.",
           "1.",
           "1.",
           "1.",
           "1.",
           "1.",
           "1.",
           "1.",
           "1.",
           "1.",
           "1.",
           "1.",
           "1.",
           "1.",
           "1.",
           "1.",
           "2.",
           "2.",
           "2.",
           "2.",
           "2.",
           "2.",
           "2.",
           "2.",
           "2.",
           "2.",
           "2.",
           "2.",
           "2.",
           "2.",
           "2.",
           "2.",
           "2.",
           "2.",
           "2.",
           "2.",
           "2.",
           "2.",
           "2.",
           "2.",
           "2.",
           "2.",
           "2.",
           "2.",
           "2.",
           "2.",
           "2.",
           "2.",
           "2.",
           "2.",
           "2.",
           "2.",
           "2.",
           "2.",
           "2.",
           "3.",
           "3.",
           "3.",
           "3.",
           "3.",
           "3.",
           "3.",
           "3.",
           "3.",
           "3.",
           "3.",
           "3.",
           "3.",
           "3.",
           "3.",
           "3.",
           "3.",
           "3.",
           "3.",
           "3.",
           "3.",
           "3.",
           "3.",
           "3.",
           "3.",
           "3.",
           "3.",
           "3.",
           "3.",
           "3.",
           "3.",
           "3.",
           "3.",
           "3.",
           "3.",
           "3.",
           "3.",
           "3.",
           "3.",
           "3.",
           "3.",
           "3.",
           "3.",
           "3.",
           "3.",
           "3.",
           "3.",
           "3.",
           "3.",
           "3.",
           "3.",
           "3.",
           "3.",
           "3.",
           "3.",
           "3.",
           "3.",
           "3.",
           "3.",
           "3.",
           "3.",
           "3.",
           "3.",
           "3.",
           "3.",
           "3.",
           "3.",
           "3.",
           "3.",
           "3.",
           "3.",
           "3.",
           "3.",
           "3.",
           "3.",
           "3.",
           "3.",
           "3."
          ],
          [
           "Tot Cases/1M pop",
           "Tot Cases/1M pop",
           "Tot Cases/1M pop",
           "Tot Cases/1M pop",
           "Tot Cases/1M pop",
           "Tot Cases/1M pop",
           "Tot Cases/1M pop",
           "Tot Cases/1M pop",
           "Tot Cases/1M pop",
           "Tot Cases/1M pop",
           "Tot Cases/1M pop",
           "Tot Cases/1M pop",
           "Tot Cases/1M pop",
           "Deaths/1M pop",
           "Deaths/1M pop",
           "Deaths/1M pop",
           "Deaths/1M pop",
           "Deaths/1M pop",
           "Deaths/1M pop",
           "Deaths/1M pop",
           "Deaths/1M pop",
           "Deaths/1M pop",
           "Deaths/1M pop",
           "Deaths/1M pop",
           "Deaths/1M pop",
           "Deaths/1M pop",
           "Tests/1M pop",
           "Tests/1M pop",
           "Tests/1M pop",
           "Tests/1M pop",
           "Tests/1M pop",
           "Tests/1M pop",
           "Tests/1M pop",
           "Tests/1M pop",
           "Tests/1M pop",
           "Tests/1M pop",
           "Tests/1M pop",
           "Tests/1M pop",
           "Tests/1M pop",
           "Recovered/1M pop",
           "Recovered/1M pop",
           "Recovered/1M pop",
           "Recovered/1M pop",
           "Recovered/1M pop",
           "Recovered/1M pop",
           "Recovered/1M pop",
           "Recovered/1M pop",
           "Recovered/1M pop",
           "Recovered/1M pop",
           "Recovered/1M pop",
           "Recovered/1M pop",
           "Recovered/1M pop",
           "Recovered/1M cases",
           "Recovered/1M cases",
           "Recovered/1M cases",
           "Recovered/1M cases",
           "Recovered/1M cases",
           "Recovered/1M cases",
           "Recovered/1M cases",
           "Recovered/1M cases",
           "Recovered/1M cases",
           "Recovered/1M cases",
           "Recovered/1M cases",
           "Recovered/1M cases",
           "Recovered/1M cases",
           "Deaths/1M cases",
           "Deaths/1M cases",
           "Deaths/1M cases",
           "Deaths/1M cases",
           "Deaths/1M cases",
           "Deaths/1M cases",
           "Deaths/1M cases",
           "Deaths/1M cases",
           "Deaths/1M cases",
           "Deaths/1M cases",
           "Deaths/1M cases",
           "Deaths/1M cases",
           "Deaths/1M cases",
           "Confirmed/1M tests",
           "Confirmed/1M tests",
           "Confirmed/1M tests",
           "Confirmed/1M tests",
           "Confirmed/1M tests",
           "Confirmed/1M tests",
           "Confirmed/1M tests",
           "Confirmed/1M tests",
           "Confirmed/1M tests",
           "Confirmed/1M tests",
           "Confirmed/1M tests",
           "Confirmed/1M tests",
           "Confirmed/1M tests",
           "GDP",
           "GDP",
           "GDP",
           "GDP",
           "GDP",
           "GDP",
           "GDP",
           "GDP",
           "GDP",
           "GDP",
           "GDP",
           "GDP",
           "GDP",
           "Family",
           "Family",
           "Family",
           "Family",
           "Family",
           "Family",
           "Family",
           "Family",
           "Family",
           "Family",
           "Family",
           "Family",
           "Family",
           "Life expectancy",
           "Life expectancy",
           "Life expectancy",
           "Life expectancy",
           "Life expectancy",
           "Life expectancy",
           "Life expectancy",
           "Life expectancy",
           "Life expectancy",
           "Life expectancy",
           "Life expectancy",
           "Life expectancy",
           "Life expectancy",
           "Freedom",
           "Freedom",
           "Freedom",
           "Freedom",
           "Freedom",
           "Freedom",
           "Freedom",
           "Freedom",
           "Freedom",
           "Freedom",
           "Freedom",
           "Freedom",
           "Freedom",
           "Generosity",
           "Generosity",
           "Generosity",
           "Generosity",
           "Generosity",
           "Generosity",
           "Generosity",
           "Generosity",
           "Generosity",
           "Generosity",
           "Generosity",
           "Generosity",
           "Generosity",
           "Trust",
           "Trust",
           "Trust",
           "Trust",
           "Trust",
           "Trust",
           "Trust",
           "Trust",
           "Trust",
           "Trust",
           "Trust",
           "Trust",
           "Trust"
          ]
         ],
         "y": [
          [
           "1.",
           "1.",
           "1.",
           "1.",
           "2.",
           "2.",
           "2.",
           "3.",
           "3.",
           "3.",
           "3.",
           "3.",
           "3.",
           "1.",
           "1.",
           "1.",
           "1.",
           "2.",
           "2.",
           "2.",
           "3.",
           "3.",
           "3.",
           "3.",
           "3.",
           "3.",
           "1.",
           "1.",
           "1.",
           "1.",
           "2.",
           "2.",
           "2.",
           "3.",
           "3.",
           "3.",
           "3.",
           "3.",
           "3.",
           "1.",
           "1.",
           "1.",
           "1.",
           "2.",
           "2.",
           "2.",
           "3.",
           "3.",
           "3.",
           "3.",
           "3.",
           "3.",
           "1.",
           "1.",
           "1.",
           "1.",
           "2.",
           "2.",
           "2.",
           "3.",
           "3.",
           "3.",
           "3.",
           "3.",
           "3.",
           "1.",
           "1.",
           "1.",
           "1.",
           "2.",
           "2.",
           "2.",
           "3.",
           "3.",
           "3.",
           "3.",
           "3.",
           "3.",
           "1.",
           "1.",
           "1.",
           "1.",
           "2.",
           "2.",
           "2.",
           "3.",
           "3.",
           "3.",
           "3.",
           "3.",
           "3.",
           "1.",
           "1.",
           "1.",
           "1.",
           "2.",
           "2.",
           "2.",
           "3.",
           "3.",
           "3.",
           "3.",
           "3.",
           "3.",
           "1.",
           "1.",
           "1.",
           "1.",
           "2.",
           "2.",
           "2.",
           "3.",
           "3.",
           "3.",
           "3.",
           "3.",
           "3.",
           "1.",
           "1.",
           "1.",
           "1.",
           "2.",
           "2.",
           "2.",
           "3.",
           "3.",
           "3.",
           "3.",
           "3.",
           "3.",
           "1.",
           "1.",
           "1.",
           "1.",
           "2.",
           "2.",
           "2.",
           "3.",
           "3.",
           "3.",
           "3.",
           "3.",
           "3.",
           "1.",
           "1.",
           "1.",
           "1.",
           "2.",
           "2.",
           "2.",
           "3.",
           "3.",
           "3.",
           "3.",
           "3.",
           "3.",
           "1.",
           "1.",
           "1.",
           "1.",
           "2.",
           "2.",
           "2.",
           "3.",
           "3.",
           "3.",
           "3.",
           "3.",
           "3."
          ],
          [
           "Tot Cases/1M pop",
           "Deaths/1M pop",
           "Tests/1M pop",
           "Recovered/1M pop",
           "Recovered/1M cases",
           "Deaths/1M cases",
           "Confirmed/1M tests",
           "GDP",
           "Family",
           "Life expectancy",
           "Freedom",
           "Generosity",
           "Trust",
           "Tot Cases/1M pop",
           "Deaths/1M pop",
           "Tests/1M pop",
           "Recovered/1M pop",
           "Recovered/1M cases",
           "Deaths/1M cases",
           "Confirmed/1M tests",
           "GDP",
           "Family",
           "Life expectancy",
           "Freedom",
           "Generosity",
           "Trust",
           "Tot Cases/1M pop",
           "Deaths/1M pop",
           "Tests/1M pop",
           "Recovered/1M pop",
           "Recovered/1M cases",
           "Deaths/1M cases",
           "Confirmed/1M tests",
           "GDP",
           "Family",
           "Life expectancy",
           "Freedom",
           "Generosity",
           "Trust",
           "Tot Cases/1M pop",
           "Deaths/1M pop",
           "Tests/1M pop",
           "Recovered/1M pop",
           "Recovered/1M cases",
           "Deaths/1M cases",
           "Confirmed/1M tests",
           "GDP",
           "Family",
           "Life expectancy",
           "Freedom",
           "Generosity",
           "Trust",
           "Tot Cases/1M pop",
           "Deaths/1M pop",
           "Tests/1M pop",
           "Recovered/1M pop",
           "Recovered/1M cases",
           "Deaths/1M cases",
           "Confirmed/1M tests",
           "GDP",
           "Family",
           "Life expectancy",
           "Freedom",
           "Generosity",
           "Trust",
           "Tot Cases/1M pop",
           "Deaths/1M pop",
           "Tests/1M pop",
           "Recovered/1M pop",
           "Recovered/1M cases",
           "Deaths/1M cases",
           "Confirmed/1M tests",
           "GDP",
           "Family",
           "Life expectancy",
           "Freedom",
           "Generosity",
           "Trust",
           "Tot Cases/1M pop",
           "Deaths/1M pop",
           "Tests/1M pop",
           "Recovered/1M pop",
           "Recovered/1M cases",
           "Deaths/1M cases",
           "Confirmed/1M tests",
           "GDP",
           "Family",
           "Life expectancy",
           "Freedom",
           "Generosity",
           "Trust",
           "Tot Cases/1M pop",
           "Deaths/1M pop",
           "Tests/1M pop",
           "Recovered/1M pop",
           "Recovered/1M cases",
           "Deaths/1M cases",
           "Confirmed/1M tests",
           "GDP",
           "Family",
           "Life expectancy",
           "Freedom",
           "Generosity",
           "Trust",
           "Tot Cases/1M pop",
           "Deaths/1M pop",
           "Tests/1M pop",
           "Recovered/1M pop",
           "Recovered/1M cases",
           "Deaths/1M cases",
           "Confirmed/1M tests",
           "GDP",
           "Family",
           "Life expectancy",
           "Freedom",
           "Generosity",
           "Trust",
           "Tot Cases/1M pop",
           "Deaths/1M pop",
           "Tests/1M pop",
           "Recovered/1M pop",
           "Recovered/1M cases",
           "Deaths/1M cases",
           "Confirmed/1M tests",
           "GDP",
           "Family",
           "Life expectancy",
           "Freedom",
           "Generosity",
           "Trust",
           "Tot Cases/1M pop",
           "Deaths/1M pop",
           "Tests/1M pop",
           "Recovered/1M pop",
           "Recovered/1M cases",
           "Deaths/1M cases",
           "Confirmed/1M tests",
           "GDP",
           "Family",
           "Life expectancy",
           "Freedom",
           "Generosity",
           "Trust",
           "Tot Cases/1M pop",
           "Deaths/1M pop",
           "Tests/1M pop",
           "Recovered/1M pop",
           "Recovered/1M cases",
           "Deaths/1M cases",
           "Confirmed/1M tests",
           "GDP",
           "Family",
           "Life expectancy",
           "Freedom",
           "Generosity",
           "Trust",
           "Tot Cases/1M pop",
           "Deaths/1M pop",
           "Tests/1M pop",
           "Recovered/1M pop",
           "Recovered/1M cases",
           "Deaths/1M cases",
           "Confirmed/1M tests",
           "GDP",
           "Family",
           "Life expectancy",
           "Freedom",
           "Generosity",
           "Trust"
          ]
         ]
        }
       ],
       "layout": {
        "font": {
         "size": 14
        },
        "height": 885,
        "template": {
         "data": {
          "bar": [
           {
            "error_x": {
             "color": "#2a3f5f"
            },
            "error_y": {
             "color": "#2a3f5f"
            },
            "marker": {
             "line": {
              "color": "#E5ECF6",
              "width": 0.5
             }
            },
            "type": "bar"
           }
          ],
          "barpolar": [
           {
            "marker": {
             "line": {
              "color": "#E5ECF6",
              "width": 0.5
             }
            },
            "type": "barpolar"
           }
          ],
          "carpet": [
           {
            "aaxis": {
             "endlinecolor": "#2a3f5f",
             "gridcolor": "white",
             "linecolor": "white",
             "minorgridcolor": "white",
             "startlinecolor": "#2a3f5f"
            },
            "baxis": {
             "endlinecolor": "#2a3f5f",
             "gridcolor": "white",
             "linecolor": "white",
             "minorgridcolor": "white",
             "startlinecolor": "#2a3f5f"
            },
            "type": "carpet"
           }
          ],
          "choropleth": [
           {
            "colorbar": {
             "outlinewidth": 0,
             "ticks": ""
            },
            "type": "choropleth"
           }
          ],
          "contour": [
           {
            "colorbar": {
             "outlinewidth": 0,
             "ticks": ""
            },
            "colorscale": [
             [
              0,
              "#0d0887"
             ],
             [
              0.1111111111111111,
              "#46039f"
             ],
             [
              0.2222222222222222,
              "#7201a8"
             ],
             [
              0.3333333333333333,
              "#9c179e"
             ],
             [
              0.4444444444444444,
              "#bd3786"
             ],
             [
              0.5555555555555556,
              "#d8576b"
             ],
             [
              0.6666666666666666,
              "#ed7953"
             ],
             [
              0.7777777777777778,
              "#fb9f3a"
             ],
             [
              0.8888888888888888,
              "#fdca26"
             ],
             [
              1,
              "#f0f921"
             ]
            ],
            "type": "contour"
           }
          ],
          "contourcarpet": [
           {
            "colorbar": {
             "outlinewidth": 0,
             "ticks": ""
            },
            "type": "contourcarpet"
           }
          ],
          "heatmap": [
           {
            "colorbar": {
             "outlinewidth": 0,
             "ticks": ""
            },
            "colorscale": [
             [
              0,
              "#0d0887"
             ],
             [
              0.1111111111111111,
              "#46039f"
             ],
             [
              0.2222222222222222,
              "#7201a8"
             ],
             [
              0.3333333333333333,
              "#9c179e"
             ],
             [
              0.4444444444444444,
              "#bd3786"
             ],
             [
              0.5555555555555556,
              "#d8576b"
             ],
             [
              0.6666666666666666,
              "#ed7953"
             ],
             [
              0.7777777777777778,
              "#fb9f3a"
             ],
             [
              0.8888888888888888,
              "#fdca26"
             ],
             [
              1,
              "#f0f921"
             ]
            ],
            "type": "heatmap"
           }
          ],
          "heatmapgl": [
           {
            "colorbar": {
             "outlinewidth": 0,
             "ticks": ""
            },
            "colorscale": [
             [
              0,
              "#0d0887"
             ],
             [
              0.1111111111111111,
              "#46039f"
             ],
             [
              0.2222222222222222,
              "#7201a8"
             ],
             [
              0.3333333333333333,
              "#9c179e"
             ],
             [
              0.4444444444444444,
              "#bd3786"
             ],
             [
              0.5555555555555556,
              "#d8576b"
             ],
             [
              0.6666666666666666,
              "#ed7953"
             ],
             [
              0.7777777777777778,
              "#fb9f3a"
             ],
             [
              0.8888888888888888,
              "#fdca26"
             ],
             [
              1,
              "#f0f921"
             ]
            ],
            "type": "heatmapgl"
           }
          ],
          "histogram": [
           {
            "marker": {
             "colorbar": {
              "outlinewidth": 0,
              "ticks": ""
             }
            },
            "type": "histogram"
           }
          ],
          "histogram2d": [
           {
            "colorbar": {
             "outlinewidth": 0,
             "ticks": ""
            },
            "colorscale": [
             [
              0,
              "#0d0887"
             ],
             [
              0.1111111111111111,
              "#46039f"
             ],
             [
              0.2222222222222222,
              "#7201a8"
             ],
             [
              0.3333333333333333,
              "#9c179e"
             ],
             [
              0.4444444444444444,
              "#bd3786"
             ],
             [
              0.5555555555555556,
              "#d8576b"
             ],
             [
              0.6666666666666666,
              "#ed7953"
             ],
             [
              0.7777777777777778,
              "#fb9f3a"
             ],
             [
              0.8888888888888888,
              "#fdca26"
             ],
             [
              1,
              "#f0f921"
             ]
            ],
            "type": "histogram2d"
           }
          ],
          "histogram2dcontour": [
           {
            "colorbar": {
             "outlinewidth": 0,
             "ticks": ""
            },
            "colorscale": [
             [
              0,
              "#0d0887"
             ],
             [
              0.1111111111111111,
              "#46039f"
             ],
             [
              0.2222222222222222,
              "#7201a8"
             ],
             [
              0.3333333333333333,
              "#9c179e"
             ],
             [
              0.4444444444444444,
              "#bd3786"
             ],
             [
              0.5555555555555556,
              "#d8576b"
             ],
             [
              0.6666666666666666,
              "#ed7953"
             ],
             [
              0.7777777777777778,
              "#fb9f3a"
             ],
             [
              0.8888888888888888,
              "#fdca26"
             ],
             [
              1,
              "#f0f921"
             ]
            ],
            "type": "histogram2dcontour"
           }
          ],
          "mesh3d": [
           {
            "colorbar": {
             "outlinewidth": 0,
             "ticks": ""
            },
            "type": "mesh3d"
           }
          ],
          "parcoords": [
           {
            "line": {
             "colorbar": {
              "outlinewidth": 0,
              "ticks": ""
             }
            },
            "type": "parcoords"
           }
          ],
          "pie": [
           {
            "automargin": true,
            "type": "pie"
           }
          ],
          "scatter": [
           {
            "marker": {
             "colorbar": {
              "outlinewidth": 0,
              "ticks": ""
             }
            },
            "type": "scatter"
           }
          ],
          "scatter3d": [
           {
            "line": {
             "colorbar": {
              "outlinewidth": 0,
              "ticks": ""
             }
            },
            "marker": {
             "colorbar": {
              "outlinewidth": 0,
              "ticks": ""
             }
            },
            "type": "scatter3d"
           }
          ],
          "scattercarpet": [
           {
            "marker": {
             "colorbar": {
              "outlinewidth": 0,
              "ticks": ""
             }
            },
            "type": "scattercarpet"
           }
          ],
          "scattergeo": [
           {
            "marker": {
             "colorbar": {
              "outlinewidth": 0,
              "ticks": ""
             }
            },
            "type": "scattergeo"
           }
          ],
          "scattergl": [
           {
            "marker": {
             "colorbar": {
              "outlinewidth": 0,
              "ticks": ""
             }
            },
            "type": "scattergl"
           }
          ],
          "scattermapbox": [
           {
            "marker": {
             "colorbar": {
              "outlinewidth": 0,
              "ticks": ""
             }
            },
            "type": "scattermapbox"
           }
          ],
          "scatterpolar": [
           {
            "marker": {
             "colorbar": {
              "outlinewidth": 0,
              "ticks": ""
             }
            },
            "type": "scatterpolar"
           }
          ],
          "scatterpolargl": [
           {
            "marker": {
             "colorbar": {
              "outlinewidth": 0,
              "ticks": ""
             }
            },
            "type": "scatterpolargl"
           }
          ],
          "scatterternary": [
           {
            "marker": {
             "colorbar": {
              "outlinewidth": 0,
              "ticks": ""
             }
            },
            "type": "scatterternary"
           }
          ],
          "surface": [
           {
            "colorbar": {
             "outlinewidth": 0,
             "ticks": ""
            },
            "colorscale": [
             [
              0,
              "#0d0887"
             ],
             [
              0.1111111111111111,
              "#46039f"
             ],
             [
              0.2222222222222222,
              "#7201a8"
             ],
             [
              0.3333333333333333,
              "#9c179e"
             ],
             [
              0.4444444444444444,
              "#bd3786"
             ],
             [
              0.5555555555555556,
              "#d8576b"
             ],
             [
              0.6666666666666666,
              "#ed7953"
             ],
             [
              0.7777777777777778,
              "#fb9f3a"
             ],
             [
              0.8888888888888888,
              "#fdca26"
             ],
             [
              1,
              "#f0f921"
             ]
            ],
            "type": "surface"
           }
          ],
          "table": [
           {
            "cells": {
             "fill": {
              "color": "#EBF0F8"
             },
             "line": {
              "color": "white"
             }
            },
            "header": {
             "fill": {
              "color": "#C8D4E3"
             },
             "line": {
              "color": "white"
             }
            },
            "type": "table"
           }
          ]
         },
         "layout": {
          "annotationdefaults": {
           "arrowcolor": "#2a3f5f",
           "arrowhead": 0,
           "arrowwidth": 1
          },
          "coloraxis": {
           "colorbar": {
            "outlinewidth": 0,
            "ticks": ""
           }
          },
          "colorscale": {
           "diverging": [
            [
             0,
             "#8e0152"
            ],
            [
             0.1,
             "#c51b7d"
            ],
            [
             0.2,
             "#de77ae"
            ],
            [
             0.3,
             "#f1b6da"
            ],
            [
             0.4,
             "#fde0ef"
            ],
            [
             0.5,
             "#f7f7f7"
            ],
            [
             0.6,
             "#e6f5d0"
            ],
            [
             0.7,
             "#b8e186"
            ],
            [
             0.8,
             "#7fbc41"
            ],
            [
             0.9,
             "#4d9221"
            ],
            [
             1,
             "#276419"
            ]
           ],
           "sequential": [
            [
             0,
             "#0d0887"
            ],
            [
             0.1111111111111111,
             "#46039f"
            ],
            [
             0.2222222222222222,
             "#7201a8"
            ],
            [
             0.3333333333333333,
             "#9c179e"
            ],
            [
             0.4444444444444444,
             "#bd3786"
            ],
            [
             0.5555555555555556,
             "#d8576b"
            ],
            [
             0.6666666666666666,
             "#ed7953"
            ],
            [
             0.7777777777777778,
             "#fb9f3a"
            ],
            [
             0.8888888888888888,
             "#fdca26"
            ],
            [
             1,
             "#f0f921"
            ]
           ],
           "sequentialminus": [
            [
             0,
             "#0d0887"
            ],
            [
             0.1111111111111111,
             "#46039f"
            ],
            [
             0.2222222222222222,
             "#7201a8"
            ],
            [
             0.3333333333333333,
             "#9c179e"
            ],
            [
             0.4444444444444444,
             "#bd3786"
            ],
            [
             0.5555555555555556,
             "#d8576b"
            ],
            [
             0.6666666666666666,
             "#ed7953"
            ],
            [
             0.7777777777777778,
             "#fb9f3a"
            ],
            [
             0.8888888888888888,
             "#fdca26"
            ],
            [
             1,
             "#f0f921"
            ]
           ]
          },
          "colorway": [
           "#636efa",
           "#EF553B",
           "#00cc96",
           "#ab63fa",
           "#FFA15A",
           "#19d3f3",
           "#FF6692",
           "#B6E880",
           "#FF97FF",
           "#FECB52"
          ],
          "font": {
           "color": "#2a3f5f"
          },
          "geo": {
           "bgcolor": "white",
           "lakecolor": "white",
           "landcolor": "#E5ECF6",
           "showlakes": true,
           "showland": true,
           "subunitcolor": "white"
          },
          "hoverlabel": {
           "align": "left"
          },
          "hovermode": "closest",
          "mapbox": {
           "style": "light"
          },
          "paper_bgcolor": "white",
          "plot_bgcolor": "#E5ECF6",
          "polar": {
           "angularaxis": {
            "gridcolor": "white",
            "linecolor": "white",
            "ticks": ""
           },
           "bgcolor": "#E5ECF6",
           "radialaxis": {
            "gridcolor": "white",
            "linecolor": "white",
            "ticks": ""
           }
          },
          "scene": {
           "xaxis": {
            "backgroundcolor": "#E5ECF6",
            "gridcolor": "white",
            "gridwidth": 2,
            "linecolor": "white",
            "showbackground": true,
            "ticks": "",
            "zerolinecolor": "white"
           },
           "yaxis": {
            "backgroundcolor": "#E5ECF6",
            "gridcolor": "white",
            "gridwidth": 2,
            "linecolor": "white",
            "showbackground": true,
            "ticks": "",
            "zerolinecolor": "white"
           },
           "zaxis": {
            "backgroundcolor": "#E5ECF6",
            "gridcolor": "white",
            "gridwidth": 2,
            "linecolor": "white",
            "showbackground": true,
            "ticks": "",
            "zerolinecolor": "white"
           }
          },
          "shapedefaults": {
           "line": {
            "color": "#2a3f5f"
           }
          },
          "ternary": {
           "aaxis": {
            "gridcolor": "white",
            "linecolor": "white",
            "ticks": ""
           },
           "baxis": {
            "gridcolor": "white",
            "linecolor": "white",
            "ticks": ""
           },
           "bgcolor": "#E5ECF6",
           "caxis": {
            "gridcolor": "white",
            "linecolor": "white",
            "ticks": ""
           }
          },
          "title": {
           "x": 0.05
          },
          "xaxis": {
           "automargin": true,
           "gridcolor": "white",
           "linecolor": "white",
           "ticks": "",
           "title": {
            "standoff": 15
           },
           "zerolinecolor": "white",
           "zerolinewidth": 2
          },
          "yaxis": {
           "automargin": true,
           "gridcolor": "white",
           "linecolor": "white",
           "ticks": "",
           "title": {
            "standoff": 15
           },
           "zerolinecolor": "white",
           "zerolinewidth": 2
          }
         }
        },
        "title": {
         "text": "Eastern Mediterranean: 19 countries"
        },
        "width": 885,
        "xaxis": {
         "range": [
          -0.5,
          12.5
         ],
         "showgrid": true,
         "ticklen": 0,
         "ticks": "outside",
         "tickson": "boundaries"
        },
        "yaxis": {
         "range": [
          -0.5,
          12.5
         ],
         "showgrid": true,
         "ticklen": 0,
         "ticks": "outside",
         "tickson": "boundaries"
        }
       }
      },
      "text/html": [
       "<div>\n",
       "        \n",
       "        \n",
       "            <div id=\"9098ba00-e7ac-4715-b617-cb53bef9b03f\" class=\"plotly-graph-div\" style=\"height:885px; width:885px;\"></div>\n",
       "            <script type=\"text/javascript\">\n",
       "                require([\"plotly\"], function(Plotly) {\n",
       "                    window.PLOTLYENV=window.PLOTLYENV || {};\n",
       "                    \n",
       "                if (document.getElementById(\"9098ba00-e7ac-4715-b617-cb53bef9b03f\")) {\n",
       "                    Plotly.newPlot(\n",
       "                        '9098ba00-e7ac-4715-b617-cb53bef9b03f',\n",
       "                        [{\"hoverinfo\": \"text\", \"hovertext\": [\"\", \"\", \"0.5681238075536466\", \"0.9973956197006008\", \"\", \"\", \"\", \"0.7019311840691972\", \"0.5304948652080991\", \"0.539306126277303\", \"0.5561250077308418\", \"\", \"\", \"\", \"\", \"\", \"\", \"\", \"\", \"\", \"0.4682415911714779\", \"\", \"\", \"\", \"\", \"\", \"0.5681238075536466\", \"\", \"\", \"0.5587600906614205\", \"\", \"\", \"\", \"0.5830475792994821\", \"0.4907026135855689\", \"0.49540705243709654\", \"0.5896811099982657\", \"\", \"\", \"0.9973956197006008\", \"\", \"0.5587600906614205\", \"\", \"\", \"\", \"\", \"0.687438633799987\", \"0.5049741980931118\", \"0.5107867609774377\", \"0.558133135619783\", \"\", \"\", \"\", \"\", \"\", \"\", \"\", \"\", \"\", \"\", \"\", \"\", \"0.47936115501694443\", \"\", \"\", \"\", \"\", \"\", \"\", \"\", \"\", \"0.6912258991385087\", \"\", \"\", \"\", \"\", \"\", \"\", \"\", \"\", \"\", \"\", \"\", \"0.6912258991385087\", \"\", \"\", \"\", \"\", \"\", \"\", \"\", \"0.7019311840691972\", \"0.4682415911714779\", \"0.5830475792994821\", \"0.687438633799987\", \"\", \"\", \"\", \"\", \"0.6543876128493445\", \"0.844730365486913\", \"0.5278288576121387\", \"\", \"\", \"0.5304948652080991\", \"\", \"0.4907026135855689\", \"0.5049741980931118\", \"\", \"\", \"\", \"0.6543876128493445\", \"\", \"0.700868786733568\", \"0.5691489645010496\", \"\", \"\", \"0.539306126277303\", \"\", \"0.49540705243709654\", \"0.5107867609774377\", \"\", \"\", \"\", \"0.844730365486913\", \"0.700868786733568\", \"\", \"0.4581726171654735\", \"\", \"\", \"0.5561250077308418\", \"\", \"0.5896811099982657\", \"0.558133135619783\", \"0.47936115501694443\", \"\", \"\", \"0.5278288576121387\", \"0.5691489645010496\", \"0.4581726171654735\", \"\", \"\", \"0.6503126750822003\", \"\", \"\", \"\", \"\", \"\", \"\", \"\", \"\", \"\", \"\", \"\", \"\", \"0.5060762351360643\", \"\", \"\", \"\", \"\", \"\", \"\", \"\", \"\", \"\", \"\", \"0.6503126750822003\", \"0.5060762351360643\", \"\"], \"marker\": {\"cmid\": 0, \"color\": [0, 0, 0.5681238075536466, 0.9973956197006008, 0, 0, 0, 0.7019311840691972, 0.5304948652080991, 0.539306126277303, 0.5561250077308418, 0, 0, 0, 0, 0, 0, 0, 0, 0, 0.4682415911714779, 0, 0, 0, 0, 0, 0.5681238075536466, 0, 0, 0.5587600906614205, 0, 0, 0, 0.5830475792994821, 0.4907026135855689, 0.49540705243709654, 0.5896811099982657, 0, 0, 0.9973956197006008, 0, 0.5587600906614205, 0, 0, 0, 0, 0.687438633799987, 0.5049741980931118, 0.5107867609774377, 0.558133135619783, 0, 0, 0, 0, 0, 0, 0, 0, 0, 0, 0, 0, 0.47936115501694443, 0, 0, 0, 0, 0, 0, 0, 0, 0.6912258991385087, 0, 0, 0, 0, 0, 0, 0, 0, 0, 0, 0, 0.6912258991385087, 0, 0, 0, 0, 0, 0, 0, 0.7019311840691972, 0.4682415911714779, 0.5830475792994821, 0.687438633799987, 0, 0, 0, 0, 0.6543876128493445, 0.844730365486913, 0.5278288576121387, 0, 0, 0.5304948652080991, 0, 0.4907026135855689, 0.5049741980931118, 0, 0, 0, 0.6543876128493445, 0, 0.700868786733568, 0.5691489645010496, 0, 0, 0.539306126277303, 0, 0.49540705243709654, 0.5107867609774377, 0, 0, 0, 0.844730365486913, 0.700868786733568, 0, 0.4581726171654735, 0, 0, 0.5561250077308418, 0, 0.5896811099982657, 0.558133135619783, 0.47936115501694443, 0, 0, 0.5278288576121387, 0.5691489645010496, 0.4581726171654735, 0, 0, 0.6503126750822003, 0, 0, 0, 0, 0, 0, 0, 0, 0, 0, 0, 0, 0.5060762351360643, 0, 0, 0, 0, 0, 0, 0, 0, 0, 0, 0.6503126750822003, 0.5060762351360643, 0], \"colorbar\": {\"title\": {\"text\": \"Correlation\"}}, \"colorscale\": [[0.0, \"rgb(5,48,97)\"], [0.1, \"rgb(33,102,172)\"], [0.2, \"rgb(67,147,195)\"], [0.3, \"rgb(146,197,222)\"], [0.4, \"rgb(209,229,240)\"], [0.5, \"rgb(247,247,247)\"], [0.6, \"rgb(253,219,199)\"], [0.7, \"rgb(244,165,130)\"], [0.8, \"rgb(214,96,77)\"], [0.9, \"rgb(178,24,43)\"], [1.0, \"rgb(103,0,31)\"]], \"size\": [0, 0, 26.13369514746774, 45.880198506227636, 0, 0, 0, 32.28883446718307, 24.402763799572558, 24.80808180875594, 25.581750355618723, 0, 0, 0, 0, 0, 0, 0, 0, 0, 21.539113193887985, 0, 0, 0, 0, 0, 26.13369514746774, 0, 0, 25.702964170425343, 0, 0, 0, 26.820188647776178, 22.572320224936167, 22.78872441210644, 27.125331059920224, 0, 0, 45.880198506227636, 0, 25.702964170425343, 0, 0, 0, 0, 31.622177154799402, 23.228813112283145, 23.496191004962135, 25.674124238510014, 0, 0, 0, 0, 0, 0, 0, 0, 0, 0, 0, 0, 22.050613130779443, 0, 0, 0, 0, 0, 0, 0, 0, 31.796391360371402, 0, 0, 0, 0, 0, 0, 0, 0, 0, 0, 0, 31.796391360371402, 0, 0, 0, 0, 0, 0, 0, 32.28883446718307, 21.539113193887985, 26.820188647776178, 31.622177154799402, 0, 0, 0, 0, 30.101830191069848, 38.857596812398, 24.280127450158382, 0, 0, 24.402763799572558, 0, 22.572320224936167, 23.228813112283145, 0, 0, 0, 30.101830191069848, 0, 32.23996418974413, 26.18085236704828, 0, 0, 24.80808180875594, 0, 22.78872441210644, 23.496191004962135, 0, 0, 0, 38.857596812398, 32.23996418974413, 0, 21.07594038961178, 0, 0, 25.581750355618723, 0, 27.125331059920224, 25.674124238510014, 22.050613130779443, 0, 0, 24.280127450158382, 26.18085236704828, 21.07594038961178, 0, 0, 29.91438305378121, 0, 0, 0, 0, 0, 0, 0, 0, 0, 0, 0, 0, 23.279506816258955, 0, 0, 0, 0, 0, 0, 0, 0, 0, 0, 29.91438305378121, 23.279506816258955, 0]}, \"mode\": \"markers\", \"type\": \"scatter\", \"x\": [[\"1.\", \"1.\", \"1.\", \"1.\", \"1.\", \"1.\", \"1.\", \"1.\", \"1.\", \"1.\", \"1.\", \"1.\", \"1.\", \"1.\", \"1.\", \"1.\", \"1.\", \"1.\", \"1.\", \"1.\", \"1.\", \"1.\", \"1.\", \"1.\", \"1.\", \"1.\", \"1.\", \"1.\", \"1.\", \"1.\", \"1.\", \"1.\", \"1.\", \"1.\", \"1.\", \"1.\", \"1.\", \"1.\", \"1.\", \"1.\", \"1.\", \"1.\", \"1.\", \"1.\", \"1.\", \"1.\", \"1.\", \"1.\", \"1.\", \"1.\", \"1.\", \"1.\", \"2.\", \"2.\", \"2.\", \"2.\", \"2.\", \"2.\", \"2.\", \"2.\", \"2.\", \"2.\", \"2.\", \"2.\", \"2.\", \"2.\", \"2.\", \"2.\", \"2.\", \"2.\", \"2.\", \"2.\", \"2.\", \"2.\", \"2.\", \"2.\", \"2.\", \"2.\", \"2.\", \"2.\", \"2.\", \"2.\", \"2.\", \"2.\", \"2.\", \"2.\", \"2.\", \"2.\", \"2.\", \"2.\", \"2.\", \"3.\", \"3.\", \"3.\", \"3.\", \"3.\", \"3.\", \"3.\", \"3.\", \"3.\", \"3.\", \"3.\", \"3.\", \"3.\", \"3.\", \"3.\", \"3.\", \"3.\", \"3.\", \"3.\", \"3.\", \"3.\", \"3.\", \"3.\", \"3.\", \"3.\", \"3.\", \"3.\", \"3.\", \"3.\", \"3.\", \"3.\", \"3.\", \"3.\", \"3.\", \"3.\", \"3.\", \"3.\", \"3.\", \"3.\", \"3.\", \"3.\", \"3.\", \"3.\", \"3.\", \"3.\", \"3.\", \"3.\", \"3.\", \"3.\", \"3.\", \"3.\", \"3.\", \"3.\", \"3.\", \"3.\", \"3.\", \"3.\", \"3.\", \"3.\", \"3.\", \"3.\", \"3.\", \"3.\", \"3.\", \"3.\", \"3.\", \"3.\", \"3.\", \"3.\", \"3.\", \"3.\", \"3.\", \"3.\", \"3.\", \"3.\", \"3.\", \"3.\", \"3.\"], [\"Tot Cases/1M pop\", \"Tot Cases/1M pop\", \"Tot Cases/1M pop\", \"Tot Cases/1M pop\", \"Tot Cases/1M pop\", \"Tot Cases/1M pop\", \"Tot Cases/1M pop\", \"Tot Cases/1M pop\", \"Tot Cases/1M pop\", \"Tot Cases/1M pop\", \"Tot Cases/1M pop\", \"Tot Cases/1M pop\", \"Tot Cases/1M pop\", \"Deaths/1M pop\", \"Deaths/1M pop\", \"Deaths/1M pop\", \"Deaths/1M pop\", \"Deaths/1M pop\", \"Deaths/1M pop\", \"Deaths/1M pop\", \"Deaths/1M pop\", \"Deaths/1M pop\", \"Deaths/1M pop\", \"Deaths/1M pop\", \"Deaths/1M pop\", \"Deaths/1M pop\", \"Tests/1M pop\", \"Tests/1M pop\", \"Tests/1M pop\", \"Tests/1M pop\", \"Tests/1M pop\", \"Tests/1M pop\", \"Tests/1M pop\", \"Tests/1M pop\", \"Tests/1M pop\", \"Tests/1M pop\", \"Tests/1M pop\", \"Tests/1M pop\", \"Tests/1M pop\", \"Recovered/1M pop\", \"Recovered/1M pop\", \"Recovered/1M pop\", \"Recovered/1M pop\", \"Recovered/1M pop\", \"Recovered/1M pop\", \"Recovered/1M pop\", \"Recovered/1M pop\", \"Recovered/1M pop\", \"Recovered/1M pop\", \"Recovered/1M pop\", \"Recovered/1M pop\", \"Recovered/1M pop\", \"Recovered/1M cases\", \"Recovered/1M cases\", \"Recovered/1M cases\", \"Recovered/1M cases\", \"Recovered/1M cases\", \"Recovered/1M cases\", \"Recovered/1M cases\", \"Recovered/1M cases\", \"Recovered/1M cases\", \"Recovered/1M cases\", \"Recovered/1M cases\", \"Recovered/1M cases\", \"Recovered/1M cases\", \"Deaths/1M cases\", \"Deaths/1M cases\", \"Deaths/1M cases\", \"Deaths/1M cases\", \"Deaths/1M cases\", \"Deaths/1M cases\", \"Deaths/1M cases\", \"Deaths/1M cases\", \"Deaths/1M cases\", \"Deaths/1M cases\", \"Deaths/1M cases\", \"Deaths/1M cases\", \"Deaths/1M cases\", \"Confirmed/1M tests\", \"Confirmed/1M tests\", \"Confirmed/1M tests\", \"Confirmed/1M tests\", \"Confirmed/1M tests\", \"Confirmed/1M tests\", \"Confirmed/1M tests\", \"Confirmed/1M tests\", \"Confirmed/1M tests\", \"Confirmed/1M tests\", \"Confirmed/1M tests\", \"Confirmed/1M tests\", \"Confirmed/1M tests\", \"GDP\", \"GDP\", \"GDP\", \"GDP\", \"GDP\", \"GDP\", \"GDP\", \"GDP\", \"GDP\", \"GDP\", \"GDP\", \"GDP\", \"GDP\", \"Family\", \"Family\", \"Family\", \"Family\", \"Family\", \"Family\", \"Family\", \"Family\", \"Family\", \"Family\", \"Family\", \"Family\", \"Family\", \"Life expectancy\", \"Life expectancy\", \"Life expectancy\", \"Life expectancy\", \"Life expectancy\", \"Life expectancy\", \"Life expectancy\", \"Life expectancy\", \"Life expectancy\", \"Life expectancy\", \"Life expectancy\", \"Life expectancy\", \"Life expectancy\", \"Freedom\", \"Freedom\", \"Freedom\", \"Freedom\", \"Freedom\", \"Freedom\", \"Freedom\", \"Freedom\", \"Freedom\", \"Freedom\", \"Freedom\", \"Freedom\", \"Freedom\", \"Generosity\", \"Generosity\", \"Generosity\", \"Generosity\", \"Generosity\", \"Generosity\", \"Generosity\", \"Generosity\", \"Generosity\", \"Generosity\", \"Generosity\", \"Generosity\", \"Generosity\", \"Trust\", \"Trust\", \"Trust\", \"Trust\", \"Trust\", \"Trust\", \"Trust\", \"Trust\", \"Trust\", \"Trust\", \"Trust\", \"Trust\", \"Trust\"]], \"y\": [[\"1.\", \"1.\", \"1.\", \"1.\", \"2.\", \"2.\", \"2.\", \"3.\", \"3.\", \"3.\", \"3.\", \"3.\", \"3.\", \"1.\", \"1.\", \"1.\", \"1.\", \"2.\", \"2.\", \"2.\", \"3.\", \"3.\", \"3.\", \"3.\", \"3.\", \"3.\", \"1.\", \"1.\", \"1.\", \"1.\", \"2.\", \"2.\", \"2.\", \"3.\", \"3.\", \"3.\", \"3.\", \"3.\", \"3.\", \"1.\", \"1.\", \"1.\", \"1.\", \"2.\", \"2.\", \"2.\", \"3.\", \"3.\", \"3.\", \"3.\", \"3.\", \"3.\", \"1.\", \"1.\", \"1.\", \"1.\", \"2.\", \"2.\", \"2.\", \"3.\", \"3.\", \"3.\", \"3.\", \"3.\", \"3.\", \"1.\", \"1.\", \"1.\", \"1.\", \"2.\", \"2.\", \"2.\", \"3.\", \"3.\", \"3.\", \"3.\", \"3.\", \"3.\", \"1.\", \"1.\", \"1.\", \"1.\", \"2.\", \"2.\", \"2.\", \"3.\", \"3.\", \"3.\", \"3.\", \"3.\", \"3.\", \"1.\", \"1.\", \"1.\", \"1.\", \"2.\", \"2.\", \"2.\", \"3.\", \"3.\", \"3.\", \"3.\", \"3.\", \"3.\", \"1.\", \"1.\", \"1.\", \"1.\", \"2.\", \"2.\", \"2.\", \"3.\", \"3.\", \"3.\", \"3.\", \"3.\", \"3.\", \"1.\", \"1.\", \"1.\", \"1.\", \"2.\", \"2.\", \"2.\", \"3.\", \"3.\", \"3.\", \"3.\", \"3.\", \"3.\", \"1.\", \"1.\", \"1.\", \"1.\", \"2.\", \"2.\", \"2.\", \"3.\", \"3.\", \"3.\", \"3.\", \"3.\", \"3.\", \"1.\", \"1.\", \"1.\", \"1.\", \"2.\", \"2.\", \"2.\", \"3.\", \"3.\", \"3.\", \"3.\", \"3.\", \"3.\", \"1.\", \"1.\", \"1.\", \"1.\", \"2.\", \"2.\", \"2.\", \"3.\", \"3.\", \"3.\", \"3.\", \"3.\", \"3.\"], [\"Tot Cases/1M pop\", \"Deaths/1M pop\", \"Tests/1M pop\", \"Recovered/1M pop\", \"Recovered/1M cases\", \"Deaths/1M cases\", \"Confirmed/1M tests\", \"GDP\", \"Family\", \"Life expectancy\", \"Freedom\", \"Generosity\", \"Trust\", \"Tot Cases/1M pop\", \"Deaths/1M pop\", \"Tests/1M pop\", \"Recovered/1M pop\", \"Recovered/1M cases\", \"Deaths/1M cases\", \"Confirmed/1M tests\", \"GDP\", \"Family\", \"Life expectancy\", \"Freedom\", \"Generosity\", \"Trust\", \"Tot Cases/1M pop\", \"Deaths/1M pop\", \"Tests/1M pop\", \"Recovered/1M pop\", \"Recovered/1M cases\", \"Deaths/1M cases\", \"Confirmed/1M tests\", \"GDP\", \"Family\", \"Life expectancy\", \"Freedom\", \"Generosity\", \"Trust\", \"Tot Cases/1M pop\", \"Deaths/1M pop\", \"Tests/1M pop\", \"Recovered/1M pop\", \"Recovered/1M cases\", \"Deaths/1M cases\", \"Confirmed/1M tests\", \"GDP\", \"Family\", \"Life expectancy\", \"Freedom\", \"Generosity\", \"Trust\", \"Tot Cases/1M pop\", \"Deaths/1M pop\", \"Tests/1M pop\", \"Recovered/1M pop\", \"Recovered/1M cases\", \"Deaths/1M cases\", \"Confirmed/1M tests\", \"GDP\", \"Family\", \"Life expectancy\", \"Freedom\", \"Generosity\", \"Trust\", \"Tot Cases/1M pop\", \"Deaths/1M pop\", \"Tests/1M pop\", \"Recovered/1M pop\", \"Recovered/1M cases\", \"Deaths/1M cases\", \"Confirmed/1M tests\", \"GDP\", \"Family\", \"Life expectancy\", \"Freedom\", \"Generosity\", \"Trust\", \"Tot Cases/1M pop\", \"Deaths/1M pop\", \"Tests/1M pop\", \"Recovered/1M pop\", \"Recovered/1M cases\", \"Deaths/1M cases\", \"Confirmed/1M tests\", \"GDP\", \"Family\", \"Life expectancy\", \"Freedom\", \"Generosity\", \"Trust\", \"Tot Cases/1M pop\", \"Deaths/1M pop\", \"Tests/1M pop\", \"Recovered/1M pop\", \"Recovered/1M cases\", \"Deaths/1M cases\", \"Confirmed/1M tests\", \"GDP\", \"Family\", \"Life expectancy\", \"Freedom\", \"Generosity\", \"Trust\", \"Tot Cases/1M pop\", \"Deaths/1M pop\", \"Tests/1M pop\", \"Recovered/1M pop\", \"Recovered/1M cases\", \"Deaths/1M cases\", \"Confirmed/1M tests\", \"GDP\", \"Family\", \"Life expectancy\", \"Freedom\", \"Generosity\", \"Trust\", \"Tot Cases/1M pop\", \"Deaths/1M pop\", \"Tests/1M pop\", \"Recovered/1M pop\", \"Recovered/1M cases\", \"Deaths/1M cases\", \"Confirmed/1M tests\", \"GDP\", \"Family\", \"Life expectancy\", \"Freedom\", \"Generosity\", \"Trust\", \"Tot Cases/1M pop\", \"Deaths/1M pop\", \"Tests/1M pop\", \"Recovered/1M pop\", \"Recovered/1M cases\", \"Deaths/1M cases\", \"Confirmed/1M tests\", \"GDP\", \"Family\", \"Life expectancy\", \"Freedom\", \"Generosity\", \"Trust\", \"Tot Cases/1M pop\", \"Deaths/1M pop\", \"Tests/1M pop\", \"Recovered/1M pop\", \"Recovered/1M cases\", \"Deaths/1M cases\", \"Confirmed/1M tests\", \"GDP\", \"Family\", \"Life expectancy\", \"Freedom\", \"Generosity\", \"Trust\", \"Tot Cases/1M pop\", \"Deaths/1M pop\", \"Tests/1M pop\", \"Recovered/1M pop\", \"Recovered/1M cases\", \"Deaths/1M cases\", \"Confirmed/1M tests\", \"GDP\", \"Family\", \"Life expectancy\", \"Freedom\", \"Generosity\", \"Trust\"]]}],\n",
       "                        {\"font\": {\"size\": 14}, \"height\": 885, \"template\": {\"data\": {\"bar\": [{\"error_x\": {\"color\": \"#2a3f5f\"}, \"error_y\": {\"color\": \"#2a3f5f\"}, \"marker\": {\"line\": {\"color\": \"#E5ECF6\", \"width\": 0.5}}, \"type\": \"bar\"}], \"barpolar\": [{\"marker\": {\"line\": {\"color\": \"#E5ECF6\", \"width\": 0.5}}, \"type\": \"barpolar\"}], \"carpet\": [{\"aaxis\": {\"endlinecolor\": \"#2a3f5f\", \"gridcolor\": \"white\", \"linecolor\": \"white\", \"minorgridcolor\": \"white\", \"startlinecolor\": \"#2a3f5f\"}, \"baxis\": {\"endlinecolor\": \"#2a3f5f\", \"gridcolor\": \"white\", \"linecolor\": \"white\", \"minorgridcolor\": \"white\", \"startlinecolor\": \"#2a3f5f\"}, \"type\": \"carpet\"}], \"choropleth\": [{\"colorbar\": {\"outlinewidth\": 0, \"ticks\": \"\"}, \"type\": \"choropleth\"}], \"contour\": [{\"colorbar\": {\"outlinewidth\": 0, \"ticks\": \"\"}, \"colorscale\": [[0.0, \"#0d0887\"], [0.1111111111111111, \"#46039f\"], [0.2222222222222222, \"#7201a8\"], [0.3333333333333333, \"#9c179e\"], [0.4444444444444444, \"#bd3786\"], [0.5555555555555556, \"#d8576b\"], [0.6666666666666666, \"#ed7953\"], [0.7777777777777778, \"#fb9f3a\"], [0.8888888888888888, \"#fdca26\"], [1.0, \"#f0f921\"]], \"type\": \"contour\"}], \"contourcarpet\": [{\"colorbar\": {\"outlinewidth\": 0, \"ticks\": \"\"}, \"type\": \"contourcarpet\"}], \"heatmap\": [{\"colorbar\": {\"outlinewidth\": 0, \"ticks\": \"\"}, \"colorscale\": [[0.0, \"#0d0887\"], [0.1111111111111111, \"#46039f\"], [0.2222222222222222, \"#7201a8\"], [0.3333333333333333, \"#9c179e\"], [0.4444444444444444, \"#bd3786\"], [0.5555555555555556, \"#d8576b\"], [0.6666666666666666, \"#ed7953\"], [0.7777777777777778, \"#fb9f3a\"], [0.8888888888888888, \"#fdca26\"], [1.0, \"#f0f921\"]], \"type\": \"heatmap\"}], \"heatmapgl\": [{\"colorbar\": {\"outlinewidth\": 0, \"ticks\": \"\"}, \"colorscale\": [[0.0, \"#0d0887\"], [0.1111111111111111, \"#46039f\"], [0.2222222222222222, \"#7201a8\"], [0.3333333333333333, \"#9c179e\"], [0.4444444444444444, \"#bd3786\"], [0.5555555555555556, \"#d8576b\"], [0.6666666666666666, \"#ed7953\"], [0.7777777777777778, \"#fb9f3a\"], [0.8888888888888888, \"#fdca26\"], [1.0, \"#f0f921\"]], \"type\": \"heatmapgl\"}], \"histogram\": [{\"marker\": {\"colorbar\": {\"outlinewidth\": 0, \"ticks\": \"\"}}, \"type\": \"histogram\"}], \"histogram2d\": [{\"colorbar\": {\"outlinewidth\": 0, \"ticks\": \"\"}, \"colorscale\": [[0.0, \"#0d0887\"], [0.1111111111111111, \"#46039f\"], [0.2222222222222222, \"#7201a8\"], [0.3333333333333333, \"#9c179e\"], [0.4444444444444444, \"#bd3786\"], [0.5555555555555556, \"#d8576b\"], [0.6666666666666666, \"#ed7953\"], [0.7777777777777778, \"#fb9f3a\"], [0.8888888888888888, \"#fdca26\"], [1.0, \"#f0f921\"]], \"type\": \"histogram2d\"}], \"histogram2dcontour\": [{\"colorbar\": {\"outlinewidth\": 0, \"ticks\": \"\"}, \"colorscale\": [[0.0, \"#0d0887\"], [0.1111111111111111, \"#46039f\"], [0.2222222222222222, \"#7201a8\"], [0.3333333333333333, \"#9c179e\"], [0.4444444444444444, \"#bd3786\"], [0.5555555555555556, \"#d8576b\"], [0.6666666666666666, \"#ed7953\"], [0.7777777777777778, \"#fb9f3a\"], [0.8888888888888888, \"#fdca26\"], [1.0, \"#f0f921\"]], \"type\": \"histogram2dcontour\"}], \"mesh3d\": [{\"colorbar\": {\"outlinewidth\": 0, \"ticks\": \"\"}, \"type\": \"mesh3d\"}], \"parcoords\": [{\"line\": {\"colorbar\": {\"outlinewidth\": 0, \"ticks\": \"\"}}, \"type\": \"parcoords\"}], \"pie\": [{\"automargin\": true, \"type\": \"pie\"}], \"scatter\": [{\"marker\": {\"colorbar\": {\"outlinewidth\": 0, \"ticks\": \"\"}}, \"type\": \"scatter\"}], \"scatter3d\": [{\"line\": {\"colorbar\": {\"outlinewidth\": 0, \"ticks\": \"\"}}, \"marker\": {\"colorbar\": {\"outlinewidth\": 0, \"ticks\": \"\"}}, \"type\": \"scatter3d\"}], \"scattercarpet\": [{\"marker\": {\"colorbar\": {\"outlinewidth\": 0, \"ticks\": \"\"}}, \"type\": \"scattercarpet\"}], \"scattergeo\": [{\"marker\": {\"colorbar\": {\"outlinewidth\": 0, \"ticks\": \"\"}}, \"type\": \"scattergeo\"}], \"scattergl\": [{\"marker\": {\"colorbar\": {\"outlinewidth\": 0, \"ticks\": \"\"}}, \"type\": \"scattergl\"}], \"scattermapbox\": [{\"marker\": {\"colorbar\": {\"outlinewidth\": 0, \"ticks\": \"\"}}, \"type\": \"scattermapbox\"}], \"scatterpolar\": [{\"marker\": {\"colorbar\": {\"outlinewidth\": 0, \"ticks\": \"\"}}, \"type\": \"scatterpolar\"}], \"scatterpolargl\": [{\"marker\": {\"colorbar\": {\"outlinewidth\": 0, \"ticks\": \"\"}}, \"type\": \"scatterpolargl\"}], \"scatterternary\": [{\"marker\": {\"colorbar\": {\"outlinewidth\": 0, \"ticks\": \"\"}}, \"type\": \"scatterternary\"}], \"surface\": [{\"colorbar\": {\"outlinewidth\": 0, \"ticks\": \"\"}, \"colorscale\": [[0.0, \"#0d0887\"], [0.1111111111111111, \"#46039f\"], [0.2222222222222222, \"#7201a8\"], [0.3333333333333333, \"#9c179e\"], [0.4444444444444444, \"#bd3786\"], [0.5555555555555556, \"#d8576b\"], [0.6666666666666666, \"#ed7953\"], [0.7777777777777778, \"#fb9f3a\"], [0.8888888888888888, \"#fdca26\"], [1.0, \"#f0f921\"]], \"type\": \"surface\"}], \"table\": [{\"cells\": {\"fill\": {\"color\": \"#EBF0F8\"}, \"line\": {\"color\": \"white\"}}, \"header\": {\"fill\": {\"color\": \"#C8D4E3\"}, \"line\": {\"color\": \"white\"}}, \"type\": \"table\"}]}, \"layout\": {\"annotationdefaults\": {\"arrowcolor\": \"#2a3f5f\", \"arrowhead\": 0, \"arrowwidth\": 1}, \"coloraxis\": {\"colorbar\": {\"outlinewidth\": 0, \"ticks\": \"\"}}, \"colorscale\": {\"diverging\": [[0, \"#8e0152\"], [0.1, \"#c51b7d\"], [0.2, \"#de77ae\"], [0.3, \"#f1b6da\"], [0.4, \"#fde0ef\"], [0.5, \"#f7f7f7\"], [0.6, \"#e6f5d0\"], [0.7, \"#b8e186\"], [0.8, \"#7fbc41\"], [0.9, \"#4d9221\"], [1, \"#276419\"]], \"sequential\": [[0.0, \"#0d0887\"], [0.1111111111111111, \"#46039f\"], [0.2222222222222222, \"#7201a8\"], [0.3333333333333333, \"#9c179e\"], [0.4444444444444444, \"#bd3786\"], [0.5555555555555556, \"#d8576b\"], [0.6666666666666666, \"#ed7953\"], [0.7777777777777778, \"#fb9f3a\"], [0.8888888888888888, \"#fdca26\"], [1.0, \"#f0f921\"]], \"sequentialminus\": [[0.0, \"#0d0887\"], [0.1111111111111111, \"#46039f\"], [0.2222222222222222, \"#7201a8\"], [0.3333333333333333, \"#9c179e\"], [0.4444444444444444, \"#bd3786\"], [0.5555555555555556, \"#d8576b\"], [0.6666666666666666, \"#ed7953\"], [0.7777777777777778, \"#fb9f3a\"], [0.8888888888888888, \"#fdca26\"], [1.0, \"#f0f921\"]]}, \"colorway\": [\"#636efa\", \"#EF553B\", \"#00cc96\", \"#ab63fa\", \"#FFA15A\", \"#19d3f3\", \"#FF6692\", \"#B6E880\", \"#FF97FF\", \"#FECB52\"], \"font\": {\"color\": \"#2a3f5f\"}, \"geo\": {\"bgcolor\": \"white\", \"lakecolor\": \"white\", \"landcolor\": \"#E5ECF6\", \"showlakes\": true, \"showland\": true, \"subunitcolor\": \"white\"}, \"hoverlabel\": {\"align\": \"left\"}, \"hovermode\": \"closest\", \"mapbox\": {\"style\": \"light\"}, \"paper_bgcolor\": \"white\", \"plot_bgcolor\": \"#E5ECF6\", \"polar\": {\"angularaxis\": {\"gridcolor\": \"white\", \"linecolor\": \"white\", \"ticks\": \"\"}, \"bgcolor\": \"#E5ECF6\", \"radialaxis\": {\"gridcolor\": \"white\", \"linecolor\": \"white\", \"ticks\": \"\"}}, \"scene\": {\"xaxis\": {\"backgroundcolor\": \"#E5ECF6\", \"gridcolor\": \"white\", \"gridwidth\": 2, \"linecolor\": \"white\", \"showbackground\": true, \"ticks\": \"\", \"zerolinecolor\": \"white\"}, \"yaxis\": {\"backgroundcolor\": \"#E5ECF6\", \"gridcolor\": \"white\", \"gridwidth\": 2, \"linecolor\": \"white\", \"showbackground\": true, \"ticks\": \"\", \"zerolinecolor\": \"white\"}, \"zaxis\": {\"backgroundcolor\": \"#E5ECF6\", \"gridcolor\": \"white\", \"gridwidth\": 2, \"linecolor\": \"white\", \"showbackground\": true, \"ticks\": \"\", \"zerolinecolor\": \"white\"}}, \"shapedefaults\": {\"line\": {\"color\": \"#2a3f5f\"}}, \"ternary\": {\"aaxis\": {\"gridcolor\": \"white\", \"linecolor\": \"white\", \"ticks\": \"\"}, \"baxis\": {\"gridcolor\": \"white\", \"linecolor\": \"white\", \"ticks\": \"\"}, \"bgcolor\": \"#E5ECF6\", \"caxis\": {\"gridcolor\": \"white\", \"linecolor\": \"white\", \"ticks\": \"\"}}, \"title\": {\"x\": 0.05}, \"xaxis\": {\"automargin\": true, \"gridcolor\": \"white\", \"linecolor\": \"white\", \"ticks\": \"\", \"title\": {\"standoff\": 15}, \"zerolinecolor\": \"white\", \"zerolinewidth\": 2}, \"yaxis\": {\"automargin\": true, \"gridcolor\": \"white\", \"linecolor\": \"white\", \"ticks\": \"\", \"title\": {\"standoff\": 15}, \"zerolinecolor\": \"white\", \"zerolinewidth\": 2}}}, \"title\": {\"text\": \"Eastern Mediterranean: 19 countries\"}, \"width\": 885, \"xaxis\": {\"range\": [-0.5, 12.5], \"showgrid\": true, \"ticklen\": 0, \"ticks\": \"outside\", \"tickson\": \"boundaries\"}, \"yaxis\": {\"range\": [-0.5, 12.5], \"showgrid\": true, \"ticklen\": 0, \"ticks\": \"outside\", \"tickson\": \"boundaries\"}},\n",
       "                        {\"responsive\": true}\n",
       "                    ).then(function(){\n",
       "                            \n",
       "var gd = document.getElementById('9098ba00-e7ac-4715-b617-cb53bef9b03f');\n",
       "var x = new MutationObserver(function (mutations, observer) {{\n",
       "        var display = window.getComputedStyle(gd).display;\n",
       "        if (!display || display === 'none') {{\n",
       "            console.log([gd, 'removed!']);\n",
       "            Plotly.purge(gd);\n",
       "            observer.disconnect();\n",
       "        }}\n",
       "}});\n",
       "\n",
       "// Listen for the removal of the full notebook cells\n",
       "var notebookContainer = gd.closest('#notebook-container');\n",
       "if (notebookContainer) {{\n",
       "    x.observe(notebookContainer, {childList: true});\n",
       "}}\n",
       "\n",
       "// Listen for the clearing of the current output cell\n",
       "var outputEl = gd.closest('.output');\n",
       "if (outputEl) {{\n",
       "    x.observe(outputEl, {childList: true});\n",
       "}}\n",
       "\n",
       "                        })\n",
       "                };\n",
       "                });\n",
       "            </script>\n",
       "        </div>"
      ]
     },
     "metadata": {},
     "output_type": "display_data"
    },
    {
     "data": {
      "application/vnd.plotly.v1+json": {
       "config": {
        "plotlyServerURL": "https://plot.ly"
       },
       "data": [
        {
         "hoverinfo": "text",
         "hovertext": [
          "",
          "",
          "0.6354741038149994",
          "0.9989496060884473",
          "",
          "",
          "",
          "",
          "",
          "",
          "",
          "",
          "0.6222039627420535",
          "",
          "",
          "",
          "",
          "",
          "",
          "0.7539624457744718",
          "",
          "",
          "",
          "",
          "",
          "",
          "0.6354741038149994",
          "",
          "",
          "0.6447977454839934",
          "",
          "",
          "",
          "0.6555364420561128",
          "",
          "0.6653776557661001",
          "",
          "",
          "0.8546649546129026",
          "0.9989496060884473",
          "",
          "0.6447977454839934",
          "",
          "",
          "",
          "",
          "",
          "",
          "",
          "",
          "",
          "0.6315448481650536",
          "",
          "",
          "",
          "",
          "",
          "",
          "",
          "",
          "",
          "",
          "",
          "",
          "",
          "",
          "",
          "",
          "",
          "",
          "",
          "",
          "",
          "",
          "",
          "",
          "",
          "",
          "",
          "0.7539624457744718",
          "",
          "",
          "",
          "",
          "",
          "",
          "",
          "",
          "",
          "",
          "",
          "",
          "",
          "0.6555364420561128",
          "",
          "",
          "",
          "",
          "",
          "",
          "0.8797728869358523",
          "",
          "",
          "0.5867664994157304",
          "",
          "",
          "",
          "",
          "",
          "",
          "",
          "",
          "",
          "",
          "",
          "",
          "",
          "",
          "",
          "0.6653776557661001",
          "",
          "",
          "",
          "",
          "0.8797728869358523",
          "",
          "",
          "",
          "",
          "0.5916477007435087",
          "",
          "",
          "",
          "",
          "",
          "",
          "",
          "",
          "",
          "",
          "",
          "",
          "",
          "",
          "",
          "",
          "",
          "",
          "",
          "",
          "",
          "",
          "",
          "",
          "",
          "",
          "0.6222039627420535",
          "",
          "0.8546649546129026",
          "0.6315448481650536",
          "",
          "",
          "",
          "0.5867664994157304",
          "",
          "0.5916477007435087",
          "",
          "",
          ""
         ],
         "marker": {
          "cmid": 0,
          "color": [
           0,
           0,
           0.6354741038149994,
           0.9989496060884473,
           0,
           0,
           0,
           0,
           0,
           0,
           0,
           0,
           0.6222039627420535,
           0,
           0,
           0,
           0,
           0,
           0,
           0.7539624457744718,
           0,
           0,
           0,
           0,
           0,
           0,
           0.6354741038149994,
           0,
           0,
           0.6447977454839934,
           0,
           0,
           0,
           0.6555364420561128,
           0,
           0.6653776557661001,
           0,
           0,
           0.8546649546129026,
           0.9989496060884473,
           0,
           0.6447977454839934,
           0,
           0,
           0,
           0,
           0,
           0,
           0,
           0,
           0,
           0.6315448481650536,
           0,
           0,
           0,
           0,
           0,
           0,
           0,
           0,
           0,
           0,
           0,
           0,
           0,
           0,
           0,
           0,
           0,
           0,
           0,
           0,
           0,
           0,
           0,
           0,
           0,
           0,
           0,
           0.7539624457744718,
           0,
           0,
           0,
           0,
           0,
           0,
           0,
           0,
           0,
           0,
           0,
           0,
           0,
           0.6555364420561128,
           0,
           0,
           0,
           0,
           0,
           0,
           0.8797728869358523,
           0,
           0,
           0.5867664994157304,
           0,
           0,
           0,
           0,
           0,
           0,
           0,
           0,
           0,
           0,
           0,
           0,
           0,
           0,
           0,
           0.6653776557661001,
           0,
           0,
           0,
           0,
           0.8797728869358523,
           0,
           0,
           0,
           0,
           0.5916477007435087,
           0,
           0,
           0,
           0,
           0,
           0,
           0,
           0,
           0,
           0,
           0,
           0,
           0,
           0,
           0,
           0,
           0,
           0,
           0,
           0,
           0,
           0,
           0,
           0,
           0,
           0,
           0.6222039627420535,
           0,
           0.8546649546129026,
           0.6315448481650536,
           0,
           0,
           0,
           0.5867664994157304,
           0,
           0.5916477007435087,
           0,
           0,
           0
          ],
          "colorbar": {
           "title": {
            "text": "Correlation"
           }
          },
          "colorscale": [
           [
            0,
            "rgb(5,48,97)"
           ],
           [
            0.1,
            "rgb(33,102,172)"
           ],
           [
            0.2,
            "rgb(67,147,195)"
           ],
           [
            0.3,
            "rgb(146,197,222)"
           ],
           [
            0.4,
            "rgb(209,229,240)"
           ],
           [
            0.5,
            "rgb(247,247,247)"
           ],
           [
            0.6,
            "rgb(253,219,199)"
           ],
           [
            0.7,
            "rgb(244,165,130)"
           ],
           [
            0.8,
            "rgb(214,96,77)"
           ],
           [
            0.9,
            "rgb(178,24,43)"
           ],
           [
            1,
            "rgb(103,0,31)"
           ]
          ],
          "size": [
           0,
           0,
           29.23180877548997,
           45.95168188006858,
           0,
           0,
           0,
           0,
           0,
           0,
           0,
           0,
           28.62138228613446,
           0,
           0,
           0,
           0,
           0,
           0,
           34.682272505625704,
           0,
           0,
           0,
           0,
           0,
           0,
           29.23180877548997,
           0,
           0,
           29.660696292263694,
           0,
           0,
           0,
           30.15467633458119,
           0,
           30.607372165240605,
           0,
           0,
           39.31458791219352,
           45.95168188006858,
           0,
           29.660696292263694,
           0,
           0,
           0,
           0,
           0,
           0,
           0,
           0,
           0,
           29.05106301559247,
           0,
           0,
           0,
           0,
           0,
           0,
           0,
           0,
           0,
           0,
           0,
           0,
           0,
           0,
           0,
           0,
           0,
           0,
           0,
           0,
           0,
           0,
           0,
           0,
           0,
           0,
           0,
           34.682272505625704,
           0,
           0,
           0,
           0,
           0,
           0,
           0,
           0,
           0,
           0,
           0,
           0,
           0,
           30.15467633458119,
           0,
           0,
           0,
           0,
           0,
           0,
           40.469552799049204,
           0,
           0,
           26.9912589731236,
           0,
           0,
           0,
           0,
           0,
           0,
           0,
           0,
           0,
           0,
           0,
           0,
           0,
           0,
           0,
           30.607372165240605,
           0,
           0,
           0,
           0,
           40.469552799049204,
           0,
           0,
           0,
           0,
           27.2157942342014,
           0,
           0,
           0,
           0,
           0,
           0,
           0,
           0,
           0,
           0,
           0,
           0,
           0,
           0,
           0,
           0,
           0,
           0,
           0,
           0,
           0,
           0,
           0,
           0,
           0,
           0,
           28.62138228613446,
           0,
           39.31458791219352,
           29.05106301559247,
           0,
           0,
           0,
           26.9912589731236,
           0,
           27.2157942342014,
           0,
           0,
           0
          ]
         },
         "mode": "markers",
         "type": "scatter",
         "x": [
          [
           "1.",
           "1.",
           "1.",
           "1.",
           "1.",
           "1.",
           "1.",
           "1.",
           "1.",
           "1.",
           "1.",
           "1.",
           "1.",
           "1.",
           "1.",
           "1.",
           "1.",
           "1.",
           "1.",
           "1.",
           "1.",
           "1.",
           "1.",
           "1.",
           "1.",
           "1.",
           "1.",
           "1.",
           "1.",
           "1.",
           "1.",
           "1.",
           "1.",
           "1.",
           "1.",
           "1.",
           "1.",
           "1.",
           "1.",
           "1.",
           "1.",
           "1.",
           "1.",
           "1.",
           "1.",
           "1.",
           "1.",
           "1.",
           "1.",
           "1.",
           "1.",
           "1.",
           "2.",
           "2.",
           "2.",
           "2.",
           "2.",
           "2.",
           "2.",
           "2.",
           "2.",
           "2.",
           "2.",
           "2.",
           "2.",
           "2.",
           "2.",
           "2.",
           "2.",
           "2.",
           "2.",
           "2.",
           "2.",
           "2.",
           "2.",
           "2.",
           "2.",
           "2.",
           "2.",
           "2.",
           "2.",
           "2.",
           "2.",
           "2.",
           "2.",
           "2.",
           "2.",
           "2.",
           "2.",
           "2.",
           "2.",
           "3.",
           "3.",
           "3.",
           "3.",
           "3.",
           "3.",
           "3.",
           "3.",
           "3.",
           "3.",
           "3.",
           "3.",
           "3.",
           "3.",
           "3.",
           "3.",
           "3.",
           "3.",
           "3.",
           "3.",
           "3.",
           "3.",
           "3.",
           "3.",
           "3.",
           "3.",
           "3.",
           "3.",
           "3.",
           "3.",
           "3.",
           "3.",
           "3.",
           "3.",
           "3.",
           "3.",
           "3.",
           "3.",
           "3.",
           "3.",
           "3.",
           "3.",
           "3.",
           "3.",
           "3.",
           "3.",
           "3.",
           "3.",
           "3.",
           "3.",
           "3.",
           "3.",
           "3.",
           "3.",
           "3.",
           "3.",
           "3.",
           "3.",
           "3.",
           "3.",
           "3.",
           "3.",
           "3.",
           "3.",
           "3.",
           "3.",
           "3.",
           "3.",
           "3.",
           "3.",
           "3.",
           "3.",
           "3.",
           "3.",
           "3.",
           "3.",
           "3.",
           "3."
          ],
          [
           "Tot Cases/1M pop",
           "Tot Cases/1M pop",
           "Tot Cases/1M pop",
           "Tot Cases/1M pop",
           "Tot Cases/1M pop",
           "Tot Cases/1M pop",
           "Tot Cases/1M pop",
           "Tot Cases/1M pop",
           "Tot Cases/1M pop",
           "Tot Cases/1M pop",
           "Tot Cases/1M pop",
           "Tot Cases/1M pop",
           "Tot Cases/1M pop",
           "Deaths/1M pop",
           "Deaths/1M pop",
           "Deaths/1M pop",
           "Deaths/1M pop",
           "Deaths/1M pop",
           "Deaths/1M pop",
           "Deaths/1M pop",
           "Deaths/1M pop",
           "Deaths/1M pop",
           "Deaths/1M pop",
           "Deaths/1M pop",
           "Deaths/1M pop",
           "Deaths/1M pop",
           "Tests/1M pop",
           "Tests/1M pop",
           "Tests/1M pop",
           "Tests/1M pop",
           "Tests/1M pop",
           "Tests/1M pop",
           "Tests/1M pop",
           "Tests/1M pop",
           "Tests/1M pop",
           "Tests/1M pop",
           "Tests/1M pop",
           "Tests/1M pop",
           "Tests/1M pop",
           "Recovered/1M pop",
           "Recovered/1M pop",
           "Recovered/1M pop",
           "Recovered/1M pop",
           "Recovered/1M pop",
           "Recovered/1M pop",
           "Recovered/1M pop",
           "Recovered/1M pop",
           "Recovered/1M pop",
           "Recovered/1M pop",
           "Recovered/1M pop",
           "Recovered/1M pop",
           "Recovered/1M pop",
           "Recovered/1M cases",
           "Recovered/1M cases",
           "Recovered/1M cases",
           "Recovered/1M cases",
           "Recovered/1M cases",
           "Recovered/1M cases",
           "Recovered/1M cases",
           "Recovered/1M cases",
           "Recovered/1M cases",
           "Recovered/1M cases",
           "Recovered/1M cases",
           "Recovered/1M cases",
           "Recovered/1M cases",
           "Deaths/1M cases",
           "Deaths/1M cases",
           "Deaths/1M cases",
           "Deaths/1M cases",
           "Deaths/1M cases",
           "Deaths/1M cases",
           "Deaths/1M cases",
           "Deaths/1M cases",
           "Deaths/1M cases",
           "Deaths/1M cases",
           "Deaths/1M cases",
           "Deaths/1M cases",
           "Deaths/1M cases",
           "Confirmed/1M tests",
           "Confirmed/1M tests",
           "Confirmed/1M tests",
           "Confirmed/1M tests",
           "Confirmed/1M tests",
           "Confirmed/1M tests",
           "Confirmed/1M tests",
           "Confirmed/1M tests",
           "Confirmed/1M tests",
           "Confirmed/1M tests",
           "Confirmed/1M tests",
           "Confirmed/1M tests",
           "Confirmed/1M tests",
           "GDP",
           "GDP",
           "GDP",
           "GDP",
           "GDP",
           "GDP",
           "GDP",
           "GDP",
           "GDP",
           "GDP",
           "GDP",
           "GDP",
           "GDP",
           "Family",
           "Family",
           "Family",
           "Family",
           "Family",
           "Family",
           "Family",
           "Family",
           "Family",
           "Family",
           "Family",
           "Family",
           "Family",
           "Life expectancy",
           "Life expectancy",
           "Life expectancy",
           "Life expectancy",
           "Life expectancy",
           "Life expectancy",
           "Life expectancy",
           "Life expectancy",
           "Life expectancy",
           "Life expectancy",
           "Life expectancy",
           "Life expectancy",
           "Life expectancy",
           "Freedom",
           "Freedom",
           "Freedom",
           "Freedom",
           "Freedom",
           "Freedom",
           "Freedom",
           "Freedom",
           "Freedom",
           "Freedom",
           "Freedom",
           "Freedom",
           "Freedom",
           "Generosity",
           "Generosity",
           "Generosity",
           "Generosity",
           "Generosity",
           "Generosity",
           "Generosity",
           "Generosity",
           "Generosity",
           "Generosity",
           "Generosity",
           "Generosity",
           "Generosity",
           "Trust",
           "Trust",
           "Trust",
           "Trust",
           "Trust",
           "Trust",
           "Trust",
           "Trust",
           "Trust",
           "Trust",
           "Trust",
           "Trust",
           "Trust"
          ]
         ],
         "y": [
          [
           "1.",
           "1.",
           "1.",
           "1.",
           "2.",
           "2.",
           "2.",
           "3.",
           "3.",
           "3.",
           "3.",
           "3.",
           "3.",
           "1.",
           "1.",
           "1.",
           "1.",
           "2.",
           "2.",
           "2.",
           "3.",
           "3.",
           "3.",
           "3.",
           "3.",
           "3.",
           "1.",
           "1.",
           "1.",
           "1.",
           "2.",
           "2.",
           "2.",
           "3.",
           "3.",
           "3.",
           "3.",
           "3.",
           "3.",
           "1.",
           "1.",
           "1.",
           "1.",
           "2.",
           "2.",
           "2.",
           "3.",
           "3.",
           "3.",
           "3.",
           "3.",
           "3.",
           "1.",
           "1.",
           "1.",
           "1.",
           "2.",
           "2.",
           "2.",
           "3.",
           "3.",
           "3.",
           "3.",
           "3.",
           "3.",
           "1.",
           "1.",
           "1.",
           "1.",
           "2.",
           "2.",
           "2.",
           "3.",
           "3.",
           "3.",
           "3.",
           "3.",
           "3.",
           "1.",
           "1.",
           "1.",
           "1.",
           "2.",
           "2.",
           "2.",
           "3.",
           "3.",
           "3.",
           "3.",
           "3.",
           "3.",
           "1.",
           "1.",
           "1.",
           "1.",
           "2.",
           "2.",
           "2.",
           "3.",
           "3.",
           "3.",
           "3.",
           "3.",
           "3.",
           "1.",
           "1.",
           "1.",
           "1.",
           "2.",
           "2.",
           "2.",
           "3.",
           "3.",
           "3.",
           "3.",
           "3.",
           "3.",
           "1.",
           "1.",
           "1.",
           "1.",
           "2.",
           "2.",
           "2.",
           "3.",
           "3.",
           "3.",
           "3.",
           "3.",
           "3.",
           "1.",
           "1.",
           "1.",
           "1.",
           "2.",
           "2.",
           "2.",
           "3.",
           "3.",
           "3.",
           "3.",
           "3.",
           "3.",
           "1.",
           "1.",
           "1.",
           "1.",
           "2.",
           "2.",
           "2.",
           "3.",
           "3.",
           "3.",
           "3.",
           "3.",
           "3.",
           "1.",
           "1.",
           "1.",
           "1.",
           "2.",
           "2.",
           "2.",
           "3.",
           "3.",
           "3.",
           "3.",
           "3.",
           "3."
          ],
          [
           "Tot Cases/1M pop",
           "Deaths/1M pop",
           "Tests/1M pop",
           "Recovered/1M pop",
           "Recovered/1M cases",
           "Deaths/1M cases",
           "Confirmed/1M tests",
           "GDP",
           "Family",
           "Life expectancy",
           "Freedom",
           "Generosity",
           "Trust",
           "Tot Cases/1M pop",
           "Deaths/1M pop",
           "Tests/1M pop",
           "Recovered/1M pop",
           "Recovered/1M cases",
           "Deaths/1M cases",
           "Confirmed/1M tests",
           "GDP",
           "Family",
           "Life expectancy",
           "Freedom",
           "Generosity",
           "Trust",
           "Tot Cases/1M pop",
           "Deaths/1M pop",
           "Tests/1M pop",
           "Recovered/1M pop",
           "Recovered/1M cases",
           "Deaths/1M cases",
           "Confirmed/1M tests",
           "GDP",
           "Family",
           "Life expectancy",
           "Freedom",
           "Generosity",
           "Trust",
           "Tot Cases/1M pop",
           "Deaths/1M pop",
           "Tests/1M pop",
           "Recovered/1M pop",
           "Recovered/1M cases",
           "Deaths/1M cases",
           "Confirmed/1M tests",
           "GDP",
           "Family",
           "Life expectancy",
           "Freedom",
           "Generosity",
           "Trust",
           "Tot Cases/1M pop",
           "Deaths/1M pop",
           "Tests/1M pop",
           "Recovered/1M pop",
           "Recovered/1M cases",
           "Deaths/1M cases",
           "Confirmed/1M tests",
           "GDP",
           "Family",
           "Life expectancy",
           "Freedom",
           "Generosity",
           "Trust",
           "Tot Cases/1M pop",
           "Deaths/1M pop",
           "Tests/1M pop",
           "Recovered/1M pop",
           "Recovered/1M cases",
           "Deaths/1M cases",
           "Confirmed/1M tests",
           "GDP",
           "Family",
           "Life expectancy",
           "Freedom",
           "Generosity",
           "Trust",
           "Tot Cases/1M pop",
           "Deaths/1M pop",
           "Tests/1M pop",
           "Recovered/1M pop",
           "Recovered/1M cases",
           "Deaths/1M cases",
           "Confirmed/1M tests",
           "GDP",
           "Family",
           "Life expectancy",
           "Freedom",
           "Generosity",
           "Trust",
           "Tot Cases/1M pop",
           "Deaths/1M pop",
           "Tests/1M pop",
           "Recovered/1M pop",
           "Recovered/1M cases",
           "Deaths/1M cases",
           "Confirmed/1M tests",
           "GDP",
           "Family",
           "Life expectancy",
           "Freedom",
           "Generosity",
           "Trust",
           "Tot Cases/1M pop",
           "Deaths/1M pop",
           "Tests/1M pop",
           "Recovered/1M pop",
           "Recovered/1M cases",
           "Deaths/1M cases",
           "Confirmed/1M tests",
           "GDP",
           "Family",
           "Life expectancy",
           "Freedom",
           "Generosity",
           "Trust",
           "Tot Cases/1M pop",
           "Deaths/1M pop",
           "Tests/1M pop",
           "Recovered/1M pop",
           "Recovered/1M cases",
           "Deaths/1M cases",
           "Confirmed/1M tests",
           "GDP",
           "Family",
           "Life expectancy",
           "Freedom",
           "Generosity",
           "Trust",
           "Tot Cases/1M pop",
           "Deaths/1M pop",
           "Tests/1M pop",
           "Recovered/1M pop",
           "Recovered/1M cases",
           "Deaths/1M cases",
           "Confirmed/1M tests",
           "GDP",
           "Family",
           "Life expectancy",
           "Freedom",
           "Generosity",
           "Trust",
           "Tot Cases/1M pop",
           "Deaths/1M pop",
           "Tests/1M pop",
           "Recovered/1M pop",
           "Recovered/1M cases",
           "Deaths/1M cases",
           "Confirmed/1M tests",
           "GDP",
           "Family",
           "Life expectancy",
           "Freedom",
           "Generosity",
           "Trust",
           "Tot Cases/1M pop",
           "Deaths/1M pop",
           "Tests/1M pop",
           "Recovered/1M pop",
           "Recovered/1M cases",
           "Deaths/1M cases",
           "Confirmed/1M tests",
           "GDP",
           "Family",
           "Life expectancy",
           "Freedom",
           "Generosity",
           "Trust"
          ]
         ]
        }
       ],
       "layout": {
        "font": {
         "size": 14
        },
        "height": 885,
        "template": {
         "data": {
          "bar": [
           {
            "error_x": {
             "color": "#2a3f5f"
            },
            "error_y": {
             "color": "#2a3f5f"
            },
            "marker": {
             "line": {
              "color": "#E5ECF6",
              "width": 0.5
             }
            },
            "type": "bar"
           }
          ],
          "barpolar": [
           {
            "marker": {
             "line": {
              "color": "#E5ECF6",
              "width": 0.5
             }
            },
            "type": "barpolar"
           }
          ],
          "carpet": [
           {
            "aaxis": {
             "endlinecolor": "#2a3f5f",
             "gridcolor": "white",
             "linecolor": "white",
             "minorgridcolor": "white",
             "startlinecolor": "#2a3f5f"
            },
            "baxis": {
             "endlinecolor": "#2a3f5f",
             "gridcolor": "white",
             "linecolor": "white",
             "minorgridcolor": "white",
             "startlinecolor": "#2a3f5f"
            },
            "type": "carpet"
           }
          ],
          "choropleth": [
           {
            "colorbar": {
             "outlinewidth": 0,
             "ticks": ""
            },
            "type": "choropleth"
           }
          ],
          "contour": [
           {
            "colorbar": {
             "outlinewidth": 0,
             "ticks": ""
            },
            "colorscale": [
             [
              0,
              "#0d0887"
             ],
             [
              0.1111111111111111,
              "#46039f"
             ],
             [
              0.2222222222222222,
              "#7201a8"
             ],
             [
              0.3333333333333333,
              "#9c179e"
             ],
             [
              0.4444444444444444,
              "#bd3786"
             ],
             [
              0.5555555555555556,
              "#d8576b"
             ],
             [
              0.6666666666666666,
              "#ed7953"
             ],
             [
              0.7777777777777778,
              "#fb9f3a"
             ],
             [
              0.8888888888888888,
              "#fdca26"
             ],
             [
              1,
              "#f0f921"
             ]
            ],
            "type": "contour"
           }
          ],
          "contourcarpet": [
           {
            "colorbar": {
             "outlinewidth": 0,
             "ticks": ""
            },
            "type": "contourcarpet"
           }
          ],
          "heatmap": [
           {
            "colorbar": {
             "outlinewidth": 0,
             "ticks": ""
            },
            "colorscale": [
             [
              0,
              "#0d0887"
             ],
             [
              0.1111111111111111,
              "#46039f"
             ],
             [
              0.2222222222222222,
              "#7201a8"
             ],
             [
              0.3333333333333333,
              "#9c179e"
             ],
             [
              0.4444444444444444,
              "#bd3786"
             ],
             [
              0.5555555555555556,
              "#d8576b"
             ],
             [
              0.6666666666666666,
              "#ed7953"
             ],
             [
              0.7777777777777778,
              "#fb9f3a"
             ],
             [
              0.8888888888888888,
              "#fdca26"
             ],
             [
              1,
              "#f0f921"
             ]
            ],
            "type": "heatmap"
           }
          ],
          "heatmapgl": [
           {
            "colorbar": {
             "outlinewidth": 0,
             "ticks": ""
            },
            "colorscale": [
             [
              0,
              "#0d0887"
             ],
             [
              0.1111111111111111,
              "#46039f"
             ],
             [
              0.2222222222222222,
              "#7201a8"
             ],
             [
              0.3333333333333333,
              "#9c179e"
             ],
             [
              0.4444444444444444,
              "#bd3786"
             ],
             [
              0.5555555555555556,
              "#d8576b"
             ],
             [
              0.6666666666666666,
              "#ed7953"
             ],
             [
              0.7777777777777778,
              "#fb9f3a"
             ],
             [
              0.8888888888888888,
              "#fdca26"
             ],
             [
              1,
              "#f0f921"
             ]
            ],
            "type": "heatmapgl"
           }
          ],
          "histogram": [
           {
            "marker": {
             "colorbar": {
              "outlinewidth": 0,
              "ticks": ""
             }
            },
            "type": "histogram"
           }
          ],
          "histogram2d": [
           {
            "colorbar": {
             "outlinewidth": 0,
             "ticks": ""
            },
            "colorscale": [
             [
              0,
              "#0d0887"
             ],
             [
              0.1111111111111111,
              "#46039f"
             ],
             [
              0.2222222222222222,
              "#7201a8"
             ],
             [
              0.3333333333333333,
              "#9c179e"
             ],
             [
              0.4444444444444444,
              "#bd3786"
             ],
             [
              0.5555555555555556,
              "#d8576b"
             ],
             [
              0.6666666666666666,
              "#ed7953"
             ],
             [
              0.7777777777777778,
              "#fb9f3a"
             ],
             [
              0.8888888888888888,
              "#fdca26"
             ],
             [
              1,
              "#f0f921"
             ]
            ],
            "type": "histogram2d"
           }
          ],
          "histogram2dcontour": [
           {
            "colorbar": {
             "outlinewidth": 0,
             "ticks": ""
            },
            "colorscale": [
             [
              0,
              "#0d0887"
             ],
             [
              0.1111111111111111,
              "#46039f"
             ],
             [
              0.2222222222222222,
              "#7201a8"
             ],
             [
              0.3333333333333333,
              "#9c179e"
             ],
             [
              0.4444444444444444,
              "#bd3786"
             ],
             [
              0.5555555555555556,
              "#d8576b"
             ],
             [
              0.6666666666666666,
              "#ed7953"
             ],
             [
              0.7777777777777778,
              "#fb9f3a"
             ],
             [
              0.8888888888888888,
              "#fdca26"
             ],
             [
              1,
              "#f0f921"
             ]
            ],
            "type": "histogram2dcontour"
           }
          ],
          "mesh3d": [
           {
            "colorbar": {
             "outlinewidth": 0,
             "ticks": ""
            },
            "type": "mesh3d"
           }
          ],
          "parcoords": [
           {
            "line": {
             "colorbar": {
              "outlinewidth": 0,
              "ticks": ""
             }
            },
            "type": "parcoords"
           }
          ],
          "pie": [
           {
            "automargin": true,
            "type": "pie"
           }
          ],
          "scatter": [
           {
            "marker": {
             "colorbar": {
              "outlinewidth": 0,
              "ticks": ""
             }
            },
            "type": "scatter"
           }
          ],
          "scatter3d": [
           {
            "line": {
             "colorbar": {
              "outlinewidth": 0,
              "ticks": ""
             }
            },
            "marker": {
             "colorbar": {
              "outlinewidth": 0,
              "ticks": ""
             }
            },
            "type": "scatter3d"
           }
          ],
          "scattercarpet": [
           {
            "marker": {
             "colorbar": {
              "outlinewidth": 0,
              "ticks": ""
             }
            },
            "type": "scattercarpet"
           }
          ],
          "scattergeo": [
           {
            "marker": {
             "colorbar": {
              "outlinewidth": 0,
              "ticks": ""
             }
            },
            "type": "scattergeo"
           }
          ],
          "scattergl": [
           {
            "marker": {
             "colorbar": {
              "outlinewidth": 0,
              "ticks": ""
             }
            },
            "type": "scattergl"
           }
          ],
          "scattermapbox": [
           {
            "marker": {
             "colorbar": {
              "outlinewidth": 0,
              "ticks": ""
             }
            },
            "type": "scattermapbox"
           }
          ],
          "scatterpolar": [
           {
            "marker": {
             "colorbar": {
              "outlinewidth": 0,
              "ticks": ""
             }
            },
            "type": "scatterpolar"
           }
          ],
          "scatterpolargl": [
           {
            "marker": {
             "colorbar": {
              "outlinewidth": 0,
              "ticks": ""
             }
            },
            "type": "scatterpolargl"
           }
          ],
          "scatterternary": [
           {
            "marker": {
             "colorbar": {
              "outlinewidth": 0,
              "ticks": ""
             }
            },
            "type": "scatterternary"
           }
          ],
          "surface": [
           {
            "colorbar": {
             "outlinewidth": 0,
             "ticks": ""
            },
            "colorscale": [
             [
              0,
              "#0d0887"
             ],
             [
              0.1111111111111111,
              "#46039f"
             ],
             [
              0.2222222222222222,
              "#7201a8"
             ],
             [
              0.3333333333333333,
              "#9c179e"
             ],
             [
              0.4444444444444444,
              "#bd3786"
             ],
             [
              0.5555555555555556,
              "#d8576b"
             ],
             [
              0.6666666666666666,
              "#ed7953"
             ],
             [
              0.7777777777777778,
              "#fb9f3a"
             ],
             [
              0.8888888888888888,
              "#fdca26"
             ],
             [
              1,
              "#f0f921"
             ]
            ],
            "type": "surface"
           }
          ],
          "table": [
           {
            "cells": {
             "fill": {
              "color": "#EBF0F8"
             },
             "line": {
              "color": "white"
             }
            },
            "header": {
             "fill": {
              "color": "#C8D4E3"
             },
             "line": {
              "color": "white"
             }
            },
            "type": "table"
           }
          ]
         },
         "layout": {
          "annotationdefaults": {
           "arrowcolor": "#2a3f5f",
           "arrowhead": 0,
           "arrowwidth": 1
          },
          "coloraxis": {
           "colorbar": {
            "outlinewidth": 0,
            "ticks": ""
           }
          },
          "colorscale": {
           "diverging": [
            [
             0,
             "#8e0152"
            ],
            [
             0.1,
             "#c51b7d"
            ],
            [
             0.2,
             "#de77ae"
            ],
            [
             0.3,
             "#f1b6da"
            ],
            [
             0.4,
             "#fde0ef"
            ],
            [
             0.5,
             "#f7f7f7"
            ],
            [
             0.6,
             "#e6f5d0"
            ],
            [
             0.7,
             "#b8e186"
            ],
            [
             0.8,
             "#7fbc41"
            ],
            [
             0.9,
             "#4d9221"
            ],
            [
             1,
             "#276419"
            ]
           ],
           "sequential": [
            [
             0,
             "#0d0887"
            ],
            [
             0.1111111111111111,
             "#46039f"
            ],
            [
             0.2222222222222222,
             "#7201a8"
            ],
            [
             0.3333333333333333,
             "#9c179e"
            ],
            [
             0.4444444444444444,
             "#bd3786"
            ],
            [
             0.5555555555555556,
             "#d8576b"
            ],
            [
             0.6666666666666666,
             "#ed7953"
            ],
            [
             0.7777777777777778,
             "#fb9f3a"
            ],
            [
             0.8888888888888888,
             "#fdca26"
            ],
            [
             1,
             "#f0f921"
            ]
           ],
           "sequentialminus": [
            [
             0,
             "#0d0887"
            ],
            [
             0.1111111111111111,
             "#46039f"
            ],
            [
             0.2222222222222222,
             "#7201a8"
            ],
            [
             0.3333333333333333,
             "#9c179e"
            ],
            [
             0.4444444444444444,
             "#bd3786"
            ],
            [
             0.5555555555555556,
             "#d8576b"
            ],
            [
             0.6666666666666666,
             "#ed7953"
            ],
            [
             0.7777777777777778,
             "#fb9f3a"
            ],
            [
             0.8888888888888888,
             "#fdca26"
            ],
            [
             1,
             "#f0f921"
            ]
           ]
          },
          "colorway": [
           "#636efa",
           "#EF553B",
           "#00cc96",
           "#ab63fa",
           "#FFA15A",
           "#19d3f3",
           "#FF6692",
           "#B6E880",
           "#FF97FF",
           "#FECB52"
          ],
          "font": {
           "color": "#2a3f5f"
          },
          "geo": {
           "bgcolor": "white",
           "lakecolor": "white",
           "landcolor": "#E5ECF6",
           "showlakes": true,
           "showland": true,
           "subunitcolor": "white"
          },
          "hoverlabel": {
           "align": "left"
          },
          "hovermode": "closest",
          "mapbox": {
           "style": "light"
          },
          "paper_bgcolor": "white",
          "plot_bgcolor": "#E5ECF6",
          "polar": {
           "angularaxis": {
            "gridcolor": "white",
            "linecolor": "white",
            "ticks": ""
           },
           "bgcolor": "#E5ECF6",
           "radialaxis": {
            "gridcolor": "white",
            "linecolor": "white",
            "ticks": ""
           }
          },
          "scene": {
           "xaxis": {
            "backgroundcolor": "#E5ECF6",
            "gridcolor": "white",
            "gridwidth": 2,
            "linecolor": "white",
            "showbackground": true,
            "ticks": "",
            "zerolinecolor": "white"
           },
           "yaxis": {
            "backgroundcolor": "#E5ECF6",
            "gridcolor": "white",
            "gridwidth": 2,
            "linecolor": "white",
            "showbackground": true,
            "ticks": "",
            "zerolinecolor": "white"
           },
           "zaxis": {
            "backgroundcolor": "#E5ECF6",
            "gridcolor": "white",
            "gridwidth": 2,
            "linecolor": "white",
            "showbackground": true,
            "ticks": "",
            "zerolinecolor": "white"
           }
          },
          "shapedefaults": {
           "line": {
            "color": "#2a3f5f"
           }
          },
          "ternary": {
           "aaxis": {
            "gridcolor": "white",
            "linecolor": "white",
            "ticks": ""
           },
           "baxis": {
            "gridcolor": "white",
            "linecolor": "white",
            "ticks": ""
           },
           "bgcolor": "#E5ECF6",
           "caxis": {
            "gridcolor": "white",
            "linecolor": "white",
            "ticks": ""
           }
          },
          "title": {
           "x": 0.05
          },
          "xaxis": {
           "automargin": true,
           "gridcolor": "white",
           "linecolor": "white",
           "ticks": "",
           "title": {
            "standoff": 15
           },
           "zerolinecolor": "white",
           "zerolinewidth": 2
          },
          "yaxis": {
           "automargin": true,
           "gridcolor": "white",
           "linecolor": "white",
           "ticks": "",
           "title": {
            "standoff": 15
           },
           "zerolinecolor": "white",
           "zerolinewidth": 2
          }
         }
        },
        "title": {
         "text": "Western Pacific: 14 countries"
        },
        "width": 885,
        "xaxis": {
         "range": [
          -0.5,
          12.5
         ],
         "showgrid": true,
         "ticklen": 0,
         "ticks": "outside",
         "tickson": "boundaries"
        },
        "yaxis": {
         "range": [
          -0.5,
          12.5
         ],
         "showgrid": true,
         "ticklen": 0,
         "ticks": "outside",
         "tickson": "boundaries"
        }
       }
      },
      "text/html": [
       "<div>\n",
       "        \n",
       "        \n",
       "            <div id=\"c5b529b5-a842-4596-85b0-2b466e93c2e0\" class=\"plotly-graph-div\" style=\"height:885px; width:885px;\"></div>\n",
       "            <script type=\"text/javascript\">\n",
       "                require([\"plotly\"], function(Plotly) {\n",
       "                    window.PLOTLYENV=window.PLOTLYENV || {};\n",
       "                    \n",
       "                if (document.getElementById(\"c5b529b5-a842-4596-85b0-2b466e93c2e0\")) {\n",
       "                    Plotly.newPlot(\n",
       "                        'c5b529b5-a842-4596-85b0-2b466e93c2e0',\n",
       "                        [{\"hoverinfo\": \"text\", \"hovertext\": [\"\", \"\", \"0.6354741038149994\", \"0.9989496060884473\", \"\", \"\", \"\", \"\", \"\", \"\", \"\", \"\", \"0.6222039627420535\", \"\", \"\", \"\", \"\", \"\", \"\", \"0.7539624457744718\", \"\", \"\", \"\", \"\", \"\", \"\", \"0.6354741038149994\", \"\", \"\", \"0.6447977454839934\", \"\", \"\", \"\", \"0.6555364420561128\", \"\", \"0.6653776557661001\", \"\", \"\", \"0.8546649546129026\", \"0.9989496060884473\", \"\", \"0.6447977454839934\", \"\", \"\", \"\", \"\", \"\", \"\", \"\", \"\", \"\", \"0.6315448481650536\", \"\", \"\", \"\", \"\", \"\", \"\", \"\", \"\", \"\", \"\", \"\", \"\", \"\", \"\", \"\", \"\", \"\", \"\", \"\", \"\", \"\", \"\", \"\", \"\", \"\", \"\", \"\", \"0.7539624457744718\", \"\", \"\", \"\", \"\", \"\", \"\", \"\", \"\", \"\", \"\", \"\", \"\", \"\", \"0.6555364420561128\", \"\", \"\", \"\", \"\", \"\", \"\", \"0.8797728869358523\", \"\", \"\", \"0.5867664994157304\", \"\", \"\", \"\", \"\", \"\", \"\", \"\", \"\", \"\", \"\", \"\", \"\", \"\", \"\", \"\", \"0.6653776557661001\", \"\", \"\", \"\", \"\", \"0.8797728869358523\", \"\", \"\", \"\", \"\", \"0.5916477007435087\", \"\", \"\", \"\", \"\", \"\", \"\", \"\", \"\", \"\", \"\", \"\", \"\", \"\", \"\", \"\", \"\", \"\", \"\", \"\", \"\", \"\", \"\", \"\", \"\", \"\", \"\", \"0.6222039627420535\", \"\", \"0.8546649546129026\", \"0.6315448481650536\", \"\", \"\", \"\", \"0.5867664994157304\", \"\", \"0.5916477007435087\", \"\", \"\", \"\"], \"marker\": {\"cmid\": 0, \"color\": [0, 0, 0.6354741038149994, 0.9989496060884473, 0, 0, 0, 0, 0, 0, 0, 0, 0.6222039627420535, 0, 0, 0, 0, 0, 0, 0.7539624457744718, 0, 0, 0, 0, 0, 0, 0.6354741038149994, 0, 0, 0.6447977454839934, 0, 0, 0, 0.6555364420561128, 0, 0.6653776557661001, 0, 0, 0.8546649546129026, 0.9989496060884473, 0, 0.6447977454839934, 0, 0, 0, 0, 0, 0, 0, 0, 0, 0.6315448481650536, 0, 0, 0, 0, 0, 0, 0, 0, 0, 0, 0, 0, 0, 0, 0, 0, 0, 0, 0, 0, 0, 0, 0, 0, 0, 0, 0, 0.7539624457744718, 0, 0, 0, 0, 0, 0, 0, 0, 0, 0, 0, 0, 0, 0.6555364420561128, 0, 0, 0, 0, 0, 0, 0.8797728869358523, 0, 0, 0.5867664994157304, 0, 0, 0, 0, 0, 0, 0, 0, 0, 0, 0, 0, 0, 0, 0, 0.6653776557661001, 0, 0, 0, 0, 0.8797728869358523, 0, 0, 0, 0, 0.5916477007435087, 0, 0, 0, 0, 0, 0, 0, 0, 0, 0, 0, 0, 0, 0, 0, 0, 0, 0, 0, 0, 0, 0, 0, 0, 0, 0, 0.6222039627420535, 0, 0.8546649546129026, 0.6315448481650536, 0, 0, 0, 0.5867664994157304, 0, 0.5916477007435087, 0, 0, 0], \"colorbar\": {\"title\": {\"text\": \"Correlation\"}}, \"colorscale\": [[0.0, \"rgb(5,48,97)\"], [0.1, \"rgb(33,102,172)\"], [0.2, \"rgb(67,147,195)\"], [0.3, \"rgb(146,197,222)\"], [0.4, \"rgb(209,229,240)\"], [0.5, \"rgb(247,247,247)\"], [0.6, \"rgb(253,219,199)\"], [0.7, \"rgb(244,165,130)\"], [0.8, \"rgb(214,96,77)\"], [0.9, \"rgb(178,24,43)\"], [1.0, \"rgb(103,0,31)\"]], \"size\": [0, 0, 29.23180877548997, 45.95168188006858, 0, 0, 0, 0, 0, 0, 0, 0, 28.62138228613446, 0, 0, 0, 0, 0, 0, 34.682272505625704, 0, 0, 0, 0, 0, 0, 29.23180877548997, 0, 0, 29.660696292263694, 0, 0, 0, 30.15467633458119, 0, 30.607372165240605, 0, 0, 39.31458791219352, 45.95168188006858, 0, 29.660696292263694, 0, 0, 0, 0, 0, 0, 0, 0, 0, 29.05106301559247, 0, 0, 0, 0, 0, 0, 0, 0, 0, 0, 0, 0, 0, 0, 0, 0, 0, 0, 0, 0, 0, 0, 0, 0, 0, 0, 0, 34.682272505625704, 0, 0, 0, 0, 0, 0, 0, 0, 0, 0, 0, 0, 0, 30.15467633458119, 0, 0, 0, 0, 0, 0, 40.469552799049204, 0, 0, 26.9912589731236, 0, 0, 0, 0, 0, 0, 0, 0, 0, 0, 0, 0, 0, 0, 0, 30.607372165240605, 0, 0, 0, 0, 40.469552799049204, 0, 0, 0, 0, 27.2157942342014, 0, 0, 0, 0, 0, 0, 0, 0, 0, 0, 0, 0, 0, 0, 0, 0, 0, 0, 0, 0, 0, 0, 0, 0, 0, 0, 28.62138228613446, 0, 39.31458791219352, 29.05106301559247, 0, 0, 0, 26.9912589731236, 0, 27.2157942342014, 0, 0, 0]}, \"mode\": \"markers\", \"type\": \"scatter\", \"x\": [[\"1.\", \"1.\", \"1.\", \"1.\", \"1.\", \"1.\", \"1.\", \"1.\", \"1.\", \"1.\", \"1.\", \"1.\", \"1.\", \"1.\", \"1.\", \"1.\", \"1.\", \"1.\", \"1.\", \"1.\", \"1.\", \"1.\", \"1.\", \"1.\", \"1.\", \"1.\", \"1.\", \"1.\", \"1.\", \"1.\", \"1.\", \"1.\", \"1.\", \"1.\", \"1.\", \"1.\", \"1.\", \"1.\", \"1.\", \"1.\", \"1.\", \"1.\", \"1.\", \"1.\", \"1.\", \"1.\", \"1.\", \"1.\", \"1.\", \"1.\", \"1.\", \"1.\", \"2.\", \"2.\", \"2.\", \"2.\", \"2.\", \"2.\", \"2.\", \"2.\", \"2.\", \"2.\", \"2.\", \"2.\", \"2.\", \"2.\", \"2.\", \"2.\", \"2.\", \"2.\", \"2.\", \"2.\", \"2.\", \"2.\", \"2.\", \"2.\", \"2.\", \"2.\", \"2.\", \"2.\", \"2.\", \"2.\", \"2.\", \"2.\", \"2.\", \"2.\", \"2.\", \"2.\", \"2.\", \"2.\", \"2.\", \"3.\", \"3.\", \"3.\", \"3.\", \"3.\", \"3.\", \"3.\", \"3.\", \"3.\", \"3.\", \"3.\", \"3.\", \"3.\", \"3.\", \"3.\", \"3.\", \"3.\", \"3.\", \"3.\", \"3.\", \"3.\", \"3.\", \"3.\", \"3.\", \"3.\", \"3.\", \"3.\", \"3.\", \"3.\", \"3.\", \"3.\", \"3.\", \"3.\", \"3.\", \"3.\", \"3.\", \"3.\", \"3.\", \"3.\", \"3.\", \"3.\", \"3.\", \"3.\", \"3.\", \"3.\", \"3.\", \"3.\", \"3.\", \"3.\", \"3.\", \"3.\", \"3.\", \"3.\", \"3.\", \"3.\", \"3.\", \"3.\", \"3.\", \"3.\", \"3.\", \"3.\", \"3.\", \"3.\", \"3.\", \"3.\", \"3.\", \"3.\", \"3.\", \"3.\", \"3.\", \"3.\", \"3.\", \"3.\", \"3.\", \"3.\", \"3.\", \"3.\", \"3.\"], [\"Tot Cases/1M pop\", \"Tot Cases/1M pop\", \"Tot Cases/1M pop\", \"Tot Cases/1M pop\", \"Tot Cases/1M pop\", \"Tot Cases/1M pop\", \"Tot Cases/1M pop\", \"Tot Cases/1M pop\", \"Tot Cases/1M pop\", \"Tot Cases/1M pop\", \"Tot Cases/1M pop\", \"Tot Cases/1M pop\", \"Tot Cases/1M pop\", \"Deaths/1M pop\", \"Deaths/1M pop\", \"Deaths/1M pop\", \"Deaths/1M pop\", \"Deaths/1M pop\", \"Deaths/1M pop\", \"Deaths/1M pop\", \"Deaths/1M pop\", \"Deaths/1M pop\", \"Deaths/1M pop\", \"Deaths/1M pop\", \"Deaths/1M pop\", \"Deaths/1M pop\", \"Tests/1M pop\", \"Tests/1M pop\", \"Tests/1M pop\", \"Tests/1M pop\", \"Tests/1M pop\", \"Tests/1M pop\", \"Tests/1M pop\", \"Tests/1M pop\", \"Tests/1M pop\", \"Tests/1M pop\", \"Tests/1M pop\", \"Tests/1M pop\", \"Tests/1M pop\", \"Recovered/1M pop\", \"Recovered/1M pop\", \"Recovered/1M pop\", \"Recovered/1M pop\", \"Recovered/1M pop\", \"Recovered/1M pop\", \"Recovered/1M pop\", \"Recovered/1M pop\", \"Recovered/1M pop\", \"Recovered/1M pop\", \"Recovered/1M pop\", \"Recovered/1M pop\", \"Recovered/1M pop\", \"Recovered/1M cases\", \"Recovered/1M cases\", \"Recovered/1M cases\", \"Recovered/1M cases\", \"Recovered/1M cases\", \"Recovered/1M cases\", \"Recovered/1M cases\", \"Recovered/1M cases\", \"Recovered/1M cases\", \"Recovered/1M cases\", \"Recovered/1M cases\", \"Recovered/1M cases\", \"Recovered/1M cases\", \"Deaths/1M cases\", \"Deaths/1M cases\", \"Deaths/1M cases\", \"Deaths/1M cases\", \"Deaths/1M cases\", \"Deaths/1M cases\", \"Deaths/1M cases\", \"Deaths/1M cases\", \"Deaths/1M cases\", \"Deaths/1M cases\", \"Deaths/1M cases\", \"Deaths/1M cases\", \"Deaths/1M cases\", \"Confirmed/1M tests\", \"Confirmed/1M tests\", \"Confirmed/1M tests\", \"Confirmed/1M tests\", \"Confirmed/1M tests\", \"Confirmed/1M tests\", \"Confirmed/1M tests\", \"Confirmed/1M tests\", \"Confirmed/1M tests\", \"Confirmed/1M tests\", \"Confirmed/1M tests\", \"Confirmed/1M tests\", \"Confirmed/1M tests\", \"GDP\", \"GDP\", \"GDP\", \"GDP\", \"GDP\", \"GDP\", \"GDP\", \"GDP\", \"GDP\", \"GDP\", \"GDP\", \"GDP\", \"GDP\", \"Family\", \"Family\", \"Family\", \"Family\", \"Family\", \"Family\", \"Family\", \"Family\", \"Family\", \"Family\", \"Family\", \"Family\", \"Family\", \"Life expectancy\", \"Life expectancy\", \"Life expectancy\", \"Life expectancy\", \"Life expectancy\", \"Life expectancy\", \"Life expectancy\", \"Life expectancy\", \"Life expectancy\", \"Life expectancy\", \"Life expectancy\", \"Life expectancy\", \"Life expectancy\", \"Freedom\", \"Freedom\", \"Freedom\", \"Freedom\", \"Freedom\", \"Freedom\", \"Freedom\", \"Freedom\", \"Freedom\", \"Freedom\", \"Freedom\", \"Freedom\", \"Freedom\", \"Generosity\", \"Generosity\", \"Generosity\", \"Generosity\", \"Generosity\", \"Generosity\", \"Generosity\", \"Generosity\", \"Generosity\", \"Generosity\", \"Generosity\", \"Generosity\", \"Generosity\", \"Trust\", \"Trust\", \"Trust\", \"Trust\", \"Trust\", \"Trust\", \"Trust\", \"Trust\", \"Trust\", \"Trust\", \"Trust\", \"Trust\", \"Trust\"]], \"y\": [[\"1.\", \"1.\", \"1.\", \"1.\", \"2.\", \"2.\", \"2.\", \"3.\", \"3.\", \"3.\", \"3.\", \"3.\", \"3.\", \"1.\", \"1.\", \"1.\", \"1.\", \"2.\", \"2.\", \"2.\", \"3.\", \"3.\", \"3.\", \"3.\", \"3.\", \"3.\", \"1.\", \"1.\", \"1.\", \"1.\", \"2.\", \"2.\", \"2.\", \"3.\", \"3.\", \"3.\", \"3.\", \"3.\", \"3.\", \"1.\", \"1.\", \"1.\", \"1.\", \"2.\", \"2.\", \"2.\", \"3.\", \"3.\", \"3.\", \"3.\", \"3.\", \"3.\", \"1.\", \"1.\", \"1.\", \"1.\", \"2.\", \"2.\", \"2.\", \"3.\", \"3.\", \"3.\", \"3.\", \"3.\", \"3.\", \"1.\", \"1.\", \"1.\", \"1.\", \"2.\", \"2.\", \"2.\", \"3.\", \"3.\", \"3.\", \"3.\", \"3.\", \"3.\", \"1.\", \"1.\", \"1.\", \"1.\", \"2.\", \"2.\", \"2.\", \"3.\", \"3.\", \"3.\", \"3.\", \"3.\", \"3.\", \"1.\", \"1.\", \"1.\", \"1.\", \"2.\", \"2.\", \"2.\", \"3.\", \"3.\", \"3.\", \"3.\", \"3.\", \"3.\", \"1.\", \"1.\", \"1.\", \"1.\", \"2.\", \"2.\", \"2.\", \"3.\", \"3.\", \"3.\", \"3.\", \"3.\", \"3.\", \"1.\", \"1.\", \"1.\", \"1.\", \"2.\", \"2.\", \"2.\", \"3.\", \"3.\", \"3.\", \"3.\", \"3.\", \"3.\", \"1.\", \"1.\", \"1.\", \"1.\", \"2.\", \"2.\", \"2.\", \"3.\", \"3.\", \"3.\", \"3.\", \"3.\", \"3.\", \"1.\", \"1.\", \"1.\", \"1.\", \"2.\", \"2.\", \"2.\", \"3.\", \"3.\", \"3.\", \"3.\", \"3.\", \"3.\", \"1.\", \"1.\", \"1.\", \"1.\", \"2.\", \"2.\", \"2.\", \"3.\", \"3.\", \"3.\", \"3.\", \"3.\", \"3.\"], [\"Tot Cases/1M pop\", \"Deaths/1M pop\", \"Tests/1M pop\", \"Recovered/1M pop\", \"Recovered/1M cases\", \"Deaths/1M cases\", \"Confirmed/1M tests\", \"GDP\", \"Family\", \"Life expectancy\", \"Freedom\", \"Generosity\", \"Trust\", \"Tot Cases/1M pop\", \"Deaths/1M pop\", \"Tests/1M pop\", \"Recovered/1M pop\", \"Recovered/1M cases\", \"Deaths/1M cases\", \"Confirmed/1M tests\", \"GDP\", \"Family\", \"Life expectancy\", \"Freedom\", \"Generosity\", \"Trust\", \"Tot Cases/1M pop\", \"Deaths/1M pop\", \"Tests/1M pop\", \"Recovered/1M pop\", \"Recovered/1M cases\", \"Deaths/1M cases\", \"Confirmed/1M tests\", \"GDP\", \"Family\", \"Life expectancy\", \"Freedom\", \"Generosity\", \"Trust\", \"Tot Cases/1M pop\", \"Deaths/1M pop\", \"Tests/1M pop\", \"Recovered/1M pop\", \"Recovered/1M cases\", \"Deaths/1M cases\", \"Confirmed/1M tests\", \"GDP\", \"Family\", \"Life expectancy\", \"Freedom\", \"Generosity\", \"Trust\", \"Tot Cases/1M pop\", \"Deaths/1M pop\", \"Tests/1M pop\", \"Recovered/1M pop\", \"Recovered/1M cases\", \"Deaths/1M cases\", \"Confirmed/1M tests\", \"GDP\", \"Family\", \"Life expectancy\", \"Freedom\", \"Generosity\", \"Trust\", \"Tot Cases/1M pop\", \"Deaths/1M pop\", \"Tests/1M pop\", \"Recovered/1M pop\", \"Recovered/1M cases\", \"Deaths/1M cases\", \"Confirmed/1M tests\", \"GDP\", \"Family\", \"Life expectancy\", \"Freedom\", \"Generosity\", \"Trust\", \"Tot Cases/1M pop\", \"Deaths/1M pop\", \"Tests/1M pop\", \"Recovered/1M pop\", \"Recovered/1M cases\", \"Deaths/1M cases\", \"Confirmed/1M tests\", \"GDP\", \"Family\", \"Life expectancy\", \"Freedom\", \"Generosity\", \"Trust\", \"Tot Cases/1M pop\", \"Deaths/1M pop\", \"Tests/1M pop\", \"Recovered/1M pop\", \"Recovered/1M cases\", \"Deaths/1M cases\", \"Confirmed/1M tests\", \"GDP\", \"Family\", \"Life expectancy\", \"Freedom\", \"Generosity\", \"Trust\", \"Tot Cases/1M pop\", \"Deaths/1M pop\", \"Tests/1M pop\", \"Recovered/1M pop\", \"Recovered/1M cases\", \"Deaths/1M cases\", \"Confirmed/1M tests\", \"GDP\", \"Family\", \"Life expectancy\", \"Freedom\", \"Generosity\", \"Trust\", \"Tot Cases/1M pop\", \"Deaths/1M pop\", \"Tests/1M pop\", \"Recovered/1M pop\", \"Recovered/1M cases\", \"Deaths/1M cases\", \"Confirmed/1M tests\", \"GDP\", \"Family\", \"Life expectancy\", \"Freedom\", \"Generosity\", \"Trust\", \"Tot Cases/1M pop\", \"Deaths/1M pop\", \"Tests/1M pop\", \"Recovered/1M pop\", \"Recovered/1M cases\", \"Deaths/1M cases\", \"Confirmed/1M tests\", \"GDP\", \"Family\", \"Life expectancy\", \"Freedom\", \"Generosity\", \"Trust\", \"Tot Cases/1M pop\", \"Deaths/1M pop\", \"Tests/1M pop\", \"Recovered/1M pop\", \"Recovered/1M cases\", \"Deaths/1M cases\", \"Confirmed/1M tests\", \"GDP\", \"Family\", \"Life expectancy\", \"Freedom\", \"Generosity\", \"Trust\", \"Tot Cases/1M pop\", \"Deaths/1M pop\", \"Tests/1M pop\", \"Recovered/1M pop\", \"Recovered/1M cases\", \"Deaths/1M cases\", \"Confirmed/1M tests\", \"GDP\", \"Family\", \"Life expectancy\", \"Freedom\", \"Generosity\", \"Trust\"]]}],\n",
       "                        {\"font\": {\"size\": 14}, \"height\": 885, \"template\": {\"data\": {\"bar\": [{\"error_x\": {\"color\": \"#2a3f5f\"}, \"error_y\": {\"color\": \"#2a3f5f\"}, \"marker\": {\"line\": {\"color\": \"#E5ECF6\", \"width\": 0.5}}, \"type\": \"bar\"}], \"barpolar\": [{\"marker\": {\"line\": {\"color\": \"#E5ECF6\", \"width\": 0.5}}, \"type\": \"barpolar\"}], \"carpet\": [{\"aaxis\": {\"endlinecolor\": \"#2a3f5f\", \"gridcolor\": \"white\", \"linecolor\": \"white\", \"minorgridcolor\": \"white\", \"startlinecolor\": \"#2a3f5f\"}, \"baxis\": {\"endlinecolor\": \"#2a3f5f\", \"gridcolor\": \"white\", \"linecolor\": \"white\", \"minorgridcolor\": \"white\", \"startlinecolor\": \"#2a3f5f\"}, \"type\": \"carpet\"}], \"choropleth\": [{\"colorbar\": {\"outlinewidth\": 0, \"ticks\": \"\"}, \"type\": \"choropleth\"}], \"contour\": [{\"colorbar\": {\"outlinewidth\": 0, \"ticks\": \"\"}, \"colorscale\": [[0.0, \"#0d0887\"], [0.1111111111111111, \"#46039f\"], [0.2222222222222222, \"#7201a8\"], [0.3333333333333333, \"#9c179e\"], [0.4444444444444444, \"#bd3786\"], [0.5555555555555556, \"#d8576b\"], [0.6666666666666666, \"#ed7953\"], [0.7777777777777778, \"#fb9f3a\"], [0.8888888888888888, \"#fdca26\"], [1.0, \"#f0f921\"]], \"type\": \"contour\"}], \"contourcarpet\": [{\"colorbar\": {\"outlinewidth\": 0, \"ticks\": \"\"}, \"type\": \"contourcarpet\"}], \"heatmap\": [{\"colorbar\": {\"outlinewidth\": 0, \"ticks\": \"\"}, \"colorscale\": [[0.0, \"#0d0887\"], [0.1111111111111111, \"#46039f\"], [0.2222222222222222, \"#7201a8\"], [0.3333333333333333, \"#9c179e\"], [0.4444444444444444, \"#bd3786\"], [0.5555555555555556, \"#d8576b\"], [0.6666666666666666, \"#ed7953\"], [0.7777777777777778, \"#fb9f3a\"], [0.8888888888888888, \"#fdca26\"], [1.0, \"#f0f921\"]], \"type\": \"heatmap\"}], \"heatmapgl\": [{\"colorbar\": {\"outlinewidth\": 0, \"ticks\": \"\"}, \"colorscale\": [[0.0, \"#0d0887\"], [0.1111111111111111, \"#46039f\"], [0.2222222222222222, \"#7201a8\"], [0.3333333333333333, \"#9c179e\"], [0.4444444444444444, \"#bd3786\"], [0.5555555555555556, \"#d8576b\"], [0.6666666666666666, \"#ed7953\"], [0.7777777777777778, \"#fb9f3a\"], [0.8888888888888888, \"#fdca26\"], [1.0, \"#f0f921\"]], \"type\": \"heatmapgl\"}], \"histogram\": [{\"marker\": {\"colorbar\": {\"outlinewidth\": 0, \"ticks\": \"\"}}, \"type\": \"histogram\"}], \"histogram2d\": [{\"colorbar\": {\"outlinewidth\": 0, \"ticks\": \"\"}, \"colorscale\": [[0.0, \"#0d0887\"], [0.1111111111111111, \"#46039f\"], [0.2222222222222222, \"#7201a8\"], [0.3333333333333333, \"#9c179e\"], [0.4444444444444444, \"#bd3786\"], [0.5555555555555556, \"#d8576b\"], [0.6666666666666666, \"#ed7953\"], [0.7777777777777778, \"#fb9f3a\"], [0.8888888888888888, \"#fdca26\"], [1.0, \"#f0f921\"]], \"type\": \"histogram2d\"}], \"histogram2dcontour\": [{\"colorbar\": {\"outlinewidth\": 0, \"ticks\": \"\"}, \"colorscale\": [[0.0, \"#0d0887\"], [0.1111111111111111, \"#46039f\"], [0.2222222222222222, \"#7201a8\"], [0.3333333333333333, \"#9c179e\"], [0.4444444444444444, \"#bd3786\"], [0.5555555555555556, \"#d8576b\"], [0.6666666666666666, \"#ed7953\"], [0.7777777777777778, \"#fb9f3a\"], [0.8888888888888888, \"#fdca26\"], [1.0, \"#f0f921\"]], \"type\": \"histogram2dcontour\"}], \"mesh3d\": [{\"colorbar\": {\"outlinewidth\": 0, \"ticks\": \"\"}, \"type\": \"mesh3d\"}], \"parcoords\": [{\"line\": {\"colorbar\": {\"outlinewidth\": 0, \"ticks\": \"\"}}, \"type\": \"parcoords\"}], \"pie\": [{\"automargin\": true, \"type\": \"pie\"}], \"scatter\": [{\"marker\": {\"colorbar\": {\"outlinewidth\": 0, \"ticks\": \"\"}}, \"type\": \"scatter\"}], \"scatter3d\": [{\"line\": {\"colorbar\": {\"outlinewidth\": 0, \"ticks\": \"\"}}, \"marker\": {\"colorbar\": {\"outlinewidth\": 0, \"ticks\": \"\"}}, \"type\": \"scatter3d\"}], \"scattercarpet\": [{\"marker\": {\"colorbar\": {\"outlinewidth\": 0, \"ticks\": \"\"}}, \"type\": \"scattercarpet\"}], \"scattergeo\": [{\"marker\": {\"colorbar\": {\"outlinewidth\": 0, \"ticks\": \"\"}}, \"type\": \"scattergeo\"}], \"scattergl\": [{\"marker\": {\"colorbar\": {\"outlinewidth\": 0, \"ticks\": \"\"}}, \"type\": \"scattergl\"}], \"scattermapbox\": [{\"marker\": {\"colorbar\": {\"outlinewidth\": 0, \"ticks\": \"\"}}, \"type\": \"scattermapbox\"}], \"scatterpolar\": [{\"marker\": {\"colorbar\": {\"outlinewidth\": 0, \"ticks\": \"\"}}, \"type\": \"scatterpolar\"}], \"scatterpolargl\": [{\"marker\": {\"colorbar\": {\"outlinewidth\": 0, \"ticks\": \"\"}}, \"type\": \"scatterpolargl\"}], \"scatterternary\": [{\"marker\": {\"colorbar\": {\"outlinewidth\": 0, \"ticks\": \"\"}}, \"type\": \"scatterternary\"}], \"surface\": [{\"colorbar\": {\"outlinewidth\": 0, \"ticks\": \"\"}, \"colorscale\": [[0.0, \"#0d0887\"], [0.1111111111111111, \"#46039f\"], [0.2222222222222222, \"#7201a8\"], [0.3333333333333333, \"#9c179e\"], [0.4444444444444444, \"#bd3786\"], [0.5555555555555556, \"#d8576b\"], [0.6666666666666666, \"#ed7953\"], [0.7777777777777778, \"#fb9f3a\"], [0.8888888888888888, \"#fdca26\"], [1.0, \"#f0f921\"]], \"type\": \"surface\"}], \"table\": [{\"cells\": {\"fill\": {\"color\": \"#EBF0F8\"}, \"line\": {\"color\": \"white\"}}, \"header\": {\"fill\": {\"color\": \"#C8D4E3\"}, \"line\": {\"color\": \"white\"}}, \"type\": \"table\"}]}, \"layout\": {\"annotationdefaults\": {\"arrowcolor\": \"#2a3f5f\", \"arrowhead\": 0, \"arrowwidth\": 1}, \"coloraxis\": {\"colorbar\": {\"outlinewidth\": 0, \"ticks\": \"\"}}, \"colorscale\": {\"diverging\": [[0, \"#8e0152\"], [0.1, \"#c51b7d\"], [0.2, \"#de77ae\"], [0.3, \"#f1b6da\"], [0.4, \"#fde0ef\"], [0.5, \"#f7f7f7\"], [0.6, \"#e6f5d0\"], [0.7, \"#b8e186\"], [0.8, \"#7fbc41\"], [0.9, \"#4d9221\"], [1, \"#276419\"]], \"sequential\": [[0.0, \"#0d0887\"], [0.1111111111111111, \"#46039f\"], [0.2222222222222222, \"#7201a8\"], [0.3333333333333333, \"#9c179e\"], [0.4444444444444444, \"#bd3786\"], [0.5555555555555556, \"#d8576b\"], [0.6666666666666666, \"#ed7953\"], [0.7777777777777778, \"#fb9f3a\"], [0.8888888888888888, \"#fdca26\"], [1.0, \"#f0f921\"]], \"sequentialminus\": [[0.0, \"#0d0887\"], [0.1111111111111111, \"#46039f\"], [0.2222222222222222, \"#7201a8\"], [0.3333333333333333, \"#9c179e\"], [0.4444444444444444, \"#bd3786\"], [0.5555555555555556, \"#d8576b\"], [0.6666666666666666, \"#ed7953\"], [0.7777777777777778, \"#fb9f3a\"], [0.8888888888888888, \"#fdca26\"], [1.0, \"#f0f921\"]]}, \"colorway\": [\"#636efa\", \"#EF553B\", \"#00cc96\", \"#ab63fa\", \"#FFA15A\", \"#19d3f3\", \"#FF6692\", \"#B6E880\", \"#FF97FF\", \"#FECB52\"], \"font\": {\"color\": \"#2a3f5f\"}, \"geo\": {\"bgcolor\": \"white\", \"lakecolor\": \"white\", \"landcolor\": \"#E5ECF6\", \"showlakes\": true, \"showland\": true, \"subunitcolor\": \"white\"}, \"hoverlabel\": {\"align\": \"left\"}, \"hovermode\": \"closest\", \"mapbox\": {\"style\": \"light\"}, \"paper_bgcolor\": \"white\", \"plot_bgcolor\": \"#E5ECF6\", \"polar\": {\"angularaxis\": {\"gridcolor\": \"white\", \"linecolor\": \"white\", \"ticks\": \"\"}, \"bgcolor\": \"#E5ECF6\", \"radialaxis\": {\"gridcolor\": \"white\", \"linecolor\": \"white\", \"ticks\": \"\"}}, \"scene\": {\"xaxis\": {\"backgroundcolor\": \"#E5ECF6\", \"gridcolor\": \"white\", \"gridwidth\": 2, \"linecolor\": \"white\", \"showbackground\": true, \"ticks\": \"\", \"zerolinecolor\": \"white\"}, \"yaxis\": {\"backgroundcolor\": \"#E5ECF6\", \"gridcolor\": \"white\", \"gridwidth\": 2, \"linecolor\": \"white\", \"showbackground\": true, \"ticks\": \"\", \"zerolinecolor\": \"white\"}, \"zaxis\": {\"backgroundcolor\": \"#E5ECF6\", \"gridcolor\": \"white\", \"gridwidth\": 2, \"linecolor\": \"white\", \"showbackground\": true, \"ticks\": \"\", \"zerolinecolor\": \"white\"}}, \"shapedefaults\": {\"line\": {\"color\": \"#2a3f5f\"}}, \"ternary\": {\"aaxis\": {\"gridcolor\": \"white\", \"linecolor\": \"white\", \"ticks\": \"\"}, \"baxis\": {\"gridcolor\": \"white\", \"linecolor\": \"white\", \"ticks\": \"\"}, \"bgcolor\": \"#E5ECF6\", \"caxis\": {\"gridcolor\": \"white\", \"linecolor\": \"white\", \"ticks\": \"\"}}, \"title\": {\"x\": 0.05}, \"xaxis\": {\"automargin\": true, \"gridcolor\": \"white\", \"linecolor\": \"white\", \"ticks\": \"\", \"title\": {\"standoff\": 15}, \"zerolinecolor\": \"white\", \"zerolinewidth\": 2}, \"yaxis\": {\"automargin\": true, \"gridcolor\": \"white\", \"linecolor\": \"white\", \"ticks\": \"\", \"title\": {\"standoff\": 15}, \"zerolinecolor\": \"white\", \"zerolinewidth\": 2}}}, \"title\": {\"text\": \"Western Pacific: 14 countries\"}, \"width\": 885, \"xaxis\": {\"range\": [-0.5, 12.5], \"showgrid\": true, \"ticklen\": 0, \"ticks\": \"outside\", \"tickson\": \"boundaries\"}, \"yaxis\": {\"range\": [-0.5, 12.5], \"showgrid\": true, \"ticklen\": 0, \"ticks\": \"outside\", \"tickson\": \"boundaries\"}},\n",
       "                        {\"responsive\": true}\n",
       "                    ).then(function(){\n",
       "                            \n",
       "var gd = document.getElementById('c5b529b5-a842-4596-85b0-2b466e93c2e0');\n",
       "var x = new MutationObserver(function (mutations, observer) {{\n",
       "        var display = window.getComputedStyle(gd).display;\n",
       "        if (!display || display === 'none') {{\n",
       "            console.log([gd, 'removed!']);\n",
       "            Plotly.purge(gd);\n",
       "            observer.disconnect();\n",
       "        }}\n",
       "}});\n",
       "\n",
       "// Listen for the removal of the full notebook cells\n",
       "var notebookContainer = gd.closest('#notebook-container');\n",
       "if (notebookContainer) {{\n",
       "    x.observe(notebookContainer, {childList: true});\n",
       "}}\n",
       "\n",
       "// Listen for the clearing of the current output cell\n",
       "var outputEl = gd.closest('.output');\n",
       "if (outputEl) {{\n",
       "    x.observe(outputEl, {childList: true});\n",
       "}}\n",
       "\n",
       "                        })\n",
       "                };\n",
       "                });\n",
       "            </script>\n",
       "        </div>"
      ]
     },
     "metadata": {},
     "output_type": "display_data"
    }
   ],
   "source": [
    "for region in for_correlo[\"WHO Region\"].unique():\n",
    "    regional = for_correlo[for_correlo[\"WHO Region\"].isin([region])]\n",
    "    fig = correlo(regional, to_use, 46, \"RdBu_r\", region + \": \"+str(regional.shape[0])+ \" countries\", \n",
    "                  height=885, width= 885, fontsize=14, var_palette=var_palette)\n",
    "    fig.show()"
   ]
  },
  {
   "cell_type": "markdown",
   "metadata": {},
   "source": [
    "# Analyse the score influence on the pandemic progress"
   ]
  },
  {
   "cell_type": "code",
   "execution_count": null,
   "metadata": {
    "code_folding": [
     0
    ]
   },
   "outputs": [],
   "source": [
    "def basic_violins(df, plot_col, val, title, info, height=500, width=985, to_sort=True,\n",
    "                  palette=px.colors.qualitative.Plotly):\n",
    "    regions = df[plot_col].unique()\n",
    "    j = 0\n",
    "    for_sort = []\n",
    "    data = []\n",
    "    q = []\n",
    "    fig = go.Figure()\n",
    "    for region in regions:\n",
    "        x = df[plot_col][(df[plot_col] == region)]\n",
    "        y = df[val][(df[plot_col] == region)]\n",
    "        quantity = x.shape[0]\n",
    "        if quantity > 2:\n",
    "            for_sort.append(y.median())\n",
    "            data.append(go.Violin(x=x,\n",
    "                                  text=df[info][(df[plot_col] == region)],\n",
    "                                  y=y,\n",
    "                                  name=region,\n",
    "                                  marker=dict(color=palette[j]),\n",
    "                                  box_visible=True,\n",
    "                                  meanline_visible=True\n",
    "                                  ))\n",
    "        q.append(region + \":<br>\" + str(quantity))\n",
    "        j += 1\n",
    "    if not to_sort:\n",
    "        for trace in range(len(data)):\n",
    "            fig.add_trace(data[trace])\n",
    "    else:\n",
    "        for trace in range(len(data)):\n",
    "            indices = np.argsort(for_sort)\n",
    "            fig.add_trace(data[indices[trace]])\n",
    "    fig.update_xaxes(ticktext=q, tickvals=regions, title=plot_col)\n",
    "    fig.update_yaxes(title=val)\n",
    "    fig.update_layout(height=height, width=width, title_text=title)\n",
    "    return fig\n"
   ]
  },
  {
   "cell_type": "markdown",
   "metadata": {},
   "source": [
    "# Focus on significant correlations"
   ]
  },
  {
   "cell_type": "code",
   "execution_count": null,
   "metadata": {},
   "outputs": [],
   "source": []
  }
 ],
 "metadata": {
  "kernelspec": {
   "display_name": "Python 3",
   "language": "python",
   "name": "python3"
  },
  "language_info": {
   "codemirror_mode": {
    "name": "ipython",
    "version": 3
   },
   "file_extension": ".py",
   "mimetype": "text/x-python",
   "name": "python",
   "nbconvert_exporter": "python",
   "pygments_lexer": "ipython3",
   "version": "3.7.7"
  },
  "toc": {
   "base_numbering": 1,
   "nav_menu": {},
   "number_sections": true,
   "sideBar": true,
   "skip_h1_title": false,
   "title_cell": "Table of Contents",
   "title_sidebar": "Contents",
   "toc_cell": true,
   "toc_position": {},
   "toc_section_display": true,
   "toc_window_display": true
  },
  "widgets": {
   "application/vnd.jupyter.widget-state+json": {
    "state": {},
    "version_major": 2,
    "version_minor": 0
   }
  }
 },
 "nbformat": 4,
 "nbformat_minor": 4
}
