{
 "cells": [
  {
   "cell_type": "markdown",
   "metadata": {
    "toc": true
   },
   "source": [
    "<h1>Table of Contents<span class=\"tocSkip\"></span></h1>\n",
    "<div class=\"toc\"><ul class=\"toc-item\"><li><span><a href=\"#The-analysis\" data-toc-modified-id=\"The-analysis-1\"><span class=\"toc-item-num\">1&nbsp;&nbsp;</span>The analysis</a></span></li><li><span><a href=\"#Load-libraries\" data-toc-modified-id=\"Load-libraries-2\"><span class=\"toc-item-num\">2&nbsp;&nbsp;</span>Load libraries</a></span></li><li><span><a href=\"#Import-datasets\" data-toc-modified-id=\"Import-datasets-3\"><span class=\"toc-item-num\">3&nbsp;&nbsp;</span>Import datasets</a></span><ul class=\"toc-item\"><li><span><a href=\"#Worldometer-data-and-WHO-data-for-filling-regions\" data-toc-modified-id=\"Worldometer-data-and-WHO-data-for-filling-regions-3.1\"><span class=\"toc-item-num\">3.1&nbsp;&nbsp;</span>Worldometer data and WHO data for filling regions</a></span></li><li><span><a href=\"#Happiness-report-datasets\" data-toc-modified-id=\"Happiness-report-datasets-3.2\"><span class=\"toc-item-num\">3.2&nbsp;&nbsp;</span>Happiness report datasets</a></span></li></ul></li><li><span><a href=\"#Color-palettes\" data-toc-modified-id=\"Color-palettes-4\"><span class=\"toc-item-num\">4&nbsp;&nbsp;</span>Color palettes</a></span><ul class=\"toc-item\"><li><span><a href=\"#Regions\" data-toc-modified-id=\"Regions-4.1\"><span class=\"toc-item-num\">4.1&nbsp;&nbsp;</span>Regions</a></span></li><li><span><a href=\"#Variable-group\" data-toc-modified-id=\"Variable-group-4.2\"><span class=\"toc-item-num\">4.2&nbsp;&nbsp;</span>Variable group</a></span></li></ul></li><li><span><a href=\"#Analyse-correlation\" data-toc-modified-id=\"Analyse-correlation-5\"><span class=\"toc-item-num\">5&nbsp;&nbsp;</span>Analyse correlation</a></span></li><li><span><a href=\"#Analyse-the-score-influence-on-the-pandemic-progress\" data-toc-modified-id=\"Analyse-the-score-influence-on-the-pandemic-progress-6\"><span class=\"toc-item-num\">6&nbsp;&nbsp;</span>Analyse the score influence on the pandemic progress</a></span></li><li><span><a href=\"#Focus-on-significant-correlations\" data-toc-modified-id=\"Focus-on-significant-correlations-7\"><span class=\"toc-item-num\">7&nbsp;&nbsp;</span>Focus on significant correlations</a></span></li></ul></div>"
   ]
  },
  {
   "cell_type": "markdown",
   "metadata": {},
   "source": [
    "# The analysis "
   ]
  },
  {
   "cell_type": "code",
   "execution_count": null,
   "metadata": {},
   "outputs": [],
   "source": []
  },
  {
   "cell_type": "markdown",
   "metadata": {},
   "source": [
    "# Load libraries"
   ]
  },
  {
   "cell_type": "code",
   "execution_count": 1,
   "metadata": {},
   "outputs": [],
   "source": [
    "import pandas as pd\n",
    "import numpy as np\n",
    "import plotly.express as px\n",
    "import plotly.graph_objects as go\n",
    "#import colours as c\n",
    "import re"
   ]
  },
  {
   "cell_type": "markdown",
   "metadata": {},
   "source": [
    "# Import datasets"
   ]
  },
  {
   "cell_type": "markdown",
   "metadata": {},
   "source": [
    "## Worldometer data and WHO data for filling regions"
   ]
  },
  {
   "cell_type": "code",
   "execution_count": 30,
   "metadata": {},
   "outputs": [
    {
     "data": {
      "text/html": [
       "<div>\n",
       "<style scoped>\n",
       "    .dataframe tbody tr th:only-of-type {\n",
       "        vertical-align: middle;\n",
       "    }\n",
       "\n",
       "    .dataframe tbody tr th {\n",
       "        vertical-align: top;\n",
       "    }\n",
       "\n",
       "    .dataframe thead th {\n",
       "        text-align: right;\n",
       "    }\n",
       "</style>\n",
       "<table border=\"1\" class=\"dataframe\">\n",
       "  <thead>\n",
       "    <tr style=\"text-align: right;\">\n",
       "      <th></th>\n",
       "      <th>Country/Region</th>\n",
       "      <th>Continent</th>\n",
       "      <th>Population</th>\n",
       "      <th>TotalCases</th>\n",
       "      <th>NewCases</th>\n",
       "      <th>TotalDeaths</th>\n",
       "      <th>NewDeaths</th>\n",
       "      <th>TotalRecovered</th>\n",
       "      <th>NewRecovered</th>\n",
       "      <th>ActiveCases</th>\n",
       "      <th>Serious,Critical</th>\n",
       "      <th>Tot Cases/1M pop</th>\n",
       "      <th>Deaths/1M pop</th>\n",
       "      <th>TotalTests</th>\n",
       "      <th>Tests/1M pop</th>\n",
       "      <th>WHO Region</th>\n",
       "    </tr>\n",
       "  </thead>\n",
       "  <tbody>\n",
       "    <tr>\n",
       "      <th>0</th>\n",
       "      <td>USA</td>\n",
       "      <td>North America</td>\n",
       "      <td>3.315104e+08</td>\n",
       "      <td>7667817</td>\n",
       "      <td>30905.0</td>\n",
       "      <td>214884.0</td>\n",
       "      <td>273.0</td>\n",
       "      <td>4874445.0</td>\n",
       "      <td>25407.0</td>\n",
       "      <td>2578488.0</td>\n",
       "      <td>14200.0</td>\n",
       "      <td>23130.0</td>\n",
       "      <td>648.0</td>\n",
       "      <td>112261589.0</td>\n",
       "      <td>338637.0</td>\n",
       "      <td>Americas</td>\n",
       "    </tr>\n",
       "    <tr>\n",
       "      <th>1</th>\n",
       "      <td>India</td>\n",
       "      <td>Asia</td>\n",
       "      <td>1.383530e+09</td>\n",
       "      <td>6682073</td>\n",
       "      <td>59893.0</td>\n",
       "      <td>103600.0</td>\n",
       "      <td>886.0</td>\n",
       "      <td>5659110.0</td>\n",
       "      <td>75657.0</td>\n",
       "      <td>919363.0</td>\n",
       "      <td>8944.0</td>\n",
       "      <td>4830.0</td>\n",
       "      <td>75.0</td>\n",
       "      <td>79982394.0</td>\n",
       "      <td>57810.0</td>\n",
       "      <td>South-EastAsia</td>\n",
       "    </tr>\n",
       "    <tr>\n",
       "      <th>2</th>\n",
       "      <td>Brazil</td>\n",
       "      <td>South America</td>\n",
       "      <td>2.129539e+08</td>\n",
       "      <td>4918022</td>\n",
       "      <td>2733.0</td>\n",
       "      <td>146417.0</td>\n",
       "      <td>42.0</td>\n",
       "      <td>4263208.0</td>\n",
       "      <td>0.0</td>\n",
       "      <td>508397.0</td>\n",
       "      <td>8318.0</td>\n",
       "      <td>23094.0</td>\n",
       "      <td>688.0</td>\n",
       "      <td>17900000.0</td>\n",
       "      <td>84056.0</td>\n",
       "      <td>Americas</td>\n",
       "    </tr>\n",
       "    <tr>\n",
       "      <th>3</th>\n",
       "      <td>Russia</td>\n",
       "      <td>Europe</td>\n",
       "      <td>1.459510e+08</td>\n",
       "      <td>1225889</td>\n",
       "      <td>10888.0</td>\n",
       "      <td>21475.0</td>\n",
       "      <td>117.0</td>\n",
       "      <td>982324.0</td>\n",
       "      <td>3181.0</td>\n",
       "      <td>222090.0</td>\n",
       "      <td>2300.0</td>\n",
       "      <td>8399.0</td>\n",
       "      <td>147.0</td>\n",
       "      <td>48042343.0</td>\n",
       "      <td>329168.0</td>\n",
       "      <td>Europe</td>\n",
       "    </tr>\n",
       "    <tr>\n",
       "      <th>4</th>\n",
       "      <td>Colombia</td>\n",
       "      <td>South America</td>\n",
       "      <td>5.102364e+07</td>\n",
       "      <td>855052</td>\n",
       "      <td>0.0</td>\n",
       "      <td>26712.0</td>\n",
       "      <td>0.0</td>\n",
       "      <td>761674.0</td>\n",
       "      <td>0.0</td>\n",
       "      <td>66666.0</td>\n",
       "      <td>2220.0</td>\n",
       "      <td>16758.0</td>\n",
       "      <td>524.0</td>\n",
       "      <td>3894289.0</td>\n",
       "      <td>76323.0</td>\n",
       "      <td>Americas</td>\n",
       "    </tr>\n",
       "  </tbody>\n",
       "</table>\n",
       "</div>"
      ],
      "text/plain": [
       "  Country/Region      Continent    Population  TotalCases  NewCases  \\\n",
       "0            USA  North America  3.315104e+08     7667817   30905.0   \n",
       "1          India           Asia  1.383530e+09     6682073   59893.0   \n",
       "2         Brazil  South America  2.129539e+08     4918022    2733.0   \n",
       "3         Russia         Europe  1.459510e+08     1225889   10888.0   \n",
       "4       Colombia  South America  5.102364e+07      855052       0.0   \n",
       "\n",
       "   TotalDeaths  NewDeaths  TotalRecovered  NewRecovered  ActiveCases  \\\n",
       "0     214884.0      273.0       4874445.0       25407.0    2578488.0   \n",
       "1     103600.0      886.0       5659110.0       75657.0     919363.0   \n",
       "2     146417.0       42.0       4263208.0           0.0     508397.0   \n",
       "3      21475.0      117.0        982324.0        3181.0     222090.0   \n",
       "4      26712.0        0.0        761674.0           0.0      66666.0   \n",
       "\n",
       "   Serious,Critical  Tot Cases/1M pop  Deaths/1M pop   TotalTests  \\\n",
       "0           14200.0           23130.0          648.0  112261589.0   \n",
       "1            8944.0            4830.0           75.0   79982394.0   \n",
       "2            8318.0           23094.0          688.0   17900000.0   \n",
       "3            2300.0            8399.0          147.0   48042343.0   \n",
       "4            2220.0           16758.0          524.0    3894289.0   \n",
       "\n",
       "   Tests/1M pop      WHO Region  \n",
       "0      338637.0        Americas  \n",
       "1       57810.0  South-EastAsia  \n",
       "2       84056.0        Americas  \n",
       "3      329168.0          Europe  \n",
       "4       76323.0        Americas  "
      ]
     },
     "execution_count": 30,
     "metadata": {},
     "output_type": "execute_result"
    }
   ],
   "source": [
    "file = open('datasets/worldometer_data.csv')\n",
    "worldometer = pd.read_csv('datasets/worldometer_data.csv')\n",
    "file.close()\n",
    "worldometer.fillna(0, inplace=True)\n",
    "worldometer.head()"
   ]
  },
  {
   "cell_type": "code",
   "execution_count": 31,
   "metadata": {
    "code_folding": [
     0
    ]
   },
   "outputs": [],
   "source": [
    "china=[\"China\", \"Asia\",\n",
    "       1439323776, 85470, 20, 4634, 0, 80628, 7, 208, 2, 59, 3, 160000000, 111163, 'Western Pacific']\n",
    "worldometer.loc[len(worldometer)] = china"
   ]
  },
  {
   "cell_type": "code",
   "execution_count": 32,
   "metadata": {
    "code_folding": [
     1
    ]
   },
   "outputs": [],
   "source": [
    "l = []\n",
    "for i in worldometer[\"WHO Region\"]:\n",
    "    if i != 0:\n",
    "        l.append(re.sub(r\"(\\w)([A-Z])\", r\"\\1 \\2\", i))\n",
    "    else:\n",
    "        l.append(i)\n",
    "worldometer[\"WHO Region\"] = l"
   ]
  },
  {
   "cell_type": "code",
   "execution_count": 33,
   "metadata": {},
   "outputs": [],
   "source": [
    "w_regions = worldometer[worldometer[\"WHO Region\"]!=0][[\"WHO Region\", \"Country/Region\"]]"
   ]
  },
  {
   "cell_type": "code",
   "execution_count": 34,
   "metadata": {},
   "outputs": [
    {
     "data": {
      "text/html": [
       "<div>\n",
       "<style scoped>\n",
       "    .dataframe tbody tr th:only-of-type {\n",
       "        vertical-align: middle;\n",
       "    }\n",
       "\n",
       "    .dataframe tbody tr th {\n",
       "        vertical-align: top;\n",
       "    }\n",
       "\n",
       "    .dataframe thead th {\n",
       "        text-align: right;\n",
       "    }\n",
       "</style>\n",
       "<table border=\"1\" class=\"dataframe\">\n",
       "  <thead>\n",
       "    <tr style=\"text-align: right;\">\n",
       "      <th></th>\n",
       "      <th>Date</th>\n",
       "      <th>Country/Region</th>\n",
       "      <th>Confirmed</th>\n",
       "      <th>Deaths</th>\n",
       "      <th>Recovered</th>\n",
       "      <th>Active</th>\n",
       "      <th>New cases</th>\n",
       "      <th>New deaths</th>\n",
       "      <th>New recovered</th>\n",
       "      <th>WHO Region</th>\n",
       "    </tr>\n",
       "  </thead>\n",
       "  <tbody>\n",
       "    <tr>\n",
       "      <th>0</th>\n",
       "      <td>2020-01-22</td>\n",
       "      <td>Afghanistan</td>\n",
       "      <td>0</td>\n",
       "      <td>0.0</td>\n",
       "      <td>0</td>\n",
       "      <td>0.0</td>\n",
       "      <td>0</td>\n",
       "      <td>0</td>\n",
       "      <td>0</td>\n",
       "      <td>Eastern Mediterranean</td>\n",
       "    </tr>\n",
       "    <tr>\n",
       "      <th>1</th>\n",
       "      <td>2020-01-22</td>\n",
       "      <td>Albania</td>\n",
       "      <td>0</td>\n",
       "      <td>0.0</td>\n",
       "      <td>0</td>\n",
       "      <td>0.0</td>\n",
       "      <td>0</td>\n",
       "      <td>0</td>\n",
       "      <td>0</td>\n",
       "      <td>Europe</td>\n",
       "    </tr>\n",
       "    <tr>\n",
       "      <th>2</th>\n",
       "      <td>2020-01-22</td>\n",
       "      <td>Algeria</td>\n",
       "      <td>0</td>\n",
       "      <td>0.0</td>\n",
       "      <td>0</td>\n",
       "      <td>0.0</td>\n",
       "      <td>0</td>\n",
       "      <td>0</td>\n",
       "      <td>0</td>\n",
       "      <td>Africa</td>\n",
       "    </tr>\n",
       "    <tr>\n",
       "      <th>3</th>\n",
       "      <td>2020-01-22</td>\n",
       "      <td>Andorra</td>\n",
       "      <td>0</td>\n",
       "      <td>0.0</td>\n",
       "      <td>0</td>\n",
       "      <td>0.0</td>\n",
       "      <td>0</td>\n",
       "      <td>0</td>\n",
       "      <td>0</td>\n",
       "      <td>Europe</td>\n",
       "    </tr>\n",
       "    <tr>\n",
       "      <th>4</th>\n",
       "      <td>2020-01-22</td>\n",
       "      <td>Angola</td>\n",
       "      <td>0</td>\n",
       "      <td>0.0</td>\n",
       "      <td>0</td>\n",
       "      <td>0.0</td>\n",
       "      <td>0</td>\n",
       "      <td>0</td>\n",
       "      <td>0</td>\n",
       "      <td>Africa</td>\n",
       "    </tr>\n",
       "  </tbody>\n",
       "</table>\n",
       "</div>"
      ],
      "text/plain": [
       "         Date Country/Region  Confirmed  Deaths  Recovered  Active  New cases  \\\n",
       "0  2020-01-22    Afghanistan          0     0.0          0     0.0          0   \n",
       "1  2020-01-22        Albania          0     0.0          0     0.0          0   \n",
       "2  2020-01-22        Algeria          0     0.0          0     0.0          0   \n",
       "3  2020-01-22        Andorra          0     0.0          0     0.0          0   \n",
       "4  2020-01-22         Angola          0     0.0          0     0.0          0   \n",
       "\n",
       "   New deaths  New recovered             WHO Region  \n",
       "0           0              0  Eastern Mediterranean  \n",
       "1           0              0                 Europe  \n",
       "2           0              0                 Africa  \n",
       "3           0              0                 Europe  \n",
       "4           0              0                 Africa  "
      ]
     },
     "execution_count": 34,
     "metadata": {},
     "output_type": "execute_result"
    }
   ],
   "source": [
    "file = open('datasets/full_grouped.csv')\n",
    "full_grouped = pd.read_csv('datasets/full_grouped.csv')\n",
    "file.close()\n",
    "full_grouped.fillna(0, inplace=True)\n",
    "full_grouped.head()"
   ]
  },
  {
   "cell_type": "code",
   "execution_count": 35,
   "metadata": {},
   "outputs": [],
   "source": [
    "full_grouped.replace(to_replace='US', value='USA', regex=True, inplace=True)"
   ]
  },
  {
   "cell_type": "markdown",
   "metadata": {},
   "source": [
    "I make a merged dataframe with consecutive WHO Regions - this way I fill wordometer data."
   ]
  },
  {
   "cell_type": "code",
   "execution_count": 36,
   "metadata": {},
   "outputs": [
    {
     "data": {
      "text/html": [
       "<div>\n",
       "<style scoped>\n",
       "    .dataframe tbody tr th:only-of-type {\n",
       "        vertical-align: middle;\n",
       "    }\n",
       "\n",
       "    .dataframe tbody tr th {\n",
       "        vertical-align: top;\n",
       "    }\n",
       "\n",
       "    .dataframe thead th {\n",
       "        text-align: right;\n",
       "    }\n",
       "</style>\n",
       "<table border=\"1\" class=\"dataframe\">\n",
       "  <thead>\n",
       "    <tr style=\"text-align: right;\">\n",
       "      <th></th>\n",
       "      <th>Country/Region</th>\n",
       "      <th>WHO Region</th>\n",
       "    </tr>\n",
       "  </thead>\n",
       "  <tbody>\n",
       "    <tr>\n",
       "      <th>0</th>\n",
       "      <td>Afghanistan</td>\n",
       "      <td>Eastern Mediterranean</td>\n",
       "    </tr>\n",
       "    <tr>\n",
       "      <th>1</th>\n",
       "      <td>Albania</td>\n",
       "      <td>Europe</td>\n",
       "    </tr>\n",
       "    <tr>\n",
       "      <th>2</th>\n",
       "      <td>Algeria</td>\n",
       "      <td>Africa</td>\n",
       "    </tr>\n",
       "    <tr>\n",
       "      <th>3</th>\n",
       "      <td>Andorra</td>\n",
       "      <td>Europe</td>\n",
       "    </tr>\n",
       "    <tr>\n",
       "      <th>4</th>\n",
       "      <td>Angola</td>\n",
       "      <td>Africa</td>\n",
       "    </tr>\n",
       "  </tbody>\n",
       "</table>\n",
       "</div>"
      ],
      "text/plain": [
       "  Country/Region             WHO Region\n",
       "0    Afghanistan  Eastern Mediterranean\n",
       "1        Albania                 Europe\n",
       "2        Algeria                 Africa\n",
       "3        Andorra                 Europe\n",
       "4         Angola                 Africa"
      ]
     },
     "execution_count": 36,
     "metadata": {},
     "output_type": "execute_result"
    }
   ],
   "source": [
    "new_df = pd.concat([full_grouped[[\"Country/Region\", \"WHO Region\"]], w_regions]).drop_duplicates().reset_index(drop=True)\n",
    "new_df.head()"
   ]
  },
  {
   "cell_type": "code",
   "execution_count": 37,
   "metadata": {},
   "outputs": [
    {
     "data": {
      "text/plain": [
       "array(['Americas', 'South-East Asia', 'Europe', 'Africa',\n",
       "       'Eastern Mediterranean', 'Western Pacific'], dtype=object)"
      ]
     },
     "execution_count": 37,
     "metadata": {},
     "output_type": "execute_result"
    }
   ],
   "source": [
    "worldometer = worldometer.drop(\"WHO Region\", 1)\n",
    "worldometer = pd.merge(worldometer, new_df, on='Country/Region')\n",
    "worldometer[\"WHO Region\"].unique()"
   ]
  },
  {
   "cell_type": "code",
   "execution_count": 38,
   "metadata": {},
   "outputs": [],
   "source": [
    "worldometer[\"Recovered/1M pop\"] = worldometer[[\"TotalRecovered\"]].div(worldometer[\"Population\"], axis=0)*10**6\n",
    "\n",
    "worldometer[\"Recovered/1M cases\"] = worldometer[[\"TotalRecovered\"]].div(worldometer[\"TotalCases\"], axis=0)*10**6\n",
    "worldometer[\"Deaths/1M cases\"] = worldometer[[\"TotalDeaths\"]].div(worldometer[\"TotalCases\"], axis=0)*10**6\n",
    "worldometer[\"Confirmed/1M tests\"] = worldometer[[\"TotalCases\"]].div(worldometer[\"TotalTests\"], axis=0)*10**6"
   ]
  },
  {
   "cell_type": "code",
   "execution_count": 39,
   "metadata": {},
   "outputs": [
    {
     "data": {
      "text/plain": [
       "(183, 20)"
      ]
     },
     "execution_count": 39,
     "metadata": {},
     "output_type": "execute_result"
    }
   ],
   "source": [
    "worldometer.shape"
   ]
  },
  {
   "cell_type": "code",
   "execution_count": 40,
   "metadata": {},
   "outputs": [
    {
     "data": {
      "text/html": [
       "<div>\n",
       "<style scoped>\n",
       "    .dataframe tbody tr th:only-of-type {\n",
       "        vertical-align: middle;\n",
       "    }\n",
       "\n",
       "    .dataframe tbody tr th {\n",
       "        vertical-align: top;\n",
       "    }\n",
       "\n",
       "    .dataframe thead th {\n",
       "        text-align: right;\n",
       "    }\n",
       "</style>\n",
       "<table border=\"1\" class=\"dataframe\">\n",
       "  <thead>\n",
       "    <tr style=\"text-align: right;\">\n",
       "      <th></th>\n",
       "      <th>Population</th>\n",
       "      <th>TotalCases</th>\n",
       "      <th>NewCases</th>\n",
       "      <th>TotalDeaths</th>\n",
       "      <th>NewDeaths</th>\n",
       "      <th>TotalRecovered</th>\n",
       "      <th>NewRecovered</th>\n",
       "      <th>ActiveCases</th>\n",
       "      <th>Serious,Critical</th>\n",
       "      <th>Tot Cases/1M pop</th>\n",
       "      <th>Deaths/1M pop</th>\n",
       "      <th>TotalTests</th>\n",
       "      <th>Tests/1M pop</th>\n",
       "      <th>Recovered/1M pop</th>\n",
       "      <th>Recovered/1M cases</th>\n",
       "      <th>Deaths/1M cases</th>\n",
       "      <th>Confirmed/1M tests</th>\n",
       "    </tr>\n",
       "  </thead>\n",
       "  <tbody>\n",
       "    <tr>\n",
       "      <th>count</th>\n",
       "      <td>1.830000e+02</td>\n",
       "      <td>1.830000e+02</td>\n",
       "      <td>183.000000</td>\n",
       "      <td>183.000000</td>\n",
       "      <td>183.000000</td>\n",
       "      <td>1.830000e+02</td>\n",
       "      <td>183.00000</td>\n",
       "      <td>1.830000e+02</td>\n",
       "      <td>183.000000</td>\n",
       "      <td>183.000000</td>\n",
       "      <td>183.000000</td>\n",
       "      <td>1.830000e+02</td>\n",
       "      <td>1.830000e+02</td>\n",
       "      <td>183.000000</td>\n",
       "      <td>183.000000</td>\n",
       "      <td>183.000000</td>\n",
       "      <td>1.830000e+02</td>\n",
       "    </tr>\n",
       "    <tr>\n",
       "      <th>mean</th>\n",
       "      <td>4.244545e+07</td>\n",
       "      <td>1.944830e+05</td>\n",
       "      <td>1103.841530</td>\n",
       "      <td>5705.786885</td>\n",
       "      <td>16.131148</td>\n",
       "      <td>1.435048e+05</td>\n",
       "      <td>885.04918</td>\n",
       "      <td>3.698716e+04</td>\n",
       "      <td>364.256831</td>\n",
       "      <td>5484.852459</td>\n",
       "      <td>129.575301</td>\n",
       "      <td>3.685808e+06</td>\n",
       "      <td>1.323357e+05</td>\n",
       "      <td>4143.981267</td>\n",
       "      <td>758710.846640</td>\n",
       "      <td>24972.103881</td>\n",
       "      <td>inf</td>\n",
       "    </tr>\n",
       "    <tr>\n",
       "      <th>std</th>\n",
       "      <td>1.521722e+08</td>\n",
       "      <td>8.408190e+05</td>\n",
       "      <td>5149.942004</td>\n",
       "      <td>22098.068329</td>\n",
       "      <td>73.207400</td>\n",
       "      <td>6.405577e+05</td>\n",
       "      <td>5934.60739</td>\n",
       "      <td>2.085873e+05</td>\n",
       "      <td>1468.424926</td>\n",
       "      <td>7658.500215</td>\n",
       "      <td>209.713583</td>\n",
       "      <td>1.604706e+07</td>\n",
       "      <td>2.460206e+05</td>\n",
       "      <td>6598.291669</td>\n",
       "      <td>222380.812223</td>\n",
       "      <td>27416.843953</td>\n",
       "      <td>NaN</td>\n",
       "    </tr>\n",
       "    <tr>\n",
       "      <th>min</th>\n",
       "      <td>3.395000e+04</td>\n",
       "      <td>1.400000e+01</td>\n",
       "      <td>0.000000</td>\n",
       "      <td>0.000000</td>\n",
       "      <td>0.000000</td>\n",
       "      <td>0.000000e+00</td>\n",
       "      <td>0.00000</td>\n",
       "      <td>0.000000e+00</td>\n",
       "      <td>0.000000</td>\n",
       "      <td>3.000000</td>\n",
       "      <td>0.000000</td>\n",
       "      <td>0.000000e+00</td>\n",
       "      <td>0.000000e+00</td>\n",
       "      <td>0.000000</td>\n",
       "      <td>0.000000</td>\n",
       "      <td>0.000000</td>\n",
       "      <td>4.173471e+02</td>\n",
       "    </tr>\n",
       "    <tr>\n",
       "      <th>25%</th>\n",
       "      <td>2.759925e+06</td>\n",
       "      <td>3.132500e+03</td>\n",
       "      <td>0.000000</td>\n",
       "      <td>54.000000</td>\n",
       "      <td>0.000000</td>\n",
       "      <td>1.660500e+03</td>\n",
       "      <td>0.00000</td>\n",
       "      <td>2.700000e+02</td>\n",
       "      <td>0.000000</td>\n",
       "      <td>522.500000</td>\n",
       "      <td>8.000000</td>\n",
       "      <td>5.479100e+04</td>\n",
       "      <td>1.108350e+04</td>\n",
       "      <td>312.346087</td>\n",
       "      <td>656473.910246</td>\n",
       "      <td>10687.165847</td>\n",
       "      <td>1.723688e+04</td>\n",
       "    </tr>\n",
       "    <tr>\n",
       "      <th>50%</th>\n",
       "      <td>9.921338e+06</td>\n",
       "      <td>1.452700e+04</td>\n",
       "      <td>28.000000</td>\n",
       "      <td>261.000000</td>\n",
       "      <td>0.000000</td>\n",
       "      <td>8.308000e+03</td>\n",
       "      <td>2.00000</td>\n",
       "      <td>1.981000e+03</td>\n",
       "      <td>5.000000</td>\n",
       "      <td>2698.000000</td>\n",
       "      <td>40.000000</td>\n",
       "      <td>2.966110e+05</td>\n",
       "      <td>4.869300e+04</td>\n",
       "      <td>1474.474308</td>\n",
       "      <td>826229.730187</td>\n",
       "      <td>19241.126496</td>\n",
       "      <td>6.074874e+04</td>\n",
       "    </tr>\n",
       "    <tr>\n",
       "      <th>75%</th>\n",
       "      <td>3.135696e+07</td>\n",
       "      <td>8.458300e+04</td>\n",
       "      <td>445.500000</td>\n",
       "      <td>1532.500000</td>\n",
       "      <td>7.000000</td>\n",
       "      <td>5.320050e+04</td>\n",
       "      <td>273.00000</td>\n",
       "      <td>1.095400e+04</td>\n",
       "      <td>106.500000</td>\n",
       "      <td>7684.000000</td>\n",
       "      <td>142.500000</td>\n",
       "      <td>1.529686e+06</td>\n",
       "      <td>1.485805e+05</td>\n",
       "      <td>4686.575313</td>\n",
       "      <td>922938.720896</td>\n",
       "      <td>30741.337547</td>\n",
       "      <td>1.696575e+05</td>\n",
       "    </tr>\n",
       "    <tr>\n",
       "      <th>max</th>\n",
       "      <td>1.439324e+09</td>\n",
       "      <td>7.667817e+06</td>\n",
       "      <td>59893.000000</td>\n",
       "      <td>214884.000000</td>\n",
       "      <td>886.000000</td>\n",
       "      <td>5.659110e+06</td>\n",
       "      <td>75657.00000</td>\n",
       "      <td>2.578488e+06</td>\n",
       "      <td>14200.000000</td>\n",
       "      <td>45121.000000</td>\n",
       "      <td>1237.000000</td>\n",
       "      <td>1.600000e+08</td>\n",
       "      <td>1.778274e+06</td>\n",
       "      <td>44042.944578</td>\n",
       "      <td>1000000.000000</td>\n",
       "      <td>289563.939245</td>\n",
       "      <td>inf</td>\n",
       "    </tr>\n",
       "  </tbody>\n",
       "</table>\n",
       "</div>"
      ],
      "text/plain": [
       "         Population    TotalCases      NewCases    TotalDeaths   NewDeaths  \\\n",
       "count  1.830000e+02  1.830000e+02    183.000000     183.000000  183.000000   \n",
       "mean   4.244545e+07  1.944830e+05   1103.841530    5705.786885   16.131148   \n",
       "std    1.521722e+08  8.408190e+05   5149.942004   22098.068329   73.207400   \n",
       "min    3.395000e+04  1.400000e+01      0.000000       0.000000    0.000000   \n",
       "25%    2.759925e+06  3.132500e+03      0.000000      54.000000    0.000000   \n",
       "50%    9.921338e+06  1.452700e+04     28.000000     261.000000    0.000000   \n",
       "75%    3.135696e+07  8.458300e+04    445.500000    1532.500000    7.000000   \n",
       "max    1.439324e+09  7.667817e+06  59893.000000  214884.000000  886.000000   \n",
       "\n",
       "       TotalRecovered  NewRecovered   ActiveCases  Serious,Critical  \\\n",
       "count    1.830000e+02     183.00000  1.830000e+02        183.000000   \n",
       "mean     1.435048e+05     885.04918  3.698716e+04        364.256831   \n",
       "std      6.405577e+05    5934.60739  2.085873e+05       1468.424926   \n",
       "min      0.000000e+00       0.00000  0.000000e+00          0.000000   \n",
       "25%      1.660500e+03       0.00000  2.700000e+02          0.000000   \n",
       "50%      8.308000e+03       2.00000  1.981000e+03          5.000000   \n",
       "75%      5.320050e+04     273.00000  1.095400e+04        106.500000   \n",
       "max      5.659110e+06   75657.00000  2.578488e+06      14200.000000   \n",
       "\n",
       "       Tot Cases/1M pop  Deaths/1M pop    TotalTests  Tests/1M pop  \\\n",
       "count        183.000000     183.000000  1.830000e+02  1.830000e+02   \n",
       "mean        5484.852459     129.575301  3.685808e+06  1.323357e+05   \n",
       "std         7658.500215     209.713583  1.604706e+07  2.460206e+05   \n",
       "min            3.000000       0.000000  0.000000e+00  0.000000e+00   \n",
       "25%          522.500000       8.000000  5.479100e+04  1.108350e+04   \n",
       "50%         2698.000000      40.000000  2.966110e+05  4.869300e+04   \n",
       "75%         7684.000000     142.500000  1.529686e+06  1.485805e+05   \n",
       "max        45121.000000    1237.000000  1.600000e+08  1.778274e+06   \n",
       "\n",
       "       Recovered/1M pop  Recovered/1M cases  Deaths/1M cases  \\\n",
       "count        183.000000          183.000000       183.000000   \n",
       "mean        4143.981267       758710.846640     24972.103881   \n",
       "std         6598.291669       222380.812223     27416.843953   \n",
       "min            0.000000            0.000000         0.000000   \n",
       "25%          312.346087       656473.910246     10687.165847   \n",
       "50%         1474.474308       826229.730187     19241.126496   \n",
       "75%         4686.575313       922938.720896     30741.337547   \n",
       "max        44042.944578      1000000.000000    289563.939245   \n",
       "\n",
       "       Confirmed/1M tests  \n",
       "count        1.830000e+02  \n",
       "mean                  inf  \n",
       "std                   NaN  \n",
       "min          4.173471e+02  \n",
       "25%          1.723688e+04  \n",
       "50%          6.074874e+04  \n",
       "75%          1.696575e+05  \n",
       "max                   inf  "
      ]
     },
     "execution_count": 40,
     "metadata": {},
     "output_type": "execute_result"
    }
   ],
   "source": [
    "worldometer.describe()"
   ]
  },
  {
   "cell_type": "code",
   "execution_count": 41,
   "metadata": {},
   "outputs": [],
   "source": [
    "dif = worldometer[worldometer[\"TotalCases\"] != worldometer[\"TotalRecovered\"]+worldometer[\"TotalDeaths\"]+worldometer[\"ActiveCases\"]]"
   ]
  },
  {
   "cell_type": "code",
   "execution_count": null,
   "metadata": {},
   "outputs": [],
   "source": [
    "dif[\"difference\"] = dif[\"TotalCases\"] - (dif[\"TotalRecovered\"]+dif[\"TotalDeaths\"]+dif[\"ActiveCases\"])"
   ]
  },
  {
   "cell_type": "code",
   "execution_count": 43,
   "metadata": {},
   "outputs": [
    {
     "data": {
      "text/html": [
       "<div>\n",
       "<style scoped>\n",
       "    .dataframe tbody tr th:only-of-type {\n",
       "        vertical-align: middle;\n",
       "    }\n",
       "\n",
       "    .dataframe tbody tr th {\n",
       "        vertical-align: top;\n",
       "    }\n",
       "\n",
       "    .dataframe thead th {\n",
       "        text-align: right;\n",
       "    }\n",
       "</style>\n",
       "<table border=\"1\" class=\"dataframe\">\n",
       "  <thead>\n",
       "    <tr style=\"text-align: right;\">\n",
       "      <th></th>\n",
       "      <th>Country/Region</th>\n",
       "      <th>Continent</th>\n",
       "      <th>Population</th>\n",
       "      <th>TotalCases</th>\n",
       "      <th>NewCases</th>\n",
       "      <th>TotalDeaths</th>\n",
       "      <th>NewDeaths</th>\n",
       "      <th>TotalRecovered</th>\n",
       "      <th>NewRecovered</th>\n",
       "      <th>ActiveCases</th>\n",
       "      <th>...</th>\n",
       "      <th>Tot Cases/1M pop</th>\n",
       "      <th>Deaths/1M pop</th>\n",
       "      <th>TotalTests</th>\n",
       "      <th>Tests/1M pop</th>\n",
       "      <th>WHO Region</th>\n",
       "      <th>Recovered/1M pop</th>\n",
       "      <th>Recovered/1M cases</th>\n",
       "      <th>Deaths/1M cases</th>\n",
       "      <th>Confirmed/1M tests</th>\n",
       "      <th>difference</th>\n",
       "    </tr>\n",
       "  </thead>\n",
       "  <tbody>\n",
       "    <tr>\n",
       "      <th>5</th>\n",
       "      <td>Spain</td>\n",
       "      <td>Europe</td>\n",
       "      <td>46759558.0</td>\n",
       "      <td>852838</td>\n",
       "      <td>2099.0</td>\n",
       "      <td>32225.0</td>\n",
       "      <td>46.0</td>\n",
       "      <td>0.0</td>\n",
       "      <td>0.0</td>\n",
       "      <td>0.0</td>\n",
       "      <td>...</td>\n",
       "      <td>18239.0</td>\n",
       "      <td>689.0</td>\n",
       "      <td>13689776.0</td>\n",
       "      <td>292770.0</td>\n",
       "      <td>Europe</td>\n",
       "      <td>0.0</td>\n",
       "      <td>0.0</td>\n",
       "      <td>37785.605238</td>\n",
       "      <td>62297.440075</td>\n",
       "      <td>820613.0</td>\n",
       "    </tr>\n",
       "    <tr>\n",
       "      <th>11</th>\n",
       "      <td>UK</td>\n",
       "      <td>Europe</td>\n",
       "      <td>67979397.0</td>\n",
       "      <td>515571</td>\n",
       "      <td>12594.0</td>\n",
       "      <td>42369.0</td>\n",
       "      <td>19.0</td>\n",
       "      <td>0.0</td>\n",
       "      <td>0.0</td>\n",
       "      <td>0.0</td>\n",
       "      <td>...</td>\n",
       "      <td>7584.0</td>\n",
       "      <td>623.0</td>\n",
       "      <td>25865851.0</td>\n",
       "      <td>380495.0</td>\n",
       "      <td>Europe</td>\n",
       "      <td>0.0</td>\n",
       "      <td>0.0</td>\n",
       "      <td>82178.788179</td>\n",
       "      <td>19932.497098</td>\n",
       "      <td>473202.0</td>\n",
       "    </tr>\n",
       "    <tr>\n",
       "      <th>27</th>\n",
       "      <td>Netherlands</td>\n",
       "      <td>Europe</td>\n",
       "      <td>17144850.0</td>\n",
       "      <td>140471</td>\n",
       "      <td>4579.0</td>\n",
       "      <td>6461.0</td>\n",
       "      <td>7.0</td>\n",
       "      <td>0.0</td>\n",
       "      <td>0.0</td>\n",
       "      <td>0.0</td>\n",
       "      <td>...</td>\n",
       "      <td>8193.0</td>\n",
       "      <td>377.0</td>\n",
       "      <td>2603166.0</td>\n",
       "      <td>151834.0</td>\n",
       "      <td>Europe</td>\n",
       "      <td>0.0</td>\n",
       "      <td>0.0</td>\n",
       "      <td>45995.258808</td>\n",
       "      <td>53961.599068</td>\n",
       "      <td>134010.0</td>\n",
       "    </tr>\n",
       "    <tr>\n",
       "      <th>41</th>\n",
       "      <td>Sweden</td>\n",
       "      <td>Europe</td>\n",
       "      <td>10115730.0</td>\n",
       "      <td>94283</td>\n",
       "      <td>0.0</td>\n",
       "      <td>5895.0</td>\n",
       "      <td>0.0</td>\n",
       "      <td>0.0</td>\n",
       "      <td>0.0</td>\n",
       "      <td>0.0</td>\n",
       "      <td>...</td>\n",
       "      <td>9320.0</td>\n",
       "      <td>583.0</td>\n",
       "      <td>1661484.0</td>\n",
       "      <td>164248.0</td>\n",
       "      <td>Europe</td>\n",
       "      <td>0.0</td>\n",
       "      <td>0.0</td>\n",
       "      <td>62524.527221</td>\n",
       "      <td>56746.258164</td>\n",
       "      <td>88388.0</td>\n",
       "    </tr>\n",
       "  </tbody>\n",
       "</table>\n",
       "<p>4 rows × 21 columns</p>\n",
       "</div>"
      ],
      "text/plain": [
       "   Country/Region Continent  Population  TotalCases  NewCases  TotalDeaths  \\\n",
       "5           Spain    Europe  46759558.0      852838    2099.0      32225.0   \n",
       "11             UK    Europe  67979397.0      515571   12594.0      42369.0   \n",
       "27    Netherlands    Europe  17144850.0      140471    4579.0       6461.0   \n",
       "41         Sweden    Europe  10115730.0       94283       0.0       5895.0   \n",
       "\n",
       "    NewDeaths  TotalRecovered  NewRecovered  ActiveCases  ...  \\\n",
       "5        46.0             0.0           0.0          0.0  ...   \n",
       "11       19.0             0.0           0.0          0.0  ...   \n",
       "27        7.0             0.0           0.0          0.0  ...   \n",
       "41        0.0             0.0           0.0          0.0  ...   \n",
       "\n",
       "    Tot Cases/1M pop  Deaths/1M pop  TotalTests  Tests/1M pop  WHO Region  \\\n",
       "5            18239.0          689.0  13689776.0      292770.0      Europe   \n",
       "11            7584.0          623.0  25865851.0      380495.0      Europe   \n",
       "27            8193.0          377.0   2603166.0      151834.0      Europe   \n",
       "41            9320.0          583.0   1661484.0      164248.0      Europe   \n",
       "\n",
       "   Recovered/1M pop  Recovered/1M cases  Deaths/1M cases  Confirmed/1M tests  \\\n",
       "5               0.0                 0.0     37785.605238        62297.440075   \n",
       "11              0.0                 0.0     82178.788179        19932.497098   \n",
       "27              0.0                 0.0     45995.258808        53961.599068   \n",
       "41              0.0                 0.0     62524.527221        56746.258164   \n",
       "\n",
       "    difference  \n",
       "5     820613.0  \n",
       "11    473202.0  \n",
       "27    134010.0  \n",
       "41     88388.0  \n",
       "\n",
       "[4 rows x 21 columns]"
      ]
     },
     "execution_count": 43,
     "metadata": {},
     "output_type": "execute_result"
    }
   ],
   "source": [
    "dif"
   ]
  },
  {
   "cell_type": "code",
   "execution_count": 44,
   "metadata": {},
   "outputs": [
    {
     "data": {
      "text/plain": [
       "1516213.0"
      ]
     },
     "execution_count": 44,
     "metadata": {},
     "output_type": "execute_result"
    }
   ],
   "source": [
    "dif[\"difference\"].sum()"
   ]
  },
  {
   "cell_type": "markdown",
   "metadata": {},
   "source": [
    "## Happiness report datasets"
   ]
  },
  {
   "cell_type": "code",
   "execution_count": 49,
   "metadata": {
    "code_folding": [
     1
    ]
   },
   "outputs": [],
   "source": [
    "differences_w = ['Trinidad and Tobago','UK','Congo','USA','Czechia','UAE','S. Korea','Palestine',]\n",
    "differences_d = ['Trinidad & Tobago','United Kingdom','Congo (Brazzaville)','United States','Czech Republic',\n",
    "                 'United Arab Emirates','South Korea','Palestinian Territories',]"
   ]
  },
  {
   "cell_type": "code",
   "execution_count": 50,
   "metadata": {},
   "outputs": [
    {
     "data": {
      "text/html": [
       "<div>\n",
       "<style scoped>\n",
       "    .dataframe tbody tr th:only-of-type {\n",
       "        vertical-align: middle;\n",
       "    }\n",
       "\n",
       "    .dataframe tbody tr th {\n",
       "        vertical-align: top;\n",
       "    }\n",
       "\n",
       "    .dataframe thead th {\n",
       "        text-align: right;\n",
       "    }\n",
       "</style>\n",
       "<table border=\"1\" class=\"dataframe\">\n",
       "  <thead>\n",
       "    <tr style=\"text-align: right;\">\n",
       "      <th></th>\n",
       "      <th>Country/Region</th>\n",
       "      <th>Score</th>\n",
       "      <th>GDP</th>\n",
       "      <th>Family</th>\n",
       "      <th>Life expectancy</th>\n",
       "      <th>Freedom</th>\n",
       "      <th>Generosity</th>\n",
       "      <th>Trust</th>\n",
       "    </tr>\n",
       "  </thead>\n",
       "  <tbody>\n",
       "    <tr>\n",
       "      <th>0</th>\n",
       "      <td>Finland</td>\n",
       "      <td>7.769</td>\n",
       "      <td>1.340</td>\n",
       "      <td>1.587</td>\n",
       "      <td>0.986</td>\n",
       "      <td>0.596</td>\n",
       "      <td>0.153</td>\n",
       "      <td>0.393</td>\n",
       "    </tr>\n",
       "    <tr>\n",
       "      <th>1</th>\n",
       "      <td>Denmark</td>\n",
       "      <td>7.600</td>\n",
       "      <td>1.383</td>\n",
       "      <td>1.573</td>\n",
       "      <td>0.996</td>\n",
       "      <td>0.592</td>\n",
       "      <td>0.252</td>\n",
       "      <td>0.410</td>\n",
       "    </tr>\n",
       "    <tr>\n",
       "      <th>2</th>\n",
       "      <td>Norway</td>\n",
       "      <td>7.554</td>\n",
       "      <td>1.488</td>\n",
       "      <td>1.582</td>\n",
       "      <td>1.028</td>\n",
       "      <td>0.603</td>\n",
       "      <td>0.271</td>\n",
       "      <td>0.341</td>\n",
       "    </tr>\n",
       "    <tr>\n",
       "      <th>3</th>\n",
       "      <td>Iceland</td>\n",
       "      <td>7.494</td>\n",
       "      <td>1.380</td>\n",
       "      <td>1.624</td>\n",
       "      <td>1.026</td>\n",
       "      <td>0.591</td>\n",
       "      <td>0.354</td>\n",
       "      <td>0.118</td>\n",
       "    </tr>\n",
       "    <tr>\n",
       "      <th>4</th>\n",
       "      <td>Netherlands</td>\n",
       "      <td>7.488</td>\n",
       "      <td>1.396</td>\n",
       "      <td>1.522</td>\n",
       "      <td>0.999</td>\n",
       "      <td>0.557</td>\n",
       "      <td>0.322</td>\n",
       "      <td>0.298</td>\n",
       "    </tr>\n",
       "  </tbody>\n",
       "</table>\n",
       "</div>"
      ],
      "text/plain": [
       "  Country/Region  Score    GDP  Family  Life expectancy  Freedom  Generosity  \\\n",
       "0        Finland  7.769  1.340   1.587            0.986    0.596       0.153   \n",
       "1        Denmark  7.600  1.383   1.573            0.996    0.592       0.252   \n",
       "2         Norway  7.554  1.488   1.582            1.028    0.603       0.271   \n",
       "3        Iceland  7.494  1.380   1.624            1.026    0.591       0.354   \n",
       "4    Netherlands  7.488  1.396   1.522            0.999    0.557       0.322   \n",
       "\n",
       "   Trust  \n",
       "0  0.393  \n",
       "1  0.410  \n",
       "2  0.341  \n",
       "3  0.118  \n",
       "4  0.298  "
      ]
     },
     "execution_count": 50,
     "metadata": {},
     "output_type": "execute_result"
    }
   ],
   "source": [
    "file = open('datasets/2019.csv')\n",
    "d19 = pd.read_csv('datasets/2019.csv')\n",
    "file.close()\n",
    "d19.columns = [\"rank\", \"Country/Region\", \"Score\", \"GDP\", \"Family\", \"Life expectancy\", \"Freedom\", \"Generosity\", \"Trust\"]\n",
    "d19.drop(columns=[\"rank\"], inplace=True)\n",
    "d19.replace(to_replace=differences_d, value=differences_w, regex=True, inplace=True)\n",
    "d19.head()"
   ]
  },
  {
   "cell_type": "code",
   "execution_count": 51,
   "metadata": {},
   "outputs": [],
   "source": [
    "df = pd.merge(worldometer, d19, on='Country/Region')"
   ]
  },
  {
   "cell_type": "code",
   "execution_count": 52,
   "metadata": {},
   "outputs": [
    {
     "data": {
      "text/html": [
       "<div>\n",
       "<style scoped>\n",
       "    .dataframe tbody tr th:only-of-type {\n",
       "        vertical-align: middle;\n",
       "    }\n",
       "\n",
       "    .dataframe tbody tr th {\n",
       "        vertical-align: top;\n",
       "    }\n",
       "\n",
       "    .dataframe thead th {\n",
       "        text-align: right;\n",
       "    }\n",
       "</style>\n",
       "<table border=\"1\" class=\"dataframe\">\n",
       "  <thead>\n",
       "    <tr style=\"text-align: right;\">\n",
       "      <th></th>\n",
       "      <th>Country/Region</th>\n",
       "      <th>Continent</th>\n",
       "      <th>Population</th>\n",
       "      <th>TotalCases</th>\n",
       "      <th>NewCases</th>\n",
       "      <th>TotalDeaths</th>\n",
       "      <th>NewDeaths</th>\n",
       "      <th>TotalRecovered</th>\n",
       "      <th>NewRecovered</th>\n",
       "      <th>ActiveCases</th>\n",
       "      <th>...</th>\n",
       "      <th>Recovered/1M cases</th>\n",
       "      <th>Deaths/1M cases</th>\n",
       "      <th>Confirmed/1M tests</th>\n",
       "      <th>Score</th>\n",
       "      <th>GDP</th>\n",
       "      <th>Family</th>\n",
       "      <th>Life expectancy</th>\n",
       "      <th>Freedom</th>\n",
       "      <th>Generosity</th>\n",
       "      <th>Trust</th>\n",
       "    </tr>\n",
       "  </thead>\n",
       "  <tbody>\n",
       "    <tr>\n",
       "      <th>0</th>\n",
       "      <td>USA</td>\n",
       "      <td>North America</td>\n",
       "      <td>3.315104e+08</td>\n",
       "      <td>7667817</td>\n",
       "      <td>30905.0</td>\n",
       "      <td>214884.0</td>\n",
       "      <td>273.0</td>\n",
       "      <td>4874445.0</td>\n",
       "      <td>25407.0</td>\n",
       "      <td>2578488.0</td>\n",
       "      <td>...</td>\n",
       "      <td>635701.791005</td>\n",
       "      <td>28024.142986</td>\n",
       "      <td>68303.121916</td>\n",
       "      <td>6.892</td>\n",
       "      <td>1.433</td>\n",
       "      <td>1.457</td>\n",
       "      <td>0.874</td>\n",
       "      <td>0.454</td>\n",
       "      <td>0.280</td>\n",
       "      <td>0.128</td>\n",
       "    </tr>\n",
       "    <tr>\n",
       "      <th>1</th>\n",
       "      <td>India</td>\n",
       "      <td>Asia</td>\n",
       "      <td>1.383530e+09</td>\n",
       "      <td>6682073</td>\n",
       "      <td>59893.0</td>\n",
       "      <td>103600.0</td>\n",
       "      <td>886.0</td>\n",
       "      <td>5659110.0</td>\n",
       "      <td>75657.0</td>\n",
       "      <td>919363.0</td>\n",
       "      <td>...</td>\n",
       "      <td>846909.334873</td>\n",
       "      <td>15504.170637</td>\n",
       "      <td>83544.298511</td>\n",
       "      <td>4.015</td>\n",
       "      <td>0.755</td>\n",
       "      <td>0.765</td>\n",
       "      <td>0.588</td>\n",
       "      <td>0.498</td>\n",
       "      <td>0.200</td>\n",
       "      <td>0.085</td>\n",
       "    </tr>\n",
       "    <tr>\n",
       "      <th>2</th>\n",
       "      <td>Brazil</td>\n",
       "      <td>South America</td>\n",
       "      <td>2.129539e+08</td>\n",
       "      <td>4918022</td>\n",
       "      <td>2733.0</td>\n",
       "      <td>146417.0</td>\n",
       "      <td>42.0</td>\n",
       "      <td>4263208.0</td>\n",
       "      <td>0.0</td>\n",
       "      <td>508397.0</td>\n",
       "      <td>...</td>\n",
       "      <td>866854.194634</td>\n",
       "      <td>29771.521966</td>\n",
       "      <td>274749.832402</td>\n",
       "      <td>6.300</td>\n",
       "      <td>1.004</td>\n",
       "      <td>1.439</td>\n",
       "      <td>0.802</td>\n",
       "      <td>0.390</td>\n",
       "      <td>0.099</td>\n",
       "      <td>0.086</td>\n",
       "    </tr>\n",
       "    <tr>\n",
       "      <th>3</th>\n",
       "      <td>Russia</td>\n",
       "      <td>Europe</td>\n",
       "      <td>1.459510e+08</td>\n",
       "      <td>1225889</td>\n",
       "      <td>10888.0</td>\n",
       "      <td>21475.0</td>\n",
       "      <td>117.0</td>\n",
       "      <td>982324.0</td>\n",
       "      <td>3181.0</td>\n",
       "      <td>222090.0</td>\n",
       "      <td>...</td>\n",
       "      <td>801315.616667</td>\n",
       "      <td>17517.899255</td>\n",
       "      <td>25516.844589</td>\n",
       "      <td>5.648</td>\n",
       "      <td>1.183</td>\n",
       "      <td>1.452</td>\n",
       "      <td>0.726</td>\n",
       "      <td>0.334</td>\n",
       "      <td>0.082</td>\n",
       "      <td>0.031</td>\n",
       "    </tr>\n",
       "    <tr>\n",
       "      <th>4</th>\n",
       "      <td>Colombia</td>\n",
       "      <td>South America</td>\n",
       "      <td>5.102364e+07</td>\n",
       "      <td>855052</td>\n",
       "      <td>0.0</td>\n",
       "      <td>26712.0</td>\n",
       "      <td>0.0</td>\n",
       "      <td>761674.0</td>\n",
       "      <td>0.0</td>\n",
       "      <td>66666.0</td>\n",
       "      <td>...</td>\n",
       "      <td>890792.606765</td>\n",
       "      <td>31240.205274</td>\n",
       "      <td>219565.625458</td>\n",
       "      <td>6.125</td>\n",
       "      <td>0.985</td>\n",
       "      <td>1.410</td>\n",
       "      <td>0.841</td>\n",
       "      <td>0.470</td>\n",
       "      <td>0.099</td>\n",
       "      <td>0.034</td>\n",
       "    </tr>\n",
       "    <tr>\n",
       "      <th>...</th>\n",
       "      <td>...</td>\n",
       "      <td>...</td>\n",
       "      <td>...</td>\n",
       "      <td>...</td>\n",
       "      <td>...</td>\n",
       "      <td>...</td>\n",
       "      <td>...</td>\n",
       "      <td>...</td>\n",
       "      <td>...</td>\n",
       "      <td>...</td>\n",
       "      <td>...</td>\n",
       "      <td>...</td>\n",
       "      <td>...</td>\n",
       "      <td>...</td>\n",
       "      <td>...</td>\n",
       "      <td>...</td>\n",
       "      <td>...</td>\n",
       "      <td>...</td>\n",
       "      <td>...</td>\n",
       "      <td>...</td>\n",
       "      <td>...</td>\n",
       "    </tr>\n",
       "    <tr>\n",
       "      <th>144</th>\n",
       "      <td>Mongolia</td>\n",
       "      <td>Asia</td>\n",
       "      <td>3.291861e+06</td>\n",
       "      <td>314</td>\n",
       "      <td>1.0</td>\n",
       "      <td>0.0</td>\n",
       "      <td>0.0</td>\n",
       "      <td>307.0</td>\n",
       "      <td>0.0</td>\n",
       "      <td>7.0</td>\n",
       "      <td>...</td>\n",
       "      <td>977707.006369</td>\n",
       "      <td>0.000000</td>\n",
       "      <td>4263.929061</td>\n",
       "      <td>5.285</td>\n",
       "      <td>0.948</td>\n",
       "      <td>1.531</td>\n",
       "      <td>0.667</td>\n",
       "      <td>0.317</td>\n",
       "      <td>0.235</td>\n",
       "      <td>0.038</td>\n",
       "    </tr>\n",
       "    <tr>\n",
       "      <th>145</th>\n",
       "      <td>Bhutan</td>\n",
       "      <td>Asia</td>\n",
       "      <td>7.738120e+05</td>\n",
       "      <td>298</td>\n",
       "      <td>15.0</td>\n",
       "      <td>0.0</td>\n",
       "      <td>0.0</td>\n",
       "      <td>237.0</td>\n",
       "      <td>7.0</td>\n",
       "      <td>61.0</td>\n",
       "      <td>...</td>\n",
       "      <td>795302.013423</td>\n",
       "      <td>0.000000</td>\n",
       "      <td>2091.081328</td>\n",
       "      <td>5.082</td>\n",
       "      <td>0.813</td>\n",
       "      <td>1.321</td>\n",
       "      <td>0.604</td>\n",
       "      <td>0.457</td>\n",
       "      <td>0.370</td>\n",
       "      <td>0.167</td>\n",
       "    </tr>\n",
       "    <tr>\n",
       "      <th>146</th>\n",
       "      <td>Cambodia</td>\n",
       "      <td>Asia</td>\n",
       "      <td>1.677868e+07</td>\n",
       "      <td>280</td>\n",
       "      <td>2.0</td>\n",
       "      <td>0.0</td>\n",
       "      <td>0.0</td>\n",
       "      <td>275.0</td>\n",
       "      <td>0.0</td>\n",
       "      <td>5.0</td>\n",
       "      <td>...</td>\n",
       "      <td>982142.857143</td>\n",
       "      <td>0.000000</td>\n",
       "      <td>1942.838904</td>\n",
       "      <td>4.700</td>\n",
       "      <td>0.574</td>\n",
       "      <td>1.122</td>\n",
       "      <td>0.637</td>\n",
       "      <td>0.609</td>\n",
       "      <td>0.232</td>\n",
       "      <td>0.062</td>\n",
       "    </tr>\n",
       "    <tr>\n",
       "      <th>147</th>\n",
       "      <td>Laos</td>\n",
       "      <td>Asia</td>\n",
       "      <td>7.302776e+06</td>\n",
       "      <td>23</td>\n",
       "      <td>0.0</td>\n",
       "      <td>0.0</td>\n",
       "      <td>0.0</td>\n",
       "      <td>22.0</td>\n",
       "      <td>0.0</td>\n",
       "      <td>1.0</td>\n",
       "      <td>...</td>\n",
       "      <td>956521.739130</td>\n",
       "      <td>0.000000</td>\n",
       "      <td>417.347124</td>\n",
       "      <td>4.796</td>\n",
       "      <td>0.764</td>\n",
       "      <td>1.030</td>\n",
       "      <td>0.551</td>\n",
       "      <td>0.547</td>\n",
       "      <td>0.266</td>\n",
       "      <td>0.164</td>\n",
       "    </tr>\n",
       "    <tr>\n",
       "      <th>148</th>\n",
       "      <td>China</td>\n",
       "      <td>Asia</td>\n",
       "      <td>1.439324e+09</td>\n",
       "      <td>85470</td>\n",
       "      <td>20.0</td>\n",
       "      <td>4634.0</td>\n",
       "      <td>0.0</td>\n",
       "      <td>80628.0</td>\n",
       "      <td>7.0</td>\n",
       "      <td>208.0</td>\n",
       "      <td>...</td>\n",
       "      <td>943348.543349</td>\n",
       "      <td>54217.854218</td>\n",
       "      <td>534.187500</td>\n",
       "      <td>5.191</td>\n",
       "      <td>1.029</td>\n",
       "      <td>1.125</td>\n",
       "      <td>0.893</td>\n",
       "      <td>0.521</td>\n",
       "      <td>0.058</td>\n",
       "      <td>0.100</td>\n",
       "    </tr>\n",
       "  </tbody>\n",
       "</table>\n",
       "<p>149 rows × 27 columns</p>\n",
       "</div>"
      ],
      "text/plain": [
       "    Country/Region      Continent    Population  TotalCases  NewCases  \\\n",
       "0              USA  North America  3.315104e+08     7667817   30905.0   \n",
       "1            India           Asia  1.383530e+09     6682073   59893.0   \n",
       "2           Brazil  South America  2.129539e+08     4918022    2733.0   \n",
       "3           Russia         Europe  1.459510e+08     1225889   10888.0   \n",
       "4         Colombia  South America  5.102364e+07      855052       0.0   \n",
       "..             ...            ...           ...         ...       ...   \n",
       "144       Mongolia           Asia  3.291861e+06         314       1.0   \n",
       "145         Bhutan           Asia  7.738120e+05         298      15.0   \n",
       "146       Cambodia           Asia  1.677868e+07         280       2.0   \n",
       "147           Laos           Asia  7.302776e+06          23       0.0   \n",
       "148          China           Asia  1.439324e+09       85470      20.0   \n",
       "\n",
       "     TotalDeaths  NewDeaths  TotalRecovered  NewRecovered  ActiveCases  ...  \\\n",
       "0       214884.0      273.0       4874445.0       25407.0    2578488.0  ...   \n",
       "1       103600.0      886.0       5659110.0       75657.0     919363.0  ...   \n",
       "2       146417.0       42.0       4263208.0           0.0     508397.0  ...   \n",
       "3        21475.0      117.0        982324.0        3181.0     222090.0  ...   \n",
       "4        26712.0        0.0        761674.0           0.0      66666.0  ...   \n",
       "..           ...        ...             ...           ...          ...  ...   \n",
       "144          0.0        0.0           307.0           0.0          7.0  ...   \n",
       "145          0.0        0.0           237.0           7.0         61.0  ...   \n",
       "146          0.0        0.0           275.0           0.0          5.0  ...   \n",
       "147          0.0        0.0            22.0           0.0          1.0  ...   \n",
       "148       4634.0        0.0         80628.0           7.0        208.0  ...   \n",
       "\n",
       "     Recovered/1M cases  Deaths/1M cases  Confirmed/1M tests  Score    GDP  \\\n",
       "0         635701.791005     28024.142986        68303.121916  6.892  1.433   \n",
       "1         846909.334873     15504.170637        83544.298511  4.015  0.755   \n",
       "2         866854.194634     29771.521966       274749.832402  6.300  1.004   \n",
       "3         801315.616667     17517.899255        25516.844589  5.648  1.183   \n",
       "4         890792.606765     31240.205274       219565.625458  6.125  0.985   \n",
       "..                  ...              ...                 ...    ...    ...   \n",
       "144       977707.006369         0.000000         4263.929061  5.285  0.948   \n",
       "145       795302.013423         0.000000         2091.081328  5.082  0.813   \n",
       "146       982142.857143         0.000000         1942.838904  4.700  0.574   \n",
       "147       956521.739130         0.000000          417.347124  4.796  0.764   \n",
       "148       943348.543349     54217.854218          534.187500  5.191  1.029   \n",
       "\n",
       "    Family  Life expectancy  Freedom  Generosity  Trust  \n",
       "0    1.457            0.874    0.454       0.280  0.128  \n",
       "1    0.765            0.588    0.498       0.200  0.085  \n",
       "2    1.439            0.802    0.390       0.099  0.086  \n",
       "3    1.452            0.726    0.334       0.082  0.031  \n",
       "4    1.410            0.841    0.470       0.099  0.034  \n",
       "..     ...              ...      ...         ...    ...  \n",
       "144  1.531            0.667    0.317       0.235  0.038  \n",
       "145  1.321            0.604    0.457       0.370  0.167  \n",
       "146  1.122            0.637    0.609       0.232  0.062  \n",
       "147  1.030            0.551    0.547       0.266  0.164  \n",
       "148  1.125            0.893    0.521       0.058  0.100  \n",
       "\n",
       "[149 rows x 27 columns]"
      ]
     },
     "execution_count": 52,
     "metadata": {},
     "output_type": "execute_result"
    }
   ],
   "source": [
    "df"
   ]
  },
  {
   "cell_type": "markdown",
   "metadata": {},
   "source": [
    "# Color palettes"
   ]
  },
  {
   "cell_type": "markdown",
   "metadata": {},
   "source": [
    "I use divik package to have consistent color theme for all palettes, no matter their length."
   ]
  },
  {
   "cell_type": "code",
   "execution_count": 22,
   "metadata": {},
   "outputs": [],
   "source": [
    "from ast import literal_eval as make_tuple\n",
    "from divik._inspect.color import make_colormap"
   ]
  },
  {
   "cell_type": "code",
   "execution_count": 23,
   "metadata": {
    "code_folding": [
     0
    ]
   },
   "outputs": [],
   "source": [
    "def make_palette(length):\n",
    "    l = [i for i in range(length)]\n",
    "    p = make_colormap(l)\n",
    "    palette = []\n",
    "    for i in p:\n",
    "        palette.append(i[1])\n",
    "    return palette"
   ]
  },
  {
   "cell_type": "markdown",
   "metadata": {},
   "source": [
    "## Regions"
   ]
  },
  {
   "cell_type": "markdown",
   "metadata": {},
   "source": [
    "This palette provides colors for:"
   ]
  },
  {
   "cell_type": "code",
   "execution_count": 24,
   "metadata": {},
   "outputs": [
    {
     "data": {
      "text/plain": [
       "array(['Americas', 'South-East Asia', 'Europe', 'Africa',\n",
       "       'Eastern Mediterranean', 'Western Pacific'], dtype=object)"
      ]
     },
     "execution_count": 24,
     "metadata": {},
     "output_type": "execute_result"
    }
   ],
   "source": [
    "worldometer[\"WHO Region\"].unique()"
   ]
  },
  {
   "cell_type": "code",
   "execution_count": 25,
   "metadata": {},
   "outputs": [],
   "source": [
    "region_palette = make_palette(len(worldometer[\"WHO Region\"].unique()))"
   ]
  },
  {
   "cell_type": "markdown",
   "metadata": {},
   "source": [
    "## Variable group"
   ]
  },
  {
   "cell_type": "code",
   "execution_count": 321,
   "metadata": {},
   "outputs": [],
   "source": [
    "var_palette = [\"1.\", \"2.\", \"3.\"]"
   ]
  },
  {
   "cell_type": "markdown",
   "metadata": {},
   "source": [
    "# Analyse correlation"
   ]
  },
  {
   "cell_type": "code",
   "execution_count": 322,
   "metadata": {
    "code_folding": [
     0
    ]
   },
   "outputs": [],
   "source": [
    "to_use=[['Tot Cases/1M pop', 'Deaths/1M pop', 'Tests/1M pop', 'Recovered/1M pop'],\n",
    "       ['Recovered/1M cases', 'Deaths/1M cases', 'Confirmed/1M tests'],\n",
    "       ['GDP', 'Family', 'Life expectancy', 'Freedom', 'Generosity', 'Trust']]"
   ]
  },
  {
   "cell_type": "code",
   "execution_count": 344,
   "metadata": {
    "code_folding": [
     0,
     12,
     23,
     25,
     31
    ]
   },
   "outputs": [],
   "source": [
    "def correlo(df, to_use, point_size, palette, title, height, width, fontsize, var_palette):\n",
    "    multicat = [var_palette[to_use.index(sublist)] for (sublist) in to_use for item in sublist]\n",
    "    dh = df[[item for sublist in to_use for item in sublist]]\n",
    "    corr = dh.corr()\n",
    "    x = [[i for _ in range(corr.shape[0])] for i in corr.index]\n",
    "    mx = [[i for _ in range(corr.shape[0])] for i in multicat]\n",
    "    x = [[j for sub in (mx) for j in sub],[j for sub in (x) for j in sub]]\n",
    "    y = [multicat* corr.shape[1], [i for i in corr.index] * corr.shape[1]]\n",
    "    size = [point_size * j for sub in (corr.values.tolist()) for j in sub]\n",
    "    size = [j if j >= 0 else -j for j in size]\n",
    "    colors = [j for sub in (corr.values.tolist()) for j in sub]\n",
    "\n",
    "    fig = go.Figure(data=go.Scatter(\n",
    "        y=y,\n",
    "        x=x,\n",
    "        mode='markers',\n",
    "        hovertext=colors,\n",
    "        hoverinfo=\"text\",\n",
    "        marker=dict(size=size,\n",
    "                    color=colors,\n",
    "                    colorbar=dict(title=\"Correlation\"),\n",
    "                    colorscale=palette, cmid=0)))   \n",
    "\n",
    "    fig.update_layout(\n",
    "        height=height, width=width, font=dict(size=fontsize), title=title)\n",
    "    fig.update_xaxes(\n",
    "        range=[0.5, corr.shape[0]-0.5],\n",
    "        showgrid=True,\n",
    "        ticks=\"outside\",\n",
    "        tickson=\"boundaries\",\n",
    "        ticklen=0)\n",
    "    fig.update_yaxes(\n",
    "        range=[0.5, corr.shape[0]-0.5],\n",
    "        showgrid=True,\n",
    "        ticks=\"outside\",\n",
    "        tickson=\"boundaries\",\n",
    "        ticklen=0)\n",
    "    return fig"
   ]
  },
  {
   "cell_type": "code",
   "execution_count": 345,
   "metadata": {},
   "outputs": [],
   "source": [
    "for_correlo = df.dropna()"
   ]
  },
  {
   "cell_type": "code",
   "execution_count": 348,
   "metadata": {
    "collapsed": true
   },
   "outputs": [
    {
     "data": {
      "application/vnd.plotly.v1+json": {
       "config": {
        "plotlyServerURL": "https://plot.ly"
       },
       "data": [
        {
         "hoverinfo": "text",
         "hovertext": [
          "1.0",
          "0.5930119533781258",
          "0.4128044813098252",
          "0.9517898773925396",
          "0.012718701717881193",
          "-0.05584969823056535",
          "0.23453353140845803",
          "0.4446652914012308",
          "0.3400953007444782",
          "0.37450369339945255",
          "0.18664084072169673",
          "-0.08550603384466833",
          "-0.013807075486636716",
          "0.5930119533781258",
          "1.0",
          "0.14539223049430963",
          "0.43225901611714224",
          "-0.2576113021555143",
          "0.34086505779382487",
          "0.3242279360825647",
          "0.3381707356695181",
          "0.3348108847458518",
          "0.38663999111409686",
          "0.13869629698845948",
          "-0.11565908927948627",
          "0.013787307900542218",
          "0.4128044813098252",
          "0.14539223049430963",
          "1.0",
          "0.38870050078916896",
          "0.013683672794617545",
          "-0.10970837091626257",
          "-0.2870937985809908",
          "0.5830815333611359",
          "0.4133302322521211",
          "0.4862165572109952",
          "0.31506588887763465",
          "0.1445282753611752",
          "0.3902926655064961",
          "0.9517898773925396",
          "0.43225901611714224",
          "0.38870050078916896",
          "1.0",
          "0.2302557955270729",
          "-0.11201495189244286",
          "0.22359184255255948",
          "0.3799349032702046",
          "0.2626946187741597",
          "0.2811913391390236",
          "0.17089613932560602",
          "-0.08501994181749613",
          "-0.04069716334199329",
          "0.012718701717881193",
          "-0.2576113021555143",
          "0.013683672794617545",
          "0.2302557955270729",
          "1.0",
          "-0.1868755719213529",
          "0.05102425061749178",
          "-0.08862299799309259",
          "-0.09573863396393967",
          "-0.13707914040193422",
          "0.061415370366067805",
          "-0.003955708194169689",
          "-0.07969152238424612",
          "-0.05584969823056535",
          "0.34086505779382487",
          "-0.10970837091626257",
          "-0.11201495189244286",
          "-0.1868755719213529",
          "1.0",
          "0.28334426042631855",
          "-0.07462791252801808",
          "0.010724151666606627",
          "-0.008679294321465391",
          "-0.13855776432262495",
          "-0.05186655402803224",
          "0.006923080022391548",
          "0.23453353140845803",
          "0.3242279360825647",
          "-0.2870937985809908",
          "0.22359184255255948",
          "0.05102425061749178",
          "0.28334426042631855",
          "1.0",
          "-0.2466787106557616",
          "-0.19773032828890685",
          "-0.2039947325050794",
          "-0.17322394296057492",
          "-0.13623205463840052",
          "-0.2644091270752056",
          "0.4446652914012308",
          "0.3381707356695181",
          "0.5830815333611359",
          "0.3799349032702046",
          "-0.08862299799309259",
          "-0.07462791252801808",
          "-0.2466787106557616",
          "1.0",
          "0.7581817968156124",
          "0.8491422262893947",
          "0.364513319427504",
          "-0.07838388891800324",
          "0.2903747264548697",
          "0.3400953007444782",
          "0.3348108847458518",
          "0.4133302322521211",
          "0.2626946187741597",
          "-0.09573863396393967",
          "0.010724151666606627",
          "-0.19773032828890685",
          "0.7581817968156124",
          "1.0",
          "0.7327204956871475",
          "0.4456185575810868",
          "-0.05153425115366372",
          "0.17788501836972584",
          "0.37450369339945255",
          "0.38663999111409686",
          "0.4862165572109952",
          "0.2811913391390236",
          "-0.13707914040193422",
          "-0.008679294321465391",
          "-0.2039947325050794",
          "0.8491422262893947",
          "0.7327204956871475",
          "1.0",
          "0.3780874893526948",
          "-0.049324629928103714",
          "0.2977333761374477",
          "0.18664084072169673",
          "0.13869629698845948",
          "0.31506588887763465",
          "0.17089613932560602",
          "0.061415370366067805",
          "-0.13855776432262495",
          "-0.17322394296057492",
          "0.364513319427504",
          "0.4456185575810868",
          "0.3780874893526948",
          "1.0",
          "0.2723826835920293",
          "0.4433520911922528",
          "-0.08550603384466833",
          "-0.11565908927948627",
          "0.1445282753611752",
          "-0.08501994181749613",
          "-0.003955708194169689",
          "-0.05186655402803224",
          "-0.13623205463840052",
          "-0.07838388891800324",
          "-0.05153425115366372",
          "-0.049324629928103714",
          "0.2723826835920293",
          "1.0",
          "0.3481571568745501",
          "-0.013807075486636716",
          "0.013787307900542218",
          "0.3902926655064961",
          "-0.04069716334199329",
          "-0.07969152238424612",
          "0.006923080022391548",
          "-0.2644091270752056",
          "0.2903747264548697",
          "0.17788501836972584",
          "0.2977333761374477",
          "0.4433520911922528",
          "0.3481571568745501",
          "1.0"
         ],
         "marker": {
          "cmid": 0,
          "color": [
           1,
           0.5930119533781258,
           0.4128044813098252,
           0.9517898773925396,
           0.012718701717881193,
           -0.05584969823056535,
           0.23453353140845803,
           0.4446652914012308,
           0.3400953007444782,
           0.37450369339945255,
           0.18664084072169673,
           -0.08550603384466833,
           -0.013807075486636716,
           0.5930119533781258,
           1,
           0.14539223049430963,
           0.43225901611714224,
           -0.2576113021555143,
           0.34086505779382487,
           0.3242279360825647,
           0.3381707356695181,
           0.3348108847458518,
           0.38663999111409686,
           0.13869629698845948,
           -0.11565908927948627,
           0.013787307900542218,
           0.4128044813098252,
           0.14539223049430963,
           1,
           0.38870050078916896,
           0.013683672794617545,
           -0.10970837091626257,
           -0.2870937985809908,
           0.5830815333611359,
           0.4133302322521211,
           0.4862165572109952,
           0.31506588887763465,
           0.1445282753611752,
           0.3902926655064961,
           0.9517898773925396,
           0.43225901611714224,
           0.38870050078916896,
           1,
           0.2302557955270729,
           -0.11201495189244286,
           0.22359184255255948,
           0.3799349032702046,
           0.2626946187741597,
           0.2811913391390236,
           0.17089613932560602,
           -0.08501994181749613,
           -0.04069716334199329,
           0.012718701717881193,
           -0.2576113021555143,
           0.013683672794617545,
           0.2302557955270729,
           1,
           -0.1868755719213529,
           0.05102425061749178,
           -0.08862299799309259,
           -0.09573863396393967,
           -0.13707914040193422,
           0.061415370366067805,
           -0.003955708194169689,
           -0.07969152238424612,
           -0.05584969823056535,
           0.34086505779382487,
           -0.10970837091626257,
           -0.11201495189244286,
           -0.1868755719213529,
           1,
           0.28334426042631855,
           -0.07462791252801808,
           0.010724151666606627,
           -0.008679294321465391,
           -0.13855776432262495,
           -0.05186655402803224,
           0.006923080022391548,
           0.23453353140845803,
           0.3242279360825647,
           -0.2870937985809908,
           0.22359184255255948,
           0.05102425061749178,
           0.28334426042631855,
           1,
           -0.2466787106557616,
           -0.19773032828890685,
           -0.2039947325050794,
           -0.17322394296057492,
           -0.13623205463840052,
           -0.2644091270752056,
           0.4446652914012308,
           0.3381707356695181,
           0.5830815333611359,
           0.3799349032702046,
           -0.08862299799309259,
           -0.07462791252801808,
           -0.2466787106557616,
           1,
           0.7581817968156124,
           0.8491422262893947,
           0.364513319427504,
           -0.07838388891800324,
           0.2903747264548697,
           0.3400953007444782,
           0.3348108847458518,
           0.4133302322521211,
           0.2626946187741597,
           -0.09573863396393967,
           0.010724151666606627,
           -0.19773032828890685,
           0.7581817968156124,
           1,
           0.7327204956871475,
           0.4456185575810868,
           -0.05153425115366372,
           0.17788501836972584,
           0.37450369339945255,
           0.38663999111409686,
           0.4862165572109952,
           0.2811913391390236,
           -0.13707914040193422,
           -0.008679294321465391,
           -0.2039947325050794,
           0.8491422262893947,
           0.7327204956871475,
           1,
           0.3780874893526948,
           -0.049324629928103714,
           0.2977333761374477,
           0.18664084072169673,
           0.13869629698845948,
           0.31506588887763465,
           0.17089613932560602,
           0.061415370366067805,
           -0.13855776432262495,
           -0.17322394296057492,
           0.364513319427504,
           0.4456185575810868,
           0.3780874893526948,
           1,
           0.2723826835920293,
           0.4433520911922528,
           -0.08550603384466833,
           -0.11565908927948627,
           0.1445282753611752,
           -0.08501994181749613,
           -0.003955708194169689,
           -0.05186655402803224,
           -0.13623205463840052,
           -0.07838388891800324,
           -0.05153425115366372,
           -0.049324629928103714,
           0.2723826835920293,
           1,
           0.3481571568745501,
           -0.013807075486636716,
           0.013787307900542218,
           0.3902926655064961,
           -0.04069716334199329,
           -0.07969152238424612,
           0.006923080022391548,
           -0.2644091270752056,
           0.2903747264548697,
           0.17788501836972584,
           0.2977333761374477,
           0.4433520911922528,
           0.3481571568745501,
           1
          ],
          "colorbar": {
           "title": {
            "text": "Correlation"
           }
          },
          "colorscale": [
           [
            0,
            "rgb(5,48,97)"
           ],
           [
            0.1,
            "rgb(33,102,172)"
           ],
           [
            0.2,
            "rgb(67,147,195)"
           ],
           [
            0.3,
            "rgb(146,197,222)"
           ],
           [
            0.4,
            "rgb(209,229,240)"
           ],
           [
            0.5,
            "rgb(247,247,247)"
           ],
           [
            0.6,
            "rgb(253,219,199)"
           ],
           [
            0.7,
            "rgb(244,165,130)"
           ],
           [
            0.8,
            "rgb(214,96,77)"
           ],
           [
            0.9,
            "rgb(178,24,43)"
           ],
           [
            1,
            "rgb(103,0,31)"
           ]
          ],
          "size": [
           46,
           27.278549855393788,
           18.98900614025196,
           43.78233436005682,
           0.5850602790225349,
           2.569086118606006,
           10.78854244478907,
           20.454603404456616,
           15.644383834245996,
           17.227169896374818,
           8.58547867319805,
           3.933277556854743,
           0.6351254723852889,
           27.278549855393788,
           46,
           6.688042602738243,
           19.883914741388544,
           11.850119899153658,
           15.679792658515943,
           14.914485059797977,
           15.555853840797832,
           15.401300698309182,
           17.785439591248455,
           6.380029661469136,
           5.3203181068563685,
           0.634216163424942,
           18.98900614025196,
           6.688042602738243,
           46,
           17.88022303630177,
           0.6294489485524071,
           5.046585062148078,
           13.206314734725577,
           26.82175053461225,
           19.01319068359757,
           22.36596163170578,
           14.493030888371194,
           6.64830066661406,
           17.95346261329882,
           43.78233436005682,
           19.883914741388544,
           17.88022303630177,
           46,
           10.591766594245353,
           5.152687787052371,
           10.285224757417737,
           17.477005550429414,
           12.083952463611347,
           12.934801600395087,
           7.861222408977877,
           3.910917323604822,
           1.8720695137316914,
           0.5850602790225349,
           11.850119899153658,
           0.6294489485524071,
           10.591766594245353,
           46,
           8.596276308382233,
           2.347115528404622,
           4.076657907682259,
           4.403977162341224,
           6.305640458488974,
           2.825107036839119,
           0.18196257693180568,
           3.6658100296753218,
           2.569086118606006,
           15.679792658515943,
           5.046585062148078,
           5.152687787052371,
           8.596276308382233,
           46,
           13.033835979610654,
           3.4328839762888315,
           0.49331097666390483,
           0.399247538787408,
           6.373657158840748,
           2.385861485289483,
           0.3184616810300112,
           10.78854244478907,
           14.914485059797977,
           13.206314734725577,
           10.285224757417737,
           2.347115528404622,
           13.033835979610654,
           46,
           11.347220690165035,
           9.095595101289716,
           9.383757695233653,
           7.968301376186446,
           6.266674513366424,
           12.162819845459456,
           20.454603404456616,
           15.555853840797832,
           26.82175053461225,
           17.477005550429414,
           4.076657907682259,
           3.4328839762888315,
           11.347220690165035,
           46,
           34.87636265351817,
           39.060542409312156,
           16.767612693665182,
           3.605658890228149,
           13.357237416924008,
           15.644383834245996,
           15.401300698309182,
           19.01319068359757,
           12.083952463611347,
           4.403977162341224,
           0.49331097666390483,
           9.095595101289716,
           34.87636265351817,
           46,
           33.70514280160879,
           20.498453648729992,
           2.370575553068531,
           8.182710845007389,
           17.227169896374818,
           17.785439591248455,
           22.36596163170578,
           12.934801600395087,
           6.305640458488974,
           0.399247538787408,
           9.383757695233653,
           39.060542409312156,
           33.70514280160879,
           46,
           17.392024510223962,
           2.2689329766927706,
           13.695735302322595,
           8.58547867319805,
           6.380029661469136,
           14.493030888371194,
           7.861222408977877,
           2.825107036839119,
           6.373657158840748,
           7.968301376186446,
           16.767612693665182,
           20.498453648729992,
           17.392024510223962,
           46,
           12.529603445233347,
           20.394196194843627,
           3.933277556854743,
           5.3203181068563685,
           6.64830066661406,
           3.910917323604822,
           0.18196257693180568,
           2.385861485289483,
           6.266674513366424,
           3.605658890228149,
           2.370575553068531,
           2.2689329766927706,
           12.529603445233347,
           46,
           16.015229216229304,
           0.6351254723852889,
           0.634216163424942,
           17.95346261329882,
           1.8720695137316914,
           3.6658100296753218,
           0.3184616810300112,
           12.162819845459456,
           13.357237416924008,
           8.182710845007389,
           13.695735302322595,
           20.394196194843627,
           16.015229216229304,
           46
          ]
         },
         "mode": "markers",
         "type": "scatter",
         "x": [
          [
           "1.",
           "1.",
           "1.",
           "1.",
           "1.",
           "1.",
           "1.",
           "1.",
           "1.",
           "1.",
           "1.",
           "1.",
           "1.",
           "1.",
           "1.",
           "1.",
           "1.",
           "1.",
           "1.",
           "1.",
           "1.",
           "1.",
           "1.",
           "1.",
           "1.",
           "1.",
           "1.",
           "1.",
           "1.",
           "1.",
           "1.",
           "1.",
           "1.",
           "1.",
           "1.",
           "1.",
           "1.",
           "1.",
           "1.",
           "1.",
           "1.",
           "1.",
           "1.",
           "1.",
           "1.",
           "1.",
           "1.",
           "1.",
           "1.",
           "1.",
           "1.",
           "1.",
           "2.",
           "2.",
           "2.",
           "2.",
           "2.",
           "2.",
           "2.",
           "2.",
           "2.",
           "2.",
           "2.",
           "2.",
           "2.",
           "2.",
           "2.",
           "2.",
           "2.",
           "2.",
           "2.",
           "2.",
           "2.",
           "2.",
           "2.",
           "2.",
           "2.",
           "2.",
           "2.",
           "2.",
           "2.",
           "2.",
           "2.",
           "2.",
           "2.",
           "2.",
           "2.",
           "2.",
           "2.",
           "2.",
           "2.",
           "3.",
           "3.",
           "3.",
           "3.",
           "3.",
           "3.",
           "3.",
           "3.",
           "3.",
           "3.",
           "3.",
           "3.",
           "3.",
           "3.",
           "3.",
           "3.",
           "3.",
           "3.",
           "3.",
           "3.",
           "3.",
           "3.",
           "3.",
           "3.",
           "3.",
           "3.",
           "3.",
           "3.",
           "3.",
           "3.",
           "3.",
           "3.",
           "3.",
           "3.",
           "3.",
           "3.",
           "3.",
           "3.",
           "3.",
           "3.",
           "3.",
           "3.",
           "3.",
           "3.",
           "3.",
           "3.",
           "3.",
           "3.",
           "3.",
           "3.",
           "3.",
           "3.",
           "3.",
           "3.",
           "3.",
           "3.",
           "3.",
           "3.",
           "3.",
           "3.",
           "3.",
           "3.",
           "3.",
           "3.",
           "3.",
           "3.",
           "3.",
           "3.",
           "3.",
           "3.",
           "3.",
           "3.",
           "3.",
           "3.",
           "3.",
           "3.",
           "3.",
           "3."
          ],
          [
           "Tot Cases/1M pop",
           "Tot Cases/1M pop",
           "Tot Cases/1M pop",
           "Tot Cases/1M pop",
           "Tot Cases/1M pop",
           "Tot Cases/1M pop",
           "Tot Cases/1M pop",
           "Tot Cases/1M pop",
           "Tot Cases/1M pop",
           "Tot Cases/1M pop",
           "Tot Cases/1M pop",
           "Tot Cases/1M pop",
           "Tot Cases/1M pop",
           "Deaths/1M pop",
           "Deaths/1M pop",
           "Deaths/1M pop",
           "Deaths/1M pop",
           "Deaths/1M pop",
           "Deaths/1M pop",
           "Deaths/1M pop",
           "Deaths/1M pop",
           "Deaths/1M pop",
           "Deaths/1M pop",
           "Deaths/1M pop",
           "Deaths/1M pop",
           "Deaths/1M pop",
           "Tests/1M pop",
           "Tests/1M pop",
           "Tests/1M pop",
           "Tests/1M pop",
           "Tests/1M pop",
           "Tests/1M pop",
           "Tests/1M pop",
           "Tests/1M pop",
           "Tests/1M pop",
           "Tests/1M pop",
           "Tests/1M pop",
           "Tests/1M pop",
           "Tests/1M pop",
           "Recovered/1M pop",
           "Recovered/1M pop",
           "Recovered/1M pop",
           "Recovered/1M pop",
           "Recovered/1M pop",
           "Recovered/1M pop",
           "Recovered/1M pop",
           "Recovered/1M pop",
           "Recovered/1M pop",
           "Recovered/1M pop",
           "Recovered/1M pop",
           "Recovered/1M pop",
           "Recovered/1M pop",
           "Recovered/1M cases",
           "Recovered/1M cases",
           "Recovered/1M cases",
           "Recovered/1M cases",
           "Recovered/1M cases",
           "Recovered/1M cases",
           "Recovered/1M cases",
           "Recovered/1M cases",
           "Recovered/1M cases",
           "Recovered/1M cases",
           "Recovered/1M cases",
           "Recovered/1M cases",
           "Recovered/1M cases",
           "Deaths/1M cases",
           "Deaths/1M cases",
           "Deaths/1M cases",
           "Deaths/1M cases",
           "Deaths/1M cases",
           "Deaths/1M cases",
           "Deaths/1M cases",
           "Deaths/1M cases",
           "Deaths/1M cases",
           "Deaths/1M cases",
           "Deaths/1M cases",
           "Deaths/1M cases",
           "Deaths/1M cases",
           "Confirmed/1M tests",
           "Confirmed/1M tests",
           "Confirmed/1M tests",
           "Confirmed/1M tests",
           "Confirmed/1M tests",
           "Confirmed/1M tests",
           "Confirmed/1M tests",
           "Confirmed/1M tests",
           "Confirmed/1M tests",
           "Confirmed/1M tests",
           "Confirmed/1M tests",
           "Confirmed/1M tests",
           "Confirmed/1M tests",
           "GDP",
           "GDP",
           "GDP",
           "GDP",
           "GDP",
           "GDP",
           "GDP",
           "GDP",
           "GDP",
           "GDP",
           "GDP",
           "GDP",
           "GDP",
           "Family",
           "Family",
           "Family",
           "Family",
           "Family",
           "Family",
           "Family",
           "Family",
           "Family",
           "Family",
           "Family",
           "Family",
           "Family",
           "Life expectancy",
           "Life expectancy",
           "Life expectancy",
           "Life expectancy",
           "Life expectancy",
           "Life expectancy",
           "Life expectancy",
           "Life expectancy",
           "Life expectancy",
           "Life expectancy",
           "Life expectancy",
           "Life expectancy",
           "Life expectancy",
           "Freedom",
           "Freedom",
           "Freedom",
           "Freedom",
           "Freedom",
           "Freedom",
           "Freedom",
           "Freedom",
           "Freedom",
           "Freedom",
           "Freedom",
           "Freedom",
           "Freedom",
           "Generosity",
           "Generosity",
           "Generosity",
           "Generosity",
           "Generosity",
           "Generosity",
           "Generosity",
           "Generosity",
           "Generosity",
           "Generosity",
           "Generosity",
           "Generosity",
           "Generosity",
           "Trust",
           "Trust",
           "Trust",
           "Trust",
           "Trust",
           "Trust",
           "Trust",
           "Trust",
           "Trust",
           "Trust",
           "Trust",
           "Trust",
           "Trust"
          ]
         ],
         "y": [
          [
           "1.",
           "1.",
           "1.",
           "1.",
           "2.",
           "2.",
           "2.",
           "3.",
           "3.",
           "3.",
           "3.",
           "3.",
           "3.",
           "1.",
           "1.",
           "1.",
           "1.",
           "2.",
           "2.",
           "2.",
           "3.",
           "3.",
           "3.",
           "3.",
           "3.",
           "3.",
           "1.",
           "1.",
           "1.",
           "1.",
           "2.",
           "2.",
           "2.",
           "3.",
           "3.",
           "3.",
           "3.",
           "3.",
           "3.",
           "1.",
           "1.",
           "1.",
           "1.",
           "2.",
           "2.",
           "2.",
           "3.",
           "3.",
           "3.",
           "3.",
           "3.",
           "3.",
           "1.",
           "1.",
           "1.",
           "1.",
           "2.",
           "2.",
           "2.",
           "3.",
           "3.",
           "3.",
           "3.",
           "3.",
           "3.",
           "1.",
           "1.",
           "1.",
           "1.",
           "2.",
           "2.",
           "2.",
           "3.",
           "3.",
           "3.",
           "3.",
           "3.",
           "3.",
           "1.",
           "1.",
           "1.",
           "1.",
           "2.",
           "2.",
           "2.",
           "3.",
           "3.",
           "3.",
           "3.",
           "3.",
           "3.",
           "1.",
           "1.",
           "1.",
           "1.",
           "2.",
           "2.",
           "2.",
           "3.",
           "3.",
           "3.",
           "3.",
           "3.",
           "3.",
           "1.",
           "1.",
           "1.",
           "1.",
           "2.",
           "2.",
           "2.",
           "3.",
           "3.",
           "3.",
           "3.",
           "3.",
           "3.",
           "1.",
           "1.",
           "1.",
           "1.",
           "2.",
           "2.",
           "2.",
           "3.",
           "3.",
           "3.",
           "3.",
           "3.",
           "3.",
           "1.",
           "1.",
           "1.",
           "1.",
           "2.",
           "2.",
           "2.",
           "3.",
           "3.",
           "3.",
           "3.",
           "3.",
           "3.",
           "1.",
           "1.",
           "1.",
           "1.",
           "2.",
           "2.",
           "2.",
           "3.",
           "3.",
           "3.",
           "3.",
           "3.",
           "3.",
           "1.",
           "1.",
           "1.",
           "1.",
           "2.",
           "2.",
           "2.",
           "3.",
           "3.",
           "3.",
           "3.",
           "3.",
           "3."
          ],
          [
           "Tot Cases/1M pop",
           "Deaths/1M pop",
           "Tests/1M pop",
           "Recovered/1M pop",
           "Recovered/1M cases",
           "Deaths/1M cases",
           "Confirmed/1M tests",
           "GDP",
           "Family",
           "Life expectancy",
           "Freedom",
           "Generosity",
           "Trust",
           "Tot Cases/1M pop",
           "Deaths/1M pop",
           "Tests/1M pop",
           "Recovered/1M pop",
           "Recovered/1M cases",
           "Deaths/1M cases",
           "Confirmed/1M tests",
           "GDP",
           "Family",
           "Life expectancy",
           "Freedom",
           "Generosity",
           "Trust",
           "Tot Cases/1M pop",
           "Deaths/1M pop",
           "Tests/1M pop",
           "Recovered/1M pop",
           "Recovered/1M cases",
           "Deaths/1M cases",
           "Confirmed/1M tests",
           "GDP",
           "Family",
           "Life expectancy",
           "Freedom",
           "Generosity",
           "Trust",
           "Tot Cases/1M pop",
           "Deaths/1M pop",
           "Tests/1M pop",
           "Recovered/1M pop",
           "Recovered/1M cases",
           "Deaths/1M cases",
           "Confirmed/1M tests",
           "GDP",
           "Family",
           "Life expectancy",
           "Freedom",
           "Generosity",
           "Trust",
           "Tot Cases/1M pop",
           "Deaths/1M pop",
           "Tests/1M pop",
           "Recovered/1M pop",
           "Recovered/1M cases",
           "Deaths/1M cases",
           "Confirmed/1M tests",
           "GDP",
           "Family",
           "Life expectancy",
           "Freedom",
           "Generosity",
           "Trust",
           "Tot Cases/1M pop",
           "Deaths/1M pop",
           "Tests/1M pop",
           "Recovered/1M pop",
           "Recovered/1M cases",
           "Deaths/1M cases",
           "Confirmed/1M tests",
           "GDP",
           "Family",
           "Life expectancy",
           "Freedom",
           "Generosity",
           "Trust",
           "Tot Cases/1M pop",
           "Deaths/1M pop",
           "Tests/1M pop",
           "Recovered/1M pop",
           "Recovered/1M cases",
           "Deaths/1M cases",
           "Confirmed/1M tests",
           "GDP",
           "Family",
           "Life expectancy",
           "Freedom",
           "Generosity",
           "Trust",
           "Tot Cases/1M pop",
           "Deaths/1M pop",
           "Tests/1M pop",
           "Recovered/1M pop",
           "Recovered/1M cases",
           "Deaths/1M cases",
           "Confirmed/1M tests",
           "GDP",
           "Family",
           "Life expectancy",
           "Freedom",
           "Generosity",
           "Trust",
           "Tot Cases/1M pop",
           "Deaths/1M pop",
           "Tests/1M pop",
           "Recovered/1M pop",
           "Recovered/1M cases",
           "Deaths/1M cases",
           "Confirmed/1M tests",
           "GDP",
           "Family",
           "Life expectancy",
           "Freedom",
           "Generosity",
           "Trust",
           "Tot Cases/1M pop",
           "Deaths/1M pop",
           "Tests/1M pop",
           "Recovered/1M pop",
           "Recovered/1M cases",
           "Deaths/1M cases",
           "Confirmed/1M tests",
           "GDP",
           "Family",
           "Life expectancy",
           "Freedom",
           "Generosity",
           "Trust",
           "Tot Cases/1M pop",
           "Deaths/1M pop",
           "Tests/1M pop",
           "Recovered/1M pop",
           "Recovered/1M cases",
           "Deaths/1M cases",
           "Confirmed/1M tests",
           "GDP",
           "Family",
           "Life expectancy",
           "Freedom",
           "Generosity",
           "Trust",
           "Tot Cases/1M pop",
           "Deaths/1M pop",
           "Tests/1M pop",
           "Recovered/1M pop",
           "Recovered/1M cases",
           "Deaths/1M cases",
           "Confirmed/1M tests",
           "GDP",
           "Family",
           "Life expectancy",
           "Freedom",
           "Generosity",
           "Trust",
           "Tot Cases/1M pop",
           "Deaths/1M pop",
           "Tests/1M pop",
           "Recovered/1M pop",
           "Recovered/1M cases",
           "Deaths/1M cases",
           "Confirmed/1M tests",
           "GDP",
           "Family",
           "Life expectancy",
           "Freedom",
           "Generosity",
           "Trust"
          ]
         ]
        }
       ],
       "layout": {
        "font": {
         "size": 15
        },
        "height": 885,
        "template": {
         "data": {
          "bar": [
           {
            "error_x": {
             "color": "#2a3f5f"
            },
            "error_y": {
             "color": "#2a3f5f"
            },
            "marker": {
             "line": {
              "color": "#E5ECF6",
              "width": 0.5
             }
            },
            "type": "bar"
           }
          ],
          "barpolar": [
           {
            "marker": {
             "line": {
              "color": "#E5ECF6",
              "width": 0.5
             }
            },
            "type": "barpolar"
           }
          ],
          "carpet": [
           {
            "aaxis": {
             "endlinecolor": "#2a3f5f",
             "gridcolor": "white",
             "linecolor": "white",
             "minorgridcolor": "white",
             "startlinecolor": "#2a3f5f"
            },
            "baxis": {
             "endlinecolor": "#2a3f5f",
             "gridcolor": "white",
             "linecolor": "white",
             "minorgridcolor": "white",
             "startlinecolor": "#2a3f5f"
            },
            "type": "carpet"
           }
          ],
          "choropleth": [
           {
            "colorbar": {
             "outlinewidth": 0,
             "ticks": ""
            },
            "type": "choropleth"
           }
          ],
          "contour": [
           {
            "colorbar": {
             "outlinewidth": 0,
             "ticks": ""
            },
            "colorscale": [
             [
              0,
              "#0d0887"
             ],
             [
              0.1111111111111111,
              "#46039f"
             ],
             [
              0.2222222222222222,
              "#7201a8"
             ],
             [
              0.3333333333333333,
              "#9c179e"
             ],
             [
              0.4444444444444444,
              "#bd3786"
             ],
             [
              0.5555555555555556,
              "#d8576b"
             ],
             [
              0.6666666666666666,
              "#ed7953"
             ],
             [
              0.7777777777777778,
              "#fb9f3a"
             ],
             [
              0.8888888888888888,
              "#fdca26"
             ],
             [
              1,
              "#f0f921"
             ]
            ],
            "type": "contour"
           }
          ],
          "contourcarpet": [
           {
            "colorbar": {
             "outlinewidth": 0,
             "ticks": ""
            },
            "type": "contourcarpet"
           }
          ],
          "heatmap": [
           {
            "colorbar": {
             "outlinewidth": 0,
             "ticks": ""
            },
            "colorscale": [
             [
              0,
              "#0d0887"
             ],
             [
              0.1111111111111111,
              "#46039f"
             ],
             [
              0.2222222222222222,
              "#7201a8"
             ],
             [
              0.3333333333333333,
              "#9c179e"
             ],
             [
              0.4444444444444444,
              "#bd3786"
             ],
             [
              0.5555555555555556,
              "#d8576b"
             ],
             [
              0.6666666666666666,
              "#ed7953"
             ],
             [
              0.7777777777777778,
              "#fb9f3a"
             ],
             [
              0.8888888888888888,
              "#fdca26"
             ],
             [
              1,
              "#f0f921"
             ]
            ],
            "type": "heatmap"
           }
          ],
          "heatmapgl": [
           {
            "colorbar": {
             "outlinewidth": 0,
             "ticks": ""
            },
            "colorscale": [
             [
              0,
              "#0d0887"
             ],
             [
              0.1111111111111111,
              "#46039f"
             ],
             [
              0.2222222222222222,
              "#7201a8"
             ],
             [
              0.3333333333333333,
              "#9c179e"
             ],
             [
              0.4444444444444444,
              "#bd3786"
             ],
             [
              0.5555555555555556,
              "#d8576b"
             ],
             [
              0.6666666666666666,
              "#ed7953"
             ],
             [
              0.7777777777777778,
              "#fb9f3a"
             ],
             [
              0.8888888888888888,
              "#fdca26"
             ],
             [
              1,
              "#f0f921"
             ]
            ],
            "type": "heatmapgl"
           }
          ],
          "histogram": [
           {
            "marker": {
             "colorbar": {
              "outlinewidth": 0,
              "ticks": ""
             }
            },
            "type": "histogram"
           }
          ],
          "histogram2d": [
           {
            "colorbar": {
             "outlinewidth": 0,
             "ticks": ""
            },
            "colorscale": [
             [
              0,
              "#0d0887"
             ],
             [
              0.1111111111111111,
              "#46039f"
             ],
             [
              0.2222222222222222,
              "#7201a8"
             ],
             [
              0.3333333333333333,
              "#9c179e"
             ],
             [
              0.4444444444444444,
              "#bd3786"
             ],
             [
              0.5555555555555556,
              "#d8576b"
             ],
             [
              0.6666666666666666,
              "#ed7953"
             ],
             [
              0.7777777777777778,
              "#fb9f3a"
             ],
             [
              0.8888888888888888,
              "#fdca26"
             ],
             [
              1,
              "#f0f921"
             ]
            ],
            "type": "histogram2d"
           }
          ],
          "histogram2dcontour": [
           {
            "colorbar": {
             "outlinewidth": 0,
             "ticks": ""
            },
            "colorscale": [
             [
              0,
              "#0d0887"
             ],
             [
              0.1111111111111111,
              "#46039f"
             ],
             [
              0.2222222222222222,
              "#7201a8"
             ],
             [
              0.3333333333333333,
              "#9c179e"
             ],
             [
              0.4444444444444444,
              "#bd3786"
             ],
             [
              0.5555555555555556,
              "#d8576b"
             ],
             [
              0.6666666666666666,
              "#ed7953"
             ],
             [
              0.7777777777777778,
              "#fb9f3a"
             ],
             [
              0.8888888888888888,
              "#fdca26"
             ],
             [
              1,
              "#f0f921"
             ]
            ],
            "type": "histogram2dcontour"
           }
          ],
          "mesh3d": [
           {
            "colorbar": {
             "outlinewidth": 0,
             "ticks": ""
            },
            "type": "mesh3d"
           }
          ],
          "parcoords": [
           {
            "line": {
             "colorbar": {
              "outlinewidth": 0,
              "ticks": ""
             }
            },
            "type": "parcoords"
           }
          ],
          "pie": [
           {
            "automargin": true,
            "type": "pie"
           }
          ],
          "scatter": [
           {
            "marker": {
             "colorbar": {
              "outlinewidth": 0,
              "ticks": ""
             }
            },
            "type": "scatter"
           }
          ],
          "scatter3d": [
           {
            "line": {
             "colorbar": {
              "outlinewidth": 0,
              "ticks": ""
             }
            },
            "marker": {
             "colorbar": {
              "outlinewidth": 0,
              "ticks": ""
             }
            },
            "type": "scatter3d"
           }
          ],
          "scattercarpet": [
           {
            "marker": {
             "colorbar": {
              "outlinewidth": 0,
              "ticks": ""
             }
            },
            "type": "scattercarpet"
           }
          ],
          "scattergeo": [
           {
            "marker": {
             "colorbar": {
              "outlinewidth": 0,
              "ticks": ""
             }
            },
            "type": "scattergeo"
           }
          ],
          "scattergl": [
           {
            "marker": {
             "colorbar": {
              "outlinewidth": 0,
              "ticks": ""
             }
            },
            "type": "scattergl"
           }
          ],
          "scattermapbox": [
           {
            "marker": {
             "colorbar": {
              "outlinewidth": 0,
              "ticks": ""
             }
            },
            "type": "scattermapbox"
           }
          ],
          "scatterpolar": [
           {
            "marker": {
             "colorbar": {
              "outlinewidth": 0,
              "ticks": ""
             }
            },
            "type": "scatterpolar"
           }
          ],
          "scatterpolargl": [
           {
            "marker": {
             "colorbar": {
              "outlinewidth": 0,
              "ticks": ""
             }
            },
            "type": "scatterpolargl"
           }
          ],
          "scatterternary": [
           {
            "marker": {
             "colorbar": {
              "outlinewidth": 0,
              "ticks": ""
             }
            },
            "type": "scatterternary"
           }
          ],
          "surface": [
           {
            "colorbar": {
             "outlinewidth": 0,
             "ticks": ""
            },
            "colorscale": [
             [
              0,
              "#0d0887"
             ],
             [
              0.1111111111111111,
              "#46039f"
             ],
             [
              0.2222222222222222,
              "#7201a8"
             ],
             [
              0.3333333333333333,
              "#9c179e"
             ],
             [
              0.4444444444444444,
              "#bd3786"
             ],
             [
              0.5555555555555556,
              "#d8576b"
             ],
             [
              0.6666666666666666,
              "#ed7953"
             ],
             [
              0.7777777777777778,
              "#fb9f3a"
             ],
             [
              0.8888888888888888,
              "#fdca26"
             ],
             [
              1,
              "#f0f921"
             ]
            ],
            "type": "surface"
           }
          ],
          "table": [
           {
            "cells": {
             "fill": {
              "color": "#EBF0F8"
             },
             "line": {
              "color": "white"
             }
            },
            "header": {
             "fill": {
              "color": "#C8D4E3"
             },
             "line": {
              "color": "white"
             }
            },
            "type": "table"
           }
          ]
         },
         "layout": {
          "annotationdefaults": {
           "arrowcolor": "#2a3f5f",
           "arrowhead": 0,
           "arrowwidth": 1
          },
          "coloraxis": {
           "colorbar": {
            "outlinewidth": 0,
            "ticks": ""
           }
          },
          "colorscale": {
           "diverging": [
            [
             0,
             "#8e0152"
            ],
            [
             0.1,
             "#c51b7d"
            ],
            [
             0.2,
             "#de77ae"
            ],
            [
             0.3,
             "#f1b6da"
            ],
            [
             0.4,
             "#fde0ef"
            ],
            [
             0.5,
             "#f7f7f7"
            ],
            [
             0.6,
             "#e6f5d0"
            ],
            [
             0.7,
             "#b8e186"
            ],
            [
             0.8,
             "#7fbc41"
            ],
            [
             0.9,
             "#4d9221"
            ],
            [
             1,
             "#276419"
            ]
           ],
           "sequential": [
            [
             0,
             "#0d0887"
            ],
            [
             0.1111111111111111,
             "#46039f"
            ],
            [
             0.2222222222222222,
             "#7201a8"
            ],
            [
             0.3333333333333333,
             "#9c179e"
            ],
            [
             0.4444444444444444,
             "#bd3786"
            ],
            [
             0.5555555555555556,
             "#d8576b"
            ],
            [
             0.6666666666666666,
             "#ed7953"
            ],
            [
             0.7777777777777778,
             "#fb9f3a"
            ],
            [
             0.8888888888888888,
             "#fdca26"
            ],
            [
             1,
             "#f0f921"
            ]
           ],
           "sequentialminus": [
            [
             0,
             "#0d0887"
            ],
            [
             0.1111111111111111,
             "#46039f"
            ],
            [
             0.2222222222222222,
             "#7201a8"
            ],
            [
             0.3333333333333333,
             "#9c179e"
            ],
            [
             0.4444444444444444,
             "#bd3786"
            ],
            [
             0.5555555555555556,
             "#d8576b"
            ],
            [
             0.6666666666666666,
             "#ed7953"
            ],
            [
             0.7777777777777778,
             "#fb9f3a"
            ],
            [
             0.8888888888888888,
             "#fdca26"
            ],
            [
             1,
             "#f0f921"
            ]
           ]
          },
          "colorway": [
           "#636efa",
           "#EF553B",
           "#00cc96",
           "#ab63fa",
           "#FFA15A",
           "#19d3f3",
           "#FF6692",
           "#B6E880",
           "#FF97FF",
           "#FECB52"
          ],
          "font": {
           "color": "#2a3f5f"
          },
          "geo": {
           "bgcolor": "white",
           "lakecolor": "white",
           "landcolor": "#E5ECF6",
           "showlakes": true,
           "showland": true,
           "subunitcolor": "white"
          },
          "hoverlabel": {
           "align": "left"
          },
          "hovermode": "closest",
          "mapbox": {
           "style": "light"
          },
          "paper_bgcolor": "white",
          "plot_bgcolor": "#E5ECF6",
          "polar": {
           "angularaxis": {
            "gridcolor": "white",
            "linecolor": "white",
            "ticks": ""
           },
           "bgcolor": "#E5ECF6",
           "radialaxis": {
            "gridcolor": "white",
            "linecolor": "white",
            "ticks": ""
           }
          },
          "scene": {
           "xaxis": {
            "backgroundcolor": "#E5ECF6",
            "gridcolor": "white",
            "gridwidth": 2,
            "linecolor": "white",
            "showbackground": true,
            "ticks": "",
            "zerolinecolor": "white"
           },
           "yaxis": {
            "backgroundcolor": "#E5ECF6",
            "gridcolor": "white",
            "gridwidth": 2,
            "linecolor": "white",
            "showbackground": true,
            "ticks": "",
            "zerolinecolor": "white"
           },
           "zaxis": {
            "backgroundcolor": "#E5ECF6",
            "gridcolor": "white",
            "gridwidth": 2,
            "linecolor": "white",
            "showbackground": true,
            "ticks": "",
            "zerolinecolor": "white"
           }
          },
          "shapedefaults": {
           "line": {
            "color": "#2a3f5f"
           }
          },
          "ternary": {
           "aaxis": {
            "gridcolor": "white",
            "linecolor": "white",
            "ticks": ""
           },
           "baxis": {
            "gridcolor": "white",
            "linecolor": "white",
            "ticks": ""
           },
           "bgcolor": "#E5ECF6",
           "caxis": {
            "gridcolor": "white",
            "linecolor": "white",
            "ticks": ""
           }
          },
          "title": {
           "x": 0.05
          },
          "xaxis": {
           "automargin": true,
           "gridcolor": "white",
           "linecolor": "white",
           "ticks": "",
           "title": {
            "standoff": 15
           },
           "zerolinecolor": "white",
           "zerolinewidth": 2
          },
          "yaxis": {
           "automargin": true,
           "gridcolor": "white",
           "linecolor": "white",
           "ticks": "",
           "title": {
            "standoff": 15
           },
           "zerolinecolor": "white",
           "zerolinewidth": 2
          }
         }
        },
        "title": {
         "text": "Correlogram of disease and country specifics: 149 countries"
        },
        "width": 885,
        "xaxis": {
         "range": [
          0.5,
          12.5
         ],
         "showgrid": true,
         "ticklen": 0,
         "ticks": "outside",
         "tickson": "boundaries"
        },
        "yaxis": {
         "range": [
          0.5,
          12.5
         ],
         "showgrid": true,
         "ticklen": 0,
         "ticks": "outside",
         "tickson": "boundaries"
        }
       }
      },
      "text/html": [
       "<div>\n",
       "        \n",
       "        \n",
       "            <div id=\"937300e3-6e50-40c5-8eb9-6c812ed429b2\" class=\"plotly-graph-div\" style=\"height:885px; width:885px;\"></div>\n",
       "            <script type=\"text/javascript\">\n",
       "                require([\"plotly\"], function(Plotly) {\n",
       "                    window.PLOTLYENV=window.PLOTLYENV || {};\n",
       "                    \n",
       "                if (document.getElementById(\"937300e3-6e50-40c5-8eb9-6c812ed429b2\")) {\n",
       "                    Plotly.newPlot(\n",
       "                        '937300e3-6e50-40c5-8eb9-6c812ed429b2',\n",
       "                        [{\"hoverinfo\": \"text\", \"hovertext\": [\"1.0\", \"0.5930119533781258\", \"0.4128044813098252\", \"0.9517898773925396\", \"0.012718701717881193\", \"-0.05584969823056535\", \"0.23453353140845803\", \"0.4446652914012308\", \"0.3400953007444782\", \"0.37450369339945255\", \"0.18664084072169673\", \"-0.08550603384466833\", \"-0.013807075486636716\", \"0.5930119533781258\", \"1.0\", \"0.14539223049430963\", \"0.43225901611714224\", \"-0.2576113021555143\", \"0.34086505779382487\", \"0.3242279360825647\", \"0.3381707356695181\", \"0.3348108847458518\", \"0.38663999111409686\", \"0.13869629698845948\", \"-0.11565908927948627\", \"0.013787307900542218\", \"0.4128044813098252\", \"0.14539223049430963\", \"1.0\", \"0.38870050078916896\", \"0.013683672794617545\", \"-0.10970837091626257\", \"-0.2870937985809908\", \"0.5830815333611359\", \"0.4133302322521211\", \"0.4862165572109952\", \"0.31506588887763465\", \"0.1445282753611752\", \"0.3902926655064961\", \"0.9517898773925396\", \"0.43225901611714224\", \"0.38870050078916896\", \"1.0\", \"0.2302557955270729\", \"-0.11201495189244286\", \"0.22359184255255948\", \"0.3799349032702046\", \"0.2626946187741597\", \"0.2811913391390236\", \"0.17089613932560602\", \"-0.08501994181749613\", \"-0.04069716334199329\", \"0.012718701717881193\", \"-0.2576113021555143\", \"0.013683672794617545\", \"0.2302557955270729\", \"1.0\", \"-0.1868755719213529\", \"0.05102425061749178\", \"-0.08862299799309259\", \"-0.09573863396393967\", \"-0.13707914040193422\", \"0.061415370366067805\", \"-0.003955708194169689\", \"-0.07969152238424612\", \"-0.05584969823056535\", \"0.34086505779382487\", \"-0.10970837091626257\", \"-0.11201495189244286\", \"-0.1868755719213529\", \"1.0\", \"0.28334426042631855\", \"-0.07462791252801808\", \"0.010724151666606627\", \"-0.008679294321465391\", \"-0.13855776432262495\", \"-0.05186655402803224\", \"0.006923080022391548\", \"0.23453353140845803\", \"0.3242279360825647\", \"-0.2870937985809908\", \"0.22359184255255948\", \"0.05102425061749178\", \"0.28334426042631855\", \"1.0\", \"-0.2466787106557616\", \"-0.19773032828890685\", \"-0.2039947325050794\", \"-0.17322394296057492\", \"-0.13623205463840052\", \"-0.2644091270752056\", \"0.4446652914012308\", \"0.3381707356695181\", \"0.5830815333611359\", \"0.3799349032702046\", \"-0.08862299799309259\", \"-0.07462791252801808\", \"-0.2466787106557616\", \"1.0\", \"0.7581817968156124\", \"0.8491422262893947\", \"0.364513319427504\", \"-0.07838388891800324\", \"0.2903747264548697\", \"0.3400953007444782\", \"0.3348108847458518\", \"0.4133302322521211\", \"0.2626946187741597\", \"-0.09573863396393967\", \"0.010724151666606627\", \"-0.19773032828890685\", \"0.7581817968156124\", \"1.0\", \"0.7327204956871475\", \"0.4456185575810868\", \"-0.05153425115366372\", \"0.17788501836972584\", \"0.37450369339945255\", \"0.38663999111409686\", \"0.4862165572109952\", \"0.2811913391390236\", \"-0.13707914040193422\", \"-0.008679294321465391\", \"-0.2039947325050794\", \"0.8491422262893947\", \"0.7327204956871475\", \"1.0\", \"0.3780874893526948\", \"-0.049324629928103714\", \"0.2977333761374477\", \"0.18664084072169673\", \"0.13869629698845948\", \"0.31506588887763465\", \"0.17089613932560602\", \"0.061415370366067805\", \"-0.13855776432262495\", \"-0.17322394296057492\", \"0.364513319427504\", \"0.4456185575810868\", \"0.3780874893526948\", \"1.0\", \"0.2723826835920293\", \"0.4433520911922528\", \"-0.08550603384466833\", \"-0.11565908927948627\", \"0.1445282753611752\", \"-0.08501994181749613\", \"-0.003955708194169689\", \"-0.05186655402803224\", \"-0.13623205463840052\", \"-0.07838388891800324\", \"-0.05153425115366372\", \"-0.049324629928103714\", \"0.2723826835920293\", \"1.0\", \"0.3481571568745501\", \"-0.013807075486636716\", \"0.013787307900542218\", \"0.3902926655064961\", \"-0.04069716334199329\", \"-0.07969152238424612\", \"0.006923080022391548\", \"-0.2644091270752056\", \"0.2903747264548697\", \"0.17788501836972584\", \"0.2977333761374477\", \"0.4433520911922528\", \"0.3481571568745501\", \"1.0\"], \"marker\": {\"cmid\": 0, \"color\": [1.0, 0.5930119533781258, 0.4128044813098252, 0.9517898773925396, 0.012718701717881193, -0.05584969823056535, 0.23453353140845803, 0.4446652914012308, 0.3400953007444782, 0.37450369339945255, 0.18664084072169673, -0.08550603384466833, -0.013807075486636716, 0.5930119533781258, 1.0, 0.14539223049430963, 0.43225901611714224, -0.2576113021555143, 0.34086505779382487, 0.3242279360825647, 0.3381707356695181, 0.3348108847458518, 0.38663999111409686, 0.13869629698845948, -0.11565908927948627, 0.013787307900542218, 0.4128044813098252, 0.14539223049430963, 1.0, 0.38870050078916896, 0.013683672794617545, -0.10970837091626257, -0.2870937985809908, 0.5830815333611359, 0.4133302322521211, 0.4862165572109952, 0.31506588887763465, 0.1445282753611752, 0.3902926655064961, 0.9517898773925396, 0.43225901611714224, 0.38870050078916896, 1.0, 0.2302557955270729, -0.11201495189244286, 0.22359184255255948, 0.3799349032702046, 0.2626946187741597, 0.2811913391390236, 0.17089613932560602, -0.08501994181749613, -0.04069716334199329, 0.012718701717881193, -0.2576113021555143, 0.013683672794617545, 0.2302557955270729, 1.0, -0.1868755719213529, 0.05102425061749178, -0.08862299799309259, -0.09573863396393967, -0.13707914040193422, 0.061415370366067805, -0.003955708194169689, -0.07969152238424612, -0.05584969823056535, 0.34086505779382487, -0.10970837091626257, -0.11201495189244286, -0.1868755719213529, 1.0, 0.28334426042631855, -0.07462791252801808, 0.010724151666606627, -0.008679294321465391, -0.13855776432262495, -0.05186655402803224, 0.006923080022391548, 0.23453353140845803, 0.3242279360825647, -0.2870937985809908, 0.22359184255255948, 0.05102425061749178, 0.28334426042631855, 1.0, -0.2466787106557616, -0.19773032828890685, -0.2039947325050794, -0.17322394296057492, -0.13623205463840052, -0.2644091270752056, 0.4446652914012308, 0.3381707356695181, 0.5830815333611359, 0.3799349032702046, -0.08862299799309259, -0.07462791252801808, -0.2466787106557616, 1.0, 0.7581817968156124, 0.8491422262893947, 0.364513319427504, -0.07838388891800324, 0.2903747264548697, 0.3400953007444782, 0.3348108847458518, 0.4133302322521211, 0.2626946187741597, -0.09573863396393967, 0.010724151666606627, -0.19773032828890685, 0.7581817968156124, 1.0, 0.7327204956871475, 0.4456185575810868, -0.05153425115366372, 0.17788501836972584, 0.37450369339945255, 0.38663999111409686, 0.4862165572109952, 0.2811913391390236, -0.13707914040193422, -0.008679294321465391, -0.2039947325050794, 0.8491422262893947, 0.7327204956871475, 1.0, 0.3780874893526948, -0.049324629928103714, 0.2977333761374477, 0.18664084072169673, 0.13869629698845948, 0.31506588887763465, 0.17089613932560602, 0.061415370366067805, -0.13855776432262495, -0.17322394296057492, 0.364513319427504, 0.4456185575810868, 0.3780874893526948, 1.0, 0.2723826835920293, 0.4433520911922528, -0.08550603384466833, -0.11565908927948627, 0.1445282753611752, -0.08501994181749613, -0.003955708194169689, -0.05186655402803224, -0.13623205463840052, -0.07838388891800324, -0.05153425115366372, -0.049324629928103714, 0.2723826835920293, 1.0, 0.3481571568745501, -0.013807075486636716, 0.013787307900542218, 0.3902926655064961, -0.04069716334199329, -0.07969152238424612, 0.006923080022391548, -0.2644091270752056, 0.2903747264548697, 0.17788501836972584, 0.2977333761374477, 0.4433520911922528, 0.3481571568745501, 1.0], \"colorbar\": {\"title\": {\"text\": \"Correlation\"}}, \"colorscale\": [[0.0, \"rgb(5,48,97)\"], [0.1, \"rgb(33,102,172)\"], [0.2, \"rgb(67,147,195)\"], [0.3, \"rgb(146,197,222)\"], [0.4, \"rgb(209,229,240)\"], [0.5, \"rgb(247,247,247)\"], [0.6, \"rgb(253,219,199)\"], [0.7, \"rgb(244,165,130)\"], [0.8, \"rgb(214,96,77)\"], [0.9, \"rgb(178,24,43)\"], [1.0, \"rgb(103,0,31)\"]], \"size\": [46.0, 27.278549855393788, 18.98900614025196, 43.78233436005682, 0.5850602790225349, 2.569086118606006, 10.78854244478907, 20.454603404456616, 15.644383834245996, 17.227169896374818, 8.58547867319805, 3.933277556854743, 0.6351254723852889, 27.278549855393788, 46.0, 6.688042602738243, 19.883914741388544, 11.850119899153658, 15.679792658515943, 14.914485059797977, 15.555853840797832, 15.401300698309182, 17.785439591248455, 6.380029661469136, 5.3203181068563685, 0.634216163424942, 18.98900614025196, 6.688042602738243, 46.0, 17.88022303630177, 0.6294489485524071, 5.046585062148078, 13.206314734725577, 26.82175053461225, 19.01319068359757, 22.36596163170578, 14.493030888371194, 6.64830066661406, 17.95346261329882, 43.78233436005682, 19.883914741388544, 17.88022303630177, 46.0, 10.591766594245353, 5.152687787052371, 10.285224757417737, 17.477005550429414, 12.083952463611347, 12.934801600395087, 7.861222408977877, 3.910917323604822, 1.8720695137316914, 0.5850602790225349, 11.850119899153658, 0.6294489485524071, 10.591766594245353, 46.0, 8.596276308382233, 2.347115528404622, 4.076657907682259, 4.403977162341224, 6.305640458488974, 2.825107036839119, 0.18196257693180568, 3.6658100296753218, 2.569086118606006, 15.679792658515943, 5.046585062148078, 5.152687787052371, 8.596276308382233, 46.0, 13.033835979610654, 3.4328839762888315, 0.49331097666390483, 0.399247538787408, 6.373657158840748, 2.385861485289483, 0.3184616810300112, 10.78854244478907, 14.914485059797977, 13.206314734725577, 10.285224757417737, 2.347115528404622, 13.033835979610654, 46.0, 11.347220690165035, 9.095595101289716, 9.383757695233653, 7.968301376186446, 6.266674513366424, 12.162819845459456, 20.454603404456616, 15.555853840797832, 26.82175053461225, 17.477005550429414, 4.076657907682259, 3.4328839762888315, 11.347220690165035, 46.0, 34.87636265351817, 39.060542409312156, 16.767612693665182, 3.605658890228149, 13.357237416924008, 15.644383834245996, 15.401300698309182, 19.01319068359757, 12.083952463611347, 4.403977162341224, 0.49331097666390483, 9.095595101289716, 34.87636265351817, 46.0, 33.70514280160879, 20.498453648729992, 2.370575553068531, 8.182710845007389, 17.227169896374818, 17.785439591248455, 22.36596163170578, 12.934801600395087, 6.305640458488974, 0.399247538787408, 9.383757695233653, 39.060542409312156, 33.70514280160879, 46.0, 17.392024510223962, 2.2689329766927706, 13.695735302322595, 8.58547867319805, 6.380029661469136, 14.493030888371194, 7.861222408977877, 2.825107036839119, 6.373657158840748, 7.968301376186446, 16.767612693665182, 20.498453648729992, 17.392024510223962, 46.0, 12.529603445233347, 20.394196194843627, 3.933277556854743, 5.3203181068563685, 6.64830066661406, 3.910917323604822, 0.18196257693180568, 2.385861485289483, 6.266674513366424, 3.605658890228149, 2.370575553068531, 2.2689329766927706, 12.529603445233347, 46.0, 16.015229216229304, 0.6351254723852889, 0.634216163424942, 17.95346261329882, 1.8720695137316914, 3.6658100296753218, 0.3184616810300112, 12.162819845459456, 13.357237416924008, 8.182710845007389, 13.695735302322595, 20.394196194843627, 16.015229216229304, 46.0]}, \"mode\": \"markers\", \"type\": \"scatter\", \"x\": [[\"1.\", \"1.\", \"1.\", \"1.\", \"1.\", \"1.\", \"1.\", \"1.\", \"1.\", \"1.\", \"1.\", \"1.\", \"1.\", \"1.\", \"1.\", \"1.\", \"1.\", \"1.\", \"1.\", \"1.\", \"1.\", \"1.\", \"1.\", \"1.\", \"1.\", \"1.\", \"1.\", \"1.\", \"1.\", \"1.\", \"1.\", \"1.\", \"1.\", \"1.\", \"1.\", \"1.\", \"1.\", \"1.\", \"1.\", \"1.\", \"1.\", \"1.\", \"1.\", \"1.\", \"1.\", \"1.\", \"1.\", \"1.\", \"1.\", \"1.\", \"1.\", \"1.\", \"2.\", \"2.\", \"2.\", \"2.\", \"2.\", \"2.\", \"2.\", \"2.\", \"2.\", \"2.\", \"2.\", \"2.\", \"2.\", \"2.\", \"2.\", \"2.\", \"2.\", \"2.\", \"2.\", \"2.\", \"2.\", \"2.\", \"2.\", \"2.\", \"2.\", \"2.\", \"2.\", \"2.\", \"2.\", \"2.\", \"2.\", \"2.\", \"2.\", \"2.\", \"2.\", \"2.\", \"2.\", \"2.\", \"2.\", \"3.\", \"3.\", \"3.\", \"3.\", \"3.\", \"3.\", \"3.\", \"3.\", \"3.\", \"3.\", \"3.\", \"3.\", \"3.\", \"3.\", \"3.\", \"3.\", \"3.\", \"3.\", \"3.\", \"3.\", \"3.\", \"3.\", \"3.\", \"3.\", \"3.\", \"3.\", \"3.\", \"3.\", \"3.\", \"3.\", \"3.\", \"3.\", \"3.\", \"3.\", \"3.\", \"3.\", \"3.\", \"3.\", \"3.\", \"3.\", \"3.\", \"3.\", \"3.\", \"3.\", \"3.\", \"3.\", \"3.\", \"3.\", \"3.\", \"3.\", \"3.\", \"3.\", \"3.\", \"3.\", \"3.\", \"3.\", \"3.\", \"3.\", \"3.\", \"3.\", \"3.\", \"3.\", \"3.\", \"3.\", \"3.\", \"3.\", \"3.\", \"3.\", \"3.\", \"3.\", \"3.\", \"3.\", \"3.\", \"3.\", \"3.\", \"3.\", \"3.\", \"3.\"], [\"Tot Cases/1M pop\", \"Tot Cases/1M pop\", \"Tot Cases/1M pop\", \"Tot Cases/1M pop\", \"Tot Cases/1M pop\", \"Tot Cases/1M pop\", \"Tot Cases/1M pop\", \"Tot Cases/1M pop\", \"Tot Cases/1M pop\", \"Tot Cases/1M pop\", \"Tot Cases/1M pop\", \"Tot Cases/1M pop\", \"Tot Cases/1M pop\", \"Deaths/1M pop\", \"Deaths/1M pop\", \"Deaths/1M pop\", \"Deaths/1M pop\", \"Deaths/1M pop\", \"Deaths/1M pop\", \"Deaths/1M pop\", \"Deaths/1M pop\", \"Deaths/1M pop\", \"Deaths/1M pop\", \"Deaths/1M pop\", \"Deaths/1M pop\", \"Deaths/1M pop\", \"Tests/1M pop\", \"Tests/1M pop\", \"Tests/1M pop\", \"Tests/1M pop\", \"Tests/1M pop\", \"Tests/1M pop\", \"Tests/1M pop\", \"Tests/1M pop\", \"Tests/1M pop\", \"Tests/1M pop\", \"Tests/1M pop\", \"Tests/1M pop\", \"Tests/1M pop\", \"Recovered/1M pop\", \"Recovered/1M pop\", \"Recovered/1M pop\", \"Recovered/1M pop\", \"Recovered/1M pop\", \"Recovered/1M pop\", \"Recovered/1M pop\", \"Recovered/1M pop\", \"Recovered/1M pop\", \"Recovered/1M pop\", \"Recovered/1M pop\", \"Recovered/1M pop\", \"Recovered/1M pop\", \"Recovered/1M cases\", \"Recovered/1M cases\", \"Recovered/1M cases\", \"Recovered/1M cases\", \"Recovered/1M cases\", \"Recovered/1M cases\", \"Recovered/1M cases\", \"Recovered/1M cases\", \"Recovered/1M cases\", \"Recovered/1M cases\", \"Recovered/1M cases\", \"Recovered/1M cases\", \"Recovered/1M cases\", \"Deaths/1M cases\", \"Deaths/1M cases\", \"Deaths/1M cases\", \"Deaths/1M cases\", \"Deaths/1M cases\", \"Deaths/1M cases\", \"Deaths/1M cases\", \"Deaths/1M cases\", \"Deaths/1M cases\", \"Deaths/1M cases\", \"Deaths/1M cases\", \"Deaths/1M cases\", \"Deaths/1M cases\", \"Confirmed/1M tests\", \"Confirmed/1M tests\", \"Confirmed/1M tests\", \"Confirmed/1M tests\", \"Confirmed/1M tests\", \"Confirmed/1M tests\", \"Confirmed/1M tests\", \"Confirmed/1M tests\", \"Confirmed/1M tests\", \"Confirmed/1M tests\", \"Confirmed/1M tests\", \"Confirmed/1M tests\", \"Confirmed/1M tests\", \"GDP\", \"GDP\", \"GDP\", \"GDP\", \"GDP\", \"GDP\", \"GDP\", \"GDP\", \"GDP\", \"GDP\", \"GDP\", \"GDP\", \"GDP\", \"Family\", \"Family\", \"Family\", \"Family\", \"Family\", \"Family\", \"Family\", \"Family\", \"Family\", \"Family\", \"Family\", \"Family\", \"Family\", \"Life expectancy\", \"Life expectancy\", \"Life expectancy\", \"Life expectancy\", \"Life expectancy\", \"Life expectancy\", \"Life expectancy\", \"Life expectancy\", \"Life expectancy\", \"Life expectancy\", \"Life expectancy\", \"Life expectancy\", \"Life expectancy\", \"Freedom\", \"Freedom\", \"Freedom\", \"Freedom\", \"Freedom\", \"Freedom\", \"Freedom\", \"Freedom\", \"Freedom\", \"Freedom\", \"Freedom\", \"Freedom\", \"Freedom\", \"Generosity\", \"Generosity\", \"Generosity\", \"Generosity\", \"Generosity\", \"Generosity\", \"Generosity\", \"Generosity\", \"Generosity\", \"Generosity\", \"Generosity\", \"Generosity\", \"Generosity\", \"Trust\", \"Trust\", \"Trust\", \"Trust\", \"Trust\", \"Trust\", \"Trust\", \"Trust\", \"Trust\", \"Trust\", \"Trust\", \"Trust\", \"Trust\"]], \"y\": [[\"1.\", \"1.\", \"1.\", \"1.\", \"2.\", \"2.\", \"2.\", \"3.\", \"3.\", \"3.\", \"3.\", \"3.\", \"3.\", \"1.\", \"1.\", \"1.\", \"1.\", \"2.\", \"2.\", \"2.\", \"3.\", \"3.\", \"3.\", \"3.\", \"3.\", \"3.\", \"1.\", \"1.\", \"1.\", \"1.\", \"2.\", \"2.\", \"2.\", \"3.\", \"3.\", \"3.\", \"3.\", \"3.\", \"3.\", \"1.\", \"1.\", \"1.\", \"1.\", \"2.\", \"2.\", \"2.\", \"3.\", \"3.\", \"3.\", \"3.\", \"3.\", \"3.\", \"1.\", \"1.\", \"1.\", \"1.\", \"2.\", \"2.\", \"2.\", \"3.\", \"3.\", \"3.\", \"3.\", \"3.\", \"3.\", \"1.\", \"1.\", \"1.\", \"1.\", \"2.\", \"2.\", \"2.\", \"3.\", \"3.\", \"3.\", \"3.\", \"3.\", \"3.\", \"1.\", \"1.\", \"1.\", \"1.\", \"2.\", \"2.\", \"2.\", \"3.\", \"3.\", \"3.\", \"3.\", \"3.\", \"3.\", \"1.\", \"1.\", \"1.\", \"1.\", \"2.\", \"2.\", \"2.\", \"3.\", \"3.\", \"3.\", \"3.\", \"3.\", \"3.\", \"1.\", \"1.\", \"1.\", \"1.\", \"2.\", \"2.\", \"2.\", \"3.\", \"3.\", \"3.\", \"3.\", \"3.\", \"3.\", \"1.\", \"1.\", \"1.\", \"1.\", \"2.\", \"2.\", \"2.\", \"3.\", \"3.\", \"3.\", \"3.\", \"3.\", \"3.\", \"1.\", \"1.\", \"1.\", \"1.\", \"2.\", \"2.\", \"2.\", \"3.\", \"3.\", \"3.\", \"3.\", \"3.\", \"3.\", \"1.\", \"1.\", \"1.\", \"1.\", \"2.\", \"2.\", \"2.\", \"3.\", \"3.\", \"3.\", \"3.\", \"3.\", \"3.\", \"1.\", \"1.\", \"1.\", \"1.\", \"2.\", \"2.\", \"2.\", \"3.\", \"3.\", \"3.\", \"3.\", \"3.\", \"3.\"], [\"Tot Cases/1M pop\", \"Deaths/1M pop\", \"Tests/1M pop\", \"Recovered/1M pop\", \"Recovered/1M cases\", \"Deaths/1M cases\", \"Confirmed/1M tests\", \"GDP\", \"Family\", \"Life expectancy\", \"Freedom\", \"Generosity\", \"Trust\", \"Tot Cases/1M pop\", \"Deaths/1M pop\", \"Tests/1M pop\", \"Recovered/1M pop\", \"Recovered/1M cases\", \"Deaths/1M cases\", \"Confirmed/1M tests\", \"GDP\", \"Family\", \"Life expectancy\", \"Freedom\", \"Generosity\", \"Trust\", \"Tot Cases/1M pop\", \"Deaths/1M pop\", \"Tests/1M pop\", \"Recovered/1M pop\", \"Recovered/1M cases\", \"Deaths/1M cases\", \"Confirmed/1M tests\", \"GDP\", \"Family\", \"Life expectancy\", \"Freedom\", \"Generosity\", \"Trust\", \"Tot Cases/1M pop\", \"Deaths/1M pop\", \"Tests/1M pop\", \"Recovered/1M pop\", \"Recovered/1M cases\", \"Deaths/1M cases\", \"Confirmed/1M tests\", \"GDP\", \"Family\", \"Life expectancy\", \"Freedom\", \"Generosity\", \"Trust\", \"Tot Cases/1M pop\", \"Deaths/1M pop\", \"Tests/1M pop\", \"Recovered/1M pop\", \"Recovered/1M cases\", \"Deaths/1M cases\", \"Confirmed/1M tests\", \"GDP\", \"Family\", \"Life expectancy\", \"Freedom\", \"Generosity\", \"Trust\", \"Tot Cases/1M pop\", \"Deaths/1M pop\", \"Tests/1M pop\", \"Recovered/1M pop\", \"Recovered/1M cases\", \"Deaths/1M cases\", \"Confirmed/1M tests\", \"GDP\", \"Family\", \"Life expectancy\", \"Freedom\", \"Generosity\", \"Trust\", \"Tot Cases/1M pop\", \"Deaths/1M pop\", \"Tests/1M pop\", \"Recovered/1M pop\", \"Recovered/1M cases\", \"Deaths/1M cases\", \"Confirmed/1M tests\", \"GDP\", \"Family\", \"Life expectancy\", \"Freedom\", \"Generosity\", \"Trust\", \"Tot Cases/1M pop\", \"Deaths/1M pop\", \"Tests/1M pop\", \"Recovered/1M pop\", \"Recovered/1M cases\", \"Deaths/1M cases\", \"Confirmed/1M tests\", \"GDP\", \"Family\", \"Life expectancy\", \"Freedom\", \"Generosity\", \"Trust\", \"Tot Cases/1M pop\", \"Deaths/1M pop\", \"Tests/1M pop\", \"Recovered/1M pop\", \"Recovered/1M cases\", \"Deaths/1M cases\", \"Confirmed/1M tests\", \"GDP\", \"Family\", \"Life expectancy\", \"Freedom\", \"Generosity\", \"Trust\", \"Tot Cases/1M pop\", \"Deaths/1M pop\", \"Tests/1M pop\", \"Recovered/1M pop\", \"Recovered/1M cases\", \"Deaths/1M cases\", \"Confirmed/1M tests\", \"GDP\", \"Family\", \"Life expectancy\", \"Freedom\", \"Generosity\", \"Trust\", \"Tot Cases/1M pop\", \"Deaths/1M pop\", \"Tests/1M pop\", \"Recovered/1M pop\", \"Recovered/1M cases\", \"Deaths/1M cases\", \"Confirmed/1M tests\", \"GDP\", \"Family\", \"Life expectancy\", \"Freedom\", \"Generosity\", \"Trust\", \"Tot Cases/1M pop\", \"Deaths/1M pop\", \"Tests/1M pop\", \"Recovered/1M pop\", \"Recovered/1M cases\", \"Deaths/1M cases\", \"Confirmed/1M tests\", \"GDP\", \"Family\", \"Life expectancy\", \"Freedom\", \"Generosity\", \"Trust\", \"Tot Cases/1M pop\", \"Deaths/1M pop\", \"Tests/1M pop\", \"Recovered/1M pop\", \"Recovered/1M cases\", \"Deaths/1M cases\", \"Confirmed/1M tests\", \"GDP\", \"Family\", \"Life expectancy\", \"Freedom\", \"Generosity\", \"Trust\"]]}],\n",
       "                        {\"font\": {\"size\": 15}, \"height\": 885, \"template\": {\"data\": {\"bar\": [{\"error_x\": {\"color\": \"#2a3f5f\"}, \"error_y\": {\"color\": \"#2a3f5f\"}, \"marker\": {\"line\": {\"color\": \"#E5ECF6\", \"width\": 0.5}}, \"type\": \"bar\"}], \"barpolar\": [{\"marker\": {\"line\": {\"color\": \"#E5ECF6\", \"width\": 0.5}}, \"type\": \"barpolar\"}], \"carpet\": [{\"aaxis\": {\"endlinecolor\": \"#2a3f5f\", \"gridcolor\": \"white\", \"linecolor\": \"white\", \"minorgridcolor\": \"white\", \"startlinecolor\": \"#2a3f5f\"}, \"baxis\": {\"endlinecolor\": \"#2a3f5f\", \"gridcolor\": \"white\", \"linecolor\": \"white\", \"minorgridcolor\": \"white\", \"startlinecolor\": \"#2a3f5f\"}, \"type\": \"carpet\"}], \"choropleth\": [{\"colorbar\": {\"outlinewidth\": 0, \"ticks\": \"\"}, \"type\": \"choropleth\"}], \"contour\": [{\"colorbar\": {\"outlinewidth\": 0, \"ticks\": \"\"}, \"colorscale\": [[0.0, \"#0d0887\"], [0.1111111111111111, \"#46039f\"], [0.2222222222222222, \"#7201a8\"], [0.3333333333333333, \"#9c179e\"], [0.4444444444444444, \"#bd3786\"], [0.5555555555555556, \"#d8576b\"], [0.6666666666666666, \"#ed7953\"], [0.7777777777777778, \"#fb9f3a\"], [0.8888888888888888, \"#fdca26\"], [1.0, \"#f0f921\"]], \"type\": \"contour\"}], \"contourcarpet\": [{\"colorbar\": {\"outlinewidth\": 0, \"ticks\": \"\"}, \"type\": \"contourcarpet\"}], \"heatmap\": [{\"colorbar\": {\"outlinewidth\": 0, \"ticks\": \"\"}, \"colorscale\": [[0.0, \"#0d0887\"], [0.1111111111111111, \"#46039f\"], [0.2222222222222222, \"#7201a8\"], [0.3333333333333333, \"#9c179e\"], [0.4444444444444444, \"#bd3786\"], [0.5555555555555556, \"#d8576b\"], [0.6666666666666666, \"#ed7953\"], [0.7777777777777778, \"#fb9f3a\"], [0.8888888888888888, \"#fdca26\"], [1.0, \"#f0f921\"]], \"type\": \"heatmap\"}], \"heatmapgl\": [{\"colorbar\": {\"outlinewidth\": 0, \"ticks\": \"\"}, \"colorscale\": [[0.0, \"#0d0887\"], [0.1111111111111111, \"#46039f\"], [0.2222222222222222, \"#7201a8\"], [0.3333333333333333, \"#9c179e\"], [0.4444444444444444, \"#bd3786\"], [0.5555555555555556, \"#d8576b\"], [0.6666666666666666, \"#ed7953\"], [0.7777777777777778, \"#fb9f3a\"], [0.8888888888888888, \"#fdca26\"], [1.0, \"#f0f921\"]], \"type\": \"heatmapgl\"}], \"histogram\": [{\"marker\": {\"colorbar\": {\"outlinewidth\": 0, \"ticks\": \"\"}}, \"type\": \"histogram\"}], \"histogram2d\": [{\"colorbar\": {\"outlinewidth\": 0, \"ticks\": \"\"}, \"colorscale\": [[0.0, \"#0d0887\"], [0.1111111111111111, \"#46039f\"], [0.2222222222222222, \"#7201a8\"], [0.3333333333333333, \"#9c179e\"], [0.4444444444444444, \"#bd3786\"], [0.5555555555555556, \"#d8576b\"], [0.6666666666666666, \"#ed7953\"], [0.7777777777777778, \"#fb9f3a\"], [0.8888888888888888, \"#fdca26\"], [1.0, \"#f0f921\"]], \"type\": \"histogram2d\"}], \"histogram2dcontour\": [{\"colorbar\": {\"outlinewidth\": 0, \"ticks\": \"\"}, \"colorscale\": [[0.0, \"#0d0887\"], [0.1111111111111111, \"#46039f\"], [0.2222222222222222, \"#7201a8\"], [0.3333333333333333, \"#9c179e\"], [0.4444444444444444, \"#bd3786\"], [0.5555555555555556, \"#d8576b\"], [0.6666666666666666, \"#ed7953\"], [0.7777777777777778, \"#fb9f3a\"], [0.8888888888888888, \"#fdca26\"], [1.0, \"#f0f921\"]], \"type\": \"histogram2dcontour\"}], \"mesh3d\": [{\"colorbar\": {\"outlinewidth\": 0, \"ticks\": \"\"}, \"type\": \"mesh3d\"}], \"parcoords\": [{\"line\": {\"colorbar\": {\"outlinewidth\": 0, \"ticks\": \"\"}}, \"type\": \"parcoords\"}], \"pie\": [{\"automargin\": true, \"type\": \"pie\"}], \"scatter\": [{\"marker\": {\"colorbar\": {\"outlinewidth\": 0, \"ticks\": \"\"}}, \"type\": \"scatter\"}], \"scatter3d\": [{\"line\": {\"colorbar\": {\"outlinewidth\": 0, \"ticks\": \"\"}}, \"marker\": {\"colorbar\": {\"outlinewidth\": 0, \"ticks\": \"\"}}, \"type\": \"scatter3d\"}], \"scattercarpet\": [{\"marker\": {\"colorbar\": {\"outlinewidth\": 0, \"ticks\": \"\"}}, \"type\": \"scattercarpet\"}], \"scattergeo\": [{\"marker\": {\"colorbar\": {\"outlinewidth\": 0, \"ticks\": \"\"}}, \"type\": \"scattergeo\"}], \"scattergl\": [{\"marker\": {\"colorbar\": {\"outlinewidth\": 0, \"ticks\": \"\"}}, \"type\": \"scattergl\"}], \"scattermapbox\": [{\"marker\": {\"colorbar\": {\"outlinewidth\": 0, \"ticks\": \"\"}}, \"type\": \"scattermapbox\"}], \"scatterpolar\": [{\"marker\": {\"colorbar\": {\"outlinewidth\": 0, \"ticks\": \"\"}}, \"type\": \"scatterpolar\"}], \"scatterpolargl\": [{\"marker\": {\"colorbar\": {\"outlinewidth\": 0, \"ticks\": \"\"}}, \"type\": \"scatterpolargl\"}], \"scatterternary\": [{\"marker\": {\"colorbar\": {\"outlinewidth\": 0, \"ticks\": \"\"}}, \"type\": \"scatterternary\"}], \"surface\": [{\"colorbar\": {\"outlinewidth\": 0, \"ticks\": \"\"}, \"colorscale\": [[0.0, \"#0d0887\"], [0.1111111111111111, \"#46039f\"], [0.2222222222222222, \"#7201a8\"], [0.3333333333333333, \"#9c179e\"], [0.4444444444444444, \"#bd3786\"], [0.5555555555555556, \"#d8576b\"], [0.6666666666666666, \"#ed7953\"], [0.7777777777777778, \"#fb9f3a\"], [0.8888888888888888, \"#fdca26\"], [1.0, \"#f0f921\"]], \"type\": \"surface\"}], \"table\": [{\"cells\": {\"fill\": {\"color\": \"#EBF0F8\"}, \"line\": {\"color\": \"white\"}}, \"header\": {\"fill\": {\"color\": \"#C8D4E3\"}, \"line\": {\"color\": \"white\"}}, \"type\": \"table\"}]}, \"layout\": {\"annotationdefaults\": {\"arrowcolor\": \"#2a3f5f\", \"arrowhead\": 0, \"arrowwidth\": 1}, \"coloraxis\": {\"colorbar\": {\"outlinewidth\": 0, \"ticks\": \"\"}}, \"colorscale\": {\"diverging\": [[0, \"#8e0152\"], [0.1, \"#c51b7d\"], [0.2, \"#de77ae\"], [0.3, \"#f1b6da\"], [0.4, \"#fde0ef\"], [0.5, \"#f7f7f7\"], [0.6, \"#e6f5d0\"], [0.7, \"#b8e186\"], [0.8, \"#7fbc41\"], [0.9, \"#4d9221\"], [1, \"#276419\"]], \"sequential\": [[0.0, \"#0d0887\"], [0.1111111111111111, \"#46039f\"], [0.2222222222222222, \"#7201a8\"], [0.3333333333333333, \"#9c179e\"], [0.4444444444444444, \"#bd3786\"], [0.5555555555555556, \"#d8576b\"], [0.6666666666666666, \"#ed7953\"], [0.7777777777777778, \"#fb9f3a\"], [0.8888888888888888, \"#fdca26\"], [1.0, \"#f0f921\"]], \"sequentialminus\": [[0.0, \"#0d0887\"], [0.1111111111111111, \"#46039f\"], [0.2222222222222222, \"#7201a8\"], [0.3333333333333333, \"#9c179e\"], [0.4444444444444444, \"#bd3786\"], [0.5555555555555556, \"#d8576b\"], [0.6666666666666666, \"#ed7953\"], [0.7777777777777778, \"#fb9f3a\"], [0.8888888888888888, \"#fdca26\"], [1.0, \"#f0f921\"]]}, \"colorway\": [\"#636efa\", \"#EF553B\", \"#00cc96\", \"#ab63fa\", \"#FFA15A\", \"#19d3f3\", \"#FF6692\", \"#B6E880\", \"#FF97FF\", \"#FECB52\"], \"font\": {\"color\": \"#2a3f5f\"}, \"geo\": {\"bgcolor\": \"white\", \"lakecolor\": \"white\", \"landcolor\": \"#E5ECF6\", \"showlakes\": true, \"showland\": true, \"subunitcolor\": \"white\"}, \"hoverlabel\": {\"align\": \"left\"}, \"hovermode\": \"closest\", \"mapbox\": {\"style\": \"light\"}, \"paper_bgcolor\": \"white\", \"plot_bgcolor\": \"#E5ECF6\", \"polar\": {\"angularaxis\": {\"gridcolor\": \"white\", \"linecolor\": \"white\", \"ticks\": \"\"}, \"bgcolor\": \"#E5ECF6\", \"radialaxis\": {\"gridcolor\": \"white\", \"linecolor\": \"white\", \"ticks\": \"\"}}, \"scene\": {\"xaxis\": {\"backgroundcolor\": \"#E5ECF6\", \"gridcolor\": \"white\", \"gridwidth\": 2, \"linecolor\": \"white\", \"showbackground\": true, \"ticks\": \"\", \"zerolinecolor\": \"white\"}, \"yaxis\": {\"backgroundcolor\": \"#E5ECF6\", \"gridcolor\": \"white\", \"gridwidth\": 2, \"linecolor\": \"white\", \"showbackground\": true, \"ticks\": \"\", \"zerolinecolor\": \"white\"}, \"zaxis\": {\"backgroundcolor\": \"#E5ECF6\", \"gridcolor\": \"white\", \"gridwidth\": 2, \"linecolor\": \"white\", \"showbackground\": true, \"ticks\": \"\", \"zerolinecolor\": \"white\"}}, \"shapedefaults\": {\"line\": {\"color\": \"#2a3f5f\"}}, \"ternary\": {\"aaxis\": {\"gridcolor\": \"white\", \"linecolor\": \"white\", \"ticks\": \"\"}, \"baxis\": {\"gridcolor\": \"white\", \"linecolor\": \"white\", \"ticks\": \"\"}, \"bgcolor\": \"#E5ECF6\", \"caxis\": {\"gridcolor\": \"white\", \"linecolor\": \"white\", \"ticks\": \"\"}}, \"title\": {\"x\": 0.05}, \"xaxis\": {\"automargin\": true, \"gridcolor\": \"white\", \"linecolor\": \"white\", \"ticks\": \"\", \"title\": {\"standoff\": 15}, \"zerolinecolor\": \"white\", \"zerolinewidth\": 2}, \"yaxis\": {\"automargin\": true, \"gridcolor\": \"white\", \"linecolor\": \"white\", \"ticks\": \"\", \"title\": {\"standoff\": 15}, \"zerolinecolor\": \"white\", \"zerolinewidth\": 2}}}, \"title\": {\"text\": \"Correlogram of disease and country specifics: 149 countries\"}, \"width\": 885, \"xaxis\": {\"range\": [0.5, 12.5], \"showgrid\": true, \"ticklen\": 0, \"ticks\": \"outside\", \"tickson\": \"boundaries\"}, \"yaxis\": {\"range\": [0.5, 12.5], \"showgrid\": true, \"ticklen\": 0, \"ticks\": \"outside\", \"tickson\": \"boundaries\"}},\n",
       "                        {\"responsive\": true}\n",
       "                    ).then(function(){\n",
       "                            \n",
       "var gd = document.getElementById('937300e3-6e50-40c5-8eb9-6c812ed429b2');\n",
       "var x = new MutationObserver(function (mutations, observer) {{\n",
       "        var display = window.getComputedStyle(gd).display;\n",
       "        if (!display || display === 'none') {{\n",
       "            console.log([gd, 'removed!']);\n",
       "            Plotly.purge(gd);\n",
       "            observer.disconnect();\n",
       "        }}\n",
       "}});\n",
       "\n",
       "// Listen for the removal of the full notebook cells\n",
       "var notebookContainer = gd.closest('#notebook-container');\n",
       "if (notebookContainer) {{\n",
       "    x.observe(notebookContainer, {childList: true});\n",
       "}}\n",
       "\n",
       "// Listen for the clearing of the current output cell\n",
       "var outputEl = gd.closest('.output');\n",
       "if (outputEl) {{\n",
       "    x.observe(outputEl, {childList: true});\n",
       "}}\n",
       "\n",
       "                        })\n",
       "                };\n",
       "                });\n",
       "            </script>\n",
       "        </div>"
      ]
     },
     "metadata": {},
     "output_type": "display_data"
    }
   ],
   "source": [
    "fig= correlo(for_correlo, to_use=to_use, point_size=46, palette=\"RdBu_r\", \n",
    "             title=\"Correlogram of disease and country specifics: \"+str(df.shape[0])+ \" countries\",\n",
    "             height=885, width=885, fontsize=15, var_palette=var_palette)\n",
    "fig.show()"
   ]
  },
  {
   "cell_type": "code",
   "execution_count": 349,
   "metadata": {
    "code_folding": [
     0
    ],
    "collapsed": true
   },
   "outputs": [
    {
     "data": {
      "application/vnd.plotly.v1+json": {
       "config": {
        "plotlyServerURL": "https://plot.ly"
       },
       "data": [
        {
         "hoverinfo": "text",
         "hovertext": [
          "1.0",
          "0.7988320242782772",
          "0.5549182028013763",
          "0.9761016147814822",
          "0.2689190376859745",
          "-0.06747657711517237",
          "0.180578641767616",
          "0.42619314409783443",
          "0.2252156939226765",
          "0.3477855831999934",
          "0.14991168026714075",
          "-0.22853792429529615",
          "-0.2553451437942038",
          "0.7988320242782772",
          "1.0",
          "0.4091734223246325",
          "0.8096522318544608",
          "0.34522732698889624",
          "0.4858464889124083",
          "0.3480592480523219",
          "0.3142509589655598",
          "0.055602914374864344",
          "0.2706773087091003",
          "0.15947434567947028",
          "-0.27044337907509314",
          "-0.199137909482433",
          "0.5549182028013763",
          "0.4091734223246325",
          "1.0",
          "0.5150052223148938",
          "0.22920589969241154",
          "-0.07169461737195765",
          "-0.5069211625556098",
          "0.7002714568979663",
          "0.33829044484630943",
          "0.46783088591033106",
          "0.09369894027210274",
          "0.20914713342776525",
          "0.35948369510220696",
          "0.9761016147814822",
          "0.8096522318544608",
          "0.5150052223148938",
          "1.0",
          "0.4183991684433489",
          "-0.03814630573396936",
          "0.12706373682575528",
          "0.4024315456804011",
          "0.19923515418584242",
          "0.32163208333977117",
          "0.08441461469482657",
          "-0.27471636323322207",
          "-0.2662515294600604",
          "0.2689190376859745",
          "0.34522732698889624",
          "0.22920589969241154",
          "0.4183991684433489",
          "1.0",
          "0.1683555951341806",
          "-0.18653150546584846",
          "0.21747066202374052",
          "-0.07635462165493778",
          "0.03965254572097656",
          "-0.2418999891664241",
          "-0.20797904663855957",
          "0.11039651322824147",
          "-0.06747657711517237",
          "0.4858464889124083",
          "-0.07169461737195765",
          "-0.03814630573396936",
          "0.1683555951341806",
          "1.0",
          "0.3811462205946413",
          "0.03980871327534577",
          "-0.1552123421384843",
          "0.12812533125464928",
          "0.16762299125779165",
          "-0.07392745988381719",
          "0.1981455699051768",
          "0.180578641767616",
          "0.3480592480523219",
          "-0.5069211625556098",
          "0.12706373682575528",
          "-0.18653150546584846",
          "0.3811462205946413",
          "1.0",
          "-0.43564800647994456",
          "-0.4045990888827386",
          "-0.25451427454466263",
          "0.05101491050802178",
          "-0.04109430681883293",
          "-0.30231203002529755",
          "0.42619314409783443",
          "0.3142509589655598",
          "0.7002714568979663",
          "0.4024315456804011",
          "0.21747066202374052",
          "0.03980871327534577",
          "-0.43564800647994456",
          "1.0",
          "0.7733088764342873",
          "0.7053128749318993",
          "0.4511486122139001",
          "-0.23774141134748553",
          "0.23616113158408594",
          "0.2252156939226765",
          "0.055602914374864344",
          "0.33829044484630943",
          "0.19923515418584242",
          "-0.07635462165493778",
          "-0.1552123421384843",
          "-0.4045990888827386",
          "0.7733088764342873",
          "1.0",
          "0.759301274032041",
          "0.6347366999700007",
          "-0.521758880548156",
          "0.053451752401391675",
          "0.3477855831999934",
          "0.2706773087091003",
          "0.46783088591033106",
          "0.32163208333977117",
          "0.03965254572097656",
          "0.12812533125464928",
          "-0.25451427454466263",
          "0.7053128749318993",
          "0.759301274032041",
          "1.0",
          "0.6222643901548536",
          "-0.3694152580837058",
          "0.3212480161757996",
          "0.14991168026714075",
          "0.15947434567947028",
          "0.09369894027210274",
          "0.08441461469482657",
          "-0.2418999891664241",
          "0.16762299125779165",
          "0.05101491050802178",
          "0.4511486122139001",
          "0.6347366999700007",
          "0.6222643901548536",
          "1.0",
          "-0.29867460396301876",
          "0.17004337951776122",
          "-0.22853792429529615",
          "-0.27044337907509314",
          "0.20914713342776525",
          "-0.27471636323322207",
          "-0.20797904663855957",
          "-0.07392745988381719",
          "-0.04109430681883293",
          "-0.23774141134748553",
          "-0.521758880548156",
          "-0.3694152580837058",
          "-0.29867460396301876",
          "1.0",
          "0.49936723758793794",
          "-0.2553451437942038",
          "-0.199137909482433",
          "0.35948369510220696",
          "-0.2662515294600604",
          "0.11039651322824147",
          "0.1981455699051768",
          "-0.30231203002529755",
          "0.23616113158408594",
          "0.053451752401391675",
          "0.3212480161757996",
          "0.17004337951776122",
          "0.49936723758793794",
          "1.0"
         ],
         "marker": {
          "cmid": 0,
          "color": [
           1,
           0.7988320242782772,
           0.5549182028013763,
           0.9761016147814822,
           0.2689190376859745,
           -0.06747657711517237,
           0.180578641767616,
           0.42619314409783443,
           0.2252156939226765,
           0.3477855831999934,
           0.14991168026714075,
           -0.22853792429529615,
           -0.2553451437942038,
           0.7988320242782772,
           1,
           0.4091734223246325,
           0.8096522318544608,
           0.34522732698889624,
           0.4858464889124083,
           0.3480592480523219,
           0.3142509589655598,
           0.055602914374864344,
           0.2706773087091003,
           0.15947434567947028,
           -0.27044337907509314,
           -0.199137909482433,
           0.5549182028013763,
           0.4091734223246325,
           1,
           0.5150052223148938,
           0.22920589969241154,
           -0.07169461737195765,
           -0.5069211625556098,
           0.7002714568979663,
           0.33829044484630943,
           0.46783088591033106,
           0.09369894027210274,
           0.20914713342776525,
           0.35948369510220696,
           0.9761016147814822,
           0.8096522318544608,
           0.5150052223148938,
           1,
           0.4183991684433489,
           -0.03814630573396936,
           0.12706373682575528,
           0.4024315456804011,
           0.19923515418584242,
           0.32163208333977117,
           0.08441461469482657,
           -0.27471636323322207,
           -0.2662515294600604,
           0.2689190376859745,
           0.34522732698889624,
           0.22920589969241154,
           0.4183991684433489,
           1,
           0.1683555951341806,
           -0.18653150546584846,
           0.21747066202374052,
           -0.07635462165493778,
           0.03965254572097656,
           -0.2418999891664241,
           -0.20797904663855957,
           0.11039651322824147,
           -0.06747657711517237,
           0.4858464889124083,
           -0.07169461737195765,
           -0.03814630573396936,
           0.1683555951341806,
           1,
           0.3811462205946413,
           0.03980871327534577,
           -0.1552123421384843,
           0.12812533125464928,
           0.16762299125779165,
           -0.07392745988381719,
           0.1981455699051768,
           0.180578641767616,
           0.3480592480523219,
           -0.5069211625556098,
           0.12706373682575528,
           -0.18653150546584846,
           0.3811462205946413,
           1,
           -0.43564800647994456,
           -0.4045990888827386,
           -0.25451427454466263,
           0.05101491050802178,
           -0.04109430681883293,
           -0.30231203002529755,
           0.42619314409783443,
           0.3142509589655598,
           0.7002714568979663,
           0.4024315456804011,
           0.21747066202374052,
           0.03980871327534577,
           -0.43564800647994456,
           1,
           0.7733088764342873,
           0.7053128749318993,
           0.4511486122139001,
           -0.23774141134748553,
           0.23616113158408594,
           0.2252156939226765,
           0.055602914374864344,
           0.33829044484630943,
           0.19923515418584242,
           -0.07635462165493778,
           -0.1552123421384843,
           -0.4045990888827386,
           0.7733088764342873,
           1,
           0.759301274032041,
           0.6347366999700007,
           -0.521758880548156,
           0.053451752401391675,
           0.3477855831999934,
           0.2706773087091003,
           0.46783088591033106,
           0.32163208333977117,
           0.03965254572097656,
           0.12812533125464928,
           -0.25451427454466263,
           0.7053128749318993,
           0.759301274032041,
           1,
           0.6222643901548536,
           -0.3694152580837058,
           0.3212480161757996,
           0.14991168026714075,
           0.15947434567947028,
           0.09369894027210274,
           0.08441461469482657,
           -0.2418999891664241,
           0.16762299125779165,
           0.05101491050802178,
           0.4511486122139001,
           0.6347366999700007,
           0.6222643901548536,
           1,
           -0.29867460396301876,
           0.17004337951776122,
           -0.22853792429529615,
           -0.27044337907509314,
           0.20914713342776525,
           -0.27471636323322207,
           -0.20797904663855957,
           -0.07392745988381719,
           -0.04109430681883293,
           -0.23774141134748553,
           -0.521758880548156,
           -0.3694152580837058,
           -0.29867460396301876,
           1,
           0.49936723758793794,
           -0.2553451437942038,
           -0.199137909482433,
           0.35948369510220696,
           -0.2662515294600604,
           0.11039651322824147,
           0.1981455699051768,
           -0.30231203002529755,
           0.23616113158408594,
           0.053451752401391675,
           0.3212480161757996,
           0.17004337951776122,
           0.49936723758793794,
           1
          ],
          "colorbar": {
           "title": {
            "text": "Correlation"
           }
          },
          "colorscale": [
           [
            0,
            "rgb(5,48,97)"
           ],
           [
            0.1,
            "rgb(33,102,172)"
           ],
           [
            0.2,
            "rgb(67,147,195)"
           ],
           [
            0.3,
            "rgb(146,197,222)"
           ],
           [
            0.4,
            "rgb(209,229,240)"
           ],
           [
            0.5,
            "rgb(247,247,247)"
           ],
           [
            0.6,
            "rgb(253,219,199)"
           ],
           [
            0.7,
            "rgb(244,165,130)"
           ],
           [
            0.8,
            "rgb(214,96,77)"
           ],
           [
            0.9,
            "rgb(178,24,43)"
           ],
           [
            1,
            "rgb(103,0,31)"
           ]
          ],
          "size": [
           46,
           36.74627311680075,
           25.52623732886331,
           44.90067427994818,
           12.370275733554829,
           3.103922547297929,
           8.306617521310336,
           19.604884628500383,
           10.359921920443119,
           15.998136827199698,
           6.895937292288474,
           10.512744517583624,
           11.745876614533376,
           36.74627311680075,
           46,
           18.821977426933096,
           37.244002665305196,
           15.880457041489228,
           22.34893848997078,
           16.010725410406806,
           14.455544112415751,
           2.55773406124376,
           12.451156200618613,
           7.335819901255633,
           12.440395437454285,
           9.160343836191918,
           25.52623732886331,
           18.821977426933096,
           46,
           23.690240226485113,
           10.54347138585093,
           3.2979523991100517,
           23.31837347755805,
           32.21248701730645,
           15.561360462930233,
           21.52022075187523,
           4.310151252516726,
           9.620768137677201,
           16.53624997470152,
           44.90067427994818,
           37.244002665305196,
           23.690240226485113,
           46,
           19.24636174839405,
           1.7547300637625907,
           5.844931893984743,
           18.51185110129845,
           9.164817092548752,
           14.795075833629474,
           3.8830722759620224,
           12.636952708728215,
           12.247570355162779,
           12.370275733554829,
           15.880457041489228,
           10.54347138585093,
           19.24636174839405,
           46,
           7.744357376172308,
           8.580449251429028,
           10.003650453092064,
           3.512312596127138,
           1.8240171031649217,
           11.127399501655509,
           9.56703614537374,
           5.078239608499108,
           3.103922547297929,
           22.34893848997078,
           3.2979523991100517,
           1.7547300637625907,
           7.744357376172308,
           46,
           17.5327261473535,
           1.8312008106659055,
           7.139767738370279,
           5.893765237713867,
           7.7106575978584155,
           3.4006631546555908,
           9.114696215638132,
           8.306617521310336,
           16.010725410406806,
           23.31837347755805,
           5.844931893984743,
           8.580449251429028,
           17.5327261473535,
           46,
           20.03980829807745,
           18.611558088605975,
           11.707656629054481,
           2.346685883369002,
           1.8903381136663147,
           13.906353381163687,
           19.604884628500383,
           14.455544112415751,
           32.21248701730645,
           18.51185110129845,
           10.003650453092064,
           1.8312008106659055,
           20.03980829807745,
           46,
           35.572208315977214,
           32.444392246867366,
           20.752836161839404,
           10.936104921984334,
           10.863412052867954,
           10.359921920443119,
           2.55773406124376,
           15.561360462930233,
           9.164817092548752,
           3.512312596127138,
           7.139767738370279,
           18.611558088605975,
           35.572208315977214,
           46,
           34.92785860547389,
           29.19788819862003,
           24.000908505215175,
           2.458780610464017,
           15.998136827199698,
           12.451156200618613,
           21.52022075187523,
           14.795075833629474,
           1.8240171031649217,
           5.893765237713867,
           11.707656629054481,
           32.444392246867366,
           34.92785860547389,
           46,
           28.624161947123266,
           16.993101871850467,
           14.777408744086783,
           6.895937292288474,
           7.335819901255633,
           4.310151252516726,
           3.8830722759620224,
           11.127399501655509,
           7.7106575978584155,
           2.346685883369002,
           20.752836161839404,
           29.19788819862003,
           28.624161947123266,
           46,
           13.739031782298863,
           7.821995457817016,
           10.512744517583624,
           12.440395437454285,
           9.620768137677201,
           12.636952708728215,
           9.56703614537374,
           3.4006631546555908,
           1.8903381136663147,
           10.936104921984334,
           24.000908505215175,
           16.993101871850467,
           13.739031782298863,
           46,
           22.970892929045146,
           11.745876614533376,
           9.160343836191918,
           16.53624997470152,
           12.247570355162779,
           5.078239608499108,
           9.114696215638132,
           13.906353381163687,
           10.863412052867954,
           2.458780610464017,
           14.777408744086783,
           7.821995457817016,
           22.970892929045146,
           46
          ]
         },
         "mode": "markers",
         "type": "scatter",
         "x": [
          [
           "1.",
           "1.",
           "1.",
           "1.",
           "1.",
           "1.",
           "1.",
           "1.",
           "1.",
           "1.",
           "1.",
           "1.",
           "1.",
           "1.",
           "1.",
           "1.",
           "1.",
           "1.",
           "1.",
           "1.",
           "1.",
           "1.",
           "1.",
           "1.",
           "1.",
           "1.",
           "1.",
           "1.",
           "1.",
           "1.",
           "1.",
           "1.",
           "1.",
           "1.",
           "1.",
           "1.",
           "1.",
           "1.",
           "1.",
           "1.",
           "1.",
           "1.",
           "1.",
           "1.",
           "1.",
           "1.",
           "1.",
           "1.",
           "1.",
           "1.",
           "1.",
           "1.",
           "2.",
           "2.",
           "2.",
           "2.",
           "2.",
           "2.",
           "2.",
           "2.",
           "2.",
           "2.",
           "2.",
           "2.",
           "2.",
           "2.",
           "2.",
           "2.",
           "2.",
           "2.",
           "2.",
           "2.",
           "2.",
           "2.",
           "2.",
           "2.",
           "2.",
           "2.",
           "2.",
           "2.",
           "2.",
           "2.",
           "2.",
           "2.",
           "2.",
           "2.",
           "2.",
           "2.",
           "2.",
           "2.",
           "2.",
           "3.",
           "3.",
           "3.",
           "3.",
           "3.",
           "3.",
           "3.",
           "3.",
           "3.",
           "3.",
           "3.",
           "3.",
           "3.",
           "3.",
           "3.",
           "3.",
           "3.",
           "3.",
           "3.",
           "3.",
           "3.",
           "3.",
           "3.",
           "3.",
           "3.",
           "3.",
           "3.",
           "3.",
           "3.",
           "3.",
           "3.",
           "3.",
           "3.",
           "3.",
           "3.",
           "3.",
           "3.",
           "3.",
           "3.",
           "3.",
           "3.",
           "3.",
           "3.",
           "3.",
           "3.",
           "3.",
           "3.",
           "3.",
           "3.",
           "3.",
           "3.",
           "3.",
           "3.",
           "3.",
           "3.",
           "3.",
           "3.",
           "3.",
           "3.",
           "3.",
           "3.",
           "3.",
           "3.",
           "3.",
           "3.",
           "3.",
           "3.",
           "3.",
           "3.",
           "3.",
           "3.",
           "3.",
           "3.",
           "3.",
           "3.",
           "3.",
           "3.",
           "3."
          ],
          [
           "Tot Cases/1M pop",
           "Tot Cases/1M pop",
           "Tot Cases/1M pop",
           "Tot Cases/1M pop",
           "Tot Cases/1M pop",
           "Tot Cases/1M pop",
           "Tot Cases/1M pop",
           "Tot Cases/1M pop",
           "Tot Cases/1M pop",
           "Tot Cases/1M pop",
           "Tot Cases/1M pop",
           "Tot Cases/1M pop",
           "Tot Cases/1M pop",
           "Deaths/1M pop",
           "Deaths/1M pop",
           "Deaths/1M pop",
           "Deaths/1M pop",
           "Deaths/1M pop",
           "Deaths/1M pop",
           "Deaths/1M pop",
           "Deaths/1M pop",
           "Deaths/1M pop",
           "Deaths/1M pop",
           "Deaths/1M pop",
           "Deaths/1M pop",
           "Deaths/1M pop",
           "Tests/1M pop",
           "Tests/1M pop",
           "Tests/1M pop",
           "Tests/1M pop",
           "Tests/1M pop",
           "Tests/1M pop",
           "Tests/1M pop",
           "Tests/1M pop",
           "Tests/1M pop",
           "Tests/1M pop",
           "Tests/1M pop",
           "Tests/1M pop",
           "Tests/1M pop",
           "Recovered/1M pop",
           "Recovered/1M pop",
           "Recovered/1M pop",
           "Recovered/1M pop",
           "Recovered/1M pop",
           "Recovered/1M pop",
           "Recovered/1M pop",
           "Recovered/1M pop",
           "Recovered/1M pop",
           "Recovered/1M pop",
           "Recovered/1M pop",
           "Recovered/1M pop",
           "Recovered/1M pop",
           "Recovered/1M cases",
           "Recovered/1M cases",
           "Recovered/1M cases",
           "Recovered/1M cases",
           "Recovered/1M cases",
           "Recovered/1M cases",
           "Recovered/1M cases",
           "Recovered/1M cases",
           "Recovered/1M cases",
           "Recovered/1M cases",
           "Recovered/1M cases",
           "Recovered/1M cases",
           "Recovered/1M cases",
           "Deaths/1M cases",
           "Deaths/1M cases",
           "Deaths/1M cases",
           "Deaths/1M cases",
           "Deaths/1M cases",
           "Deaths/1M cases",
           "Deaths/1M cases",
           "Deaths/1M cases",
           "Deaths/1M cases",
           "Deaths/1M cases",
           "Deaths/1M cases",
           "Deaths/1M cases",
           "Deaths/1M cases",
           "Confirmed/1M tests",
           "Confirmed/1M tests",
           "Confirmed/1M tests",
           "Confirmed/1M tests",
           "Confirmed/1M tests",
           "Confirmed/1M tests",
           "Confirmed/1M tests",
           "Confirmed/1M tests",
           "Confirmed/1M tests",
           "Confirmed/1M tests",
           "Confirmed/1M tests",
           "Confirmed/1M tests",
           "Confirmed/1M tests",
           "GDP",
           "GDP",
           "GDP",
           "GDP",
           "GDP",
           "GDP",
           "GDP",
           "GDP",
           "GDP",
           "GDP",
           "GDP",
           "GDP",
           "GDP",
           "Family",
           "Family",
           "Family",
           "Family",
           "Family",
           "Family",
           "Family",
           "Family",
           "Family",
           "Family",
           "Family",
           "Family",
           "Family",
           "Life expectancy",
           "Life expectancy",
           "Life expectancy",
           "Life expectancy",
           "Life expectancy",
           "Life expectancy",
           "Life expectancy",
           "Life expectancy",
           "Life expectancy",
           "Life expectancy",
           "Life expectancy",
           "Life expectancy",
           "Life expectancy",
           "Freedom",
           "Freedom",
           "Freedom",
           "Freedom",
           "Freedom",
           "Freedom",
           "Freedom",
           "Freedom",
           "Freedom",
           "Freedom",
           "Freedom",
           "Freedom",
           "Freedom",
           "Generosity",
           "Generosity",
           "Generosity",
           "Generosity",
           "Generosity",
           "Generosity",
           "Generosity",
           "Generosity",
           "Generosity",
           "Generosity",
           "Generosity",
           "Generosity",
           "Generosity",
           "Trust",
           "Trust",
           "Trust",
           "Trust",
           "Trust",
           "Trust",
           "Trust",
           "Trust",
           "Trust",
           "Trust",
           "Trust",
           "Trust",
           "Trust"
          ]
         ],
         "y": [
          [
           "1.",
           "1.",
           "1.",
           "1.",
           "2.",
           "2.",
           "2.",
           "3.",
           "3.",
           "3.",
           "3.",
           "3.",
           "3.",
           "1.",
           "1.",
           "1.",
           "1.",
           "2.",
           "2.",
           "2.",
           "3.",
           "3.",
           "3.",
           "3.",
           "3.",
           "3.",
           "1.",
           "1.",
           "1.",
           "1.",
           "2.",
           "2.",
           "2.",
           "3.",
           "3.",
           "3.",
           "3.",
           "3.",
           "3.",
           "1.",
           "1.",
           "1.",
           "1.",
           "2.",
           "2.",
           "2.",
           "3.",
           "3.",
           "3.",
           "3.",
           "3.",
           "3.",
           "1.",
           "1.",
           "1.",
           "1.",
           "2.",
           "2.",
           "2.",
           "3.",
           "3.",
           "3.",
           "3.",
           "3.",
           "3.",
           "1.",
           "1.",
           "1.",
           "1.",
           "2.",
           "2.",
           "2.",
           "3.",
           "3.",
           "3.",
           "3.",
           "3.",
           "3.",
           "1.",
           "1.",
           "1.",
           "1.",
           "2.",
           "2.",
           "2.",
           "3.",
           "3.",
           "3.",
           "3.",
           "3.",
           "3.",
           "1.",
           "1.",
           "1.",
           "1.",
           "2.",
           "2.",
           "2.",
           "3.",
           "3.",
           "3.",
           "3.",
           "3.",
           "3.",
           "1.",
           "1.",
           "1.",
           "1.",
           "2.",
           "2.",
           "2.",
           "3.",
           "3.",
           "3.",
           "3.",
           "3.",
           "3.",
           "1.",
           "1.",
           "1.",
           "1.",
           "2.",
           "2.",
           "2.",
           "3.",
           "3.",
           "3.",
           "3.",
           "3.",
           "3.",
           "1.",
           "1.",
           "1.",
           "1.",
           "2.",
           "2.",
           "2.",
           "3.",
           "3.",
           "3.",
           "3.",
           "3.",
           "3.",
           "1.",
           "1.",
           "1.",
           "1.",
           "2.",
           "2.",
           "2.",
           "3.",
           "3.",
           "3.",
           "3.",
           "3.",
           "3.",
           "1.",
           "1.",
           "1.",
           "1.",
           "2.",
           "2.",
           "2.",
           "3.",
           "3.",
           "3.",
           "3.",
           "3.",
           "3."
          ],
          [
           "Tot Cases/1M pop",
           "Deaths/1M pop",
           "Tests/1M pop",
           "Recovered/1M pop",
           "Recovered/1M cases",
           "Deaths/1M cases",
           "Confirmed/1M tests",
           "GDP",
           "Family",
           "Life expectancy",
           "Freedom",
           "Generosity",
           "Trust",
           "Tot Cases/1M pop",
           "Deaths/1M pop",
           "Tests/1M pop",
           "Recovered/1M pop",
           "Recovered/1M cases",
           "Deaths/1M cases",
           "Confirmed/1M tests",
           "GDP",
           "Family",
           "Life expectancy",
           "Freedom",
           "Generosity",
           "Trust",
           "Tot Cases/1M pop",
           "Deaths/1M pop",
           "Tests/1M pop",
           "Recovered/1M pop",
           "Recovered/1M cases",
           "Deaths/1M cases",
           "Confirmed/1M tests",
           "GDP",
           "Family",
           "Life expectancy",
           "Freedom",
           "Generosity",
           "Trust",
           "Tot Cases/1M pop",
           "Deaths/1M pop",
           "Tests/1M pop",
           "Recovered/1M pop",
           "Recovered/1M cases",
           "Deaths/1M cases",
           "Confirmed/1M tests",
           "GDP",
           "Family",
           "Life expectancy",
           "Freedom",
           "Generosity",
           "Trust",
           "Tot Cases/1M pop",
           "Deaths/1M pop",
           "Tests/1M pop",
           "Recovered/1M pop",
           "Recovered/1M cases",
           "Deaths/1M cases",
           "Confirmed/1M tests",
           "GDP",
           "Family",
           "Life expectancy",
           "Freedom",
           "Generosity",
           "Trust",
           "Tot Cases/1M pop",
           "Deaths/1M pop",
           "Tests/1M pop",
           "Recovered/1M pop",
           "Recovered/1M cases",
           "Deaths/1M cases",
           "Confirmed/1M tests",
           "GDP",
           "Family",
           "Life expectancy",
           "Freedom",
           "Generosity",
           "Trust",
           "Tot Cases/1M pop",
           "Deaths/1M pop",
           "Tests/1M pop",
           "Recovered/1M pop",
           "Recovered/1M cases",
           "Deaths/1M cases",
           "Confirmed/1M tests",
           "GDP",
           "Family",
           "Life expectancy",
           "Freedom",
           "Generosity",
           "Trust",
           "Tot Cases/1M pop",
           "Deaths/1M pop",
           "Tests/1M pop",
           "Recovered/1M pop",
           "Recovered/1M cases",
           "Deaths/1M cases",
           "Confirmed/1M tests",
           "GDP",
           "Family",
           "Life expectancy",
           "Freedom",
           "Generosity",
           "Trust",
           "Tot Cases/1M pop",
           "Deaths/1M pop",
           "Tests/1M pop",
           "Recovered/1M pop",
           "Recovered/1M cases",
           "Deaths/1M cases",
           "Confirmed/1M tests",
           "GDP",
           "Family",
           "Life expectancy",
           "Freedom",
           "Generosity",
           "Trust",
           "Tot Cases/1M pop",
           "Deaths/1M pop",
           "Tests/1M pop",
           "Recovered/1M pop",
           "Recovered/1M cases",
           "Deaths/1M cases",
           "Confirmed/1M tests",
           "GDP",
           "Family",
           "Life expectancy",
           "Freedom",
           "Generosity",
           "Trust",
           "Tot Cases/1M pop",
           "Deaths/1M pop",
           "Tests/1M pop",
           "Recovered/1M pop",
           "Recovered/1M cases",
           "Deaths/1M cases",
           "Confirmed/1M tests",
           "GDP",
           "Family",
           "Life expectancy",
           "Freedom",
           "Generosity",
           "Trust",
           "Tot Cases/1M pop",
           "Deaths/1M pop",
           "Tests/1M pop",
           "Recovered/1M pop",
           "Recovered/1M cases",
           "Deaths/1M cases",
           "Confirmed/1M tests",
           "GDP",
           "Family",
           "Life expectancy",
           "Freedom",
           "Generosity",
           "Trust",
           "Tot Cases/1M pop",
           "Deaths/1M pop",
           "Tests/1M pop",
           "Recovered/1M pop",
           "Recovered/1M cases",
           "Deaths/1M cases",
           "Confirmed/1M tests",
           "GDP",
           "Family",
           "Life expectancy",
           "Freedom",
           "Generosity",
           "Trust"
          ]
         ]
        }
       ],
       "layout": {
        "font": {
         "size": 15
        },
        "height": 885,
        "template": {
         "data": {
          "bar": [
           {
            "error_x": {
             "color": "#2a3f5f"
            },
            "error_y": {
             "color": "#2a3f5f"
            },
            "marker": {
             "line": {
              "color": "#E5ECF6",
              "width": 0.5
             }
            },
            "type": "bar"
           }
          ],
          "barpolar": [
           {
            "marker": {
             "line": {
              "color": "#E5ECF6",
              "width": 0.5
             }
            },
            "type": "barpolar"
           }
          ],
          "carpet": [
           {
            "aaxis": {
             "endlinecolor": "#2a3f5f",
             "gridcolor": "white",
             "linecolor": "white",
             "minorgridcolor": "white",
             "startlinecolor": "#2a3f5f"
            },
            "baxis": {
             "endlinecolor": "#2a3f5f",
             "gridcolor": "white",
             "linecolor": "white",
             "minorgridcolor": "white",
             "startlinecolor": "#2a3f5f"
            },
            "type": "carpet"
           }
          ],
          "choropleth": [
           {
            "colorbar": {
             "outlinewidth": 0,
             "ticks": ""
            },
            "type": "choropleth"
           }
          ],
          "contour": [
           {
            "colorbar": {
             "outlinewidth": 0,
             "ticks": ""
            },
            "colorscale": [
             [
              0,
              "#0d0887"
             ],
             [
              0.1111111111111111,
              "#46039f"
             ],
             [
              0.2222222222222222,
              "#7201a8"
             ],
             [
              0.3333333333333333,
              "#9c179e"
             ],
             [
              0.4444444444444444,
              "#bd3786"
             ],
             [
              0.5555555555555556,
              "#d8576b"
             ],
             [
              0.6666666666666666,
              "#ed7953"
             ],
             [
              0.7777777777777778,
              "#fb9f3a"
             ],
             [
              0.8888888888888888,
              "#fdca26"
             ],
             [
              1,
              "#f0f921"
             ]
            ],
            "type": "contour"
           }
          ],
          "contourcarpet": [
           {
            "colorbar": {
             "outlinewidth": 0,
             "ticks": ""
            },
            "type": "contourcarpet"
           }
          ],
          "heatmap": [
           {
            "colorbar": {
             "outlinewidth": 0,
             "ticks": ""
            },
            "colorscale": [
             [
              0,
              "#0d0887"
             ],
             [
              0.1111111111111111,
              "#46039f"
             ],
             [
              0.2222222222222222,
              "#7201a8"
             ],
             [
              0.3333333333333333,
              "#9c179e"
             ],
             [
              0.4444444444444444,
              "#bd3786"
             ],
             [
              0.5555555555555556,
              "#d8576b"
             ],
             [
              0.6666666666666666,
              "#ed7953"
             ],
             [
              0.7777777777777778,
              "#fb9f3a"
             ],
             [
              0.8888888888888888,
              "#fdca26"
             ],
             [
              1,
              "#f0f921"
             ]
            ],
            "type": "heatmap"
           }
          ],
          "heatmapgl": [
           {
            "colorbar": {
             "outlinewidth": 0,
             "ticks": ""
            },
            "colorscale": [
             [
              0,
              "#0d0887"
             ],
             [
              0.1111111111111111,
              "#46039f"
             ],
             [
              0.2222222222222222,
              "#7201a8"
             ],
             [
              0.3333333333333333,
              "#9c179e"
             ],
             [
              0.4444444444444444,
              "#bd3786"
             ],
             [
              0.5555555555555556,
              "#d8576b"
             ],
             [
              0.6666666666666666,
              "#ed7953"
             ],
             [
              0.7777777777777778,
              "#fb9f3a"
             ],
             [
              0.8888888888888888,
              "#fdca26"
             ],
             [
              1,
              "#f0f921"
             ]
            ],
            "type": "heatmapgl"
           }
          ],
          "histogram": [
           {
            "marker": {
             "colorbar": {
              "outlinewidth": 0,
              "ticks": ""
             }
            },
            "type": "histogram"
           }
          ],
          "histogram2d": [
           {
            "colorbar": {
             "outlinewidth": 0,
             "ticks": ""
            },
            "colorscale": [
             [
              0,
              "#0d0887"
             ],
             [
              0.1111111111111111,
              "#46039f"
             ],
             [
              0.2222222222222222,
              "#7201a8"
             ],
             [
              0.3333333333333333,
              "#9c179e"
             ],
             [
              0.4444444444444444,
              "#bd3786"
             ],
             [
              0.5555555555555556,
              "#d8576b"
             ],
             [
              0.6666666666666666,
              "#ed7953"
             ],
             [
              0.7777777777777778,
              "#fb9f3a"
             ],
             [
              0.8888888888888888,
              "#fdca26"
             ],
             [
              1,
              "#f0f921"
             ]
            ],
            "type": "histogram2d"
           }
          ],
          "histogram2dcontour": [
           {
            "colorbar": {
             "outlinewidth": 0,
             "ticks": ""
            },
            "colorscale": [
             [
              0,
              "#0d0887"
             ],
             [
              0.1111111111111111,
              "#46039f"
             ],
             [
              0.2222222222222222,
              "#7201a8"
             ],
             [
              0.3333333333333333,
              "#9c179e"
             ],
             [
              0.4444444444444444,
              "#bd3786"
             ],
             [
              0.5555555555555556,
              "#d8576b"
             ],
             [
              0.6666666666666666,
              "#ed7953"
             ],
             [
              0.7777777777777778,
              "#fb9f3a"
             ],
             [
              0.8888888888888888,
              "#fdca26"
             ],
             [
              1,
              "#f0f921"
             ]
            ],
            "type": "histogram2dcontour"
           }
          ],
          "mesh3d": [
           {
            "colorbar": {
             "outlinewidth": 0,
             "ticks": ""
            },
            "type": "mesh3d"
           }
          ],
          "parcoords": [
           {
            "line": {
             "colorbar": {
              "outlinewidth": 0,
              "ticks": ""
             }
            },
            "type": "parcoords"
           }
          ],
          "pie": [
           {
            "automargin": true,
            "type": "pie"
           }
          ],
          "scatter": [
           {
            "marker": {
             "colorbar": {
              "outlinewidth": 0,
              "ticks": ""
             }
            },
            "type": "scatter"
           }
          ],
          "scatter3d": [
           {
            "line": {
             "colorbar": {
              "outlinewidth": 0,
              "ticks": ""
             }
            },
            "marker": {
             "colorbar": {
              "outlinewidth": 0,
              "ticks": ""
             }
            },
            "type": "scatter3d"
           }
          ],
          "scattercarpet": [
           {
            "marker": {
             "colorbar": {
              "outlinewidth": 0,
              "ticks": ""
             }
            },
            "type": "scattercarpet"
           }
          ],
          "scattergeo": [
           {
            "marker": {
             "colorbar": {
              "outlinewidth": 0,
              "ticks": ""
             }
            },
            "type": "scattergeo"
           }
          ],
          "scattergl": [
           {
            "marker": {
             "colorbar": {
              "outlinewidth": 0,
              "ticks": ""
             }
            },
            "type": "scattergl"
           }
          ],
          "scattermapbox": [
           {
            "marker": {
             "colorbar": {
              "outlinewidth": 0,
              "ticks": ""
             }
            },
            "type": "scattermapbox"
           }
          ],
          "scatterpolar": [
           {
            "marker": {
             "colorbar": {
              "outlinewidth": 0,
              "ticks": ""
             }
            },
            "type": "scatterpolar"
           }
          ],
          "scatterpolargl": [
           {
            "marker": {
             "colorbar": {
              "outlinewidth": 0,
              "ticks": ""
             }
            },
            "type": "scatterpolargl"
           }
          ],
          "scatterternary": [
           {
            "marker": {
             "colorbar": {
              "outlinewidth": 0,
              "ticks": ""
             }
            },
            "type": "scatterternary"
           }
          ],
          "surface": [
           {
            "colorbar": {
             "outlinewidth": 0,
             "ticks": ""
            },
            "colorscale": [
             [
              0,
              "#0d0887"
             ],
             [
              0.1111111111111111,
              "#46039f"
             ],
             [
              0.2222222222222222,
              "#7201a8"
             ],
             [
              0.3333333333333333,
              "#9c179e"
             ],
             [
              0.4444444444444444,
              "#bd3786"
             ],
             [
              0.5555555555555556,
              "#d8576b"
             ],
             [
              0.6666666666666666,
              "#ed7953"
             ],
             [
              0.7777777777777778,
              "#fb9f3a"
             ],
             [
              0.8888888888888888,
              "#fdca26"
             ],
             [
              1,
              "#f0f921"
             ]
            ],
            "type": "surface"
           }
          ],
          "table": [
           {
            "cells": {
             "fill": {
              "color": "#EBF0F8"
             },
             "line": {
              "color": "white"
             }
            },
            "header": {
             "fill": {
              "color": "#C8D4E3"
             },
             "line": {
              "color": "white"
             }
            },
            "type": "table"
           }
          ]
         },
         "layout": {
          "annotationdefaults": {
           "arrowcolor": "#2a3f5f",
           "arrowhead": 0,
           "arrowwidth": 1
          },
          "coloraxis": {
           "colorbar": {
            "outlinewidth": 0,
            "ticks": ""
           }
          },
          "colorscale": {
           "diverging": [
            [
             0,
             "#8e0152"
            ],
            [
             0.1,
             "#c51b7d"
            ],
            [
             0.2,
             "#de77ae"
            ],
            [
             0.3,
             "#f1b6da"
            ],
            [
             0.4,
             "#fde0ef"
            ],
            [
             0.5,
             "#f7f7f7"
            ],
            [
             0.6,
             "#e6f5d0"
            ],
            [
             0.7,
             "#b8e186"
            ],
            [
             0.8,
             "#7fbc41"
            ],
            [
             0.9,
             "#4d9221"
            ],
            [
             1,
             "#276419"
            ]
           ],
           "sequential": [
            [
             0,
             "#0d0887"
            ],
            [
             0.1111111111111111,
             "#46039f"
            ],
            [
             0.2222222222222222,
             "#7201a8"
            ],
            [
             0.3333333333333333,
             "#9c179e"
            ],
            [
             0.4444444444444444,
             "#bd3786"
            ],
            [
             0.5555555555555556,
             "#d8576b"
            ],
            [
             0.6666666666666666,
             "#ed7953"
            ],
            [
             0.7777777777777778,
             "#fb9f3a"
            ],
            [
             0.8888888888888888,
             "#fdca26"
            ],
            [
             1,
             "#f0f921"
            ]
           ],
           "sequentialminus": [
            [
             0,
             "#0d0887"
            ],
            [
             0.1111111111111111,
             "#46039f"
            ],
            [
             0.2222222222222222,
             "#7201a8"
            ],
            [
             0.3333333333333333,
             "#9c179e"
            ],
            [
             0.4444444444444444,
             "#bd3786"
            ],
            [
             0.5555555555555556,
             "#d8576b"
            ],
            [
             0.6666666666666666,
             "#ed7953"
            ],
            [
             0.7777777777777778,
             "#fb9f3a"
            ],
            [
             0.8888888888888888,
             "#fdca26"
            ],
            [
             1,
             "#f0f921"
            ]
           ]
          },
          "colorway": [
           "#636efa",
           "#EF553B",
           "#00cc96",
           "#ab63fa",
           "#FFA15A",
           "#19d3f3",
           "#FF6692",
           "#B6E880",
           "#FF97FF",
           "#FECB52"
          ],
          "font": {
           "color": "#2a3f5f"
          },
          "geo": {
           "bgcolor": "white",
           "lakecolor": "white",
           "landcolor": "#E5ECF6",
           "showlakes": true,
           "showland": true,
           "subunitcolor": "white"
          },
          "hoverlabel": {
           "align": "left"
          },
          "hovermode": "closest",
          "mapbox": {
           "style": "light"
          },
          "paper_bgcolor": "white",
          "plot_bgcolor": "#E5ECF6",
          "polar": {
           "angularaxis": {
            "gridcolor": "white",
            "linecolor": "white",
            "ticks": ""
           },
           "bgcolor": "#E5ECF6",
           "radialaxis": {
            "gridcolor": "white",
            "linecolor": "white",
            "ticks": ""
           }
          },
          "scene": {
           "xaxis": {
            "backgroundcolor": "#E5ECF6",
            "gridcolor": "white",
            "gridwidth": 2,
            "linecolor": "white",
            "showbackground": true,
            "ticks": "",
            "zerolinecolor": "white"
           },
           "yaxis": {
            "backgroundcolor": "#E5ECF6",
            "gridcolor": "white",
            "gridwidth": 2,
            "linecolor": "white",
            "showbackground": true,
            "ticks": "",
            "zerolinecolor": "white"
           },
           "zaxis": {
            "backgroundcolor": "#E5ECF6",
            "gridcolor": "white",
            "gridwidth": 2,
            "linecolor": "white",
            "showbackground": true,
            "ticks": "",
            "zerolinecolor": "white"
           }
          },
          "shapedefaults": {
           "line": {
            "color": "#2a3f5f"
           }
          },
          "ternary": {
           "aaxis": {
            "gridcolor": "white",
            "linecolor": "white",
            "ticks": ""
           },
           "baxis": {
            "gridcolor": "white",
            "linecolor": "white",
            "ticks": ""
           },
           "bgcolor": "#E5ECF6",
           "caxis": {
            "gridcolor": "white",
            "linecolor": "white",
            "ticks": ""
           }
          },
          "title": {
           "x": 0.05
          },
          "xaxis": {
           "automargin": true,
           "gridcolor": "white",
           "linecolor": "white",
           "ticks": "",
           "title": {
            "standoff": 15
           },
           "zerolinecolor": "white",
           "zerolinewidth": 2
          },
          "yaxis": {
           "automargin": true,
           "gridcolor": "white",
           "linecolor": "white",
           "ticks": "",
           "title": {
            "standoff": 15
           },
           "zerolinecolor": "white",
           "zerolinewidth": 2
          }
         }
        },
        "title": {
         "text": "Americas: 23 countries"
        },
        "width": 885,
        "xaxis": {
         "range": [
          0.5,
          12.5
         ],
         "showgrid": true,
         "ticklen": 0,
         "ticks": "outside",
         "tickson": "boundaries"
        },
        "yaxis": {
         "range": [
          0.5,
          12.5
         ],
         "showgrid": true,
         "ticklen": 0,
         "ticks": "outside",
         "tickson": "boundaries"
        }
       }
      },
      "text/html": [
       "<div>\n",
       "        \n",
       "        \n",
       "            <div id=\"165d3ebd-206c-424c-9184-26b52435054a\" class=\"plotly-graph-div\" style=\"height:885px; width:885px;\"></div>\n",
       "            <script type=\"text/javascript\">\n",
       "                require([\"plotly\"], function(Plotly) {\n",
       "                    window.PLOTLYENV=window.PLOTLYENV || {};\n",
       "                    \n",
       "                if (document.getElementById(\"165d3ebd-206c-424c-9184-26b52435054a\")) {\n",
       "                    Plotly.newPlot(\n",
       "                        '165d3ebd-206c-424c-9184-26b52435054a',\n",
       "                        [{\"hoverinfo\": \"text\", \"hovertext\": [\"1.0\", \"0.7988320242782772\", \"0.5549182028013763\", \"0.9761016147814822\", \"0.2689190376859745\", \"-0.06747657711517237\", \"0.180578641767616\", \"0.42619314409783443\", \"0.2252156939226765\", \"0.3477855831999934\", \"0.14991168026714075\", \"-0.22853792429529615\", \"-0.2553451437942038\", \"0.7988320242782772\", \"1.0\", \"0.4091734223246325\", \"0.8096522318544608\", \"0.34522732698889624\", \"0.4858464889124083\", \"0.3480592480523219\", \"0.3142509589655598\", \"0.055602914374864344\", \"0.2706773087091003\", \"0.15947434567947028\", \"-0.27044337907509314\", \"-0.199137909482433\", \"0.5549182028013763\", \"0.4091734223246325\", \"1.0\", \"0.5150052223148938\", \"0.22920589969241154\", \"-0.07169461737195765\", \"-0.5069211625556098\", \"0.7002714568979663\", \"0.33829044484630943\", \"0.46783088591033106\", \"0.09369894027210274\", \"0.20914713342776525\", \"0.35948369510220696\", \"0.9761016147814822\", \"0.8096522318544608\", \"0.5150052223148938\", \"1.0\", \"0.4183991684433489\", \"-0.03814630573396936\", \"0.12706373682575528\", \"0.4024315456804011\", \"0.19923515418584242\", \"0.32163208333977117\", \"0.08441461469482657\", \"-0.27471636323322207\", \"-0.2662515294600604\", \"0.2689190376859745\", \"0.34522732698889624\", \"0.22920589969241154\", \"0.4183991684433489\", \"1.0\", \"0.1683555951341806\", \"-0.18653150546584846\", \"0.21747066202374052\", \"-0.07635462165493778\", \"0.03965254572097656\", \"-0.2418999891664241\", \"-0.20797904663855957\", \"0.11039651322824147\", \"-0.06747657711517237\", \"0.4858464889124083\", \"-0.07169461737195765\", \"-0.03814630573396936\", \"0.1683555951341806\", \"1.0\", \"0.3811462205946413\", \"0.03980871327534577\", \"-0.1552123421384843\", \"0.12812533125464928\", \"0.16762299125779165\", \"-0.07392745988381719\", \"0.1981455699051768\", \"0.180578641767616\", \"0.3480592480523219\", \"-0.5069211625556098\", \"0.12706373682575528\", \"-0.18653150546584846\", \"0.3811462205946413\", \"1.0\", \"-0.43564800647994456\", \"-0.4045990888827386\", \"-0.25451427454466263\", \"0.05101491050802178\", \"-0.04109430681883293\", \"-0.30231203002529755\", \"0.42619314409783443\", \"0.3142509589655598\", \"0.7002714568979663\", \"0.4024315456804011\", \"0.21747066202374052\", \"0.03980871327534577\", \"-0.43564800647994456\", \"1.0\", \"0.7733088764342873\", \"0.7053128749318993\", \"0.4511486122139001\", \"-0.23774141134748553\", \"0.23616113158408594\", \"0.2252156939226765\", \"0.055602914374864344\", \"0.33829044484630943\", \"0.19923515418584242\", \"-0.07635462165493778\", \"-0.1552123421384843\", \"-0.4045990888827386\", \"0.7733088764342873\", \"1.0\", \"0.759301274032041\", \"0.6347366999700007\", \"-0.521758880548156\", \"0.053451752401391675\", \"0.3477855831999934\", \"0.2706773087091003\", \"0.46783088591033106\", \"0.32163208333977117\", \"0.03965254572097656\", \"0.12812533125464928\", \"-0.25451427454466263\", \"0.7053128749318993\", \"0.759301274032041\", \"1.0\", \"0.6222643901548536\", \"-0.3694152580837058\", \"0.3212480161757996\", \"0.14991168026714075\", \"0.15947434567947028\", \"0.09369894027210274\", \"0.08441461469482657\", \"-0.2418999891664241\", \"0.16762299125779165\", \"0.05101491050802178\", \"0.4511486122139001\", \"0.6347366999700007\", \"0.6222643901548536\", \"1.0\", \"-0.29867460396301876\", \"0.17004337951776122\", \"-0.22853792429529615\", \"-0.27044337907509314\", \"0.20914713342776525\", \"-0.27471636323322207\", \"-0.20797904663855957\", \"-0.07392745988381719\", \"-0.04109430681883293\", \"-0.23774141134748553\", \"-0.521758880548156\", \"-0.3694152580837058\", \"-0.29867460396301876\", \"1.0\", \"0.49936723758793794\", \"-0.2553451437942038\", \"-0.199137909482433\", \"0.35948369510220696\", \"-0.2662515294600604\", \"0.11039651322824147\", \"0.1981455699051768\", \"-0.30231203002529755\", \"0.23616113158408594\", \"0.053451752401391675\", \"0.3212480161757996\", \"0.17004337951776122\", \"0.49936723758793794\", \"1.0\"], \"marker\": {\"cmid\": 0, \"color\": [1.0, 0.7988320242782772, 0.5549182028013763, 0.9761016147814822, 0.2689190376859745, -0.06747657711517237, 0.180578641767616, 0.42619314409783443, 0.2252156939226765, 0.3477855831999934, 0.14991168026714075, -0.22853792429529615, -0.2553451437942038, 0.7988320242782772, 1.0, 0.4091734223246325, 0.8096522318544608, 0.34522732698889624, 0.4858464889124083, 0.3480592480523219, 0.3142509589655598, 0.055602914374864344, 0.2706773087091003, 0.15947434567947028, -0.27044337907509314, -0.199137909482433, 0.5549182028013763, 0.4091734223246325, 1.0, 0.5150052223148938, 0.22920589969241154, -0.07169461737195765, -0.5069211625556098, 0.7002714568979663, 0.33829044484630943, 0.46783088591033106, 0.09369894027210274, 0.20914713342776525, 0.35948369510220696, 0.9761016147814822, 0.8096522318544608, 0.5150052223148938, 1.0, 0.4183991684433489, -0.03814630573396936, 0.12706373682575528, 0.4024315456804011, 0.19923515418584242, 0.32163208333977117, 0.08441461469482657, -0.27471636323322207, -0.2662515294600604, 0.2689190376859745, 0.34522732698889624, 0.22920589969241154, 0.4183991684433489, 1.0, 0.1683555951341806, -0.18653150546584846, 0.21747066202374052, -0.07635462165493778, 0.03965254572097656, -0.2418999891664241, -0.20797904663855957, 0.11039651322824147, -0.06747657711517237, 0.4858464889124083, -0.07169461737195765, -0.03814630573396936, 0.1683555951341806, 1.0, 0.3811462205946413, 0.03980871327534577, -0.1552123421384843, 0.12812533125464928, 0.16762299125779165, -0.07392745988381719, 0.1981455699051768, 0.180578641767616, 0.3480592480523219, -0.5069211625556098, 0.12706373682575528, -0.18653150546584846, 0.3811462205946413, 1.0, -0.43564800647994456, -0.4045990888827386, -0.25451427454466263, 0.05101491050802178, -0.04109430681883293, -0.30231203002529755, 0.42619314409783443, 0.3142509589655598, 0.7002714568979663, 0.4024315456804011, 0.21747066202374052, 0.03980871327534577, -0.43564800647994456, 1.0, 0.7733088764342873, 0.7053128749318993, 0.4511486122139001, -0.23774141134748553, 0.23616113158408594, 0.2252156939226765, 0.055602914374864344, 0.33829044484630943, 0.19923515418584242, -0.07635462165493778, -0.1552123421384843, -0.4045990888827386, 0.7733088764342873, 1.0, 0.759301274032041, 0.6347366999700007, -0.521758880548156, 0.053451752401391675, 0.3477855831999934, 0.2706773087091003, 0.46783088591033106, 0.32163208333977117, 0.03965254572097656, 0.12812533125464928, -0.25451427454466263, 0.7053128749318993, 0.759301274032041, 1.0, 0.6222643901548536, -0.3694152580837058, 0.3212480161757996, 0.14991168026714075, 0.15947434567947028, 0.09369894027210274, 0.08441461469482657, -0.2418999891664241, 0.16762299125779165, 0.05101491050802178, 0.4511486122139001, 0.6347366999700007, 0.6222643901548536, 1.0, -0.29867460396301876, 0.17004337951776122, -0.22853792429529615, -0.27044337907509314, 0.20914713342776525, -0.27471636323322207, -0.20797904663855957, -0.07392745988381719, -0.04109430681883293, -0.23774141134748553, -0.521758880548156, -0.3694152580837058, -0.29867460396301876, 1.0, 0.49936723758793794, -0.2553451437942038, -0.199137909482433, 0.35948369510220696, -0.2662515294600604, 0.11039651322824147, 0.1981455699051768, -0.30231203002529755, 0.23616113158408594, 0.053451752401391675, 0.3212480161757996, 0.17004337951776122, 0.49936723758793794, 1.0], \"colorbar\": {\"title\": {\"text\": \"Correlation\"}}, \"colorscale\": [[0.0, \"rgb(5,48,97)\"], [0.1, \"rgb(33,102,172)\"], [0.2, \"rgb(67,147,195)\"], [0.3, \"rgb(146,197,222)\"], [0.4, \"rgb(209,229,240)\"], [0.5, \"rgb(247,247,247)\"], [0.6, \"rgb(253,219,199)\"], [0.7, \"rgb(244,165,130)\"], [0.8, \"rgb(214,96,77)\"], [0.9, \"rgb(178,24,43)\"], [1.0, \"rgb(103,0,31)\"]], \"size\": [46.0, 36.74627311680075, 25.52623732886331, 44.90067427994818, 12.370275733554829, 3.103922547297929, 8.306617521310336, 19.604884628500383, 10.359921920443119, 15.998136827199698, 6.895937292288474, 10.512744517583624, 11.745876614533376, 36.74627311680075, 46.0, 18.821977426933096, 37.244002665305196, 15.880457041489228, 22.34893848997078, 16.010725410406806, 14.455544112415751, 2.55773406124376, 12.451156200618613, 7.335819901255633, 12.440395437454285, 9.160343836191918, 25.52623732886331, 18.821977426933096, 46.0, 23.690240226485113, 10.54347138585093, 3.2979523991100517, 23.31837347755805, 32.21248701730645, 15.561360462930233, 21.52022075187523, 4.310151252516726, 9.620768137677201, 16.53624997470152, 44.90067427994818, 37.244002665305196, 23.690240226485113, 46.0, 19.24636174839405, 1.7547300637625907, 5.844931893984743, 18.51185110129845, 9.164817092548752, 14.795075833629474, 3.8830722759620224, 12.636952708728215, 12.247570355162779, 12.370275733554829, 15.880457041489228, 10.54347138585093, 19.24636174839405, 46.0, 7.744357376172308, 8.580449251429028, 10.003650453092064, 3.512312596127138, 1.8240171031649217, 11.127399501655509, 9.56703614537374, 5.078239608499108, 3.103922547297929, 22.34893848997078, 3.2979523991100517, 1.7547300637625907, 7.744357376172308, 46.0, 17.5327261473535, 1.8312008106659055, 7.139767738370279, 5.893765237713867, 7.7106575978584155, 3.4006631546555908, 9.114696215638132, 8.306617521310336, 16.010725410406806, 23.31837347755805, 5.844931893984743, 8.580449251429028, 17.5327261473535, 46.0, 20.03980829807745, 18.611558088605975, 11.707656629054481, 2.346685883369002, 1.8903381136663147, 13.906353381163687, 19.604884628500383, 14.455544112415751, 32.21248701730645, 18.51185110129845, 10.003650453092064, 1.8312008106659055, 20.03980829807745, 46.0, 35.572208315977214, 32.444392246867366, 20.752836161839404, 10.936104921984334, 10.863412052867954, 10.359921920443119, 2.55773406124376, 15.561360462930233, 9.164817092548752, 3.512312596127138, 7.139767738370279, 18.611558088605975, 35.572208315977214, 46.0, 34.92785860547389, 29.19788819862003, 24.000908505215175, 2.458780610464017, 15.998136827199698, 12.451156200618613, 21.52022075187523, 14.795075833629474, 1.8240171031649217, 5.893765237713867, 11.707656629054481, 32.444392246867366, 34.92785860547389, 46.0, 28.624161947123266, 16.993101871850467, 14.777408744086783, 6.895937292288474, 7.335819901255633, 4.310151252516726, 3.8830722759620224, 11.127399501655509, 7.7106575978584155, 2.346685883369002, 20.752836161839404, 29.19788819862003, 28.624161947123266, 46.0, 13.739031782298863, 7.821995457817016, 10.512744517583624, 12.440395437454285, 9.620768137677201, 12.636952708728215, 9.56703614537374, 3.4006631546555908, 1.8903381136663147, 10.936104921984334, 24.000908505215175, 16.993101871850467, 13.739031782298863, 46.0, 22.970892929045146, 11.745876614533376, 9.160343836191918, 16.53624997470152, 12.247570355162779, 5.078239608499108, 9.114696215638132, 13.906353381163687, 10.863412052867954, 2.458780610464017, 14.777408744086783, 7.821995457817016, 22.970892929045146, 46.0]}, \"mode\": \"markers\", \"type\": \"scatter\", \"x\": [[\"1.\", \"1.\", \"1.\", \"1.\", \"1.\", \"1.\", \"1.\", \"1.\", \"1.\", \"1.\", \"1.\", \"1.\", \"1.\", \"1.\", \"1.\", \"1.\", \"1.\", \"1.\", \"1.\", \"1.\", \"1.\", \"1.\", \"1.\", \"1.\", \"1.\", \"1.\", \"1.\", \"1.\", \"1.\", \"1.\", \"1.\", \"1.\", \"1.\", \"1.\", \"1.\", \"1.\", \"1.\", \"1.\", \"1.\", \"1.\", \"1.\", \"1.\", \"1.\", \"1.\", \"1.\", \"1.\", \"1.\", \"1.\", \"1.\", \"1.\", \"1.\", \"1.\", \"2.\", \"2.\", \"2.\", \"2.\", \"2.\", \"2.\", \"2.\", \"2.\", \"2.\", \"2.\", \"2.\", \"2.\", \"2.\", \"2.\", \"2.\", \"2.\", \"2.\", \"2.\", \"2.\", \"2.\", \"2.\", \"2.\", \"2.\", \"2.\", \"2.\", \"2.\", \"2.\", \"2.\", \"2.\", \"2.\", \"2.\", \"2.\", \"2.\", \"2.\", \"2.\", \"2.\", \"2.\", \"2.\", \"2.\", \"3.\", \"3.\", \"3.\", \"3.\", \"3.\", \"3.\", \"3.\", \"3.\", \"3.\", \"3.\", \"3.\", \"3.\", \"3.\", \"3.\", \"3.\", \"3.\", \"3.\", \"3.\", \"3.\", \"3.\", \"3.\", \"3.\", \"3.\", \"3.\", \"3.\", \"3.\", \"3.\", \"3.\", \"3.\", \"3.\", \"3.\", \"3.\", \"3.\", \"3.\", \"3.\", \"3.\", \"3.\", \"3.\", \"3.\", \"3.\", \"3.\", \"3.\", \"3.\", \"3.\", \"3.\", \"3.\", \"3.\", \"3.\", \"3.\", \"3.\", \"3.\", \"3.\", \"3.\", \"3.\", \"3.\", \"3.\", \"3.\", \"3.\", \"3.\", \"3.\", \"3.\", \"3.\", \"3.\", \"3.\", \"3.\", \"3.\", \"3.\", \"3.\", \"3.\", \"3.\", \"3.\", \"3.\", \"3.\", \"3.\", \"3.\", \"3.\", \"3.\", \"3.\"], [\"Tot Cases/1M pop\", \"Tot Cases/1M pop\", \"Tot Cases/1M pop\", \"Tot Cases/1M pop\", \"Tot Cases/1M pop\", \"Tot Cases/1M pop\", \"Tot Cases/1M pop\", \"Tot Cases/1M pop\", \"Tot Cases/1M pop\", \"Tot Cases/1M pop\", \"Tot Cases/1M pop\", \"Tot Cases/1M pop\", \"Tot Cases/1M pop\", \"Deaths/1M pop\", \"Deaths/1M pop\", \"Deaths/1M pop\", \"Deaths/1M pop\", \"Deaths/1M pop\", \"Deaths/1M pop\", \"Deaths/1M pop\", \"Deaths/1M pop\", \"Deaths/1M pop\", \"Deaths/1M pop\", \"Deaths/1M pop\", \"Deaths/1M pop\", \"Deaths/1M pop\", \"Tests/1M pop\", \"Tests/1M pop\", \"Tests/1M pop\", \"Tests/1M pop\", \"Tests/1M pop\", \"Tests/1M pop\", \"Tests/1M pop\", \"Tests/1M pop\", \"Tests/1M pop\", \"Tests/1M pop\", \"Tests/1M pop\", \"Tests/1M pop\", \"Tests/1M pop\", \"Recovered/1M pop\", \"Recovered/1M pop\", \"Recovered/1M pop\", \"Recovered/1M pop\", \"Recovered/1M pop\", \"Recovered/1M pop\", \"Recovered/1M pop\", \"Recovered/1M pop\", \"Recovered/1M pop\", \"Recovered/1M pop\", \"Recovered/1M pop\", \"Recovered/1M pop\", \"Recovered/1M pop\", \"Recovered/1M cases\", \"Recovered/1M cases\", \"Recovered/1M cases\", \"Recovered/1M cases\", \"Recovered/1M cases\", \"Recovered/1M cases\", \"Recovered/1M cases\", \"Recovered/1M cases\", \"Recovered/1M cases\", \"Recovered/1M cases\", \"Recovered/1M cases\", \"Recovered/1M cases\", \"Recovered/1M cases\", \"Deaths/1M cases\", \"Deaths/1M cases\", \"Deaths/1M cases\", \"Deaths/1M cases\", \"Deaths/1M cases\", \"Deaths/1M cases\", \"Deaths/1M cases\", \"Deaths/1M cases\", \"Deaths/1M cases\", \"Deaths/1M cases\", \"Deaths/1M cases\", \"Deaths/1M cases\", \"Deaths/1M cases\", \"Confirmed/1M tests\", \"Confirmed/1M tests\", \"Confirmed/1M tests\", \"Confirmed/1M tests\", \"Confirmed/1M tests\", \"Confirmed/1M tests\", \"Confirmed/1M tests\", \"Confirmed/1M tests\", \"Confirmed/1M tests\", \"Confirmed/1M tests\", \"Confirmed/1M tests\", \"Confirmed/1M tests\", \"Confirmed/1M tests\", \"GDP\", \"GDP\", \"GDP\", \"GDP\", \"GDP\", \"GDP\", \"GDP\", \"GDP\", \"GDP\", \"GDP\", \"GDP\", \"GDP\", \"GDP\", \"Family\", \"Family\", \"Family\", \"Family\", \"Family\", \"Family\", \"Family\", \"Family\", \"Family\", \"Family\", \"Family\", \"Family\", \"Family\", \"Life expectancy\", \"Life expectancy\", \"Life expectancy\", \"Life expectancy\", \"Life expectancy\", \"Life expectancy\", \"Life expectancy\", \"Life expectancy\", \"Life expectancy\", \"Life expectancy\", \"Life expectancy\", \"Life expectancy\", \"Life expectancy\", \"Freedom\", \"Freedom\", \"Freedom\", \"Freedom\", \"Freedom\", \"Freedom\", \"Freedom\", \"Freedom\", \"Freedom\", \"Freedom\", \"Freedom\", \"Freedom\", \"Freedom\", \"Generosity\", \"Generosity\", \"Generosity\", \"Generosity\", \"Generosity\", \"Generosity\", \"Generosity\", \"Generosity\", \"Generosity\", \"Generosity\", \"Generosity\", \"Generosity\", \"Generosity\", \"Trust\", \"Trust\", \"Trust\", \"Trust\", \"Trust\", \"Trust\", \"Trust\", \"Trust\", \"Trust\", \"Trust\", \"Trust\", \"Trust\", \"Trust\"]], \"y\": [[\"1.\", \"1.\", \"1.\", \"1.\", \"2.\", \"2.\", \"2.\", \"3.\", \"3.\", \"3.\", \"3.\", \"3.\", \"3.\", \"1.\", \"1.\", \"1.\", \"1.\", \"2.\", \"2.\", \"2.\", \"3.\", \"3.\", \"3.\", \"3.\", \"3.\", \"3.\", \"1.\", \"1.\", \"1.\", \"1.\", \"2.\", \"2.\", \"2.\", \"3.\", \"3.\", \"3.\", \"3.\", \"3.\", \"3.\", \"1.\", \"1.\", \"1.\", \"1.\", \"2.\", \"2.\", \"2.\", \"3.\", \"3.\", \"3.\", \"3.\", \"3.\", \"3.\", \"1.\", \"1.\", \"1.\", \"1.\", \"2.\", \"2.\", \"2.\", \"3.\", \"3.\", \"3.\", \"3.\", \"3.\", \"3.\", \"1.\", \"1.\", \"1.\", \"1.\", \"2.\", \"2.\", \"2.\", \"3.\", \"3.\", \"3.\", \"3.\", \"3.\", \"3.\", \"1.\", \"1.\", \"1.\", \"1.\", \"2.\", \"2.\", \"2.\", \"3.\", \"3.\", \"3.\", \"3.\", \"3.\", \"3.\", \"1.\", \"1.\", \"1.\", \"1.\", \"2.\", \"2.\", \"2.\", \"3.\", \"3.\", \"3.\", \"3.\", \"3.\", \"3.\", \"1.\", \"1.\", \"1.\", \"1.\", \"2.\", \"2.\", \"2.\", \"3.\", \"3.\", \"3.\", \"3.\", \"3.\", \"3.\", \"1.\", \"1.\", \"1.\", \"1.\", \"2.\", \"2.\", \"2.\", \"3.\", \"3.\", \"3.\", \"3.\", \"3.\", \"3.\", \"1.\", \"1.\", \"1.\", \"1.\", \"2.\", \"2.\", \"2.\", \"3.\", \"3.\", \"3.\", \"3.\", \"3.\", \"3.\", \"1.\", \"1.\", \"1.\", \"1.\", \"2.\", \"2.\", \"2.\", \"3.\", \"3.\", \"3.\", \"3.\", \"3.\", \"3.\", \"1.\", \"1.\", \"1.\", \"1.\", \"2.\", \"2.\", \"2.\", \"3.\", \"3.\", \"3.\", \"3.\", \"3.\", \"3.\"], [\"Tot Cases/1M pop\", \"Deaths/1M pop\", \"Tests/1M pop\", \"Recovered/1M pop\", \"Recovered/1M cases\", \"Deaths/1M cases\", \"Confirmed/1M tests\", \"GDP\", \"Family\", \"Life expectancy\", \"Freedom\", \"Generosity\", \"Trust\", \"Tot Cases/1M pop\", \"Deaths/1M pop\", \"Tests/1M pop\", \"Recovered/1M pop\", \"Recovered/1M cases\", \"Deaths/1M cases\", \"Confirmed/1M tests\", \"GDP\", \"Family\", \"Life expectancy\", \"Freedom\", \"Generosity\", \"Trust\", \"Tot Cases/1M pop\", \"Deaths/1M pop\", \"Tests/1M pop\", \"Recovered/1M pop\", \"Recovered/1M cases\", \"Deaths/1M cases\", \"Confirmed/1M tests\", \"GDP\", \"Family\", \"Life expectancy\", \"Freedom\", \"Generosity\", \"Trust\", \"Tot Cases/1M pop\", \"Deaths/1M pop\", \"Tests/1M pop\", \"Recovered/1M pop\", \"Recovered/1M cases\", \"Deaths/1M cases\", \"Confirmed/1M tests\", \"GDP\", \"Family\", \"Life expectancy\", \"Freedom\", \"Generosity\", \"Trust\", \"Tot Cases/1M pop\", \"Deaths/1M pop\", \"Tests/1M pop\", \"Recovered/1M pop\", \"Recovered/1M cases\", \"Deaths/1M cases\", \"Confirmed/1M tests\", \"GDP\", \"Family\", \"Life expectancy\", \"Freedom\", \"Generosity\", \"Trust\", \"Tot Cases/1M pop\", \"Deaths/1M pop\", \"Tests/1M pop\", \"Recovered/1M pop\", \"Recovered/1M cases\", \"Deaths/1M cases\", \"Confirmed/1M tests\", \"GDP\", \"Family\", \"Life expectancy\", \"Freedom\", \"Generosity\", \"Trust\", \"Tot Cases/1M pop\", \"Deaths/1M pop\", \"Tests/1M pop\", \"Recovered/1M pop\", \"Recovered/1M cases\", \"Deaths/1M cases\", \"Confirmed/1M tests\", \"GDP\", \"Family\", \"Life expectancy\", \"Freedom\", \"Generosity\", \"Trust\", \"Tot Cases/1M pop\", \"Deaths/1M pop\", \"Tests/1M pop\", \"Recovered/1M pop\", \"Recovered/1M cases\", \"Deaths/1M cases\", \"Confirmed/1M tests\", \"GDP\", \"Family\", \"Life expectancy\", \"Freedom\", \"Generosity\", \"Trust\", \"Tot Cases/1M pop\", \"Deaths/1M pop\", \"Tests/1M pop\", \"Recovered/1M pop\", \"Recovered/1M cases\", \"Deaths/1M cases\", \"Confirmed/1M tests\", \"GDP\", \"Family\", \"Life expectancy\", \"Freedom\", \"Generosity\", \"Trust\", \"Tot Cases/1M pop\", \"Deaths/1M pop\", \"Tests/1M pop\", \"Recovered/1M pop\", \"Recovered/1M cases\", \"Deaths/1M cases\", \"Confirmed/1M tests\", \"GDP\", \"Family\", \"Life expectancy\", \"Freedom\", \"Generosity\", \"Trust\", \"Tot Cases/1M pop\", \"Deaths/1M pop\", \"Tests/1M pop\", \"Recovered/1M pop\", \"Recovered/1M cases\", \"Deaths/1M cases\", \"Confirmed/1M tests\", \"GDP\", \"Family\", \"Life expectancy\", \"Freedom\", \"Generosity\", \"Trust\", \"Tot Cases/1M pop\", \"Deaths/1M pop\", \"Tests/1M pop\", \"Recovered/1M pop\", \"Recovered/1M cases\", \"Deaths/1M cases\", \"Confirmed/1M tests\", \"GDP\", \"Family\", \"Life expectancy\", \"Freedom\", \"Generosity\", \"Trust\", \"Tot Cases/1M pop\", \"Deaths/1M pop\", \"Tests/1M pop\", \"Recovered/1M pop\", \"Recovered/1M cases\", \"Deaths/1M cases\", \"Confirmed/1M tests\", \"GDP\", \"Family\", \"Life expectancy\", \"Freedom\", \"Generosity\", \"Trust\"]]}],\n",
       "                        {\"font\": {\"size\": 15}, \"height\": 885, \"template\": {\"data\": {\"bar\": [{\"error_x\": {\"color\": \"#2a3f5f\"}, \"error_y\": {\"color\": \"#2a3f5f\"}, \"marker\": {\"line\": {\"color\": \"#E5ECF6\", \"width\": 0.5}}, \"type\": \"bar\"}], \"barpolar\": [{\"marker\": {\"line\": {\"color\": \"#E5ECF6\", \"width\": 0.5}}, \"type\": \"barpolar\"}], \"carpet\": [{\"aaxis\": {\"endlinecolor\": \"#2a3f5f\", \"gridcolor\": \"white\", \"linecolor\": \"white\", \"minorgridcolor\": \"white\", \"startlinecolor\": \"#2a3f5f\"}, \"baxis\": {\"endlinecolor\": \"#2a3f5f\", \"gridcolor\": \"white\", \"linecolor\": \"white\", \"minorgridcolor\": \"white\", \"startlinecolor\": \"#2a3f5f\"}, \"type\": \"carpet\"}], \"choropleth\": [{\"colorbar\": {\"outlinewidth\": 0, \"ticks\": \"\"}, \"type\": \"choropleth\"}], \"contour\": [{\"colorbar\": {\"outlinewidth\": 0, \"ticks\": \"\"}, \"colorscale\": [[0.0, \"#0d0887\"], [0.1111111111111111, \"#46039f\"], [0.2222222222222222, \"#7201a8\"], [0.3333333333333333, \"#9c179e\"], [0.4444444444444444, \"#bd3786\"], [0.5555555555555556, \"#d8576b\"], [0.6666666666666666, \"#ed7953\"], [0.7777777777777778, \"#fb9f3a\"], [0.8888888888888888, \"#fdca26\"], [1.0, \"#f0f921\"]], \"type\": \"contour\"}], \"contourcarpet\": [{\"colorbar\": {\"outlinewidth\": 0, \"ticks\": \"\"}, \"type\": \"contourcarpet\"}], \"heatmap\": [{\"colorbar\": {\"outlinewidth\": 0, \"ticks\": \"\"}, \"colorscale\": [[0.0, \"#0d0887\"], [0.1111111111111111, \"#46039f\"], [0.2222222222222222, \"#7201a8\"], [0.3333333333333333, \"#9c179e\"], [0.4444444444444444, \"#bd3786\"], [0.5555555555555556, \"#d8576b\"], [0.6666666666666666, \"#ed7953\"], [0.7777777777777778, \"#fb9f3a\"], [0.8888888888888888, \"#fdca26\"], [1.0, \"#f0f921\"]], \"type\": \"heatmap\"}], \"heatmapgl\": [{\"colorbar\": {\"outlinewidth\": 0, \"ticks\": \"\"}, \"colorscale\": [[0.0, \"#0d0887\"], [0.1111111111111111, \"#46039f\"], [0.2222222222222222, \"#7201a8\"], [0.3333333333333333, \"#9c179e\"], [0.4444444444444444, \"#bd3786\"], [0.5555555555555556, \"#d8576b\"], [0.6666666666666666, \"#ed7953\"], [0.7777777777777778, \"#fb9f3a\"], [0.8888888888888888, \"#fdca26\"], [1.0, \"#f0f921\"]], \"type\": \"heatmapgl\"}], \"histogram\": [{\"marker\": {\"colorbar\": {\"outlinewidth\": 0, \"ticks\": \"\"}}, \"type\": \"histogram\"}], \"histogram2d\": [{\"colorbar\": {\"outlinewidth\": 0, \"ticks\": \"\"}, \"colorscale\": [[0.0, \"#0d0887\"], [0.1111111111111111, \"#46039f\"], [0.2222222222222222, \"#7201a8\"], [0.3333333333333333, \"#9c179e\"], [0.4444444444444444, \"#bd3786\"], [0.5555555555555556, \"#d8576b\"], [0.6666666666666666, \"#ed7953\"], [0.7777777777777778, \"#fb9f3a\"], [0.8888888888888888, \"#fdca26\"], [1.0, \"#f0f921\"]], \"type\": \"histogram2d\"}], \"histogram2dcontour\": [{\"colorbar\": {\"outlinewidth\": 0, \"ticks\": \"\"}, \"colorscale\": [[0.0, \"#0d0887\"], [0.1111111111111111, \"#46039f\"], [0.2222222222222222, \"#7201a8\"], [0.3333333333333333, \"#9c179e\"], [0.4444444444444444, \"#bd3786\"], [0.5555555555555556, \"#d8576b\"], [0.6666666666666666, \"#ed7953\"], [0.7777777777777778, \"#fb9f3a\"], [0.8888888888888888, \"#fdca26\"], [1.0, \"#f0f921\"]], \"type\": \"histogram2dcontour\"}], \"mesh3d\": [{\"colorbar\": {\"outlinewidth\": 0, \"ticks\": \"\"}, \"type\": \"mesh3d\"}], \"parcoords\": [{\"line\": {\"colorbar\": {\"outlinewidth\": 0, \"ticks\": \"\"}}, \"type\": \"parcoords\"}], \"pie\": [{\"automargin\": true, \"type\": \"pie\"}], \"scatter\": [{\"marker\": {\"colorbar\": {\"outlinewidth\": 0, \"ticks\": \"\"}}, \"type\": \"scatter\"}], \"scatter3d\": [{\"line\": {\"colorbar\": {\"outlinewidth\": 0, \"ticks\": \"\"}}, \"marker\": {\"colorbar\": {\"outlinewidth\": 0, \"ticks\": \"\"}}, \"type\": \"scatter3d\"}], \"scattercarpet\": [{\"marker\": {\"colorbar\": {\"outlinewidth\": 0, \"ticks\": \"\"}}, \"type\": \"scattercarpet\"}], \"scattergeo\": [{\"marker\": {\"colorbar\": {\"outlinewidth\": 0, \"ticks\": \"\"}}, \"type\": \"scattergeo\"}], \"scattergl\": [{\"marker\": {\"colorbar\": {\"outlinewidth\": 0, \"ticks\": \"\"}}, \"type\": \"scattergl\"}], \"scattermapbox\": [{\"marker\": {\"colorbar\": {\"outlinewidth\": 0, \"ticks\": \"\"}}, \"type\": \"scattermapbox\"}], \"scatterpolar\": [{\"marker\": {\"colorbar\": {\"outlinewidth\": 0, \"ticks\": \"\"}}, \"type\": \"scatterpolar\"}], \"scatterpolargl\": [{\"marker\": {\"colorbar\": {\"outlinewidth\": 0, \"ticks\": \"\"}}, \"type\": \"scatterpolargl\"}], \"scatterternary\": [{\"marker\": {\"colorbar\": {\"outlinewidth\": 0, \"ticks\": \"\"}}, \"type\": \"scatterternary\"}], \"surface\": [{\"colorbar\": {\"outlinewidth\": 0, \"ticks\": \"\"}, \"colorscale\": [[0.0, \"#0d0887\"], [0.1111111111111111, \"#46039f\"], [0.2222222222222222, \"#7201a8\"], [0.3333333333333333, \"#9c179e\"], [0.4444444444444444, \"#bd3786\"], [0.5555555555555556, \"#d8576b\"], [0.6666666666666666, \"#ed7953\"], [0.7777777777777778, \"#fb9f3a\"], [0.8888888888888888, \"#fdca26\"], [1.0, \"#f0f921\"]], \"type\": \"surface\"}], \"table\": [{\"cells\": {\"fill\": {\"color\": \"#EBF0F8\"}, \"line\": {\"color\": \"white\"}}, \"header\": {\"fill\": {\"color\": \"#C8D4E3\"}, \"line\": {\"color\": \"white\"}}, \"type\": \"table\"}]}, \"layout\": {\"annotationdefaults\": {\"arrowcolor\": \"#2a3f5f\", \"arrowhead\": 0, \"arrowwidth\": 1}, \"coloraxis\": {\"colorbar\": {\"outlinewidth\": 0, \"ticks\": \"\"}}, \"colorscale\": {\"diverging\": [[0, \"#8e0152\"], [0.1, \"#c51b7d\"], [0.2, \"#de77ae\"], [0.3, \"#f1b6da\"], [0.4, \"#fde0ef\"], [0.5, \"#f7f7f7\"], [0.6, \"#e6f5d0\"], [0.7, \"#b8e186\"], [0.8, \"#7fbc41\"], [0.9, \"#4d9221\"], [1, \"#276419\"]], \"sequential\": [[0.0, \"#0d0887\"], [0.1111111111111111, \"#46039f\"], [0.2222222222222222, \"#7201a8\"], [0.3333333333333333, \"#9c179e\"], [0.4444444444444444, \"#bd3786\"], [0.5555555555555556, \"#d8576b\"], [0.6666666666666666, \"#ed7953\"], [0.7777777777777778, \"#fb9f3a\"], [0.8888888888888888, \"#fdca26\"], [1.0, \"#f0f921\"]], \"sequentialminus\": [[0.0, \"#0d0887\"], [0.1111111111111111, \"#46039f\"], [0.2222222222222222, \"#7201a8\"], [0.3333333333333333, \"#9c179e\"], [0.4444444444444444, \"#bd3786\"], [0.5555555555555556, \"#d8576b\"], [0.6666666666666666, \"#ed7953\"], [0.7777777777777778, \"#fb9f3a\"], [0.8888888888888888, \"#fdca26\"], [1.0, \"#f0f921\"]]}, \"colorway\": [\"#636efa\", \"#EF553B\", \"#00cc96\", \"#ab63fa\", \"#FFA15A\", \"#19d3f3\", \"#FF6692\", \"#B6E880\", \"#FF97FF\", \"#FECB52\"], \"font\": {\"color\": \"#2a3f5f\"}, \"geo\": {\"bgcolor\": \"white\", \"lakecolor\": \"white\", \"landcolor\": \"#E5ECF6\", \"showlakes\": true, \"showland\": true, \"subunitcolor\": \"white\"}, \"hoverlabel\": {\"align\": \"left\"}, \"hovermode\": \"closest\", \"mapbox\": {\"style\": \"light\"}, \"paper_bgcolor\": \"white\", \"plot_bgcolor\": \"#E5ECF6\", \"polar\": {\"angularaxis\": {\"gridcolor\": \"white\", \"linecolor\": \"white\", \"ticks\": \"\"}, \"bgcolor\": \"#E5ECF6\", \"radialaxis\": {\"gridcolor\": \"white\", \"linecolor\": \"white\", \"ticks\": \"\"}}, \"scene\": {\"xaxis\": {\"backgroundcolor\": \"#E5ECF6\", \"gridcolor\": \"white\", \"gridwidth\": 2, \"linecolor\": \"white\", \"showbackground\": true, \"ticks\": \"\", \"zerolinecolor\": \"white\"}, \"yaxis\": {\"backgroundcolor\": \"#E5ECF6\", \"gridcolor\": \"white\", \"gridwidth\": 2, \"linecolor\": \"white\", \"showbackground\": true, \"ticks\": \"\", \"zerolinecolor\": \"white\"}, \"zaxis\": {\"backgroundcolor\": \"#E5ECF6\", \"gridcolor\": \"white\", \"gridwidth\": 2, \"linecolor\": \"white\", \"showbackground\": true, \"ticks\": \"\", \"zerolinecolor\": \"white\"}}, \"shapedefaults\": {\"line\": {\"color\": \"#2a3f5f\"}}, \"ternary\": {\"aaxis\": {\"gridcolor\": \"white\", \"linecolor\": \"white\", \"ticks\": \"\"}, \"baxis\": {\"gridcolor\": \"white\", \"linecolor\": \"white\", \"ticks\": \"\"}, \"bgcolor\": \"#E5ECF6\", \"caxis\": {\"gridcolor\": \"white\", \"linecolor\": \"white\", \"ticks\": \"\"}}, \"title\": {\"x\": 0.05}, \"xaxis\": {\"automargin\": true, \"gridcolor\": \"white\", \"linecolor\": \"white\", \"ticks\": \"\", \"title\": {\"standoff\": 15}, \"zerolinecolor\": \"white\", \"zerolinewidth\": 2}, \"yaxis\": {\"automargin\": true, \"gridcolor\": \"white\", \"linecolor\": \"white\", \"ticks\": \"\", \"title\": {\"standoff\": 15}, \"zerolinecolor\": \"white\", \"zerolinewidth\": 2}}}, \"title\": {\"text\": \"Americas: 23 countries\"}, \"width\": 885, \"xaxis\": {\"range\": [0.5, 12.5], \"showgrid\": true, \"ticklen\": 0, \"ticks\": \"outside\", \"tickson\": \"boundaries\"}, \"yaxis\": {\"range\": [0.5, 12.5], \"showgrid\": true, \"ticklen\": 0, \"ticks\": \"outside\", \"tickson\": \"boundaries\"}},\n",
       "                        {\"responsive\": true}\n",
       "                    ).then(function(){\n",
       "                            \n",
       "var gd = document.getElementById('165d3ebd-206c-424c-9184-26b52435054a');\n",
       "var x = new MutationObserver(function (mutations, observer) {{\n",
       "        var display = window.getComputedStyle(gd).display;\n",
       "        if (!display || display === 'none') {{\n",
       "            console.log([gd, 'removed!']);\n",
       "            Plotly.purge(gd);\n",
       "            observer.disconnect();\n",
       "        }}\n",
       "}});\n",
       "\n",
       "// Listen for the removal of the full notebook cells\n",
       "var notebookContainer = gd.closest('#notebook-container');\n",
       "if (notebookContainer) {{\n",
       "    x.observe(notebookContainer, {childList: true});\n",
       "}}\n",
       "\n",
       "// Listen for the clearing of the current output cell\n",
       "var outputEl = gd.closest('.output');\n",
       "if (outputEl) {{\n",
       "    x.observe(outputEl, {childList: true});\n",
       "}}\n",
       "\n",
       "                        })\n",
       "                };\n",
       "                });\n",
       "            </script>\n",
       "        </div>"
      ]
     },
     "metadata": {},
     "output_type": "display_data"
    },
    {
     "data": {
      "application/vnd.plotly.v1+json": {
       "config": {
        "plotlyServerURL": "https://plot.ly"
       },
       "data": [
        {
         "hoverinfo": "text",
         "hovertext": [
          "1.0",
          "0.8587287594733802",
          "4.858314958203772e-06",
          "0.9960436237563448",
          "0.10463784741669126",
          "-0.00485770721371535",
          "0.5557487325112823",
          "-0.5692249164549611",
          "-0.8256546454558522",
          "-0.364814814757347",
          "-0.2106387551570489",
          "-0.5505655214925148",
          "0.014657934690133233",
          "0.8587287594733802",
          "1.0",
          "-0.12503651080406772",
          "0.8759786860502796",
          "0.07829276952097095",
          "0.40332881953128547",
          "0.5851594654353375",
          "-0.23736966286911923",
          "-0.8719355643100211",
          "-0.39891516817177686",
          "0.03258897698461915",
          "-0.31941480938533656",
          "-0.13354266851520324",
          "4.858314958203772e-06",
          "-0.12503651080406772",
          "1.0",
          "0.022493878076662355",
          "0.14830916523119514",
          "-0.5513934931686656",
          "-0.36203121089298085",
          "-0.03131134426885197",
          "0.11765449459960325",
          "-0.39352633415508675",
          "-0.4938576171420714",
          "-0.05227739338941109",
          "0.4513530681157059",
          "0.9960436237563448",
          "0.8759786860502796",
          "0.022493878076662355",
          "1.0",
          "0.1556664338540936",
          "-0.011737232839890283",
          "0.5189418994569994",
          "-0.5031753795406709",
          "-0.8365107594823975",
          "-0.3473196939213476",
          "-0.18988268864377697",
          "-0.5705173556080059",
          "-0.013858542473826972",
          "0.10463784741669126",
          "0.07829276952097095",
          "0.14830916523119514",
          "0.1556664338540936",
          "1.0",
          "-0.35478311655489536",
          "-0.19200550666036564",
          "0.4083950803696946",
          "0.07267830381049192",
          "0.6758695375675632",
          "-0.10577018469750248",
          "-0.6417915585286778",
          "-0.6377726630160981",
          "-0.00485770721371535",
          "0.40332881953128547",
          "-0.5513934931686656",
          "-0.011737232839890283",
          "-0.35478311655489536",
          "1.0",
          "0.3313231822465716",
          "0.2180531332800684",
          "-0.159360522789695",
          "-0.2193446844142726",
          "0.487170881944011",
          "0.5594684203999085",
          "-0.2834067472795728",
          "0.5557487325112823",
          "0.5851594654353375",
          "-0.36203121089298085",
          "0.5189418994569994",
          "-0.19200550666036564",
          "0.3313231822465716",
          "1.0",
          "-0.6411324310058325",
          "-0.7060526547954221",
          "-0.18154770518951507",
          "0.15279421532169363",
          "-0.3450382554270833",
          "0.2111536924152403",
          "-0.5692249164549611",
          "-0.23736966286911923",
          "-0.03131134426885197",
          "-0.5031753795406709",
          "0.4083950803696946",
          "0.2180531332800684",
          "-0.6411324310058325",
          "1.0",
          "0.44240621591139057",
          "0.42041974097049",
          "0.3581744624659836",
          "0.2868480357256271",
          "-0.5603648353600258",
          "-0.8256546454558522",
          "-0.8719355643100211",
          "0.11765449459960325",
          "-0.8365107594823975",
          "0.07267830381049192",
          "-0.159360522789695",
          "-0.7060526547954221",
          "0.44240621591139057",
          "1.0",
          "0.4055383609867672",
          "-0.08763641761980628",
          "0.4920365701096169",
          "-0.21439428093366497",
          "-0.364814814757347",
          "-0.39891516817177686",
          "-0.39352633415508675",
          "-0.3473196939213476",
          "0.6758695375675632",
          "-0.2193446844142726",
          "-0.18154770518951507",
          "0.42041974097049",
          "0.4055383609867672",
          "1.0",
          "0.20220680896855467",
          "-0.3840487055970771",
          "-0.6394366285705552",
          "-0.2106387551570489",
          "0.03258897698461915",
          "-0.4938576171420714",
          "-0.18988268864377697",
          "-0.10577018469750248",
          "0.487170881944011",
          "0.15279421532169363",
          "0.3581744624659836",
          "-0.08763641761980628",
          "0.20220680896855467",
          "1.0",
          "0.1454923397321382",
          "-0.07682177728289137",
          "-0.5505655214925148",
          "-0.31941480938533656",
          "-0.05227739338941109",
          "-0.5705173556080059",
          "-0.6417915585286778",
          "0.5594684203999085",
          "-0.3450382554270833",
          "0.2868480357256271",
          "0.4920365701096169",
          "-0.3840487055970771",
          "0.1454923397321382",
          "1.0",
          "0.09665837967822535",
          "0.014657934690133233",
          "-0.13354266851520324",
          "0.4513530681157059",
          "-0.013858542473826972",
          "-0.6377726630160981",
          "-0.2834067472795728",
          "0.2111536924152403",
          "-0.5603648353600258",
          "-0.21439428093366497",
          "-0.6394366285705552",
          "-0.07682177728289137",
          "0.09665837967822535",
          "1.0"
         ],
         "marker": {
          "cmid": 0,
          "color": [
           1,
           0.8587287594733802,
           4.858314958203772e-06,
           0.9960436237563448,
           0.10463784741669126,
           -0.00485770721371535,
           0.5557487325112823,
           -0.5692249164549611,
           -0.8256546454558522,
           -0.364814814757347,
           -0.2106387551570489,
           -0.5505655214925148,
           0.014657934690133233,
           0.8587287594733802,
           1,
           -0.12503651080406772,
           0.8759786860502796,
           0.07829276952097095,
           0.40332881953128547,
           0.5851594654353375,
           -0.23736966286911923,
           -0.8719355643100211,
           -0.39891516817177686,
           0.03258897698461915,
           -0.31941480938533656,
           -0.13354266851520324,
           4.858314958203772e-06,
           -0.12503651080406772,
           1,
           0.022493878076662355,
           0.14830916523119514,
           -0.5513934931686656,
           -0.36203121089298085,
           -0.03131134426885197,
           0.11765449459960325,
           -0.39352633415508675,
           -0.4938576171420714,
           -0.05227739338941109,
           0.4513530681157059,
           0.9960436237563448,
           0.8759786860502796,
           0.022493878076662355,
           1,
           0.1556664338540936,
           -0.011737232839890283,
           0.5189418994569994,
           -0.5031753795406709,
           -0.8365107594823975,
           -0.3473196939213476,
           -0.18988268864377697,
           -0.5705173556080059,
           -0.013858542473826972,
           0.10463784741669126,
           0.07829276952097095,
           0.14830916523119514,
           0.1556664338540936,
           1,
           -0.35478311655489536,
           -0.19200550666036564,
           0.4083950803696946,
           0.07267830381049192,
           0.6758695375675632,
           -0.10577018469750248,
           -0.6417915585286778,
           -0.6377726630160981,
           -0.00485770721371535,
           0.40332881953128547,
           -0.5513934931686656,
           -0.011737232839890283,
           -0.35478311655489536,
           1,
           0.3313231822465716,
           0.2180531332800684,
           -0.159360522789695,
           -0.2193446844142726,
           0.487170881944011,
           0.5594684203999085,
           -0.2834067472795728,
           0.5557487325112823,
           0.5851594654353375,
           -0.36203121089298085,
           0.5189418994569994,
           -0.19200550666036564,
           0.3313231822465716,
           1,
           -0.6411324310058325,
           -0.7060526547954221,
           -0.18154770518951507,
           0.15279421532169363,
           -0.3450382554270833,
           0.2111536924152403,
           -0.5692249164549611,
           -0.23736966286911923,
           -0.03131134426885197,
           -0.5031753795406709,
           0.4083950803696946,
           0.2180531332800684,
           -0.6411324310058325,
           1,
           0.44240621591139057,
           0.42041974097049,
           0.3581744624659836,
           0.2868480357256271,
           -0.5603648353600258,
           -0.8256546454558522,
           -0.8719355643100211,
           0.11765449459960325,
           -0.8365107594823975,
           0.07267830381049192,
           -0.159360522789695,
           -0.7060526547954221,
           0.44240621591139057,
           1,
           0.4055383609867672,
           -0.08763641761980628,
           0.4920365701096169,
           -0.21439428093366497,
           -0.364814814757347,
           -0.39891516817177686,
           -0.39352633415508675,
           -0.3473196939213476,
           0.6758695375675632,
           -0.2193446844142726,
           -0.18154770518951507,
           0.42041974097049,
           0.4055383609867672,
           1,
           0.20220680896855467,
           -0.3840487055970771,
           -0.6394366285705552,
           -0.2106387551570489,
           0.03258897698461915,
           -0.4938576171420714,
           -0.18988268864377697,
           -0.10577018469750248,
           0.487170881944011,
           0.15279421532169363,
           0.3581744624659836,
           -0.08763641761980628,
           0.20220680896855467,
           1,
           0.1454923397321382,
           -0.07682177728289137,
           -0.5505655214925148,
           -0.31941480938533656,
           -0.05227739338941109,
           -0.5705173556080059,
           -0.6417915585286778,
           0.5594684203999085,
           -0.3450382554270833,
           0.2868480357256271,
           0.4920365701096169,
           -0.3840487055970771,
           0.1454923397321382,
           1,
           0.09665837967822535,
           0.014657934690133233,
           -0.13354266851520324,
           0.4513530681157059,
           -0.013858542473826972,
           -0.6377726630160981,
           -0.2834067472795728,
           0.2111536924152403,
           -0.5603648353600258,
           -0.21439428093366497,
           -0.6394366285705552,
           -0.07682177728289137,
           0.09665837967822535,
           1
          ],
          "colorbar": {
           "title": {
            "text": "Correlation"
           }
          },
          "colorscale": [
           [
            0,
            "rgb(5,48,97)"
           ],
           [
            0.1,
            "rgb(33,102,172)"
           ],
           [
            0.2,
            "rgb(67,147,195)"
           ],
           [
            0.3,
            "rgb(146,197,222)"
           ],
           [
            0.4,
            "rgb(209,229,240)"
           ],
           [
            0.5,
            "rgb(247,247,247)"
           ],
           [
            0.6,
            "rgb(253,219,199)"
           ],
           [
            0.7,
            "rgb(244,165,130)"
           ],
           [
            0.8,
            "rgb(214,96,77)"
           ],
           [
            0.9,
            "rgb(178,24,43)"
           ],
           [
            1,
            "rgb(103,0,31)"
           ]
          ],
          "size": [
           46,
           39.50152293577549,
           0.00022348248807737352,
           45.81800669279186,
           4.813340981167798,
           0.2234545318309061,
           25.564441695518987,
           26.18434615692821,
           37.980113690969205,
           16.78148147883796,
           9.68938273722425,
           25.32601398865568,
           0.6742649957461287,
           39.50152293577549,
           46,
           5.751679496987115,
           40.29501955831286,
           3.6014673979646634,
           18.553125698439132,
           26.917335410025522,
           10.919004491979484,
           40.10903595826097,
           18.350097735901734,
           1.499092941292481,
           14.693081231725483,
           6.142962751699349,
           0.00022348248807737352,
           5.751679496987115,
           46,
           1.0347183915264684,
           6.822221600634976,
           25.36410068575862,
           16.653435701077118,
           1.4403218363671908,
           5.412106751581749,
           18.10221137113399,
           22.717450388535283,
           2.40476009591291,
           20.762241133322473,
           45.81800669279186,
           40.29501955831286,
           1.0347183915264684,
           46,
           7.160655957288306,
           0.539912710634953,
           23.871327375021973,
           23.146067458870863,
           38.479494936190285,
           15.97670592038199,
           8.734603677613741,
           26.24379835796827,
           0.6374929537960408,
           4.813340981167798,
           3.6014673979646634,
           6.822221600634976,
           7.160655957288306,
           46,
           16.320023361525188,
           8.83225330637682,
           18.78617369700595,
           3.3432019752826285,
           31.089998728107908,
           4.865428496085114,
           29.522411692319178,
           29.337542498740515,
           0.2234545318309061,
           18.553125698439132,
           25.36410068575862,
           0.539912710634953,
           16.320023361525188,
           46,
           15.240866383342293,
           10.030444130883145,
           7.330584048325971,
           10.089855483056539,
           22.409860569424506,
           25.73554733839579,
           13.03671037486035,
           25.564441695518987,
           26.917335410025522,
           16.653435701077118,
           23.871327375021973,
           8.83225330637682,
           15.240866383342293,
           46,
           29.492091826268297,
           32.478422120589414,
           8.351194438717693,
           7.028533904797907,
           15.87175974964583,
           9.713069851101054,
           26.18434615692821,
           10.919004491979484,
           1.4403218363671908,
           23.146067458870863,
           18.78617369700595,
           10.030444130883145,
           29.492091826268297,
           46,
           20.350685931923966,
           19.33930808464254,
           16.476025273435248,
           13.195009643378848,
           25.776782426561187,
           37.980113690969205,
           40.10903595826097,
           5.412106751581749,
           38.479494936190285,
           3.3432019752826285,
           7.330584048325971,
           32.478422120589414,
           20.350685931923966,
           46,
           18.654764605391293,
           4.031275210511089,
           22.633682225042378,
           9.862136922948588,
           16.78148147883796,
           18.350097735901734,
           18.10221137113399,
           15.97670592038199,
           31.089998728107908,
           10.089855483056539,
           8.351194438717693,
           19.33930808464254,
           18.654764605391293,
           46,
           9.301513212553514,
           17.66624045746555,
           29.41408491424554,
           9.68938273722425,
           1.499092941292481,
           22.717450388535283,
           8.734603677613741,
           4.865428496085114,
           22.409860569424506,
           7.028533904797907,
           16.476025273435248,
           4.031275210511089,
           9.301513212553514,
           46,
           6.692647627678357,
           3.533801755013003,
           25.32601398865568,
           14.693081231725483,
           2.40476009591291,
           26.24379835796827,
           29.522411692319178,
           25.73554733839579,
           15.87175974964583,
           13.195009643378848,
           22.633682225042378,
           17.66624045746555,
           6.692647627678357,
           46,
           4.4462854651983665,
           0.6742649957461287,
           6.142962751699349,
           20.762241133322473,
           0.6374929537960408,
           29.337542498740515,
           13.03671037486035,
           9.713069851101054,
           25.776782426561187,
           9.862136922948588,
           29.41408491424554,
           3.533801755013003,
           4.4462854651983665,
           46
          ]
         },
         "mode": "markers",
         "type": "scatter",
         "x": [
          [
           "1.",
           "1.",
           "1.",
           "1.",
           "1.",
           "1.",
           "1.",
           "1.",
           "1.",
           "1.",
           "1.",
           "1.",
           "1.",
           "1.",
           "1.",
           "1.",
           "1.",
           "1.",
           "1.",
           "1.",
           "1.",
           "1.",
           "1.",
           "1.",
           "1.",
           "1.",
           "1.",
           "1.",
           "1.",
           "1.",
           "1.",
           "1.",
           "1.",
           "1.",
           "1.",
           "1.",
           "1.",
           "1.",
           "1.",
           "1.",
           "1.",
           "1.",
           "1.",
           "1.",
           "1.",
           "1.",
           "1.",
           "1.",
           "1.",
           "1.",
           "1.",
           "1.",
           "2.",
           "2.",
           "2.",
           "2.",
           "2.",
           "2.",
           "2.",
           "2.",
           "2.",
           "2.",
           "2.",
           "2.",
           "2.",
           "2.",
           "2.",
           "2.",
           "2.",
           "2.",
           "2.",
           "2.",
           "2.",
           "2.",
           "2.",
           "2.",
           "2.",
           "2.",
           "2.",
           "2.",
           "2.",
           "2.",
           "2.",
           "2.",
           "2.",
           "2.",
           "2.",
           "2.",
           "2.",
           "2.",
           "2.",
           "3.",
           "3.",
           "3.",
           "3.",
           "3.",
           "3.",
           "3.",
           "3.",
           "3.",
           "3.",
           "3.",
           "3.",
           "3.",
           "3.",
           "3.",
           "3.",
           "3.",
           "3.",
           "3.",
           "3.",
           "3.",
           "3.",
           "3.",
           "3.",
           "3.",
           "3.",
           "3.",
           "3.",
           "3.",
           "3.",
           "3.",
           "3.",
           "3.",
           "3.",
           "3.",
           "3.",
           "3.",
           "3.",
           "3.",
           "3.",
           "3.",
           "3.",
           "3.",
           "3.",
           "3.",
           "3.",
           "3.",
           "3.",
           "3.",
           "3.",
           "3.",
           "3.",
           "3.",
           "3.",
           "3.",
           "3.",
           "3.",
           "3.",
           "3.",
           "3.",
           "3.",
           "3.",
           "3.",
           "3.",
           "3.",
           "3.",
           "3.",
           "3.",
           "3.",
           "3.",
           "3.",
           "3.",
           "3.",
           "3.",
           "3.",
           "3.",
           "3.",
           "3."
          ],
          [
           "Tot Cases/1M pop",
           "Tot Cases/1M pop",
           "Tot Cases/1M pop",
           "Tot Cases/1M pop",
           "Tot Cases/1M pop",
           "Tot Cases/1M pop",
           "Tot Cases/1M pop",
           "Tot Cases/1M pop",
           "Tot Cases/1M pop",
           "Tot Cases/1M pop",
           "Tot Cases/1M pop",
           "Tot Cases/1M pop",
           "Tot Cases/1M pop",
           "Deaths/1M pop",
           "Deaths/1M pop",
           "Deaths/1M pop",
           "Deaths/1M pop",
           "Deaths/1M pop",
           "Deaths/1M pop",
           "Deaths/1M pop",
           "Deaths/1M pop",
           "Deaths/1M pop",
           "Deaths/1M pop",
           "Deaths/1M pop",
           "Deaths/1M pop",
           "Deaths/1M pop",
           "Tests/1M pop",
           "Tests/1M pop",
           "Tests/1M pop",
           "Tests/1M pop",
           "Tests/1M pop",
           "Tests/1M pop",
           "Tests/1M pop",
           "Tests/1M pop",
           "Tests/1M pop",
           "Tests/1M pop",
           "Tests/1M pop",
           "Tests/1M pop",
           "Tests/1M pop",
           "Recovered/1M pop",
           "Recovered/1M pop",
           "Recovered/1M pop",
           "Recovered/1M pop",
           "Recovered/1M pop",
           "Recovered/1M pop",
           "Recovered/1M pop",
           "Recovered/1M pop",
           "Recovered/1M pop",
           "Recovered/1M pop",
           "Recovered/1M pop",
           "Recovered/1M pop",
           "Recovered/1M pop",
           "Recovered/1M cases",
           "Recovered/1M cases",
           "Recovered/1M cases",
           "Recovered/1M cases",
           "Recovered/1M cases",
           "Recovered/1M cases",
           "Recovered/1M cases",
           "Recovered/1M cases",
           "Recovered/1M cases",
           "Recovered/1M cases",
           "Recovered/1M cases",
           "Recovered/1M cases",
           "Recovered/1M cases",
           "Deaths/1M cases",
           "Deaths/1M cases",
           "Deaths/1M cases",
           "Deaths/1M cases",
           "Deaths/1M cases",
           "Deaths/1M cases",
           "Deaths/1M cases",
           "Deaths/1M cases",
           "Deaths/1M cases",
           "Deaths/1M cases",
           "Deaths/1M cases",
           "Deaths/1M cases",
           "Deaths/1M cases",
           "Confirmed/1M tests",
           "Confirmed/1M tests",
           "Confirmed/1M tests",
           "Confirmed/1M tests",
           "Confirmed/1M tests",
           "Confirmed/1M tests",
           "Confirmed/1M tests",
           "Confirmed/1M tests",
           "Confirmed/1M tests",
           "Confirmed/1M tests",
           "Confirmed/1M tests",
           "Confirmed/1M tests",
           "Confirmed/1M tests",
           "GDP",
           "GDP",
           "GDP",
           "GDP",
           "GDP",
           "GDP",
           "GDP",
           "GDP",
           "GDP",
           "GDP",
           "GDP",
           "GDP",
           "GDP",
           "Family",
           "Family",
           "Family",
           "Family",
           "Family",
           "Family",
           "Family",
           "Family",
           "Family",
           "Family",
           "Family",
           "Family",
           "Family",
           "Life expectancy",
           "Life expectancy",
           "Life expectancy",
           "Life expectancy",
           "Life expectancy",
           "Life expectancy",
           "Life expectancy",
           "Life expectancy",
           "Life expectancy",
           "Life expectancy",
           "Life expectancy",
           "Life expectancy",
           "Life expectancy",
           "Freedom",
           "Freedom",
           "Freedom",
           "Freedom",
           "Freedom",
           "Freedom",
           "Freedom",
           "Freedom",
           "Freedom",
           "Freedom",
           "Freedom",
           "Freedom",
           "Freedom",
           "Generosity",
           "Generosity",
           "Generosity",
           "Generosity",
           "Generosity",
           "Generosity",
           "Generosity",
           "Generosity",
           "Generosity",
           "Generosity",
           "Generosity",
           "Generosity",
           "Generosity",
           "Trust",
           "Trust",
           "Trust",
           "Trust",
           "Trust",
           "Trust",
           "Trust",
           "Trust",
           "Trust",
           "Trust",
           "Trust",
           "Trust",
           "Trust"
          ]
         ],
         "y": [
          [
           "1.",
           "1.",
           "1.",
           "1.",
           "2.",
           "2.",
           "2.",
           "3.",
           "3.",
           "3.",
           "3.",
           "3.",
           "3.",
           "1.",
           "1.",
           "1.",
           "1.",
           "2.",
           "2.",
           "2.",
           "3.",
           "3.",
           "3.",
           "3.",
           "3.",
           "3.",
           "1.",
           "1.",
           "1.",
           "1.",
           "2.",
           "2.",
           "2.",
           "3.",
           "3.",
           "3.",
           "3.",
           "3.",
           "3.",
           "1.",
           "1.",
           "1.",
           "1.",
           "2.",
           "2.",
           "2.",
           "3.",
           "3.",
           "3.",
           "3.",
           "3.",
           "3.",
           "1.",
           "1.",
           "1.",
           "1.",
           "2.",
           "2.",
           "2.",
           "3.",
           "3.",
           "3.",
           "3.",
           "3.",
           "3.",
           "1.",
           "1.",
           "1.",
           "1.",
           "2.",
           "2.",
           "2.",
           "3.",
           "3.",
           "3.",
           "3.",
           "3.",
           "3.",
           "1.",
           "1.",
           "1.",
           "1.",
           "2.",
           "2.",
           "2.",
           "3.",
           "3.",
           "3.",
           "3.",
           "3.",
           "3.",
           "1.",
           "1.",
           "1.",
           "1.",
           "2.",
           "2.",
           "2.",
           "3.",
           "3.",
           "3.",
           "3.",
           "3.",
           "3.",
           "1.",
           "1.",
           "1.",
           "1.",
           "2.",
           "2.",
           "2.",
           "3.",
           "3.",
           "3.",
           "3.",
           "3.",
           "3.",
           "1.",
           "1.",
           "1.",
           "1.",
           "2.",
           "2.",
           "2.",
           "3.",
           "3.",
           "3.",
           "3.",
           "3.",
           "3.",
           "1.",
           "1.",
           "1.",
           "1.",
           "2.",
           "2.",
           "2.",
           "3.",
           "3.",
           "3.",
           "3.",
           "3.",
           "3.",
           "1.",
           "1.",
           "1.",
           "1.",
           "2.",
           "2.",
           "2.",
           "3.",
           "3.",
           "3.",
           "3.",
           "3.",
           "3.",
           "1.",
           "1.",
           "1.",
           "1.",
           "2.",
           "2.",
           "2.",
           "3.",
           "3.",
           "3.",
           "3.",
           "3.",
           "3."
          ],
          [
           "Tot Cases/1M pop",
           "Deaths/1M pop",
           "Tests/1M pop",
           "Recovered/1M pop",
           "Recovered/1M cases",
           "Deaths/1M cases",
           "Confirmed/1M tests",
           "GDP",
           "Family",
           "Life expectancy",
           "Freedom",
           "Generosity",
           "Trust",
           "Tot Cases/1M pop",
           "Deaths/1M pop",
           "Tests/1M pop",
           "Recovered/1M pop",
           "Recovered/1M cases",
           "Deaths/1M cases",
           "Confirmed/1M tests",
           "GDP",
           "Family",
           "Life expectancy",
           "Freedom",
           "Generosity",
           "Trust",
           "Tot Cases/1M pop",
           "Deaths/1M pop",
           "Tests/1M pop",
           "Recovered/1M pop",
           "Recovered/1M cases",
           "Deaths/1M cases",
           "Confirmed/1M tests",
           "GDP",
           "Family",
           "Life expectancy",
           "Freedom",
           "Generosity",
           "Trust",
           "Tot Cases/1M pop",
           "Deaths/1M pop",
           "Tests/1M pop",
           "Recovered/1M pop",
           "Recovered/1M cases",
           "Deaths/1M cases",
           "Confirmed/1M tests",
           "GDP",
           "Family",
           "Life expectancy",
           "Freedom",
           "Generosity",
           "Trust",
           "Tot Cases/1M pop",
           "Deaths/1M pop",
           "Tests/1M pop",
           "Recovered/1M pop",
           "Recovered/1M cases",
           "Deaths/1M cases",
           "Confirmed/1M tests",
           "GDP",
           "Family",
           "Life expectancy",
           "Freedom",
           "Generosity",
           "Trust",
           "Tot Cases/1M pop",
           "Deaths/1M pop",
           "Tests/1M pop",
           "Recovered/1M pop",
           "Recovered/1M cases",
           "Deaths/1M cases",
           "Confirmed/1M tests",
           "GDP",
           "Family",
           "Life expectancy",
           "Freedom",
           "Generosity",
           "Trust",
           "Tot Cases/1M pop",
           "Deaths/1M pop",
           "Tests/1M pop",
           "Recovered/1M pop",
           "Recovered/1M cases",
           "Deaths/1M cases",
           "Confirmed/1M tests",
           "GDP",
           "Family",
           "Life expectancy",
           "Freedom",
           "Generosity",
           "Trust",
           "Tot Cases/1M pop",
           "Deaths/1M pop",
           "Tests/1M pop",
           "Recovered/1M pop",
           "Recovered/1M cases",
           "Deaths/1M cases",
           "Confirmed/1M tests",
           "GDP",
           "Family",
           "Life expectancy",
           "Freedom",
           "Generosity",
           "Trust",
           "Tot Cases/1M pop",
           "Deaths/1M pop",
           "Tests/1M pop",
           "Recovered/1M pop",
           "Recovered/1M cases",
           "Deaths/1M cases",
           "Confirmed/1M tests",
           "GDP",
           "Family",
           "Life expectancy",
           "Freedom",
           "Generosity",
           "Trust",
           "Tot Cases/1M pop",
           "Deaths/1M pop",
           "Tests/1M pop",
           "Recovered/1M pop",
           "Recovered/1M cases",
           "Deaths/1M cases",
           "Confirmed/1M tests",
           "GDP",
           "Family",
           "Life expectancy",
           "Freedom",
           "Generosity",
           "Trust",
           "Tot Cases/1M pop",
           "Deaths/1M pop",
           "Tests/1M pop",
           "Recovered/1M pop",
           "Recovered/1M cases",
           "Deaths/1M cases",
           "Confirmed/1M tests",
           "GDP",
           "Family",
           "Life expectancy",
           "Freedom",
           "Generosity",
           "Trust",
           "Tot Cases/1M pop",
           "Deaths/1M pop",
           "Tests/1M pop",
           "Recovered/1M pop",
           "Recovered/1M cases",
           "Deaths/1M cases",
           "Confirmed/1M tests",
           "GDP",
           "Family",
           "Life expectancy",
           "Freedom",
           "Generosity",
           "Trust",
           "Tot Cases/1M pop",
           "Deaths/1M pop",
           "Tests/1M pop",
           "Recovered/1M pop",
           "Recovered/1M cases",
           "Deaths/1M cases",
           "Confirmed/1M tests",
           "GDP",
           "Family",
           "Life expectancy",
           "Freedom",
           "Generosity",
           "Trust"
          ]
         ]
        }
       ],
       "layout": {
        "font": {
         "size": 15
        },
        "height": 885,
        "template": {
         "data": {
          "bar": [
           {
            "error_x": {
             "color": "#2a3f5f"
            },
            "error_y": {
             "color": "#2a3f5f"
            },
            "marker": {
             "line": {
              "color": "#E5ECF6",
              "width": 0.5
             }
            },
            "type": "bar"
           }
          ],
          "barpolar": [
           {
            "marker": {
             "line": {
              "color": "#E5ECF6",
              "width": 0.5
             }
            },
            "type": "barpolar"
           }
          ],
          "carpet": [
           {
            "aaxis": {
             "endlinecolor": "#2a3f5f",
             "gridcolor": "white",
             "linecolor": "white",
             "minorgridcolor": "white",
             "startlinecolor": "#2a3f5f"
            },
            "baxis": {
             "endlinecolor": "#2a3f5f",
             "gridcolor": "white",
             "linecolor": "white",
             "minorgridcolor": "white",
             "startlinecolor": "#2a3f5f"
            },
            "type": "carpet"
           }
          ],
          "choropleth": [
           {
            "colorbar": {
             "outlinewidth": 0,
             "ticks": ""
            },
            "type": "choropleth"
           }
          ],
          "contour": [
           {
            "colorbar": {
             "outlinewidth": 0,
             "ticks": ""
            },
            "colorscale": [
             [
              0,
              "#0d0887"
             ],
             [
              0.1111111111111111,
              "#46039f"
             ],
             [
              0.2222222222222222,
              "#7201a8"
             ],
             [
              0.3333333333333333,
              "#9c179e"
             ],
             [
              0.4444444444444444,
              "#bd3786"
             ],
             [
              0.5555555555555556,
              "#d8576b"
             ],
             [
              0.6666666666666666,
              "#ed7953"
             ],
             [
              0.7777777777777778,
              "#fb9f3a"
             ],
             [
              0.8888888888888888,
              "#fdca26"
             ],
             [
              1,
              "#f0f921"
             ]
            ],
            "type": "contour"
           }
          ],
          "contourcarpet": [
           {
            "colorbar": {
             "outlinewidth": 0,
             "ticks": ""
            },
            "type": "contourcarpet"
           }
          ],
          "heatmap": [
           {
            "colorbar": {
             "outlinewidth": 0,
             "ticks": ""
            },
            "colorscale": [
             [
              0,
              "#0d0887"
             ],
             [
              0.1111111111111111,
              "#46039f"
             ],
             [
              0.2222222222222222,
              "#7201a8"
             ],
             [
              0.3333333333333333,
              "#9c179e"
             ],
             [
              0.4444444444444444,
              "#bd3786"
             ],
             [
              0.5555555555555556,
              "#d8576b"
             ],
             [
              0.6666666666666666,
              "#ed7953"
             ],
             [
              0.7777777777777778,
              "#fb9f3a"
             ],
             [
              0.8888888888888888,
              "#fdca26"
             ],
             [
              1,
              "#f0f921"
             ]
            ],
            "type": "heatmap"
           }
          ],
          "heatmapgl": [
           {
            "colorbar": {
             "outlinewidth": 0,
             "ticks": ""
            },
            "colorscale": [
             [
              0,
              "#0d0887"
             ],
             [
              0.1111111111111111,
              "#46039f"
             ],
             [
              0.2222222222222222,
              "#7201a8"
             ],
             [
              0.3333333333333333,
              "#9c179e"
             ],
             [
              0.4444444444444444,
              "#bd3786"
             ],
             [
              0.5555555555555556,
              "#d8576b"
             ],
             [
              0.6666666666666666,
              "#ed7953"
             ],
             [
              0.7777777777777778,
              "#fb9f3a"
             ],
             [
              0.8888888888888888,
              "#fdca26"
             ],
             [
              1,
              "#f0f921"
             ]
            ],
            "type": "heatmapgl"
           }
          ],
          "histogram": [
           {
            "marker": {
             "colorbar": {
              "outlinewidth": 0,
              "ticks": ""
             }
            },
            "type": "histogram"
           }
          ],
          "histogram2d": [
           {
            "colorbar": {
             "outlinewidth": 0,
             "ticks": ""
            },
            "colorscale": [
             [
              0,
              "#0d0887"
             ],
             [
              0.1111111111111111,
              "#46039f"
             ],
             [
              0.2222222222222222,
              "#7201a8"
             ],
             [
              0.3333333333333333,
              "#9c179e"
             ],
             [
              0.4444444444444444,
              "#bd3786"
             ],
             [
              0.5555555555555556,
              "#d8576b"
             ],
             [
              0.6666666666666666,
              "#ed7953"
             ],
             [
              0.7777777777777778,
              "#fb9f3a"
             ],
             [
              0.8888888888888888,
              "#fdca26"
             ],
             [
              1,
              "#f0f921"
             ]
            ],
            "type": "histogram2d"
           }
          ],
          "histogram2dcontour": [
           {
            "colorbar": {
             "outlinewidth": 0,
             "ticks": ""
            },
            "colorscale": [
             [
              0,
              "#0d0887"
             ],
             [
              0.1111111111111111,
              "#46039f"
             ],
             [
              0.2222222222222222,
              "#7201a8"
             ],
             [
              0.3333333333333333,
              "#9c179e"
             ],
             [
              0.4444444444444444,
              "#bd3786"
             ],
             [
              0.5555555555555556,
              "#d8576b"
             ],
             [
              0.6666666666666666,
              "#ed7953"
             ],
             [
              0.7777777777777778,
              "#fb9f3a"
             ],
             [
              0.8888888888888888,
              "#fdca26"
             ],
             [
              1,
              "#f0f921"
             ]
            ],
            "type": "histogram2dcontour"
           }
          ],
          "mesh3d": [
           {
            "colorbar": {
             "outlinewidth": 0,
             "ticks": ""
            },
            "type": "mesh3d"
           }
          ],
          "parcoords": [
           {
            "line": {
             "colorbar": {
              "outlinewidth": 0,
              "ticks": ""
             }
            },
            "type": "parcoords"
           }
          ],
          "pie": [
           {
            "automargin": true,
            "type": "pie"
           }
          ],
          "scatter": [
           {
            "marker": {
             "colorbar": {
              "outlinewidth": 0,
              "ticks": ""
             }
            },
            "type": "scatter"
           }
          ],
          "scatter3d": [
           {
            "line": {
             "colorbar": {
              "outlinewidth": 0,
              "ticks": ""
             }
            },
            "marker": {
             "colorbar": {
              "outlinewidth": 0,
              "ticks": ""
             }
            },
            "type": "scatter3d"
           }
          ],
          "scattercarpet": [
           {
            "marker": {
             "colorbar": {
              "outlinewidth": 0,
              "ticks": ""
             }
            },
            "type": "scattercarpet"
           }
          ],
          "scattergeo": [
           {
            "marker": {
             "colorbar": {
              "outlinewidth": 0,
              "ticks": ""
             }
            },
            "type": "scattergeo"
           }
          ],
          "scattergl": [
           {
            "marker": {
             "colorbar": {
              "outlinewidth": 0,
              "ticks": ""
             }
            },
            "type": "scattergl"
           }
          ],
          "scattermapbox": [
           {
            "marker": {
             "colorbar": {
              "outlinewidth": 0,
              "ticks": ""
             }
            },
            "type": "scattermapbox"
           }
          ],
          "scatterpolar": [
           {
            "marker": {
             "colorbar": {
              "outlinewidth": 0,
              "ticks": ""
             }
            },
            "type": "scatterpolar"
           }
          ],
          "scatterpolargl": [
           {
            "marker": {
             "colorbar": {
              "outlinewidth": 0,
              "ticks": ""
             }
            },
            "type": "scatterpolargl"
           }
          ],
          "scatterternary": [
           {
            "marker": {
             "colorbar": {
              "outlinewidth": 0,
              "ticks": ""
             }
            },
            "type": "scatterternary"
           }
          ],
          "surface": [
           {
            "colorbar": {
             "outlinewidth": 0,
             "ticks": ""
            },
            "colorscale": [
             [
              0,
              "#0d0887"
             ],
             [
              0.1111111111111111,
              "#46039f"
             ],
             [
              0.2222222222222222,
              "#7201a8"
             ],
             [
              0.3333333333333333,
              "#9c179e"
             ],
             [
              0.4444444444444444,
              "#bd3786"
             ],
             [
              0.5555555555555556,
              "#d8576b"
             ],
             [
              0.6666666666666666,
              "#ed7953"
             ],
             [
              0.7777777777777778,
              "#fb9f3a"
             ],
             [
              0.8888888888888888,
              "#fdca26"
             ],
             [
              1,
              "#f0f921"
             ]
            ],
            "type": "surface"
           }
          ],
          "table": [
           {
            "cells": {
             "fill": {
              "color": "#EBF0F8"
             },
             "line": {
              "color": "white"
             }
            },
            "header": {
             "fill": {
              "color": "#C8D4E3"
             },
             "line": {
              "color": "white"
             }
            },
            "type": "table"
           }
          ]
         },
         "layout": {
          "annotationdefaults": {
           "arrowcolor": "#2a3f5f",
           "arrowhead": 0,
           "arrowwidth": 1
          },
          "coloraxis": {
           "colorbar": {
            "outlinewidth": 0,
            "ticks": ""
           }
          },
          "colorscale": {
           "diverging": [
            [
             0,
             "#8e0152"
            ],
            [
             0.1,
             "#c51b7d"
            ],
            [
             0.2,
             "#de77ae"
            ],
            [
             0.3,
             "#f1b6da"
            ],
            [
             0.4,
             "#fde0ef"
            ],
            [
             0.5,
             "#f7f7f7"
            ],
            [
             0.6,
             "#e6f5d0"
            ],
            [
             0.7,
             "#b8e186"
            ],
            [
             0.8,
             "#7fbc41"
            ],
            [
             0.9,
             "#4d9221"
            ],
            [
             1,
             "#276419"
            ]
           ],
           "sequential": [
            [
             0,
             "#0d0887"
            ],
            [
             0.1111111111111111,
             "#46039f"
            ],
            [
             0.2222222222222222,
             "#7201a8"
            ],
            [
             0.3333333333333333,
             "#9c179e"
            ],
            [
             0.4444444444444444,
             "#bd3786"
            ],
            [
             0.5555555555555556,
             "#d8576b"
            ],
            [
             0.6666666666666666,
             "#ed7953"
            ],
            [
             0.7777777777777778,
             "#fb9f3a"
            ],
            [
             0.8888888888888888,
             "#fdca26"
            ],
            [
             1,
             "#f0f921"
            ]
           ],
           "sequentialminus": [
            [
             0,
             "#0d0887"
            ],
            [
             0.1111111111111111,
             "#46039f"
            ],
            [
             0.2222222222222222,
             "#7201a8"
            ],
            [
             0.3333333333333333,
             "#9c179e"
            ],
            [
             0.4444444444444444,
             "#bd3786"
            ],
            [
             0.5555555555555556,
             "#d8576b"
            ],
            [
             0.6666666666666666,
             "#ed7953"
            ],
            [
             0.7777777777777778,
             "#fb9f3a"
            ],
            [
             0.8888888888888888,
             "#fdca26"
            ],
            [
             1,
             "#f0f921"
            ]
           ]
          },
          "colorway": [
           "#636efa",
           "#EF553B",
           "#00cc96",
           "#ab63fa",
           "#FFA15A",
           "#19d3f3",
           "#FF6692",
           "#B6E880",
           "#FF97FF",
           "#FECB52"
          ],
          "font": {
           "color": "#2a3f5f"
          },
          "geo": {
           "bgcolor": "white",
           "lakecolor": "white",
           "landcolor": "#E5ECF6",
           "showlakes": true,
           "showland": true,
           "subunitcolor": "white"
          },
          "hoverlabel": {
           "align": "left"
          },
          "hovermode": "closest",
          "mapbox": {
           "style": "light"
          },
          "paper_bgcolor": "white",
          "plot_bgcolor": "#E5ECF6",
          "polar": {
           "angularaxis": {
            "gridcolor": "white",
            "linecolor": "white",
            "ticks": ""
           },
           "bgcolor": "#E5ECF6",
           "radialaxis": {
            "gridcolor": "white",
            "linecolor": "white",
            "ticks": ""
           }
          },
          "scene": {
           "xaxis": {
            "backgroundcolor": "#E5ECF6",
            "gridcolor": "white",
            "gridwidth": 2,
            "linecolor": "white",
            "showbackground": true,
            "ticks": "",
            "zerolinecolor": "white"
           },
           "yaxis": {
            "backgroundcolor": "#E5ECF6",
            "gridcolor": "white",
            "gridwidth": 2,
            "linecolor": "white",
            "showbackground": true,
            "ticks": "",
            "zerolinecolor": "white"
           },
           "zaxis": {
            "backgroundcolor": "#E5ECF6",
            "gridcolor": "white",
            "gridwidth": 2,
            "linecolor": "white",
            "showbackground": true,
            "ticks": "",
            "zerolinecolor": "white"
           }
          },
          "shapedefaults": {
           "line": {
            "color": "#2a3f5f"
           }
          },
          "ternary": {
           "aaxis": {
            "gridcolor": "white",
            "linecolor": "white",
            "ticks": ""
           },
           "baxis": {
            "gridcolor": "white",
            "linecolor": "white",
            "ticks": ""
           },
           "bgcolor": "#E5ECF6",
           "caxis": {
            "gridcolor": "white",
            "linecolor": "white",
            "ticks": ""
           }
          },
          "title": {
           "x": 0.05
          },
          "xaxis": {
           "automargin": true,
           "gridcolor": "white",
           "linecolor": "white",
           "ticks": "",
           "title": {
            "standoff": 15
           },
           "zerolinecolor": "white",
           "zerolinewidth": 2
          },
          "yaxis": {
           "automargin": true,
           "gridcolor": "white",
           "linecolor": "white",
           "ticks": "",
           "title": {
            "standoff": 15
           },
           "zerolinecolor": "white",
           "zerolinewidth": 2
          }
         }
        },
        "title": {
         "text": "South-East Asia: 8 countries"
        },
        "width": 885,
        "xaxis": {
         "range": [
          0.5,
          12.5
         ],
         "showgrid": true,
         "ticklen": 0,
         "ticks": "outside",
         "tickson": "boundaries"
        },
        "yaxis": {
         "range": [
          0.5,
          12.5
         ],
         "showgrid": true,
         "ticklen": 0,
         "ticks": "outside",
         "tickson": "boundaries"
        }
       }
      },
      "text/html": [
       "<div>\n",
       "        \n",
       "        \n",
       "            <div id=\"0ff5a8d8-862e-4526-bcc2-2e73ecff8628\" class=\"plotly-graph-div\" style=\"height:885px; width:885px;\"></div>\n",
       "            <script type=\"text/javascript\">\n",
       "                require([\"plotly\"], function(Plotly) {\n",
       "                    window.PLOTLYENV=window.PLOTLYENV || {};\n",
       "                    \n",
       "                if (document.getElementById(\"0ff5a8d8-862e-4526-bcc2-2e73ecff8628\")) {\n",
       "                    Plotly.newPlot(\n",
       "                        '0ff5a8d8-862e-4526-bcc2-2e73ecff8628',\n",
       "                        [{\"hoverinfo\": \"text\", \"hovertext\": [\"1.0\", \"0.8587287594733802\", \"4.858314958203772e-06\", \"0.9960436237563448\", \"0.10463784741669126\", \"-0.00485770721371535\", \"0.5557487325112823\", \"-0.5692249164549611\", \"-0.8256546454558522\", \"-0.364814814757347\", \"-0.2106387551570489\", \"-0.5505655214925148\", \"0.014657934690133233\", \"0.8587287594733802\", \"1.0\", \"-0.12503651080406772\", \"0.8759786860502796\", \"0.07829276952097095\", \"0.40332881953128547\", \"0.5851594654353375\", \"-0.23736966286911923\", \"-0.8719355643100211\", \"-0.39891516817177686\", \"0.03258897698461915\", \"-0.31941480938533656\", \"-0.13354266851520324\", \"4.858314958203772e-06\", \"-0.12503651080406772\", \"1.0\", \"0.022493878076662355\", \"0.14830916523119514\", \"-0.5513934931686656\", \"-0.36203121089298085\", \"-0.03131134426885197\", \"0.11765449459960325\", \"-0.39352633415508675\", \"-0.4938576171420714\", \"-0.05227739338941109\", \"0.4513530681157059\", \"0.9960436237563448\", \"0.8759786860502796\", \"0.022493878076662355\", \"1.0\", \"0.1556664338540936\", \"-0.011737232839890283\", \"0.5189418994569994\", \"-0.5031753795406709\", \"-0.8365107594823975\", \"-0.3473196939213476\", \"-0.18988268864377697\", \"-0.5705173556080059\", \"-0.013858542473826972\", \"0.10463784741669126\", \"0.07829276952097095\", \"0.14830916523119514\", \"0.1556664338540936\", \"1.0\", \"-0.35478311655489536\", \"-0.19200550666036564\", \"0.4083950803696946\", \"0.07267830381049192\", \"0.6758695375675632\", \"-0.10577018469750248\", \"-0.6417915585286778\", \"-0.6377726630160981\", \"-0.00485770721371535\", \"0.40332881953128547\", \"-0.5513934931686656\", \"-0.011737232839890283\", \"-0.35478311655489536\", \"1.0\", \"0.3313231822465716\", \"0.2180531332800684\", \"-0.159360522789695\", \"-0.2193446844142726\", \"0.487170881944011\", \"0.5594684203999085\", \"-0.2834067472795728\", \"0.5557487325112823\", \"0.5851594654353375\", \"-0.36203121089298085\", \"0.5189418994569994\", \"-0.19200550666036564\", \"0.3313231822465716\", \"1.0\", \"-0.6411324310058325\", \"-0.7060526547954221\", \"-0.18154770518951507\", \"0.15279421532169363\", \"-0.3450382554270833\", \"0.2111536924152403\", \"-0.5692249164549611\", \"-0.23736966286911923\", \"-0.03131134426885197\", \"-0.5031753795406709\", \"0.4083950803696946\", \"0.2180531332800684\", \"-0.6411324310058325\", \"1.0\", \"0.44240621591139057\", \"0.42041974097049\", \"0.3581744624659836\", \"0.2868480357256271\", \"-0.5603648353600258\", \"-0.8256546454558522\", \"-0.8719355643100211\", \"0.11765449459960325\", \"-0.8365107594823975\", \"0.07267830381049192\", \"-0.159360522789695\", \"-0.7060526547954221\", \"0.44240621591139057\", \"1.0\", \"0.4055383609867672\", \"-0.08763641761980628\", \"0.4920365701096169\", \"-0.21439428093366497\", \"-0.364814814757347\", \"-0.39891516817177686\", \"-0.39352633415508675\", \"-0.3473196939213476\", \"0.6758695375675632\", \"-0.2193446844142726\", \"-0.18154770518951507\", \"0.42041974097049\", \"0.4055383609867672\", \"1.0\", \"0.20220680896855467\", \"-0.3840487055970771\", \"-0.6394366285705552\", \"-0.2106387551570489\", \"0.03258897698461915\", \"-0.4938576171420714\", \"-0.18988268864377697\", \"-0.10577018469750248\", \"0.487170881944011\", \"0.15279421532169363\", \"0.3581744624659836\", \"-0.08763641761980628\", \"0.20220680896855467\", \"1.0\", \"0.1454923397321382\", \"-0.07682177728289137\", \"-0.5505655214925148\", \"-0.31941480938533656\", \"-0.05227739338941109\", \"-0.5705173556080059\", \"-0.6417915585286778\", \"0.5594684203999085\", \"-0.3450382554270833\", \"0.2868480357256271\", \"0.4920365701096169\", \"-0.3840487055970771\", \"0.1454923397321382\", \"1.0\", \"0.09665837967822535\", \"0.014657934690133233\", \"-0.13354266851520324\", \"0.4513530681157059\", \"-0.013858542473826972\", \"-0.6377726630160981\", \"-0.2834067472795728\", \"0.2111536924152403\", \"-0.5603648353600258\", \"-0.21439428093366497\", \"-0.6394366285705552\", \"-0.07682177728289137\", \"0.09665837967822535\", \"1.0\"], \"marker\": {\"cmid\": 0, \"color\": [1.0, 0.8587287594733802, 4.858314958203772e-06, 0.9960436237563448, 0.10463784741669126, -0.00485770721371535, 0.5557487325112823, -0.5692249164549611, -0.8256546454558522, -0.364814814757347, -0.2106387551570489, -0.5505655214925148, 0.014657934690133233, 0.8587287594733802, 1.0, -0.12503651080406772, 0.8759786860502796, 0.07829276952097095, 0.40332881953128547, 0.5851594654353375, -0.23736966286911923, -0.8719355643100211, -0.39891516817177686, 0.03258897698461915, -0.31941480938533656, -0.13354266851520324, 4.858314958203772e-06, -0.12503651080406772, 1.0, 0.022493878076662355, 0.14830916523119514, -0.5513934931686656, -0.36203121089298085, -0.03131134426885197, 0.11765449459960325, -0.39352633415508675, -0.4938576171420714, -0.05227739338941109, 0.4513530681157059, 0.9960436237563448, 0.8759786860502796, 0.022493878076662355, 1.0, 0.1556664338540936, -0.011737232839890283, 0.5189418994569994, -0.5031753795406709, -0.8365107594823975, -0.3473196939213476, -0.18988268864377697, -0.5705173556080059, -0.013858542473826972, 0.10463784741669126, 0.07829276952097095, 0.14830916523119514, 0.1556664338540936, 1.0, -0.35478311655489536, -0.19200550666036564, 0.4083950803696946, 0.07267830381049192, 0.6758695375675632, -0.10577018469750248, -0.6417915585286778, -0.6377726630160981, -0.00485770721371535, 0.40332881953128547, -0.5513934931686656, -0.011737232839890283, -0.35478311655489536, 1.0, 0.3313231822465716, 0.2180531332800684, -0.159360522789695, -0.2193446844142726, 0.487170881944011, 0.5594684203999085, -0.2834067472795728, 0.5557487325112823, 0.5851594654353375, -0.36203121089298085, 0.5189418994569994, -0.19200550666036564, 0.3313231822465716, 1.0, -0.6411324310058325, -0.7060526547954221, -0.18154770518951507, 0.15279421532169363, -0.3450382554270833, 0.2111536924152403, -0.5692249164549611, -0.23736966286911923, -0.03131134426885197, -0.5031753795406709, 0.4083950803696946, 0.2180531332800684, -0.6411324310058325, 1.0, 0.44240621591139057, 0.42041974097049, 0.3581744624659836, 0.2868480357256271, -0.5603648353600258, -0.8256546454558522, -0.8719355643100211, 0.11765449459960325, -0.8365107594823975, 0.07267830381049192, -0.159360522789695, -0.7060526547954221, 0.44240621591139057, 1.0, 0.4055383609867672, -0.08763641761980628, 0.4920365701096169, -0.21439428093366497, -0.364814814757347, -0.39891516817177686, -0.39352633415508675, -0.3473196939213476, 0.6758695375675632, -0.2193446844142726, -0.18154770518951507, 0.42041974097049, 0.4055383609867672, 1.0, 0.20220680896855467, -0.3840487055970771, -0.6394366285705552, -0.2106387551570489, 0.03258897698461915, -0.4938576171420714, -0.18988268864377697, -0.10577018469750248, 0.487170881944011, 0.15279421532169363, 0.3581744624659836, -0.08763641761980628, 0.20220680896855467, 1.0, 0.1454923397321382, -0.07682177728289137, -0.5505655214925148, -0.31941480938533656, -0.05227739338941109, -0.5705173556080059, -0.6417915585286778, 0.5594684203999085, -0.3450382554270833, 0.2868480357256271, 0.4920365701096169, -0.3840487055970771, 0.1454923397321382, 1.0, 0.09665837967822535, 0.014657934690133233, -0.13354266851520324, 0.4513530681157059, -0.013858542473826972, -0.6377726630160981, -0.2834067472795728, 0.2111536924152403, -0.5603648353600258, -0.21439428093366497, -0.6394366285705552, -0.07682177728289137, 0.09665837967822535, 1.0], \"colorbar\": {\"title\": {\"text\": \"Correlation\"}}, \"colorscale\": [[0.0, \"rgb(5,48,97)\"], [0.1, \"rgb(33,102,172)\"], [0.2, \"rgb(67,147,195)\"], [0.3, \"rgb(146,197,222)\"], [0.4, \"rgb(209,229,240)\"], [0.5, \"rgb(247,247,247)\"], [0.6, \"rgb(253,219,199)\"], [0.7, \"rgb(244,165,130)\"], [0.8, \"rgb(214,96,77)\"], [0.9, \"rgb(178,24,43)\"], [1.0, \"rgb(103,0,31)\"]], \"size\": [46.0, 39.50152293577549, 0.00022348248807737352, 45.81800669279186, 4.813340981167798, 0.2234545318309061, 25.564441695518987, 26.18434615692821, 37.980113690969205, 16.78148147883796, 9.68938273722425, 25.32601398865568, 0.6742649957461287, 39.50152293577549, 46.0, 5.751679496987115, 40.29501955831286, 3.6014673979646634, 18.553125698439132, 26.917335410025522, 10.919004491979484, 40.10903595826097, 18.350097735901734, 1.499092941292481, 14.693081231725483, 6.142962751699349, 0.00022348248807737352, 5.751679496987115, 46.0, 1.0347183915264684, 6.822221600634976, 25.36410068575862, 16.653435701077118, 1.4403218363671908, 5.412106751581749, 18.10221137113399, 22.717450388535283, 2.40476009591291, 20.762241133322473, 45.81800669279186, 40.29501955831286, 1.0347183915264684, 46.0, 7.160655957288306, 0.539912710634953, 23.871327375021973, 23.146067458870863, 38.479494936190285, 15.97670592038199, 8.734603677613741, 26.24379835796827, 0.6374929537960408, 4.813340981167798, 3.6014673979646634, 6.822221600634976, 7.160655957288306, 46.0, 16.320023361525188, 8.83225330637682, 18.78617369700595, 3.3432019752826285, 31.089998728107908, 4.865428496085114, 29.522411692319178, 29.337542498740515, 0.2234545318309061, 18.553125698439132, 25.36410068575862, 0.539912710634953, 16.320023361525188, 46.0, 15.240866383342293, 10.030444130883145, 7.330584048325971, 10.089855483056539, 22.409860569424506, 25.73554733839579, 13.03671037486035, 25.564441695518987, 26.917335410025522, 16.653435701077118, 23.871327375021973, 8.83225330637682, 15.240866383342293, 46.0, 29.492091826268297, 32.478422120589414, 8.351194438717693, 7.028533904797907, 15.87175974964583, 9.713069851101054, 26.18434615692821, 10.919004491979484, 1.4403218363671908, 23.146067458870863, 18.78617369700595, 10.030444130883145, 29.492091826268297, 46.0, 20.350685931923966, 19.33930808464254, 16.476025273435248, 13.195009643378848, 25.776782426561187, 37.980113690969205, 40.10903595826097, 5.412106751581749, 38.479494936190285, 3.3432019752826285, 7.330584048325971, 32.478422120589414, 20.350685931923966, 46.0, 18.654764605391293, 4.031275210511089, 22.633682225042378, 9.862136922948588, 16.78148147883796, 18.350097735901734, 18.10221137113399, 15.97670592038199, 31.089998728107908, 10.089855483056539, 8.351194438717693, 19.33930808464254, 18.654764605391293, 46.0, 9.301513212553514, 17.66624045746555, 29.41408491424554, 9.68938273722425, 1.499092941292481, 22.717450388535283, 8.734603677613741, 4.865428496085114, 22.409860569424506, 7.028533904797907, 16.476025273435248, 4.031275210511089, 9.301513212553514, 46.0, 6.692647627678357, 3.533801755013003, 25.32601398865568, 14.693081231725483, 2.40476009591291, 26.24379835796827, 29.522411692319178, 25.73554733839579, 15.87175974964583, 13.195009643378848, 22.633682225042378, 17.66624045746555, 6.692647627678357, 46.0, 4.4462854651983665, 0.6742649957461287, 6.142962751699349, 20.762241133322473, 0.6374929537960408, 29.337542498740515, 13.03671037486035, 9.713069851101054, 25.776782426561187, 9.862136922948588, 29.41408491424554, 3.533801755013003, 4.4462854651983665, 46.0]}, \"mode\": \"markers\", \"type\": \"scatter\", \"x\": [[\"1.\", \"1.\", \"1.\", \"1.\", \"1.\", \"1.\", \"1.\", \"1.\", \"1.\", \"1.\", \"1.\", \"1.\", \"1.\", \"1.\", \"1.\", \"1.\", \"1.\", \"1.\", \"1.\", \"1.\", \"1.\", \"1.\", \"1.\", \"1.\", \"1.\", \"1.\", \"1.\", \"1.\", \"1.\", \"1.\", \"1.\", \"1.\", \"1.\", \"1.\", \"1.\", \"1.\", \"1.\", \"1.\", \"1.\", \"1.\", \"1.\", \"1.\", \"1.\", \"1.\", \"1.\", \"1.\", \"1.\", \"1.\", \"1.\", \"1.\", \"1.\", \"1.\", \"2.\", \"2.\", \"2.\", \"2.\", \"2.\", \"2.\", \"2.\", \"2.\", \"2.\", \"2.\", \"2.\", \"2.\", \"2.\", \"2.\", \"2.\", \"2.\", \"2.\", \"2.\", \"2.\", \"2.\", \"2.\", \"2.\", \"2.\", \"2.\", \"2.\", \"2.\", \"2.\", \"2.\", \"2.\", \"2.\", \"2.\", \"2.\", \"2.\", \"2.\", \"2.\", \"2.\", \"2.\", \"2.\", \"2.\", \"3.\", \"3.\", \"3.\", \"3.\", \"3.\", \"3.\", \"3.\", \"3.\", \"3.\", \"3.\", \"3.\", \"3.\", \"3.\", \"3.\", \"3.\", \"3.\", \"3.\", \"3.\", \"3.\", \"3.\", \"3.\", \"3.\", \"3.\", \"3.\", \"3.\", \"3.\", \"3.\", \"3.\", \"3.\", \"3.\", \"3.\", \"3.\", \"3.\", \"3.\", \"3.\", \"3.\", \"3.\", \"3.\", \"3.\", \"3.\", \"3.\", \"3.\", \"3.\", \"3.\", \"3.\", \"3.\", \"3.\", \"3.\", \"3.\", \"3.\", \"3.\", \"3.\", \"3.\", \"3.\", \"3.\", \"3.\", \"3.\", \"3.\", \"3.\", \"3.\", \"3.\", \"3.\", \"3.\", \"3.\", \"3.\", \"3.\", \"3.\", \"3.\", \"3.\", \"3.\", \"3.\", \"3.\", \"3.\", \"3.\", \"3.\", \"3.\", \"3.\", \"3.\"], [\"Tot Cases/1M pop\", \"Tot Cases/1M pop\", \"Tot Cases/1M pop\", \"Tot Cases/1M pop\", \"Tot Cases/1M pop\", \"Tot Cases/1M pop\", \"Tot Cases/1M pop\", \"Tot Cases/1M pop\", \"Tot Cases/1M pop\", \"Tot Cases/1M pop\", \"Tot Cases/1M pop\", \"Tot Cases/1M pop\", \"Tot Cases/1M pop\", \"Deaths/1M pop\", \"Deaths/1M pop\", \"Deaths/1M pop\", \"Deaths/1M pop\", \"Deaths/1M pop\", \"Deaths/1M pop\", \"Deaths/1M pop\", \"Deaths/1M pop\", \"Deaths/1M pop\", \"Deaths/1M pop\", \"Deaths/1M pop\", \"Deaths/1M pop\", \"Deaths/1M pop\", \"Tests/1M pop\", \"Tests/1M pop\", \"Tests/1M pop\", \"Tests/1M pop\", \"Tests/1M pop\", \"Tests/1M pop\", \"Tests/1M pop\", \"Tests/1M pop\", \"Tests/1M pop\", \"Tests/1M pop\", \"Tests/1M pop\", \"Tests/1M pop\", \"Tests/1M pop\", \"Recovered/1M pop\", \"Recovered/1M pop\", \"Recovered/1M pop\", \"Recovered/1M pop\", \"Recovered/1M pop\", \"Recovered/1M pop\", \"Recovered/1M pop\", \"Recovered/1M pop\", \"Recovered/1M pop\", \"Recovered/1M pop\", \"Recovered/1M pop\", \"Recovered/1M pop\", \"Recovered/1M pop\", \"Recovered/1M cases\", \"Recovered/1M cases\", \"Recovered/1M cases\", \"Recovered/1M cases\", \"Recovered/1M cases\", \"Recovered/1M cases\", \"Recovered/1M cases\", \"Recovered/1M cases\", \"Recovered/1M cases\", \"Recovered/1M cases\", \"Recovered/1M cases\", \"Recovered/1M cases\", \"Recovered/1M cases\", \"Deaths/1M cases\", \"Deaths/1M cases\", \"Deaths/1M cases\", \"Deaths/1M cases\", \"Deaths/1M cases\", \"Deaths/1M cases\", \"Deaths/1M cases\", \"Deaths/1M cases\", \"Deaths/1M cases\", \"Deaths/1M cases\", \"Deaths/1M cases\", \"Deaths/1M cases\", \"Deaths/1M cases\", \"Confirmed/1M tests\", \"Confirmed/1M tests\", \"Confirmed/1M tests\", \"Confirmed/1M tests\", \"Confirmed/1M tests\", \"Confirmed/1M tests\", \"Confirmed/1M tests\", \"Confirmed/1M tests\", \"Confirmed/1M tests\", \"Confirmed/1M tests\", \"Confirmed/1M tests\", \"Confirmed/1M tests\", \"Confirmed/1M tests\", \"GDP\", \"GDP\", \"GDP\", \"GDP\", \"GDP\", \"GDP\", \"GDP\", \"GDP\", \"GDP\", \"GDP\", \"GDP\", \"GDP\", \"GDP\", \"Family\", \"Family\", \"Family\", \"Family\", \"Family\", \"Family\", \"Family\", \"Family\", \"Family\", \"Family\", \"Family\", \"Family\", \"Family\", \"Life expectancy\", \"Life expectancy\", \"Life expectancy\", \"Life expectancy\", \"Life expectancy\", \"Life expectancy\", \"Life expectancy\", \"Life expectancy\", \"Life expectancy\", \"Life expectancy\", \"Life expectancy\", \"Life expectancy\", \"Life expectancy\", \"Freedom\", \"Freedom\", \"Freedom\", \"Freedom\", \"Freedom\", \"Freedom\", \"Freedom\", \"Freedom\", \"Freedom\", \"Freedom\", \"Freedom\", \"Freedom\", \"Freedom\", \"Generosity\", \"Generosity\", \"Generosity\", \"Generosity\", \"Generosity\", \"Generosity\", \"Generosity\", \"Generosity\", \"Generosity\", \"Generosity\", \"Generosity\", \"Generosity\", \"Generosity\", \"Trust\", \"Trust\", \"Trust\", \"Trust\", \"Trust\", \"Trust\", \"Trust\", \"Trust\", \"Trust\", \"Trust\", \"Trust\", \"Trust\", \"Trust\"]], \"y\": [[\"1.\", \"1.\", \"1.\", \"1.\", \"2.\", \"2.\", \"2.\", \"3.\", \"3.\", \"3.\", \"3.\", \"3.\", \"3.\", \"1.\", \"1.\", \"1.\", \"1.\", \"2.\", \"2.\", \"2.\", \"3.\", \"3.\", \"3.\", \"3.\", \"3.\", \"3.\", \"1.\", \"1.\", \"1.\", \"1.\", \"2.\", \"2.\", \"2.\", \"3.\", \"3.\", \"3.\", \"3.\", \"3.\", \"3.\", \"1.\", \"1.\", \"1.\", \"1.\", \"2.\", \"2.\", \"2.\", \"3.\", \"3.\", \"3.\", \"3.\", \"3.\", \"3.\", \"1.\", \"1.\", \"1.\", \"1.\", \"2.\", \"2.\", \"2.\", \"3.\", \"3.\", \"3.\", \"3.\", \"3.\", \"3.\", \"1.\", \"1.\", \"1.\", \"1.\", \"2.\", \"2.\", \"2.\", \"3.\", \"3.\", \"3.\", \"3.\", \"3.\", \"3.\", \"1.\", \"1.\", \"1.\", \"1.\", \"2.\", \"2.\", \"2.\", \"3.\", \"3.\", \"3.\", \"3.\", \"3.\", \"3.\", \"1.\", \"1.\", \"1.\", \"1.\", \"2.\", \"2.\", \"2.\", \"3.\", \"3.\", \"3.\", \"3.\", \"3.\", \"3.\", \"1.\", \"1.\", \"1.\", \"1.\", \"2.\", \"2.\", \"2.\", \"3.\", \"3.\", \"3.\", \"3.\", \"3.\", \"3.\", \"1.\", \"1.\", \"1.\", \"1.\", \"2.\", \"2.\", \"2.\", \"3.\", \"3.\", \"3.\", \"3.\", \"3.\", \"3.\", \"1.\", \"1.\", \"1.\", \"1.\", \"2.\", \"2.\", \"2.\", \"3.\", \"3.\", \"3.\", \"3.\", \"3.\", \"3.\", \"1.\", \"1.\", \"1.\", \"1.\", \"2.\", \"2.\", \"2.\", \"3.\", \"3.\", \"3.\", \"3.\", \"3.\", \"3.\", \"1.\", \"1.\", \"1.\", \"1.\", \"2.\", \"2.\", \"2.\", \"3.\", \"3.\", \"3.\", \"3.\", \"3.\", \"3.\"], [\"Tot Cases/1M pop\", \"Deaths/1M pop\", \"Tests/1M pop\", \"Recovered/1M pop\", \"Recovered/1M cases\", \"Deaths/1M cases\", \"Confirmed/1M tests\", \"GDP\", \"Family\", \"Life expectancy\", \"Freedom\", \"Generosity\", \"Trust\", \"Tot Cases/1M pop\", \"Deaths/1M pop\", \"Tests/1M pop\", \"Recovered/1M pop\", \"Recovered/1M cases\", \"Deaths/1M cases\", \"Confirmed/1M tests\", \"GDP\", \"Family\", \"Life expectancy\", \"Freedom\", \"Generosity\", \"Trust\", \"Tot Cases/1M pop\", \"Deaths/1M pop\", \"Tests/1M pop\", \"Recovered/1M pop\", \"Recovered/1M cases\", \"Deaths/1M cases\", \"Confirmed/1M tests\", \"GDP\", \"Family\", \"Life expectancy\", \"Freedom\", \"Generosity\", \"Trust\", \"Tot Cases/1M pop\", \"Deaths/1M pop\", \"Tests/1M pop\", \"Recovered/1M pop\", \"Recovered/1M cases\", \"Deaths/1M cases\", \"Confirmed/1M tests\", \"GDP\", \"Family\", \"Life expectancy\", \"Freedom\", \"Generosity\", \"Trust\", \"Tot Cases/1M pop\", \"Deaths/1M pop\", \"Tests/1M pop\", \"Recovered/1M pop\", \"Recovered/1M cases\", \"Deaths/1M cases\", \"Confirmed/1M tests\", \"GDP\", \"Family\", \"Life expectancy\", \"Freedom\", \"Generosity\", \"Trust\", \"Tot Cases/1M pop\", \"Deaths/1M pop\", \"Tests/1M pop\", \"Recovered/1M pop\", \"Recovered/1M cases\", \"Deaths/1M cases\", \"Confirmed/1M tests\", \"GDP\", \"Family\", \"Life expectancy\", \"Freedom\", \"Generosity\", \"Trust\", \"Tot Cases/1M pop\", \"Deaths/1M pop\", \"Tests/1M pop\", \"Recovered/1M pop\", \"Recovered/1M cases\", \"Deaths/1M cases\", \"Confirmed/1M tests\", \"GDP\", \"Family\", \"Life expectancy\", \"Freedom\", \"Generosity\", \"Trust\", \"Tot Cases/1M pop\", \"Deaths/1M pop\", \"Tests/1M pop\", \"Recovered/1M pop\", \"Recovered/1M cases\", \"Deaths/1M cases\", \"Confirmed/1M tests\", \"GDP\", \"Family\", \"Life expectancy\", \"Freedom\", \"Generosity\", \"Trust\", \"Tot Cases/1M pop\", \"Deaths/1M pop\", \"Tests/1M pop\", \"Recovered/1M pop\", \"Recovered/1M cases\", \"Deaths/1M cases\", \"Confirmed/1M tests\", \"GDP\", \"Family\", \"Life expectancy\", \"Freedom\", \"Generosity\", \"Trust\", \"Tot Cases/1M pop\", \"Deaths/1M pop\", \"Tests/1M pop\", \"Recovered/1M pop\", \"Recovered/1M cases\", \"Deaths/1M cases\", \"Confirmed/1M tests\", \"GDP\", \"Family\", \"Life expectancy\", \"Freedom\", \"Generosity\", \"Trust\", \"Tot Cases/1M pop\", \"Deaths/1M pop\", \"Tests/1M pop\", \"Recovered/1M pop\", \"Recovered/1M cases\", \"Deaths/1M cases\", \"Confirmed/1M tests\", \"GDP\", \"Family\", \"Life expectancy\", \"Freedom\", \"Generosity\", \"Trust\", \"Tot Cases/1M pop\", \"Deaths/1M pop\", \"Tests/1M pop\", \"Recovered/1M pop\", \"Recovered/1M cases\", \"Deaths/1M cases\", \"Confirmed/1M tests\", \"GDP\", \"Family\", \"Life expectancy\", \"Freedom\", \"Generosity\", \"Trust\", \"Tot Cases/1M pop\", \"Deaths/1M pop\", \"Tests/1M pop\", \"Recovered/1M pop\", \"Recovered/1M cases\", \"Deaths/1M cases\", \"Confirmed/1M tests\", \"GDP\", \"Family\", \"Life expectancy\", \"Freedom\", \"Generosity\", \"Trust\"]]}],\n",
       "                        {\"font\": {\"size\": 15}, \"height\": 885, \"template\": {\"data\": {\"bar\": [{\"error_x\": {\"color\": \"#2a3f5f\"}, \"error_y\": {\"color\": \"#2a3f5f\"}, \"marker\": {\"line\": {\"color\": \"#E5ECF6\", \"width\": 0.5}}, \"type\": \"bar\"}], \"barpolar\": [{\"marker\": {\"line\": {\"color\": \"#E5ECF6\", \"width\": 0.5}}, \"type\": \"barpolar\"}], \"carpet\": [{\"aaxis\": {\"endlinecolor\": \"#2a3f5f\", \"gridcolor\": \"white\", \"linecolor\": \"white\", \"minorgridcolor\": \"white\", \"startlinecolor\": \"#2a3f5f\"}, \"baxis\": {\"endlinecolor\": \"#2a3f5f\", \"gridcolor\": \"white\", \"linecolor\": \"white\", \"minorgridcolor\": \"white\", \"startlinecolor\": \"#2a3f5f\"}, \"type\": \"carpet\"}], \"choropleth\": [{\"colorbar\": {\"outlinewidth\": 0, \"ticks\": \"\"}, \"type\": \"choropleth\"}], \"contour\": [{\"colorbar\": {\"outlinewidth\": 0, \"ticks\": \"\"}, \"colorscale\": [[0.0, \"#0d0887\"], [0.1111111111111111, \"#46039f\"], [0.2222222222222222, \"#7201a8\"], [0.3333333333333333, \"#9c179e\"], [0.4444444444444444, \"#bd3786\"], [0.5555555555555556, \"#d8576b\"], [0.6666666666666666, \"#ed7953\"], [0.7777777777777778, \"#fb9f3a\"], [0.8888888888888888, \"#fdca26\"], [1.0, \"#f0f921\"]], \"type\": \"contour\"}], \"contourcarpet\": [{\"colorbar\": {\"outlinewidth\": 0, \"ticks\": \"\"}, \"type\": \"contourcarpet\"}], \"heatmap\": [{\"colorbar\": {\"outlinewidth\": 0, \"ticks\": \"\"}, \"colorscale\": [[0.0, \"#0d0887\"], [0.1111111111111111, \"#46039f\"], [0.2222222222222222, \"#7201a8\"], [0.3333333333333333, \"#9c179e\"], [0.4444444444444444, \"#bd3786\"], [0.5555555555555556, \"#d8576b\"], [0.6666666666666666, \"#ed7953\"], [0.7777777777777778, \"#fb9f3a\"], [0.8888888888888888, \"#fdca26\"], [1.0, \"#f0f921\"]], \"type\": \"heatmap\"}], \"heatmapgl\": [{\"colorbar\": {\"outlinewidth\": 0, \"ticks\": \"\"}, \"colorscale\": [[0.0, \"#0d0887\"], [0.1111111111111111, \"#46039f\"], [0.2222222222222222, \"#7201a8\"], [0.3333333333333333, \"#9c179e\"], [0.4444444444444444, \"#bd3786\"], [0.5555555555555556, \"#d8576b\"], [0.6666666666666666, \"#ed7953\"], [0.7777777777777778, \"#fb9f3a\"], [0.8888888888888888, \"#fdca26\"], [1.0, \"#f0f921\"]], \"type\": \"heatmapgl\"}], \"histogram\": [{\"marker\": {\"colorbar\": {\"outlinewidth\": 0, \"ticks\": \"\"}}, \"type\": \"histogram\"}], \"histogram2d\": [{\"colorbar\": {\"outlinewidth\": 0, \"ticks\": \"\"}, \"colorscale\": [[0.0, \"#0d0887\"], [0.1111111111111111, \"#46039f\"], [0.2222222222222222, \"#7201a8\"], [0.3333333333333333, \"#9c179e\"], [0.4444444444444444, \"#bd3786\"], [0.5555555555555556, \"#d8576b\"], [0.6666666666666666, \"#ed7953\"], [0.7777777777777778, \"#fb9f3a\"], [0.8888888888888888, \"#fdca26\"], [1.0, \"#f0f921\"]], \"type\": \"histogram2d\"}], \"histogram2dcontour\": [{\"colorbar\": {\"outlinewidth\": 0, \"ticks\": \"\"}, \"colorscale\": [[0.0, \"#0d0887\"], [0.1111111111111111, \"#46039f\"], [0.2222222222222222, \"#7201a8\"], [0.3333333333333333, \"#9c179e\"], [0.4444444444444444, \"#bd3786\"], [0.5555555555555556, \"#d8576b\"], [0.6666666666666666, \"#ed7953\"], [0.7777777777777778, \"#fb9f3a\"], [0.8888888888888888, \"#fdca26\"], [1.0, \"#f0f921\"]], \"type\": \"histogram2dcontour\"}], \"mesh3d\": [{\"colorbar\": {\"outlinewidth\": 0, \"ticks\": \"\"}, \"type\": \"mesh3d\"}], \"parcoords\": [{\"line\": {\"colorbar\": {\"outlinewidth\": 0, \"ticks\": \"\"}}, \"type\": \"parcoords\"}], \"pie\": [{\"automargin\": true, \"type\": \"pie\"}], \"scatter\": [{\"marker\": {\"colorbar\": {\"outlinewidth\": 0, \"ticks\": \"\"}}, \"type\": \"scatter\"}], \"scatter3d\": [{\"line\": {\"colorbar\": {\"outlinewidth\": 0, \"ticks\": \"\"}}, \"marker\": {\"colorbar\": {\"outlinewidth\": 0, \"ticks\": \"\"}}, \"type\": \"scatter3d\"}], \"scattercarpet\": [{\"marker\": {\"colorbar\": {\"outlinewidth\": 0, \"ticks\": \"\"}}, \"type\": \"scattercarpet\"}], \"scattergeo\": [{\"marker\": {\"colorbar\": {\"outlinewidth\": 0, \"ticks\": \"\"}}, \"type\": \"scattergeo\"}], \"scattergl\": [{\"marker\": {\"colorbar\": {\"outlinewidth\": 0, \"ticks\": \"\"}}, \"type\": \"scattergl\"}], \"scattermapbox\": [{\"marker\": {\"colorbar\": {\"outlinewidth\": 0, \"ticks\": \"\"}}, \"type\": \"scattermapbox\"}], \"scatterpolar\": [{\"marker\": {\"colorbar\": {\"outlinewidth\": 0, \"ticks\": \"\"}}, \"type\": \"scatterpolar\"}], \"scatterpolargl\": [{\"marker\": {\"colorbar\": {\"outlinewidth\": 0, \"ticks\": \"\"}}, \"type\": \"scatterpolargl\"}], \"scatterternary\": [{\"marker\": {\"colorbar\": {\"outlinewidth\": 0, \"ticks\": \"\"}}, \"type\": \"scatterternary\"}], \"surface\": [{\"colorbar\": {\"outlinewidth\": 0, \"ticks\": \"\"}, \"colorscale\": [[0.0, \"#0d0887\"], [0.1111111111111111, \"#46039f\"], [0.2222222222222222, \"#7201a8\"], [0.3333333333333333, \"#9c179e\"], [0.4444444444444444, \"#bd3786\"], [0.5555555555555556, \"#d8576b\"], [0.6666666666666666, \"#ed7953\"], [0.7777777777777778, \"#fb9f3a\"], [0.8888888888888888, \"#fdca26\"], [1.0, \"#f0f921\"]], \"type\": \"surface\"}], \"table\": [{\"cells\": {\"fill\": {\"color\": \"#EBF0F8\"}, \"line\": {\"color\": \"white\"}}, \"header\": {\"fill\": {\"color\": \"#C8D4E3\"}, \"line\": {\"color\": \"white\"}}, \"type\": \"table\"}]}, \"layout\": {\"annotationdefaults\": {\"arrowcolor\": \"#2a3f5f\", \"arrowhead\": 0, \"arrowwidth\": 1}, \"coloraxis\": {\"colorbar\": {\"outlinewidth\": 0, \"ticks\": \"\"}}, \"colorscale\": {\"diverging\": [[0, \"#8e0152\"], [0.1, \"#c51b7d\"], [0.2, \"#de77ae\"], [0.3, \"#f1b6da\"], [0.4, \"#fde0ef\"], [0.5, \"#f7f7f7\"], [0.6, \"#e6f5d0\"], [0.7, \"#b8e186\"], [0.8, \"#7fbc41\"], [0.9, \"#4d9221\"], [1, \"#276419\"]], \"sequential\": [[0.0, \"#0d0887\"], [0.1111111111111111, \"#46039f\"], [0.2222222222222222, \"#7201a8\"], [0.3333333333333333, \"#9c179e\"], [0.4444444444444444, \"#bd3786\"], [0.5555555555555556, \"#d8576b\"], [0.6666666666666666, \"#ed7953\"], [0.7777777777777778, \"#fb9f3a\"], [0.8888888888888888, \"#fdca26\"], [1.0, \"#f0f921\"]], \"sequentialminus\": [[0.0, \"#0d0887\"], [0.1111111111111111, \"#46039f\"], [0.2222222222222222, \"#7201a8\"], [0.3333333333333333, \"#9c179e\"], [0.4444444444444444, \"#bd3786\"], [0.5555555555555556, \"#d8576b\"], [0.6666666666666666, \"#ed7953\"], [0.7777777777777778, \"#fb9f3a\"], [0.8888888888888888, \"#fdca26\"], [1.0, \"#f0f921\"]]}, \"colorway\": [\"#636efa\", \"#EF553B\", \"#00cc96\", \"#ab63fa\", \"#FFA15A\", \"#19d3f3\", \"#FF6692\", \"#B6E880\", \"#FF97FF\", \"#FECB52\"], \"font\": {\"color\": \"#2a3f5f\"}, \"geo\": {\"bgcolor\": \"white\", \"lakecolor\": \"white\", \"landcolor\": \"#E5ECF6\", \"showlakes\": true, \"showland\": true, \"subunitcolor\": \"white\"}, \"hoverlabel\": {\"align\": \"left\"}, \"hovermode\": \"closest\", \"mapbox\": {\"style\": \"light\"}, \"paper_bgcolor\": \"white\", \"plot_bgcolor\": \"#E5ECF6\", \"polar\": {\"angularaxis\": {\"gridcolor\": \"white\", \"linecolor\": \"white\", \"ticks\": \"\"}, \"bgcolor\": \"#E5ECF6\", \"radialaxis\": {\"gridcolor\": \"white\", \"linecolor\": \"white\", \"ticks\": \"\"}}, \"scene\": {\"xaxis\": {\"backgroundcolor\": \"#E5ECF6\", \"gridcolor\": \"white\", \"gridwidth\": 2, \"linecolor\": \"white\", \"showbackground\": true, \"ticks\": \"\", \"zerolinecolor\": \"white\"}, \"yaxis\": {\"backgroundcolor\": \"#E5ECF6\", \"gridcolor\": \"white\", \"gridwidth\": 2, \"linecolor\": \"white\", \"showbackground\": true, \"ticks\": \"\", \"zerolinecolor\": \"white\"}, \"zaxis\": {\"backgroundcolor\": \"#E5ECF6\", \"gridcolor\": \"white\", \"gridwidth\": 2, \"linecolor\": \"white\", \"showbackground\": true, \"ticks\": \"\", \"zerolinecolor\": \"white\"}}, \"shapedefaults\": {\"line\": {\"color\": \"#2a3f5f\"}}, \"ternary\": {\"aaxis\": {\"gridcolor\": \"white\", \"linecolor\": \"white\", \"ticks\": \"\"}, \"baxis\": {\"gridcolor\": \"white\", \"linecolor\": \"white\", \"ticks\": \"\"}, \"bgcolor\": \"#E5ECF6\", \"caxis\": {\"gridcolor\": \"white\", \"linecolor\": \"white\", \"ticks\": \"\"}}, \"title\": {\"x\": 0.05}, \"xaxis\": {\"automargin\": true, \"gridcolor\": \"white\", \"linecolor\": \"white\", \"ticks\": \"\", \"title\": {\"standoff\": 15}, \"zerolinecolor\": \"white\", \"zerolinewidth\": 2}, \"yaxis\": {\"automargin\": true, \"gridcolor\": \"white\", \"linecolor\": \"white\", \"ticks\": \"\", \"title\": {\"standoff\": 15}, \"zerolinecolor\": \"white\", \"zerolinewidth\": 2}}}, \"title\": {\"text\": \"South-East Asia: 8 countries\"}, \"width\": 885, \"xaxis\": {\"range\": [0.5, 12.5], \"showgrid\": true, \"ticklen\": 0, \"ticks\": \"outside\", \"tickson\": \"boundaries\"}, \"yaxis\": {\"range\": [0.5, 12.5], \"showgrid\": true, \"ticklen\": 0, \"ticks\": \"outside\", \"tickson\": \"boundaries\"}},\n",
       "                        {\"responsive\": true}\n",
       "                    ).then(function(){\n",
       "                            \n",
       "var gd = document.getElementById('0ff5a8d8-862e-4526-bcc2-2e73ecff8628');\n",
       "var x = new MutationObserver(function (mutations, observer) {{\n",
       "        var display = window.getComputedStyle(gd).display;\n",
       "        if (!display || display === 'none') {{\n",
       "            console.log([gd, 'removed!']);\n",
       "            Plotly.purge(gd);\n",
       "            observer.disconnect();\n",
       "        }}\n",
       "}});\n",
       "\n",
       "// Listen for the removal of the full notebook cells\n",
       "var notebookContainer = gd.closest('#notebook-container');\n",
       "if (notebookContainer) {{\n",
       "    x.observe(notebookContainer, {childList: true});\n",
       "}}\n",
       "\n",
       "// Listen for the clearing of the current output cell\n",
       "var outputEl = gd.closest('.output');\n",
       "if (outputEl) {{\n",
       "    x.observe(outputEl, {childList: true});\n",
       "}}\n",
       "\n",
       "                        })\n",
       "                };\n",
       "                });\n",
       "            </script>\n",
       "        </div>"
      ]
     },
     "metadata": {},
     "output_type": "display_data"
    },
    {
     "data": {
      "application/vnd.plotly.v1+json": {
       "config": {
        "plotlyServerURL": "https://plot.ly"
       },
       "data": [
        {
         "hoverinfo": "text",
         "hovertext": [
          "1.0",
          "0.4990275266654835",
          "0.2753612823139536",
          "0.7844143017680186",
          "-0.13250106037197248",
          "0.05129501469569571",
          "0.4991235716108927",
          "0.06109632440214815",
          "0.05664297977896413",
          "0.21167790974457626",
          "-0.07462169550943773",
          "0.1726539202727656",
          "-0.041451317171749706",
          "0.4990275266654835",
          "1.0",
          "0.04531355399664456",
          "0.0226306530197985",
          "-0.5944950264213253",
          "0.8134031961007475",
          "0.2442700684456135",
          "0.20837263811088422",
          "0.15140138996839955",
          "0.3662502947022102",
          "0.03050082094041731",
          "0.19715316361014207",
          "0.16874247148976565",
          "0.2753612823139536",
          "0.04531355399664456",
          "1.0",
          "0.28857155645941057",
          "0.04708585016517796",
          "-0.07948034864935653",
          "-0.3765973009030793",
          "0.5354052385799069",
          "0.310715045468403",
          "0.44106091924104124",
          "0.3438912809738176",
          "0.28846424253934466",
          "0.364457428655055",
          "0.7844143017680186",
          "0.0226306530197985",
          "0.28857155645941057",
          "1.0",
          "0.43744493801110546",
          "-0.26078234024320124",
          "0.4718588826309763",
          "-0.10178599768594737",
          "-0.05974139615305428",
          "-0.048319708625856904",
          "-0.12515684502022603",
          "0.10138421184552147",
          "-0.14878526761403552",
          "-0.13250106037197248",
          "-0.5944950264213253",
          "0.04708585016517796",
          "0.43744493801110546",
          "1.0",
          "-0.48754811171934626",
          "0.0470996520291748",
          "-0.2962047304440423",
          "-0.13124981977283526",
          "-0.355113420203742",
          "0.006280057293147596",
          "-0.021461910377778025",
          "-0.12751811651291212",
          "0.05129501469569571",
          "0.8134031961007475",
          "-0.07948034864935653",
          "-0.26078234024320124",
          "-0.48754811171934626",
          "1.0",
          "-0.018563127567487705",
          "0.27965683467848723",
          "0.20830780235394605",
          "0.36853727791184504",
          "0.031843898040803786",
          "0.15023617239021506",
          "0.19602240390623155",
          "0.4991235716108927",
          "0.2442700684456135",
          "-0.3765973009030793",
          "0.4718588826309763",
          "0.0470996520291748",
          "-0.018563127567487705",
          "1.0",
          "-0.6704832713586245",
          "-0.36642440695589246",
          "-0.3716229075210514",
          "-0.2990208206916955",
          "0.0647010207254658",
          "-0.3641690495240468",
          "0.06109632440214815",
          "0.20837263811088422",
          "0.5354052385799069",
          "-0.10178599768594737",
          "-0.2962047304440423",
          "0.27965683467848723",
          "-0.6704832713586245",
          "1.0",
          "0.5464800189204769",
          "0.7914658432709469",
          "0.4007754973153286",
          "0.1243078899582747",
          "0.5011752891385763",
          "0.05664297977896413",
          "0.15140138996839955",
          "0.310715045468403",
          "-0.05974139615305428",
          "-0.13124981977283526",
          "0.20830780235394605",
          "-0.36642440695589246",
          "0.5464800189204769",
          "1.0",
          "0.39172584587147785",
          "0.4308548231348147",
          "0.35371170148508563",
          "0.3412172076499028",
          "0.21167790974457626",
          "0.3662502947022102",
          "0.44106091924104124",
          "-0.048319708625856904",
          "-0.355113420203742",
          "0.36853727791184504",
          "-0.3716229075210514",
          "0.7914658432709469",
          "0.39172584587147785",
          "1.0",
          "0.42969524365590356",
          "0.3403255586264565",
          "0.45516864102219257",
          "-0.07462169550943773",
          "0.03050082094041731",
          "0.3438912809738176",
          "-0.12515684502022603",
          "0.006280057293147596",
          "0.031843898040803786",
          "-0.2990208206916955",
          "0.4007754973153286",
          "0.4308548231348147",
          "0.42969524365590356",
          "1.0",
          "0.5676960136224142",
          "0.6611278800758488",
          "0.1726539202727656",
          "0.19715316361014207",
          "0.28846424253934466",
          "0.10138421184552147",
          "-0.021461910377778025",
          "0.15023617239021506",
          "0.0647010207254658",
          "0.1243078899582747",
          "0.35371170148508563",
          "0.3403255586264565",
          "0.5676960136224142",
          "1.0",
          "0.488720706936207",
          "-0.041451317171749706",
          "0.16874247148976565",
          "0.364457428655055",
          "-0.14878526761403552",
          "-0.12751811651291212",
          "0.19602240390623155",
          "-0.3641690495240468",
          "0.5011752891385763",
          "0.3412172076499028",
          "0.45516864102219257",
          "0.6611278800758488",
          "0.488720706936207",
          "1.0"
         ],
         "marker": {
          "cmid": 0,
          "color": [
           1,
           0.4990275266654835,
           0.2753612823139536,
           0.7844143017680186,
           -0.13250106037197248,
           0.05129501469569571,
           0.4991235716108927,
           0.06109632440214815,
           0.05664297977896413,
           0.21167790974457626,
           -0.07462169550943773,
           0.1726539202727656,
           -0.041451317171749706,
           0.4990275266654835,
           1,
           0.04531355399664456,
           0.0226306530197985,
           -0.5944950264213253,
           0.8134031961007475,
           0.2442700684456135,
           0.20837263811088422,
           0.15140138996839955,
           0.3662502947022102,
           0.03050082094041731,
           0.19715316361014207,
           0.16874247148976565,
           0.2753612823139536,
           0.04531355399664456,
           1,
           0.28857155645941057,
           0.04708585016517796,
           -0.07948034864935653,
           -0.3765973009030793,
           0.5354052385799069,
           0.310715045468403,
           0.44106091924104124,
           0.3438912809738176,
           0.28846424253934466,
           0.364457428655055,
           0.7844143017680186,
           0.0226306530197985,
           0.28857155645941057,
           1,
           0.43744493801110546,
           -0.26078234024320124,
           0.4718588826309763,
           -0.10178599768594737,
           -0.05974139615305428,
           -0.048319708625856904,
           -0.12515684502022603,
           0.10138421184552147,
           -0.14878526761403552,
           -0.13250106037197248,
           -0.5944950264213253,
           0.04708585016517796,
           0.43744493801110546,
           1,
           -0.48754811171934626,
           0.0470996520291748,
           -0.2962047304440423,
           -0.13124981977283526,
           -0.355113420203742,
           0.006280057293147596,
           -0.021461910377778025,
           -0.12751811651291212,
           0.05129501469569571,
           0.8134031961007475,
           -0.07948034864935653,
           -0.26078234024320124,
           -0.48754811171934626,
           1,
           -0.018563127567487705,
           0.27965683467848723,
           0.20830780235394605,
           0.36853727791184504,
           0.031843898040803786,
           0.15023617239021506,
           0.19602240390623155,
           0.4991235716108927,
           0.2442700684456135,
           -0.3765973009030793,
           0.4718588826309763,
           0.0470996520291748,
           -0.018563127567487705,
           1,
           -0.6704832713586245,
           -0.36642440695589246,
           -0.3716229075210514,
           -0.2990208206916955,
           0.0647010207254658,
           -0.3641690495240468,
           0.06109632440214815,
           0.20837263811088422,
           0.5354052385799069,
           -0.10178599768594737,
           -0.2962047304440423,
           0.27965683467848723,
           -0.6704832713586245,
           1,
           0.5464800189204769,
           0.7914658432709469,
           0.4007754973153286,
           0.1243078899582747,
           0.5011752891385763,
           0.05664297977896413,
           0.15140138996839955,
           0.310715045468403,
           -0.05974139615305428,
           -0.13124981977283526,
           0.20830780235394605,
           -0.36642440695589246,
           0.5464800189204769,
           1,
           0.39172584587147785,
           0.4308548231348147,
           0.35371170148508563,
           0.3412172076499028,
           0.21167790974457626,
           0.3662502947022102,
           0.44106091924104124,
           -0.048319708625856904,
           -0.355113420203742,
           0.36853727791184504,
           -0.3716229075210514,
           0.7914658432709469,
           0.39172584587147785,
           1,
           0.42969524365590356,
           0.3403255586264565,
           0.45516864102219257,
           -0.07462169550943773,
           0.03050082094041731,
           0.3438912809738176,
           -0.12515684502022603,
           0.006280057293147596,
           0.031843898040803786,
           -0.2990208206916955,
           0.4007754973153286,
           0.4308548231348147,
           0.42969524365590356,
           1,
           0.5676960136224142,
           0.6611278800758488,
           0.1726539202727656,
           0.19715316361014207,
           0.28846424253934466,
           0.10138421184552147,
           -0.021461910377778025,
           0.15023617239021506,
           0.0647010207254658,
           0.1243078899582747,
           0.35371170148508563,
           0.3403255586264565,
           0.5676960136224142,
           1,
           0.488720706936207,
           -0.041451317171749706,
           0.16874247148976565,
           0.364457428655055,
           -0.14878526761403552,
           -0.12751811651291212,
           0.19602240390623155,
           -0.3641690495240468,
           0.5011752891385763,
           0.3412172076499028,
           0.45516864102219257,
           0.6611278800758488,
           0.488720706936207,
           1
          ],
          "colorbar": {
           "title": {
            "text": "Correlation"
           }
          },
          "colorscale": [
           [
            0,
            "rgb(5,48,97)"
           ],
           [
            0.1,
            "rgb(33,102,172)"
           ],
           [
            0.2,
            "rgb(67,147,195)"
           ],
           [
            0.3,
            "rgb(146,197,222)"
           ],
           [
            0.4,
            "rgb(209,229,240)"
           ],
           [
            0.5,
            "rgb(247,247,247)"
           ],
           [
            0.6,
            "rgb(253,219,199)"
           ],
           [
            0.7,
            "rgb(244,165,130)"
           ],
           [
            0.8,
            "rgb(214,96,77)"
           ],
           [
            0.9,
            "rgb(178,24,43)"
           ],
           [
            1,
            "rgb(103,0,31)"
           ]
          ],
          "size": [
           46,
           22.955266226612242,
           12.666618986441867,
           36.083057881328855,
           6.095048777110734,
           2.3595706760020025,
           22.959684294101066,
           2.810430922498815,
           2.60557706983235,
           9.737183848250508,
           3.4325979934341357,
           7.942080332547218,
           1.9067605899004865,
           22.955266226612242,
           46,
           2.0844234838456495,
           1.041010038910731,
           27.346771215380965,
           37.41654702063438,
           11.23642314849822,
           9.585141353100674,
           6.96446393854638,
           16.84751355630167,
           1.4030377632591964,
           9.069045526066535,
           7.76215368852922,
           12.666618986441867,
           2.0844234838456495,
           46,
           13.274291597132887,
           2.1659491075981863,
           3.6560960378704004,
           17.323475841541647,
           24.628640974675715,
           14.292892091546538,
           20.288802285087897,
           15.81899892479561,
           13.269355156809855,
           16.76504171813253,
           36.083057881328855,
           1.041010038910731,
           13.274291597132887,
           46,
           20.12246714851085,
           11.995987651187257,
           21.70550860102491,
           4.682155893553579,
           2.748104223040497,
           2.2227065967894175,
           5.757214870930397,
           4.663673744893988,
           6.844122310245634,
           6.095048777110734,
           27.346771215380965,
           2.1659491075981863,
           20.12246714851085,
           46,
           22.42721313908993,
           2.1665839933420408,
           13.625417600425944,
           6.037491709550422,
           16.33521732937213,
           0.28888263548478943,
           0.9872478773777892,
           5.865833359593958,
           2.3595706760020025,
           37.41654702063438,
           3.6560960378704004,
           11.995987651187257,
           22.42721313908993,
           46,
           0.8539038681044344,
           12.864214395210412,
           9.582158908281519,
           16.95271478394487,
           1.4648193098769742,
           6.910863929949892,
           9.01703057968665,
           22.959684294101066,
           11.23642314849822,
           17.323475841541647,
           21.70550860102491,
           2.1665839933420408,
           0.8539038681044344,
           46,
           30.842230482496728,
           16.855522719971052,
           17.094653745968365,
           13.754957751817994,
           2.976246953371427,
           16.751776278106153,
           2.810430922498815,
           9.585141353100674,
           24.628640974675715,
           4.682155893553579,
           13.625417600425944,
           12.864214395210412,
           30.842230482496728,
           46,
           25.138080870341938,
           36.407428790463555,
           18.435672876505116,
           5.718162938080636,
           23.054063300374512,
           2.60557706983235,
           6.96446393854638,
           14.292892091546538,
           2.748104223040497,
           6.037491709550422,
           9.582158908281519,
           16.855522719971052,
           25.138080870341938,
           46,
           18.019388910087983,
           19.819321864201477,
           16.270738268313938,
           15.69599155189553,
           9.737183848250508,
           16.84751355630167,
           20.288802285087897,
           2.2227065967894175,
           16.33521732937213,
           16.95271478394487,
           17.094653745968365,
           36.407428790463555,
           18.019388910087983,
           46,
           19.765981208171564,
           15.654975696817,
           20.937757487020857,
           3.4325979934341357,
           1.4030377632591964,
           15.81899892479561,
           5.757214870930397,
           0.28888263548478943,
           1.4648193098769742,
           13.754957751817994,
           18.435672876505116,
           19.819321864201477,
           19.765981208171564,
           46,
           26.114016626631052,
           30.411882483489045,
           7.942080332547218,
           9.069045526066535,
           13.269355156809855,
           4.663673744893988,
           0.9872478773777892,
           6.910863929949892,
           2.976246953371427,
           5.718162938080636,
           16.270738268313938,
           15.654975696817,
           26.114016626631052,
           46,
           22.48115251906552,
           1.9067605899004865,
           7.76215368852922,
           16.76504171813253,
           6.844122310245634,
           5.865833359593958,
           9.01703057968665,
           16.751776278106153,
           23.054063300374512,
           15.69599155189553,
           20.937757487020857,
           30.411882483489045,
           22.48115251906552,
           46
          ]
         },
         "mode": "markers",
         "type": "scatter",
         "x": [
          [
           "1.",
           "1.",
           "1.",
           "1.",
           "1.",
           "1.",
           "1.",
           "1.",
           "1.",
           "1.",
           "1.",
           "1.",
           "1.",
           "1.",
           "1.",
           "1.",
           "1.",
           "1.",
           "1.",
           "1.",
           "1.",
           "1.",
           "1.",
           "1.",
           "1.",
           "1.",
           "1.",
           "1.",
           "1.",
           "1.",
           "1.",
           "1.",
           "1.",
           "1.",
           "1.",
           "1.",
           "1.",
           "1.",
           "1.",
           "1.",
           "1.",
           "1.",
           "1.",
           "1.",
           "1.",
           "1.",
           "1.",
           "1.",
           "1.",
           "1.",
           "1.",
           "1.",
           "2.",
           "2.",
           "2.",
           "2.",
           "2.",
           "2.",
           "2.",
           "2.",
           "2.",
           "2.",
           "2.",
           "2.",
           "2.",
           "2.",
           "2.",
           "2.",
           "2.",
           "2.",
           "2.",
           "2.",
           "2.",
           "2.",
           "2.",
           "2.",
           "2.",
           "2.",
           "2.",
           "2.",
           "2.",
           "2.",
           "2.",
           "2.",
           "2.",
           "2.",
           "2.",
           "2.",
           "2.",
           "2.",
           "2.",
           "3.",
           "3.",
           "3.",
           "3.",
           "3.",
           "3.",
           "3.",
           "3.",
           "3.",
           "3.",
           "3.",
           "3.",
           "3.",
           "3.",
           "3.",
           "3.",
           "3.",
           "3.",
           "3.",
           "3.",
           "3.",
           "3.",
           "3.",
           "3.",
           "3.",
           "3.",
           "3.",
           "3.",
           "3.",
           "3.",
           "3.",
           "3.",
           "3.",
           "3.",
           "3.",
           "3.",
           "3.",
           "3.",
           "3.",
           "3.",
           "3.",
           "3.",
           "3.",
           "3.",
           "3.",
           "3.",
           "3.",
           "3.",
           "3.",
           "3.",
           "3.",
           "3.",
           "3.",
           "3.",
           "3.",
           "3.",
           "3.",
           "3.",
           "3.",
           "3.",
           "3.",
           "3.",
           "3.",
           "3.",
           "3.",
           "3.",
           "3.",
           "3.",
           "3.",
           "3.",
           "3.",
           "3.",
           "3.",
           "3.",
           "3.",
           "3.",
           "3.",
           "3."
          ],
          [
           "Tot Cases/1M pop",
           "Tot Cases/1M pop",
           "Tot Cases/1M pop",
           "Tot Cases/1M pop",
           "Tot Cases/1M pop",
           "Tot Cases/1M pop",
           "Tot Cases/1M pop",
           "Tot Cases/1M pop",
           "Tot Cases/1M pop",
           "Tot Cases/1M pop",
           "Tot Cases/1M pop",
           "Tot Cases/1M pop",
           "Tot Cases/1M pop",
           "Deaths/1M pop",
           "Deaths/1M pop",
           "Deaths/1M pop",
           "Deaths/1M pop",
           "Deaths/1M pop",
           "Deaths/1M pop",
           "Deaths/1M pop",
           "Deaths/1M pop",
           "Deaths/1M pop",
           "Deaths/1M pop",
           "Deaths/1M pop",
           "Deaths/1M pop",
           "Deaths/1M pop",
           "Tests/1M pop",
           "Tests/1M pop",
           "Tests/1M pop",
           "Tests/1M pop",
           "Tests/1M pop",
           "Tests/1M pop",
           "Tests/1M pop",
           "Tests/1M pop",
           "Tests/1M pop",
           "Tests/1M pop",
           "Tests/1M pop",
           "Tests/1M pop",
           "Tests/1M pop",
           "Recovered/1M pop",
           "Recovered/1M pop",
           "Recovered/1M pop",
           "Recovered/1M pop",
           "Recovered/1M pop",
           "Recovered/1M pop",
           "Recovered/1M pop",
           "Recovered/1M pop",
           "Recovered/1M pop",
           "Recovered/1M pop",
           "Recovered/1M pop",
           "Recovered/1M pop",
           "Recovered/1M pop",
           "Recovered/1M cases",
           "Recovered/1M cases",
           "Recovered/1M cases",
           "Recovered/1M cases",
           "Recovered/1M cases",
           "Recovered/1M cases",
           "Recovered/1M cases",
           "Recovered/1M cases",
           "Recovered/1M cases",
           "Recovered/1M cases",
           "Recovered/1M cases",
           "Recovered/1M cases",
           "Recovered/1M cases",
           "Deaths/1M cases",
           "Deaths/1M cases",
           "Deaths/1M cases",
           "Deaths/1M cases",
           "Deaths/1M cases",
           "Deaths/1M cases",
           "Deaths/1M cases",
           "Deaths/1M cases",
           "Deaths/1M cases",
           "Deaths/1M cases",
           "Deaths/1M cases",
           "Deaths/1M cases",
           "Deaths/1M cases",
           "Confirmed/1M tests",
           "Confirmed/1M tests",
           "Confirmed/1M tests",
           "Confirmed/1M tests",
           "Confirmed/1M tests",
           "Confirmed/1M tests",
           "Confirmed/1M tests",
           "Confirmed/1M tests",
           "Confirmed/1M tests",
           "Confirmed/1M tests",
           "Confirmed/1M tests",
           "Confirmed/1M tests",
           "Confirmed/1M tests",
           "GDP",
           "GDP",
           "GDP",
           "GDP",
           "GDP",
           "GDP",
           "GDP",
           "GDP",
           "GDP",
           "GDP",
           "GDP",
           "GDP",
           "GDP",
           "Family",
           "Family",
           "Family",
           "Family",
           "Family",
           "Family",
           "Family",
           "Family",
           "Family",
           "Family",
           "Family",
           "Family",
           "Family",
           "Life expectancy",
           "Life expectancy",
           "Life expectancy",
           "Life expectancy",
           "Life expectancy",
           "Life expectancy",
           "Life expectancy",
           "Life expectancy",
           "Life expectancy",
           "Life expectancy",
           "Life expectancy",
           "Life expectancy",
           "Life expectancy",
           "Freedom",
           "Freedom",
           "Freedom",
           "Freedom",
           "Freedom",
           "Freedom",
           "Freedom",
           "Freedom",
           "Freedom",
           "Freedom",
           "Freedom",
           "Freedom",
           "Freedom",
           "Generosity",
           "Generosity",
           "Generosity",
           "Generosity",
           "Generosity",
           "Generosity",
           "Generosity",
           "Generosity",
           "Generosity",
           "Generosity",
           "Generosity",
           "Generosity",
           "Generosity",
           "Trust",
           "Trust",
           "Trust",
           "Trust",
           "Trust",
           "Trust",
           "Trust",
           "Trust",
           "Trust",
           "Trust",
           "Trust",
           "Trust",
           "Trust"
          ]
         ],
         "y": [
          [
           "1.",
           "1.",
           "1.",
           "1.",
           "2.",
           "2.",
           "2.",
           "3.",
           "3.",
           "3.",
           "3.",
           "3.",
           "3.",
           "1.",
           "1.",
           "1.",
           "1.",
           "2.",
           "2.",
           "2.",
           "3.",
           "3.",
           "3.",
           "3.",
           "3.",
           "3.",
           "1.",
           "1.",
           "1.",
           "1.",
           "2.",
           "2.",
           "2.",
           "3.",
           "3.",
           "3.",
           "3.",
           "3.",
           "3.",
           "1.",
           "1.",
           "1.",
           "1.",
           "2.",
           "2.",
           "2.",
           "3.",
           "3.",
           "3.",
           "3.",
           "3.",
           "3.",
           "1.",
           "1.",
           "1.",
           "1.",
           "2.",
           "2.",
           "2.",
           "3.",
           "3.",
           "3.",
           "3.",
           "3.",
           "3.",
           "1.",
           "1.",
           "1.",
           "1.",
           "2.",
           "2.",
           "2.",
           "3.",
           "3.",
           "3.",
           "3.",
           "3.",
           "3.",
           "1.",
           "1.",
           "1.",
           "1.",
           "2.",
           "2.",
           "2.",
           "3.",
           "3.",
           "3.",
           "3.",
           "3.",
           "3.",
           "1.",
           "1.",
           "1.",
           "1.",
           "2.",
           "2.",
           "2.",
           "3.",
           "3.",
           "3.",
           "3.",
           "3.",
           "3.",
           "1.",
           "1.",
           "1.",
           "1.",
           "2.",
           "2.",
           "2.",
           "3.",
           "3.",
           "3.",
           "3.",
           "3.",
           "3.",
           "1.",
           "1.",
           "1.",
           "1.",
           "2.",
           "2.",
           "2.",
           "3.",
           "3.",
           "3.",
           "3.",
           "3.",
           "3.",
           "1.",
           "1.",
           "1.",
           "1.",
           "2.",
           "2.",
           "2.",
           "3.",
           "3.",
           "3.",
           "3.",
           "3.",
           "3.",
           "1.",
           "1.",
           "1.",
           "1.",
           "2.",
           "2.",
           "2.",
           "3.",
           "3.",
           "3.",
           "3.",
           "3.",
           "3.",
           "1.",
           "1.",
           "1.",
           "1.",
           "2.",
           "2.",
           "2.",
           "3.",
           "3.",
           "3.",
           "3.",
           "3.",
           "3."
          ],
          [
           "Tot Cases/1M pop",
           "Deaths/1M pop",
           "Tests/1M pop",
           "Recovered/1M pop",
           "Recovered/1M cases",
           "Deaths/1M cases",
           "Confirmed/1M tests",
           "GDP",
           "Family",
           "Life expectancy",
           "Freedom",
           "Generosity",
           "Trust",
           "Tot Cases/1M pop",
           "Deaths/1M pop",
           "Tests/1M pop",
           "Recovered/1M pop",
           "Recovered/1M cases",
           "Deaths/1M cases",
           "Confirmed/1M tests",
           "GDP",
           "Family",
           "Life expectancy",
           "Freedom",
           "Generosity",
           "Trust",
           "Tot Cases/1M pop",
           "Deaths/1M pop",
           "Tests/1M pop",
           "Recovered/1M pop",
           "Recovered/1M cases",
           "Deaths/1M cases",
           "Confirmed/1M tests",
           "GDP",
           "Family",
           "Life expectancy",
           "Freedom",
           "Generosity",
           "Trust",
           "Tot Cases/1M pop",
           "Deaths/1M pop",
           "Tests/1M pop",
           "Recovered/1M pop",
           "Recovered/1M cases",
           "Deaths/1M cases",
           "Confirmed/1M tests",
           "GDP",
           "Family",
           "Life expectancy",
           "Freedom",
           "Generosity",
           "Trust",
           "Tot Cases/1M pop",
           "Deaths/1M pop",
           "Tests/1M pop",
           "Recovered/1M pop",
           "Recovered/1M cases",
           "Deaths/1M cases",
           "Confirmed/1M tests",
           "GDP",
           "Family",
           "Life expectancy",
           "Freedom",
           "Generosity",
           "Trust",
           "Tot Cases/1M pop",
           "Deaths/1M pop",
           "Tests/1M pop",
           "Recovered/1M pop",
           "Recovered/1M cases",
           "Deaths/1M cases",
           "Confirmed/1M tests",
           "GDP",
           "Family",
           "Life expectancy",
           "Freedom",
           "Generosity",
           "Trust",
           "Tot Cases/1M pop",
           "Deaths/1M pop",
           "Tests/1M pop",
           "Recovered/1M pop",
           "Recovered/1M cases",
           "Deaths/1M cases",
           "Confirmed/1M tests",
           "GDP",
           "Family",
           "Life expectancy",
           "Freedom",
           "Generosity",
           "Trust",
           "Tot Cases/1M pop",
           "Deaths/1M pop",
           "Tests/1M pop",
           "Recovered/1M pop",
           "Recovered/1M cases",
           "Deaths/1M cases",
           "Confirmed/1M tests",
           "GDP",
           "Family",
           "Life expectancy",
           "Freedom",
           "Generosity",
           "Trust",
           "Tot Cases/1M pop",
           "Deaths/1M pop",
           "Tests/1M pop",
           "Recovered/1M pop",
           "Recovered/1M cases",
           "Deaths/1M cases",
           "Confirmed/1M tests",
           "GDP",
           "Family",
           "Life expectancy",
           "Freedom",
           "Generosity",
           "Trust",
           "Tot Cases/1M pop",
           "Deaths/1M pop",
           "Tests/1M pop",
           "Recovered/1M pop",
           "Recovered/1M cases",
           "Deaths/1M cases",
           "Confirmed/1M tests",
           "GDP",
           "Family",
           "Life expectancy",
           "Freedom",
           "Generosity",
           "Trust",
           "Tot Cases/1M pop",
           "Deaths/1M pop",
           "Tests/1M pop",
           "Recovered/1M pop",
           "Recovered/1M cases",
           "Deaths/1M cases",
           "Confirmed/1M tests",
           "GDP",
           "Family",
           "Life expectancy",
           "Freedom",
           "Generosity",
           "Trust",
           "Tot Cases/1M pop",
           "Deaths/1M pop",
           "Tests/1M pop",
           "Recovered/1M pop",
           "Recovered/1M cases",
           "Deaths/1M cases",
           "Confirmed/1M tests",
           "GDP",
           "Family",
           "Life expectancy",
           "Freedom",
           "Generosity",
           "Trust",
           "Tot Cases/1M pop",
           "Deaths/1M pop",
           "Tests/1M pop",
           "Recovered/1M pop",
           "Recovered/1M cases",
           "Deaths/1M cases",
           "Confirmed/1M tests",
           "GDP",
           "Family",
           "Life expectancy",
           "Freedom",
           "Generosity",
           "Trust"
          ]
         ]
        }
       ],
       "layout": {
        "font": {
         "size": 15
        },
        "height": 885,
        "template": {
         "data": {
          "bar": [
           {
            "error_x": {
             "color": "#2a3f5f"
            },
            "error_y": {
             "color": "#2a3f5f"
            },
            "marker": {
             "line": {
              "color": "#E5ECF6",
              "width": 0.5
             }
            },
            "type": "bar"
           }
          ],
          "barpolar": [
           {
            "marker": {
             "line": {
              "color": "#E5ECF6",
              "width": 0.5
             }
            },
            "type": "barpolar"
           }
          ],
          "carpet": [
           {
            "aaxis": {
             "endlinecolor": "#2a3f5f",
             "gridcolor": "white",
             "linecolor": "white",
             "minorgridcolor": "white",
             "startlinecolor": "#2a3f5f"
            },
            "baxis": {
             "endlinecolor": "#2a3f5f",
             "gridcolor": "white",
             "linecolor": "white",
             "minorgridcolor": "white",
             "startlinecolor": "#2a3f5f"
            },
            "type": "carpet"
           }
          ],
          "choropleth": [
           {
            "colorbar": {
             "outlinewidth": 0,
             "ticks": ""
            },
            "type": "choropleth"
           }
          ],
          "contour": [
           {
            "colorbar": {
             "outlinewidth": 0,
             "ticks": ""
            },
            "colorscale": [
             [
              0,
              "#0d0887"
             ],
             [
              0.1111111111111111,
              "#46039f"
             ],
             [
              0.2222222222222222,
              "#7201a8"
             ],
             [
              0.3333333333333333,
              "#9c179e"
             ],
             [
              0.4444444444444444,
              "#bd3786"
             ],
             [
              0.5555555555555556,
              "#d8576b"
             ],
             [
              0.6666666666666666,
              "#ed7953"
             ],
             [
              0.7777777777777778,
              "#fb9f3a"
             ],
             [
              0.8888888888888888,
              "#fdca26"
             ],
             [
              1,
              "#f0f921"
             ]
            ],
            "type": "contour"
           }
          ],
          "contourcarpet": [
           {
            "colorbar": {
             "outlinewidth": 0,
             "ticks": ""
            },
            "type": "contourcarpet"
           }
          ],
          "heatmap": [
           {
            "colorbar": {
             "outlinewidth": 0,
             "ticks": ""
            },
            "colorscale": [
             [
              0,
              "#0d0887"
             ],
             [
              0.1111111111111111,
              "#46039f"
             ],
             [
              0.2222222222222222,
              "#7201a8"
             ],
             [
              0.3333333333333333,
              "#9c179e"
             ],
             [
              0.4444444444444444,
              "#bd3786"
             ],
             [
              0.5555555555555556,
              "#d8576b"
             ],
             [
              0.6666666666666666,
              "#ed7953"
             ],
             [
              0.7777777777777778,
              "#fb9f3a"
             ],
             [
              0.8888888888888888,
              "#fdca26"
             ],
             [
              1,
              "#f0f921"
             ]
            ],
            "type": "heatmap"
           }
          ],
          "heatmapgl": [
           {
            "colorbar": {
             "outlinewidth": 0,
             "ticks": ""
            },
            "colorscale": [
             [
              0,
              "#0d0887"
             ],
             [
              0.1111111111111111,
              "#46039f"
             ],
             [
              0.2222222222222222,
              "#7201a8"
             ],
             [
              0.3333333333333333,
              "#9c179e"
             ],
             [
              0.4444444444444444,
              "#bd3786"
             ],
             [
              0.5555555555555556,
              "#d8576b"
             ],
             [
              0.6666666666666666,
              "#ed7953"
             ],
             [
              0.7777777777777778,
              "#fb9f3a"
             ],
             [
              0.8888888888888888,
              "#fdca26"
             ],
             [
              1,
              "#f0f921"
             ]
            ],
            "type": "heatmapgl"
           }
          ],
          "histogram": [
           {
            "marker": {
             "colorbar": {
              "outlinewidth": 0,
              "ticks": ""
             }
            },
            "type": "histogram"
           }
          ],
          "histogram2d": [
           {
            "colorbar": {
             "outlinewidth": 0,
             "ticks": ""
            },
            "colorscale": [
             [
              0,
              "#0d0887"
             ],
             [
              0.1111111111111111,
              "#46039f"
             ],
             [
              0.2222222222222222,
              "#7201a8"
             ],
             [
              0.3333333333333333,
              "#9c179e"
             ],
             [
              0.4444444444444444,
              "#bd3786"
             ],
             [
              0.5555555555555556,
              "#d8576b"
             ],
             [
              0.6666666666666666,
              "#ed7953"
             ],
             [
              0.7777777777777778,
              "#fb9f3a"
             ],
             [
              0.8888888888888888,
              "#fdca26"
             ],
             [
              1,
              "#f0f921"
             ]
            ],
            "type": "histogram2d"
           }
          ],
          "histogram2dcontour": [
           {
            "colorbar": {
             "outlinewidth": 0,
             "ticks": ""
            },
            "colorscale": [
             [
              0,
              "#0d0887"
             ],
             [
              0.1111111111111111,
              "#46039f"
             ],
             [
              0.2222222222222222,
              "#7201a8"
             ],
             [
              0.3333333333333333,
              "#9c179e"
             ],
             [
              0.4444444444444444,
              "#bd3786"
             ],
             [
              0.5555555555555556,
              "#d8576b"
             ],
             [
              0.6666666666666666,
              "#ed7953"
             ],
             [
              0.7777777777777778,
              "#fb9f3a"
             ],
             [
              0.8888888888888888,
              "#fdca26"
             ],
             [
              1,
              "#f0f921"
             ]
            ],
            "type": "histogram2dcontour"
           }
          ],
          "mesh3d": [
           {
            "colorbar": {
             "outlinewidth": 0,
             "ticks": ""
            },
            "type": "mesh3d"
           }
          ],
          "parcoords": [
           {
            "line": {
             "colorbar": {
              "outlinewidth": 0,
              "ticks": ""
             }
            },
            "type": "parcoords"
           }
          ],
          "pie": [
           {
            "automargin": true,
            "type": "pie"
           }
          ],
          "scatter": [
           {
            "marker": {
             "colorbar": {
              "outlinewidth": 0,
              "ticks": ""
             }
            },
            "type": "scatter"
           }
          ],
          "scatter3d": [
           {
            "line": {
             "colorbar": {
              "outlinewidth": 0,
              "ticks": ""
             }
            },
            "marker": {
             "colorbar": {
              "outlinewidth": 0,
              "ticks": ""
             }
            },
            "type": "scatter3d"
           }
          ],
          "scattercarpet": [
           {
            "marker": {
             "colorbar": {
              "outlinewidth": 0,
              "ticks": ""
             }
            },
            "type": "scattercarpet"
           }
          ],
          "scattergeo": [
           {
            "marker": {
             "colorbar": {
              "outlinewidth": 0,
              "ticks": ""
             }
            },
            "type": "scattergeo"
           }
          ],
          "scattergl": [
           {
            "marker": {
             "colorbar": {
              "outlinewidth": 0,
              "ticks": ""
             }
            },
            "type": "scattergl"
           }
          ],
          "scattermapbox": [
           {
            "marker": {
             "colorbar": {
              "outlinewidth": 0,
              "ticks": ""
             }
            },
            "type": "scattermapbox"
           }
          ],
          "scatterpolar": [
           {
            "marker": {
             "colorbar": {
              "outlinewidth": 0,
              "ticks": ""
             }
            },
            "type": "scatterpolar"
           }
          ],
          "scatterpolargl": [
           {
            "marker": {
             "colorbar": {
              "outlinewidth": 0,
              "ticks": ""
             }
            },
            "type": "scatterpolargl"
           }
          ],
          "scatterternary": [
           {
            "marker": {
             "colorbar": {
              "outlinewidth": 0,
              "ticks": ""
             }
            },
            "type": "scatterternary"
           }
          ],
          "surface": [
           {
            "colorbar": {
             "outlinewidth": 0,
             "ticks": ""
            },
            "colorscale": [
             [
              0,
              "#0d0887"
             ],
             [
              0.1111111111111111,
              "#46039f"
             ],
             [
              0.2222222222222222,
              "#7201a8"
             ],
             [
              0.3333333333333333,
              "#9c179e"
             ],
             [
              0.4444444444444444,
              "#bd3786"
             ],
             [
              0.5555555555555556,
              "#d8576b"
             ],
             [
              0.6666666666666666,
              "#ed7953"
             ],
             [
              0.7777777777777778,
              "#fb9f3a"
             ],
             [
              0.8888888888888888,
              "#fdca26"
             ],
             [
              1,
              "#f0f921"
             ]
            ],
            "type": "surface"
           }
          ],
          "table": [
           {
            "cells": {
             "fill": {
              "color": "#EBF0F8"
             },
             "line": {
              "color": "white"
             }
            },
            "header": {
             "fill": {
              "color": "#C8D4E3"
             },
             "line": {
              "color": "white"
             }
            },
            "type": "table"
           }
          ]
         },
         "layout": {
          "annotationdefaults": {
           "arrowcolor": "#2a3f5f",
           "arrowhead": 0,
           "arrowwidth": 1
          },
          "coloraxis": {
           "colorbar": {
            "outlinewidth": 0,
            "ticks": ""
           }
          },
          "colorscale": {
           "diverging": [
            [
             0,
             "#8e0152"
            ],
            [
             0.1,
             "#c51b7d"
            ],
            [
             0.2,
             "#de77ae"
            ],
            [
             0.3,
             "#f1b6da"
            ],
            [
             0.4,
             "#fde0ef"
            ],
            [
             0.5,
             "#f7f7f7"
            ],
            [
             0.6,
             "#e6f5d0"
            ],
            [
             0.7,
             "#b8e186"
            ],
            [
             0.8,
             "#7fbc41"
            ],
            [
             0.9,
             "#4d9221"
            ],
            [
             1,
             "#276419"
            ]
           ],
           "sequential": [
            [
             0,
             "#0d0887"
            ],
            [
             0.1111111111111111,
             "#46039f"
            ],
            [
             0.2222222222222222,
             "#7201a8"
            ],
            [
             0.3333333333333333,
             "#9c179e"
            ],
            [
             0.4444444444444444,
             "#bd3786"
            ],
            [
             0.5555555555555556,
             "#d8576b"
            ],
            [
             0.6666666666666666,
             "#ed7953"
            ],
            [
             0.7777777777777778,
             "#fb9f3a"
            ],
            [
             0.8888888888888888,
             "#fdca26"
            ],
            [
             1,
             "#f0f921"
            ]
           ],
           "sequentialminus": [
            [
             0,
             "#0d0887"
            ],
            [
             0.1111111111111111,
             "#46039f"
            ],
            [
             0.2222222222222222,
             "#7201a8"
            ],
            [
             0.3333333333333333,
             "#9c179e"
            ],
            [
             0.4444444444444444,
             "#bd3786"
            ],
            [
             0.5555555555555556,
             "#d8576b"
            ],
            [
             0.6666666666666666,
             "#ed7953"
            ],
            [
             0.7777777777777778,
             "#fb9f3a"
            ],
            [
             0.8888888888888888,
             "#fdca26"
            ],
            [
             1,
             "#f0f921"
            ]
           ]
          },
          "colorway": [
           "#636efa",
           "#EF553B",
           "#00cc96",
           "#ab63fa",
           "#FFA15A",
           "#19d3f3",
           "#FF6692",
           "#B6E880",
           "#FF97FF",
           "#FECB52"
          ],
          "font": {
           "color": "#2a3f5f"
          },
          "geo": {
           "bgcolor": "white",
           "lakecolor": "white",
           "landcolor": "#E5ECF6",
           "showlakes": true,
           "showland": true,
           "subunitcolor": "white"
          },
          "hoverlabel": {
           "align": "left"
          },
          "hovermode": "closest",
          "mapbox": {
           "style": "light"
          },
          "paper_bgcolor": "white",
          "plot_bgcolor": "#E5ECF6",
          "polar": {
           "angularaxis": {
            "gridcolor": "white",
            "linecolor": "white",
            "ticks": ""
           },
           "bgcolor": "#E5ECF6",
           "radialaxis": {
            "gridcolor": "white",
            "linecolor": "white",
            "ticks": ""
           }
          },
          "scene": {
           "xaxis": {
            "backgroundcolor": "#E5ECF6",
            "gridcolor": "white",
            "gridwidth": 2,
            "linecolor": "white",
            "showbackground": true,
            "ticks": "",
            "zerolinecolor": "white"
           },
           "yaxis": {
            "backgroundcolor": "#E5ECF6",
            "gridcolor": "white",
            "gridwidth": 2,
            "linecolor": "white",
            "showbackground": true,
            "ticks": "",
            "zerolinecolor": "white"
           },
           "zaxis": {
            "backgroundcolor": "#E5ECF6",
            "gridcolor": "white",
            "gridwidth": 2,
            "linecolor": "white",
            "showbackground": true,
            "ticks": "",
            "zerolinecolor": "white"
           }
          },
          "shapedefaults": {
           "line": {
            "color": "#2a3f5f"
           }
          },
          "ternary": {
           "aaxis": {
            "gridcolor": "white",
            "linecolor": "white",
            "ticks": ""
           },
           "baxis": {
            "gridcolor": "white",
            "linecolor": "white",
            "ticks": ""
           },
           "bgcolor": "#E5ECF6",
           "caxis": {
            "gridcolor": "white",
            "linecolor": "white",
            "ticks": ""
           }
          },
          "title": {
           "x": 0.05
          },
          "xaxis": {
           "automargin": true,
           "gridcolor": "white",
           "linecolor": "white",
           "ticks": "",
           "title": {
            "standoff": 15
           },
           "zerolinecolor": "white",
           "zerolinewidth": 2
          },
          "yaxis": {
           "automargin": true,
           "gridcolor": "white",
           "linecolor": "white",
           "ticks": "",
           "title": {
            "standoff": 15
           },
           "zerolinecolor": "white",
           "zerolinewidth": 2
          }
         }
        },
        "title": {
         "text": "Europe: 49 countries"
        },
        "width": 885,
        "xaxis": {
         "range": [
          0.5,
          12.5
         ],
         "showgrid": true,
         "ticklen": 0,
         "ticks": "outside",
         "tickson": "boundaries"
        },
        "yaxis": {
         "range": [
          0.5,
          12.5
         ],
         "showgrid": true,
         "ticklen": 0,
         "ticks": "outside",
         "tickson": "boundaries"
        }
       }
      },
      "text/html": [
       "<div>\n",
       "        \n",
       "        \n",
       "            <div id=\"bd17fb5b-91a4-4514-9b72-7bf22e7eedb4\" class=\"plotly-graph-div\" style=\"height:885px; width:885px;\"></div>\n",
       "            <script type=\"text/javascript\">\n",
       "                require([\"plotly\"], function(Plotly) {\n",
       "                    window.PLOTLYENV=window.PLOTLYENV || {};\n",
       "                    \n",
       "                if (document.getElementById(\"bd17fb5b-91a4-4514-9b72-7bf22e7eedb4\")) {\n",
       "                    Plotly.newPlot(\n",
       "                        'bd17fb5b-91a4-4514-9b72-7bf22e7eedb4',\n",
       "                        [{\"hoverinfo\": \"text\", \"hovertext\": [\"1.0\", \"0.4990275266654835\", \"0.2753612823139536\", \"0.7844143017680186\", \"-0.13250106037197248\", \"0.05129501469569571\", \"0.4991235716108927\", \"0.06109632440214815\", \"0.05664297977896413\", \"0.21167790974457626\", \"-0.07462169550943773\", \"0.1726539202727656\", \"-0.041451317171749706\", \"0.4990275266654835\", \"1.0\", \"0.04531355399664456\", \"0.0226306530197985\", \"-0.5944950264213253\", \"0.8134031961007475\", \"0.2442700684456135\", \"0.20837263811088422\", \"0.15140138996839955\", \"0.3662502947022102\", \"0.03050082094041731\", \"0.19715316361014207\", \"0.16874247148976565\", \"0.2753612823139536\", \"0.04531355399664456\", \"1.0\", \"0.28857155645941057\", \"0.04708585016517796\", \"-0.07948034864935653\", \"-0.3765973009030793\", \"0.5354052385799069\", \"0.310715045468403\", \"0.44106091924104124\", \"0.3438912809738176\", \"0.28846424253934466\", \"0.364457428655055\", \"0.7844143017680186\", \"0.0226306530197985\", \"0.28857155645941057\", \"1.0\", \"0.43744493801110546\", \"-0.26078234024320124\", \"0.4718588826309763\", \"-0.10178599768594737\", \"-0.05974139615305428\", \"-0.048319708625856904\", \"-0.12515684502022603\", \"0.10138421184552147\", \"-0.14878526761403552\", \"-0.13250106037197248\", \"-0.5944950264213253\", \"0.04708585016517796\", \"0.43744493801110546\", \"1.0\", \"-0.48754811171934626\", \"0.0470996520291748\", \"-0.2962047304440423\", \"-0.13124981977283526\", \"-0.355113420203742\", \"0.006280057293147596\", \"-0.021461910377778025\", \"-0.12751811651291212\", \"0.05129501469569571\", \"0.8134031961007475\", \"-0.07948034864935653\", \"-0.26078234024320124\", \"-0.48754811171934626\", \"1.0\", \"-0.018563127567487705\", \"0.27965683467848723\", \"0.20830780235394605\", \"0.36853727791184504\", \"0.031843898040803786\", \"0.15023617239021506\", \"0.19602240390623155\", \"0.4991235716108927\", \"0.2442700684456135\", \"-0.3765973009030793\", \"0.4718588826309763\", \"0.0470996520291748\", \"-0.018563127567487705\", \"1.0\", \"-0.6704832713586245\", \"-0.36642440695589246\", \"-0.3716229075210514\", \"-0.2990208206916955\", \"0.0647010207254658\", \"-0.3641690495240468\", \"0.06109632440214815\", \"0.20837263811088422\", \"0.5354052385799069\", \"-0.10178599768594737\", \"-0.2962047304440423\", \"0.27965683467848723\", \"-0.6704832713586245\", \"1.0\", \"0.5464800189204769\", \"0.7914658432709469\", \"0.4007754973153286\", \"0.1243078899582747\", \"0.5011752891385763\", \"0.05664297977896413\", \"0.15140138996839955\", \"0.310715045468403\", \"-0.05974139615305428\", \"-0.13124981977283526\", \"0.20830780235394605\", \"-0.36642440695589246\", \"0.5464800189204769\", \"1.0\", \"0.39172584587147785\", \"0.4308548231348147\", \"0.35371170148508563\", \"0.3412172076499028\", \"0.21167790974457626\", \"0.3662502947022102\", \"0.44106091924104124\", \"-0.048319708625856904\", \"-0.355113420203742\", \"0.36853727791184504\", \"-0.3716229075210514\", \"0.7914658432709469\", \"0.39172584587147785\", \"1.0\", \"0.42969524365590356\", \"0.3403255586264565\", \"0.45516864102219257\", \"-0.07462169550943773\", \"0.03050082094041731\", \"0.3438912809738176\", \"-0.12515684502022603\", \"0.006280057293147596\", \"0.031843898040803786\", \"-0.2990208206916955\", \"0.4007754973153286\", \"0.4308548231348147\", \"0.42969524365590356\", \"1.0\", \"0.5676960136224142\", \"0.6611278800758488\", \"0.1726539202727656\", \"0.19715316361014207\", \"0.28846424253934466\", \"0.10138421184552147\", \"-0.021461910377778025\", \"0.15023617239021506\", \"0.0647010207254658\", \"0.1243078899582747\", \"0.35371170148508563\", \"0.3403255586264565\", \"0.5676960136224142\", \"1.0\", \"0.488720706936207\", \"-0.041451317171749706\", \"0.16874247148976565\", \"0.364457428655055\", \"-0.14878526761403552\", \"-0.12751811651291212\", \"0.19602240390623155\", \"-0.3641690495240468\", \"0.5011752891385763\", \"0.3412172076499028\", \"0.45516864102219257\", \"0.6611278800758488\", \"0.488720706936207\", \"1.0\"], \"marker\": {\"cmid\": 0, \"color\": [1.0, 0.4990275266654835, 0.2753612823139536, 0.7844143017680186, -0.13250106037197248, 0.05129501469569571, 0.4991235716108927, 0.06109632440214815, 0.05664297977896413, 0.21167790974457626, -0.07462169550943773, 0.1726539202727656, -0.041451317171749706, 0.4990275266654835, 1.0, 0.04531355399664456, 0.0226306530197985, -0.5944950264213253, 0.8134031961007475, 0.2442700684456135, 0.20837263811088422, 0.15140138996839955, 0.3662502947022102, 0.03050082094041731, 0.19715316361014207, 0.16874247148976565, 0.2753612823139536, 0.04531355399664456, 1.0, 0.28857155645941057, 0.04708585016517796, -0.07948034864935653, -0.3765973009030793, 0.5354052385799069, 0.310715045468403, 0.44106091924104124, 0.3438912809738176, 0.28846424253934466, 0.364457428655055, 0.7844143017680186, 0.0226306530197985, 0.28857155645941057, 1.0, 0.43744493801110546, -0.26078234024320124, 0.4718588826309763, -0.10178599768594737, -0.05974139615305428, -0.048319708625856904, -0.12515684502022603, 0.10138421184552147, -0.14878526761403552, -0.13250106037197248, -0.5944950264213253, 0.04708585016517796, 0.43744493801110546, 1.0, -0.48754811171934626, 0.0470996520291748, -0.2962047304440423, -0.13124981977283526, -0.355113420203742, 0.006280057293147596, -0.021461910377778025, -0.12751811651291212, 0.05129501469569571, 0.8134031961007475, -0.07948034864935653, -0.26078234024320124, -0.48754811171934626, 1.0, -0.018563127567487705, 0.27965683467848723, 0.20830780235394605, 0.36853727791184504, 0.031843898040803786, 0.15023617239021506, 0.19602240390623155, 0.4991235716108927, 0.2442700684456135, -0.3765973009030793, 0.4718588826309763, 0.0470996520291748, -0.018563127567487705, 1.0, -0.6704832713586245, -0.36642440695589246, -0.3716229075210514, -0.2990208206916955, 0.0647010207254658, -0.3641690495240468, 0.06109632440214815, 0.20837263811088422, 0.5354052385799069, -0.10178599768594737, -0.2962047304440423, 0.27965683467848723, -0.6704832713586245, 1.0, 0.5464800189204769, 0.7914658432709469, 0.4007754973153286, 0.1243078899582747, 0.5011752891385763, 0.05664297977896413, 0.15140138996839955, 0.310715045468403, -0.05974139615305428, -0.13124981977283526, 0.20830780235394605, -0.36642440695589246, 0.5464800189204769, 1.0, 0.39172584587147785, 0.4308548231348147, 0.35371170148508563, 0.3412172076499028, 0.21167790974457626, 0.3662502947022102, 0.44106091924104124, -0.048319708625856904, -0.355113420203742, 0.36853727791184504, -0.3716229075210514, 0.7914658432709469, 0.39172584587147785, 1.0, 0.42969524365590356, 0.3403255586264565, 0.45516864102219257, -0.07462169550943773, 0.03050082094041731, 0.3438912809738176, -0.12515684502022603, 0.006280057293147596, 0.031843898040803786, -0.2990208206916955, 0.4007754973153286, 0.4308548231348147, 0.42969524365590356, 1.0, 0.5676960136224142, 0.6611278800758488, 0.1726539202727656, 0.19715316361014207, 0.28846424253934466, 0.10138421184552147, -0.021461910377778025, 0.15023617239021506, 0.0647010207254658, 0.1243078899582747, 0.35371170148508563, 0.3403255586264565, 0.5676960136224142, 1.0, 0.488720706936207, -0.041451317171749706, 0.16874247148976565, 0.364457428655055, -0.14878526761403552, -0.12751811651291212, 0.19602240390623155, -0.3641690495240468, 0.5011752891385763, 0.3412172076499028, 0.45516864102219257, 0.6611278800758488, 0.488720706936207, 1.0], \"colorbar\": {\"title\": {\"text\": \"Correlation\"}}, \"colorscale\": [[0.0, \"rgb(5,48,97)\"], [0.1, \"rgb(33,102,172)\"], [0.2, \"rgb(67,147,195)\"], [0.3, \"rgb(146,197,222)\"], [0.4, \"rgb(209,229,240)\"], [0.5, \"rgb(247,247,247)\"], [0.6, \"rgb(253,219,199)\"], [0.7, \"rgb(244,165,130)\"], [0.8, \"rgb(214,96,77)\"], [0.9, \"rgb(178,24,43)\"], [1.0, \"rgb(103,0,31)\"]], \"size\": [46.0, 22.955266226612242, 12.666618986441867, 36.083057881328855, 6.095048777110734, 2.3595706760020025, 22.959684294101066, 2.810430922498815, 2.60557706983235, 9.737183848250508, 3.4325979934341357, 7.942080332547218, 1.9067605899004865, 22.955266226612242, 46.0, 2.0844234838456495, 1.041010038910731, 27.346771215380965, 37.41654702063438, 11.23642314849822, 9.585141353100674, 6.96446393854638, 16.84751355630167, 1.4030377632591964, 9.069045526066535, 7.76215368852922, 12.666618986441867, 2.0844234838456495, 46.0, 13.274291597132887, 2.1659491075981863, 3.6560960378704004, 17.323475841541647, 24.628640974675715, 14.292892091546538, 20.288802285087897, 15.81899892479561, 13.269355156809855, 16.76504171813253, 36.083057881328855, 1.041010038910731, 13.274291597132887, 46.0, 20.12246714851085, 11.995987651187257, 21.70550860102491, 4.682155893553579, 2.748104223040497, 2.2227065967894175, 5.757214870930397, 4.663673744893988, 6.844122310245634, 6.095048777110734, 27.346771215380965, 2.1659491075981863, 20.12246714851085, 46.0, 22.42721313908993, 2.1665839933420408, 13.625417600425944, 6.037491709550422, 16.33521732937213, 0.28888263548478943, 0.9872478773777892, 5.865833359593958, 2.3595706760020025, 37.41654702063438, 3.6560960378704004, 11.995987651187257, 22.42721313908993, 46.0, 0.8539038681044344, 12.864214395210412, 9.582158908281519, 16.95271478394487, 1.4648193098769742, 6.910863929949892, 9.01703057968665, 22.959684294101066, 11.23642314849822, 17.323475841541647, 21.70550860102491, 2.1665839933420408, 0.8539038681044344, 46.0, 30.842230482496728, 16.855522719971052, 17.094653745968365, 13.754957751817994, 2.976246953371427, 16.751776278106153, 2.810430922498815, 9.585141353100674, 24.628640974675715, 4.682155893553579, 13.625417600425944, 12.864214395210412, 30.842230482496728, 46.0, 25.138080870341938, 36.407428790463555, 18.435672876505116, 5.718162938080636, 23.054063300374512, 2.60557706983235, 6.96446393854638, 14.292892091546538, 2.748104223040497, 6.037491709550422, 9.582158908281519, 16.855522719971052, 25.138080870341938, 46.0, 18.019388910087983, 19.819321864201477, 16.270738268313938, 15.69599155189553, 9.737183848250508, 16.84751355630167, 20.288802285087897, 2.2227065967894175, 16.33521732937213, 16.95271478394487, 17.094653745968365, 36.407428790463555, 18.019388910087983, 46.0, 19.765981208171564, 15.654975696817, 20.937757487020857, 3.4325979934341357, 1.4030377632591964, 15.81899892479561, 5.757214870930397, 0.28888263548478943, 1.4648193098769742, 13.754957751817994, 18.435672876505116, 19.819321864201477, 19.765981208171564, 46.0, 26.114016626631052, 30.411882483489045, 7.942080332547218, 9.069045526066535, 13.269355156809855, 4.663673744893988, 0.9872478773777892, 6.910863929949892, 2.976246953371427, 5.718162938080636, 16.270738268313938, 15.654975696817, 26.114016626631052, 46.0, 22.48115251906552, 1.9067605899004865, 7.76215368852922, 16.76504171813253, 6.844122310245634, 5.865833359593958, 9.01703057968665, 16.751776278106153, 23.054063300374512, 15.69599155189553, 20.937757487020857, 30.411882483489045, 22.48115251906552, 46.0]}, \"mode\": \"markers\", \"type\": \"scatter\", \"x\": [[\"1.\", \"1.\", \"1.\", \"1.\", \"1.\", \"1.\", \"1.\", \"1.\", \"1.\", \"1.\", \"1.\", \"1.\", \"1.\", \"1.\", \"1.\", \"1.\", \"1.\", \"1.\", \"1.\", \"1.\", \"1.\", \"1.\", \"1.\", \"1.\", \"1.\", \"1.\", \"1.\", \"1.\", \"1.\", \"1.\", \"1.\", \"1.\", \"1.\", \"1.\", \"1.\", \"1.\", \"1.\", \"1.\", \"1.\", \"1.\", \"1.\", \"1.\", \"1.\", \"1.\", \"1.\", \"1.\", \"1.\", \"1.\", \"1.\", \"1.\", \"1.\", \"1.\", \"2.\", \"2.\", \"2.\", \"2.\", \"2.\", \"2.\", \"2.\", \"2.\", \"2.\", \"2.\", \"2.\", \"2.\", \"2.\", \"2.\", \"2.\", \"2.\", \"2.\", \"2.\", \"2.\", \"2.\", \"2.\", \"2.\", \"2.\", \"2.\", \"2.\", \"2.\", \"2.\", \"2.\", \"2.\", \"2.\", \"2.\", \"2.\", \"2.\", \"2.\", \"2.\", \"2.\", \"2.\", \"2.\", \"2.\", \"3.\", \"3.\", \"3.\", \"3.\", \"3.\", \"3.\", \"3.\", \"3.\", \"3.\", \"3.\", \"3.\", \"3.\", \"3.\", \"3.\", \"3.\", \"3.\", \"3.\", \"3.\", \"3.\", \"3.\", \"3.\", \"3.\", \"3.\", \"3.\", \"3.\", \"3.\", \"3.\", \"3.\", \"3.\", \"3.\", \"3.\", \"3.\", \"3.\", \"3.\", \"3.\", \"3.\", \"3.\", \"3.\", \"3.\", \"3.\", \"3.\", \"3.\", \"3.\", \"3.\", \"3.\", \"3.\", \"3.\", \"3.\", \"3.\", \"3.\", \"3.\", \"3.\", \"3.\", \"3.\", \"3.\", \"3.\", \"3.\", \"3.\", \"3.\", \"3.\", \"3.\", \"3.\", \"3.\", \"3.\", \"3.\", \"3.\", \"3.\", \"3.\", \"3.\", \"3.\", \"3.\", \"3.\", \"3.\", \"3.\", \"3.\", \"3.\", \"3.\", \"3.\"], [\"Tot Cases/1M pop\", \"Tot Cases/1M pop\", \"Tot Cases/1M pop\", \"Tot Cases/1M pop\", \"Tot Cases/1M pop\", \"Tot Cases/1M pop\", \"Tot Cases/1M pop\", \"Tot Cases/1M pop\", \"Tot Cases/1M pop\", \"Tot Cases/1M pop\", \"Tot Cases/1M pop\", \"Tot Cases/1M pop\", \"Tot Cases/1M pop\", \"Deaths/1M pop\", \"Deaths/1M pop\", \"Deaths/1M pop\", \"Deaths/1M pop\", \"Deaths/1M pop\", \"Deaths/1M pop\", \"Deaths/1M pop\", \"Deaths/1M pop\", \"Deaths/1M pop\", \"Deaths/1M pop\", \"Deaths/1M pop\", \"Deaths/1M pop\", \"Deaths/1M pop\", \"Tests/1M pop\", \"Tests/1M pop\", \"Tests/1M pop\", \"Tests/1M pop\", \"Tests/1M pop\", \"Tests/1M pop\", \"Tests/1M pop\", \"Tests/1M pop\", \"Tests/1M pop\", \"Tests/1M pop\", \"Tests/1M pop\", \"Tests/1M pop\", \"Tests/1M pop\", \"Recovered/1M pop\", \"Recovered/1M pop\", \"Recovered/1M pop\", \"Recovered/1M pop\", \"Recovered/1M pop\", \"Recovered/1M pop\", \"Recovered/1M pop\", \"Recovered/1M pop\", \"Recovered/1M pop\", \"Recovered/1M pop\", \"Recovered/1M pop\", \"Recovered/1M pop\", \"Recovered/1M pop\", \"Recovered/1M cases\", \"Recovered/1M cases\", \"Recovered/1M cases\", \"Recovered/1M cases\", \"Recovered/1M cases\", \"Recovered/1M cases\", \"Recovered/1M cases\", \"Recovered/1M cases\", \"Recovered/1M cases\", \"Recovered/1M cases\", \"Recovered/1M cases\", \"Recovered/1M cases\", \"Recovered/1M cases\", \"Deaths/1M cases\", \"Deaths/1M cases\", \"Deaths/1M cases\", \"Deaths/1M cases\", \"Deaths/1M cases\", \"Deaths/1M cases\", \"Deaths/1M cases\", \"Deaths/1M cases\", \"Deaths/1M cases\", \"Deaths/1M cases\", \"Deaths/1M cases\", \"Deaths/1M cases\", \"Deaths/1M cases\", \"Confirmed/1M tests\", \"Confirmed/1M tests\", \"Confirmed/1M tests\", \"Confirmed/1M tests\", \"Confirmed/1M tests\", \"Confirmed/1M tests\", \"Confirmed/1M tests\", \"Confirmed/1M tests\", \"Confirmed/1M tests\", \"Confirmed/1M tests\", \"Confirmed/1M tests\", \"Confirmed/1M tests\", \"Confirmed/1M tests\", \"GDP\", \"GDP\", \"GDP\", \"GDP\", \"GDP\", \"GDP\", \"GDP\", \"GDP\", \"GDP\", \"GDP\", \"GDP\", \"GDP\", \"GDP\", \"Family\", \"Family\", \"Family\", \"Family\", \"Family\", \"Family\", \"Family\", \"Family\", \"Family\", \"Family\", \"Family\", \"Family\", \"Family\", \"Life expectancy\", \"Life expectancy\", \"Life expectancy\", \"Life expectancy\", \"Life expectancy\", \"Life expectancy\", \"Life expectancy\", \"Life expectancy\", \"Life expectancy\", \"Life expectancy\", \"Life expectancy\", \"Life expectancy\", \"Life expectancy\", \"Freedom\", \"Freedom\", \"Freedom\", \"Freedom\", \"Freedom\", \"Freedom\", \"Freedom\", \"Freedom\", \"Freedom\", \"Freedom\", \"Freedom\", \"Freedom\", \"Freedom\", \"Generosity\", \"Generosity\", \"Generosity\", \"Generosity\", \"Generosity\", \"Generosity\", \"Generosity\", \"Generosity\", \"Generosity\", \"Generosity\", \"Generosity\", \"Generosity\", \"Generosity\", \"Trust\", \"Trust\", \"Trust\", \"Trust\", \"Trust\", \"Trust\", \"Trust\", \"Trust\", \"Trust\", \"Trust\", \"Trust\", \"Trust\", \"Trust\"]], \"y\": [[\"1.\", \"1.\", \"1.\", \"1.\", \"2.\", \"2.\", \"2.\", \"3.\", \"3.\", \"3.\", \"3.\", \"3.\", \"3.\", \"1.\", \"1.\", \"1.\", \"1.\", \"2.\", \"2.\", \"2.\", \"3.\", \"3.\", \"3.\", \"3.\", \"3.\", \"3.\", \"1.\", \"1.\", \"1.\", \"1.\", \"2.\", \"2.\", \"2.\", \"3.\", \"3.\", \"3.\", \"3.\", \"3.\", \"3.\", \"1.\", \"1.\", \"1.\", \"1.\", \"2.\", \"2.\", \"2.\", \"3.\", \"3.\", \"3.\", \"3.\", \"3.\", \"3.\", \"1.\", \"1.\", \"1.\", \"1.\", \"2.\", \"2.\", \"2.\", \"3.\", \"3.\", \"3.\", \"3.\", \"3.\", \"3.\", \"1.\", \"1.\", \"1.\", \"1.\", \"2.\", \"2.\", \"2.\", \"3.\", \"3.\", \"3.\", \"3.\", \"3.\", \"3.\", \"1.\", \"1.\", \"1.\", \"1.\", \"2.\", \"2.\", \"2.\", \"3.\", \"3.\", \"3.\", \"3.\", \"3.\", \"3.\", \"1.\", \"1.\", \"1.\", \"1.\", \"2.\", \"2.\", \"2.\", \"3.\", \"3.\", \"3.\", \"3.\", \"3.\", \"3.\", \"1.\", \"1.\", \"1.\", \"1.\", \"2.\", \"2.\", \"2.\", \"3.\", \"3.\", \"3.\", \"3.\", \"3.\", \"3.\", \"1.\", \"1.\", \"1.\", \"1.\", \"2.\", \"2.\", \"2.\", \"3.\", \"3.\", \"3.\", \"3.\", \"3.\", \"3.\", \"1.\", \"1.\", \"1.\", \"1.\", \"2.\", \"2.\", \"2.\", \"3.\", \"3.\", \"3.\", \"3.\", \"3.\", \"3.\", \"1.\", \"1.\", \"1.\", \"1.\", \"2.\", \"2.\", \"2.\", \"3.\", \"3.\", \"3.\", \"3.\", \"3.\", \"3.\", \"1.\", \"1.\", \"1.\", \"1.\", \"2.\", \"2.\", \"2.\", \"3.\", \"3.\", \"3.\", \"3.\", \"3.\", \"3.\"], [\"Tot Cases/1M pop\", \"Deaths/1M pop\", \"Tests/1M pop\", \"Recovered/1M pop\", \"Recovered/1M cases\", \"Deaths/1M cases\", \"Confirmed/1M tests\", \"GDP\", \"Family\", \"Life expectancy\", \"Freedom\", \"Generosity\", \"Trust\", \"Tot Cases/1M pop\", \"Deaths/1M pop\", \"Tests/1M pop\", \"Recovered/1M pop\", \"Recovered/1M cases\", \"Deaths/1M cases\", \"Confirmed/1M tests\", \"GDP\", \"Family\", \"Life expectancy\", \"Freedom\", \"Generosity\", \"Trust\", \"Tot Cases/1M pop\", \"Deaths/1M pop\", \"Tests/1M pop\", \"Recovered/1M pop\", \"Recovered/1M cases\", \"Deaths/1M cases\", \"Confirmed/1M tests\", \"GDP\", \"Family\", \"Life expectancy\", \"Freedom\", \"Generosity\", \"Trust\", \"Tot Cases/1M pop\", \"Deaths/1M pop\", \"Tests/1M pop\", \"Recovered/1M pop\", \"Recovered/1M cases\", \"Deaths/1M cases\", \"Confirmed/1M tests\", \"GDP\", \"Family\", \"Life expectancy\", \"Freedom\", \"Generosity\", \"Trust\", \"Tot Cases/1M pop\", \"Deaths/1M pop\", \"Tests/1M pop\", \"Recovered/1M pop\", \"Recovered/1M cases\", \"Deaths/1M cases\", \"Confirmed/1M tests\", \"GDP\", \"Family\", \"Life expectancy\", \"Freedom\", \"Generosity\", \"Trust\", \"Tot Cases/1M pop\", \"Deaths/1M pop\", \"Tests/1M pop\", \"Recovered/1M pop\", \"Recovered/1M cases\", \"Deaths/1M cases\", \"Confirmed/1M tests\", \"GDP\", \"Family\", \"Life expectancy\", \"Freedom\", \"Generosity\", \"Trust\", \"Tot Cases/1M pop\", \"Deaths/1M pop\", \"Tests/1M pop\", \"Recovered/1M pop\", \"Recovered/1M cases\", \"Deaths/1M cases\", \"Confirmed/1M tests\", \"GDP\", \"Family\", \"Life expectancy\", \"Freedom\", \"Generosity\", \"Trust\", \"Tot Cases/1M pop\", \"Deaths/1M pop\", \"Tests/1M pop\", \"Recovered/1M pop\", \"Recovered/1M cases\", \"Deaths/1M cases\", \"Confirmed/1M tests\", \"GDP\", \"Family\", \"Life expectancy\", \"Freedom\", \"Generosity\", \"Trust\", \"Tot Cases/1M pop\", \"Deaths/1M pop\", \"Tests/1M pop\", \"Recovered/1M pop\", \"Recovered/1M cases\", \"Deaths/1M cases\", \"Confirmed/1M tests\", \"GDP\", \"Family\", \"Life expectancy\", \"Freedom\", \"Generosity\", \"Trust\", \"Tot Cases/1M pop\", \"Deaths/1M pop\", \"Tests/1M pop\", \"Recovered/1M pop\", \"Recovered/1M cases\", \"Deaths/1M cases\", \"Confirmed/1M tests\", \"GDP\", \"Family\", \"Life expectancy\", \"Freedom\", \"Generosity\", \"Trust\", \"Tot Cases/1M pop\", \"Deaths/1M pop\", \"Tests/1M pop\", \"Recovered/1M pop\", \"Recovered/1M cases\", \"Deaths/1M cases\", \"Confirmed/1M tests\", \"GDP\", \"Family\", \"Life expectancy\", \"Freedom\", \"Generosity\", \"Trust\", \"Tot Cases/1M pop\", \"Deaths/1M pop\", \"Tests/1M pop\", \"Recovered/1M pop\", \"Recovered/1M cases\", \"Deaths/1M cases\", \"Confirmed/1M tests\", \"GDP\", \"Family\", \"Life expectancy\", \"Freedom\", \"Generosity\", \"Trust\", \"Tot Cases/1M pop\", \"Deaths/1M pop\", \"Tests/1M pop\", \"Recovered/1M pop\", \"Recovered/1M cases\", \"Deaths/1M cases\", \"Confirmed/1M tests\", \"GDP\", \"Family\", \"Life expectancy\", \"Freedom\", \"Generosity\", \"Trust\"]]}],\n",
       "                        {\"font\": {\"size\": 15}, \"height\": 885, \"template\": {\"data\": {\"bar\": [{\"error_x\": {\"color\": \"#2a3f5f\"}, \"error_y\": {\"color\": \"#2a3f5f\"}, \"marker\": {\"line\": {\"color\": \"#E5ECF6\", \"width\": 0.5}}, \"type\": \"bar\"}], \"barpolar\": [{\"marker\": {\"line\": {\"color\": \"#E5ECF6\", \"width\": 0.5}}, \"type\": \"barpolar\"}], \"carpet\": [{\"aaxis\": {\"endlinecolor\": \"#2a3f5f\", \"gridcolor\": \"white\", \"linecolor\": \"white\", \"minorgridcolor\": \"white\", \"startlinecolor\": \"#2a3f5f\"}, \"baxis\": {\"endlinecolor\": \"#2a3f5f\", \"gridcolor\": \"white\", \"linecolor\": \"white\", \"minorgridcolor\": \"white\", \"startlinecolor\": \"#2a3f5f\"}, \"type\": \"carpet\"}], \"choropleth\": [{\"colorbar\": {\"outlinewidth\": 0, \"ticks\": \"\"}, \"type\": \"choropleth\"}], \"contour\": [{\"colorbar\": {\"outlinewidth\": 0, \"ticks\": \"\"}, \"colorscale\": [[0.0, \"#0d0887\"], [0.1111111111111111, \"#46039f\"], [0.2222222222222222, \"#7201a8\"], [0.3333333333333333, \"#9c179e\"], [0.4444444444444444, \"#bd3786\"], [0.5555555555555556, \"#d8576b\"], [0.6666666666666666, \"#ed7953\"], [0.7777777777777778, \"#fb9f3a\"], [0.8888888888888888, \"#fdca26\"], [1.0, \"#f0f921\"]], \"type\": \"contour\"}], \"contourcarpet\": [{\"colorbar\": {\"outlinewidth\": 0, \"ticks\": \"\"}, \"type\": \"contourcarpet\"}], \"heatmap\": [{\"colorbar\": {\"outlinewidth\": 0, \"ticks\": \"\"}, \"colorscale\": [[0.0, \"#0d0887\"], [0.1111111111111111, \"#46039f\"], [0.2222222222222222, \"#7201a8\"], [0.3333333333333333, \"#9c179e\"], [0.4444444444444444, \"#bd3786\"], [0.5555555555555556, \"#d8576b\"], [0.6666666666666666, \"#ed7953\"], [0.7777777777777778, \"#fb9f3a\"], [0.8888888888888888, \"#fdca26\"], [1.0, \"#f0f921\"]], \"type\": \"heatmap\"}], \"heatmapgl\": [{\"colorbar\": {\"outlinewidth\": 0, \"ticks\": \"\"}, \"colorscale\": [[0.0, \"#0d0887\"], [0.1111111111111111, \"#46039f\"], [0.2222222222222222, \"#7201a8\"], [0.3333333333333333, \"#9c179e\"], [0.4444444444444444, \"#bd3786\"], [0.5555555555555556, \"#d8576b\"], [0.6666666666666666, \"#ed7953\"], [0.7777777777777778, \"#fb9f3a\"], [0.8888888888888888, \"#fdca26\"], [1.0, \"#f0f921\"]], \"type\": \"heatmapgl\"}], \"histogram\": [{\"marker\": {\"colorbar\": {\"outlinewidth\": 0, \"ticks\": \"\"}}, \"type\": \"histogram\"}], \"histogram2d\": [{\"colorbar\": {\"outlinewidth\": 0, \"ticks\": \"\"}, \"colorscale\": [[0.0, \"#0d0887\"], [0.1111111111111111, \"#46039f\"], [0.2222222222222222, \"#7201a8\"], [0.3333333333333333, \"#9c179e\"], [0.4444444444444444, \"#bd3786\"], [0.5555555555555556, \"#d8576b\"], [0.6666666666666666, \"#ed7953\"], [0.7777777777777778, \"#fb9f3a\"], [0.8888888888888888, \"#fdca26\"], [1.0, \"#f0f921\"]], \"type\": \"histogram2d\"}], \"histogram2dcontour\": [{\"colorbar\": {\"outlinewidth\": 0, \"ticks\": \"\"}, \"colorscale\": [[0.0, \"#0d0887\"], [0.1111111111111111, \"#46039f\"], [0.2222222222222222, \"#7201a8\"], [0.3333333333333333, \"#9c179e\"], [0.4444444444444444, \"#bd3786\"], [0.5555555555555556, \"#d8576b\"], [0.6666666666666666, \"#ed7953\"], [0.7777777777777778, \"#fb9f3a\"], [0.8888888888888888, \"#fdca26\"], [1.0, \"#f0f921\"]], \"type\": \"histogram2dcontour\"}], \"mesh3d\": [{\"colorbar\": {\"outlinewidth\": 0, \"ticks\": \"\"}, \"type\": \"mesh3d\"}], \"parcoords\": [{\"line\": {\"colorbar\": {\"outlinewidth\": 0, \"ticks\": \"\"}}, \"type\": \"parcoords\"}], \"pie\": [{\"automargin\": true, \"type\": \"pie\"}], \"scatter\": [{\"marker\": {\"colorbar\": {\"outlinewidth\": 0, \"ticks\": \"\"}}, \"type\": \"scatter\"}], \"scatter3d\": [{\"line\": {\"colorbar\": {\"outlinewidth\": 0, \"ticks\": \"\"}}, \"marker\": {\"colorbar\": {\"outlinewidth\": 0, \"ticks\": \"\"}}, \"type\": \"scatter3d\"}], \"scattercarpet\": [{\"marker\": {\"colorbar\": {\"outlinewidth\": 0, \"ticks\": \"\"}}, \"type\": \"scattercarpet\"}], \"scattergeo\": [{\"marker\": {\"colorbar\": {\"outlinewidth\": 0, \"ticks\": \"\"}}, \"type\": \"scattergeo\"}], \"scattergl\": [{\"marker\": {\"colorbar\": {\"outlinewidth\": 0, \"ticks\": \"\"}}, \"type\": \"scattergl\"}], \"scattermapbox\": [{\"marker\": {\"colorbar\": {\"outlinewidth\": 0, \"ticks\": \"\"}}, \"type\": \"scattermapbox\"}], \"scatterpolar\": [{\"marker\": {\"colorbar\": {\"outlinewidth\": 0, \"ticks\": \"\"}}, \"type\": \"scatterpolar\"}], \"scatterpolargl\": [{\"marker\": {\"colorbar\": {\"outlinewidth\": 0, \"ticks\": \"\"}}, \"type\": \"scatterpolargl\"}], \"scatterternary\": [{\"marker\": {\"colorbar\": {\"outlinewidth\": 0, \"ticks\": \"\"}}, \"type\": \"scatterternary\"}], \"surface\": [{\"colorbar\": {\"outlinewidth\": 0, \"ticks\": \"\"}, \"colorscale\": [[0.0, \"#0d0887\"], [0.1111111111111111, \"#46039f\"], [0.2222222222222222, \"#7201a8\"], [0.3333333333333333, \"#9c179e\"], [0.4444444444444444, \"#bd3786\"], [0.5555555555555556, \"#d8576b\"], [0.6666666666666666, \"#ed7953\"], [0.7777777777777778, \"#fb9f3a\"], [0.8888888888888888, \"#fdca26\"], [1.0, \"#f0f921\"]], \"type\": \"surface\"}], \"table\": [{\"cells\": {\"fill\": {\"color\": \"#EBF0F8\"}, \"line\": {\"color\": \"white\"}}, \"header\": {\"fill\": {\"color\": \"#C8D4E3\"}, \"line\": {\"color\": \"white\"}}, \"type\": \"table\"}]}, \"layout\": {\"annotationdefaults\": {\"arrowcolor\": \"#2a3f5f\", \"arrowhead\": 0, \"arrowwidth\": 1}, \"coloraxis\": {\"colorbar\": {\"outlinewidth\": 0, \"ticks\": \"\"}}, \"colorscale\": {\"diverging\": [[0, \"#8e0152\"], [0.1, \"#c51b7d\"], [0.2, \"#de77ae\"], [0.3, \"#f1b6da\"], [0.4, \"#fde0ef\"], [0.5, \"#f7f7f7\"], [0.6, \"#e6f5d0\"], [0.7, \"#b8e186\"], [0.8, \"#7fbc41\"], [0.9, \"#4d9221\"], [1, \"#276419\"]], \"sequential\": [[0.0, \"#0d0887\"], [0.1111111111111111, \"#46039f\"], [0.2222222222222222, \"#7201a8\"], [0.3333333333333333, \"#9c179e\"], [0.4444444444444444, \"#bd3786\"], [0.5555555555555556, \"#d8576b\"], [0.6666666666666666, \"#ed7953\"], [0.7777777777777778, \"#fb9f3a\"], [0.8888888888888888, \"#fdca26\"], [1.0, \"#f0f921\"]], \"sequentialminus\": [[0.0, \"#0d0887\"], [0.1111111111111111, \"#46039f\"], [0.2222222222222222, \"#7201a8\"], [0.3333333333333333, \"#9c179e\"], [0.4444444444444444, \"#bd3786\"], [0.5555555555555556, \"#d8576b\"], [0.6666666666666666, \"#ed7953\"], [0.7777777777777778, \"#fb9f3a\"], [0.8888888888888888, \"#fdca26\"], [1.0, \"#f0f921\"]]}, \"colorway\": [\"#636efa\", \"#EF553B\", \"#00cc96\", \"#ab63fa\", \"#FFA15A\", \"#19d3f3\", \"#FF6692\", \"#B6E880\", \"#FF97FF\", \"#FECB52\"], \"font\": {\"color\": \"#2a3f5f\"}, \"geo\": {\"bgcolor\": \"white\", \"lakecolor\": \"white\", \"landcolor\": \"#E5ECF6\", \"showlakes\": true, \"showland\": true, \"subunitcolor\": \"white\"}, \"hoverlabel\": {\"align\": \"left\"}, \"hovermode\": \"closest\", \"mapbox\": {\"style\": \"light\"}, \"paper_bgcolor\": \"white\", \"plot_bgcolor\": \"#E5ECF6\", \"polar\": {\"angularaxis\": {\"gridcolor\": \"white\", \"linecolor\": \"white\", \"ticks\": \"\"}, \"bgcolor\": \"#E5ECF6\", \"radialaxis\": {\"gridcolor\": \"white\", \"linecolor\": \"white\", \"ticks\": \"\"}}, \"scene\": {\"xaxis\": {\"backgroundcolor\": \"#E5ECF6\", \"gridcolor\": \"white\", \"gridwidth\": 2, \"linecolor\": \"white\", \"showbackground\": true, \"ticks\": \"\", \"zerolinecolor\": \"white\"}, \"yaxis\": {\"backgroundcolor\": \"#E5ECF6\", \"gridcolor\": \"white\", \"gridwidth\": 2, \"linecolor\": \"white\", \"showbackground\": true, \"ticks\": \"\", \"zerolinecolor\": \"white\"}, \"zaxis\": {\"backgroundcolor\": \"#E5ECF6\", \"gridcolor\": \"white\", \"gridwidth\": 2, \"linecolor\": \"white\", \"showbackground\": true, \"ticks\": \"\", \"zerolinecolor\": \"white\"}}, \"shapedefaults\": {\"line\": {\"color\": \"#2a3f5f\"}}, \"ternary\": {\"aaxis\": {\"gridcolor\": \"white\", \"linecolor\": \"white\", \"ticks\": \"\"}, \"baxis\": {\"gridcolor\": \"white\", \"linecolor\": \"white\", \"ticks\": \"\"}, \"bgcolor\": \"#E5ECF6\", \"caxis\": {\"gridcolor\": \"white\", \"linecolor\": \"white\", \"ticks\": \"\"}}, \"title\": {\"x\": 0.05}, \"xaxis\": {\"automargin\": true, \"gridcolor\": \"white\", \"linecolor\": \"white\", \"ticks\": \"\", \"title\": {\"standoff\": 15}, \"zerolinecolor\": \"white\", \"zerolinewidth\": 2}, \"yaxis\": {\"automargin\": true, \"gridcolor\": \"white\", \"linecolor\": \"white\", \"ticks\": \"\", \"title\": {\"standoff\": 15}, \"zerolinecolor\": \"white\", \"zerolinewidth\": 2}}}, \"title\": {\"text\": \"Europe: 49 countries\"}, \"width\": 885, \"xaxis\": {\"range\": [0.5, 12.5], \"showgrid\": true, \"ticklen\": 0, \"ticks\": \"outside\", \"tickson\": \"boundaries\"}, \"yaxis\": {\"range\": [0.5, 12.5], \"showgrid\": true, \"ticklen\": 0, \"ticks\": \"outside\", \"tickson\": \"boundaries\"}},\n",
       "                        {\"responsive\": true}\n",
       "                    ).then(function(){\n",
       "                            \n",
       "var gd = document.getElementById('bd17fb5b-91a4-4514-9b72-7bf22e7eedb4');\n",
       "var x = new MutationObserver(function (mutations, observer) {{\n",
       "        var display = window.getComputedStyle(gd).display;\n",
       "        if (!display || display === 'none') {{\n",
       "            console.log([gd, 'removed!']);\n",
       "            Plotly.purge(gd);\n",
       "            observer.disconnect();\n",
       "        }}\n",
       "}});\n",
       "\n",
       "// Listen for the removal of the full notebook cells\n",
       "var notebookContainer = gd.closest('#notebook-container');\n",
       "if (notebookContainer) {{\n",
       "    x.observe(notebookContainer, {childList: true});\n",
       "}}\n",
       "\n",
       "// Listen for the clearing of the current output cell\n",
       "var outputEl = gd.closest('.output');\n",
       "if (outputEl) {{\n",
       "    x.observe(outputEl, {childList: true});\n",
       "}}\n",
       "\n",
       "                        })\n",
       "                };\n",
       "                });\n",
       "            </script>\n",
       "        </div>"
      ]
     },
     "metadata": {},
     "output_type": "display_data"
    },
    {
     "data": {
      "application/vnd.plotly.v1+json": {
       "config": {
        "plotlyServerURL": "https://plot.ly"
       },
       "data": [
        {
         "hoverinfo": "text",
         "hovertext": [
          "1.0",
          "0.9383993956617636",
          "0.3348790452696366",
          "0.9944959537215186",
          "0.15324256894463076",
          "-0.13926624899521176",
          "0.2069661324243975",
          "0.5262624667808866",
          "0.46290850446614157",
          "0.14927135782876172",
          "0.07647860519483086",
          "-0.3623829589602012",
          "-0.15845185679426524",
          "0.9383993956617636",
          "1.0",
          "0.24144343573828006",
          "0.938911665675345",
          "0.1342143444444522",
          "0.03149748471709901",
          "0.22459843409670704",
          "0.382731459777494",
          "0.3983760298602063",
          "0.10732901919056459",
          "0.04035615273124608",
          "-0.2169067879521321",
          "-0.12276542589261837",
          "0.3348790452696366",
          "0.24144343573828006",
          "1.0",
          "0.31863558487459925",
          "0.012505186123816937",
          "-0.21612029764903687",
          "-0.33171825916787206",
          "0.6610982553770107",
          "0.49375926629892025",
          "0.5107000930323244",
          "0.38855707154692376",
          "-0.26319325634398494",
          "-0.0004949464455212462",
          "0.9944959537215186",
          "0.938911665675345",
          "0.31863558487459925",
          "1.0",
          "0.22786899090446763",
          "-0.1245790182162622",
          "0.21649321418969458",
          "0.4971696690874507",
          "0.4377550088343949",
          "0.13418614854323999",
          "0.05644881700286731",
          "-0.32779019966907014",
          "-0.17429615943379076",
          "0.15324256894463076",
          "0.1342143444444522",
          "0.012505186123816937",
          "0.22786899090446763",
          "1.0",
          "0.061464943047514126",
          "0.17774897170532422",
          "-0.022358445167671027",
          "-0.04937411198529447",
          "-0.04610814754201043",
          "-0.143166088218478",
          "0.027223690655956794",
          "-0.2940439846590482",
          "-0.13926624899521176",
          "0.03149748471709901",
          "-0.21612029764903687",
          "-0.1245790182162622",
          "0.061464943047514126",
          "1.0",
          "-0.011761879408260156",
          "-0.24343122081388613",
          "-0.02175935664870908",
          "-0.18940645674776788",
          "-0.14574850408135206",
          "0.16297737828744605",
          "-0.17427884530295673",
          "0.2069661324243975",
          "0.22459843409670704",
          "-0.33171825916787206",
          "0.21649321418969458",
          "0.17774897170532422",
          "-0.011761879408260156",
          "1.0",
          "-0.06831884146339741",
          "-0.03125667204728787",
          "-0.25874861315334907",
          "-0.3830181530885365",
          "0.10397291193033247",
          "-0.22627105433497086",
          "0.5262624667808866",
          "0.382731459777494",
          "0.6610982553770107",
          "0.4971696690874507",
          "-0.022358445167671027",
          "-0.24343122081388613",
          "-0.06831884146339741",
          "1.0",
          "0.6875318625397476",
          "0.4415075817041689",
          "0.158915804161428",
          "-0.5046715163997327",
          "-0.20062026932649987",
          "0.46290850446614157",
          "0.3983760298602063",
          "0.49375926629892025",
          "0.4377550088343949",
          "-0.04937411198529447",
          "-0.02175935664870908",
          "-0.03125667204728787",
          "0.6875318625397476",
          "1.0",
          "0.3204185898317906",
          "0.19851940632430484",
          "-0.3573352342583553",
          "-0.2919207602074581",
          "0.14927135782876172",
          "0.10732901919056459",
          "0.5107000930323244",
          "0.13418614854323999",
          "-0.04610814754201043",
          "-0.18940645674776788",
          "-0.25874861315334907",
          "0.4415075817041689",
          "0.3204185898317906",
          "1.0",
          "0.09710928838477938",
          "-0.06542572404800877",
          "0.17317172067031258",
          "0.07647860519483086",
          "0.04035615273124608",
          "0.38855707154692376",
          "0.05644881700286731",
          "-0.143166088218478",
          "-0.14574850408135206",
          "-0.3830181530885365",
          "0.158915804161428",
          "0.19851940632430484",
          "0.09710928838477938",
          "1.0",
          "0.2065752218508365",
          "0.22097931482581662",
          "-0.3623829589602012",
          "-0.2169067879521321",
          "-0.26319325634398494",
          "-0.32779019966907014",
          "0.027223690655956794",
          "0.16297737828744605",
          "0.10397291193033247",
          "-0.5046715163997327",
          "-0.3573352342583553",
          "-0.06542572404800877",
          "0.2065752218508365",
          "1.0",
          "0.05706970195120559",
          "-0.15845185679426524",
          "-0.12276542589261837",
          "-0.0004949464455212462",
          "-0.17429615943379076",
          "-0.2940439846590482",
          "-0.17427884530295673",
          "-0.22627105433497086",
          "-0.20062026932649987",
          "-0.2919207602074581",
          "0.17317172067031258",
          "0.22097931482581662",
          "0.05706970195120559",
          "1.0"
         ],
         "marker": {
          "cmid": 0,
          "color": [
           1,
           0.9383993956617636,
           0.3348790452696366,
           0.9944959537215186,
           0.15324256894463076,
           -0.13926624899521176,
           0.2069661324243975,
           0.5262624667808866,
           0.46290850446614157,
           0.14927135782876172,
           0.07647860519483086,
           -0.3623829589602012,
           -0.15845185679426524,
           0.9383993956617636,
           1,
           0.24144343573828006,
           0.938911665675345,
           0.1342143444444522,
           0.03149748471709901,
           0.22459843409670704,
           0.382731459777494,
           0.3983760298602063,
           0.10732901919056459,
           0.04035615273124608,
           -0.2169067879521321,
           -0.12276542589261837,
           0.3348790452696366,
           0.24144343573828006,
           1,
           0.31863558487459925,
           0.012505186123816937,
           -0.21612029764903687,
           -0.33171825916787206,
           0.6610982553770107,
           0.49375926629892025,
           0.5107000930323244,
           0.38855707154692376,
           -0.26319325634398494,
           -0.0004949464455212462,
           0.9944959537215186,
           0.938911665675345,
           0.31863558487459925,
           1,
           0.22786899090446763,
           -0.1245790182162622,
           0.21649321418969458,
           0.4971696690874507,
           0.4377550088343949,
           0.13418614854323999,
           0.05644881700286731,
           -0.32779019966907014,
           -0.17429615943379076,
           0.15324256894463076,
           0.1342143444444522,
           0.012505186123816937,
           0.22786899090446763,
           1,
           0.061464943047514126,
           0.17774897170532422,
           -0.022358445167671027,
           -0.04937411198529447,
           -0.04610814754201043,
           -0.143166088218478,
           0.027223690655956794,
           -0.2940439846590482,
           -0.13926624899521176,
           0.03149748471709901,
           -0.21612029764903687,
           -0.1245790182162622,
           0.061464943047514126,
           1,
           -0.011761879408260156,
           -0.24343122081388613,
           -0.02175935664870908,
           -0.18940645674776788,
           -0.14574850408135206,
           0.16297737828744605,
           -0.17427884530295673,
           0.2069661324243975,
           0.22459843409670704,
           -0.33171825916787206,
           0.21649321418969458,
           0.17774897170532422,
           -0.011761879408260156,
           1,
           -0.06831884146339741,
           -0.03125667204728787,
           -0.25874861315334907,
           -0.3830181530885365,
           0.10397291193033247,
           -0.22627105433497086,
           0.5262624667808866,
           0.382731459777494,
           0.6610982553770107,
           0.4971696690874507,
           -0.022358445167671027,
           -0.24343122081388613,
           -0.06831884146339741,
           1,
           0.6875318625397476,
           0.4415075817041689,
           0.158915804161428,
           -0.5046715163997327,
           -0.20062026932649987,
           0.46290850446614157,
           0.3983760298602063,
           0.49375926629892025,
           0.4377550088343949,
           -0.04937411198529447,
           -0.02175935664870908,
           -0.03125667204728787,
           0.6875318625397476,
           1,
           0.3204185898317906,
           0.19851940632430484,
           -0.3573352342583553,
           -0.2919207602074581,
           0.14927135782876172,
           0.10732901919056459,
           0.5107000930323244,
           0.13418614854323999,
           -0.04610814754201043,
           -0.18940645674776788,
           -0.25874861315334907,
           0.4415075817041689,
           0.3204185898317906,
           1,
           0.09710928838477938,
           -0.06542572404800877,
           0.17317172067031258,
           0.07647860519483086,
           0.04035615273124608,
           0.38855707154692376,
           0.05644881700286731,
           -0.143166088218478,
           -0.14574850408135206,
           -0.3830181530885365,
           0.158915804161428,
           0.19851940632430484,
           0.09710928838477938,
           1,
           0.2065752218508365,
           0.22097931482581662,
           -0.3623829589602012,
           -0.2169067879521321,
           -0.26319325634398494,
           -0.32779019966907014,
           0.027223690655956794,
           0.16297737828744605,
           0.10397291193033247,
           -0.5046715163997327,
           -0.3573352342583553,
           -0.06542572404800877,
           0.2065752218508365,
           1,
           0.05706970195120559,
           -0.15845185679426524,
           -0.12276542589261837,
           -0.0004949464455212462,
           -0.17429615943379076,
           -0.2940439846590482,
           -0.17427884530295673,
           -0.22627105433497086,
           -0.20062026932649987,
           -0.2919207602074581,
           0.17317172067031258,
           0.22097931482581662,
           0.05706970195120559,
           1
          ],
          "colorbar": {
           "title": {
            "text": "Correlation"
           }
          },
          "colorscale": [
           [
            0,
            "rgb(5,48,97)"
           ],
           [
            0.1,
            "rgb(33,102,172)"
           ],
           [
            0.2,
            "rgb(67,147,195)"
           ],
           [
            0.3,
            "rgb(146,197,222)"
           ],
           [
            0.4,
            "rgb(209,229,240)"
           ],
           [
            0.5,
            "rgb(247,247,247)"
           ],
           [
            0.6,
            "rgb(253,219,199)"
           ],
           [
            0.7,
            "rgb(244,165,130)"
           ],
           [
            0.8,
            "rgb(214,96,77)"
           ],
           [
            0.9,
            "rgb(178,24,43)"
           ],
           [
            1,
            "rgb(103,0,31)"
           ]
          ],
          "size": [
           46,
           43.166372200441124,
           15.404436082403283,
           45.74681387118985,
           7.049158171453015,
           6.4062474537797405,
           9.520442091522284,
           24.208073471920784,
           21.293791205442513,
           6.866482460123039,
           3.51801583896222,
           16.669616112169255,
           7.288785412536201,
           43.166372200441124,
           46,
           11.106398043960883,
           43.18993662106587,
           6.173859844444801,
           1.4488842969865545,
           10.331527968448524,
           17.605647149764724,
           18.32529737356949,
           4.937134882765971,
           1.8563830256373195,
           9.977712245798077,
           5.647209591060445,
           15.404436082403283,
           11.106398043960883,
           46,
           14.657236904231565,
           0.5752385616955791,
           9.941533691855696,
           15.259039921722115,
           30.410519747342494,
           22.712926249750332,
           23.492204279486923,
           17.873625291158493,
           12.106889791823306,
           0.022767536493977326,
           45.74681387118985,
           43.18993662106587,
           14.657236904231565,
           46,
           10.48197358160551,
           5.730634837948061,
           9.958687852725951,
           22.869804778022733,
           20.136730406382163,
           6.17256283298904,
           2.596645582131896,
           15.078349184777226,
           8.017623333954376,
           7.049158171453015,
           6.173859844444801,
           0.5752385616955791,
           10.48197358160551,
           46,
           2.82738738018565,
           8.176452698444914,
           1.0284884777128673,
           2.2712091513235455,
           2.12097478693248,
           6.5856400580499885,
           1.2522897701740126,
           13.526023294316216,
           6.4062474537797405,
           1.4488842969865545,
           9.941533691855696,
           5.730634837948061,
           2.82738738018565,
           46,
           0.5410464527799672,
           11.197836157438761,
           1.0009304058406177,
           8.712697010397322,
           6.704431187742195,
           7.496959401222518,
           8.016826883936009,
           9.520442091522284,
           10.331527968448524,
           15.259039921722115,
           9.958687852725951,
           8.176452698444914,
           0.5410464527799672,
           46,
           3.142666707316281,
           1.4378069141752419,
           11.902436205054057,
           17.61883504207268,
           4.7827539487952935,
           10.40846849940866,
           24.208073471920784,
           17.605647149764724,
           30.410519747342494,
           22.869804778022733,
           1.0284884777128673,
           11.197836157438761,
           3.142666707316281,
           46,
           31.626465676828392,
           20.30934875839177,
           7.310126991425689,
           23.214889754387706,
           9.228532389018994,
           21.293791205442513,
           18.32529737356949,
           22.712926249750332,
           20.136730406382163,
           2.2712091513235455,
           1.0009304058406177,
           1.4378069141752419,
           31.626465676828392,
           46,
           14.739255132262368,
           9.131892690918022,
           16.437420775884345,
           13.428354969543072,
           6.866482460123039,
           4.937134882765971,
           23.492204279486923,
           6.17256283298904,
           2.12097478693248,
           8.712697010397322,
           11.902436205054057,
           20.30934875839177,
           14.739255132262368,
           46,
           4.467027265699851,
           3.009583306208403,
           7.965899150834379,
           3.51801583896222,
           1.8563830256373195,
           17.873625291158493,
           2.596645582131896,
           6.5856400580499885,
           6.704431187742195,
           17.61883504207268,
           7.310126991425689,
           9.131892690918022,
           4.467027265699851,
           46,
           9.502460205138478,
           10.165048481987565,
           16.669616112169255,
           9.977712245798077,
           12.106889791823306,
           15.078349184777226,
           1.2522897701740126,
           7.496959401222518,
           4.7827539487952935,
           23.214889754387706,
           16.437420775884345,
           3.009583306208403,
           9.502460205138478,
           46,
           2.625206289755457,
           7.288785412536201,
           5.647209591060445,
           0.022767536493977326,
           8.017623333954376,
           13.526023294316216,
           8.016826883936009,
           10.40846849940866,
           9.228532389018994,
           13.428354969543072,
           7.965899150834379,
           10.165048481987565,
           2.625206289755457,
           46
          ]
         },
         "mode": "markers",
         "type": "scatter",
         "x": [
          [
           "1.",
           "1.",
           "1.",
           "1.",
           "1.",
           "1.",
           "1.",
           "1.",
           "1.",
           "1.",
           "1.",
           "1.",
           "1.",
           "1.",
           "1.",
           "1.",
           "1.",
           "1.",
           "1.",
           "1.",
           "1.",
           "1.",
           "1.",
           "1.",
           "1.",
           "1.",
           "1.",
           "1.",
           "1.",
           "1.",
           "1.",
           "1.",
           "1.",
           "1.",
           "1.",
           "1.",
           "1.",
           "1.",
           "1.",
           "1.",
           "1.",
           "1.",
           "1.",
           "1.",
           "1.",
           "1.",
           "1.",
           "1.",
           "1.",
           "1.",
           "1.",
           "1.",
           "2.",
           "2.",
           "2.",
           "2.",
           "2.",
           "2.",
           "2.",
           "2.",
           "2.",
           "2.",
           "2.",
           "2.",
           "2.",
           "2.",
           "2.",
           "2.",
           "2.",
           "2.",
           "2.",
           "2.",
           "2.",
           "2.",
           "2.",
           "2.",
           "2.",
           "2.",
           "2.",
           "2.",
           "2.",
           "2.",
           "2.",
           "2.",
           "2.",
           "2.",
           "2.",
           "2.",
           "2.",
           "2.",
           "2.",
           "3.",
           "3.",
           "3.",
           "3.",
           "3.",
           "3.",
           "3.",
           "3.",
           "3.",
           "3.",
           "3.",
           "3.",
           "3.",
           "3.",
           "3.",
           "3.",
           "3.",
           "3.",
           "3.",
           "3.",
           "3.",
           "3.",
           "3.",
           "3.",
           "3.",
           "3.",
           "3.",
           "3.",
           "3.",
           "3.",
           "3.",
           "3.",
           "3.",
           "3.",
           "3.",
           "3.",
           "3.",
           "3.",
           "3.",
           "3.",
           "3.",
           "3.",
           "3.",
           "3.",
           "3.",
           "3.",
           "3.",
           "3.",
           "3.",
           "3.",
           "3.",
           "3.",
           "3.",
           "3.",
           "3.",
           "3.",
           "3.",
           "3.",
           "3.",
           "3.",
           "3.",
           "3.",
           "3.",
           "3.",
           "3.",
           "3.",
           "3.",
           "3.",
           "3.",
           "3.",
           "3.",
           "3.",
           "3.",
           "3.",
           "3.",
           "3.",
           "3.",
           "3."
          ],
          [
           "Tot Cases/1M pop",
           "Tot Cases/1M pop",
           "Tot Cases/1M pop",
           "Tot Cases/1M pop",
           "Tot Cases/1M pop",
           "Tot Cases/1M pop",
           "Tot Cases/1M pop",
           "Tot Cases/1M pop",
           "Tot Cases/1M pop",
           "Tot Cases/1M pop",
           "Tot Cases/1M pop",
           "Tot Cases/1M pop",
           "Tot Cases/1M pop",
           "Deaths/1M pop",
           "Deaths/1M pop",
           "Deaths/1M pop",
           "Deaths/1M pop",
           "Deaths/1M pop",
           "Deaths/1M pop",
           "Deaths/1M pop",
           "Deaths/1M pop",
           "Deaths/1M pop",
           "Deaths/1M pop",
           "Deaths/1M pop",
           "Deaths/1M pop",
           "Deaths/1M pop",
           "Tests/1M pop",
           "Tests/1M pop",
           "Tests/1M pop",
           "Tests/1M pop",
           "Tests/1M pop",
           "Tests/1M pop",
           "Tests/1M pop",
           "Tests/1M pop",
           "Tests/1M pop",
           "Tests/1M pop",
           "Tests/1M pop",
           "Tests/1M pop",
           "Tests/1M pop",
           "Recovered/1M pop",
           "Recovered/1M pop",
           "Recovered/1M pop",
           "Recovered/1M pop",
           "Recovered/1M pop",
           "Recovered/1M pop",
           "Recovered/1M pop",
           "Recovered/1M pop",
           "Recovered/1M pop",
           "Recovered/1M pop",
           "Recovered/1M pop",
           "Recovered/1M pop",
           "Recovered/1M pop",
           "Recovered/1M cases",
           "Recovered/1M cases",
           "Recovered/1M cases",
           "Recovered/1M cases",
           "Recovered/1M cases",
           "Recovered/1M cases",
           "Recovered/1M cases",
           "Recovered/1M cases",
           "Recovered/1M cases",
           "Recovered/1M cases",
           "Recovered/1M cases",
           "Recovered/1M cases",
           "Recovered/1M cases",
           "Deaths/1M cases",
           "Deaths/1M cases",
           "Deaths/1M cases",
           "Deaths/1M cases",
           "Deaths/1M cases",
           "Deaths/1M cases",
           "Deaths/1M cases",
           "Deaths/1M cases",
           "Deaths/1M cases",
           "Deaths/1M cases",
           "Deaths/1M cases",
           "Deaths/1M cases",
           "Deaths/1M cases",
           "Confirmed/1M tests",
           "Confirmed/1M tests",
           "Confirmed/1M tests",
           "Confirmed/1M tests",
           "Confirmed/1M tests",
           "Confirmed/1M tests",
           "Confirmed/1M tests",
           "Confirmed/1M tests",
           "Confirmed/1M tests",
           "Confirmed/1M tests",
           "Confirmed/1M tests",
           "Confirmed/1M tests",
           "Confirmed/1M tests",
           "GDP",
           "GDP",
           "GDP",
           "GDP",
           "GDP",
           "GDP",
           "GDP",
           "GDP",
           "GDP",
           "GDP",
           "GDP",
           "GDP",
           "GDP",
           "Family",
           "Family",
           "Family",
           "Family",
           "Family",
           "Family",
           "Family",
           "Family",
           "Family",
           "Family",
           "Family",
           "Family",
           "Family",
           "Life expectancy",
           "Life expectancy",
           "Life expectancy",
           "Life expectancy",
           "Life expectancy",
           "Life expectancy",
           "Life expectancy",
           "Life expectancy",
           "Life expectancy",
           "Life expectancy",
           "Life expectancy",
           "Life expectancy",
           "Life expectancy",
           "Freedom",
           "Freedom",
           "Freedom",
           "Freedom",
           "Freedom",
           "Freedom",
           "Freedom",
           "Freedom",
           "Freedom",
           "Freedom",
           "Freedom",
           "Freedom",
           "Freedom",
           "Generosity",
           "Generosity",
           "Generosity",
           "Generosity",
           "Generosity",
           "Generosity",
           "Generosity",
           "Generosity",
           "Generosity",
           "Generosity",
           "Generosity",
           "Generosity",
           "Generosity",
           "Trust",
           "Trust",
           "Trust",
           "Trust",
           "Trust",
           "Trust",
           "Trust",
           "Trust",
           "Trust",
           "Trust",
           "Trust",
           "Trust",
           "Trust"
          ]
         ],
         "y": [
          [
           "1.",
           "1.",
           "1.",
           "1.",
           "2.",
           "2.",
           "2.",
           "3.",
           "3.",
           "3.",
           "3.",
           "3.",
           "3.",
           "1.",
           "1.",
           "1.",
           "1.",
           "2.",
           "2.",
           "2.",
           "3.",
           "3.",
           "3.",
           "3.",
           "3.",
           "3.",
           "1.",
           "1.",
           "1.",
           "1.",
           "2.",
           "2.",
           "2.",
           "3.",
           "3.",
           "3.",
           "3.",
           "3.",
           "3.",
           "1.",
           "1.",
           "1.",
           "1.",
           "2.",
           "2.",
           "2.",
           "3.",
           "3.",
           "3.",
           "3.",
           "3.",
           "3.",
           "1.",
           "1.",
           "1.",
           "1.",
           "2.",
           "2.",
           "2.",
           "3.",
           "3.",
           "3.",
           "3.",
           "3.",
           "3.",
           "1.",
           "1.",
           "1.",
           "1.",
           "2.",
           "2.",
           "2.",
           "3.",
           "3.",
           "3.",
           "3.",
           "3.",
           "3.",
           "1.",
           "1.",
           "1.",
           "1.",
           "2.",
           "2.",
           "2.",
           "3.",
           "3.",
           "3.",
           "3.",
           "3.",
           "3.",
           "1.",
           "1.",
           "1.",
           "1.",
           "2.",
           "2.",
           "2.",
           "3.",
           "3.",
           "3.",
           "3.",
           "3.",
           "3.",
           "1.",
           "1.",
           "1.",
           "1.",
           "2.",
           "2.",
           "2.",
           "3.",
           "3.",
           "3.",
           "3.",
           "3.",
           "3.",
           "1.",
           "1.",
           "1.",
           "1.",
           "2.",
           "2.",
           "2.",
           "3.",
           "3.",
           "3.",
           "3.",
           "3.",
           "3.",
           "1.",
           "1.",
           "1.",
           "1.",
           "2.",
           "2.",
           "2.",
           "3.",
           "3.",
           "3.",
           "3.",
           "3.",
           "3.",
           "1.",
           "1.",
           "1.",
           "1.",
           "2.",
           "2.",
           "2.",
           "3.",
           "3.",
           "3.",
           "3.",
           "3.",
           "3.",
           "1.",
           "1.",
           "1.",
           "1.",
           "2.",
           "2.",
           "2.",
           "3.",
           "3.",
           "3.",
           "3.",
           "3.",
           "3."
          ],
          [
           "Tot Cases/1M pop",
           "Deaths/1M pop",
           "Tests/1M pop",
           "Recovered/1M pop",
           "Recovered/1M cases",
           "Deaths/1M cases",
           "Confirmed/1M tests",
           "GDP",
           "Family",
           "Life expectancy",
           "Freedom",
           "Generosity",
           "Trust",
           "Tot Cases/1M pop",
           "Deaths/1M pop",
           "Tests/1M pop",
           "Recovered/1M pop",
           "Recovered/1M cases",
           "Deaths/1M cases",
           "Confirmed/1M tests",
           "GDP",
           "Family",
           "Life expectancy",
           "Freedom",
           "Generosity",
           "Trust",
           "Tot Cases/1M pop",
           "Deaths/1M pop",
           "Tests/1M pop",
           "Recovered/1M pop",
           "Recovered/1M cases",
           "Deaths/1M cases",
           "Confirmed/1M tests",
           "GDP",
           "Family",
           "Life expectancy",
           "Freedom",
           "Generosity",
           "Trust",
           "Tot Cases/1M pop",
           "Deaths/1M pop",
           "Tests/1M pop",
           "Recovered/1M pop",
           "Recovered/1M cases",
           "Deaths/1M cases",
           "Confirmed/1M tests",
           "GDP",
           "Family",
           "Life expectancy",
           "Freedom",
           "Generosity",
           "Trust",
           "Tot Cases/1M pop",
           "Deaths/1M pop",
           "Tests/1M pop",
           "Recovered/1M pop",
           "Recovered/1M cases",
           "Deaths/1M cases",
           "Confirmed/1M tests",
           "GDP",
           "Family",
           "Life expectancy",
           "Freedom",
           "Generosity",
           "Trust",
           "Tot Cases/1M pop",
           "Deaths/1M pop",
           "Tests/1M pop",
           "Recovered/1M pop",
           "Recovered/1M cases",
           "Deaths/1M cases",
           "Confirmed/1M tests",
           "GDP",
           "Family",
           "Life expectancy",
           "Freedom",
           "Generosity",
           "Trust",
           "Tot Cases/1M pop",
           "Deaths/1M pop",
           "Tests/1M pop",
           "Recovered/1M pop",
           "Recovered/1M cases",
           "Deaths/1M cases",
           "Confirmed/1M tests",
           "GDP",
           "Family",
           "Life expectancy",
           "Freedom",
           "Generosity",
           "Trust",
           "Tot Cases/1M pop",
           "Deaths/1M pop",
           "Tests/1M pop",
           "Recovered/1M pop",
           "Recovered/1M cases",
           "Deaths/1M cases",
           "Confirmed/1M tests",
           "GDP",
           "Family",
           "Life expectancy",
           "Freedom",
           "Generosity",
           "Trust",
           "Tot Cases/1M pop",
           "Deaths/1M pop",
           "Tests/1M pop",
           "Recovered/1M pop",
           "Recovered/1M cases",
           "Deaths/1M cases",
           "Confirmed/1M tests",
           "GDP",
           "Family",
           "Life expectancy",
           "Freedom",
           "Generosity",
           "Trust",
           "Tot Cases/1M pop",
           "Deaths/1M pop",
           "Tests/1M pop",
           "Recovered/1M pop",
           "Recovered/1M cases",
           "Deaths/1M cases",
           "Confirmed/1M tests",
           "GDP",
           "Family",
           "Life expectancy",
           "Freedom",
           "Generosity",
           "Trust",
           "Tot Cases/1M pop",
           "Deaths/1M pop",
           "Tests/1M pop",
           "Recovered/1M pop",
           "Recovered/1M cases",
           "Deaths/1M cases",
           "Confirmed/1M tests",
           "GDP",
           "Family",
           "Life expectancy",
           "Freedom",
           "Generosity",
           "Trust",
           "Tot Cases/1M pop",
           "Deaths/1M pop",
           "Tests/1M pop",
           "Recovered/1M pop",
           "Recovered/1M cases",
           "Deaths/1M cases",
           "Confirmed/1M tests",
           "GDP",
           "Family",
           "Life expectancy",
           "Freedom",
           "Generosity",
           "Trust",
           "Tot Cases/1M pop",
           "Deaths/1M pop",
           "Tests/1M pop",
           "Recovered/1M pop",
           "Recovered/1M cases",
           "Deaths/1M cases",
           "Confirmed/1M tests",
           "GDP",
           "Family",
           "Life expectancy",
           "Freedom",
           "Generosity",
           "Trust"
          ]
         ]
        }
       ],
       "layout": {
        "font": {
         "size": 15
        },
        "height": 885,
        "template": {
         "data": {
          "bar": [
           {
            "error_x": {
             "color": "#2a3f5f"
            },
            "error_y": {
             "color": "#2a3f5f"
            },
            "marker": {
             "line": {
              "color": "#E5ECF6",
              "width": 0.5
             }
            },
            "type": "bar"
           }
          ],
          "barpolar": [
           {
            "marker": {
             "line": {
              "color": "#E5ECF6",
              "width": 0.5
             }
            },
            "type": "barpolar"
           }
          ],
          "carpet": [
           {
            "aaxis": {
             "endlinecolor": "#2a3f5f",
             "gridcolor": "white",
             "linecolor": "white",
             "minorgridcolor": "white",
             "startlinecolor": "#2a3f5f"
            },
            "baxis": {
             "endlinecolor": "#2a3f5f",
             "gridcolor": "white",
             "linecolor": "white",
             "minorgridcolor": "white",
             "startlinecolor": "#2a3f5f"
            },
            "type": "carpet"
           }
          ],
          "choropleth": [
           {
            "colorbar": {
             "outlinewidth": 0,
             "ticks": ""
            },
            "type": "choropleth"
           }
          ],
          "contour": [
           {
            "colorbar": {
             "outlinewidth": 0,
             "ticks": ""
            },
            "colorscale": [
             [
              0,
              "#0d0887"
             ],
             [
              0.1111111111111111,
              "#46039f"
             ],
             [
              0.2222222222222222,
              "#7201a8"
             ],
             [
              0.3333333333333333,
              "#9c179e"
             ],
             [
              0.4444444444444444,
              "#bd3786"
             ],
             [
              0.5555555555555556,
              "#d8576b"
             ],
             [
              0.6666666666666666,
              "#ed7953"
             ],
             [
              0.7777777777777778,
              "#fb9f3a"
             ],
             [
              0.8888888888888888,
              "#fdca26"
             ],
             [
              1,
              "#f0f921"
             ]
            ],
            "type": "contour"
           }
          ],
          "contourcarpet": [
           {
            "colorbar": {
             "outlinewidth": 0,
             "ticks": ""
            },
            "type": "contourcarpet"
           }
          ],
          "heatmap": [
           {
            "colorbar": {
             "outlinewidth": 0,
             "ticks": ""
            },
            "colorscale": [
             [
              0,
              "#0d0887"
             ],
             [
              0.1111111111111111,
              "#46039f"
             ],
             [
              0.2222222222222222,
              "#7201a8"
             ],
             [
              0.3333333333333333,
              "#9c179e"
             ],
             [
              0.4444444444444444,
              "#bd3786"
             ],
             [
              0.5555555555555556,
              "#d8576b"
             ],
             [
              0.6666666666666666,
              "#ed7953"
             ],
             [
              0.7777777777777778,
              "#fb9f3a"
             ],
             [
              0.8888888888888888,
              "#fdca26"
             ],
             [
              1,
              "#f0f921"
             ]
            ],
            "type": "heatmap"
           }
          ],
          "heatmapgl": [
           {
            "colorbar": {
             "outlinewidth": 0,
             "ticks": ""
            },
            "colorscale": [
             [
              0,
              "#0d0887"
             ],
             [
              0.1111111111111111,
              "#46039f"
             ],
             [
              0.2222222222222222,
              "#7201a8"
             ],
             [
              0.3333333333333333,
              "#9c179e"
             ],
             [
              0.4444444444444444,
              "#bd3786"
             ],
             [
              0.5555555555555556,
              "#d8576b"
             ],
             [
              0.6666666666666666,
              "#ed7953"
             ],
             [
              0.7777777777777778,
              "#fb9f3a"
             ],
             [
              0.8888888888888888,
              "#fdca26"
             ],
             [
              1,
              "#f0f921"
             ]
            ],
            "type": "heatmapgl"
           }
          ],
          "histogram": [
           {
            "marker": {
             "colorbar": {
              "outlinewidth": 0,
              "ticks": ""
             }
            },
            "type": "histogram"
           }
          ],
          "histogram2d": [
           {
            "colorbar": {
             "outlinewidth": 0,
             "ticks": ""
            },
            "colorscale": [
             [
              0,
              "#0d0887"
             ],
             [
              0.1111111111111111,
              "#46039f"
             ],
             [
              0.2222222222222222,
              "#7201a8"
             ],
             [
              0.3333333333333333,
              "#9c179e"
             ],
             [
              0.4444444444444444,
              "#bd3786"
             ],
             [
              0.5555555555555556,
              "#d8576b"
             ],
             [
              0.6666666666666666,
              "#ed7953"
             ],
             [
              0.7777777777777778,
              "#fb9f3a"
             ],
             [
              0.8888888888888888,
              "#fdca26"
             ],
             [
              1,
              "#f0f921"
             ]
            ],
            "type": "histogram2d"
           }
          ],
          "histogram2dcontour": [
           {
            "colorbar": {
             "outlinewidth": 0,
             "ticks": ""
            },
            "colorscale": [
             [
              0,
              "#0d0887"
             ],
             [
              0.1111111111111111,
              "#46039f"
             ],
             [
              0.2222222222222222,
              "#7201a8"
             ],
             [
              0.3333333333333333,
              "#9c179e"
             ],
             [
              0.4444444444444444,
              "#bd3786"
             ],
             [
              0.5555555555555556,
              "#d8576b"
             ],
             [
              0.6666666666666666,
              "#ed7953"
             ],
             [
              0.7777777777777778,
              "#fb9f3a"
             ],
             [
              0.8888888888888888,
              "#fdca26"
             ],
             [
              1,
              "#f0f921"
             ]
            ],
            "type": "histogram2dcontour"
           }
          ],
          "mesh3d": [
           {
            "colorbar": {
             "outlinewidth": 0,
             "ticks": ""
            },
            "type": "mesh3d"
           }
          ],
          "parcoords": [
           {
            "line": {
             "colorbar": {
              "outlinewidth": 0,
              "ticks": ""
             }
            },
            "type": "parcoords"
           }
          ],
          "pie": [
           {
            "automargin": true,
            "type": "pie"
           }
          ],
          "scatter": [
           {
            "marker": {
             "colorbar": {
              "outlinewidth": 0,
              "ticks": ""
             }
            },
            "type": "scatter"
           }
          ],
          "scatter3d": [
           {
            "line": {
             "colorbar": {
              "outlinewidth": 0,
              "ticks": ""
             }
            },
            "marker": {
             "colorbar": {
              "outlinewidth": 0,
              "ticks": ""
             }
            },
            "type": "scatter3d"
           }
          ],
          "scattercarpet": [
           {
            "marker": {
             "colorbar": {
              "outlinewidth": 0,
              "ticks": ""
             }
            },
            "type": "scattercarpet"
           }
          ],
          "scattergeo": [
           {
            "marker": {
             "colorbar": {
              "outlinewidth": 0,
              "ticks": ""
             }
            },
            "type": "scattergeo"
           }
          ],
          "scattergl": [
           {
            "marker": {
             "colorbar": {
              "outlinewidth": 0,
              "ticks": ""
             }
            },
            "type": "scattergl"
           }
          ],
          "scattermapbox": [
           {
            "marker": {
             "colorbar": {
              "outlinewidth": 0,
              "ticks": ""
             }
            },
            "type": "scattermapbox"
           }
          ],
          "scatterpolar": [
           {
            "marker": {
             "colorbar": {
              "outlinewidth": 0,
              "ticks": ""
             }
            },
            "type": "scatterpolar"
           }
          ],
          "scatterpolargl": [
           {
            "marker": {
             "colorbar": {
              "outlinewidth": 0,
              "ticks": ""
             }
            },
            "type": "scatterpolargl"
           }
          ],
          "scatterternary": [
           {
            "marker": {
             "colorbar": {
              "outlinewidth": 0,
              "ticks": ""
             }
            },
            "type": "scatterternary"
           }
          ],
          "surface": [
           {
            "colorbar": {
             "outlinewidth": 0,
             "ticks": ""
            },
            "colorscale": [
             [
              0,
              "#0d0887"
             ],
             [
              0.1111111111111111,
              "#46039f"
             ],
             [
              0.2222222222222222,
              "#7201a8"
             ],
             [
              0.3333333333333333,
              "#9c179e"
             ],
             [
              0.4444444444444444,
              "#bd3786"
             ],
             [
              0.5555555555555556,
              "#d8576b"
             ],
             [
              0.6666666666666666,
              "#ed7953"
             ],
             [
              0.7777777777777778,
              "#fb9f3a"
             ],
             [
              0.8888888888888888,
              "#fdca26"
             ],
             [
              1,
              "#f0f921"
             ]
            ],
            "type": "surface"
           }
          ],
          "table": [
           {
            "cells": {
             "fill": {
              "color": "#EBF0F8"
             },
             "line": {
              "color": "white"
             }
            },
            "header": {
             "fill": {
              "color": "#C8D4E3"
             },
             "line": {
              "color": "white"
             }
            },
            "type": "table"
           }
          ]
         },
         "layout": {
          "annotationdefaults": {
           "arrowcolor": "#2a3f5f",
           "arrowhead": 0,
           "arrowwidth": 1
          },
          "coloraxis": {
           "colorbar": {
            "outlinewidth": 0,
            "ticks": ""
           }
          },
          "colorscale": {
           "diverging": [
            [
             0,
             "#8e0152"
            ],
            [
             0.1,
             "#c51b7d"
            ],
            [
             0.2,
             "#de77ae"
            ],
            [
             0.3,
             "#f1b6da"
            ],
            [
             0.4,
             "#fde0ef"
            ],
            [
             0.5,
             "#f7f7f7"
            ],
            [
             0.6,
             "#e6f5d0"
            ],
            [
             0.7,
             "#b8e186"
            ],
            [
             0.8,
             "#7fbc41"
            ],
            [
             0.9,
             "#4d9221"
            ],
            [
             1,
             "#276419"
            ]
           ],
           "sequential": [
            [
             0,
             "#0d0887"
            ],
            [
             0.1111111111111111,
             "#46039f"
            ],
            [
             0.2222222222222222,
             "#7201a8"
            ],
            [
             0.3333333333333333,
             "#9c179e"
            ],
            [
             0.4444444444444444,
             "#bd3786"
            ],
            [
             0.5555555555555556,
             "#d8576b"
            ],
            [
             0.6666666666666666,
             "#ed7953"
            ],
            [
             0.7777777777777778,
             "#fb9f3a"
            ],
            [
             0.8888888888888888,
             "#fdca26"
            ],
            [
             1,
             "#f0f921"
            ]
           ],
           "sequentialminus": [
            [
             0,
             "#0d0887"
            ],
            [
             0.1111111111111111,
             "#46039f"
            ],
            [
             0.2222222222222222,
             "#7201a8"
            ],
            [
             0.3333333333333333,
             "#9c179e"
            ],
            [
             0.4444444444444444,
             "#bd3786"
            ],
            [
             0.5555555555555556,
             "#d8576b"
            ],
            [
             0.6666666666666666,
             "#ed7953"
            ],
            [
             0.7777777777777778,
             "#fb9f3a"
            ],
            [
             0.8888888888888888,
             "#fdca26"
            ],
            [
             1,
             "#f0f921"
            ]
           ]
          },
          "colorway": [
           "#636efa",
           "#EF553B",
           "#00cc96",
           "#ab63fa",
           "#FFA15A",
           "#19d3f3",
           "#FF6692",
           "#B6E880",
           "#FF97FF",
           "#FECB52"
          ],
          "font": {
           "color": "#2a3f5f"
          },
          "geo": {
           "bgcolor": "white",
           "lakecolor": "white",
           "landcolor": "#E5ECF6",
           "showlakes": true,
           "showland": true,
           "subunitcolor": "white"
          },
          "hoverlabel": {
           "align": "left"
          },
          "hovermode": "closest",
          "mapbox": {
           "style": "light"
          },
          "paper_bgcolor": "white",
          "plot_bgcolor": "#E5ECF6",
          "polar": {
           "angularaxis": {
            "gridcolor": "white",
            "linecolor": "white",
            "ticks": ""
           },
           "bgcolor": "#E5ECF6",
           "radialaxis": {
            "gridcolor": "white",
            "linecolor": "white",
            "ticks": ""
           }
          },
          "scene": {
           "xaxis": {
            "backgroundcolor": "#E5ECF6",
            "gridcolor": "white",
            "gridwidth": 2,
            "linecolor": "white",
            "showbackground": true,
            "ticks": "",
            "zerolinecolor": "white"
           },
           "yaxis": {
            "backgroundcolor": "#E5ECF6",
            "gridcolor": "white",
            "gridwidth": 2,
            "linecolor": "white",
            "showbackground": true,
            "ticks": "",
            "zerolinecolor": "white"
           },
           "zaxis": {
            "backgroundcolor": "#E5ECF6",
            "gridcolor": "white",
            "gridwidth": 2,
            "linecolor": "white",
            "showbackground": true,
            "ticks": "",
            "zerolinecolor": "white"
           }
          },
          "shapedefaults": {
           "line": {
            "color": "#2a3f5f"
           }
          },
          "ternary": {
           "aaxis": {
            "gridcolor": "white",
            "linecolor": "white",
            "ticks": ""
           },
           "baxis": {
            "gridcolor": "white",
            "linecolor": "white",
            "ticks": ""
           },
           "bgcolor": "#E5ECF6",
           "caxis": {
            "gridcolor": "white",
            "linecolor": "white",
            "ticks": ""
           }
          },
          "title": {
           "x": 0.05
          },
          "xaxis": {
           "automargin": true,
           "gridcolor": "white",
           "linecolor": "white",
           "ticks": "",
           "title": {
            "standoff": 15
           },
           "zerolinecolor": "white",
           "zerolinewidth": 2
          },
          "yaxis": {
           "automargin": true,
           "gridcolor": "white",
           "linecolor": "white",
           "ticks": "",
           "title": {
            "standoff": 15
           },
           "zerolinecolor": "white",
           "zerolinewidth": 2
          }
         }
        },
        "title": {
         "text": "Africa: 36 countries"
        },
        "width": 885,
        "xaxis": {
         "range": [
          0.5,
          12.5
         ],
         "showgrid": true,
         "ticklen": 0,
         "ticks": "outside",
         "tickson": "boundaries"
        },
        "yaxis": {
         "range": [
          0.5,
          12.5
         ],
         "showgrid": true,
         "ticklen": 0,
         "ticks": "outside",
         "tickson": "boundaries"
        }
       }
      },
      "text/html": [
       "<div>\n",
       "        \n",
       "        \n",
       "            <div id=\"a96d7876-87c7-423b-aa85-ebd9223abd5b\" class=\"plotly-graph-div\" style=\"height:885px; width:885px;\"></div>\n",
       "            <script type=\"text/javascript\">\n",
       "                require([\"plotly\"], function(Plotly) {\n",
       "                    window.PLOTLYENV=window.PLOTLYENV || {};\n",
       "                    \n",
       "                if (document.getElementById(\"a96d7876-87c7-423b-aa85-ebd9223abd5b\")) {\n",
       "                    Plotly.newPlot(\n",
       "                        'a96d7876-87c7-423b-aa85-ebd9223abd5b',\n",
       "                        [{\"hoverinfo\": \"text\", \"hovertext\": [\"1.0\", \"0.9383993956617636\", \"0.3348790452696366\", \"0.9944959537215186\", \"0.15324256894463076\", \"-0.13926624899521176\", \"0.2069661324243975\", \"0.5262624667808866\", \"0.46290850446614157\", \"0.14927135782876172\", \"0.07647860519483086\", \"-0.3623829589602012\", \"-0.15845185679426524\", \"0.9383993956617636\", \"1.0\", \"0.24144343573828006\", \"0.938911665675345\", \"0.1342143444444522\", \"0.03149748471709901\", \"0.22459843409670704\", \"0.382731459777494\", \"0.3983760298602063\", \"0.10732901919056459\", \"0.04035615273124608\", \"-0.2169067879521321\", \"-0.12276542589261837\", \"0.3348790452696366\", \"0.24144343573828006\", \"1.0\", \"0.31863558487459925\", \"0.012505186123816937\", \"-0.21612029764903687\", \"-0.33171825916787206\", \"0.6610982553770107\", \"0.49375926629892025\", \"0.5107000930323244\", \"0.38855707154692376\", \"-0.26319325634398494\", \"-0.0004949464455212462\", \"0.9944959537215186\", \"0.938911665675345\", \"0.31863558487459925\", \"1.0\", \"0.22786899090446763\", \"-0.1245790182162622\", \"0.21649321418969458\", \"0.4971696690874507\", \"0.4377550088343949\", \"0.13418614854323999\", \"0.05644881700286731\", \"-0.32779019966907014\", \"-0.17429615943379076\", \"0.15324256894463076\", \"0.1342143444444522\", \"0.012505186123816937\", \"0.22786899090446763\", \"1.0\", \"0.061464943047514126\", \"0.17774897170532422\", \"-0.022358445167671027\", \"-0.04937411198529447\", \"-0.04610814754201043\", \"-0.143166088218478\", \"0.027223690655956794\", \"-0.2940439846590482\", \"-0.13926624899521176\", \"0.03149748471709901\", \"-0.21612029764903687\", \"-0.1245790182162622\", \"0.061464943047514126\", \"1.0\", \"-0.011761879408260156\", \"-0.24343122081388613\", \"-0.02175935664870908\", \"-0.18940645674776788\", \"-0.14574850408135206\", \"0.16297737828744605\", \"-0.17427884530295673\", \"0.2069661324243975\", \"0.22459843409670704\", \"-0.33171825916787206\", \"0.21649321418969458\", \"0.17774897170532422\", \"-0.011761879408260156\", \"1.0\", \"-0.06831884146339741\", \"-0.03125667204728787\", \"-0.25874861315334907\", \"-0.3830181530885365\", \"0.10397291193033247\", \"-0.22627105433497086\", \"0.5262624667808866\", \"0.382731459777494\", \"0.6610982553770107\", \"0.4971696690874507\", \"-0.022358445167671027\", \"-0.24343122081388613\", \"-0.06831884146339741\", \"1.0\", \"0.6875318625397476\", \"0.4415075817041689\", \"0.158915804161428\", \"-0.5046715163997327\", \"-0.20062026932649987\", \"0.46290850446614157\", \"0.3983760298602063\", \"0.49375926629892025\", \"0.4377550088343949\", \"-0.04937411198529447\", \"-0.02175935664870908\", \"-0.03125667204728787\", \"0.6875318625397476\", \"1.0\", \"0.3204185898317906\", \"0.19851940632430484\", \"-0.3573352342583553\", \"-0.2919207602074581\", \"0.14927135782876172\", \"0.10732901919056459\", \"0.5107000930323244\", \"0.13418614854323999\", \"-0.04610814754201043\", \"-0.18940645674776788\", \"-0.25874861315334907\", \"0.4415075817041689\", \"0.3204185898317906\", \"1.0\", \"0.09710928838477938\", \"-0.06542572404800877\", \"0.17317172067031258\", \"0.07647860519483086\", \"0.04035615273124608\", \"0.38855707154692376\", \"0.05644881700286731\", \"-0.143166088218478\", \"-0.14574850408135206\", \"-0.3830181530885365\", \"0.158915804161428\", \"0.19851940632430484\", \"0.09710928838477938\", \"1.0\", \"0.2065752218508365\", \"0.22097931482581662\", \"-0.3623829589602012\", \"-0.2169067879521321\", \"-0.26319325634398494\", \"-0.32779019966907014\", \"0.027223690655956794\", \"0.16297737828744605\", \"0.10397291193033247\", \"-0.5046715163997327\", \"-0.3573352342583553\", \"-0.06542572404800877\", \"0.2065752218508365\", \"1.0\", \"0.05706970195120559\", \"-0.15845185679426524\", \"-0.12276542589261837\", \"-0.0004949464455212462\", \"-0.17429615943379076\", \"-0.2940439846590482\", \"-0.17427884530295673\", \"-0.22627105433497086\", \"-0.20062026932649987\", \"-0.2919207602074581\", \"0.17317172067031258\", \"0.22097931482581662\", \"0.05706970195120559\", \"1.0\"], \"marker\": {\"cmid\": 0, \"color\": [1.0, 0.9383993956617636, 0.3348790452696366, 0.9944959537215186, 0.15324256894463076, -0.13926624899521176, 0.2069661324243975, 0.5262624667808866, 0.46290850446614157, 0.14927135782876172, 0.07647860519483086, -0.3623829589602012, -0.15845185679426524, 0.9383993956617636, 1.0, 0.24144343573828006, 0.938911665675345, 0.1342143444444522, 0.03149748471709901, 0.22459843409670704, 0.382731459777494, 0.3983760298602063, 0.10732901919056459, 0.04035615273124608, -0.2169067879521321, -0.12276542589261837, 0.3348790452696366, 0.24144343573828006, 1.0, 0.31863558487459925, 0.012505186123816937, -0.21612029764903687, -0.33171825916787206, 0.6610982553770107, 0.49375926629892025, 0.5107000930323244, 0.38855707154692376, -0.26319325634398494, -0.0004949464455212462, 0.9944959537215186, 0.938911665675345, 0.31863558487459925, 1.0, 0.22786899090446763, -0.1245790182162622, 0.21649321418969458, 0.4971696690874507, 0.4377550088343949, 0.13418614854323999, 0.05644881700286731, -0.32779019966907014, -0.17429615943379076, 0.15324256894463076, 0.1342143444444522, 0.012505186123816937, 0.22786899090446763, 1.0, 0.061464943047514126, 0.17774897170532422, -0.022358445167671027, -0.04937411198529447, -0.04610814754201043, -0.143166088218478, 0.027223690655956794, -0.2940439846590482, -0.13926624899521176, 0.03149748471709901, -0.21612029764903687, -0.1245790182162622, 0.061464943047514126, 1.0, -0.011761879408260156, -0.24343122081388613, -0.02175935664870908, -0.18940645674776788, -0.14574850408135206, 0.16297737828744605, -0.17427884530295673, 0.2069661324243975, 0.22459843409670704, -0.33171825916787206, 0.21649321418969458, 0.17774897170532422, -0.011761879408260156, 1.0, -0.06831884146339741, -0.03125667204728787, -0.25874861315334907, -0.3830181530885365, 0.10397291193033247, -0.22627105433497086, 0.5262624667808866, 0.382731459777494, 0.6610982553770107, 0.4971696690874507, -0.022358445167671027, -0.24343122081388613, -0.06831884146339741, 1.0, 0.6875318625397476, 0.4415075817041689, 0.158915804161428, -0.5046715163997327, -0.20062026932649987, 0.46290850446614157, 0.3983760298602063, 0.49375926629892025, 0.4377550088343949, -0.04937411198529447, -0.02175935664870908, -0.03125667204728787, 0.6875318625397476, 1.0, 0.3204185898317906, 0.19851940632430484, -0.3573352342583553, -0.2919207602074581, 0.14927135782876172, 0.10732901919056459, 0.5107000930323244, 0.13418614854323999, -0.04610814754201043, -0.18940645674776788, -0.25874861315334907, 0.4415075817041689, 0.3204185898317906, 1.0, 0.09710928838477938, -0.06542572404800877, 0.17317172067031258, 0.07647860519483086, 0.04035615273124608, 0.38855707154692376, 0.05644881700286731, -0.143166088218478, -0.14574850408135206, -0.3830181530885365, 0.158915804161428, 0.19851940632430484, 0.09710928838477938, 1.0, 0.2065752218508365, 0.22097931482581662, -0.3623829589602012, -0.2169067879521321, -0.26319325634398494, -0.32779019966907014, 0.027223690655956794, 0.16297737828744605, 0.10397291193033247, -0.5046715163997327, -0.3573352342583553, -0.06542572404800877, 0.2065752218508365, 1.0, 0.05706970195120559, -0.15845185679426524, -0.12276542589261837, -0.0004949464455212462, -0.17429615943379076, -0.2940439846590482, -0.17427884530295673, -0.22627105433497086, -0.20062026932649987, -0.2919207602074581, 0.17317172067031258, 0.22097931482581662, 0.05706970195120559, 1.0], \"colorbar\": {\"title\": {\"text\": \"Correlation\"}}, \"colorscale\": [[0.0, \"rgb(5,48,97)\"], [0.1, \"rgb(33,102,172)\"], [0.2, \"rgb(67,147,195)\"], [0.3, \"rgb(146,197,222)\"], [0.4, \"rgb(209,229,240)\"], [0.5, \"rgb(247,247,247)\"], [0.6, \"rgb(253,219,199)\"], [0.7, \"rgb(244,165,130)\"], [0.8, \"rgb(214,96,77)\"], [0.9, \"rgb(178,24,43)\"], [1.0, \"rgb(103,0,31)\"]], \"size\": [46.0, 43.166372200441124, 15.404436082403283, 45.74681387118985, 7.049158171453015, 6.4062474537797405, 9.520442091522284, 24.208073471920784, 21.293791205442513, 6.866482460123039, 3.51801583896222, 16.669616112169255, 7.288785412536201, 43.166372200441124, 46.0, 11.106398043960883, 43.18993662106587, 6.173859844444801, 1.4488842969865545, 10.331527968448524, 17.605647149764724, 18.32529737356949, 4.937134882765971, 1.8563830256373195, 9.977712245798077, 5.647209591060445, 15.404436082403283, 11.106398043960883, 46.0, 14.657236904231565, 0.5752385616955791, 9.941533691855696, 15.259039921722115, 30.410519747342494, 22.712926249750332, 23.492204279486923, 17.873625291158493, 12.106889791823306, 0.022767536493977326, 45.74681387118985, 43.18993662106587, 14.657236904231565, 46.0, 10.48197358160551, 5.730634837948061, 9.958687852725951, 22.869804778022733, 20.136730406382163, 6.17256283298904, 2.596645582131896, 15.078349184777226, 8.017623333954376, 7.049158171453015, 6.173859844444801, 0.5752385616955791, 10.48197358160551, 46.0, 2.82738738018565, 8.176452698444914, 1.0284884777128673, 2.2712091513235455, 2.12097478693248, 6.5856400580499885, 1.2522897701740126, 13.526023294316216, 6.4062474537797405, 1.4488842969865545, 9.941533691855696, 5.730634837948061, 2.82738738018565, 46.0, 0.5410464527799672, 11.197836157438761, 1.0009304058406177, 8.712697010397322, 6.704431187742195, 7.496959401222518, 8.016826883936009, 9.520442091522284, 10.331527968448524, 15.259039921722115, 9.958687852725951, 8.176452698444914, 0.5410464527799672, 46.0, 3.142666707316281, 1.4378069141752419, 11.902436205054057, 17.61883504207268, 4.7827539487952935, 10.40846849940866, 24.208073471920784, 17.605647149764724, 30.410519747342494, 22.869804778022733, 1.0284884777128673, 11.197836157438761, 3.142666707316281, 46.0, 31.626465676828392, 20.30934875839177, 7.310126991425689, 23.214889754387706, 9.228532389018994, 21.293791205442513, 18.32529737356949, 22.712926249750332, 20.136730406382163, 2.2712091513235455, 1.0009304058406177, 1.4378069141752419, 31.626465676828392, 46.0, 14.739255132262368, 9.131892690918022, 16.437420775884345, 13.428354969543072, 6.866482460123039, 4.937134882765971, 23.492204279486923, 6.17256283298904, 2.12097478693248, 8.712697010397322, 11.902436205054057, 20.30934875839177, 14.739255132262368, 46.0, 4.467027265699851, 3.009583306208403, 7.965899150834379, 3.51801583896222, 1.8563830256373195, 17.873625291158493, 2.596645582131896, 6.5856400580499885, 6.704431187742195, 17.61883504207268, 7.310126991425689, 9.131892690918022, 4.467027265699851, 46.0, 9.502460205138478, 10.165048481987565, 16.669616112169255, 9.977712245798077, 12.106889791823306, 15.078349184777226, 1.2522897701740126, 7.496959401222518, 4.7827539487952935, 23.214889754387706, 16.437420775884345, 3.009583306208403, 9.502460205138478, 46.0, 2.625206289755457, 7.288785412536201, 5.647209591060445, 0.022767536493977326, 8.017623333954376, 13.526023294316216, 8.016826883936009, 10.40846849940866, 9.228532389018994, 13.428354969543072, 7.965899150834379, 10.165048481987565, 2.625206289755457, 46.0]}, \"mode\": \"markers\", \"type\": \"scatter\", \"x\": [[\"1.\", \"1.\", \"1.\", \"1.\", \"1.\", \"1.\", \"1.\", \"1.\", \"1.\", \"1.\", \"1.\", \"1.\", \"1.\", \"1.\", \"1.\", \"1.\", \"1.\", \"1.\", \"1.\", \"1.\", \"1.\", \"1.\", \"1.\", \"1.\", \"1.\", \"1.\", \"1.\", \"1.\", \"1.\", \"1.\", \"1.\", \"1.\", \"1.\", \"1.\", \"1.\", \"1.\", \"1.\", \"1.\", \"1.\", \"1.\", \"1.\", \"1.\", \"1.\", \"1.\", \"1.\", \"1.\", \"1.\", \"1.\", \"1.\", \"1.\", \"1.\", \"1.\", \"2.\", \"2.\", \"2.\", \"2.\", \"2.\", \"2.\", \"2.\", \"2.\", \"2.\", \"2.\", \"2.\", \"2.\", \"2.\", \"2.\", \"2.\", \"2.\", \"2.\", \"2.\", \"2.\", \"2.\", \"2.\", \"2.\", \"2.\", \"2.\", \"2.\", \"2.\", \"2.\", \"2.\", \"2.\", \"2.\", \"2.\", \"2.\", \"2.\", \"2.\", \"2.\", \"2.\", \"2.\", \"2.\", \"2.\", \"3.\", \"3.\", \"3.\", \"3.\", \"3.\", \"3.\", \"3.\", \"3.\", \"3.\", \"3.\", \"3.\", \"3.\", \"3.\", \"3.\", \"3.\", \"3.\", \"3.\", \"3.\", \"3.\", \"3.\", \"3.\", \"3.\", \"3.\", \"3.\", \"3.\", \"3.\", \"3.\", \"3.\", \"3.\", \"3.\", \"3.\", \"3.\", \"3.\", \"3.\", \"3.\", \"3.\", \"3.\", \"3.\", \"3.\", \"3.\", \"3.\", \"3.\", \"3.\", \"3.\", \"3.\", \"3.\", \"3.\", \"3.\", \"3.\", \"3.\", \"3.\", \"3.\", \"3.\", \"3.\", \"3.\", \"3.\", \"3.\", \"3.\", \"3.\", \"3.\", \"3.\", \"3.\", \"3.\", \"3.\", \"3.\", \"3.\", \"3.\", \"3.\", \"3.\", \"3.\", \"3.\", \"3.\", \"3.\", \"3.\", \"3.\", \"3.\", \"3.\", \"3.\"], [\"Tot Cases/1M pop\", \"Tot Cases/1M pop\", \"Tot Cases/1M pop\", \"Tot Cases/1M pop\", \"Tot Cases/1M pop\", \"Tot Cases/1M pop\", \"Tot Cases/1M pop\", \"Tot Cases/1M pop\", \"Tot Cases/1M pop\", \"Tot Cases/1M pop\", \"Tot Cases/1M pop\", \"Tot Cases/1M pop\", \"Tot Cases/1M pop\", \"Deaths/1M pop\", \"Deaths/1M pop\", \"Deaths/1M pop\", \"Deaths/1M pop\", \"Deaths/1M pop\", \"Deaths/1M pop\", \"Deaths/1M pop\", \"Deaths/1M pop\", \"Deaths/1M pop\", \"Deaths/1M pop\", \"Deaths/1M pop\", \"Deaths/1M pop\", \"Deaths/1M pop\", \"Tests/1M pop\", \"Tests/1M pop\", \"Tests/1M pop\", \"Tests/1M pop\", \"Tests/1M pop\", \"Tests/1M pop\", \"Tests/1M pop\", \"Tests/1M pop\", \"Tests/1M pop\", \"Tests/1M pop\", \"Tests/1M pop\", \"Tests/1M pop\", \"Tests/1M pop\", \"Recovered/1M pop\", \"Recovered/1M pop\", \"Recovered/1M pop\", \"Recovered/1M pop\", \"Recovered/1M pop\", \"Recovered/1M pop\", \"Recovered/1M pop\", \"Recovered/1M pop\", \"Recovered/1M pop\", \"Recovered/1M pop\", \"Recovered/1M pop\", \"Recovered/1M pop\", \"Recovered/1M pop\", \"Recovered/1M cases\", \"Recovered/1M cases\", \"Recovered/1M cases\", \"Recovered/1M cases\", \"Recovered/1M cases\", \"Recovered/1M cases\", \"Recovered/1M cases\", \"Recovered/1M cases\", \"Recovered/1M cases\", \"Recovered/1M cases\", \"Recovered/1M cases\", \"Recovered/1M cases\", \"Recovered/1M cases\", \"Deaths/1M cases\", \"Deaths/1M cases\", \"Deaths/1M cases\", \"Deaths/1M cases\", \"Deaths/1M cases\", \"Deaths/1M cases\", \"Deaths/1M cases\", \"Deaths/1M cases\", \"Deaths/1M cases\", \"Deaths/1M cases\", \"Deaths/1M cases\", \"Deaths/1M cases\", \"Deaths/1M cases\", \"Confirmed/1M tests\", \"Confirmed/1M tests\", \"Confirmed/1M tests\", \"Confirmed/1M tests\", \"Confirmed/1M tests\", \"Confirmed/1M tests\", \"Confirmed/1M tests\", \"Confirmed/1M tests\", \"Confirmed/1M tests\", \"Confirmed/1M tests\", \"Confirmed/1M tests\", \"Confirmed/1M tests\", \"Confirmed/1M tests\", \"GDP\", \"GDP\", \"GDP\", \"GDP\", \"GDP\", \"GDP\", \"GDP\", \"GDP\", \"GDP\", \"GDP\", \"GDP\", \"GDP\", \"GDP\", \"Family\", \"Family\", \"Family\", \"Family\", \"Family\", \"Family\", \"Family\", \"Family\", \"Family\", \"Family\", \"Family\", \"Family\", \"Family\", \"Life expectancy\", \"Life expectancy\", \"Life expectancy\", \"Life expectancy\", \"Life expectancy\", \"Life expectancy\", \"Life expectancy\", \"Life expectancy\", \"Life expectancy\", \"Life expectancy\", \"Life expectancy\", \"Life expectancy\", \"Life expectancy\", \"Freedom\", \"Freedom\", \"Freedom\", \"Freedom\", \"Freedom\", \"Freedom\", \"Freedom\", \"Freedom\", \"Freedom\", \"Freedom\", \"Freedom\", \"Freedom\", \"Freedom\", \"Generosity\", \"Generosity\", \"Generosity\", \"Generosity\", \"Generosity\", \"Generosity\", \"Generosity\", \"Generosity\", \"Generosity\", \"Generosity\", \"Generosity\", \"Generosity\", \"Generosity\", \"Trust\", \"Trust\", \"Trust\", \"Trust\", \"Trust\", \"Trust\", \"Trust\", \"Trust\", \"Trust\", \"Trust\", \"Trust\", \"Trust\", \"Trust\"]], \"y\": [[\"1.\", \"1.\", \"1.\", \"1.\", \"2.\", \"2.\", \"2.\", \"3.\", \"3.\", \"3.\", \"3.\", \"3.\", \"3.\", \"1.\", \"1.\", \"1.\", \"1.\", \"2.\", \"2.\", \"2.\", \"3.\", \"3.\", \"3.\", \"3.\", \"3.\", \"3.\", \"1.\", \"1.\", \"1.\", \"1.\", \"2.\", \"2.\", \"2.\", \"3.\", \"3.\", \"3.\", \"3.\", \"3.\", \"3.\", \"1.\", \"1.\", \"1.\", \"1.\", \"2.\", \"2.\", \"2.\", \"3.\", \"3.\", \"3.\", \"3.\", \"3.\", \"3.\", \"1.\", \"1.\", \"1.\", \"1.\", \"2.\", \"2.\", \"2.\", \"3.\", \"3.\", \"3.\", \"3.\", \"3.\", \"3.\", \"1.\", \"1.\", \"1.\", \"1.\", \"2.\", \"2.\", \"2.\", \"3.\", \"3.\", \"3.\", \"3.\", \"3.\", \"3.\", \"1.\", \"1.\", \"1.\", \"1.\", \"2.\", \"2.\", \"2.\", \"3.\", \"3.\", \"3.\", \"3.\", \"3.\", \"3.\", \"1.\", \"1.\", \"1.\", \"1.\", \"2.\", \"2.\", \"2.\", \"3.\", \"3.\", \"3.\", \"3.\", \"3.\", \"3.\", \"1.\", \"1.\", \"1.\", \"1.\", \"2.\", \"2.\", \"2.\", \"3.\", \"3.\", \"3.\", \"3.\", \"3.\", \"3.\", \"1.\", \"1.\", \"1.\", \"1.\", \"2.\", \"2.\", \"2.\", \"3.\", \"3.\", \"3.\", \"3.\", \"3.\", \"3.\", \"1.\", \"1.\", \"1.\", \"1.\", \"2.\", \"2.\", \"2.\", \"3.\", \"3.\", \"3.\", \"3.\", \"3.\", \"3.\", \"1.\", \"1.\", \"1.\", \"1.\", \"2.\", \"2.\", \"2.\", \"3.\", \"3.\", \"3.\", \"3.\", \"3.\", \"3.\", \"1.\", \"1.\", \"1.\", \"1.\", \"2.\", \"2.\", \"2.\", \"3.\", \"3.\", \"3.\", \"3.\", \"3.\", \"3.\"], [\"Tot Cases/1M pop\", \"Deaths/1M pop\", \"Tests/1M pop\", \"Recovered/1M pop\", \"Recovered/1M cases\", \"Deaths/1M cases\", \"Confirmed/1M tests\", \"GDP\", \"Family\", \"Life expectancy\", \"Freedom\", \"Generosity\", \"Trust\", \"Tot Cases/1M pop\", \"Deaths/1M pop\", \"Tests/1M pop\", \"Recovered/1M pop\", \"Recovered/1M cases\", \"Deaths/1M cases\", \"Confirmed/1M tests\", \"GDP\", \"Family\", \"Life expectancy\", \"Freedom\", \"Generosity\", \"Trust\", \"Tot Cases/1M pop\", \"Deaths/1M pop\", \"Tests/1M pop\", \"Recovered/1M pop\", \"Recovered/1M cases\", \"Deaths/1M cases\", \"Confirmed/1M tests\", \"GDP\", \"Family\", \"Life expectancy\", \"Freedom\", \"Generosity\", \"Trust\", \"Tot Cases/1M pop\", \"Deaths/1M pop\", \"Tests/1M pop\", \"Recovered/1M pop\", \"Recovered/1M cases\", \"Deaths/1M cases\", \"Confirmed/1M tests\", \"GDP\", \"Family\", \"Life expectancy\", \"Freedom\", \"Generosity\", \"Trust\", \"Tot Cases/1M pop\", \"Deaths/1M pop\", \"Tests/1M pop\", \"Recovered/1M pop\", \"Recovered/1M cases\", \"Deaths/1M cases\", \"Confirmed/1M tests\", \"GDP\", \"Family\", \"Life expectancy\", \"Freedom\", \"Generosity\", \"Trust\", \"Tot Cases/1M pop\", \"Deaths/1M pop\", \"Tests/1M pop\", \"Recovered/1M pop\", \"Recovered/1M cases\", \"Deaths/1M cases\", \"Confirmed/1M tests\", \"GDP\", \"Family\", \"Life expectancy\", \"Freedom\", \"Generosity\", \"Trust\", \"Tot Cases/1M pop\", \"Deaths/1M pop\", \"Tests/1M pop\", \"Recovered/1M pop\", \"Recovered/1M cases\", \"Deaths/1M cases\", \"Confirmed/1M tests\", \"GDP\", \"Family\", \"Life expectancy\", \"Freedom\", \"Generosity\", \"Trust\", \"Tot Cases/1M pop\", \"Deaths/1M pop\", \"Tests/1M pop\", \"Recovered/1M pop\", \"Recovered/1M cases\", \"Deaths/1M cases\", \"Confirmed/1M tests\", \"GDP\", \"Family\", \"Life expectancy\", \"Freedom\", \"Generosity\", \"Trust\", \"Tot Cases/1M pop\", \"Deaths/1M pop\", \"Tests/1M pop\", \"Recovered/1M pop\", \"Recovered/1M cases\", \"Deaths/1M cases\", \"Confirmed/1M tests\", \"GDP\", \"Family\", \"Life expectancy\", \"Freedom\", \"Generosity\", \"Trust\", \"Tot Cases/1M pop\", \"Deaths/1M pop\", \"Tests/1M pop\", \"Recovered/1M pop\", \"Recovered/1M cases\", \"Deaths/1M cases\", \"Confirmed/1M tests\", \"GDP\", \"Family\", \"Life expectancy\", \"Freedom\", \"Generosity\", \"Trust\", \"Tot Cases/1M pop\", \"Deaths/1M pop\", \"Tests/1M pop\", \"Recovered/1M pop\", \"Recovered/1M cases\", \"Deaths/1M cases\", \"Confirmed/1M tests\", \"GDP\", \"Family\", \"Life expectancy\", \"Freedom\", \"Generosity\", \"Trust\", \"Tot Cases/1M pop\", \"Deaths/1M pop\", \"Tests/1M pop\", \"Recovered/1M pop\", \"Recovered/1M cases\", \"Deaths/1M cases\", \"Confirmed/1M tests\", \"GDP\", \"Family\", \"Life expectancy\", \"Freedom\", \"Generosity\", \"Trust\", \"Tot Cases/1M pop\", \"Deaths/1M pop\", \"Tests/1M pop\", \"Recovered/1M pop\", \"Recovered/1M cases\", \"Deaths/1M cases\", \"Confirmed/1M tests\", \"GDP\", \"Family\", \"Life expectancy\", \"Freedom\", \"Generosity\", \"Trust\"]]}],\n",
       "                        {\"font\": {\"size\": 15}, \"height\": 885, \"template\": {\"data\": {\"bar\": [{\"error_x\": {\"color\": \"#2a3f5f\"}, \"error_y\": {\"color\": \"#2a3f5f\"}, \"marker\": {\"line\": {\"color\": \"#E5ECF6\", \"width\": 0.5}}, \"type\": \"bar\"}], \"barpolar\": [{\"marker\": {\"line\": {\"color\": \"#E5ECF6\", \"width\": 0.5}}, \"type\": \"barpolar\"}], \"carpet\": [{\"aaxis\": {\"endlinecolor\": \"#2a3f5f\", \"gridcolor\": \"white\", \"linecolor\": \"white\", \"minorgridcolor\": \"white\", \"startlinecolor\": \"#2a3f5f\"}, \"baxis\": {\"endlinecolor\": \"#2a3f5f\", \"gridcolor\": \"white\", \"linecolor\": \"white\", \"minorgridcolor\": \"white\", \"startlinecolor\": \"#2a3f5f\"}, \"type\": \"carpet\"}], \"choropleth\": [{\"colorbar\": {\"outlinewidth\": 0, \"ticks\": \"\"}, \"type\": \"choropleth\"}], \"contour\": [{\"colorbar\": {\"outlinewidth\": 0, \"ticks\": \"\"}, \"colorscale\": [[0.0, \"#0d0887\"], [0.1111111111111111, \"#46039f\"], [0.2222222222222222, \"#7201a8\"], [0.3333333333333333, \"#9c179e\"], [0.4444444444444444, \"#bd3786\"], [0.5555555555555556, \"#d8576b\"], [0.6666666666666666, \"#ed7953\"], [0.7777777777777778, \"#fb9f3a\"], [0.8888888888888888, \"#fdca26\"], [1.0, \"#f0f921\"]], \"type\": \"contour\"}], \"contourcarpet\": [{\"colorbar\": {\"outlinewidth\": 0, \"ticks\": \"\"}, \"type\": \"contourcarpet\"}], \"heatmap\": [{\"colorbar\": {\"outlinewidth\": 0, \"ticks\": \"\"}, \"colorscale\": [[0.0, \"#0d0887\"], [0.1111111111111111, \"#46039f\"], [0.2222222222222222, \"#7201a8\"], [0.3333333333333333, \"#9c179e\"], [0.4444444444444444, \"#bd3786\"], [0.5555555555555556, \"#d8576b\"], [0.6666666666666666, \"#ed7953\"], [0.7777777777777778, \"#fb9f3a\"], [0.8888888888888888, \"#fdca26\"], [1.0, \"#f0f921\"]], \"type\": \"heatmap\"}], \"heatmapgl\": [{\"colorbar\": {\"outlinewidth\": 0, \"ticks\": \"\"}, \"colorscale\": [[0.0, \"#0d0887\"], [0.1111111111111111, \"#46039f\"], [0.2222222222222222, \"#7201a8\"], [0.3333333333333333, \"#9c179e\"], [0.4444444444444444, \"#bd3786\"], [0.5555555555555556, \"#d8576b\"], [0.6666666666666666, \"#ed7953\"], [0.7777777777777778, \"#fb9f3a\"], [0.8888888888888888, \"#fdca26\"], [1.0, \"#f0f921\"]], \"type\": \"heatmapgl\"}], \"histogram\": [{\"marker\": {\"colorbar\": {\"outlinewidth\": 0, \"ticks\": \"\"}}, \"type\": \"histogram\"}], \"histogram2d\": [{\"colorbar\": {\"outlinewidth\": 0, \"ticks\": \"\"}, \"colorscale\": [[0.0, \"#0d0887\"], [0.1111111111111111, \"#46039f\"], [0.2222222222222222, \"#7201a8\"], [0.3333333333333333, \"#9c179e\"], [0.4444444444444444, \"#bd3786\"], [0.5555555555555556, \"#d8576b\"], [0.6666666666666666, \"#ed7953\"], [0.7777777777777778, \"#fb9f3a\"], [0.8888888888888888, \"#fdca26\"], [1.0, \"#f0f921\"]], \"type\": \"histogram2d\"}], \"histogram2dcontour\": [{\"colorbar\": {\"outlinewidth\": 0, \"ticks\": \"\"}, \"colorscale\": [[0.0, \"#0d0887\"], [0.1111111111111111, \"#46039f\"], [0.2222222222222222, \"#7201a8\"], [0.3333333333333333, \"#9c179e\"], [0.4444444444444444, \"#bd3786\"], [0.5555555555555556, \"#d8576b\"], [0.6666666666666666, \"#ed7953\"], [0.7777777777777778, \"#fb9f3a\"], [0.8888888888888888, \"#fdca26\"], [1.0, \"#f0f921\"]], \"type\": \"histogram2dcontour\"}], \"mesh3d\": [{\"colorbar\": {\"outlinewidth\": 0, \"ticks\": \"\"}, \"type\": \"mesh3d\"}], \"parcoords\": [{\"line\": {\"colorbar\": {\"outlinewidth\": 0, \"ticks\": \"\"}}, \"type\": \"parcoords\"}], \"pie\": [{\"automargin\": true, \"type\": \"pie\"}], \"scatter\": [{\"marker\": {\"colorbar\": {\"outlinewidth\": 0, \"ticks\": \"\"}}, \"type\": \"scatter\"}], \"scatter3d\": [{\"line\": {\"colorbar\": {\"outlinewidth\": 0, \"ticks\": \"\"}}, \"marker\": {\"colorbar\": {\"outlinewidth\": 0, \"ticks\": \"\"}}, \"type\": \"scatter3d\"}], \"scattercarpet\": [{\"marker\": {\"colorbar\": {\"outlinewidth\": 0, \"ticks\": \"\"}}, \"type\": \"scattercarpet\"}], \"scattergeo\": [{\"marker\": {\"colorbar\": {\"outlinewidth\": 0, \"ticks\": \"\"}}, \"type\": \"scattergeo\"}], \"scattergl\": [{\"marker\": {\"colorbar\": {\"outlinewidth\": 0, \"ticks\": \"\"}}, \"type\": \"scattergl\"}], \"scattermapbox\": [{\"marker\": {\"colorbar\": {\"outlinewidth\": 0, \"ticks\": \"\"}}, \"type\": \"scattermapbox\"}], \"scatterpolar\": [{\"marker\": {\"colorbar\": {\"outlinewidth\": 0, \"ticks\": \"\"}}, \"type\": \"scatterpolar\"}], \"scatterpolargl\": [{\"marker\": {\"colorbar\": {\"outlinewidth\": 0, \"ticks\": \"\"}}, \"type\": \"scatterpolargl\"}], \"scatterternary\": [{\"marker\": {\"colorbar\": {\"outlinewidth\": 0, \"ticks\": \"\"}}, \"type\": \"scatterternary\"}], \"surface\": [{\"colorbar\": {\"outlinewidth\": 0, \"ticks\": \"\"}, \"colorscale\": [[0.0, \"#0d0887\"], [0.1111111111111111, \"#46039f\"], [0.2222222222222222, \"#7201a8\"], [0.3333333333333333, \"#9c179e\"], [0.4444444444444444, \"#bd3786\"], [0.5555555555555556, \"#d8576b\"], [0.6666666666666666, \"#ed7953\"], [0.7777777777777778, \"#fb9f3a\"], [0.8888888888888888, \"#fdca26\"], [1.0, \"#f0f921\"]], \"type\": \"surface\"}], \"table\": [{\"cells\": {\"fill\": {\"color\": \"#EBF0F8\"}, \"line\": {\"color\": \"white\"}}, \"header\": {\"fill\": {\"color\": \"#C8D4E3\"}, \"line\": {\"color\": \"white\"}}, \"type\": \"table\"}]}, \"layout\": {\"annotationdefaults\": {\"arrowcolor\": \"#2a3f5f\", \"arrowhead\": 0, \"arrowwidth\": 1}, \"coloraxis\": {\"colorbar\": {\"outlinewidth\": 0, \"ticks\": \"\"}}, \"colorscale\": {\"diverging\": [[0, \"#8e0152\"], [0.1, \"#c51b7d\"], [0.2, \"#de77ae\"], [0.3, \"#f1b6da\"], [0.4, \"#fde0ef\"], [0.5, \"#f7f7f7\"], [0.6, \"#e6f5d0\"], [0.7, \"#b8e186\"], [0.8, \"#7fbc41\"], [0.9, \"#4d9221\"], [1, \"#276419\"]], \"sequential\": [[0.0, \"#0d0887\"], [0.1111111111111111, \"#46039f\"], [0.2222222222222222, \"#7201a8\"], [0.3333333333333333, \"#9c179e\"], [0.4444444444444444, \"#bd3786\"], [0.5555555555555556, \"#d8576b\"], [0.6666666666666666, \"#ed7953\"], [0.7777777777777778, \"#fb9f3a\"], [0.8888888888888888, \"#fdca26\"], [1.0, \"#f0f921\"]], \"sequentialminus\": [[0.0, \"#0d0887\"], [0.1111111111111111, \"#46039f\"], [0.2222222222222222, \"#7201a8\"], [0.3333333333333333, \"#9c179e\"], [0.4444444444444444, \"#bd3786\"], [0.5555555555555556, \"#d8576b\"], [0.6666666666666666, \"#ed7953\"], [0.7777777777777778, \"#fb9f3a\"], [0.8888888888888888, \"#fdca26\"], [1.0, \"#f0f921\"]]}, \"colorway\": [\"#636efa\", \"#EF553B\", \"#00cc96\", \"#ab63fa\", \"#FFA15A\", \"#19d3f3\", \"#FF6692\", \"#B6E880\", \"#FF97FF\", \"#FECB52\"], \"font\": {\"color\": \"#2a3f5f\"}, \"geo\": {\"bgcolor\": \"white\", \"lakecolor\": \"white\", \"landcolor\": \"#E5ECF6\", \"showlakes\": true, \"showland\": true, \"subunitcolor\": \"white\"}, \"hoverlabel\": {\"align\": \"left\"}, \"hovermode\": \"closest\", \"mapbox\": {\"style\": \"light\"}, \"paper_bgcolor\": \"white\", \"plot_bgcolor\": \"#E5ECF6\", \"polar\": {\"angularaxis\": {\"gridcolor\": \"white\", \"linecolor\": \"white\", \"ticks\": \"\"}, \"bgcolor\": \"#E5ECF6\", \"radialaxis\": {\"gridcolor\": \"white\", \"linecolor\": \"white\", \"ticks\": \"\"}}, \"scene\": {\"xaxis\": {\"backgroundcolor\": \"#E5ECF6\", \"gridcolor\": \"white\", \"gridwidth\": 2, \"linecolor\": \"white\", \"showbackground\": true, \"ticks\": \"\", \"zerolinecolor\": \"white\"}, \"yaxis\": {\"backgroundcolor\": \"#E5ECF6\", \"gridcolor\": \"white\", \"gridwidth\": 2, \"linecolor\": \"white\", \"showbackground\": true, \"ticks\": \"\", \"zerolinecolor\": \"white\"}, \"zaxis\": {\"backgroundcolor\": \"#E5ECF6\", \"gridcolor\": \"white\", \"gridwidth\": 2, \"linecolor\": \"white\", \"showbackground\": true, \"ticks\": \"\", \"zerolinecolor\": \"white\"}}, \"shapedefaults\": {\"line\": {\"color\": \"#2a3f5f\"}}, \"ternary\": {\"aaxis\": {\"gridcolor\": \"white\", \"linecolor\": \"white\", \"ticks\": \"\"}, \"baxis\": {\"gridcolor\": \"white\", \"linecolor\": \"white\", \"ticks\": \"\"}, \"bgcolor\": \"#E5ECF6\", \"caxis\": {\"gridcolor\": \"white\", \"linecolor\": \"white\", \"ticks\": \"\"}}, \"title\": {\"x\": 0.05}, \"xaxis\": {\"automargin\": true, \"gridcolor\": \"white\", \"linecolor\": \"white\", \"ticks\": \"\", \"title\": {\"standoff\": 15}, \"zerolinecolor\": \"white\", \"zerolinewidth\": 2}, \"yaxis\": {\"automargin\": true, \"gridcolor\": \"white\", \"linecolor\": \"white\", \"ticks\": \"\", \"title\": {\"standoff\": 15}, \"zerolinecolor\": \"white\", \"zerolinewidth\": 2}}}, \"title\": {\"text\": \"Africa: 36 countries\"}, \"width\": 885, \"xaxis\": {\"range\": [0.5, 12.5], \"showgrid\": true, \"ticklen\": 0, \"ticks\": \"outside\", \"tickson\": \"boundaries\"}, \"yaxis\": {\"range\": [0.5, 12.5], \"showgrid\": true, \"ticklen\": 0, \"ticks\": \"outside\", \"tickson\": \"boundaries\"}},\n",
       "                        {\"responsive\": true}\n",
       "                    ).then(function(){\n",
       "                            \n",
       "var gd = document.getElementById('a96d7876-87c7-423b-aa85-ebd9223abd5b');\n",
       "var x = new MutationObserver(function (mutations, observer) {{\n",
       "        var display = window.getComputedStyle(gd).display;\n",
       "        if (!display || display === 'none') {{\n",
       "            console.log([gd, 'removed!']);\n",
       "            Plotly.purge(gd);\n",
       "            observer.disconnect();\n",
       "        }}\n",
       "}});\n",
       "\n",
       "// Listen for the removal of the full notebook cells\n",
       "var notebookContainer = gd.closest('#notebook-container');\n",
       "if (notebookContainer) {{\n",
       "    x.observe(notebookContainer, {childList: true});\n",
       "}}\n",
       "\n",
       "// Listen for the clearing of the current output cell\n",
       "var outputEl = gd.closest('.output');\n",
       "if (outputEl) {{\n",
       "    x.observe(outputEl, {childList: true});\n",
       "}}\n",
       "\n",
       "                        })\n",
       "                };\n",
       "                });\n",
       "            </script>\n",
       "        </div>"
      ]
     },
     "metadata": {},
     "output_type": "display_data"
    },
    {
     "data": {
      "application/vnd.plotly.v1+json": {
       "config": {
        "plotlyServerURL": "https://plot.ly"
       },
       "data": [
        {
         "hoverinfo": "text",
         "hovertext": [
          "1.0",
          "0.31185553130851584",
          "0.5681238075536466",
          "0.9973956197006008",
          "0.42618167509841964",
          "-0.29884216635014854",
          "-0.1817578607603894",
          "0.7019311840691972",
          "0.5304948652080991",
          "0.539306126277303",
          "0.5561250077308418",
          "0.2518755992316097",
          "0.14959409728631584",
          "0.31185553130851584",
          "1.0",
          "0.09254406643857026",
          "0.2977439733294807",
          "0.3685307651273593",
          "-0.1208386403814101",
          "-0.07150047806150794",
          "0.4682415911714779",
          "0.1669237055154695",
          "0.34161793512450145",
          "0.15719214362241982",
          "0.1375605595638837",
          "-0.04771714691094341",
          "0.5681238075536466",
          "0.09254406643857026",
          "1.0",
          "0.5587600906614205",
          "0.30337345489462114",
          "-0.26601008286940764",
          "-0.3378321876593613",
          "0.5830475792994821",
          "0.4907026135855689",
          "0.49540705243709654",
          "0.5896811099982657",
          "0.36252730870335137",
          "0.25611483140379626",
          "0.9973956197006008",
          "0.2977439733294807",
          "0.5587600906614205",
          "1.0",
          "0.45537021574437797",
          "-0.27848015225441697",
          "-0.15748936869043062",
          "0.687438633799987",
          "0.5049741980931118",
          "0.5107867609774377",
          "0.558133135619783",
          "0.2588877222190694",
          "0.1730236012804696",
          "0.42618167509841964",
          "0.3685307651273593",
          "0.30337345489462114",
          "0.45537021574437797",
          "1.0",
          "-0.09128647535670815",
          "0.2496924862176958",
          "0.29360502549945977",
          "0.22975844325696165",
          "0.04293736387277737",
          "0.47936115501694443",
          "0.049567040827529246",
          "0.13737287479088706",
          "-0.29884216635014854",
          "-0.1208386403814101",
          "-0.26601008286940764",
          "-0.27848015225441697",
          "-0.09128647535670815",
          "1.0",
          "0.6912258991385087",
          "-0.44520277747852194",
          "-0.09923414370474307",
          "-0.4009620732552357",
          "-0.3855450150797063",
          "-0.10982292680216744",
          "-0.15291041268462968",
          "-0.1817578607603894",
          "-0.07150047806150794",
          "-0.3378321876593613",
          "-0.15748936869043062",
          "0.2496924862176958",
          "0.6912258991385087",
          "1.0",
          "-0.2417518251526719",
          "-0.30187711454683197",
          "-0.4610332343250232",
          "-0.39183025628175455",
          "-0.2327686316073024",
          "-0.31261241166708925",
          "0.7019311840691972",
          "0.4682415911714779",
          "0.5830475792994821",
          "0.687438633799987",
          "0.29360502549945977",
          "-0.44520277747852194",
          "-0.2417518251526719",
          "1.0",
          "0.6543876128493445",
          "0.844730365486913",
          "0.5278288576121387",
          "0.05845011441204662",
          "0.03908500062507553",
          "0.5304948652080991",
          "0.1669237055154695",
          "0.4907026135855689",
          "0.5049741980931118",
          "0.22975844325696165",
          "-0.09923414370474307",
          "-0.30187711454683197",
          "0.6543876128493445",
          "1.0",
          "0.700868786733568",
          "0.5691489645010496",
          "-0.2807291790993751",
          "0.016146921727232942",
          "0.539306126277303",
          "0.34161793512450145",
          "0.49540705243709654",
          "0.5107867609774377",
          "0.04293736387277737",
          "-0.4009620732552357",
          "-0.4610332343250232",
          "0.844730365486913",
          "0.700868786733568",
          "1.0",
          "0.4581726171654735",
          "-0.19857529338115099",
          "-0.15035264373342427",
          "0.5561250077308418",
          "0.15719214362241982",
          "0.5896811099982657",
          "0.558133135619783",
          "0.47936115501694443",
          "-0.3855450150797063",
          "-0.39183025628175455",
          "0.5278288576121387",
          "0.5691489645010496",
          "0.4581726171654735",
          "1.0",
          "0.12891564361844407",
          "0.6503126750822003",
          "0.2518755992316097",
          "0.1375605595638837",
          "0.36252730870335137",
          "0.2588877222190694",
          "0.049567040827529246",
          "-0.10982292680216744",
          "-0.2327686316073024",
          "0.05845011441204662",
          "-0.2807291790993751",
          "-0.19857529338115099",
          "0.12891564361844407",
          "1.0",
          "0.5060762351360643",
          "0.14959409728631584",
          "-0.04771714691094341",
          "0.25611483140379626",
          "0.1730236012804696",
          "0.13737287479088706",
          "-0.15291041268462968",
          "-0.31261241166708925",
          "0.03908500062507553",
          "0.016146921727232942",
          "-0.15035264373342427",
          "0.6503126750822003",
          "0.5060762351360643",
          "1.0"
         ],
         "marker": {
          "cmid": 0,
          "color": [
           1,
           0.31185553130851584,
           0.5681238075536466,
           0.9973956197006008,
           0.42618167509841964,
           -0.29884216635014854,
           -0.1817578607603894,
           0.7019311840691972,
           0.5304948652080991,
           0.539306126277303,
           0.5561250077308418,
           0.2518755992316097,
           0.14959409728631584,
           0.31185553130851584,
           1,
           0.09254406643857026,
           0.2977439733294807,
           0.3685307651273593,
           -0.1208386403814101,
           -0.07150047806150794,
           0.4682415911714779,
           0.1669237055154695,
           0.34161793512450145,
           0.15719214362241982,
           0.1375605595638837,
           -0.04771714691094341,
           0.5681238075536466,
           0.09254406643857026,
           1,
           0.5587600906614205,
           0.30337345489462114,
           -0.26601008286940764,
           -0.3378321876593613,
           0.5830475792994821,
           0.4907026135855689,
           0.49540705243709654,
           0.5896811099982657,
           0.36252730870335137,
           0.25611483140379626,
           0.9973956197006008,
           0.2977439733294807,
           0.5587600906614205,
           1,
           0.45537021574437797,
           -0.27848015225441697,
           -0.15748936869043062,
           0.687438633799987,
           0.5049741980931118,
           0.5107867609774377,
           0.558133135619783,
           0.2588877222190694,
           0.1730236012804696,
           0.42618167509841964,
           0.3685307651273593,
           0.30337345489462114,
           0.45537021574437797,
           1,
           -0.09128647535670815,
           0.2496924862176958,
           0.29360502549945977,
           0.22975844325696165,
           0.04293736387277737,
           0.47936115501694443,
           0.049567040827529246,
           0.13737287479088706,
           -0.29884216635014854,
           -0.1208386403814101,
           -0.26601008286940764,
           -0.27848015225441697,
           -0.09128647535670815,
           1,
           0.6912258991385087,
           -0.44520277747852194,
           -0.09923414370474307,
           -0.4009620732552357,
           -0.3855450150797063,
           -0.10982292680216744,
           -0.15291041268462968,
           -0.1817578607603894,
           -0.07150047806150794,
           -0.3378321876593613,
           -0.15748936869043062,
           0.2496924862176958,
           0.6912258991385087,
           1,
           -0.2417518251526719,
           -0.30187711454683197,
           -0.4610332343250232,
           -0.39183025628175455,
           -0.2327686316073024,
           -0.31261241166708925,
           0.7019311840691972,
           0.4682415911714779,
           0.5830475792994821,
           0.687438633799987,
           0.29360502549945977,
           -0.44520277747852194,
           -0.2417518251526719,
           1,
           0.6543876128493445,
           0.844730365486913,
           0.5278288576121387,
           0.05845011441204662,
           0.03908500062507553,
           0.5304948652080991,
           0.1669237055154695,
           0.4907026135855689,
           0.5049741980931118,
           0.22975844325696165,
           -0.09923414370474307,
           -0.30187711454683197,
           0.6543876128493445,
           1,
           0.700868786733568,
           0.5691489645010496,
           -0.2807291790993751,
           0.016146921727232942,
           0.539306126277303,
           0.34161793512450145,
           0.49540705243709654,
           0.5107867609774377,
           0.04293736387277737,
           -0.4009620732552357,
           -0.4610332343250232,
           0.844730365486913,
           0.700868786733568,
           1,
           0.4581726171654735,
           -0.19857529338115099,
           -0.15035264373342427,
           0.5561250077308418,
           0.15719214362241982,
           0.5896811099982657,
           0.558133135619783,
           0.47936115501694443,
           -0.3855450150797063,
           -0.39183025628175455,
           0.5278288576121387,
           0.5691489645010496,
           0.4581726171654735,
           1,
           0.12891564361844407,
           0.6503126750822003,
           0.2518755992316097,
           0.1375605595638837,
           0.36252730870335137,
           0.2588877222190694,
           0.049567040827529246,
           -0.10982292680216744,
           -0.2327686316073024,
           0.05845011441204662,
           -0.2807291790993751,
           -0.19857529338115099,
           0.12891564361844407,
           1,
           0.5060762351360643,
           0.14959409728631584,
           -0.04771714691094341,
           0.25611483140379626,
           0.1730236012804696,
           0.13737287479088706,
           -0.15291041268462968,
           -0.31261241166708925,
           0.03908500062507553,
           0.016146921727232942,
           -0.15035264373342427,
           0.6503126750822003,
           0.5060762351360643,
           1
          ],
          "colorbar": {
           "title": {
            "text": "Correlation"
           }
          },
          "colorscale": [
           [
            0,
            "rgb(5,48,97)"
           ],
           [
            0.1,
            "rgb(33,102,172)"
           ],
           [
            0.2,
            "rgb(67,147,195)"
           ],
           [
            0.3,
            "rgb(146,197,222)"
           ],
           [
            0.4,
            "rgb(209,229,240)"
           ],
           [
            0.5,
            "rgb(247,247,247)"
           ],
           [
            0.6,
            "rgb(253,219,199)"
           ],
           [
            0.7,
            "rgb(244,165,130)"
           ],
           [
            0.8,
            "rgb(214,96,77)"
           ],
           [
            0.9,
            "rgb(178,24,43)"
           ],
           [
            1,
            "rgb(103,0,31)"
           ]
          ],
          "size": [
           46,
           14.345354440191729,
           26.13369514746774,
           45.880198506227636,
           19.604357054527302,
           13.746739652106832,
           8.360861594977912,
           32.28883446718307,
           24.402763799572558,
           24.80808180875594,
           25.581750355618723,
           11.586277564654045,
           6.881328475170529,
           14.345354440191729,
           46,
           4.257027056174232,
           13.696222773156112,
           16.952415195858528,
           5.558577457544865,
           3.289021990829365,
           21.539113193887985,
           7.678490453711597,
           15.714425015727066,
           7.230838606631312,
           6.3277857399386495,
           2.194988757903397,
           26.13369514746774,
           4.257027056174232,
           46,
           25.702964170425343,
           13.955178925152573,
           12.236463811992751,
           15.540280632330619,
           26.820188647776178,
           22.572320224936167,
           22.78872441210644,
           27.125331059920224,
           16.676256200354164,
           11.781282244574628,
           45.880198506227636,
           13.696222773156112,
           25.702964170425343,
           46,
           20.947029924241388,
           12.810087003703181,
           7.2445109597598085,
           31.622177154799402,
           23.228813112283145,
           23.496191004962135,
           25.674124238510014,
           11.908835222077194,
           7.959085658901601,
           19.604357054527302,
           16.952415195858528,
           13.955178925152573,
           20.947029924241388,
           46,
           4.199177866408575,
           11.485854366014006,
           13.50583117297515,
           10.568888389820236,
           1.975118738147759,
           22.050613130779443,
           2.2800838780663453,
           6.319152240380805,
           13.746739652106832,
           5.558577457544865,
           12.236463811992751,
           12.810087003703181,
           4.199177866408575,
           46,
           31.796391360371402,
           20.47932776401201,
           4.564770610418181,
           18.44425536974084,
           17.73507069366649,
           5.051854632899702,
           7.033878983492965,
           8.360861594977912,
           3.289021990829365,
           15.540280632330619,
           7.2445109597598085,
           11.485854366014006,
           31.796391360371402,
           46,
           11.120583957022907,
           13.886347269154271,
           21.207528778951065,
           18.02419178896071,
           10.70735705393591,
           14.380170936686106,
           32.28883446718307,
           21.539113193887985,
           26.820188647776178,
           31.622177154799402,
           13.50583117297515,
           20.47932776401201,
           11.120583957022907,
           46,
           30.101830191069848,
           38.857596812398,
           24.280127450158382,
           2.688705262954145,
           1.7979100287534742,
           24.402763799572558,
           7.678490453711597,
           22.572320224936167,
           23.228813112283145,
           10.568888389820236,
           4.564770610418181,
           13.886347269154271,
           30.101830191069848,
           46,
           32.23996418974413,
           26.18085236704828,
           12.913542238571255,
           0.7427583994527154,
           24.80808180875594,
           15.714425015727066,
           22.78872441210644,
           23.496191004962135,
           1.975118738147759,
           18.44425536974084,
           21.207528778951065,
           38.857596812398,
           32.23996418974413,
           46,
           21.07594038961178,
           9.134463495532945,
           6.916221611737517,
           25.581750355618723,
           7.230838606631312,
           27.125331059920224,
           25.674124238510014,
           22.050613130779443,
           17.73507069366649,
           18.02419178896071,
           24.280127450158382,
           26.18085236704828,
           21.07594038961178,
           46,
           5.930119606448427,
           29.91438305378121,
           11.586277564654045,
           6.3277857399386495,
           16.676256200354164,
           11.908835222077194,
           2.2800838780663453,
           5.051854632899702,
           10.70735705393591,
           2.688705262954145,
           12.913542238571255,
           9.134463495532945,
           5.930119606448427,
           46,
           23.279506816258955,
           6.881328475170529,
           2.194988757903397,
           11.781282244574628,
           7.959085658901601,
           6.319152240380805,
           7.033878983492965,
           14.380170936686106,
           1.7979100287534742,
           0.7427583994527154,
           6.916221611737517,
           29.91438305378121,
           23.279506816258955,
           46
          ]
         },
         "mode": "markers",
         "type": "scatter",
         "x": [
          [
           "1.",
           "1.",
           "1.",
           "1.",
           "1.",
           "1.",
           "1.",
           "1.",
           "1.",
           "1.",
           "1.",
           "1.",
           "1.",
           "1.",
           "1.",
           "1.",
           "1.",
           "1.",
           "1.",
           "1.",
           "1.",
           "1.",
           "1.",
           "1.",
           "1.",
           "1.",
           "1.",
           "1.",
           "1.",
           "1.",
           "1.",
           "1.",
           "1.",
           "1.",
           "1.",
           "1.",
           "1.",
           "1.",
           "1.",
           "1.",
           "1.",
           "1.",
           "1.",
           "1.",
           "1.",
           "1.",
           "1.",
           "1.",
           "1.",
           "1.",
           "1.",
           "1.",
           "2.",
           "2.",
           "2.",
           "2.",
           "2.",
           "2.",
           "2.",
           "2.",
           "2.",
           "2.",
           "2.",
           "2.",
           "2.",
           "2.",
           "2.",
           "2.",
           "2.",
           "2.",
           "2.",
           "2.",
           "2.",
           "2.",
           "2.",
           "2.",
           "2.",
           "2.",
           "2.",
           "2.",
           "2.",
           "2.",
           "2.",
           "2.",
           "2.",
           "2.",
           "2.",
           "2.",
           "2.",
           "2.",
           "2.",
           "3.",
           "3.",
           "3.",
           "3.",
           "3.",
           "3.",
           "3.",
           "3.",
           "3.",
           "3.",
           "3.",
           "3.",
           "3.",
           "3.",
           "3.",
           "3.",
           "3.",
           "3.",
           "3.",
           "3.",
           "3.",
           "3.",
           "3.",
           "3.",
           "3.",
           "3.",
           "3.",
           "3.",
           "3.",
           "3.",
           "3.",
           "3.",
           "3.",
           "3.",
           "3.",
           "3.",
           "3.",
           "3.",
           "3.",
           "3.",
           "3.",
           "3.",
           "3.",
           "3.",
           "3.",
           "3.",
           "3.",
           "3.",
           "3.",
           "3.",
           "3.",
           "3.",
           "3.",
           "3.",
           "3.",
           "3.",
           "3.",
           "3.",
           "3.",
           "3.",
           "3.",
           "3.",
           "3.",
           "3.",
           "3.",
           "3.",
           "3.",
           "3.",
           "3.",
           "3.",
           "3.",
           "3.",
           "3.",
           "3.",
           "3.",
           "3.",
           "3.",
           "3."
          ],
          [
           "Tot Cases/1M pop",
           "Tot Cases/1M pop",
           "Tot Cases/1M pop",
           "Tot Cases/1M pop",
           "Tot Cases/1M pop",
           "Tot Cases/1M pop",
           "Tot Cases/1M pop",
           "Tot Cases/1M pop",
           "Tot Cases/1M pop",
           "Tot Cases/1M pop",
           "Tot Cases/1M pop",
           "Tot Cases/1M pop",
           "Tot Cases/1M pop",
           "Deaths/1M pop",
           "Deaths/1M pop",
           "Deaths/1M pop",
           "Deaths/1M pop",
           "Deaths/1M pop",
           "Deaths/1M pop",
           "Deaths/1M pop",
           "Deaths/1M pop",
           "Deaths/1M pop",
           "Deaths/1M pop",
           "Deaths/1M pop",
           "Deaths/1M pop",
           "Deaths/1M pop",
           "Tests/1M pop",
           "Tests/1M pop",
           "Tests/1M pop",
           "Tests/1M pop",
           "Tests/1M pop",
           "Tests/1M pop",
           "Tests/1M pop",
           "Tests/1M pop",
           "Tests/1M pop",
           "Tests/1M pop",
           "Tests/1M pop",
           "Tests/1M pop",
           "Tests/1M pop",
           "Recovered/1M pop",
           "Recovered/1M pop",
           "Recovered/1M pop",
           "Recovered/1M pop",
           "Recovered/1M pop",
           "Recovered/1M pop",
           "Recovered/1M pop",
           "Recovered/1M pop",
           "Recovered/1M pop",
           "Recovered/1M pop",
           "Recovered/1M pop",
           "Recovered/1M pop",
           "Recovered/1M pop",
           "Recovered/1M cases",
           "Recovered/1M cases",
           "Recovered/1M cases",
           "Recovered/1M cases",
           "Recovered/1M cases",
           "Recovered/1M cases",
           "Recovered/1M cases",
           "Recovered/1M cases",
           "Recovered/1M cases",
           "Recovered/1M cases",
           "Recovered/1M cases",
           "Recovered/1M cases",
           "Recovered/1M cases",
           "Deaths/1M cases",
           "Deaths/1M cases",
           "Deaths/1M cases",
           "Deaths/1M cases",
           "Deaths/1M cases",
           "Deaths/1M cases",
           "Deaths/1M cases",
           "Deaths/1M cases",
           "Deaths/1M cases",
           "Deaths/1M cases",
           "Deaths/1M cases",
           "Deaths/1M cases",
           "Deaths/1M cases",
           "Confirmed/1M tests",
           "Confirmed/1M tests",
           "Confirmed/1M tests",
           "Confirmed/1M tests",
           "Confirmed/1M tests",
           "Confirmed/1M tests",
           "Confirmed/1M tests",
           "Confirmed/1M tests",
           "Confirmed/1M tests",
           "Confirmed/1M tests",
           "Confirmed/1M tests",
           "Confirmed/1M tests",
           "Confirmed/1M tests",
           "GDP",
           "GDP",
           "GDP",
           "GDP",
           "GDP",
           "GDP",
           "GDP",
           "GDP",
           "GDP",
           "GDP",
           "GDP",
           "GDP",
           "GDP",
           "Family",
           "Family",
           "Family",
           "Family",
           "Family",
           "Family",
           "Family",
           "Family",
           "Family",
           "Family",
           "Family",
           "Family",
           "Family",
           "Life expectancy",
           "Life expectancy",
           "Life expectancy",
           "Life expectancy",
           "Life expectancy",
           "Life expectancy",
           "Life expectancy",
           "Life expectancy",
           "Life expectancy",
           "Life expectancy",
           "Life expectancy",
           "Life expectancy",
           "Life expectancy",
           "Freedom",
           "Freedom",
           "Freedom",
           "Freedom",
           "Freedom",
           "Freedom",
           "Freedom",
           "Freedom",
           "Freedom",
           "Freedom",
           "Freedom",
           "Freedom",
           "Freedom",
           "Generosity",
           "Generosity",
           "Generosity",
           "Generosity",
           "Generosity",
           "Generosity",
           "Generosity",
           "Generosity",
           "Generosity",
           "Generosity",
           "Generosity",
           "Generosity",
           "Generosity",
           "Trust",
           "Trust",
           "Trust",
           "Trust",
           "Trust",
           "Trust",
           "Trust",
           "Trust",
           "Trust",
           "Trust",
           "Trust",
           "Trust",
           "Trust"
          ]
         ],
         "y": [
          [
           "1.",
           "1.",
           "1.",
           "1.",
           "2.",
           "2.",
           "2.",
           "3.",
           "3.",
           "3.",
           "3.",
           "3.",
           "3.",
           "1.",
           "1.",
           "1.",
           "1.",
           "2.",
           "2.",
           "2.",
           "3.",
           "3.",
           "3.",
           "3.",
           "3.",
           "3.",
           "1.",
           "1.",
           "1.",
           "1.",
           "2.",
           "2.",
           "2.",
           "3.",
           "3.",
           "3.",
           "3.",
           "3.",
           "3.",
           "1.",
           "1.",
           "1.",
           "1.",
           "2.",
           "2.",
           "2.",
           "3.",
           "3.",
           "3.",
           "3.",
           "3.",
           "3.",
           "1.",
           "1.",
           "1.",
           "1.",
           "2.",
           "2.",
           "2.",
           "3.",
           "3.",
           "3.",
           "3.",
           "3.",
           "3.",
           "1.",
           "1.",
           "1.",
           "1.",
           "2.",
           "2.",
           "2.",
           "3.",
           "3.",
           "3.",
           "3.",
           "3.",
           "3.",
           "1.",
           "1.",
           "1.",
           "1.",
           "2.",
           "2.",
           "2.",
           "3.",
           "3.",
           "3.",
           "3.",
           "3.",
           "3.",
           "1.",
           "1.",
           "1.",
           "1.",
           "2.",
           "2.",
           "2.",
           "3.",
           "3.",
           "3.",
           "3.",
           "3.",
           "3.",
           "1.",
           "1.",
           "1.",
           "1.",
           "2.",
           "2.",
           "2.",
           "3.",
           "3.",
           "3.",
           "3.",
           "3.",
           "3.",
           "1.",
           "1.",
           "1.",
           "1.",
           "2.",
           "2.",
           "2.",
           "3.",
           "3.",
           "3.",
           "3.",
           "3.",
           "3.",
           "1.",
           "1.",
           "1.",
           "1.",
           "2.",
           "2.",
           "2.",
           "3.",
           "3.",
           "3.",
           "3.",
           "3.",
           "3.",
           "1.",
           "1.",
           "1.",
           "1.",
           "2.",
           "2.",
           "2.",
           "3.",
           "3.",
           "3.",
           "3.",
           "3.",
           "3.",
           "1.",
           "1.",
           "1.",
           "1.",
           "2.",
           "2.",
           "2.",
           "3.",
           "3.",
           "3.",
           "3.",
           "3.",
           "3."
          ],
          [
           "Tot Cases/1M pop",
           "Deaths/1M pop",
           "Tests/1M pop",
           "Recovered/1M pop",
           "Recovered/1M cases",
           "Deaths/1M cases",
           "Confirmed/1M tests",
           "GDP",
           "Family",
           "Life expectancy",
           "Freedom",
           "Generosity",
           "Trust",
           "Tot Cases/1M pop",
           "Deaths/1M pop",
           "Tests/1M pop",
           "Recovered/1M pop",
           "Recovered/1M cases",
           "Deaths/1M cases",
           "Confirmed/1M tests",
           "GDP",
           "Family",
           "Life expectancy",
           "Freedom",
           "Generosity",
           "Trust",
           "Tot Cases/1M pop",
           "Deaths/1M pop",
           "Tests/1M pop",
           "Recovered/1M pop",
           "Recovered/1M cases",
           "Deaths/1M cases",
           "Confirmed/1M tests",
           "GDP",
           "Family",
           "Life expectancy",
           "Freedom",
           "Generosity",
           "Trust",
           "Tot Cases/1M pop",
           "Deaths/1M pop",
           "Tests/1M pop",
           "Recovered/1M pop",
           "Recovered/1M cases",
           "Deaths/1M cases",
           "Confirmed/1M tests",
           "GDP",
           "Family",
           "Life expectancy",
           "Freedom",
           "Generosity",
           "Trust",
           "Tot Cases/1M pop",
           "Deaths/1M pop",
           "Tests/1M pop",
           "Recovered/1M pop",
           "Recovered/1M cases",
           "Deaths/1M cases",
           "Confirmed/1M tests",
           "GDP",
           "Family",
           "Life expectancy",
           "Freedom",
           "Generosity",
           "Trust",
           "Tot Cases/1M pop",
           "Deaths/1M pop",
           "Tests/1M pop",
           "Recovered/1M pop",
           "Recovered/1M cases",
           "Deaths/1M cases",
           "Confirmed/1M tests",
           "GDP",
           "Family",
           "Life expectancy",
           "Freedom",
           "Generosity",
           "Trust",
           "Tot Cases/1M pop",
           "Deaths/1M pop",
           "Tests/1M pop",
           "Recovered/1M pop",
           "Recovered/1M cases",
           "Deaths/1M cases",
           "Confirmed/1M tests",
           "GDP",
           "Family",
           "Life expectancy",
           "Freedom",
           "Generosity",
           "Trust",
           "Tot Cases/1M pop",
           "Deaths/1M pop",
           "Tests/1M pop",
           "Recovered/1M pop",
           "Recovered/1M cases",
           "Deaths/1M cases",
           "Confirmed/1M tests",
           "GDP",
           "Family",
           "Life expectancy",
           "Freedom",
           "Generosity",
           "Trust",
           "Tot Cases/1M pop",
           "Deaths/1M pop",
           "Tests/1M pop",
           "Recovered/1M pop",
           "Recovered/1M cases",
           "Deaths/1M cases",
           "Confirmed/1M tests",
           "GDP",
           "Family",
           "Life expectancy",
           "Freedom",
           "Generosity",
           "Trust",
           "Tot Cases/1M pop",
           "Deaths/1M pop",
           "Tests/1M pop",
           "Recovered/1M pop",
           "Recovered/1M cases",
           "Deaths/1M cases",
           "Confirmed/1M tests",
           "GDP",
           "Family",
           "Life expectancy",
           "Freedom",
           "Generosity",
           "Trust",
           "Tot Cases/1M pop",
           "Deaths/1M pop",
           "Tests/1M pop",
           "Recovered/1M pop",
           "Recovered/1M cases",
           "Deaths/1M cases",
           "Confirmed/1M tests",
           "GDP",
           "Family",
           "Life expectancy",
           "Freedom",
           "Generosity",
           "Trust",
           "Tot Cases/1M pop",
           "Deaths/1M pop",
           "Tests/1M pop",
           "Recovered/1M pop",
           "Recovered/1M cases",
           "Deaths/1M cases",
           "Confirmed/1M tests",
           "GDP",
           "Family",
           "Life expectancy",
           "Freedom",
           "Generosity",
           "Trust",
           "Tot Cases/1M pop",
           "Deaths/1M pop",
           "Tests/1M pop",
           "Recovered/1M pop",
           "Recovered/1M cases",
           "Deaths/1M cases",
           "Confirmed/1M tests",
           "GDP",
           "Family",
           "Life expectancy",
           "Freedom",
           "Generosity",
           "Trust"
          ]
         ]
        }
       ],
       "layout": {
        "font": {
         "size": 15
        },
        "height": 885,
        "template": {
         "data": {
          "bar": [
           {
            "error_x": {
             "color": "#2a3f5f"
            },
            "error_y": {
             "color": "#2a3f5f"
            },
            "marker": {
             "line": {
              "color": "#E5ECF6",
              "width": 0.5
             }
            },
            "type": "bar"
           }
          ],
          "barpolar": [
           {
            "marker": {
             "line": {
              "color": "#E5ECF6",
              "width": 0.5
             }
            },
            "type": "barpolar"
           }
          ],
          "carpet": [
           {
            "aaxis": {
             "endlinecolor": "#2a3f5f",
             "gridcolor": "white",
             "linecolor": "white",
             "minorgridcolor": "white",
             "startlinecolor": "#2a3f5f"
            },
            "baxis": {
             "endlinecolor": "#2a3f5f",
             "gridcolor": "white",
             "linecolor": "white",
             "minorgridcolor": "white",
             "startlinecolor": "#2a3f5f"
            },
            "type": "carpet"
           }
          ],
          "choropleth": [
           {
            "colorbar": {
             "outlinewidth": 0,
             "ticks": ""
            },
            "type": "choropleth"
           }
          ],
          "contour": [
           {
            "colorbar": {
             "outlinewidth": 0,
             "ticks": ""
            },
            "colorscale": [
             [
              0,
              "#0d0887"
             ],
             [
              0.1111111111111111,
              "#46039f"
             ],
             [
              0.2222222222222222,
              "#7201a8"
             ],
             [
              0.3333333333333333,
              "#9c179e"
             ],
             [
              0.4444444444444444,
              "#bd3786"
             ],
             [
              0.5555555555555556,
              "#d8576b"
             ],
             [
              0.6666666666666666,
              "#ed7953"
             ],
             [
              0.7777777777777778,
              "#fb9f3a"
             ],
             [
              0.8888888888888888,
              "#fdca26"
             ],
             [
              1,
              "#f0f921"
             ]
            ],
            "type": "contour"
           }
          ],
          "contourcarpet": [
           {
            "colorbar": {
             "outlinewidth": 0,
             "ticks": ""
            },
            "type": "contourcarpet"
           }
          ],
          "heatmap": [
           {
            "colorbar": {
             "outlinewidth": 0,
             "ticks": ""
            },
            "colorscale": [
             [
              0,
              "#0d0887"
             ],
             [
              0.1111111111111111,
              "#46039f"
             ],
             [
              0.2222222222222222,
              "#7201a8"
             ],
             [
              0.3333333333333333,
              "#9c179e"
             ],
             [
              0.4444444444444444,
              "#bd3786"
             ],
             [
              0.5555555555555556,
              "#d8576b"
             ],
             [
              0.6666666666666666,
              "#ed7953"
             ],
             [
              0.7777777777777778,
              "#fb9f3a"
             ],
             [
              0.8888888888888888,
              "#fdca26"
             ],
             [
              1,
              "#f0f921"
             ]
            ],
            "type": "heatmap"
           }
          ],
          "heatmapgl": [
           {
            "colorbar": {
             "outlinewidth": 0,
             "ticks": ""
            },
            "colorscale": [
             [
              0,
              "#0d0887"
             ],
             [
              0.1111111111111111,
              "#46039f"
             ],
             [
              0.2222222222222222,
              "#7201a8"
             ],
             [
              0.3333333333333333,
              "#9c179e"
             ],
             [
              0.4444444444444444,
              "#bd3786"
             ],
             [
              0.5555555555555556,
              "#d8576b"
             ],
             [
              0.6666666666666666,
              "#ed7953"
             ],
             [
              0.7777777777777778,
              "#fb9f3a"
             ],
             [
              0.8888888888888888,
              "#fdca26"
             ],
             [
              1,
              "#f0f921"
             ]
            ],
            "type": "heatmapgl"
           }
          ],
          "histogram": [
           {
            "marker": {
             "colorbar": {
              "outlinewidth": 0,
              "ticks": ""
             }
            },
            "type": "histogram"
           }
          ],
          "histogram2d": [
           {
            "colorbar": {
             "outlinewidth": 0,
             "ticks": ""
            },
            "colorscale": [
             [
              0,
              "#0d0887"
             ],
             [
              0.1111111111111111,
              "#46039f"
             ],
             [
              0.2222222222222222,
              "#7201a8"
             ],
             [
              0.3333333333333333,
              "#9c179e"
             ],
             [
              0.4444444444444444,
              "#bd3786"
             ],
             [
              0.5555555555555556,
              "#d8576b"
             ],
             [
              0.6666666666666666,
              "#ed7953"
             ],
             [
              0.7777777777777778,
              "#fb9f3a"
             ],
             [
              0.8888888888888888,
              "#fdca26"
             ],
             [
              1,
              "#f0f921"
             ]
            ],
            "type": "histogram2d"
           }
          ],
          "histogram2dcontour": [
           {
            "colorbar": {
             "outlinewidth": 0,
             "ticks": ""
            },
            "colorscale": [
             [
              0,
              "#0d0887"
             ],
             [
              0.1111111111111111,
              "#46039f"
             ],
             [
              0.2222222222222222,
              "#7201a8"
             ],
             [
              0.3333333333333333,
              "#9c179e"
             ],
             [
              0.4444444444444444,
              "#bd3786"
             ],
             [
              0.5555555555555556,
              "#d8576b"
             ],
             [
              0.6666666666666666,
              "#ed7953"
             ],
             [
              0.7777777777777778,
              "#fb9f3a"
             ],
             [
              0.8888888888888888,
              "#fdca26"
             ],
             [
              1,
              "#f0f921"
             ]
            ],
            "type": "histogram2dcontour"
           }
          ],
          "mesh3d": [
           {
            "colorbar": {
             "outlinewidth": 0,
             "ticks": ""
            },
            "type": "mesh3d"
           }
          ],
          "parcoords": [
           {
            "line": {
             "colorbar": {
              "outlinewidth": 0,
              "ticks": ""
             }
            },
            "type": "parcoords"
           }
          ],
          "pie": [
           {
            "automargin": true,
            "type": "pie"
           }
          ],
          "scatter": [
           {
            "marker": {
             "colorbar": {
              "outlinewidth": 0,
              "ticks": ""
             }
            },
            "type": "scatter"
           }
          ],
          "scatter3d": [
           {
            "line": {
             "colorbar": {
              "outlinewidth": 0,
              "ticks": ""
             }
            },
            "marker": {
             "colorbar": {
              "outlinewidth": 0,
              "ticks": ""
             }
            },
            "type": "scatter3d"
           }
          ],
          "scattercarpet": [
           {
            "marker": {
             "colorbar": {
              "outlinewidth": 0,
              "ticks": ""
             }
            },
            "type": "scattercarpet"
           }
          ],
          "scattergeo": [
           {
            "marker": {
             "colorbar": {
              "outlinewidth": 0,
              "ticks": ""
             }
            },
            "type": "scattergeo"
           }
          ],
          "scattergl": [
           {
            "marker": {
             "colorbar": {
              "outlinewidth": 0,
              "ticks": ""
             }
            },
            "type": "scattergl"
           }
          ],
          "scattermapbox": [
           {
            "marker": {
             "colorbar": {
              "outlinewidth": 0,
              "ticks": ""
             }
            },
            "type": "scattermapbox"
           }
          ],
          "scatterpolar": [
           {
            "marker": {
             "colorbar": {
              "outlinewidth": 0,
              "ticks": ""
             }
            },
            "type": "scatterpolar"
           }
          ],
          "scatterpolargl": [
           {
            "marker": {
             "colorbar": {
              "outlinewidth": 0,
              "ticks": ""
             }
            },
            "type": "scatterpolargl"
           }
          ],
          "scatterternary": [
           {
            "marker": {
             "colorbar": {
              "outlinewidth": 0,
              "ticks": ""
             }
            },
            "type": "scatterternary"
           }
          ],
          "surface": [
           {
            "colorbar": {
             "outlinewidth": 0,
             "ticks": ""
            },
            "colorscale": [
             [
              0,
              "#0d0887"
             ],
             [
              0.1111111111111111,
              "#46039f"
             ],
             [
              0.2222222222222222,
              "#7201a8"
             ],
             [
              0.3333333333333333,
              "#9c179e"
             ],
             [
              0.4444444444444444,
              "#bd3786"
             ],
             [
              0.5555555555555556,
              "#d8576b"
             ],
             [
              0.6666666666666666,
              "#ed7953"
             ],
             [
              0.7777777777777778,
              "#fb9f3a"
             ],
             [
              0.8888888888888888,
              "#fdca26"
             ],
             [
              1,
              "#f0f921"
             ]
            ],
            "type": "surface"
           }
          ],
          "table": [
           {
            "cells": {
             "fill": {
              "color": "#EBF0F8"
             },
             "line": {
              "color": "white"
             }
            },
            "header": {
             "fill": {
              "color": "#C8D4E3"
             },
             "line": {
              "color": "white"
             }
            },
            "type": "table"
           }
          ]
         },
         "layout": {
          "annotationdefaults": {
           "arrowcolor": "#2a3f5f",
           "arrowhead": 0,
           "arrowwidth": 1
          },
          "coloraxis": {
           "colorbar": {
            "outlinewidth": 0,
            "ticks": ""
           }
          },
          "colorscale": {
           "diverging": [
            [
             0,
             "#8e0152"
            ],
            [
             0.1,
             "#c51b7d"
            ],
            [
             0.2,
             "#de77ae"
            ],
            [
             0.3,
             "#f1b6da"
            ],
            [
             0.4,
             "#fde0ef"
            ],
            [
             0.5,
             "#f7f7f7"
            ],
            [
             0.6,
             "#e6f5d0"
            ],
            [
             0.7,
             "#b8e186"
            ],
            [
             0.8,
             "#7fbc41"
            ],
            [
             0.9,
             "#4d9221"
            ],
            [
             1,
             "#276419"
            ]
           ],
           "sequential": [
            [
             0,
             "#0d0887"
            ],
            [
             0.1111111111111111,
             "#46039f"
            ],
            [
             0.2222222222222222,
             "#7201a8"
            ],
            [
             0.3333333333333333,
             "#9c179e"
            ],
            [
             0.4444444444444444,
             "#bd3786"
            ],
            [
             0.5555555555555556,
             "#d8576b"
            ],
            [
             0.6666666666666666,
             "#ed7953"
            ],
            [
             0.7777777777777778,
             "#fb9f3a"
            ],
            [
             0.8888888888888888,
             "#fdca26"
            ],
            [
             1,
             "#f0f921"
            ]
           ],
           "sequentialminus": [
            [
             0,
             "#0d0887"
            ],
            [
             0.1111111111111111,
             "#46039f"
            ],
            [
             0.2222222222222222,
             "#7201a8"
            ],
            [
             0.3333333333333333,
             "#9c179e"
            ],
            [
             0.4444444444444444,
             "#bd3786"
            ],
            [
             0.5555555555555556,
             "#d8576b"
            ],
            [
             0.6666666666666666,
             "#ed7953"
            ],
            [
             0.7777777777777778,
             "#fb9f3a"
            ],
            [
             0.8888888888888888,
             "#fdca26"
            ],
            [
             1,
             "#f0f921"
            ]
           ]
          },
          "colorway": [
           "#636efa",
           "#EF553B",
           "#00cc96",
           "#ab63fa",
           "#FFA15A",
           "#19d3f3",
           "#FF6692",
           "#B6E880",
           "#FF97FF",
           "#FECB52"
          ],
          "font": {
           "color": "#2a3f5f"
          },
          "geo": {
           "bgcolor": "white",
           "lakecolor": "white",
           "landcolor": "#E5ECF6",
           "showlakes": true,
           "showland": true,
           "subunitcolor": "white"
          },
          "hoverlabel": {
           "align": "left"
          },
          "hovermode": "closest",
          "mapbox": {
           "style": "light"
          },
          "paper_bgcolor": "white",
          "plot_bgcolor": "#E5ECF6",
          "polar": {
           "angularaxis": {
            "gridcolor": "white",
            "linecolor": "white",
            "ticks": ""
           },
           "bgcolor": "#E5ECF6",
           "radialaxis": {
            "gridcolor": "white",
            "linecolor": "white",
            "ticks": ""
           }
          },
          "scene": {
           "xaxis": {
            "backgroundcolor": "#E5ECF6",
            "gridcolor": "white",
            "gridwidth": 2,
            "linecolor": "white",
            "showbackground": true,
            "ticks": "",
            "zerolinecolor": "white"
           },
           "yaxis": {
            "backgroundcolor": "#E5ECF6",
            "gridcolor": "white",
            "gridwidth": 2,
            "linecolor": "white",
            "showbackground": true,
            "ticks": "",
            "zerolinecolor": "white"
           },
           "zaxis": {
            "backgroundcolor": "#E5ECF6",
            "gridcolor": "white",
            "gridwidth": 2,
            "linecolor": "white",
            "showbackground": true,
            "ticks": "",
            "zerolinecolor": "white"
           }
          },
          "shapedefaults": {
           "line": {
            "color": "#2a3f5f"
           }
          },
          "ternary": {
           "aaxis": {
            "gridcolor": "white",
            "linecolor": "white",
            "ticks": ""
           },
           "baxis": {
            "gridcolor": "white",
            "linecolor": "white",
            "ticks": ""
           },
           "bgcolor": "#E5ECF6",
           "caxis": {
            "gridcolor": "white",
            "linecolor": "white",
            "ticks": ""
           }
          },
          "title": {
           "x": 0.05
          },
          "xaxis": {
           "automargin": true,
           "gridcolor": "white",
           "linecolor": "white",
           "ticks": "",
           "title": {
            "standoff": 15
           },
           "zerolinecolor": "white",
           "zerolinewidth": 2
          },
          "yaxis": {
           "automargin": true,
           "gridcolor": "white",
           "linecolor": "white",
           "ticks": "",
           "title": {
            "standoff": 15
           },
           "zerolinecolor": "white",
           "zerolinewidth": 2
          }
         }
        },
        "title": {
         "text": "Eastern Mediterranean: 19 countries"
        },
        "width": 885,
        "xaxis": {
         "range": [
          0.5,
          12.5
         ],
         "showgrid": true,
         "ticklen": 0,
         "ticks": "outside",
         "tickson": "boundaries"
        },
        "yaxis": {
         "range": [
          0.5,
          12.5
         ],
         "showgrid": true,
         "ticklen": 0,
         "ticks": "outside",
         "tickson": "boundaries"
        }
       }
      },
      "text/html": [
       "<div>\n",
       "        \n",
       "        \n",
       "            <div id=\"3b27c77f-e17c-4c24-b4ef-27a50a3e1494\" class=\"plotly-graph-div\" style=\"height:885px; width:885px;\"></div>\n",
       "            <script type=\"text/javascript\">\n",
       "                require([\"plotly\"], function(Plotly) {\n",
       "                    window.PLOTLYENV=window.PLOTLYENV || {};\n",
       "                    \n",
       "                if (document.getElementById(\"3b27c77f-e17c-4c24-b4ef-27a50a3e1494\")) {\n",
       "                    Plotly.newPlot(\n",
       "                        '3b27c77f-e17c-4c24-b4ef-27a50a3e1494',\n",
       "                        [{\"hoverinfo\": \"text\", \"hovertext\": [\"1.0\", \"0.31185553130851584\", \"0.5681238075536466\", \"0.9973956197006008\", \"0.42618167509841964\", \"-0.29884216635014854\", \"-0.1817578607603894\", \"0.7019311840691972\", \"0.5304948652080991\", \"0.539306126277303\", \"0.5561250077308418\", \"0.2518755992316097\", \"0.14959409728631584\", \"0.31185553130851584\", \"1.0\", \"0.09254406643857026\", \"0.2977439733294807\", \"0.3685307651273593\", \"-0.1208386403814101\", \"-0.07150047806150794\", \"0.4682415911714779\", \"0.1669237055154695\", \"0.34161793512450145\", \"0.15719214362241982\", \"0.1375605595638837\", \"-0.04771714691094341\", \"0.5681238075536466\", \"0.09254406643857026\", \"1.0\", \"0.5587600906614205\", \"0.30337345489462114\", \"-0.26601008286940764\", \"-0.3378321876593613\", \"0.5830475792994821\", \"0.4907026135855689\", \"0.49540705243709654\", \"0.5896811099982657\", \"0.36252730870335137\", \"0.25611483140379626\", \"0.9973956197006008\", \"0.2977439733294807\", \"0.5587600906614205\", \"1.0\", \"0.45537021574437797\", \"-0.27848015225441697\", \"-0.15748936869043062\", \"0.687438633799987\", \"0.5049741980931118\", \"0.5107867609774377\", \"0.558133135619783\", \"0.2588877222190694\", \"0.1730236012804696\", \"0.42618167509841964\", \"0.3685307651273593\", \"0.30337345489462114\", \"0.45537021574437797\", \"1.0\", \"-0.09128647535670815\", \"0.2496924862176958\", \"0.29360502549945977\", \"0.22975844325696165\", \"0.04293736387277737\", \"0.47936115501694443\", \"0.049567040827529246\", \"0.13737287479088706\", \"-0.29884216635014854\", \"-0.1208386403814101\", \"-0.26601008286940764\", \"-0.27848015225441697\", \"-0.09128647535670815\", \"1.0\", \"0.6912258991385087\", \"-0.44520277747852194\", \"-0.09923414370474307\", \"-0.4009620732552357\", \"-0.3855450150797063\", \"-0.10982292680216744\", \"-0.15291041268462968\", \"-0.1817578607603894\", \"-0.07150047806150794\", \"-0.3378321876593613\", \"-0.15748936869043062\", \"0.2496924862176958\", \"0.6912258991385087\", \"1.0\", \"-0.2417518251526719\", \"-0.30187711454683197\", \"-0.4610332343250232\", \"-0.39183025628175455\", \"-0.2327686316073024\", \"-0.31261241166708925\", \"0.7019311840691972\", \"0.4682415911714779\", \"0.5830475792994821\", \"0.687438633799987\", \"0.29360502549945977\", \"-0.44520277747852194\", \"-0.2417518251526719\", \"1.0\", \"0.6543876128493445\", \"0.844730365486913\", \"0.5278288576121387\", \"0.05845011441204662\", \"0.03908500062507553\", \"0.5304948652080991\", \"0.1669237055154695\", \"0.4907026135855689\", \"0.5049741980931118\", \"0.22975844325696165\", \"-0.09923414370474307\", \"-0.30187711454683197\", \"0.6543876128493445\", \"1.0\", \"0.700868786733568\", \"0.5691489645010496\", \"-0.2807291790993751\", \"0.016146921727232942\", \"0.539306126277303\", \"0.34161793512450145\", \"0.49540705243709654\", \"0.5107867609774377\", \"0.04293736387277737\", \"-0.4009620732552357\", \"-0.4610332343250232\", \"0.844730365486913\", \"0.700868786733568\", \"1.0\", \"0.4581726171654735\", \"-0.19857529338115099\", \"-0.15035264373342427\", \"0.5561250077308418\", \"0.15719214362241982\", \"0.5896811099982657\", \"0.558133135619783\", \"0.47936115501694443\", \"-0.3855450150797063\", \"-0.39183025628175455\", \"0.5278288576121387\", \"0.5691489645010496\", \"0.4581726171654735\", \"1.0\", \"0.12891564361844407\", \"0.6503126750822003\", \"0.2518755992316097\", \"0.1375605595638837\", \"0.36252730870335137\", \"0.2588877222190694\", \"0.049567040827529246\", \"-0.10982292680216744\", \"-0.2327686316073024\", \"0.05845011441204662\", \"-0.2807291790993751\", \"-0.19857529338115099\", \"0.12891564361844407\", \"1.0\", \"0.5060762351360643\", \"0.14959409728631584\", \"-0.04771714691094341\", \"0.25611483140379626\", \"0.1730236012804696\", \"0.13737287479088706\", \"-0.15291041268462968\", \"-0.31261241166708925\", \"0.03908500062507553\", \"0.016146921727232942\", \"-0.15035264373342427\", \"0.6503126750822003\", \"0.5060762351360643\", \"1.0\"], \"marker\": {\"cmid\": 0, \"color\": [1.0, 0.31185553130851584, 0.5681238075536466, 0.9973956197006008, 0.42618167509841964, -0.29884216635014854, -0.1817578607603894, 0.7019311840691972, 0.5304948652080991, 0.539306126277303, 0.5561250077308418, 0.2518755992316097, 0.14959409728631584, 0.31185553130851584, 1.0, 0.09254406643857026, 0.2977439733294807, 0.3685307651273593, -0.1208386403814101, -0.07150047806150794, 0.4682415911714779, 0.1669237055154695, 0.34161793512450145, 0.15719214362241982, 0.1375605595638837, -0.04771714691094341, 0.5681238075536466, 0.09254406643857026, 1.0, 0.5587600906614205, 0.30337345489462114, -0.26601008286940764, -0.3378321876593613, 0.5830475792994821, 0.4907026135855689, 0.49540705243709654, 0.5896811099982657, 0.36252730870335137, 0.25611483140379626, 0.9973956197006008, 0.2977439733294807, 0.5587600906614205, 1.0, 0.45537021574437797, -0.27848015225441697, -0.15748936869043062, 0.687438633799987, 0.5049741980931118, 0.5107867609774377, 0.558133135619783, 0.2588877222190694, 0.1730236012804696, 0.42618167509841964, 0.3685307651273593, 0.30337345489462114, 0.45537021574437797, 1.0, -0.09128647535670815, 0.2496924862176958, 0.29360502549945977, 0.22975844325696165, 0.04293736387277737, 0.47936115501694443, 0.049567040827529246, 0.13737287479088706, -0.29884216635014854, -0.1208386403814101, -0.26601008286940764, -0.27848015225441697, -0.09128647535670815, 1.0, 0.6912258991385087, -0.44520277747852194, -0.09923414370474307, -0.4009620732552357, -0.3855450150797063, -0.10982292680216744, -0.15291041268462968, -0.1817578607603894, -0.07150047806150794, -0.3378321876593613, -0.15748936869043062, 0.2496924862176958, 0.6912258991385087, 1.0, -0.2417518251526719, -0.30187711454683197, -0.4610332343250232, -0.39183025628175455, -0.2327686316073024, -0.31261241166708925, 0.7019311840691972, 0.4682415911714779, 0.5830475792994821, 0.687438633799987, 0.29360502549945977, -0.44520277747852194, -0.2417518251526719, 1.0, 0.6543876128493445, 0.844730365486913, 0.5278288576121387, 0.05845011441204662, 0.03908500062507553, 0.5304948652080991, 0.1669237055154695, 0.4907026135855689, 0.5049741980931118, 0.22975844325696165, -0.09923414370474307, -0.30187711454683197, 0.6543876128493445, 1.0, 0.700868786733568, 0.5691489645010496, -0.2807291790993751, 0.016146921727232942, 0.539306126277303, 0.34161793512450145, 0.49540705243709654, 0.5107867609774377, 0.04293736387277737, -0.4009620732552357, -0.4610332343250232, 0.844730365486913, 0.700868786733568, 1.0, 0.4581726171654735, -0.19857529338115099, -0.15035264373342427, 0.5561250077308418, 0.15719214362241982, 0.5896811099982657, 0.558133135619783, 0.47936115501694443, -0.3855450150797063, -0.39183025628175455, 0.5278288576121387, 0.5691489645010496, 0.4581726171654735, 1.0, 0.12891564361844407, 0.6503126750822003, 0.2518755992316097, 0.1375605595638837, 0.36252730870335137, 0.2588877222190694, 0.049567040827529246, -0.10982292680216744, -0.2327686316073024, 0.05845011441204662, -0.2807291790993751, -0.19857529338115099, 0.12891564361844407, 1.0, 0.5060762351360643, 0.14959409728631584, -0.04771714691094341, 0.25611483140379626, 0.1730236012804696, 0.13737287479088706, -0.15291041268462968, -0.31261241166708925, 0.03908500062507553, 0.016146921727232942, -0.15035264373342427, 0.6503126750822003, 0.5060762351360643, 1.0], \"colorbar\": {\"title\": {\"text\": \"Correlation\"}}, \"colorscale\": [[0.0, \"rgb(5,48,97)\"], [0.1, \"rgb(33,102,172)\"], [0.2, \"rgb(67,147,195)\"], [0.3, \"rgb(146,197,222)\"], [0.4, \"rgb(209,229,240)\"], [0.5, \"rgb(247,247,247)\"], [0.6, \"rgb(253,219,199)\"], [0.7, \"rgb(244,165,130)\"], [0.8, \"rgb(214,96,77)\"], [0.9, \"rgb(178,24,43)\"], [1.0, \"rgb(103,0,31)\"]], \"size\": [46.0, 14.345354440191729, 26.13369514746774, 45.880198506227636, 19.604357054527302, 13.746739652106832, 8.360861594977912, 32.28883446718307, 24.402763799572558, 24.80808180875594, 25.581750355618723, 11.586277564654045, 6.881328475170529, 14.345354440191729, 46.0, 4.257027056174232, 13.696222773156112, 16.952415195858528, 5.558577457544865, 3.289021990829365, 21.539113193887985, 7.678490453711597, 15.714425015727066, 7.230838606631312, 6.3277857399386495, 2.194988757903397, 26.13369514746774, 4.257027056174232, 46.0, 25.702964170425343, 13.955178925152573, 12.236463811992751, 15.540280632330619, 26.820188647776178, 22.572320224936167, 22.78872441210644, 27.125331059920224, 16.676256200354164, 11.781282244574628, 45.880198506227636, 13.696222773156112, 25.702964170425343, 46.0, 20.947029924241388, 12.810087003703181, 7.2445109597598085, 31.622177154799402, 23.228813112283145, 23.496191004962135, 25.674124238510014, 11.908835222077194, 7.959085658901601, 19.604357054527302, 16.952415195858528, 13.955178925152573, 20.947029924241388, 46.0, 4.199177866408575, 11.485854366014006, 13.50583117297515, 10.568888389820236, 1.975118738147759, 22.050613130779443, 2.2800838780663453, 6.319152240380805, 13.746739652106832, 5.558577457544865, 12.236463811992751, 12.810087003703181, 4.199177866408575, 46.0, 31.796391360371402, 20.47932776401201, 4.564770610418181, 18.44425536974084, 17.73507069366649, 5.051854632899702, 7.033878983492965, 8.360861594977912, 3.289021990829365, 15.540280632330619, 7.2445109597598085, 11.485854366014006, 31.796391360371402, 46.0, 11.120583957022907, 13.886347269154271, 21.207528778951065, 18.02419178896071, 10.70735705393591, 14.380170936686106, 32.28883446718307, 21.539113193887985, 26.820188647776178, 31.622177154799402, 13.50583117297515, 20.47932776401201, 11.120583957022907, 46.0, 30.101830191069848, 38.857596812398, 24.280127450158382, 2.688705262954145, 1.7979100287534742, 24.402763799572558, 7.678490453711597, 22.572320224936167, 23.228813112283145, 10.568888389820236, 4.564770610418181, 13.886347269154271, 30.101830191069848, 46.0, 32.23996418974413, 26.18085236704828, 12.913542238571255, 0.7427583994527154, 24.80808180875594, 15.714425015727066, 22.78872441210644, 23.496191004962135, 1.975118738147759, 18.44425536974084, 21.207528778951065, 38.857596812398, 32.23996418974413, 46.0, 21.07594038961178, 9.134463495532945, 6.916221611737517, 25.581750355618723, 7.230838606631312, 27.125331059920224, 25.674124238510014, 22.050613130779443, 17.73507069366649, 18.02419178896071, 24.280127450158382, 26.18085236704828, 21.07594038961178, 46.0, 5.930119606448427, 29.91438305378121, 11.586277564654045, 6.3277857399386495, 16.676256200354164, 11.908835222077194, 2.2800838780663453, 5.051854632899702, 10.70735705393591, 2.688705262954145, 12.913542238571255, 9.134463495532945, 5.930119606448427, 46.0, 23.279506816258955, 6.881328475170529, 2.194988757903397, 11.781282244574628, 7.959085658901601, 6.319152240380805, 7.033878983492965, 14.380170936686106, 1.7979100287534742, 0.7427583994527154, 6.916221611737517, 29.91438305378121, 23.279506816258955, 46.0]}, \"mode\": \"markers\", \"type\": \"scatter\", \"x\": [[\"1.\", \"1.\", \"1.\", \"1.\", \"1.\", \"1.\", \"1.\", \"1.\", \"1.\", \"1.\", \"1.\", \"1.\", \"1.\", \"1.\", \"1.\", \"1.\", \"1.\", \"1.\", \"1.\", \"1.\", \"1.\", \"1.\", \"1.\", \"1.\", \"1.\", \"1.\", \"1.\", \"1.\", \"1.\", \"1.\", \"1.\", \"1.\", \"1.\", \"1.\", \"1.\", \"1.\", \"1.\", \"1.\", \"1.\", \"1.\", \"1.\", \"1.\", \"1.\", \"1.\", \"1.\", \"1.\", \"1.\", \"1.\", \"1.\", \"1.\", \"1.\", \"1.\", \"2.\", \"2.\", \"2.\", \"2.\", \"2.\", \"2.\", \"2.\", \"2.\", \"2.\", \"2.\", \"2.\", \"2.\", \"2.\", \"2.\", \"2.\", \"2.\", \"2.\", \"2.\", \"2.\", \"2.\", \"2.\", \"2.\", \"2.\", \"2.\", \"2.\", \"2.\", \"2.\", \"2.\", \"2.\", \"2.\", \"2.\", \"2.\", \"2.\", \"2.\", \"2.\", \"2.\", \"2.\", \"2.\", \"2.\", \"3.\", \"3.\", \"3.\", \"3.\", \"3.\", \"3.\", \"3.\", \"3.\", \"3.\", \"3.\", \"3.\", \"3.\", \"3.\", \"3.\", \"3.\", \"3.\", \"3.\", \"3.\", \"3.\", \"3.\", \"3.\", \"3.\", \"3.\", \"3.\", \"3.\", \"3.\", \"3.\", \"3.\", \"3.\", \"3.\", \"3.\", \"3.\", \"3.\", \"3.\", \"3.\", \"3.\", \"3.\", \"3.\", \"3.\", \"3.\", \"3.\", \"3.\", \"3.\", \"3.\", \"3.\", \"3.\", \"3.\", \"3.\", \"3.\", \"3.\", \"3.\", \"3.\", \"3.\", \"3.\", \"3.\", \"3.\", \"3.\", \"3.\", \"3.\", \"3.\", \"3.\", \"3.\", \"3.\", \"3.\", \"3.\", \"3.\", \"3.\", \"3.\", \"3.\", \"3.\", \"3.\", \"3.\", \"3.\", \"3.\", \"3.\", \"3.\", \"3.\", \"3.\"], [\"Tot Cases/1M pop\", \"Tot Cases/1M pop\", \"Tot Cases/1M pop\", \"Tot Cases/1M pop\", \"Tot Cases/1M pop\", \"Tot Cases/1M pop\", \"Tot Cases/1M pop\", \"Tot Cases/1M pop\", \"Tot Cases/1M pop\", \"Tot Cases/1M pop\", \"Tot Cases/1M pop\", \"Tot Cases/1M pop\", \"Tot Cases/1M pop\", \"Deaths/1M pop\", \"Deaths/1M pop\", \"Deaths/1M pop\", \"Deaths/1M pop\", \"Deaths/1M pop\", \"Deaths/1M pop\", \"Deaths/1M pop\", \"Deaths/1M pop\", \"Deaths/1M pop\", \"Deaths/1M pop\", \"Deaths/1M pop\", \"Deaths/1M pop\", \"Deaths/1M pop\", \"Tests/1M pop\", \"Tests/1M pop\", \"Tests/1M pop\", \"Tests/1M pop\", \"Tests/1M pop\", \"Tests/1M pop\", \"Tests/1M pop\", \"Tests/1M pop\", \"Tests/1M pop\", \"Tests/1M pop\", \"Tests/1M pop\", \"Tests/1M pop\", \"Tests/1M pop\", \"Recovered/1M pop\", \"Recovered/1M pop\", \"Recovered/1M pop\", \"Recovered/1M pop\", \"Recovered/1M pop\", \"Recovered/1M pop\", \"Recovered/1M pop\", \"Recovered/1M pop\", \"Recovered/1M pop\", \"Recovered/1M pop\", \"Recovered/1M pop\", \"Recovered/1M pop\", \"Recovered/1M pop\", \"Recovered/1M cases\", \"Recovered/1M cases\", \"Recovered/1M cases\", \"Recovered/1M cases\", \"Recovered/1M cases\", \"Recovered/1M cases\", \"Recovered/1M cases\", \"Recovered/1M cases\", \"Recovered/1M cases\", \"Recovered/1M cases\", \"Recovered/1M cases\", \"Recovered/1M cases\", \"Recovered/1M cases\", \"Deaths/1M cases\", \"Deaths/1M cases\", \"Deaths/1M cases\", \"Deaths/1M cases\", \"Deaths/1M cases\", \"Deaths/1M cases\", \"Deaths/1M cases\", \"Deaths/1M cases\", \"Deaths/1M cases\", \"Deaths/1M cases\", \"Deaths/1M cases\", \"Deaths/1M cases\", \"Deaths/1M cases\", \"Confirmed/1M tests\", \"Confirmed/1M tests\", \"Confirmed/1M tests\", \"Confirmed/1M tests\", \"Confirmed/1M tests\", \"Confirmed/1M tests\", \"Confirmed/1M tests\", \"Confirmed/1M tests\", \"Confirmed/1M tests\", \"Confirmed/1M tests\", \"Confirmed/1M tests\", \"Confirmed/1M tests\", \"Confirmed/1M tests\", \"GDP\", \"GDP\", \"GDP\", \"GDP\", \"GDP\", \"GDP\", \"GDP\", \"GDP\", \"GDP\", \"GDP\", \"GDP\", \"GDP\", \"GDP\", \"Family\", \"Family\", \"Family\", \"Family\", \"Family\", \"Family\", \"Family\", \"Family\", \"Family\", \"Family\", \"Family\", \"Family\", \"Family\", \"Life expectancy\", \"Life expectancy\", \"Life expectancy\", \"Life expectancy\", \"Life expectancy\", \"Life expectancy\", \"Life expectancy\", \"Life expectancy\", \"Life expectancy\", \"Life expectancy\", \"Life expectancy\", \"Life expectancy\", \"Life expectancy\", \"Freedom\", \"Freedom\", \"Freedom\", \"Freedom\", \"Freedom\", \"Freedom\", \"Freedom\", \"Freedom\", \"Freedom\", \"Freedom\", \"Freedom\", \"Freedom\", \"Freedom\", \"Generosity\", \"Generosity\", \"Generosity\", \"Generosity\", \"Generosity\", \"Generosity\", \"Generosity\", \"Generosity\", \"Generosity\", \"Generosity\", \"Generosity\", \"Generosity\", \"Generosity\", \"Trust\", \"Trust\", \"Trust\", \"Trust\", \"Trust\", \"Trust\", \"Trust\", \"Trust\", \"Trust\", \"Trust\", \"Trust\", \"Trust\", \"Trust\"]], \"y\": [[\"1.\", \"1.\", \"1.\", \"1.\", \"2.\", \"2.\", \"2.\", \"3.\", \"3.\", \"3.\", \"3.\", \"3.\", \"3.\", \"1.\", \"1.\", \"1.\", \"1.\", \"2.\", \"2.\", \"2.\", \"3.\", \"3.\", \"3.\", \"3.\", \"3.\", \"3.\", \"1.\", \"1.\", \"1.\", \"1.\", \"2.\", \"2.\", \"2.\", \"3.\", \"3.\", \"3.\", \"3.\", \"3.\", \"3.\", \"1.\", \"1.\", \"1.\", \"1.\", \"2.\", \"2.\", \"2.\", \"3.\", \"3.\", \"3.\", \"3.\", \"3.\", \"3.\", \"1.\", \"1.\", \"1.\", \"1.\", \"2.\", \"2.\", \"2.\", \"3.\", \"3.\", \"3.\", \"3.\", \"3.\", \"3.\", \"1.\", \"1.\", \"1.\", \"1.\", \"2.\", \"2.\", \"2.\", \"3.\", \"3.\", \"3.\", \"3.\", \"3.\", \"3.\", \"1.\", \"1.\", \"1.\", \"1.\", \"2.\", \"2.\", \"2.\", \"3.\", \"3.\", \"3.\", \"3.\", \"3.\", \"3.\", \"1.\", \"1.\", \"1.\", \"1.\", \"2.\", \"2.\", \"2.\", \"3.\", \"3.\", \"3.\", \"3.\", \"3.\", \"3.\", \"1.\", \"1.\", \"1.\", \"1.\", \"2.\", \"2.\", \"2.\", \"3.\", \"3.\", \"3.\", \"3.\", \"3.\", \"3.\", \"1.\", \"1.\", \"1.\", \"1.\", \"2.\", \"2.\", \"2.\", \"3.\", \"3.\", \"3.\", \"3.\", \"3.\", \"3.\", \"1.\", \"1.\", \"1.\", \"1.\", \"2.\", \"2.\", \"2.\", \"3.\", \"3.\", \"3.\", \"3.\", \"3.\", \"3.\", \"1.\", \"1.\", \"1.\", \"1.\", \"2.\", \"2.\", \"2.\", \"3.\", \"3.\", \"3.\", \"3.\", \"3.\", \"3.\", \"1.\", \"1.\", \"1.\", \"1.\", \"2.\", \"2.\", \"2.\", \"3.\", \"3.\", \"3.\", \"3.\", \"3.\", \"3.\"], [\"Tot Cases/1M pop\", \"Deaths/1M pop\", \"Tests/1M pop\", \"Recovered/1M pop\", \"Recovered/1M cases\", \"Deaths/1M cases\", \"Confirmed/1M tests\", \"GDP\", \"Family\", \"Life expectancy\", \"Freedom\", \"Generosity\", \"Trust\", \"Tot Cases/1M pop\", \"Deaths/1M pop\", \"Tests/1M pop\", \"Recovered/1M pop\", \"Recovered/1M cases\", \"Deaths/1M cases\", \"Confirmed/1M tests\", \"GDP\", \"Family\", \"Life expectancy\", \"Freedom\", \"Generosity\", \"Trust\", \"Tot Cases/1M pop\", \"Deaths/1M pop\", \"Tests/1M pop\", \"Recovered/1M pop\", \"Recovered/1M cases\", \"Deaths/1M cases\", \"Confirmed/1M tests\", \"GDP\", \"Family\", \"Life expectancy\", \"Freedom\", \"Generosity\", \"Trust\", \"Tot Cases/1M pop\", \"Deaths/1M pop\", \"Tests/1M pop\", \"Recovered/1M pop\", \"Recovered/1M cases\", \"Deaths/1M cases\", \"Confirmed/1M tests\", \"GDP\", \"Family\", \"Life expectancy\", \"Freedom\", \"Generosity\", \"Trust\", \"Tot Cases/1M pop\", \"Deaths/1M pop\", \"Tests/1M pop\", \"Recovered/1M pop\", \"Recovered/1M cases\", \"Deaths/1M cases\", \"Confirmed/1M tests\", \"GDP\", \"Family\", \"Life expectancy\", \"Freedom\", \"Generosity\", \"Trust\", \"Tot Cases/1M pop\", \"Deaths/1M pop\", \"Tests/1M pop\", \"Recovered/1M pop\", \"Recovered/1M cases\", \"Deaths/1M cases\", \"Confirmed/1M tests\", \"GDP\", \"Family\", \"Life expectancy\", \"Freedom\", \"Generosity\", \"Trust\", \"Tot Cases/1M pop\", \"Deaths/1M pop\", \"Tests/1M pop\", \"Recovered/1M pop\", \"Recovered/1M cases\", \"Deaths/1M cases\", \"Confirmed/1M tests\", \"GDP\", \"Family\", \"Life expectancy\", \"Freedom\", \"Generosity\", \"Trust\", \"Tot Cases/1M pop\", \"Deaths/1M pop\", \"Tests/1M pop\", \"Recovered/1M pop\", \"Recovered/1M cases\", \"Deaths/1M cases\", \"Confirmed/1M tests\", \"GDP\", \"Family\", \"Life expectancy\", \"Freedom\", \"Generosity\", \"Trust\", \"Tot Cases/1M pop\", \"Deaths/1M pop\", \"Tests/1M pop\", \"Recovered/1M pop\", \"Recovered/1M cases\", \"Deaths/1M cases\", \"Confirmed/1M tests\", \"GDP\", \"Family\", \"Life expectancy\", \"Freedom\", \"Generosity\", \"Trust\", \"Tot Cases/1M pop\", \"Deaths/1M pop\", \"Tests/1M pop\", \"Recovered/1M pop\", \"Recovered/1M cases\", \"Deaths/1M cases\", \"Confirmed/1M tests\", \"GDP\", \"Family\", \"Life expectancy\", \"Freedom\", \"Generosity\", \"Trust\", \"Tot Cases/1M pop\", \"Deaths/1M pop\", \"Tests/1M pop\", \"Recovered/1M pop\", \"Recovered/1M cases\", \"Deaths/1M cases\", \"Confirmed/1M tests\", \"GDP\", \"Family\", \"Life expectancy\", \"Freedom\", \"Generosity\", \"Trust\", \"Tot Cases/1M pop\", \"Deaths/1M pop\", \"Tests/1M pop\", \"Recovered/1M pop\", \"Recovered/1M cases\", \"Deaths/1M cases\", \"Confirmed/1M tests\", \"GDP\", \"Family\", \"Life expectancy\", \"Freedom\", \"Generosity\", \"Trust\", \"Tot Cases/1M pop\", \"Deaths/1M pop\", \"Tests/1M pop\", \"Recovered/1M pop\", \"Recovered/1M cases\", \"Deaths/1M cases\", \"Confirmed/1M tests\", \"GDP\", \"Family\", \"Life expectancy\", \"Freedom\", \"Generosity\", \"Trust\"]]}],\n",
       "                        {\"font\": {\"size\": 15}, \"height\": 885, \"template\": {\"data\": {\"bar\": [{\"error_x\": {\"color\": \"#2a3f5f\"}, \"error_y\": {\"color\": \"#2a3f5f\"}, \"marker\": {\"line\": {\"color\": \"#E5ECF6\", \"width\": 0.5}}, \"type\": \"bar\"}], \"barpolar\": [{\"marker\": {\"line\": {\"color\": \"#E5ECF6\", \"width\": 0.5}}, \"type\": \"barpolar\"}], \"carpet\": [{\"aaxis\": {\"endlinecolor\": \"#2a3f5f\", \"gridcolor\": \"white\", \"linecolor\": \"white\", \"minorgridcolor\": \"white\", \"startlinecolor\": \"#2a3f5f\"}, \"baxis\": {\"endlinecolor\": \"#2a3f5f\", \"gridcolor\": \"white\", \"linecolor\": \"white\", \"minorgridcolor\": \"white\", \"startlinecolor\": \"#2a3f5f\"}, \"type\": \"carpet\"}], \"choropleth\": [{\"colorbar\": {\"outlinewidth\": 0, \"ticks\": \"\"}, \"type\": \"choropleth\"}], \"contour\": [{\"colorbar\": {\"outlinewidth\": 0, \"ticks\": \"\"}, \"colorscale\": [[0.0, \"#0d0887\"], [0.1111111111111111, \"#46039f\"], [0.2222222222222222, \"#7201a8\"], [0.3333333333333333, \"#9c179e\"], [0.4444444444444444, \"#bd3786\"], [0.5555555555555556, \"#d8576b\"], [0.6666666666666666, \"#ed7953\"], [0.7777777777777778, \"#fb9f3a\"], [0.8888888888888888, \"#fdca26\"], [1.0, \"#f0f921\"]], \"type\": \"contour\"}], \"contourcarpet\": [{\"colorbar\": {\"outlinewidth\": 0, \"ticks\": \"\"}, \"type\": \"contourcarpet\"}], \"heatmap\": [{\"colorbar\": {\"outlinewidth\": 0, \"ticks\": \"\"}, \"colorscale\": [[0.0, \"#0d0887\"], [0.1111111111111111, \"#46039f\"], [0.2222222222222222, \"#7201a8\"], [0.3333333333333333, \"#9c179e\"], [0.4444444444444444, \"#bd3786\"], [0.5555555555555556, \"#d8576b\"], [0.6666666666666666, \"#ed7953\"], [0.7777777777777778, \"#fb9f3a\"], [0.8888888888888888, \"#fdca26\"], [1.0, \"#f0f921\"]], \"type\": \"heatmap\"}], \"heatmapgl\": [{\"colorbar\": {\"outlinewidth\": 0, \"ticks\": \"\"}, \"colorscale\": [[0.0, \"#0d0887\"], [0.1111111111111111, \"#46039f\"], [0.2222222222222222, \"#7201a8\"], [0.3333333333333333, \"#9c179e\"], [0.4444444444444444, \"#bd3786\"], [0.5555555555555556, \"#d8576b\"], [0.6666666666666666, \"#ed7953\"], [0.7777777777777778, \"#fb9f3a\"], [0.8888888888888888, \"#fdca26\"], [1.0, \"#f0f921\"]], \"type\": \"heatmapgl\"}], \"histogram\": [{\"marker\": {\"colorbar\": {\"outlinewidth\": 0, \"ticks\": \"\"}}, \"type\": \"histogram\"}], \"histogram2d\": [{\"colorbar\": {\"outlinewidth\": 0, \"ticks\": \"\"}, \"colorscale\": [[0.0, \"#0d0887\"], [0.1111111111111111, \"#46039f\"], [0.2222222222222222, \"#7201a8\"], [0.3333333333333333, \"#9c179e\"], [0.4444444444444444, \"#bd3786\"], [0.5555555555555556, \"#d8576b\"], [0.6666666666666666, \"#ed7953\"], [0.7777777777777778, \"#fb9f3a\"], [0.8888888888888888, \"#fdca26\"], [1.0, \"#f0f921\"]], \"type\": \"histogram2d\"}], \"histogram2dcontour\": [{\"colorbar\": {\"outlinewidth\": 0, \"ticks\": \"\"}, \"colorscale\": [[0.0, \"#0d0887\"], [0.1111111111111111, \"#46039f\"], [0.2222222222222222, \"#7201a8\"], [0.3333333333333333, \"#9c179e\"], [0.4444444444444444, \"#bd3786\"], [0.5555555555555556, \"#d8576b\"], [0.6666666666666666, \"#ed7953\"], [0.7777777777777778, \"#fb9f3a\"], [0.8888888888888888, \"#fdca26\"], [1.0, \"#f0f921\"]], \"type\": \"histogram2dcontour\"}], \"mesh3d\": [{\"colorbar\": {\"outlinewidth\": 0, \"ticks\": \"\"}, \"type\": \"mesh3d\"}], \"parcoords\": [{\"line\": {\"colorbar\": {\"outlinewidth\": 0, \"ticks\": \"\"}}, \"type\": \"parcoords\"}], \"pie\": [{\"automargin\": true, \"type\": \"pie\"}], \"scatter\": [{\"marker\": {\"colorbar\": {\"outlinewidth\": 0, \"ticks\": \"\"}}, \"type\": \"scatter\"}], \"scatter3d\": [{\"line\": {\"colorbar\": {\"outlinewidth\": 0, \"ticks\": \"\"}}, \"marker\": {\"colorbar\": {\"outlinewidth\": 0, \"ticks\": \"\"}}, \"type\": \"scatter3d\"}], \"scattercarpet\": [{\"marker\": {\"colorbar\": {\"outlinewidth\": 0, \"ticks\": \"\"}}, \"type\": \"scattercarpet\"}], \"scattergeo\": [{\"marker\": {\"colorbar\": {\"outlinewidth\": 0, \"ticks\": \"\"}}, \"type\": \"scattergeo\"}], \"scattergl\": [{\"marker\": {\"colorbar\": {\"outlinewidth\": 0, \"ticks\": \"\"}}, \"type\": \"scattergl\"}], \"scattermapbox\": [{\"marker\": {\"colorbar\": {\"outlinewidth\": 0, \"ticks\": \"\"}}, \"type\": \"scattermapbox\"}], \"scatterpolar\": [{\"marker\": {\"colorbar\": {\"outlinewidth\": 0, \"ticks\": \"\"}}, \"type\": \"scatterpolar\"}], \"scatterpolargl\": [{\"marker\": {\"colorbar\": {\"outlinewidth\": 0, \"ticks\": \"\"}}, \"type\": \"scatterpolargl\"}], \"scatterternary\": [{\"marker\": {\"colorbar\": {\"outlinewidth\": 0, \"ticks\": \"\"}}, \"type\": \"scatterternary\"}], \"surface\": [{\"colorbar\": {\"outlinewidth\": 0, \"ticks\": \"\"}, \"colorscale\": [[0.0, \"#0d0887\"], [0.1111111111111111, \"#46039f\"], [0.2222222222222222, \"#7201a8\"], [0.3333333333333333, \"#9c179e\"], [0.4444444444444444, \"#bd3786\"], [0.5555555555555556, \"#d8576b\"], [0.6666666666666666, \"#ed7953\"], [0.7777777777777778, \"#fb9f3a\"], [0.8888888888888888, \"#fdca26\"], [1.0, \"#f0f921\"]], \"type\": \"surface\"}], \"table\": [{\"cells\": {\"fill\": {\"color\": \"#EBF0F8\"}, \"line\": {\"color\": \"white\"}}, \"header\": {\"fill\": {\"color\": \"#C8D4E3\"}, \"line\": {\"color\": \"white\"}}, \"type\": \"table\"}]}, \"layout\": {\"annotationdefaults\": {\"arrowcolor\": \"#2a3f5f\", \"arrowhead\": 0, \"arrowwidth\": 1}, \"coloraxis\": {\"colorbar\": {\"outlinewidth\": 0, \"ticks\": \"\"}}, \"colorscale\": {\"diverging\": [[0, \"#8e0152\"], [0.1, \"#c51b7d\"], [0.2, \"#de77ae\"], [0.3, \"#f1b6da\"], [0.4, \"#fde0ef\"], [0.5, \"#f7f7f7\"], [0.6, \"#e6f5d0\"], [0.7, \"#b8e186\"], [0.8, \"#7fbc41\"], [0.9, \"#4d9221\"], [1, \"#276419\"]], \"sequential\": [[0.0, \"#0d0887\"], [0.1111111111111111, \"#46039f\"], [0.2222222222222222, \"#7201a8\"], [0.3333333333333333, \"#9c179e\"], [0.4444444444444444, \"#bd3786\"], [0.5555555555555556, \"#d8576b\"], [0.6666666666666666, \"#ed7953\"], [0.7777777777777778, \"#fb9f3a\"], [0.8888888888888888, \"#fdca26\"], [1.0, \"#f0f921\"]], \"sequentialminus\": [[0.0, \"#0d0887\"], [0.1111111111111111, \"#46039f\"], [0.2222222222222222, \"#7201a8\"], [0.3333333333333333, \"#9c179e\"], [0.4444444444444444, \"#bd3786\"], [0.5555555555555556, \"#d8576b\"], [0.6666666666666666, \"#ed7953\"], [0.7777777777777778, \"#fb9f3a\"], [0.8888888888888888, \"#fdca26\"], [1.0, \"#f0f921\"]]}, \"colorway\": [\"#636efa\", \"#EF553B\", \"#00cc96\", \"#ab63fa\", \"#FFA15A\", \"#19d3f3\", \"#FF6692\", \"#B6E880\", \"#FF97FF\", \"#FECB52\"], \"font\": {\"color\": \"#2a3f5f\"}, \"geo\": {\"bgcolor\": \"white\", \"lakecolor\": \"white\", \"landcolor\": \"#E5ECF6\", \"showlakes\": true, \"showland\": true, \"subunitcolor\": \"white\"}, \"hoverlabel\": {\"align\": \"left\"}, \"hovermode\": \"closest\", \"mapbox\": {\"style\": \"light\"}, \"paper_bgcolor\": \"white\", \"plot_bgcolor\": \"#E5ECF6\", \"polar\": {\"angularaxis\": {\"gridcolor\": \"white\", \"linecolor\": \"white\", \"ticks\": \"\"}, \"bgcolor\": \"#E5ECF6\", \"radialaxis\": {\"gridcolor\": \"white\", \"linecolor\": \"white\", \"ticks\": \"\"}}, \"scene\": {\"xaxis\": {\"backgroundcolor\": \"#E5ECF6\", \"gridcolor\": \"white\", \"gridwidth\": 2, \"linecolor\": \"white\", \"showbackground\": true, \"ticks\": \"\", \"zerolinecolor\": \"white\"}, \"yaxis\": {\"backgroundcolor\": \"#E5ECF6\", \"gridcolor\": \"white\", \"gridwidth\": 2, \"linecolor\": \"white\", \"showbackground\": true, \"ticks\": \"\", \"zerolinecolor\": \"white\"}, \"zaxis\": {\"backgroundcolor\": \"#E5ECF6\", \"gridcolor\": \"white\", \"gridwidth\": 2, \"linecolor\": \"white\", \"showbackground\": true, \"ticks\": \"\", \"zerolinecolor\": \"white\"}}, \"shapedefaults\": {\"line\": {\"color\": \"#2a3f5f\"}}, \"ternary\": {\"aaxis\": {\"gridcolor\": \"white\", \"linecolor\": \"white\", \"ticks\": \"\"}, \"baxis\": {\"gridcolor\": \"white\", \"linecolor\": \"white\", \"ticks\": \"\"}, \"bgcolor\": \"#E5ECF6\", \"caxis\": {\"gridcolor\": \"white\", \"linecolor\": \"white\", \"ticks\": \"\"}}, \"title\": {\"x\": 0.05}, \"xaxis\": {\"automargin\": true, \"gridcolor\": \"white\", \"linecolor\": \"white\", \"ticks\": \"\", \"title\": {\"standoff\": 15}, \"zerolinecolor\": \"white\", \"zerolinewidth\": 2}, \"yaxis\": {\"automargin\": true, \"gridcolor\": \"white\", \"linecolor\": \"white\", \"ticks\": \"\", \"title\": {\"standoff\": 15}, \"zerolinecolor\": \"white\", \"zerolinewidth\": 2}}}, \"title\": {\"text\": \"Eastern Mediterranean: 19 countries\"}, \"width\": 885, \"xaxis\": {\"range\": [0.5, 12.5], \"showgrid\": true, \"ticklen\": 0, \"ticks\": \"outside\", \"tickson\": \"boundaries\"}, \"yaxis\": {\"range\": [0.5, 12.5], \"showgrid\": true, \"ticklen\": 0, \"ticks\": \"outside\", \"tickson\": \"boundaries\"}},\n",
       "                        {\"responsive\": true}\n",
       "                    ).then(function(){\n",
       "                            \n",
       "var gd = document.getElementById('3b27c77f-e17c-4c24-b4ef-27a50a3e1494');\n",
       "var x = new MutationObserver(function (mutations, observer) {{\n",
       "        var display = window.getComputedStyle(gd).display;\n",
       "        if (!display || display === 'none') {{\n",
       "            console.log([gd, 'removed!']);\n",
       "            Plotly.purge(gd);\n",
       "            observer.disconnect();\n",
       "        }}\n",
       "}});\n",
       "\n",
       "// Listen for the removal of the full notebook cells\n",
       "var notebookContainer = gd.closest('#notebook-container');\n",
       "if (notebookContainer) {{\n",
       "    x.observe(notebookContainer, {childList: true});\n",
       "}}\n",
       "\n",
       "// Listen for the clearing of the current output cell\n",
       "var outputEl = gd.closest('.output');\n",
       "if (outputEl) {{\n",
       "    x.observe(outputEl, {childList: true});\n",
       "}}\n",
       "\n",
       "                        })\n",
       "                };\n",
       "                });\n",
       "            </script>\n",
       "        </div>"
      ]
     },
     "metadata": {},
     "output_type": "display_data"
    },
    {
     "data": {
      "application/vnd.plotly.v1+json": {
       "config": {
        "plotlyServerURL": "https://plot.ly"
       },
       "data": [
        {
         "hoverinfo": "text",
         "hovertext": [
          "1.0",
          "0.19206565458968114",
          "0.6354741038149994",
          "0.9989496060884473",
          "0.18662775219367891",
          "-0.25948463271341465",
          "0.34593479189846515",
          "0.4000983054185044",
          "0.2608918498435311",
          "0.3460773314382691",
          "0.2167639481953616",
          "0.1255123088288935",
          "0.6222039627420535",
          "0.19206565458968114",
          "1.0",
          "0.1691968494858747",
          "0.1521851326863986",
          "-0.4980212072253737",
          "0.23765114687484132",
          "0.7539624457744718",
          "0.05107880718091442",
          "0.19080556268415017",
          "0.03946644428124072",
          "0.18212312069799358",
          "-0.11270220516615054",
          "0.14271291520969379",
          "0.6354741038149994",
          "0.1691968494858747",
          "1.0",
          "0.6447977454839934",
          "0.312046682303651",
          "0.05150098669301964",
          "-0.11914688930511506",
          "0.6555364420561128",
          "0.3412289400285508",
          "0.6653776557661001",
          "0.2117718446265664",
          "0.43916517564529944",
          "0.8546649546129026",
          "0.9989496060884473",
          "0.1521851326863986",
          "0.6447977454839934",
          "1.0",
          "0.21726524523731416",
          "-0.2647919474492056",
          "0.3066927769770766",
          "0.4111583020705513",
          "0.26340061664849873",
          "0.35930695536956037",
          "0.2110564857225066",
          "0.1391966333939208",
          "0.6315448481650536",
          "0.18662775219367891",
          "-0.4980212072253737",
          "0.312046682303651",
          "0.21726524523731416",
          "1.0",
          "-0.22371271477295204",
          "-0.4815734226216564",
          "0.004498028773517018",
          "0.21910749075819605",
          "0.09942051005052363",
          "0.06249800604317841",
          "0.23830436407057398",
          "0.43006785036381157",
          "-0.25948463271341465",
          "0.23765114687484132",
          "0.05150098669301964",
          "-0.2647919474492056",
          "-0.22371271477295204",
          "1.0",
          "-0.04214317189247207",
          "0.0785772544253968",
          "-0.034815216025335514",
          "0.3130821392515608",
          "0.059525910591474704",
          "-0.48006102699952635",
          "-0.07386468204258793",
          "0.34593479189846515",
          "0.7539624457744718",
          "-0.11914688930511506",
          "0.3066927769770766",
          "-0.4815734226216564",
          "-0.04214317189247207",
          "1.0",
          "-0.07073847221435121",
          "0.07243724559457707",
          "-0.0975112626819191",
          "0.08676557146847445",
          "-0.4539563089728269",
          "-0.04988898372405698",
          "0.4000983054185044",
          "0.05107880718091442",
          "0.6555364420561128",
          "0.4111583020705513",
          "0.004498028773517018",
          "0.0785772544253968",
          "-0.07073847221435121",
          "1.0",
          "0.5098499479924375",
          "0.8797728869358523",
          "-0.30030248322249087",
          "0.2920646744861543",
          "0.5867664994157304",
          "0.2608918498435311",
          "0.19080556268415017",
          "0.3412289400285508",
          "0.26340061664849873",
          "0.21910749075819605",
          "-0.034815216025335514",
          "0.07243724559457707",
          "0.5098499479924375",
          "1.0",
          "0.4811772543854728",
          "-0.07796120539433701",
          "0.3215789619746854",
          "0.4680231740209502",
          "0.3460773314382691",
          "0.03946644428124072",
          "0.6653776557661001",
          "0.35930695536956037",
          "0.09942051005052363",
          "0.3130821392515608",
          "-0.0975112626819191",
          "0.8797728869358523",
          "0.4811772543854728",
          "1.0",
          "-0.19491154773966982",
          "0.08374758755390356",
          "0.5916477007435087",
          "0.2167639481953616",
          "0.18212312069799358",
          "0.2117718446265664",
          "0.2110564857225066",
          "0.06249800604317841",
          "0.059525910591474704",
          "0.08676557146847445",
          "-0.30030248322249087",
          "-0.07796120539433701",
          "-0.19491154773966982",
          "1.0",
          "0.1628125320746741",
          "0.3796781415077641",
          "0.1255123088288935",
          "-0.11270220516615054",
          "0.43916517564529944",
          "0.1391966333939208",
          "0.23830436407057398",
          "-0.48006102699952635",
          "-0.4539563089728269",
          "0.2920646744861543",
          "0.3215789619746854",
          "0.08374758755390356",
          "0.1628125320746741",
          "1.0",
          "0.5068525890640997",
          "0.6222039627420535",
          "0.14271291520969379",
          "0.8546649546129026",
          "0.6315448481650536",
          "0.43006785036381157",
          "-0.07386468204258793",
          "-0.04988898372405698",
          "0.5867664994157304",
          "0.4680231740209502",
          "0.5916477007435087",
          "0.3796781415077641",
          "0.5068525890640997",
          "1.0"
         ],
         "marker": {
          "cmid": 0,
          "color": [
           1,
           0.19206565458968114,
           0.6354741038149994,
           0.9989496060884473,
           0.18662775219367891,
           -0.25948463271341465,
           0.34593479189846515,
           0.4000983054185044,
           0.2608918498435311,
           0.3460773314382691,
           0.2167639481953616,
           0.1255123088288935,
           0.6222039627420535,
           0.19206565458968114,
           1,
           0.1691968494858747,
           0.1521851326863986,
           -0.4980212072253737,
           0.23765114687484132,
           0.7539624457744718,
           0.05107880718091442,
           0.19080556268415017,
           0.03946644428124072,
           0.18212312069799358,
           -0.11270220516615054,
           0.14271291520969379,
           0.6354741038149994,
           0.1691968494858747,
           1,
           0.6447977454839934,
           0.312046682303651,
           0.05150098669301964,
           -0.11914688930511506,
           0.6555364420561128,
           0.3412289400285508,
           0.6653776557661001,
           0.2117718446265664,
           0.43916517564529944,
           0.8546649546129026,
           0.9989496060884473,
           0.1521851326863986,
           0.6447977454839934,
           1,
           0.21726524523731416,
           -0.2647919474492056,
           0.3066927769770766,
           0.4111583020705513,
           0.26340061664849873,
           0.35930695536956037,
           0.2110564857225066,
           0.1391966333939208,
           0.6315448481650536,
           0.18662775219367891,
           -0.4980212072253737,
           0.312046682303651,
           0.21726524523731416,
           1,
           -0.22371271477295204,
           -0.4815734226216564,
           0.004498028773517018,
           0.21910749075819605,
           0.09942051005052363,
           0.06249800604317841,
           0.23830436407057398,
           0.43006785036381157,
           -0.25948463271341465,
           0.23765114687484132,
           0.05150098669301964,
           -0.2647919474492056,
           -0.22371271477295204,
           1,
           -0.04214317189247207,
           0.0785772544253968,
           -0.034815216025335514,
           0.3130821392515608,
           0.059525910591474704,
           -0.48006102699952635,
           -0.07386468204258793,
           0.34593479189846515,
           0.7539624457744718,
           -0.11914688930511506,
           0.3066927769770766,
           -0.4815734226216564,
           -0.04214317189247207,
           1,
           -0.07073847221435121,
           0.07243724559457707,
           -0.0975112626819191,
           0.08676557146847445,
           -0.4539563089728269,
           -0.04988898372405698,
           0.4000983054185044,
           0.05107880718091442,
           0.6555364420561128,
           0.4111583020705513,
           0.004498028773517018,
           0.0785772544253968,
           -0.07073847221435121,
           1,
           0.5098499479924375,
           0.8797728869358523,
           -0.30030248322249087,
           0.2920646744861543,
           0.5867664994157304,
           0.2608918498435311,
           0.19080556268415017,
           0.3412289400285508,
           0.26340061664849873,
           0.21910749075819605,
           -0.034815216025335514,
           0.07243724559457707,
           0.5098499479924375,
           1,
           0.4811772543854728,
           -0.07796120539433701,
           0.3215789619746854,
           0.4680231740209502,
           0.3460773314382691,
           0.03946644428124072,
           0.6653776557661001,
           0.35930695536956037,
           0.09942051005052363,
           0.3130821392515608,
           -0.0975112626819191,
           0.8797728869358523,
           0.4811772543854728,
           1,
           -0.19491154773966982,
           0.08374758755390356,
           0.5916477007435087,
           0.2167639481953616,
           0.18212312069799358,
           0.2117718446265664,
           0.2110564857225066,
           0.06249800604317841,
           0.059525910591474704,
           0.08676557146847445,
           -0.30030248322249087,
           -0.07796120539433701,
           -0.19491154773966982,
           1,
           0.1628125320746741,
           0.3796781415077641,
           0.1255123088288935,
           -0.11270220516615054,
           0.43916517564529944,
           0.1391966333939208,
           0.23830436407057398,
           -0.48006102699952635,
           -0.4539563089728269,
           0.2920646744861543,
           0.3215789619746854,
           0.08374758755390356,
           0.1628125320746741,
           1,
           0.5068525890640997,
           0.6222039627420535,
           0.14271291520969379,
           0.8546649546129026,
           0.6315448481650536,
           0.43006785036381157,
           -0.07386468204258793,
           -0.04988898372405698,
           0.5867664994157304,
           0.4680231740209502,
           0.5916477007435087,
           0.3796781415077641,
           0.5068525890640997,
           1
          ],
          "colorbar": {
           "title": {
            "text": "Correlation"
           }
          },
          "colorscale": [
           [
            0,
            "rgb(5,48,97)"
           ],
           [
            0.1,
            "rgb(33,102,172)"
           ],
           [
            0.2,
            "rgb(67,147,195)"
           ],
           [
            0.3,
            "rgb(146,197,222)"
           ],
           [
            0.4,
            "rgb(209,229,240)"
           ],
           [
            0.5,
            "rgb(247,247,247)"
           ],
           [
            0.6,
            "rgb(253,219,199)"
           ],
           [
            0.7,
            "rgb(244,165,130)"
           ],
           [
            0.8,
            "rgb(214,96,77)"
           ],
           [
            0.9,
            "rgb(178,24,43)"
           ],
           [
            1,
            "rgb(103,0,31)"
           ]
          ],
          "size": [
           46,
           8.835020111125333,
           29.23180877548997,
           45.95168188006858,
           8.58487660090923,
           11.936293104817073,
           15.913000427329397,
           18.404522049251202,
           12.00102509280243,
           15.919557246160377,
           9.971141616986634,
           5.773566206129101,
           28.62138228613446,
           8.835020111125333,
           46,
           7.783055076350236,
           7.000516103574336,
           22.90897553236719,
           10.931952756242701,
           34.682272505625704,
           2.3496251303220634,
           8.777055883470908,
           1.8154564369370731,
           8.377663552107705,
           5.184301437642925,
           6.564794099645914,
           29.23180877548997,
           7.783055076350236,
           46,
           29.660696292263694,
           14.354147385967947,
           2.3690453878789035,
           5.480756908035293,
           30.15467633458119,
           15.696531241313338,
           30.607372165240605,
           9.741504852822054,
           20.201598079683773,
           39.31458791219352,
           45.95168188006858,
           7.000516103574336,
           29.660696292263694,
           46,
           9.994201280916451,
           12.180429582663457,
           14.107867740945522,
           18.913281895245362,
           12.116428365830942,
           16.528119946999777,
           9.708598343235304,
           6.403045136120356,
           29.05106301559247,
           8.58487660090923,
           22.90897553236719,
           14.354147385967947,
           9.994201280916451,
           46,
           10.290784879555794,
           22.152377440596194,
           0.20690932358178282,
           10.078944574877019,
           4.573343462324087,
           2.8749082779862065,
           10.962000747246403,
           19.78312111673533,
           11.936293104817073,
           10.931952756242701,
           2.3690453878789035,
           12.180429582663457,
           10.290784879555794,
           46,
           1.9385859070537153,
           3.614553703568253,
           1.6014999371654337,
           14.401778405571797,
           2.7381918872078366,
           22.082807241978212,
           3.397775373959045,
           15.913000427329397,
           34.682272505625704,
           5.480756908035293,
           14.107867740945522,
           22.152377440596194,
           1.9385859070537153,
           46,
           3.2539697218601558,
           3.332113297350545,
           4.485518083368279,
           3.991216287549825,
           20.881990212750036,
           2.294893251306621,
           18.404522049251202,
           2.3496251303220634,
           30.15467633458119,
           18.913281895245362,
           0.20690932358178282,
           3.614553703568253,
           3.2539697218601558,
           46,
           23.453097607652126,
           40.469552799049204,
           13.81391422823458,
           13.434975026363098,
           26.9912589731236,
           12.00102509280243,
           8.777055883470908,
           15.696531241313338,
           12.116428365830942,
           10.078944574877019,
           1.6014999371654337,
           3.332113297350545,
           23.453097607652126,
           46,
           22.13415370173175,
           3.5862154481395025,
           14.792632250835528,
           21.52906600496371,
           15.919557246160377,
           1.8154564369370731,
           30.607372165240605,
           16.528119946999777,
           4.573343462324087,
           14.401778405571797,
           4.485518083368279,
           40.469552799049204,
           22.13415370173175,
           46,
           8.965931196024812,
           3.8523890274795636,
           27.2157942342014,
           9.971141616986634,
           8.377663552107705,
           9.741504852822054,
           9.708598343235304,
           2.8749082779862065,
           2.7381918872078366,
           3.991216287549825,
           13.81391422823458,
           3.5862154481395025,
           8.965931196024812,
           46,
           7.489376475435009,
           17.465194509357147,
           5.773566206129101,
           5.184301437642925,
           20.201598079683773,
           6.403045136120356,
           10.962000747246403,
           22.082807241978212,
           20.881990212750036,
           13.434975026363098,
           14.792632250835528,
           3.8523890274795636,
           7.489376475435009,
           46,
           23.315219096948585,
           28.62138228613446,
           6.564794099645914,
           39.31458791219352,
           29.05106301559247,
           19.78312111673533,
           3.397775373959045,
           2.294893251306621,
           26.9912589731236,
           21.52906600496371,
           27.2157942342014,
           17.465194509357147,
           23.315219096948585,
           46
          ]
         },
         "mode": "markers",
         "type": "scatter",
         "x": [
          [
           "1.",
           "1.",
           "1.",
           "1.",
           "1.",
           "1.",
           "1.",
           "1.",
           "1.",
           "1.",
           "1.",
           "1.",
           "1.",
           "1.",
           "1.",
           "1.",
           "1.",
           "1.",
           "1.",
           "1.",
           "1.",
           "1.",
           "1.",
           "1.",
           "1.",
           "1.",
           "1.",
           "1.",
           "1.",
           "1.",
           "1.",
           "1.",
           "1.",
           "1.",
           "1.",
           "1.",
           "1.",
           "1.",
           "1.",
           "1.",
           "1.",
           "1.",
           "1.",
           "1.",
           "1.",
           "1.",
           "1.",
           "1.",
           "1.",
           "1.",
           "1.",
           "1.",
           "2.",
           "2.",
           "2.",
           "2.",
           "2.",
           "2.",
           "2.",
           "2.",
           "2.",
           "2.",
           "2.",
           "2.",
           "2.",
           "2.",
           "2.",
           "2.",
           "2.",
           "2.",
           "2.",
           "2.",
           "2.",
           "2.",
           "2.",
           "2.",
           "2.",
           "2.",
           "2.",
           "2.",
           "2.",
           "2.",
           "2.",
           "2.",
           "2.",
           "2.",
           "2.",
           "2.",
           "2.",
           "2.",
           "2.",
           "3.",
           "3.",
           "3.",
           "3.",
           "3.",
           "3.",
           "3.",
           "3.",
           "3.",
           "3.",
           "3.",
           "3.",
           "3.",
           "3.",
           "3.",
           "3.",
           "3.",
           "3.",
           "3.",
           "3.",
           "3.",
           "3.",
           "3.",
           "3.",
           "3.",
           "3.",
           "3.",
           "3.",
           "3.",
           "3.",
           "3.",
           "3.",
           "3.",
           "3.",
           "3.",
           "3.",
           "3.",
           "3.",
           "3.",
           "3.",
           "3.",
           "3.",
           "3.",
           "3.",
           "3.",
           "3.",
           "3.",
           "3.",
           "3.",
           "3.",
           "3.",
           "3.",
           "3.",
           "3.",
           "3.",
           "3.",
           "3.",
           "3.",
           "3.",
           "3.",
           "3.",
           "3.",
           "3.",
           "3.",
           "3.",
           "3.",
           "3.",
           "3.",
           "3.",
           "3.",
           "3.",
           "3.",
           "3.",
           "3.",
           "3.",
           "3.",
           "3.",
           "3."
          ],
          [
           "Tot Cases/1M pop",
           "Tot Cases/1M pop",
           "Tot Cases/1M pop",
           "Tot Cases/1M pop",
           "Tot Cases/1M pop",
           "Tot Cases/1M pop",
           "Tot Cases/1M pop",
           "Tot Cases/1M pop",
           "Tot Cases/1M pop",
           "Tot Cases/1M pop",
           "Tot Cases/1M pop",
           "Tot Cases/1M pop",
           "Tot Cases/1M pop",
           "Deaths/1M pop",
           "Deaths/1M pop",
           "Deaths/1M pop",
           "Deaths/1M pop",
           "Deaths/1M pop",
           "Deaths/1M pop",
           "Deaths/1M pop",
           "Deaths/1M pop",
           "Deaths/1M pop",
           "Deaths/1M pop",
           "Deaths/1M pop",
           "Deaths/1M pop",
           "Deaths/1M pop",
           "Tests/1M pop",
           "Tests/1M pop",
           "Tests/1M pop",
           "Tests/1M pop",
           "Tests/1M pop",
           "Tests/1M pop",
           "Tests/1M pop",
           "Tests/1M pop",
           "Tests/1M pop",
           "Tests/1M pop",
           "Tests/1M pop",
           "Tests/1M pop",
           "Tests/1M pop",
           "Recovered/1M pop",
           "Recovered/1M pop",
           "Recovered/1M pop",
           "Recovered/1M pop",
           "Recovered/1M pop",
           "Recovered/1M pop",
           "Recovered/1M pop",
           "Recovered/1M pop",
           "Recovered/1M pop",
           "Recovered/1M pop",
           "Recovered/1M pop",
           "Recovered/1M pop",
           "Recovered/1M pop",
           "Recovered/1M cases",
           "Recovered/1M cases",
           "Recovered/1M cases",
           "Recovered/1M cases",
           "Recovered/1M cases",
           "Recovered/1M cases",
           "Recovered/1M cases",
           "Recovered/1M cases",
           "Recovered/1M cases",
           "Recovered/1M cases",
           "Recovered/1M cases",
           "Recovered/1M cases",
           "Recovered/1M cases",
           "Deaths/1M cases",
           "Deaths/1M cases",
           "Deaths/1M cases",
           "Deaths/1M cases",
           "Deaths/1M cases",
           "Deaths/1M cases",
           "Deaths/1M cases",
           "Deaths/1M cases",
           "Deaths/1M cases",
           "Deaths/1M cases",
           "Deaths/1M cases",
           "Deaths/1M cases",
           "Deaths/1M cases",
           "Confirmed/1M tests",
           "Confirmed/1M tests",
           "Confirmed/1M tests",
           "Confirmed/1M tests",
           "Confirmed/1M tests",
           "Confirmed/1M tests",
           "Confirmed/1M tests",
           "Confirmed/1M tests",
           "Confirmed/1M tests",
           "Confirmed/1M tests",
           "Confirmed/1M tests",
           "Confirmed/1M tests",
           "Confirmed/1M tests",
           "GDP",
           "GDP",
           "GDP",
           "GDP",
           "GDP",
           "GDP",
           "GDP",
           "GDP",
           "GDP",
           "GDP",
           "GDP",
           "GDP",
           "GDP",
           "Family",
           "Family",
           "Family",
           "Family",
           "Family",
           "Family",
           "Family",
           "Family",
           "Family",
           "Family",
           "Family",
           "Family",
           "Family",
           "Life expectancy",
           "Life expectancy",
           "Life expectancy",
           "Life expectancy",
           "Life expectancy",
           "Life expectancy",
           "Life expectancy",
           "Life expectancy",
           "Life expectancy",
           "Life expectancy",
           "Life expectancy",
           "Life expectancy",
           "Life expectancy",
           "Freedom",
           "Freedom",
           "Freedom",
           "Freedom",
           "Freedom",
           "Freedom",
           "Freedom",
           "Freedom",
           "Freedom",
           "Freedom",
           "Freedom",
           "Freedom",
           "Freedom",
           "Generosity",
           "Generosity",
           "Generosity",
           "Generosity",
           "Generosity",
           "Generosity",
           "Generosity",
           "Generosity",
           "Generosity",
           "Generosity",
           "Generosity",
           "Generosity",
           "Generosity",
           "Trust",
           "Trust",
           "Trust",
           "Trust",
           "Trust",
           "Trust",
           "Trust",
           "Trust",
           "Trust",
           "Trust",
           "Trust",
           "Trust",
           "Trust"
          ]
         ],
         "y": [
          [
           "1.",
           "1.",
           "1.",
           "1.",
           "2.",
           "2.",
           "2.",
           "3.",
           "3.",
           "3.",
           "3.",
           "3.",
           "3.",
           "1.",
           "1.",
           "1.",
           "1.",
           "2.",
           "2.",
           "2.",
           "3.",
           "3.",
           "3.",
           "3.",
           "3.",
           "3.",
           "1.",
           "1.",
           "1.",
           "1.",
           "2.",
           "2.",
           "2.",
           "3.",
           "3.",
           "3.",
           "3.",
           "3.",
           "3.",
           "1.",
           "1.",
           "1.",
           "1.",
           "2.",
           "2.",
           "2.",
           "3.",
           "3.",
           "3.",
           "3.",
           "3.",
           "3.",
           "1.",
           "1.",
           "1.",
           "1.",
           "2.",
           "2.",
           "2.",
           "3.",
           "3.",
           "3.",
           "3.",
           "3.",
           "3.",
           "1.",
           "1.",
           "1.",
           "1.",
           "2.",
           "2.",
           "2.",
           "3.",
           "3.",
           "3.",
           "3.",
           "3.",
           "3.",
           "1.",
           "1.",
           "1.",
           "1.",
           "2.",
           "2.",
           "2.",
           "3.",
           "3.",
           "3.",
           "3.",
           "3.",
           "3.",
           "1.",
           "1.",
           "1.",
           "1.",
           "2.",
           "2.",
           "2.",
           "3.",
           "3.",
           "3.",
           "3.",
           "3.",
           "3.",
           "1.",
           "1.",
           "1.",
           "1.",
           "2.",
           "2.",
           "2.",
           "3.",
           "3.",
           "3.",
           "3.",
           "3.",
           "3.",
           "1.",
           "1.",
           "1.",
           "1.",
           "2.",
           "2.",
           "2.",
           "3.",
           "3.",
           "3.",
           "3.",
           "3.",
           "3.",
           "1.",
           "1.",
           "1.",
           "1.",
           "2.",
           "2.",
           "2.",
           "3.",
           "3.",
           "3.",
           "3.",
           "3.",
           "3.",
           "1.",
           "1.",
           "1.",
           "1.",
           "2.",
           "2.",
           "2.",
           "3.",
           "3.",
           "3.",
           "3.",
           "3.",
           "3.",
           "1.",
           "1.",
           "1.",
           "1.",
           "2.",
           "2.",
           "2.",
           "3.",
           "3.",
           "3.",
           "3.",
           "3.",
           "3."
          ],
          [
           "Tot Cases/1M pop",
           "Deaths/1M pop",
           "Tests/1M pop",
           "Recovered/1M pop",
           "Recovered/1M cases",
           "Deaths/1M cases",
           "Confirmed/1M tests",
           "GDP",
           "Family",
           "Life expectancy",
           "Freedom",
           "Generosity",
           "Trust",
           "Tot Cases/1M pop",
           "Deaths/1M pop",
           "Tests/1M pop",
           "Recovered/1M pop",
           "Recovered/1M cases",
           "Deaths/1M cases",
           "Confirmed/1M tests",
           "GDP",
           "Family",
           "Life expectancy",
           "Freedom",
           "Generosity",
           "Trust",
           "Tot Cases/1M pop",
           "Deaths/1M pop",
           "Tests/1M pop",
           "Recovered/1M pop",
           "Recovered/1M cases",
           "Deaths/1M cases",
           "Confirmed/1M tests",
           "GDP",
           "Family",
           "Life expectancy",
           "Freedom",
           "Generosity",
           "Trust",
           "Tot Cases/1M pop",
           "Deaths/1M pop",
           "Tests/1M pop",
           "Recovered/1M pop",
           "Recovered/1M cases",
           "Deaths/1M cases",
           "Confirmed/1M tests",
           "GDP",
           "Family",
           "Life expectancy",
           "Freedom",
           "Generosity",
           "Trust",
           "Tot Cases/1M pop",
           "Deaths/1M pop",
           "Tests/1M pop",
           "Recovered/1M pop",
           "Recovered/1M cases",
           "Deaths/1M cases",
           "Confirmed/1M tests",
           "GDP",
           "Family",
           "Life expectancy",
           "Freedom",
           "Generosity",
           "Trust",
           "Tot Cases/1M pop",
           "Deaths/1M pop",
           "Tests/1M pop",
           "Recovered/1M pop",
           "Recovered/1M cases",
           "Deaths/1M cases",
           "Confirmed/1M tests",
           "GDP",
           "Family",
           "Life expectancy",
           "Freedom",
           "Generosity",
           "Trust",
           "Tot Cases/1M pop",
           "Deaths/1M pop",
           "Tests/1M pop",
           "Recovered/1M pop",
           "Recovered/1M cases",
           "Deaths/1M cases",
           "Confirmed/1M tests",
           "GDP",
           "Family",
           "Life expectancy",
           "Freedom",
           "Generosity",
           "Trust",
           "Tot Cases/1M pop",
           "Deaths/1M pop",
           "Tests/1M pop",
           "Recovered/1M pop",
           "Recovered/1M cases",
           "Deaths/1M cases",
           "Confirmed/1M tests",
           "GDP",
           "Family",
           "Life expectancy",
           "Freedom",
           "Generosity",
           "Trust",
           "Tot Cases/1M pop",
           "Deaths/1M pop",
           "Tests/1M pop",
           "Recovered/1M pop",
           "Recovered/1M cases",
           "Deaths/1M cases",
           "Confirmed/1M tests",
           "GDP",
           "Family",
           "Life expectancy",
           "Freedom",
           "Generosity",
           "Trust",
           "Tot Cases/1M pop",
           "Deaths/1M pop",
           "Tests/1M pop",
           "Recovered/1M pop",
           "Recovered/1M cases",
           "Deaths/1M cases",
           "Confirmed/1M tests",
           "GDP",
           "Family",
           "Life expectancy",
           "Freedom",
           "Generosity",
           "Trust",
           "Tot Cases/1M pop",
           "Deaths/1M pop",
           "Tests/1M pop",
           "Recovered/1M pop",
           "Recovered/1M cases",
           "Deaths/1M cases",
           "Confirmed/1M tests",
           "GDP",
           "Family",
           "Life expectancy",
           "Freedom",
           "Generosity",
           "Trust",
           "Tot Cases/1M pop",
           "Deaths/1M pop",
           "Tests/1M pop",
           "Recovered/1M pop",
           "Recovered/1M cases",
           "Deaths/1M cases",
           "Confirmed/1M tests",
           "GDP",
           "Family",
           "Life expectancy",
           "Freedom",
           "Generosity",
           "Trust",
           "Tot Cases/1M pop",
           "Deaths/1M pop",
           "Tests/1M pop",
           "Recovered/1M pop",
           "Recovered/1M cases",
           "Deaths/1M cases",
           "Confirmed/1M tests",
           "GDP",
           "Family",
           "Life expectancy",
           "Freedom",
           "Generosity",
           "Trust"
          ]
         ]
        }
       ],
       "layout": {
        "font": {
         "size": 15
        },
        "height": 885,
        "template": {
         "data": {
          "bar": [
           {
            "error_x": {
             "color": "#2a3f5f"
            },
            "error_y": {
             "color": "#2a3f5f"
            },
            "marker": {
             "line": {
              "color": "#E5ECF6",
              "width": 0.5
             }
            },
            "type": "bar"
           }
          ],
          "barpolar": [
           {
            "marker": {
             "line": {
              "color": "#E5ECF6",
              "width": 0.5
             }
            },
            "type": "barpolar"
           }
          ],
          "carpet": [
           {
            "aaxis": {
             "endlinecolor": "#2a3f5f",
             "gridcolor": "white",
             "linecolor": "white",
             "minorgridcolor": "white",
             "startlinecolor": "#2a3f5f"
            },
            "baxis": {
             "endlinecolor": "#2a3f5f",
             "gridcolor": "white",
             "linecolor": "white",
             "minorgridcolor": "white",
             "startlinecolor": "#2a3f5f"
            },
            "type": "carpet"
           }
          ],
          "choropleth": [
           {
            "colorbar": {
             "outlinewidth": 0,
             "ticks": ""
            },
            "type": "choropleth"
           }
          ],
          "contour": [
           {
            "colorbar": {
             "outlinewidth": 0,
             "ticks": ""
            },
            "colorscale": [
             [
              0,
              "#0d0887"
             ],
             [
              0.1111111111111111,
              "#46039f"
             ],
             [
              0.2222222222222222,
              "#7201a8"
             ],
             [
              0.3333333333333333,
              "#9c179e"
             ],
             [
              0.4444444444444444,
              "#bd3786"
             ],
             [
              0.5555555555555556,
              "#d8576b"
             ],
             [
              0.6666666666666666,
              "#ed7953"
             ],
             [
              0.7777777777777778,
              "#fb9f3a"
             ],
             [
              0.8888888888888888,
              "#fdca26"
             ],
             [
              1,
              "#f0f921"
             ]
            ],
            "type": "contour"
           }
          ],
          "contourcarpet": [
           {
            "colorbar": {
             "outlinewidth": 0,
             "ticks": ""
            },
            "type": "contourcarpet"
           }
          ],
          "heatmap": [
           {
            "colorbar": {
             "outlinewidth": 0,
             "ticks": ""
            },
            "colorscale": [
             [
              0,
              "#0d0887"
             ],
             [
              0.1111111111111111,
              "#46039f"
             ],
             [
              0.2222222222222222,
              "#7201a8"
             ],
             [
              0.3333333333333333,
              "#9c179e"
             ],
             [
              0.4444444444444444,
              "#bd3786"
             ],
             [
              0.5555555555555556,
              "#d8576b"
             ],
             [
              0.6666666666666666,
              "#ed7953"
             ],
             [
              0.7777777777777778,
              "#fb9f3a"
             ],
             [
              0.8888888888888888,
              "#fdca26"
             ],
             [
              1,
              "#f0f921"
             ]
            ],
            "type": "heatmap"
           }
          ],
          "heatmapgl": [
           {
            "colorbar": {
             "outlinewidth": 0,
             "ticks": ""
            },
            "colorscale": [
             [
              0,
              "#0d0887"
             ],
             [
              0.1111111111111111,
              "#46039f"
             ],
             [
              0.2222222222222222,
              "#7201a8"
             ],
             [
              0.3333333333333333,
              "#9c179e"
             ],
             [
              0.4444444444444444,
              "#bd3786"
             ],
             [
              0.5555555555555556,
              "#d8576b"
             ],
             [
              0.6666666666666666,
              "#ed7953"
             ],
             [
              0.7777777777777778,
              "#fb9f3a"
             ],
             [
              0.8888888888888888,
              "#fdca26"
             ],
             [
              1,
              "#f0f921"
             ]
            ],
            "type": "heatmapgl"
           }
          ],
          "histogram": [
           {
            "marker": {
             "colorbar": {
              "outlinewidth": 0,
              "ticks": ""
             }
            },
            "type": "histogram"
           }
          ],
          "histogram2d": [
           {
            "colorbar": {
             "outlinewidth": 0,
             "ticks": ""
            },
            "colorscale": [
             [
              0,
              "#0d0887"
             ],
             [
              0.1111111111111111,
              "#46039f"
             ],
             [
              0.2222222222222222,
              "#7201a8"
             ],
             [
              0.3333333333333333,
              "#9c179e"
             ],
             [
              0.4444444444444444,
              "#bd3786"
             ],
             [
              0.5555555555555556,
              "#d8576b"
             ],
             [
              0.6666666666666666,
              "#ed7953"
             ],
             [
              0.7777777777777778,
              "#fb9f3a"
             ],
             [
              0.8888888888888888,
              "#fdca26"
             ],
             [
              1,
              "#f0f921"
             ]
            ],
            "type": "histogram2d"
           }
          ],
          "histogram2dcontour": [
           {
            "colorbar": {
             "outlinewidth": 0,
             "ticks": ""
            },
            "colorscale": [
             [
              0,
              "#0d0887"
             ],
             [
              0.1111111111111111,
              "#46039f"
             ],
             [
              0.2222222222222222,
              "#7201a8"
             ],
             [
              0.3333333333333333,
              "#9c179e"
             ],
             [
              0.4444444444444444,
              "#bd3786"
             ],
             [
              0.5555555555555556,
              "#d8576b"
             ],
             [
              0.6666666666666666,
              "#ed7953"
             ],
             [
              0.7777777777777778,
              "#fb9f3a"
             ],
             [
              0.8888888888888888,
              "#fdca26"
             ],
             [
              1,
              "#f0f921"
             ]
            ],
            "type": "histogram2dcontour"
           }
          ],
          "mesh3d": [
           {
            "colorbar": {
             "outlinewidth": 0,
             "ticks": ""
            },
            "type": "mesh3d"
           }
          ],
          "parcoords": [
           {
            "line": {
             "colorbar": {
              "outlinewidth": 0,
              "ticks": ""
             }
            },
            "type": "parcoords"
           }
          ],
          "pie": [
           {
            "automargin": true,
            "type": "pie"
           }
          ],
          "scatter": [
           {
            "marker": {
             "colorbar": {
              "outlinewidth": 0,
              "ticks": ""
             }
            },
            "type": "scatter"
           }
          ],
          "scatter3d": [
           {
            "line": {
             "colorbar": {
              "outlinewidth": 0,
              "ticks": ""
             }
            },
            "marker": {
             "colorbar": {
              "outlinewidth": 0,
              "ticks": ""
             }
            },
            "type": "scatter3d"
           }
          ],
          "scattercarpet": [
           {
            "marker": {
             "colorbar": {
              "outlinewidth": 0,
              "ticks": ""
             }
            },
            "type": "scattercarpet"
           }
          ],
          "scattergeo": [
           {
            "marker": {
             "colorbar": {
              "outlinewidth": 0,
              "ticks": ""
             }
            },
            "type": "scattergeo"
           }
          ],
          "scattergl": [
           {
            "marker": {
             "colorbar": {
              "outlinewidth": 0,
              "ticks": ""
             }
            },
            "type": "scattergl"
           }
          ],
          "scattermapbox": [
           {
            "marker": {
             "colorbar": {
              "outlinewidth": 0,
              "ticks": ""
             }
            },
            "type": "scattermapbox"
           }
          ],
          "scatterpolar": [
           {
            "marker": {
             "colorbar": {
              "outlinewidth": 0,
              "ticks": ""
             }
            },
            "type": "scatterpolar"
           }
          ],
          "scatterpolargl": [
           {
            "marker": {
             "colorbar": {
              "outlinewidth": 0,
              "ticks": ""
             }
            },
            "type": "scatterpolargl"
           }
          ],
          "scatterternary": [
           {
            "marker": {
             "colorbar": {
              "outlinewidth": 0,
              "ticks": ""
             }
            },
            "type": "scatterternary"
           }
          ],
          "surface": [
           {
            "colorbar": {
             "outlinewidth": 0,
             "ticks": ""
            },
            "colorscale": [
             [
              0,
              "#0d0887"
             ],
             [
              0.1111111111111111,
              "#46039f"
             ],
             [
              0.2222222222222222,
              "#7201a8"
             ],
             [
              0.3333333333333333,
              "#9c179e"
             ],
             [
              0.4444444444444444,
              "#bd3786"
             ],
             [
              0.5555555555555556,
              "#d8576b"
             ],
             [
              0.6666666666666666,
              "#ed7953"
             ],
             [
              0.7777777777777778,
              "#fb9f3a"
             ],
             [
              0.8888888888888888,
              "#fdca26"
             ],
             [
              1,
              "#f0f921"
             ]
            ],
            "type": "surface"
           }
          ],
          "table": [
           {
            "cells": {
             "fill": {
              "color": "#EBF0F8"
             },
             "line": {
              "color": "white"
             }
            },
            "header": {
             "fill": {
              "color": "#C8D4E3"
             },
             "line": {
              "color": "white"
             }
            },
            "type": "table"
           }
          ]
         },
         "layout": {
          "annotationdefaults": {
           "arrowcolor": "#2a3f5f",
           "arrowhead": 0,
           "arrowwidth": 1
          },
          "coloraxis": {
           "colorbar": {
            "outlinewidth": 0,
            "ticks": ""
           }
          },
          "colorscale": {
           "diverging": [
            [
             0,
             "#8e0152"
            ],
            [
             0.1,
             "#c51b7d"
            ],
            [
             0.2,
             "#de77ae"
            ],
            [
             0.3,
             "#f1b6da"
            ],
            [
             0.4,
             "#fde0ef"
            ],
            [
             0.5,
             "#f7f7f7"
            ],
            [
             0.6,
             "#e6f5d0"
            ],
            [
             0.7,
             "#b8e186"
            ],
            [
             0.8,
             "#7fbc41"
            ],
            [
             0.9,
             "#4d9221"
            ],
            [
             1,
             "#276419"
            ]
           ],
           "sequential": [
            [
             0,
             "#0d0887"
            ],
            [
             0.1111111111111111,
             "#46039f"
            ],
            [
             0.2222222222222222,
             "#7201a8"
            ],
            [
             0.3333333333333333,
             "#9c179e"
            ],
            [
             0.4444444444444444,
             "#bd3786"
            ],
            [
             0.5555555555555556,
             "#d8576b"
            ],
            [
             0.6666666666666666,
             "#ed7953"
            ],
            [
             0.7777777777777778,
             "#fb9f3a"
            ],
            [
             0.8888888888888888,
             "#fdca26"
            ],
            [
             1,
             "#f0f921"
            ]
           ],
           "sequentialminus": [
            [
             0,
             "#0d0887"
            ],
            [
             0.1111111111111111,
             "#46039f"
            ],
            [
             0.2222222222222222,
             "#7201a8"
            ],
            [
             0.3333333333333333,
             "#9c179e"
            ],
            [
             0.4444444444444444,
             "#bd3786"
            ],
            [
             0.5555555555555556,
             "#d8576b"
            ],
            [
             0.6666666666666666,
             "#ed7953"
            ],
            [
             0.7777777777777778,
             "#fb9f3a"
            ],
            [
             0.8888888888888888,
             "#fdca26"
            ],
            [
             1,
             "#f0f921"
            ]
           ]
          },
          "colorway": [
           "#636efa",
           "#EF553B",
           "#00cc96",
           "#ab63fa",
           "#FFA15A",
           "#19d3f3",
           "#FF6692",
           "#B6E880",
           "#FF97FF",
           "#FECB52"
          ],
          "font": {
           "color": "#2a3f5f"
          },
          "geo": {
           "bgcolor": "white",
           "lakecolor": "white",
           "landcolor": "#E5ECF6",
           "showlakes": true,
           "showland": true,
           "subunitcolor": "white"
          },
          "hoverlabel": {
           "align": "left"
          },
          "hovermode": "closest",
          "mapbox": {
           "style": "light"
          },
          "paper_bgcolor": "white",
          "plot_bgcolor": "#E5ECF6",
          "polar": {
           "angularaxis": {
            "gridcolor": "white",
            "linecolor": "white",
            "ticks": ""
           },
           "bgcolor": "#E5ECF6",
           "radialaxis": {
            "gridcolor": "white",
            "linecolor": "white",
            "ticks": ""
           }
          },
          "scene": {
           "xaxis": {
            "backgroundcolor": "#E5ECF6",
            "gridcolor": "white",
            "gridwidth": 2,
            "linecolor": "white",
            "showbackground": true,
            "ticks": "",
            "zerolinecolor": "white"
           },
           "yaxis": {
            "backgroundcolor": "#E5ECF6",
            "gridcolor": "white",
            "gridwidth": 2,
            "linecolor": "white",
            "showbackground": true,
            "ticks": "",
            "zerolinecolor": "white"
           },
           "zaxis": {
            "backgroundcolor": "#E5ECF6",
            "gridcolor": "white",
            "gridwidth": 2,
            "linecolor": "white",
            "showbackground": true,
            "ticks": "",
            "zerolinecolor": "white"
           }
          },
          "shapedefaults": {
           "line": {
            "color": "#2a3f5f"
           }
          },
          "ternary": {
           "aaxis": {
            "gridcolor": "white",
            "linecolor": "white",
            "ticks": ""
           },
           "baxis": {
            "gridcolor": "white",
            "linecolor": "white",
            "ticks": ""
           },
           "bgcolor": "#E5ECF6",
           "caxis": {
            "gridcolor": "white",
            "linecolor": "white",
            "ticks": ""
           }
          },
          "title": {
           "x": 0.05
          },
          "xaxis": {
           "automargin": true,
           "gridcolor": "white",
           "linecolor": "white",
           "ticks": "",
           "title": {
            "standoff": 15
           },
           "zerolinecolor": "white",
           "zerolinewidth": 2
          },
          "yaxis": {
           "automargin": true,
           "gridcolor": "white",
           "linecolor": "white",
           "ticks": "",
           "title": {
            "standoff": 15
           },
           "zerolinecolor": "white",
           "zerolinewidth": 2
          }
         }
        },
        "title": {
         "text": "Western Pacific: 14 countries"
        },
        "width": 885,
        "xaxis": {
         "range": [
          0.5,
          12.5
         ],
         "showgrid": true,
         "ticklen": 0,
         "ticks": "outside",
         "tickson": "boundaries"
        },
        "yaxis": {
         "range": [
          0.5,
          12.5
         ],
         "showgrid": true,
         "ticklen": 0,
         "ticks": "outside",
         "tickson": "boundaries"
        }
       }
      },
      "text/html": [
       "<div>\n",
       "        \n",
       "        \n",
       "            <div id=\"55ce5b67-8eac-46c7-92f3-97d6a1c6eb6e\" class=\"plotly-graph-div\" style=\"height:885px; width:885px;\"></div>\n",
       "            <script type=\"text/javascript\">\n",
       "                require([\"plotly\"], function(Plotly) {\n",
       "                    window.PLOTLYENV=window.PLOTLYENV || {};\n",
       "                    \n",
       "                if (document.getElementById(\"55ce5b67-8eac-46c7-92f3-97d6a1c6eb6e\")) {\n",
       "                    Plotly.newPlot(\n",
       "                        '55ce5b67-8eac-46c7-92f3-97d6a1c6eb6e',\n",
       "                        [{\"hoverinfo\": \"text\", \"hovertext\": [\"1.0\", \"0.19206565458968114\", \"0.6354741038149994\", \"0.9989496060884473\", \"0.18662775219367891\", \"-0.25948463271341465\", \"0.34593479189846515\", \"0.4000983054185044\", \"0.2608918498435311\", \"0.3460773314382691\", \"0.2167639481953616\", \"0.1255123088288935\", \"0.6222039627420535\", \"0.19206565458968114\", \"1.0\", \"0.1691968494858747\", \"0.1521851326863986\", \"-0.4980212072253737\", \"0.23765114687484132\", \"0.7539624457744718\", \"0.05107880718091442\", \"0.19080556268415017\", \"0.03946644428124072\", \"0.18212312069799358\", \"-0.11270220516615054\", \"0.14271291520969379\", \"0.6354741038149994\", \"0.1691968494858747\", \"1.0\", \"0.6447977454839934\", \"0.312046682303651\", \"0.05150098669301964\", \"-0.11914688930511506\", \"0.6555364420561128\", \"0.3412289400285508\", \"0.6653776557661001\", \"0.2117718446265664\", \"0.43916517564529944\", \"0.8546649546129026\", \"0.9989496060884473\", \"0.1521851326863986\", \"0.6447977454839934\", \"1.0\", \"0.21726524523731416\", \"-0.2647919474492056\", \"0.3066927769770766\", \"0.4111583020705513\", \"0.26340061664849873\", \"0.35930695536956037\", \"0.2110564857225066\", \"0.1391966333939208\", \"0.6315448481650536\", \"0.18662775219367891\", \"-0.4980212072253737\", \"0.312046682303651\", \"0.21726524523731416\", \"1.0\", \"-0.22371271477295204\", \"-0.4815734226216564\", \"0.004498028773517018\", \"0.21910749075819605\", \"0.09942051005052363\", \"0.06249800604317841\", \"0.23830436407057398\", \"0.43006785036381157\", \"-0.25948463271341465\", \"0.23765114687484132\", \"0.05150098669301964\", \"-0.2647919474492056\", \"-0.22371271477295204\", \"1.0\", \"-0.04214317189247207\", \"0.0785772544253968\", \"-0.034815216025335514\", \"0.3130821392515608\", \"0.059525910591474704\", \"-0.48006102699952635\", \"-0.07386468204258793\", \"0.34593479189846515\", \"0.7539624457744718\", \"-0.11914688930511506\", \"0.3066927769770766\", \"-0.4815734226216564\", \"-0.04214317189247207\", \"1.0\", \"-0.07073847221435121\", \"0.07243724559457707\", \"-0.0975112626819191\", \"0.08676557146847445\", \"-0.4539563089728269\", \"-0.04988898372405698\", \"0.4000983054185044\", \"0.05107880718091442\", \"0.6555364420561128\", \"0.4111583020705513\", \"0.004498028773517018\", \"0.0785772544253968\", \"-0.07073847221435121\", \"1.0\", \"0.5098499479924375\", \"0.8797728869358523\", \"-0.30030248322249087\", \"0.2920646744861543\", \"0.5867664994157304\", \"0.2608918498435311\", \"0.19080556268415017\", \"0.3412289400285508\", \"0.26340061664849873\", \"0.21910749075819605\", \"-0.034815216025335514\", \"0.07243724559457707\", \"0.5098499479924375\", \"1.0\", \"0.4811772543854728\", \"-0.07796120539433701\", \"0.3215789619746854\", \"0.4680231740209502\", \"0.3460773314382691\", \"0.03946644428124072\", \"0.6653776557661001\", \"0.35930695536956037\", \"0.09942051005052363\", \"0.3130821392515608\", \"-0.0975112626819191\", \"0.8797728869358523\", \"0.4811772543854728\", \"1.0\", \"-0.19491154773966982\", \"0.08374758755390356\", \"0.5916477007435087\", \"0.2167639481953616\", \"0.18212312069799358\", \"0.2117718446265664\", \"0.2110564857225066\", \"0.06249800604317841\", \"0.059525910591474704\", \"0.08676557146847445\", \"-0.30030248322249087\", \"-0.07796120539433701\", \"-0.19491154773966982\", \"1.0\", \"0.1628125320746741\", \"0.3796781415077641\", \"0.1255123088288935\", \"-0.11270220516615054\", \"0.43916517564529944\", \"0.1391966333939208\", \"0.23830436407057398\", \"-0.48006102699952635\", \"-0.4539563089728269\", \"0.2920646744861543\", \"0.3215789619746854\", \"0.08374758755390356\", \"0.1628125320746741\", \"1.0\", \"0.5068525890640997\", \"0.6222039627420535\", \"0.14271291520969379\", \"0.8546649546129026\", \"0.6315448481650536\", \"0.43006785036381157\", \"-0.07386468204258793\", \"-0.04988898372405698\", \"0.5867664994157304\", \"0.4680231740209502\", \"0.5916477007435087\", \"0.3796781415077641\", \"0.5068525890640997\", \"1.0\"], \"marker\": {\"cmid\": 0, \"color\": [1.0, 0.19206565458968114, 0.6354741038149994, 0.9989496060884473, 0.18662775219367891, -0.25948463271341465, 0.34593479189846515, 0.4000983054185044, 0.2608918498435311, 0.3460773314382691, 0.2167639481953616, 0.1255123088288935, 0.6222039627420535, 0.19206565458968114, 1.0, 0.1691968494858747, 0.1521851326863986, -0.4980212072253737, 0.23765114687484132, 0.7539624457744718, 0.05107880718091442, 0.19080556268415017, 0.03946644428124072, 0.18212312069799358, -0.11270220516615054, 0.14271291520969379, 0.6354741038149994, 0.1691968494858747, 1.0, 0.6447977454839934, 0.312046682303651, 0.05150098669301964, -0.11914688930511506, 0.6555364420561128, 0.3412289400285508, 0.6653776557661001, 0.2117718446265664, 0.43916517564529944, 0.8546649546129026, 0.9989496060884473, 0.1521851326863986, 0.6447977454839934, 1.0, 0.21726524523731416, -0.2647919474492056, 0.3066927769770766, 0.4111583020705513, 0.26340061664849873, 0.35930695536956037, 0.2110564857225066, 0.1391966333939208, 0.6315448481650536, 0.18662775219367891, -0.4980212072253737, 0.312046682303651, 0.21726524523731416, 1.0, -0.22371271477295204, -0.4815734226216564, 0.004498028773517018, 0.21910749075819605, 0.09942051005052363, 0.06249800604317841, 0.23830436407057398, 0.43006785036381157, -0.25948463271341465, 0.23765114687484132, 0.05150098669301964, -0.2647919474492056, -0.22371271477295204, 1.0, -0.04214317189247207, 0.0785772544253968, -0.034815216025335514, 0.3130821392515608, 0.059525910591474704, -0.48006102699952635, -0.07386468204258793, 0.34593479189846515, 0.7539624457744718, -0.11914688930511506, 0.3066927769770766, -0.4815734226216564, -0.04214317189247207, 1.0, -0.07073847221435121, 0.07243724559457707, -0.0975112626819191, 0.08676557146847445, -0.4539563089728269, -0.04988898372405698, 0.4000983054185044, 0.05107880718091442, 0.6555364420561128, 0.4111583020705513, 0.004498028773517018, 0.0785772544253968, -0.07073847221435121, 1.0, 0.5098499479924375, 0.8797728869358523, -0.30030248322249087, 0.2920646744861543, 0.5867664994157304, 0.2608918498435311, 0.19080556268415017, 0.3412289400285508, 0.26340061664849873, 0.21910749075819605, -0.034815216025335514, 0.07243724559457707, 0.5098499479924375, 1.0, 0.4811772543854728, -0.07796120539433701, 0.3215789619746854, 0.4680231740209502, 0.3460773314382691, 0.03946644428124072, 0.6653776557661001, 0.35930695536956037, 0.09942051005052363, 0.3130821392515608, -0.0975112626819191, 0.8797728869358523, 0.4811772543854728, 1.0, -0.19491154773966982, 0.08374758755390356, 0.5916477007435087, 0.2167639481953616, 0.18212312069799358, 0.2117718446265664, 0.2110564857225066, 0.06249800604317841, 0.059525910591474704, 0.08676557146847445, -0.30030248322249087, -0.07796120539433701, -0.19491154773966982, 1.0, 0.1628125320746741, 0.3796781415077641, 0.1255123088288935, -0.11270220516615054, 0.43916517564529944, 0.1391966333939208, 0.23830436407057398, -0.48006102699952635, -0.4539563089728269, 0.2920646744861543, 0.3215789619746854, 0.08374758755390356, 0.1628125320746741, 1.0, 0.5068525890640997, 0.6222039627420535, 0.14271291520969379, 0.8546649546129026, 0.6315448481650536, 0.43006785036381157, -0.07386468204258793, -0.04988898372405698, 0.5867664994157304, 0.4680231740209502, 0.5916477007435087, 0.3796781415077641, 0.5068525890640997, 1.0], \"colorbar\": {\"title\": {\"text\": \"Correlation\"}}, \"colorscale\": [[0.0, \"rgb(5,48,97)\"], [0.1, \"rgb(33,102,172)\"], [0.2, \"rgb(67,147,195)\"], [0.3, \"rgb(146,197,222)\"], [0.4, \"rgb(209,229,240)\"], [0.5, \"rgb(247,247,247)\"], [0.6, \"rgb(253,219,199)\"], [0.7, \"rgb(244,165,130)\"], [0.8, \"rgb(214,96,77)\"], [0.9, \"rgb(178,24,43)\"], [1.0, \"rgb(103,0,31)\"]], \"size\": [46.0, 8.835020111125333, 29.23180877548997, 45.95168188006858, 8.58487660090923, 11.936293104817073, 15.913000427329397, 18.404522049251202, 12.00102509280243, 15.919557246160377, 9.971141616986634, 5.773566206129101, 28.62138228613446, 8.835020111125333, 46.0, 7.783055076350236, 7.000516103574336, 22.90897553236719, 10.931952756242701, 34.682272505625704, 2.3496251303220634, 8.777055883470908, 1.8154564369370731, 8.377663552107705, 5.184301437642925, 6.564794099645914, 29.23180877548997, 7.783055076350236, 46.0, 29.660696292263694, 14.354147385967947, 2.3690453878789035, 5.480756908035293, 30.15467633458119, 15.696531241313338, 30.607372165240605, 9.741504852822054, 20.201598079683773, 39.31458791219352, 45.95168188006858, 7.000516103574336, 29.660696292263694, 46.0, 9.994201280916451, 12.180429582663457, 14.107867740945522, 18.913281895245362, 12.116428365830942, 16.528119946999777, 9.708598343235304, 6.403045136120356, 29.05106301559247, 8.58487660090923, 22.90897553236719, 14.354147385967947, 9.994201280916451, 46.0, 10.290784879555794, 22.152377440596194, 0.20690932358178282, 10.078944574877019, 4.573343462324087, 2.8749082779862065, 10.962000747246403, 19.78312111673533, 11.936293104817073, 10.931952756242701, 2.3690453878789035, 12.180429582663457, 10.290784879555794, 46.0, 1.9385859070537153, 3.614553703568253, 1.6014999371654337, 14.401778405571797, 2.7381918872078366, 22.082807241978212, 3.397775373959045, 15.913000427329397, 34.682272505625704, 5.480756908035293, 14.107867740945522, 22.152377440596194, 1.9385859070537153, 46.0, 3.2539697218601558, 3.332113297350545, 4.485518083368279, 3.991216287549825, 20.881990212750036, 2.294893251306621, 18.404522049251202, 2.3496251303220634, 30.15467633458119, 18.913281895245362, 0.20690932358178282, 3.614553703568253, 3.2539697218601558, 46.0, 23.453097607652126, 40.469552799049204, 13.81391422823458, 13.434975026363098, 26.9912589731236, 12.00102509280243, 8.777055883470908, 15.696531241313338, 12.116428365830942, 10.078944574877019, 1.6014999371654337, 3.332113297350545, 23.453097607652126, 46.0, 22.13415370173175, 3.5862154481395025, 14.792632250835528, 21.52906600496371, 15.919557246160377, 1.8154564369370731, 30.607372165240605, 16.528119946999777, 4.573343462324087, 14.401778405571797, 4.485518083368279, 40.469552799049204, 22.13415370173175, 46.0, 8.965931196024812, 3.8523890274795636, 27.2157942342014, 9.971141616986634, 8.377663552107705, 9.741504852822054, 9.708598343235304, 2.8749082779862065, 2.7381918872078366, 3.991216287549825, 13.81391422823458, 3.5862154481395025, 8.965931196024812, 46.0, 7.489376475435009, 17.465194509357147, 5.773566206129101, 5.184301437642925, 20.201598079683773, 6.403045136120356, 10.962000747246403, 22.082807241978212, 20.881990212750036, 13.434975026363098, 14.792632250835528, 3.8523890274795636, 7.489376475435009, 46.0, 23.315219096948585, 28.62138228613446, 6.564794099645914, 39.31458791219352, 29.05106301559247, 19.78312111673533, 3.397775373959045, 2.294893251306621, 26.9912589731236, 21.52906600496371, 27.2157942342014, 17.465194509357147, 23.315219096948585, 46.0]}, \"mode\": \"markers\", \"type\": \"scatter\", \"x\": [[\"1.\", \"1.\", \"1.\", \"1.\", \"1.\", \"1.\", \"1.\", \"1.\", \"1.\", \"1.\", \"1.\", \"1.\", \"1.\", \"1.\", \"1.\", \"1.\", \"1.\", \"1.\", \"1.\", \"1.\", \"1.\", \"1.\", \"1.\", \"1.\", \"1.\", \"1.\", \"1.\", \"1.\", \"1.\", \"1.\", \"1.\", \"1.\", \"1.\", \"1.\", \"1.\", \"1.\", \"1.\", \"1.\", \"1.\", \"1.\", \"1.\", \"1.\", \"1.\", \"1.\", \"1.\", \"1.\", \"1.\", \"1.\", \"1.\", \"1.\", \"1.\", \"1.\", \"2.\", \"2.\", \"2.\", \"2.\", \"2.\", \"2.\", \"2.\", \"2.\", \"2.\", \"2.\", \"2.\", \"2.\", \"2.\", \"2.\", \"2.\", \"2.\", \"2.\", \"2.\", \"2.\", \"2.\", \"2.\", \"2.\", \"2.\", \"2.\", \"2.\", \"2.\", \"2.\", \"2.\", \"2.\", \"2.\", \"2.\", \"2.\", \"2.\", \"2.\", \"2.\", \"2.\", \"2.\", \"2.\", \"2.\", \"3.\", \"3.\", \"3.\", \"3.\", \"3.\", \"3.\", \"3.\", \"3.\", \"3.\", \"3.\", \"3.\", \"3.\", \"3.\", \"3.\", \"3.\", \"3.\", \"3.\", \"3.\", \"3.\", \"3.\", \"3.\", \"3.\", \"3.\", \"3.\", \"3.\", \"3.\", \"3.\", \"3.\", \"3.\", \"3.\", \"3.\", \"3.\", \"3.\", \"3.\", \"3.\", \"3.\", \"3.\", \"3.\", \"3.\", \"3.\", \"3.\", \"3.\", \"3.\", \"3.\", \"3.\", \"3.\", \"3.\", \"3.\", \"3.\", \"3.\", \"3.\", \"3.\", \"3.\", \"3.\", \"3.\", \"3.\", \"3.\", \"3.\", \"3.\", \"3.\", \"3.\", \"3.\", \"3.\", \"3.\", \"3.\", \"3.\", \"3.\", \"3.\", \"3.\", \"3.\", \"3.\", \"3.\", \"3.\", \"3.\", \"3.\", \"3.\", \"3.\", \"3.\"], [\"Tot Cases/1M pop\", \"Tot Cases/1M pop\", \"Tot Cases/1M pop\", \"Tot Cases/1M pop\", \"Tot Cases/1M pop\", \"Tot Cases/1M pop\", \"Tot Cases/1M pop\", \"Tot Cases/1M pop\", \"Tot Cases/1M pop\", \"Tot Cases/1M pop\", \"Tot Cases/1M pop\", \"Tot Cases/1M pop\", \"Tot Cases/1M pop\", \"Deaths/1M pop\", \"Deaths/1M pop\", \"Deaths/1M pop\", \"Deaths/1M pop\", \"Deaths/1M pop\", \"Deaths/1M pop\", \"Deaths/1M pop\", \"Deaths/1M pop\", \"Deaths/1M pop\", \"Deaths/1M pop\", \"Deaths/1M pop\", \"Deaths/1M pop\", \"Deaths/1M pop\", \"Tests/1M pop\", \"Tests/1M pop\", \"Tests/1M pop\", \"Tests/1M pop\", \"Tests/1M pop\", \"Tests/1M pop\", \"Tests/1M pop\", \"Tests/1M pop\", \"Tests/1M pop\", \"Tests/1M pop\", \"Tests/1M pop\", \"Tests/1M pop\", \"Tests/1M pop\", \"Recovered/1M pop\", \"Recovered/1M pop\", \"Recovered/1M pop\", \"Recovered/1M pop\", \"Recovered/1M pop\", \"Recovered/1M pop\", \"Recovered/1M pop\", \"Recovered/1M pop\", \"Recovered/1M pop\", \"Recovered/1M pop\", \"Recovered/1M pop\", \"Recovered/1M pop\", \"Recovered/1M pop\", \"Recovered/1M cases\", \"Recovered/1M cases\", \"Recovered/1M cases\", \"Recovered/1M cases\", \"Recovered/1M cases\", \"Recovered/1M cases\", \"Recovered/1M cases\", \"Recovered/1M cases\", \"Recovered/1M cases\", \"Recovered/1M cases\", \"Recovered/1M cases\", \"Recovered/1M cases\", \"Recovered/1M cases\", \"Deaths/1M cases\", \"Deaths/1M cases\", \"Deaths/1M cases\", \"Deaths/1M cases\", \"Deaths/1M cases\", \"Deaths/1M cases\", \"Deaths/1M cases\", \"Deaths/1M cases\", \"Deaths/1M cases\", \"Deaths/1M cases\", \"Deaths/1M cases\", \"Deaths/1M cases\", \"Deaths/1M cases\", \"Confirmed/1M tests\", \"Confirmed/1M tests\", \"Confirmed/1M tests\", \"Confirmed/1M tests\", \"Confirmed/1M tests\", \"Confirmed/1M tests\", \"Confirmed/1M tests\", \"Confirmed/1M tests\", \"Confirmed/1M tests\", \"Confirmed/1M tests\", \"Confirmed/1M tests\", \"Confirmed/1M tests\", \"Confirmed/1M tests\", \"GDP\", \"GDP\", \"GDP\", \"GDP\", \"GDP\", \"GDP\", \"GDP\", \"GDP\", \"GDP\", \"GDP\", \"GDP\", \"GDP\", \"GDP\", \"Family\", \"Family\", \"Family\", \"Family\", \"Family\", \"Family\", \"Family\", \"Family\", \"Family\", \"Family\", \"Family\", \"Family\", \"Family\", \"Life expectancy\", \"Life expectancy\", \"Life expectancy\", \"Life expectancy\", \"Life expectancy\", \"Life expectancy\", \"Life expectancy\", \"Life expectancy\", \"Life expectancy\", \"Life expectancy\", \"Life expectancy\", \"Life expectancy\", \"Life expectancy\", \"Freedom\", \"Freedom\", \"Freedom\", \"Freedom\", \"Freedom\", \"Freedom\", \"Freedom\", \"Freedom\", \"Freedom\", \"Freedom\", \"Freedom\", \"Freedom\", \"Freedom\", \"Generosity\", \"Generosity\", \"Generosity\", \"Generosity\", \"Generosity\", \"Generosity\", \"Generosity\", \"Generosity\", \"Generosity\", \"Generosity\", \"Generosity\", \"Generosity\", \"Generosity\", \"Trust\", \"Trust\", \"Trust\", \"Trust\", \"Trust\", \"Trust\", \"Trust\", \"Trust\", \"Trust\", \"Trust\", \"Trust\", \"Trust\", \"Trust\"]], \"y\": [[\"1.\", \"1.\", \"1.\", \"1.\", \"2.\", \"2.\", \"2.\", \"3.\", \"3.\", \"3.\", \"3.\", \"3.\", \"3.\", \"1.\", \"1.\", \"1.\", \"1.\", \"2.\", \"2.\", \"2.\", \"3.\", \"3.\", \"3.\", \"3.\", \"3.\", \"3.\", \"1.\", \"1.\", \"1.\", \"1.\", \"2.\", \"2.\", \"2.\", \"3.\", \"3.\", \"3.\", \"3.\", \"3.\", \"3.\", \"1.\", \"1.\", \"1.\", \"1.\", \"2.\", \"2.\", \"2.\", \"3.\", \"3.\", \"3.\", \"3.\", \"3.\", \"3.\", \"1.\", \"1.\", \"1.\", \"1.\", \"2.\", \"2.\", \"2.\", \"3.\", \"3.\", \"3.\", \"3.\", \"3.\", \"3.\", \"1.\", \"1.\", \"1.\", \"1.\", \"2.\", \"2.\", \"2.\", \"3.\", \"3.\", \"3.\", \"3.\", \"3.\", \"3.\", \"1.\", \"1.\", \"1.\", \"1.\", \"2.\", \"2.\", \"2.\", \"3.\", \"3.\", \"3.\", \"3.\", \"3.\", \"3.\", \"1.\", \"1.\", \"1.\", \"1.\", \"2.\", \"2.\", \"2.\", \"3.\", \"3.\", \"3.\", \"3.\", \"3.\", \"3.\", \"1.\", \"1.\", \"1.\", \"1.\", \"2.\", \"2.\", \"2.\", \"3.\", \"3.\", \"3.\", \"3.\", \"3.\", \"3.\", \"1.\", \"1.\", \"1.\", \"1.\", \"2.\", \"2.\", \"2.\", \"3.\", \"3.\", \"3.\", \"3.\", \"3.\", \"3.\", \"1.\", \"1.\", \"1.\", \"1.\", \"2.\", \"2.\", \"2.\", \"3.\", \"3.\", \"3.\", \"3.\", \"3.\", \"3.\", \"1.\", \"1.\", \"1.\", \"1.\", \"2.\", \"2.\", \"2.\", \"3.\", \"3.\", \"3.\", \"3.\", \"3.\", \"3.\", \"1.\", \"1.\", \"1.\", \"1.\", \"2.\", \"2.\", \"2.\", \"3.\", \"3.\", \"3.\", \"3.\", \"3.\", \"3.\"], [\"Tot Cases/1M pop\", \"Deaths/1M pop\", \"Tests/1M pop\", \"Recovered/1M pop\", \"Recovered/1M cases\", \"Deaths/1M cases\", \"Confirmed/1M tests\", \"GDP\", \"Family\", \"Life expectancy\", \"Freedom\", \"Generosity\", \"Trust\", \"Tot Cases/1M pop\", \"Deaths/1M pop\", \"Tests/1M pop\", \"Recovered/1M pop\", \"Recovered/1M cases\", \"Deaths/1M cases\", \"Confirmed/1M tests\", \"GDP\", \"Family\", \"Life expectancy\", \"Freedom\", \"Generosity\", \"Trust\", \"Tot Cases/1M pop\", \"Deaths/1M pop\", \"Tests/1M pop\", \"Recovered/1M pop\", \"Recovered/1M cases\", \"Deaths/1M cases\", \"Confirmed/1M tests\", \"GDP\", \"Family\", \"Life expectancy\", \"Freedom\", \"Generosity\", \"Trust\", \"Tot Cases/1M pop\", \"Deaths/1M pop\", \"Tests/1M pop\", \"Recovered/1M pop\", \"Recovered/1M cases\", \"Deaths/1M cases\", \"Confirmed/1M tests\", \"GDP\", \"Family\", \"Life expectancy\", \"Freedom\", \"Generosity\", \"Trust\", \"Tot Cases/1M pop\", \"Deaths/1M pop\", \"Tests/1M pop\", \"Recovered/1M pop\", \"Recovered/1M cases\", \"Deaths/1M cases\", \"Confirmed/1M tests\", \"GDP\", \"Family\", \"Life expectancy\", \"Freedom\", \"Generosity\", \"Trust\", \"Tot Cases/1M pop\", \"Deaths/1M pop\", \"Tests/1M pop\", \"Recovered/1M pop\", \"Recovered/1M cases\", \"Deaths/1M cases\", \"Confirmed/1M tests\", \"GDP\", \"Family\", \"Life expectancy\", \"Freedom\", \"Generosity\", \"Trust\", \"Tot Cases/1M pop\", \"Deaths/1M pop\", \"Tests/1M pop\", \"Recovered/1M pop\", \"Recovered/1M cases\", \"Deaths/1M cases\", \"Confirmed/1M tests\", \"GDP\", \"Family\", \"Life expectancy\", \"Freedom\", \"Generosity\", \"Trust\", \"Tot Cases/1M pop\", \"Deaths/1M pop\", \"Tests/1M pop\", \"Recovered/1M pop\", \"Recovered/1M cases\", \"Deaths/1M cases\", \"Confirmed/1M tests\", \"GDP\", \"Family\", \"Life expectancy\", \"Freedom\", \"Generosity\", \"Trust\", \"Tot Cases/1M pop\", \"Deaths/1M pop\", \"Tests/1M pop\", \"Recovered/1M pop\", \"Recovered/1M cases\", \"Deaths/1M cases\", \"Confirmed/1M tests\", \"GDP\", \"Family\", \"Life expectancy\", \"Freedom\", \"Generosity\", \"Trust\", \"Tot Cases/1M pop\", \"Deaths/1M pop\", \"Tests/1M pop\", \"Recovered/1M pop\", \"Recovered/1M cases\", \"Deaths/1M cases\", \"Confirmed/1M tests\", \"GDP\", \"Family\", \"Life expectancy\", \"Freedom\", \"Generosity\", \"Trust\", \"Tot Cases/1M pop\", \"Deaths/1M pop\", \"Tests/1M pop\", \"Recovered/1M pop\", \"Recovered/1M cases\", \"Deaths/1M cases\", \"Confirmed/1M tests\", \"GDP\", \"Family\", \"Life expectancy\", \"Freedom\", \"Generosity\", \"Trust\", \"Tot Cases/1M pop\", \"Deaths/1M pop\", \"Tests/1M pop\", \"Recovered/1M pop\", \"Recovered/1M cases\", \"Deaths/1M cases\", \"Confirmed/1M tests\", \"GDP\", \"Family\", \"Life expectancy\", \"Freedom\", \"Generosity\", \"Trust\", \"Tot Cases/1M pop\", \"Deaths/1M pop\", \"Tests/1M pop\", \"Recovered/1M pop\", \"Recovered/1M cases\", \"Deaths/1M cases\", \"Confirmed/1M tests\", \"GDP\", \"Family\", \"Life expectancy\", \"Freedom\", \"Generosity\", \"Trust\"]]}],\n",
       "                        {\"font\": {\"size\": 15}, \"height\": 885, \"template\": {\"data\": {\"bar\": [{\"error_x\": {\"color\": \"#2a3f5f\"}, \"error_y\": {\"color\": \"#2a3f5f\"}, \"marker\": {\"line\": {\"color\": \"#E5ECF6\", \"width\": 0.5}}, \"type\": \"bar\"}], \"barpolar\": [{\"marker\": {\"line\": {\"color\": \"#E5ECF6\", \"width\": 0.5}}, \"type\": \"barpolar\"}], \"carpet\": [{\"aaxis\": {\"endlinecolor\": \"#2a3f5f\", \"gridcolor\": \"white\", \"linecolor\": \"white\", \"minorgridcolor\": \"white\", \"startlinecolor\": \"#2a3f5f\"}, \"baxis\": {\"endlinecolor\": \"#2a3f5f\", \"gridcolor\": \"white\", \"linecolor\": \"white\", \"minorgridcolor\": \"white\", \"startlinecolor\": \"#2a3f5f\"}, \"type\": \"carpet\"}], \"choropleth\": [{\"colorbar\": {\"outlinewidth\": 0, \"ticks\": \"\"}, \"type\": \"choropleth\"}], \"contour\": [{\"colorbar\": {\"outlinewidth\": 0, \"ticks\": \"\"}, \"colorscale\": [[0.0, \"#0d0887\"], [0.1111111111111111, \"#46039f\"], [0.2222222222222222, \"#7201a8\"], [0.3333333333333333, \"#9c179e\"], [0.4444444444444444, \"#bd3786\"], [0.5555555555555556, \"#d8576b\"], [0.6666666666666666, \"#ed7953\"], [0.7777777777777778, \"#fb9f3a\"], [0.8888888888888888, \"#fdca26\"], [1.0, \"#f0f921\"]], \"type\": \"contour\"}], \"contourcarpet\": [{\"colorbar\": {\"outlinewidth\": 0, \"ticks\": \"\"}, \"type\": \"contourcarpet\"}], \"heatmap\": [{\"colorbar\": {\"outlinewidth\": 0, \"ticks\": \"\"}, \"colorscale\": [[0.0, \"#0d0887\"], [0.1111111111111111, \"#46039f\"], [0.2222222222222222, \"#7201a8\"], [0.3333333333333333, \"#9c179e\"], [0.4444444444444444, \"#bd3786\"], [0.5555555555555556, \"#d8576b\"], [0.6666666666666666, \"#ed7953\"], [0.7777777777777778, \"#fb9f3a\"], [0.8888888888888888, \"#fdca26\"], [1.0, \"#f0f921\"]], \"type\": \"heatmap\"}], \"heatmapgl\": [{\"colorbar\": {\"outlinewidth\": 0, \"ticks\": \"\"}, \"colorscale\": [[0.0, \"#0d0887\"], [0.1111111111111111, \"#46039f\"], [0.2222222222222222, \"#7201a8\"], [0.3333333333333333, \"#9c179e\"], [0.4444444444444444, \"#bd3786\"], [0.5555555555555556, \"#d8576b\"], [0.6666666666666666, \"#ed7953\"], [0.7777777777777778, \"#fb9f3a\"], [0.8888888888888888, \"#fdca26\"], [1.0, \"#f0f921\"]], \"type\": \"heatmapgl\"}], \"histogram\": [{\"marker\": {\"colorbar\": {\"outlinewidth\": 0, \"ticks\": \"\"}}, \"type\": \"histogram\"}], \"histogram2d\": [{\"colorbar\": {\"outlinewidth\": 0, \"ticks\": \"\"}, \"colorscale\": [[0.0, \"#0d0887\"], [0.1111111111111111, \"#46039f\"], [0.2222222222222222, \"#7201a8\"], [0.3333333333333333, \"#9c179e\"], [0.4444444444444444, \"#bd3786\"], [0.5555555555555556, \"#d8576b\"], [0.6666666666666666, \"#ed7953\"], [0.7777777777777778, \"#fb9f3a\"], [0.8888888888888888, \"#fdca26\"], [1.0, \"#f0f921\"]], \"type\": \"histogram2d\"}], \"histogram2dcontour\": [{\"colorbar\": {\"outlinewidth\": 0, \"ticks\": \"\"}, \"colorscale\": [[0.0, \"#0d0887\"], [0.1111111111111111, \"#46039f\"], [0.2222222222222222, \"#7201a8\"], [0.3333333333333333, \"#9c179e\"], [0.4444444444444444, \"#bd3786\"], [0.5555555555555556, \"#d8576b\"], [0.6666666666666666, \"#ed7953\"], [0.7777777777777778, \"#fb9f3a\"], [0.8888888888888888, \"#fdca26\"], [1.0, \"#f0f921\"]], \"type\": \"histogram2dcontour\"}], \"mesh3d\": [{\"colorbar\": {\"outlinewidth\": 0, \"ticks\": \"\"}, \"type\": \"mesh3d\"}], \"parcoords\": [{\"line\": {\"colorbar\": {\"outlinewidth\": 0, \"ticks\": \"\"}}, \"type\": \"parcoords\"}], \"pie\": [{\"automargin\": true, \"type\": \"pie\"}], \"scatter\": [{\"marker\": {\"colorbar\": {\"outlinewidth\": 0, \"ticks\": \"\"}}, \"type\": \"scatter\"}], \"scatter3d\": [{\"line\": {\"colorbar\": {\"outlinewidth\": 0, \"ticks\": \"\"}}, \"marker\": {\"colorbar\": {\"outlinewidth\": 0, \"ticks\": \"\"}}, \"type\": \"scatter3d\"}], \"scattercarpet\": [{\"marker\": {\"colorbar\": {\"outlinewidth\": 0, \"ticks\": \"\"}}, \"type\": \"scattercarpet\"}], \"scattergeo\": [{\"marker\": {\"colorbar\": {\"outlinewidth\": 0, \"ticks\": \"\"}}, \"type\": \"scattergeo\"}], \"scattergl\": [{\"marker\": {\"colorbar\": {\"outlinewidth\": 0, \"ticks\": \"\"}}, \"type\": \"scattergl\"}], \"scattermapbox\": [{\"marker\": {\"colorbar\": {\"outlinewidth\": 0, \"ticks\": \"\"}}, \"type\": \"scattermapbox\"}], \"scatterpolar\": [{\"marker\": {\"colorbar\": {\"outlinewidth\": 0, \"ticks\": \"\"}}, \"type\": \"scatterpolar\"}], \"scatterpolargl\": [{\"marker\": {\"colorbar\": {\"outlinewidth\": 0, \"ticks\": \"\"}}, \"type\": \"scatterpolargl\"}], \"scatterternary\": [{\"marker\": {\"colorbar\": {\"outlinewidth\": 0, \"ticks\": \"\"}}, \"type\": \"scatterternary\"}], \"surface\": [{\"colorbar\": {\"outlinewidth\": 0, \"ticks\": \"\"}, \"colorscale\": [[0.0, \"#0d0887\"], [0.1111111111111111, \"#46039f\"], [0.2222222222222222, \"#7201a8\"], [0.3333333333333333, \"#9c179e\"], [0.4444444444444444, \"#bd3786\"], [0.5555555555555556, \"#d8576b\"], [0.6666666666666666, \"#ed7953\"], [0.7777777777777778, \"#fb9f3a\"], [0.8888888888888888, \"#fdca26\"], [1.0, \"#f0f921\"]], \"type\": \"surface\"}], \"table\": [{\"cells\": {\"fill\": {\"color\": \"#EBF0F8\"}, \"line\": {\"color\": \"white\"}}, \"header\": {\"fill\": {\"color\": \"#C8D4E3\"}, \"line\": {\"color\": \"white\"}}, \"type\": \"table\"}]}, \"layout\": {\"annotationdefaults\": {\"arrowcolor\": \"#2a3f5f\", \"arrowhead\": 0, \"arrowwidth\": 1}, \"coloraxis\": {\"colorbar\": {\"outlinewidth\": 0, \"ticks\": \"\"}}, \"colorscale\": {\"diverging\": [[0, \"#8e0152\"], [0.1, \"#c51b7d\"], [0.2, \"#de77ae\"], [0.3, \"#f1b6da\"], [0.4, \"#fde0ef\"], [0.5, \"#f7f7f7\"], [0.6, \"#e6f5d0\"], [0.7, \"#b8e186\"], [0.8, \"#7fbc41\"], [0.9, \"#4d9221\"], [1, \"#276419\"]], \"sequential\": [[0.0, \"#0d0887\"], [0.1111111111111111, \"#46039f\"], [0.2222222222222222, \"#7201a8\"], [0.3333333333333333, \"#9c179e\"], [0.4444444444444444, \"#bd3786\"], [0.5555555555555556, \"#d8576b\"], [0.6666666666666666, \"#ed7953\"], [0.7777777777777778, \"#fb9f3a\"], [0.8888888888888888, \"#fdca26\"], [1.0, \"#f0f921\"]], \"sequentialminus\": [[0.0, \"#0d0887\"], [0.1111111111111111, \"#46039f\"], [0.2222222222222222, \"#7201a8\"], [0.3333333333333333, \"#9c179e\"], [0.4444444444444444, \"#bd3786\"], [0.5555555555555556, \"#d8576b\"], [0.6666666666666666, \"#ed7953\"], [0.7777777777777778, \"#fb9f3a\"], [0.8888888888888888, \"#fdca26\"], [1.0, \"#f0f921\"]]}, \"colorway\": [\"#636efa\", \"#EF553B\", \"#00cc96\", \"#ab63fa\", \"#FFA15A\", \"#19d3f3\", \"#FF6692\", \"#B6E880\", \"#FF97FF\", \"#FECB52\"], \"font\": {\"color\": \"#2a3f5f\"}, \"geo\": {\"bgcolor\": \"white\", \"lakecolor\": \"white\", \"landcolor\": \"#E5ECF6\", \"showlakes\": true, \"showland\": true, \"subunitcolor\": \"white\"}, \"hoverlabel\": {\"align\": \"left\"}, \"hovermode\": \"closest\", \"mapbox\": {\"style\": \"light\"}, \"paper_bgcolor\": \"white\", \"plot_bgcolor\": \"#E5ECF6\", \"polar\": {\"angularaxis\": {\"gridcolor\": \"white\", \"linecolor\": \"white\", \"ticks\": \"\"}, \"bgcolor\": \"#E5ECF6\", \"radialaxis\": {\"gridcolor\": \"white\", \"linecolor\": \"white\", \"ticks\": \"\"}}, \"scene\": {\"xaxis\": {\"backgroundcolor\": \"#E5ECF6\", \"gridcolor\": \"white\", \"gridwidth\": 2, \"linecolor\": \"white\", \"showbackground\": true, \"ticks\": \"\", \"zerolinecolor\": \"white\"}, \"yaxis\": {\"backgroundcolor\": \"#E5ECF6\", \"gridcolor\": \"white\", \"gridwidth\": 2, \"linecolor\": \"white\", \"showbackground\": true, \"ticks\": \"\", \"zerolinecolor\": \"white\"}, \"zaxis\": {\"backgroundcolor\": \"#E5ECF6\", \"gridcolor\": \"white\", \"gridwidth\": 2, \"linecolor\": \"white\", \"showbackground\": true, \"ticks\": \"\", \"zerolinecolor\": \"white\"}}, \"shapedefaults\": {\"line\": {\"color\": \"#2a3f5f\"}}, \"ternary\": {\"aaxis\": {\"gridcolor\": \"white\", \"linecolor\": \"white\", \"ticks\": \"\"}, \"baxis\": {\"gridcolor\": \"white\", \"linecolor\": \"white\", \"ticks\": \"\"}, \"bgcolor\": \"#E5ECF6\", \"caxis\": {\"gridcolor\": \"white\", \"linecolor\": \"white\", \"ticks\": \"\"}}, \"title\": {\"x\": 0.05}, \"xaxis\": {\"automargin\": true, \"gridcolor\": \"white\", \"linecolor\": \"white\", \"ticks\": \"\", \"title\": {\"standoff\": 15}, \"zerolinecolor\": \"white\", \"zerolinewidth\": 2}, \"yaxis\": {\"automargin\": true, \"gridcolor\": \"white\", \"linecolor\": \"white\", \"ticks\": \"\", \"title\": {\"standoff\": 15}, \"zerolinecolor\": \"white\", \"zerolinewidth\": 2}}}, \"title\": {\"text\": \"Western Pacific: 14 countries\"}, \"width\": 885, \"xaxis\": {\"range\": [0.5, 12.5], \"showgrid\": true, \"ticklen\": 0, \"ticks\": \"outside\", \"tickson\": \"boundaries\"}, \"yaxis\": {\"range\": [0.5, 12.5], \"showgrid\": true, \"ticklen\": 0, \"ticks\": \"outside\", \"tickson\": \"boundaries\"}},\n",
       "                        {\"responsive\": true}\n",
       "                    ).then(function(){\n",
       "                            \n",
       "var gd = document.getElementById('55ce5b67-8eac-46c7-92f3-97d6a1c6eb6e');\n",
       "var x = new MutationObserver(function (mutations, observer) {{\n",
       "        var display = window.getComputedStyle(gd).display;\n",
       "        if (!display || display === 'none') {{\n",
       "            console.log([gd, 'removed!']);\n",
       "            Plotly.purge(gd);\n",
       "            observer.disconnect();\n",
       "        }}\n",
       "}});\n",
       "\n",
       "// Listen for the removal of the full notebook cells\n",
       "var notebookContainer = gd.closest('#notebook-container');\n",
       "if (notebookContainer) {{\n",
       "    x.observe(notebookContainer, {childList: true});\n",
       "}}\n",
       "\n",
       "// Listen for the clearing of the current output cell\n",
       "var outputEl = gd.closest('.output');\n",
       "if (outputEl) {{\n",
       "    x.observe(outputEl, {childList: true});\n",
       "}}\n",
       "\n",
       "                        })\n",
       "                };\n",
       "                });\n",
       "            </script>\n",
       "        </div>"
      ]
     },
     "metadata": {},
     "output_type": "display_data"
    }
   ],
   "source": [
    "for region in for_correlo[\"WHO Region\"].unique():\n",
    "    regional = for_correlo[for_correlo[\"WHO Region\"].isin([region])]\n",
    "    fig = correlo(regional, to_use, 46, \"RdBu_r\", region + \": \"+str(regional.shape[0])+ \" countries\", \n",
    "                  height=885, width= 885, fontsize=15, var_palette=var_palette)\n",
    "    fig.show()"
   ]
  },
  {
   "cell_type": "markdown",
   "metadata": {},
   "source": [
    "# Analyse the score influence on the pandemic progress"
   ]
  },
  {
   "cell_type": "code",
   "execution_count": null,
   "metadata": {
    "code_folding": [
     0
    ]
   },
   "outputs": [],
   "source": [
    "def basic_violins(df, plot_col, val, title, info, height=500, width=985, to_sort=True,\n",
    "                  palette=px.colors.qualitative.Plotly):\n",
    "    regions = df[plot_col].unique()\n",
    "    j = 0\n",
    "    for_sort = []\n",
    "    data = []\n",
    "    q = []\n",
    "    fig = go.Figure()\n",
    "    for region in regions:\n",
    "        x = df[plot_col][(df[plot_col] == region)]\n",
    "        y = df[val][(df[plot_col] == region)]\n",
    "        quantity = x.shape[0]\n",
    "        if quantity > 2:\n",
    "            for_sort.append(y.median())\n",
    "            data.append(go.Violin(x=x,\n",
    "                                  text=df[info][(df[plot_col] == region)],\n",
    "                                  y=y,\n",
    "                                  name=region,\n",
    "                                  marker=dict(color=palette[j]),\n",
    "                                  box_visible=True,\n",
    "                                  meanline_visible=True\n",
    "                                  ))\n",
    "        q.append(region + \":<br>\" + str(quantity))\n",
    "        j += 1\n",
    "    if not to_sort:\n",
    "        for trace in range(len(data)):\n",
    "            fig.add_trace(data[trace])\n",
    "    else:\n",
    "        for trace in range(len(data)):\n",
    "            indices = np.argsort(for_sort)\n",
    "            fig.add_trace(data[indices[trace]])\n",
    "    fig.update_xaxes(ticktext=q, tickvals=regions, title=plot_col)\n",
    "    fig.update_yaxes(title=val)\n",
    "    fig.update_layout(height=height, width=width, title_text=title)\n",
    "    return fig\n"
   ]
  },
  {
   "cell_type": "markdown",
   "metadata": {},
   "source": [
    "# Focus on significant correlations"
   ]
  },
  {
   "cell_type": "code",
   "execution_count": null,
   "metadata": {},
   "outputs": [],
   "source": []
  }
 ],
 "metadata": {
  "kernelspec": {
   "display_name": "Python 3",
   "language": "python",
   "name": "python3"
  },
  "language_info": {
   "codemirror_mode": {
    "name": "ipython",
    "version": 3
   },
   "file_extension": ".py",
   "mimetype": "text/x-python",
   "name": "python",
   "nbconvert_exporter": "python",
   "pygments_lexer": "ipython3",
   "version": "3.7.7"
  },
  "toc": {
   "base_numbering": 1,
   "nav_menu": {},
   "number_sections": true,
   "sideBar": true,
   "skip_h1_title": false,
   "title_cell": "Table of Contents",
   "title_sidebar": "Contents",
   "toc_cell": true,
   "toc_position": {},
   "toc_section_display": true,
   "toc_window_display": true
  }
 },
 "nbformat": 4,
 "nbformat_minor": 4
}
